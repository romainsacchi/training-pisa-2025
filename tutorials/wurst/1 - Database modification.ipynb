{
 "cells": [
  {
   "cell_type": "markdown",
   "id": "3451dd88",
   "metadata": {},
   "source": [
    "<div>\n",
    "    <table>\n",
    "        <tr>\n",
    "            <td>\n",
    "                <center>\n",
    "                    <h1>Wurst Introduction</h1>\n",
    "                     <a href=\"https://www.psi.ch/en/ta/people/romain-sacchi\">Romain Sacchi</a> (PSI)\n",
    "                    <br><br>\n",
    "                    Duration: 1 hour 15 minutes.\n",
    "                </center>\n",
    "            </td>\n",
    "        </tr>\n",
    "    </div>\n",
    "\n",
    "Github repository: [https://github.com/polca/wurst](https://github.com/polca/wurst)\n",
    "\n",
    "Documentation: [https://wurst.readthedocs.io/](https://wurst.readthedocs.io/)\n",
    "\n",
    "Wurst authors: Chris Mutel, Brian Cox\n",
    "\n",
    "<div class=\"alert alert-info\">\n",
    "Note: we will be using <a href=\"https://docs.brightway.dev/en/legacy/\">Brightway 2</a>, not <a href=\"https://docs.brightway.dev/en/latest/content/installation/index.html\">Brightway 2.5</a>. From the user end side, very little differ between the two. The code executed throughout this notebook works with both versions.\n",
    "</div>\n"
   ]
  },
  {
   "cell_type": "markdown",
   "id": "5e1b5708-7ae8-4959-bb8c-99e459934ee6",
   "metadata": {},
   "source": [
    "### Scenario: Prospective Assessment of Future Solar PV Technologies\n",
    "\n",
    "#### Background:\n",
    "The Swiss energy agency is keen on understanding the potential future of solar PV technology. \n",
    "With advances in research, there are predictions of enhanced module efficiency, changes in supply chains, \n",
    "and extended lifetimes for PV modules in the next decades.\n",
    "\n",
    "#### Objective:\n",
    "To modify the ecoinvent data to reflect these anticipated changes and evaluate the prospective environmental \n",
    "benefits or potential concerns of these future solar PV technologies."
   ]
  },
  {
   "cell_type": "markdown",
   "id": "275d199a",
   "metadata": {},
   "source": [
    "### 1. Introduction:"
   ]
  },
  {
   "cell_type": "markdown",
   "id": "b69c6b40",
   "metadata": {},
   "source": [
    "`wurst` is a Python library tailored for performing operations Life Cycle Assessment (LCA) data, especially the [ecoinvent](https://ecoinvent.org/) database. It provides tools to search, filter, modify, and link LCA datasets. It is a core library of [`premise`](https://github.com/polca/premise) and is very practical for performing database-wide modifications."
   ]
  },
  {
   "cell_type": "markdown",
   "id": "3fef1684-04a9-4f55-9363-b92fb5f2a7a5",
   "metadata": {},
   "source": [
    "### Data Exploration:\n",
    "\n",
    "1. Load the ecoinvent database.\n",
    "2. Extract all processes related to Swiss solar PV."
   ]
  },
  {
   "cell_type": "markdown",
   "id": "ca24f424",
   "metadata": {},
   "source": [
    "### 2. Import:"
   ]
  },
  {
   "cell_type": "code",
   "execution_count": 1,
   "id": "f28948db-e55c-4da3-b9b0-fa51add5403a",
   "metadata": {
    "tags": []
   },
   "outputs": [],
   "source": [
    "import wurst\n",
    "import wurst.searching as ws\n",
    "import bw2io, bw2data\n",
    "import matplotlib.pyplot as plt\n",
    "import seaborn as sns"
   ]
  },
  {
   "cell_type": "markdown",
   "id": "155488c4-8659-49c6-9e2e-efc233542a20",
   "metadata": {},
   "source": [
    "#### 2.1 activate a project with ecoinvent"
   ]
  },
  {
   "cell_type": "markdown",
   "id": "d7e6edb3-ed3e-4888-98d0-a7c6877a1167",
   "metadata": {},
   "source": [
    "We can re-use our `bw2` project."
   ]
  },
  {
   "cell_type": "code",
   "execution_count": 3,
   "id": "954f0595-3514-46c4-9342-fc0d991549f0",
   "metadata": {},
   "outputs": [
    {
     "data": {
      "text/plain": [
       "[Project: simapro,\n",
       " Project: ecoinvent-3.10-consequential,\n",
       " Project: ecoinvent-3.10-EN15804,\n",
       " Project: ecoinvent-3.8-cutoff,\n",
       " Project: ecoinvent-3.8-consequential,\n",
       " Project: ,\n",
       " Project: ecoinvent-3.7.1-cutoff,\n",
       " Project: ecoinvent-3.9.1-consequential,\n",
       " Project: ecoinvent-3.9.1-cutoff,\n",
       " Project: ecoinvent-3.10-cutoff,\n",
       " Project: bw25_ei310,\n",
       " Project: default,\n",
       " Project: ecoinvent-3.9-cutoff,\n",
       " Project: ecoinvent-3.6-cutoff,\n",
       " Project: ecoinvent-3.5-cutoff,\n",
       " Project: ecoinvent-migration,\n",
       " Project: ecoinvent-3.9.1-cutoff_bw25,\n",
       " Project: ecoinvent-3.11-cutoff,\n",
       " Project: ecoinvent-3.9.11-cutoff,\n",
       " Project: winter-school,\n",
       " Project: test,\n",
       " Project: aligned,\n",
       " Project: aligned_bw25]"
      ]
     },
     "execution_count": 3,
     "metadata": {},
     "output_type": "execute_result"
    }
   ],
   "source": [
    "list(bw2data.projects)"
   ]
  },
  {
   "cell_type": "code",
   "execution_count": 4,
   "id": "51044d66-ce33-4d8b-bf55-f8bceb72a220",
   "metadata": {},
   "outputs": [],
   "source": [
    "bw2data.projects.set_current(\"winter-school\")"
   ]
  },
  {
   "cell_type": "markdown",
   "id": "a90b83d3-80d7-48e4-ac54-c9d7d60d32a6",
   "metadata": {},
   "source": [
    "#### 2.2 list databases"
   ]
  },
  {
   "cell_type": "code",
   "execution_count": 5,
   "id": "5e868c55-4a3d-445f-b0a7-45b88a471dc8",
   "metadata": {
    "tags": []
   },
   "outputs": [
    {
     "data": {
      "text/plain": [
       "Databases dictionary with 14 object(s):\n",
       "\tbiosphere\n",
       "\tcarbon fiber\n",
       "\tecoinvent-3.10-cutoff\n",
       "\tei_cutoff_3.10_remind_SSP2-Base_2020 2025-01-20\n",
       "\tei_cutoff_3.10_remind_SSP2-Base_2020 2025-01-21\n",
       "\tei_cutoff_3.10_remind_SSP2-Base_2035 2025-01-20\n",
       "\tei_cutoff_3.10_remind_SSP2-Base_2035 2025-01-21\n",
       "\tei_cutoff_3.10_remind_SSP2-Base_2050 2025-01-20\n",
       "\tei_cutoff_3.10_remind_SSP2-Base_2050 2025-01-21\n",
       "\tei_cutoff_3.10_remind_SSP2-PkBudg1150_2020 2025-01-20\n",
       "\tei_cutoff_3.10_remind_SSP2-PkBudg1150_2035 2025-01-20\n",
       "\tei_cutoff_3.10_remind_SSP2-PkBudg1150_2050 2025-01-20\n",
       "\tei_cutoff_3.10_remind_SSP2-PkBudg1150_2050 2025-01-21\n",
       "\tei_cutoff_3.10_remind_SSP2-PkBudg500_2050 2025-01-21"
      ]
     },
     "execution_count": 5,
     "metadata": {},
     "output_type": "execute_result"
    }
   ],
   "source": [
    "bw2data.databases"
   ]
  },
  {
   "cell_type": "markdown",
   "id": "17124253",
   "metadata": {},
   "source": [
    "### 3. Extracting Data:"
   ]
  },
  {
   "cell_type": "code",
   "execution_count": 6,
   "id": "d062bc8e",
   "metadata": {
    "tags": []
   },
   "outputs": [
    {
     "name": "stdout",
     "output_type": "stream",
     "text": [
      "Getting activity data\n"
     ]
    },
    {
     "name": "stderr",
     "output_type": "stream",
     "text": [
      "100%|███████████████████████████████████████████████████████████████████| 23523/23523 [00:00<00:00, 143906.12it/s]\n"
     ]
    },
    {
     "name": "stdout",
     "output_type": "stream",
     "text": [
      "Adding exchange data to activities\n"
     ]
    },
    {
     "name": "stderr",
     "output_type": "stream",
     "text": [
      "100%|██████████████████████████████████████████████████████████████████| 743409/743409 [00:19<00:00, 38315.03it/s]\n"
     ]
    },
    {
     "name": "stdout",
     "output_type": "stream",
     "text": [
      "Filling out exchange data\n"
     ]
    },
    {
     "name": "stderr",
     "output_type": "stream",
     "text": [
      "100%|████████████████████████████████████████████████████████████████████| 23523/23523 [00:01<00:00, 17990.20it/s]\n"
     ]
    }
   ],
   "source": [
    "database = wurst.extract_brightway2_databases(\"ecoinvent-3.10-cutoff\")"
   ]
  },
  {
   "cell_type": "code",
   "execution_count": 7,
   "id": "e6249e6e-244c-4e64-8627-37204a131876",
   "metadata": {},
   "outputs": [
    {
     "data": {
      "text/plain": [
       "list"
      ]
     },
     "execution_count": 7,
     "metadata": {},
     "output_type": "execute_result"
    }
   ],
   "source": [
    "type(database)"
   ]
  },
  {
   "cell_type": "code",
   "execution_count": 8,
   "id": "8af50cdf-04ce-4b42-a457-98efc7224220",
   "metadata": {},
   "outputs": [
    {
     "data": {
      "text/plain": [
       "23523"
      ]
     },
     "execution_count": 8,
     "metadata": {},
     "output_type": "execute_result"
    }
   ],
   "source": [
    "len(database)"
   ]
  },
  {
   "cell_type": "code",
   "execution_count": 10,
   "id": "7d011e40-c078-4768-8d9d-db43249cbe51",
   "metadata": {},
   "outputs": [
    {
     "data": {
      "text/plain": [
       "dict"
      ]
     },
     "execution_count": 10,
     "metadata": {},
     "output_type": "execute_result"
    }
   ],
   "source": [
    "type(database[0])"
   ]
  },
  {
   "cell_type": "markdown",
   "id": "eaf67653-e8b8-4153-8669-5c551aea4073",
   "metadata": {},
   "source": [
    "Import additional inventories"
   ]
  },
  {
   "cell_type": "markdown",
   "id": "5e0f6851-f57d-4983-8ec3-6c320d1d541a",
   "metadata": {},
   "source": [
    "#### 3.1 Pickle database\n",
    "Doing so allows us to load directly the database without going through extraction again."
   ]
  },
  {
   "cell_type": "code",
   "execution_count": 11,
   "id": "18cfed51-a86b-46c5-bffe-315521fea094",
   "metadata": {
    "tags": []
   },
   "outputs": [],
   "source": [
    "import pickle\n",
    "\n",
    "with open(r\"ei310.pickle\", \"wb\") as output_file:\n",
    "    pickle.dump(database, output_file)"
   ]
  },
  {
   "cell_type": "markdown",
   "id": "d01fb01a-ded6-4db8-8219-de2e47d28d60",
   "metadata": {},
   "source": [
    "#### 3.2 Load database\n",
    "Create a function that will unpickle our database, to avoid extracting it from the brightway project."
   ]
  },
  {
   "cell_type": "code",
   "execution_count": 12,
   "id": "d00bc09d-9034-461f-b3e2-ebc435b99980",
   "metadata": {
    "tags": []
   },
   "outputs": [],
   "source": [
    "import pickle\n",
    "\n",
    "def load_db():\n",
    "    with open(r\"ei310.pickle\", \"rb\") as input_file:\n",
    "        db = pickle.load(input_file)\n",
    "\n",
    "    for ds in db:\n",
    "        if \"categories\" in ds:\n",
    "            del ds[\"categories\"]\n",
    "            \n",
    "    return db"
   ]
  },
  {
   "cell_type": "code",
   "execution_count": 15,
   "id": "bbdbff97-1311-410d-88ef-2c29d2632a34",
   "metadata": {
    "tags": []
   },
   "outputs": [],
   "source": [
    "db = load_db()"
   ]
  },
  {
   "cell_type": "code",
   "execution_count": 14,
   "id": "c5ab02ea-2ef0-4f98-8b6d-37e369fc547e",
   "metadata": {
    "tags": []
   },
   "outputs": [
    {
     "data": {
      "text/plain": [
       "23523"
      ]
     },
     "execution_count": 14,
     "metadata": {},
     "output_type": "execute_result"
    }
   ],
   "source": [
    "len(db)"
   ]
  },
  {
   "cell_type": "code",
   "execution_count": 16,
   "id": "ccab7c50-f1f7-4fbc-a41e-feee3fc30d43",
   "metadata": {
    "tags": []
   },
   "outputs": [],
   "source": [
    "# we can delete `database` to free up memory\n",
    "del database"
   ]
  },
  {
   "cell_type": "markdown",
   "id": "98cac1c8",
   "metadata": {},
   "source": [
    "### 4. Searching for Processes:"
   ]
  },
  {
   "cell_type": "markdown",
   "id": "050207de-f0c3-4f3c-af93-293b2a70d1a6",
   "metadata": {},
   "source": [
    "Let's search for European solar panels in ecoinvent.\n",
    "\n",
    "Here, we deomnstrate wurst's searching capabilities, with:\n",
    "\n",
    "* `get_many()`: return many datasets that meet the search criteria\n",
    "* `get_one()`: return only one dataset that meet the search criteria"
   ]
  },
  {
   "cell_type": "code",
   "execution_count": null,
   "id": "9926ea7f-148a-487e-8196-5916f25e539c",
   "metadata": {
    "tags": []
   },
   "outputs": [],
   "source": [
    "import wurst.searching as ws"
   ]
  },
  {
   "cell_type": "code",
   "execution_count": 17,
   "id": "1acfeaf8",
   "metadata": {
    "tags": []
   },
   "outputs": [
    {
     "name": "stdout",
     "output_type": "stream",
     "text": [
      "electricity production, photovoltaic, 570kWp open ground installation, multi-Si\n",
      "electricity production, photovoltaic, 3kWp facade installation, single-Si, laminated, integrated\n",
      "electricity production, photovoltaic, 570kWp open ground installation, multi-Si\n",
      "electricity production, photovoltaic, 3kWp slanted-roof installation, single-Si, panel, mounted\n",
      "electricity production, photovoltaic, 3kWp slanted-roof installation, single-Si, laminated, integrated\n",
      "electricity production, photovoltaic, 3kWp slanted-roof installation, multi-Si, panel, mounted\n",
      "electricity production, photovoltaic, 3kWp slanted-roof installation, single-Si, panel, mounted\n",
      "photovoltaic laminate production, CdTe\n",
      "electricity production, photovoltaic, 3kWp slanted-roof installation, single-Si, panel, mounted\n",
      "electricity production, photovoltaic, 3kWp slanted-roof installation, single-Si, panel, mounted\n",
      "photovoltaic cell production, ribbon-Si\n",
      "electricity production, photovoltaic, 3kWp slanted-roof installation, single-Si, panel, mounted\n",
      "market for photovoltaic cell, ribbon-Si\n",
      "electricity production, photovoltaic, 3kWp slanted-roof installation, ribbon-Si, laminated, integrated\n",
      "electricity production, photovoltaic, 3kWp slanted-roof installation, multi-Si, panel, mounted\n",
      "electricity production, photovoltaic, 3kWp slanted-roof installation, multi-Si, panel, mounted\n",
      "electricity production, photovoltaic, 3kWp flat-roof installation, single-Si\n",
      "market for photovoltaic panel, multi-Si wafer\n",
      "electricity production, photovoltaic, 3kWp slanted-roof installation, single-Si, panel, mounted\n",
      "electricity production, photovoltaic, 3kWp slanted-roof installation, multi-Si, panel, mounted\n",
      "market for photovoltaic facade installation, 3kWp, multi-Si, panel, mounted, at building\n",
      "market for photovoltaic module, building-integrated, for facade installation\n",
      "electricity production, photovoltaic, 570kWp open ground installation, multi-Si\n",
      "electricity production, photovoltaic, 3kWp slanted-roof installation, single-Si, panel, mounted\n",
      "electricity production, photovoltaic, 3kWp slanted-roof installation, multi-Si, panel, mounted\n",
      "electricity production, photovoltaic, 3kWp slanted-roof installation, multi-Si, panel, mounted\n",
      "single-Si wafer production, photovoltaic\n",
      "electricity production, photovoltaic, 3kWp slanted-roof installation, multi-Si, panel, mounted\n",
      "silicon production, single crystal, Czochralski process, photovoltaics\n",
      "electricity production, photovoltaic, 3kWp slanted-roof installation, single-Si, panel, mounted\n",
      "photovoltaic facade installation, 3kWp, single-Si, laminated, integrated, at building\n",
      "electricity production, photovoltaic, 3kWp slanted-roof installation, single-Si, panel, mounted\n",
      "photovoltaic slanted-roof installation, 3kWp, a-Si, panel, mounted, on roof\n",
      "electricity production, photovoltaic, 3kWp slanted-roof installation, multi-Si, panel, mounted\n",
      "market for photovoltaic panel, single-Si wafer\n",
      "electricity production, photovoltaic, 3kWp slanted-roof installation, multi-Si, panel, mounted\n",
      "market for photovoltaic laminate, CdTe\n",
      "electricity production, photovoltaic, 3kWp slanted-roof installation, multi-Si, panel, mounted\n",
      "electricity production, photovoltaic, 3kWp slanted-roof installation, single-Si, panel, mounted\n",
      "electricity production, photovoltaic, 3kWp slanted-roof installation, a-Si, laminated, integrated\n",
      "photovoltaic slanted-roof installation, 3kWp, multi-Si, panel, mounted, on roof\n",
      "electricity production, photovoltaic, 570kWp open ground installation, multi-Si\n",
      "photovoltaic flat-roof installation, 3kWp, single-Si, on roof\n",
      "photovoltaic cell production, single-Si wafer\n",
      "photovoltaic mounting system production, for facade installation\n",
      "electricity production, photovoltaic, 3kWp slanted-roof installation, single-Si, panel, mounted\n",
      "market for photovoltaic slanted-roof installation, 3kWp, single-Si, laminated, integrated, on roof\n",
      "electricity production, photovoltaic, 3kWp slanted-roof installation, multi-Si, panel, mounted\n",
      "photovoltaic cell production, multi-Si wafer\n",
      "photovoltaic panel production, CIS\n",
      "market for photovoltaic mounting system, for slanted-roof installation\n",
      "electricity production, photovoltaic, 570kWp open ground installation, multi-Si\n",
      "photovoltaic facade installation, 3kWp, single-Si, panel, mounted, at building\n",
      "electricity production, photovoltaic, 3kWp slanted-roof installation, single-Si, panel, mounted\n",
      "electricity production, photovoltaic, 3kWp slanted-roof installation, multi-Si, panel, mounted\n",
      "electricity production, photovoltaic, 3kWp slanted-roof installation, multi-Si, panel, mounted\n",
      "photovoltaic module production, building-integrated, for facade installation\n",
      "electricity production, photovoltaic, 3kWp slanted-roof installation, multi-Si, panel, mounted\n",
      "electricity production, photovoltaic, 3kWp slanted-roof installation, multi-Si, panel, mounted\n",
      "photovoltaic slanted-roof installation, 3kWp, single-Si, laminated, integrated, on roof\n",
      "photovoltaic panel production, CIS\n",
      "market for photovoltaics, electric installation for 3kWp module, at building\n",
      "market for photovoltaic slanted-roof installation, 3kWp, a-Si, laminated, integrated, on roof\n",
      "photovoltaic laminate production, single-Si wafer\n",
      "photovoltaic panel production, multi-Si wafer\n",
      "single-Si wafer production, photovoltaic\n",
      "electricity production, photovoltaic, 3kWp slanted-roof installation, single-Si, panel, mounted\n",
      "electricity production, photovoltaic, 3kWp slanted-roof installation, multi-Si, panel, mounted\n",
      "electricity production, photovoltaic, 3kWp slanted-roof installation, single-Si, panel, mounted\n",
      "market for photovoltaic mounting system, for facade installation\n",
      "photovoltaic mounting system production, for 570kWp open ground module\n",
      "electricity production, photovoltaic, 3kWp slanted-roof installation, multi-Si, panel, mounted\n",
      "electricity production, photovoltaic, 3kWp slanted-roof installation, single-Si, laminated, integrated\n",
      "photovoltaic panel production, single-Si wafer\n",
      "electricity production, photovoltaic, 3kWp slanted-roof installation, single-Si, panel, mounted\n",
      "electricity production, photovoltaic, 3kWp slanted-roof installation, single-Si, panel, mounted\n",
      "electricity production, photovoltaic, 3kWp slanted-roof installation, single-Si, panel, mounted\n",
      "photovoltaic slanted-roof installation, 3kWp, a-Si, laminated, integrated, on roof\n",
      "electricity production, photovoltaic, 3kWp flat-roof installation, multi-Si\n",
      "electricity production, photovoltaic, 3kWp slanted-roof installation, single-Si, panel, mounted\n",
      "electricity production, photovoltaic, 3kWp slanted-roof installation, single-Si, panel, mounted\n",
      "electricity production, photovoltaic, 570kWp open ground installation, multi-Si\n",
      "electricity production, photovoltaic, 3kWp slanted-roof installation, single-Si, panel, mounted\n",
      "electricity production, photovoltaic, 3kWp slanted-roof installation, single-Si, panel, mounted\n",
      "market for photovoltaic facade installation, 3kWp, single-Si, laminated, integrated, at building\n",
      "electricity production, photovoltaic, 3kWp slanted-roof installation, multi-Si, panel, mounted\n",
      "electricity production, photovoltaic, 3kWp slanted-roof installation, single-Si, panel, mounted\n",
      "electricity production, photovoltaic, 3kWp slanted-roof installation, multi-Si, panel, mounted\n",
      "electricity production, photovoltaic, 3kWp slanted-roof installation, multi-Si, panel, mounted\n",
      "electricity production, photovoltaic, 3kWp slanted-roof installation, single-Si, panel, mounted\n",
      "electricity production, photovoltaic, 3kWp slanted-roof installation, single-Si, panel, mounted\n",
      "photovoltaic slanted-roof installation, 3kWp, ribbon-Si, laminated, integrated, on roof\n",
      "electricity production, photovoltaic, 3kWp slanted-roof installation, multi-Si, panel, mounted, renewable energy product\n",
      "electricity production, photovoltaic, 3kWp slanted-roof installation, single-Si, panel, mounted\n",
      "photovoltaic facade installation, 3kWp, multi-Si, laminated, integrated, at building\n",
      "electricity production, photovoltaic, 3kWp slanted-roof installation, multi-Si, panel, mounted\n",
      "electricity production, photovoltaic, 3kWp slanted-roof installation, multi-Si, panel, mounted\n",
      "electricity production, photovoltaic, 3kWp slanted-roof installation, single-Si, panel, mounted\n",
      "photovoltaic facade installation, 3kWp, multi-Si, panel, mounted, at building\n",
      "photovoltaic slanted-roof installation, 3kWp, multi-Si, panel, mounted, on roof\n",
      "electricity production, photovoltaic, 3kWp slanted-roof installation, CdTe, laminated, integrated\n",
      "electricity production, photovoltaic, 3kWp slanted-roof installation, single-Si, panel, mounted\n",
      "electricity production, photovoltaic, 3kWp slanted-roof installation, single-Si, panel, mounted\n",
      "electricity production, photovoltaic, 570kWp open ground installation, multi-Si\n",
      "electricity production, photovoltaic, 570kWp open ground installation, multi-Si\n",
      "electricity production, photovoltaic, 3kWp facade installation, multi-Si, panel, mounted\n",
      "market for photovoltaic panel factory\n",
      "electricity production, photovoltaic, 3kWp slanted-roof installation, single-Si, panel, mounted\n",
      "electricity production, photovoltaic, 570kWp open ground installation, multi-Si\n",
      "electricity production, photovoltaic, 3kWp slanted-roof installation, multi-Si, panel, mounted\n",
      "market for photovoltaic flat-roof installation, 3kWp, single-Si, on roof\n",
      "electricity production, photovoltaic, 3kWp slanted-roof installation, single-Si, panel, mounted\n",
      "market for photovoltaic slanted-roof installation, 3kWp, CIS, panel, mounted, on roof\n",
      "photovoltaic cell production, single-Si wafer\n",
      "electricity production, photovoltaic, 3kWp slanted-roof installation, multi-Si, panel, mounted\n",
      "electricity production, photovoltaic, 3kWp slanted-roof installation, multi-Si, panel, mounted\n",
      "electricity production, photovoltaic, 3kWp slanted-roof installation, ribbon-Si, laminated, integrated\n",
      "electricity production, photovoltaic, 3kWp slanted-roof installation, single-Si, panel, mounted\n",
      "electricity production, photovoltaic, 3kWp slanted-roof installation, multi-Si, panel, mounted\n",
      "electricity production, photovoltaic, 570kWp open ground installation, multi-Si\n",
      "photovoltaic laminate production, single-Si wafer\n",
      "electricity production, photovoltaic, 3kWp facade installation, single-Si, panel, mounted\n",
      "electricity production, photovoltaic, 3kWp slanted-roof installation, single-Si, panel, mounted\n",
      "electricity production, photovoltaic, 570kWp open ground installation, multi-Si\n",
      "electricity production, photovoltaic, 570kWp open ground installation, multi-Si\n",
      "electricity production, photovoltaic, 3kWp slanted-roof installation, multi-Si, panel, mounted\n",
      "electricity production, photovoltaic, 3kWp slanted-roof installation, multi-Si, panel, mounted\n",
      "electricity production, photovoltaic, 3kWp slanted-roof installation, single-Si, panel, mounted\n",
      "electricity production, photovoltaic, 3kWp slanted-roof installation, single-Si, panel, mounted\n",
      "electricity production, photovoltaic, 3kWp slanted-roof installation, single-Si, panel, mounted\n",
      "electricity production, photovoltaic, 3kWp slanted-roof installation, single-Si, panel, mounted\n",
      "photovoltaic slanted-roof installation, 3kWp, ribbon-Si, laminated, integrated, on roof\n",
      "photovoltaic panel production, single-Si wafer\n",
      "electricity production, photovoltaic, 570kWp open ground installation, multi-Si\n",
      "electricity production, photovoltaic, 3kWp flat-roof installation, single-Si\n",
      "electricity production, photovoltaic, 3kWp slanted-roof installation, single-Si, panel, mounted\n",
      "photovoltaic flat-roof installation, 3kWp, multi-Si, on roof\n",
      "electricity production, photovoltaic, 3kWp slanted-roof installation, multi-Si, panel, mounted\n",
      "electricity production, photovoltaic, 570kWp open ground installation, multi-Si\n",
      "electricity production, photovoltaic, 3kWp slanted-roof installation, multi-Si, panel, mounted\n",
      "electricity production, photovoltaic, 3kWp slanted-roof installation, multi-Si, panel, mounted\n",
      "electricity production, photovoltaic, 3kWp slanted-roof installation, single-Si, panel, mounted\n",
      "electricity production, photovoltaic, 3kWp slanted-roof installation, multi-Si, panel, mounted\n",
      "electricity production, photovoltaic, 3kWp slanted-roof installation, multi-Si, panel, mounted\n",
      "electricity production, photovoltaic, 570kWp open ground installation, multi-Si\n",
      "electricity production, photovoltaic, 3kWp slanted-roof installation, multi-Si, panel, mounted\n",
      "electricity production, photovoltaic, 3kWp slanted-roof installation, multi-Si, panel, mounted\n",
      "electricity production, photovoltaic, 570kWp open ground installation, multi-Si\n",
      "electricity production, photovoltaic, 3kWp slanted-roof installation, multi-Si, panel, mounted\n",
      "electricity production, photovoltaic, 3kWp slanted-roof installation, multi-Si, panel, mounted\n",
      "electricity production, photovoltaic, 3kWp slanted-roof installation, single-Si, panel, mounted\n",
      "electricity production, photovoltaic, 570kWp open ground installation, multi-Si\n",
      "electricity production, photovoltaic, 3kWp slanted-roof installation, multi-Si, panel, mounted\n",
      "photovoltaic module production, building-integrated, for slanted-roof installation\n",
      "electricity production, photovoltaic, 570kWp open ground installation, multi-Si\n",
      "market for photovoltaic laminate, single-Si wafer\n",
      "electricity production, photovoltaic, 570kWp open ground installation, multi-Si\n",
      "electricity production, photovoltaic, 3kWp slanted-roof installation, single-Si, panel, mounted\n",
      "photovoltaic panel factory construction\n",
      "electricity production, photovoltaic, 570kWp open ground installation, multi-Si\n",
      "electricity production, photovoltaic, 3kWp slanted-roof installation, single-Si, panel, mounted\n",
      "electricity production, photovoltaic, 570kWp open ground installation, multi-Si\n",
      "electricity production, photovoltaic, 570kWp open ground installation, multi-Si\n",
      "electricity production, photovoltaic, 570kWp open ground installation, multi-Si\n",
      "electricity production, photovoltaic, 3kWp slanted-roof installation, multi-Si, panel, mounted\n",
      "electricity production, photovoltaic, 3kWp slanted-roof installation, multi-Si, panel, mounted\n",
      "electricity production, photovoltaic, 3kWp slanted-roof installation, a-Si, laminated, integrated\n",
      "electricity production, photovoltaic, 3kWp slanted-roof installation, single-Si, panel, mounted\n",
      "market for silicon, single crystal, Czochralski process, photovoltaics\n",
      "electricity production, photovoltaic, 570kWp open ground installation, multi-Si\n",
      "electricity production, photovoltaic, 3kWp slanted-roof installation, multi-Si, panel, mounted\n",
      "electricity production, photovoltaic, 3kWp slanted-roof installation, multi-Si, panel, mounted\n",
      "electricity production, photovoltaic, 3kWp slanted-roof installation, multi-Si, panel, mounted\n",
      "electricity production, photovoltaic, 3kWp slanted-roof installation, multi-Si, panel, mounted\n",
      "silicon production, single crystal, Czochralski process, photovoltaics\n",
      "electricity production, photovoltaic, 3kWp slanted-roof installation, multi-Si, panel, mounted\n",
      "electricity production, photovoltaic, 570kWp open ground installation, multi-Si\n",
      "electricity production, photovoltaic, 3kWp slanted-roof installation, ribbon-Si, panel, mounted\n",
      "electricity production, photovoltaic, 3kWp slanted-roof installation, single-Si, panel, mounted\n",
      "electricity production, photovoltaic, 570kWp open ground installation, multi-Si\n",
      "electricity production, photovoltaic, 3kWp slanted-roof installation, a-Si, panel, mounted\n",
      "electricity production, photovoltaic, 3kWp slanted-roof installation, multi-Si, panel, mounted\n",
      "electricity production, photovoltaic, 3kWp slanted-roof installation, single-Si, panel, mounted\n",
      "electricity production, photovoltaic, 570kWp open ground installation, multi-Si\n",
      "electricity production, photovoltaic, 570kWp open ground installation, multi-Si\n",
      "market for photovoltaic panel, CIS\n",
      "electricity production, photovoltaic, 3kWp slanted-roof installation, multi-Si, panel, mounted\n",
      "electricity production, photovoltaic, 3kWp slanted-roof installation, single-Si, panel, mounted\n",
      "electricity production, photovoltaic, 3kWp slanted-roof installation, multi-Si, panel, mounted\n",
      "electricity production, photovoltaic, 3kWp slanted-roof installation, multi-Si, panel, mounted\n",
      "market for photovoltaic slanted-roof installation, 3kWp, a-Si, panel, mounted, on roof\n",
      "electricity production, photovoltaic, 3kWp slanted-roof installation, single-Si, panel, mounted\n",
      "electricity production, photovoltaic, 3kWp slanted-roof installation, multi-Si, panel, mounted\n",
      "electricity production, photovoltaic, 3kWp slanted-roof installation, single-Si, panel, mounted\n",
      "electricity production, photovoltaic, 3kWp slanted-roof installation, single-Si, panel, mounted\n",
      "electricity production, photovoltaic, 3kWp facade installation, multi-Si, laminated, integrated\n",
      "photovoltaic slanted-roof installation, 3kWp, single-Si, laminated, integrated, on roof\n",
      "electricity production, photovoltaic, 570kWp open ground installation, multi-Si\n",
      "electricity production, photovoltaic, 3kWp slanted-roof installation, multi-Si, panel, mounted\n",
      "electricity production, photovoltaic, 570kWp open ground installation, multi-Si\n",
      "electricity production, photovoltaic, 3kWp slanted-roof installation, single-Si, panel, mounted\n",
      "electricity production, photovoltaic, 3kWp slanted-roof installation, multi-Si, panel, mounted\n",
      "electricity production, photovoltaic, 570kWp open ground installation, multi-Si\n",
      "electricity production, photovoltaic, 3kWp slanted-roof installation, single-Si, panel, mounted\n",
      "electricity production, photovoltaic, 3kWp slanted-roof installation, single-Si, panel, mounted\n",
      "photovoltaic cell production, multi-Si wafer\n",
      "market for photovoltaic cell, multi-Si wafer\n",
      "market for photovoltaic cell factory\n",
      "electricity production, photovoltaic, 3kWp slanted-roof installation, single-Si, panel, mounted\n",
      "electricity production, photovoltaic, 3kWp slanted-roof installation, multi-Si, panel, mounted\n",
      "electricity production, photovoltaic, 3kWp facade installation, single-Si, panel, mounted\n",
      "electricity production, photovoltaic, 3kWp slanted-roof installation, single-Si, panel, mounted, renewable energy produc\n",
      "electricity production, photovoltaic, 3kWp slanted-roof installation, multi-Si, panel, mounted\n",
      "electricity production, photovoltaic, 3kWp slanted-roof installation, single-Si, panel, mounted\n",
      "photovoltaic slanted-roof installation, 3kWp, CIS, panel, mounted, on roof\n",
      "electricity production, photovoltaic, 3kWp slanted-roof installation, CIS, panel, mounted\n",
      "electricity production, photovoltaic, 570kWp open ground installation, multi-Si\n",
      "electricity production, photovoltaic, 3kWp slanted-roof installation, multi-Si, panel, mounted\n",
      "market for photovoltaic slanted-roof installation, 3kWp, multi-Si, laminated, integrated, on roof\n",
      "electricity production, photovoltaic, 3kWp slanted-roof installation, multi-Si, panel, mounted\n",
      "electricity production, photovoltaic, 3kWp slanted-roof installation, multi-Si, panel, mounted\n",
      "photovoltaic laminate production, CdTe\n",
      "photovoltaic cell production, ribbon-Si\n",
      "electricity production, photovoltaic, 3kWp slanted-roof installation, single-Si, panel, mounted\n",
      "electricity production, photovoltaic, 3kWp slanted-roof installation, multi-Si, panel, mounted\n",
      "photovoltaic slanted-roof installation, 3kWp, a-Si, laminated, integrated, on roof\n",
      "electricity production, photovoltaic, 3kWp slanted-roof installation, multi-Si, panel, mounted\n",
      "photovoltaic slanted-roof installation, 3kWp, single-Si, panel, mounted, on roof\n",
      "market for photovoltaic panel, a-Si\n",
      "market for photovoltaic facade installation, 3kWp, multi-Si, laminated, integrated, at building\n",
      "market for single-Si wafer, photovoltaic\n",
      "electricity production, photovoltaic, 3kWp slanted-roof installation, multi-Si, panel, mounted\n",
      "photovoltaic laminate production, a-Si\n",
      "photovoltaic mounting system production, for flat-roof installation\n",
      "market for photovoltaic slanted-roof installation, 3kWp, single-Si, panel, mounted, on roof\n",
      "electricity production, photovoltaic, 3kWp slanted-roof installation, multi-Si, panel, mounted\n",
      "photovoltaic panel production, a-Si\n",
      "electricity production, photovoltaic, 3kWp slanted-roof installation, single-Si, panel, mounted\n",
      "electricity production, photovoltaic, 3kWp slanted-roof installation, multi-Si, panel, mounted\n",
      "electricity production, photovoltaic, 3kWp slanted-roof installation, a-Si, panel, mounted\n",
      "electricity production, photovoltaic, 570kWp open ground installation, multi-Si\n",
      "electricity production, photovoltaic, 570kWp open ground installation, multi-Si\n",
      "electricity production, photovoltaic, 3kWp slanted-roof installation, multi-Si, panel, mounted\n",
      "photovoltaic slanted-roof installation, 3kWp, multi-Si, laminated, integrated, on roof\n",
      "market for photovoltaic plant, 570kWp, multi-Si, on open ground\n",
      "market for photovoltaic panel, ribbon-Si\n",
      "electricity production, photovoltaic, 570kWp open ground installation, multi-Si\n",
      "market for photovoltaic laminate, a-Si\n",
      "market for photovoltaic flat-roof installation, 3kWp, multi-Si, on roof\n",
      "market for photovoltaic slanted-roof installation, 3kWp, ribbon-Si, laminated, integrated, on roof\n",
      "photovoltaic slanted-roof installation, 3kWp, ribbon-Si, panel, mounted, on roof\n",
      "electricity production, photovoltaic, 570kWp open ground installation, multi-Si\n",
      "photovoltaic plant construction, 570kWp, multi-Si, on open ground\n",
      "electricity production, photovoltaic, 570kWp open ground installation, multi-Si\n",
      "market for silicon, single crystal, Czochralski process, photovoltaics\n",
      "electricity production, photovoltaic, 3kWp facade installation, multi-Si, panel, mounted\n",
      "electricity production, photovoltaic, 3kWp slanted-roof installation, multi-Si, panel, mounted\n",
      "electricity production, photovoltaic, 3kWp slanted-roof installation, multi-Si, panel, mounted\n",
      "electricity production, photovoltaic, 3kWp slanted-roof installation, single-Si, panel, mounted\n",
      "electricity production, photovoltaic, 3kWp slanted-roof installation, multi-Si, panel, mounted\n",
      "electricity production, photovoltaic, 570kWp open ground installation, multi-Si\n",
      "electricity production, photovoltaic, 570kWp open ground installation, multi-Si\n",
      "electricity production, photovoltaic, 570kWp open ground installation, multi-Si\n",
      "electricity production, photovoltaic, 3kWp slanted-roof installation, multi-Si, panel, mounted\n",
      "electricity production, photovoltaic, 3kWp slanted-roof installation, single-Si, panel, mounted\n",
      "photovoltaic slanted-roof installation, 3kWp, CIS, panel, mounted, on roof\n",
      "electricity production, photovoltaic, 3kWp slanted-roof installation, multi-Si, panel, mounted\n",
      "electricity production, photovoltaic, 3kWp slanted-roof installation, single-Si, panel, mounted\n",
      "electricity production, photovoltaic, 3kWp slanted-roof installation, ribbon-Si, panel, mounted\n",
      "electricity production, photovoltaic, 3kWp slanted-roof installation, multi-Si, panel, mounted\n",
      "photovoltaic laminate production, ribbon-Si\n",
      "electricity production, photovoltaic, 3kWp slanted-roof installation, multi-Si, panel, mounted\n",
      "electricity production, photovoltaic, 3kWp slanted-roof installation, single-Si, panel, mounted\n",
      "electricity production, photovoltaic, 3kWp slanted-roof installation, multi-Si, panel, mounted\n",
      "market for photovoltaics, electric installation for 570kWp module, open ground\n",
      "electricity production, photovoltaic, 3kWp slanted-roof installation, single-Si, panel, mounted\n",
      "photovoltaic facade installation, 3kWp, multi-Si, panel, mounted, at building\n",
      "photovoltaic laminate production, multi-Si wafer\n",
      "electricity production, photovoltaic, 3kWp slanted-roof installation, single-Si, panel, mounted\n",
      "electricity production, photovoltaic, 3kWp slanted-roof installation, single-Si, panel, mounted\n",
      "electricity production, photovoltaic, 3kWp slanted-roof installation, single-Si, panel, mounted\n",
      "electricity production, photovoltaic, 3kWp slanted-roof installation, multi-Si, panel, mounted\n",
      "electricity production, photovoltaic, 570kWp open ground installation, multi-Si\n",
      "electricity production, photovoltaic, 570kWp open ground installation, multi-Si\n",
      "electricity production, photovoltaic, 3kWp slanted-roof installation, single-Si, panel, mounted\n",
      "electricity production, photovoltaic, 3kWp slanted-roof installation, single-Si, panel, mounted\n",
      "electricity production, photovoltaic, 3kWp slanted-roof installation, multi-Si, panel, mounted\n",
      "photovoltaic flat-roof installation, 3kWp, single-Si, on roof\n",
      "electricity production, photovoltaic, 3kWp slanted-roof installation, multi-Si, panel, mounted\n",
      "electricity production, photovoltaic, 3kWp slanted-roof installation, single-Si, panel, mounted\n",
      "electricity production, photovoltaic, 3kWp slanted-roof installation, single-Si, panel, mounted\n",
      "electricity production, photovoltaic, 3kWp slanted-roof installation, multi-Si, panel, mounted\n",
      "electricity production, photovoltaic, 3kWp slanted-roof installation, multi-Si, panel, mounted\n",
      "electricity production, photovoltaic, 3kWp slanted-roof installation, multi-Si, panel, mounted\n",
      "electricity production, photovoltaic, 3kWp slanted-roof installation, single-Si, panel, mounted\n",
      "electricity, low voltage, photovoltaic, import from Germany\n",
      "electricity production, photovoltaic, 570kWp open ground installation, multi-Si\n",
      "electricity production, photovoltaic, 3kWp slanted-roof installation, multi-Si, panel, mounted\n",
      "photovoltaic panel production, a-Si\n",
      "electricity production, photovoltaic, 570kWp open ground installation, multi-Si\n",
      "electricity production, photovoltaic, 3kWp slanted-roof installation, single-Si, panel, mounted\n",
      "electricity production, photovoltaic, 570kWp open ground installation, multi-Si\n",
      "photovoltaic laminate production, a-Si\n",
      "electricity production, photovoltaic, 3kWp slanted-roof installation, multi-Si, panel, mounted\n",
      "electricity production, photovoltaic, 570kWp open ground installation, multi-Si\n",
      "market for photovoltaic facade installation, 3kWp, single-Si, panel, mounted, at building\n",
      "electricity production, photovoltaic, 3kWp slanted-roof installation, multi-Si, panel, mounted\n",
      "electricity production, photovoltaic, 570kWp open ground installation, multi-Si\n",
      "photovoltaic mounting system production, for slanted-roof installation\n",
      "photovoltaic slanted-roof installation, 3kWp, ribbon-Si, panel, mounted, on roof\n",
      "electricity production, photovoltaic, 3kWp slanted-roof installation, multi-Si, panel, mounted\n",
      "photovoltaic facade installation, 3kWp, single-Si, laminated, integrated, at building\n",
      "market for photovoltaic laminate, CIS\n",
      "electricity production, photovoltaic, 3kWp slanted-roof installation, multi-Si, panel, mounted\n",
      "electricity production, photovoltaic, 3kWp slanted-roof installation, multi-Si, panel, mounted\n",
      "electricity production, photovoltaic, 3kWp slanted-roof installation, multi-Si, panel, mounted\n",
      "electricity production, photovoltaic, 3kWp slanted-roof installation, multi-Si, panel, mounted\n",
      "electricity production, photovoltaic, 3kWp slanted-roof installation, multi-Si, panel, mounted\n",
      "electricity production, photovoltaic, 570kWp open ground installation, multi-Si\n",
      "photovoltaics, electric installation for 3kWp module, at building\n",
      "photovoltaic cell factory construction\n",
      "photovoltaic laminate production, CdTe\n",
      "photovoltaic module production, building-integrated, for facade installation\n",
      "electricity production, photovoltaic, 3kWp slanted-roof installation, single-Si, panel, mounted\n",
      "electricity production, photovoltaic, 3kWp slanted-roof installation, single-Si, panel, mounted\n",
      "photovoltaic slanted-roof installation, 3kWp, single-Si, panel, mounted, on roof\n",
      "electricity production, photovoltaic, 570kWp open ground installation, multi-Si\n",
      "electricity production, photovoltaic, 3kWp slanted-roof installation, multi-Si, panel, mounted\n",
      "electricity production, photovoltaic, 570kWp open ground installation, multi-Si\n",
      "electricity production, photovoltaic, 3kWp slanted-roof installation, multi-Si, panel, mounted\n",
      "electricity production, photovoltaic, 3kWp slanted-roof installation, multi-Si, panel, mounted\n",
      "electricity production, photovoltaic, 3kWp slanted-roof installation, multi-Si, panel, mounted\n",
      "electricity production, photovoltaic, 3kWp slanted-roof installation, multi-Si, panel, mounted\n",
      "electricity production, photovoltaic, 3kWp slanted-roof installation, single-Si, panel, mounted\n",
      "electricity production, photovoltaic, 570kWp open ground installation, multi-Si\n",
      "electricity production, photovoltaic, 3kWp slanted-roof installation, multi-Si, panel, mounted\n",
      "electricity production, photovoltaic, 3kWp facade installation, single-Si, laminated, integrated\n",
      "electricity production, photovoltaic, 3kWp flat-roof installation, multi-Si\n",
      "electricity production, photovoltaic, 3kWp slanted-roof installation, multi-Si, panel, mounted\n",
      "electricity production, photovoltaic, 570kWp open ground installation, multi-Si\n",
      "electricity production, photovoltaic, 570kWp open ground installation, multi-Si\n",
      "electricity production, photovoltaic, 3kWp slanted-roof installation, single-Si, panel, mounted\n",
      "electricity production, photovoltaic, 3kWp slanted-roof installation, single-Si, panel, mounted\n",
      "photovoltaic slanted-roof installation, 3kWp, multi-Si, laminated, integrated, on roof\n",
      "electricity production, photovoltaic, 3kWp slanted-roof installation, multi-Si, panel, mounted\n",
      "photovoltaic facade installation, 3kWp, multi-Si, laminated, integrated, at building\n",
      "photovoltaic slanted-roof installation, 3kWp, a-Si, panel, mounted, on roof\n",
      "electricity production, photovoltaic, 3kWp slanted-roof installation, multi-Si, panel, mounted\n",
      "electricity production, photovoltaic, 3kWp slanted-roof installation, single-Si, panel, mounted\n",
      "electricity production, photovoltaic, 3kWp slanted-roof installation, single-Si, panel, mounted\n",
      "electricity production, photovoltaic, 3kWp slanted-roof installation, multi-Si, panel, mounted\n",
      "electricity production, photovoltaic, 3kWp slanted-roof installation, multi-Si, panel, mounted\n",
      "electricity production, photovoltaic, 3kWp slanted-roof installation, multi-Si, panel, mounted\n",
      "electricity production, photovoltaic, 3kWp slanted-roof installation, multi-Si, panel, mounted\n",
      "electricity production, photovoltaic, 3kWp slanted-roof installation, single-Si, panel, mounted\n",
      "photovoltaic mounting system production, for flat-roof installation\n",
      "electricity production, photovoltaic, 3kWp slanted-roof installation, multi-Si, panel, mounted\n",
      "electricity production, photovoltaic, 3kWp slanted-roof installation, multi-Si, panel, mounted\n",
      "electricity production, photovoltaic, 3kWp slanted-roof installation, single-Si, panel, mounted\n",
      "electricity production, photovoltaic, 3kWp slanted-roof installation, CdTe, laminated, integrated\n",
      "electricity production, photovoltaic, 570kWp open ground installation, multi-Si\n",
      "photovoltaic facade installation, 3kWp, single-Si, panel, mounted, at building\n",
      "market for photovoltaic slanted-roof installation, 3kWp, multi-Si, panel, mounted, on roof\n",
      "photovoltaic laminate production, multi-Si wafer\n",
      "electricity production, photovoltaic, 3kWp slanted-roof installation, single-Si, panel, mounted\n",
      "electricity production, photovoltaic, 3kWp slanted-roof installation, single-Si, panel, mounted\n",
      "photovoltaic laminate production, CIS\n",
      "market for photovoltaic slanted-roof installation, 3kWp, CdTe, laminated, integrated, on roof\n",
      "electricity production, photovoltaic, 570kWp open ground installation, multi-Si\n",
      "photovoltaics, electric installation for 570kWp module, open ground\n",
      "electricity production, photovoltaic, 3kWp slanted-roof installation, multi-Si, panel, mounted\n",
      "market for photovoltaic module, building-integrated, for slanted-roof installation\n",
      "electricity production, photovoltaic, 3kWp slanted-roof installation, single-Si, panel, mounted\n",
      "electricity production, photovoltaic, 3kWp slanted-roof installation, multi-Si, panel, mounted\n",
      "electricity production, photovoltaic, 3kWp slanted-roof installation, multi-Si, panel, mounted\n",
      "photovoltaic mounting system production, for slanted-roof installation\n",
      "electricity production, photovoltaic, 3kWp facade installation, multi-Si, laminated, integrated\n",
      "electricity production, photovoltaic, 3kWp slanted-roof installation, single-Si, panel, mounted\n",
      "electricity production, photovoltaic, 570kWp open ground installation, multi-Si\n",
      "electricity production, photovoltaic, 3kWp slanted-roof installation, multi-Si, panel, mounted\n",
      "photovoltaic cell factory construction\n",
      "electricity production, photovoltaic, 3kWp slanted-roof installation, single-Si, panel, mounted\n",
      "electricity production, photovoltaic, 3kWp slanted-roof installation, multi-Si, panel, mounted\n",
      "photovoltaic mounting system production, for facade installation\n",
      "electricity production, photovoltaic, 3kWp slanted-roof installation, multi-Si, panel, mounted\n",
      "electricity production, photovoltaic, 3kWp slanted-roof installation, single-Si, panel, mounted\n",
      "electricity production, photovoltaic, 3kWp slanted-roof installation, multi-Si, panel, mounted\n",
      "electricity production, photovoltaic, 570kWp open ground installation, multi-Si\n",
      "electricity production, photovoltaic, 3kWp slanted-roof installation, single-Si, panel, mounted\n",
      "electricity production, photovoltaic, 570kWp open ground installation, multi-Si\n",
      "photovoltaic laminate production, ribbon-Si\n",
      "photovoltaic slanted-roof installation, 3kWp, CdTe, laminated, integrated, on roof\n",
      "electricity production, photovoltaic, 3kWp slanted-roof installation, multi-Si, panel, mounted\n",
      "electricity production, photovoltaic, 3kWp slanted-roof installation, multi-Si, panel, mounted\n",
      "electricity production, photovoltaic, 3kWp slanted-roof installation, single-Si, panel, mounted\n",
      "electricity production, photovoltaic, 3kWp slanted-roof installation, multi-Si, laminated, integrated\n",
      "electricity production, photovoltaic, 3kWp slanted-roof installation, multi-Si, panel, mounted\n",
      "market for photovoltaic slanted-roof installation, 3kWp, ribbon-Si, panel, mounted, on roof\n",
      "electricity production, photovoltaic, 3kWp slanted-roof installation, single-Si, panel, mounted\n",
      "electricity production, photovoltaic, 3kWp slanted-roof installation, single-Si, panel, mounted\n",
      "electricity production, photovoltaic, 570kWp open ground installation, multi-Si\n",
      "electricity production, photovoltaic, 3kWp slanted-roof installation, multi-Si, panel, mounted\n",
      "photovoltaic flat-roof installation, 3kWp, multi-Si, on roof\n",
      "market for photovoltaic laminate, multi-Si wafer\n",
      "electricity production, photovoltaic, 3kWp slanted-roof installation, single-Si, panel, mounted\n",
      "electricity production, photovoltaic, 3kWp slanted-roof installation, CIS, panel, mounted\n",
      "electricity production, photovoltaic, 3kWp slanted-roof installation, multi-Si, panel, mounted\n",
      "photovoltaic module production, building-integrated, for slanted-roof installation\n",
      "electricity production, photovoltaic, 3kWp slanted-roof installation, single-Si, panel, mounted\n",
      "electricity production, photovoltaic, 3kWp slanted-roof installation, multi-Si, panel, mounted\n",
      "electricity production, photovoltaic, 570kWp open ground installation, multi-Si\n",
      "electricity production, photovoltaic, 570kWp open ground installation, multi-Si\n",
      "photovoltaic laminate production, CIS\n",
      "electricity production, photovoltaic, 3kWp slanted-roof installation, multi-Si, panel, mounted\n",
      "electricity production, photovoltaic, 3kWp slanted-roof installation, multi-Si, panel, mounted\n",
      "electricity production, photovoltaic, 3kWp slanted-roof installation, multi-Si, laminated, integrated\n",
      "electricity production, photovoltaic, 570kWp open ground installation, multi-Si\n",
      "electricity production, photovoltaic, 570kWp open ground installation, multi-Si\n",
      "electricity production, photovoltaic, 3kWp slanted-roof installation, single-Si, panel, mounted\n",
      "photovoltaic panel production, ribbon-Si\n",
      "market for photovoltaic laminate, ribbon-Si\n",
      "market for photovoltaic cell, single-Si wafer\n",
      "electricity production, photovoltaic, 3kWp slanted-roof installation, multi-Si, panel, mounted\n",
      "electricity production, photovoltaic, 3kWp slanted-roof installation, single-Si, panel, mounted\n",
      "electricity production, photovoltaic, 3kWp slanted-roof installation, multi-Si, panel, mounted\n",
      "photovoltaic laminate production, CdTe\n",
      "electricity production, photovoltaic, 3kWp slanted-roof installation, multi-Si, panel, mounted\n",
      "electricity production, photovoltaic, 3kWp slanted-roof installation, multi-Si, panel, mounted\n",
      "electricity production, photovoltaic, 3kWp slanted-roof installation, single-Si, panel, mounted\n",
      "electricity production, photovoltaic, 3kWp slanted-roof installation, multi-Si, panel, mounted\n",
      "photovoltaic slanted-roof installation, 3kWp, CdTe, laminated, integrated, on roof\n",
      "photovoltaics, electric installation for 3kWp module, at building\n",
      "electricity production, photovoltaic, 3kWp slanted-roof installation, multi-Si, panel, mounted\n",
      "market for photovoltaic mounting system, for 570kWp open ground module\n",
      "electricity production, photovoltaic, 3kWp slanted-roof installation, multi-Si, panel, mounted\n",
      "electricity production, photovoltaic, 570kWp open ground installation, multi-Si\n",
      "photovoltaic panel production, ribbon-Si\n",
      "electricity production, photovoltaic, 3kWp slanted-roof installation, multi-Si, panel, mounted\n",
      "electricity production, photovoltaic, 3kWp slanted-roof installation, multi-Si, panel, mounted\n",
      "photovoltaic panel production, multi-Si wafer\n",
      "electricity production, photovoltaic, 3kWp slanted-roof installation, multi-Si, panel, mounted\n",
      "market for photovoltaic mounting system, for flat-roof installation\n",
      "electricity production, photovoltaic, 3kWp slanted-roof installation, multi-Si, panel, mounted\n"
     ]
    }
   ],
   "source": [
    "solar_pv = ws.get_many(db, \n",
    "    ws.contains(\"name\", \"photovoltaic\")\n",
    ")\n",
    "\n",
    "for ds in solar_pv:\n",
    "    print(ds[\"name\"])"
   ]
  },
  {
   "cell_type": "markdown",
   "id": "41f03dd4-24f7-447a-a566-01d04a2ff963",
   "metadata": {},
   "source": [
    "Let's remove markets, with the help of the `ws.exclude()` filter."
   ]
  },
  {
   "cell_type": "code",
   "execution_count": 18,
   "id": "078650b0-d7b6-41c4-9fa9-e7c94499fe3e",
   "metadata": {
    "tags": []
   },
   "outputs": [
    {
     "name": "stdout",
     "output_type": "stream",
     "text": [
      "electricity production, photovoltaic, 570kWp open ground installation, multi-Si\n",
      "electricity production, photovoltaic, 3kWp facade installation, single-Si, laminated, integrated\n",
      "electricity production, photovoltaic, 570kWp open ground installation, multi-Si\n",
      "electricity production, photovoltaic, 3kWp slanted-roof installation, single-Si, panel, mounted\n",
      "electricity production, photovoltaic, 3kWp slanted-roof installation, single-Si, laminated, integrated\n",
      "electricity production, photovoltaic, 3kWp slanted-roof installation, multi-Si, panel, mounted\n",
      "electricity production, photovoltaic, 3kWp slanted-roof installation, single-Si, panel, mounted\n",
      "photovoltaic laminate production, CdTe\n",
      "electricity production, photovoltaic, 3kWp slanted-roof installation, single-Si, panel, mounted\n",
      "electricity production, photovoltaic, 3kWp slanted-roof installation, single-Si, panel, mounted\n",
      "photovoltaic cell production, ribbon-Si\n",
      "electricity production, photovoltaic, 3kWp slanted-roof installation, single-Si, panel, mounted\n",
      "electricity production, photovoltaic, 3kWp slanted-roof installation, ribbon-Si, laminated, integrated\n",
      "electricity production, photovoltaic, 3kWp slanted-roof installation, multi-Si, panel, mounted\n",
      "electricity production, photovoltaic, 3kWp slanted-roof installation, multi-Si, panel, mounted\n",
      "electricity production, photovoltaic, 3kWp flat-roof installation, single-Si\n",
      "electricity production, photovoltaic, 3kWp slanted-roof installation, single-Si, panel, mounted\n",
      "electricity production, photovoltaic, 3kWp slanted-roof installation, multi-Si, panel, mounted\n",
      "electricity production, photovoltaic, 570kWp open ground installation, multi-Si\n",
      "electricity production, photovoltaic, 3kWp slanted-roof installation, single-Si, panel, mounted\n",
      "electricity production, photovoltaic, 3kWp slanted-roof installation, multi-Si, panel, mounted\n",
      "electricity production, photovoltaic, 3kWp slanted-roof installation, multi-Si, panel, mounted\n",
      "single-Si wafer production, photovoltaic\n",
      "electricity production, photovoltaic, 3kWp slanted-roof installation, multi-Si, panel, mounted\n",
      "silicon production, single crystal, Czochralski process, photovoltaics\n",
      "electricity production, photovoltaic, 3kWp slanted-roof installation, single-Si, panel, mounted\n",
      "photovoltaic facade installation, 3kWp, single-Si, laminated, integrated, at building\n",
      "electricity production, photovoltaic, 3kWp slanted-roof installation, single-Si, panel, mounted\n",
      "photovoltaic slanted-roof installation, 3kWp, a-Si, panel, mounted, on roof\n",
      "electricity production, photovoltaic, 3kWp slanted-roof installation, multi-Si, panel, mounted\n",
      "electricity production, photovoltaic, 3kWp slanted-roof installation, multi-Si, panel, mounted\n",
      "electricity production, photovoltaic, 3kWp slanted-roof installation, multi-Si, panel, mounted\n",
      "electricity production, photovoltaic, 3kWp slanted-roof installation, single-Si, panel, mounted\n",
      "electricity production, photovoltaic, 3kWp slanted-roof installation, a-Si, laminated, integrated\n",
      "photovoltaic slanted-roof installation, 3kWp, multi-Si, panel, mounted, on roof\n",
      "electricity production, photovoltaic, 570kWp open ground installation, multi-Si\n",
      "photovoltaic flat-roof installation, 3kWp, single-Si, on roof\n",
      "photovoltaic cell production, single-Si wafer\n",
      "photovoltaic mounting system production, for facade installation\n",
      "electricity production, photovoltaic, 3kWp slanted-roof installation, single-Si, panel, mounted\n",
      "electricity production, photovoltaic, 3kWp slanted-roof installation, multi-Si, panel, mounted\n",
      "photovoltaic cell production, multi-Si wafer\n",
      "photovoltaic panel production, CIS\n",
      "electricity production, photovoltaic, 570kWp open ground installation, multi-Si\n",
      "photovoltaic facade installation, 3kWp, single-Si, panel, mounted, at building\n",
      "electricity production, photovoltaic, 3kWp slanted-roof installation, single-Si, panel, mounted\n",
      "electricity production, photovoltaic, 3kWp slanted-roof installation, multi-Si, panel, mounted\n",
      "electricity production, photovoltaic, 3kWp slanted-roof installation, multi-Si, panel, mounted\n",
      "photovoltaic module production, building-integrated, for facade installation\n",
      "electricity production, photovoltaic, 3kWp slanted-roof installation, multi-Si, panel, mounted\n",
      "electricity production, photovoltaic, 3kWp slanted-roof installation, multi-Si, panel, mounted\n",
      "photovoltaic slanted-roof installation, 3kWp, single-Si, laminated, integrated, on roof\n",
      "photovoltaic panel production, CIS\n",
      "photovoltaic laminate production, single-Si wafer\n",
      "photovoltaic panel production, multi-Si wafer\n",
      "single-Si wafer production, photovoltaic\n",
      "electricity production, photovoltaic, 3kWp slanted-roof installation, single-Si, panel, mounted\n",
      "electricity production, photovoltaic, 3kWp slanted-roof installation, multi-Si, panel, mounted\n",
      "electricity production, photovoltaic, 3kWp slanted-roof installation, single-Si, panel, mounted\n",
      "photovoltaic mounting system production, for 570kWp open ground module\n",
      "electricity production, photovoltaic, 3kWp slanted-roof installation, multi-Si, panel, mounted\n",
      "electricity production, photovoltaic, 3kWp slanted-roof installation, single-Si, laminated, integrated\n",
      "photovoltaic panel production, single-Si wafer\n",
      "electricity production, photovoltaic, 3kWp slanted-roof installation, single-Si, panel, mounted\n",
      "electricity production, photovoltaic, 3kWp slanted-roof installation, single-Si, panel, mounted\n",
      "electricity production, photovoltaic, 3kWp slanted-roof installation, single-Si, panel, mounted\n",
      "photovoltaic slanted-roof installation, 3kWp, a-Si, laminated, integrated, on roof\n",
      "electricity production, photovoltaic, 3kWp flat-roof installation, multi-Si\n",
      "electricity production, photovoltaic, 3kWp slanted-roof installation, single-Si, panel, mounted\n",
      "electricity production, photovoltaic, 3kWp slanted-roof installation, single-Si, panel, mounted\n",
      "electricity production, photovoltaic, 570kWp open ground installation, multi-Si\n",
      "electricity production, photovoltaic, 3kWp slanted-roof installation, single-Si, panel, mounted\n",
      "electricity production, photovoltaic, 3kWp slanted-roof installation, single-Si, panel, mounted\n",
      "electricity production, photovoltaic, 3kWp slanted-roof installation, multi-Si, panel, mounted\n",
      "electricity production, photovoltaic, 3kWp slanted-roof installation, single-Si, panel, mounted\n",
      "electricity production, photovoltaic, 3kWp slanted-roof installation, multi-Si, panel, mounted\n",
      "electricity production, photovoltaic, 3kWp slanted-roof installation, multi-Si, panel, mounted\n",
      "electricity production, photovoltaic, 3kWp slanted-roof installation, single-Si, panel, mounted\n",
      "electricity production, photovoltaic, 3kWp slanted-roof installation, single-Si, panel, mounted\n",
      "photovoltaic slanted-roof installation, 3kWp, ribbon-Si, laminated, integrated, on roof\n",
      "electricity production, photovoltaic, 3kWp slanted-roof installation, multi-Si, panel, mounted, renewable energy product\n",
      "electricity production, photovoltaic, 3kWp slanted-roof installation, single-Si, panel, mounted\n",
      "photovoltaic facade installation, 3kWp, multi-Si, laminated, integrated, at building\n",
      "electricity production, photovoltaic, 3kWp slanted-roof installation, multi-Si, panel, mounted\n",
      "electricity production, photovoltaic, 3kWp slanted-roof installation, multi-Si, panel, mounted\n",
      "electricity production, photovoltaic, 3kWp slanted-roof installation, single-Si, panel, mounted\n",
      "photovoltaic facade installation, 3kWp, multi-Si, panel, mounted, at building\n",
      "photovoltaic slanted-roof installation, 3kWp, multi-Si, panel, mounted, on roof\n",
      "electricity production, photovoltaic, 3kWp slanted-roof installation, CdTe, laminated, integrated\n",
      "electricity production, photovoltaic, 3kWp slanted-roof installation, single-Si, panel, mounted\n",
      "electricity production, photovoltaic, 3kWp slanted-roof installation, single-Si, panel, mounted\n",
      "electricity production, photovoltaic, 570kWp open ground installation, multi-Si\n",
      "electricity production, photovoltaic, 570kWp open ground installation, multi-Si\n",
      "electricity production, photovoltaic, 3kWp facade installation, multi-Si, panel, mounted\n",
      "electricity production, photovoltaic, 3kWp slanted-roof installation, single-Si, panel, mounted\n",
      "electricity production, photovoltaic, 570kWp open ground installation, multi-Si\n",
      "electricity production, photovoltaic, 3kWp slanted-roof installation, multi-Si, panel, mounted\n",
      "electricity production, photovoltaic, 3kWp slanted-roof installation, single-Si, panel, mounted\n",
      "photovoltaic cell production, single-Si wafer\n",
      "electricity production, photovoltaic, 3kWp slanted-roof installation, multi-Si, panel, mounted\n",
      "electricity production, photovoltaic, 3kWp slanted-roof installation, multi-Si, panel, mounted\n",
      "electricity production, photovoltaic, 3kWp slanted-roof installation, ribbon-Si, laminated, integrated\n",
      "electricity production, photovoltaic, 3kWp slanted-roof installation, single-Si, panel, mounted\n",
      "electricity production, photovoltaic, 3kWp slanted-roof installation, multi-Si, panel, mounted\n",
      "electricity production, photovoltaic, 570kWp open ground installation, multi-Si\n",
      "photovoltaic laminate production, single-Si wafer\n",
      "electricity production, photovoltaic, 3kWp facade installation, single-Si, panel, mounted\n",
      "electricity production, photovoltaic, 3kWp slanted-roof installation, single-Si, panel, mounted\n",
      "electricity production, photovoltaic, 570kWp open ground installation, multi-Si\n",
      "electricity production, photovoltaic, 570kWp open ground installation, multi-Si\n",
      "electricity production, photovoltaic, 3kWp slanted-roof installation, multi-Si, panel, mounted\n",
      "electricity production, photovoltaic, 3kWp slanted-roof installation, multi-Si, panel, mounted\n",
      "electricity production, photovoltaic, 3kWp slanted-roof installation, single-Si, panel, mounted\n",
      "electricity production, photovoltaic, 3kWp slanted-roof installation, single-Si, panel, mounted\n",
      "electricity production, photovoltaic, 3kWp slanted-roof installation, single-Si, panel, mounted\n",
      "electricity production, photovoltaic, 3kWp slanted-roof installation, single-Si, panel, mounted\n",
      "photovoltaic slanted-roof installation, 3kWp, ribbon-Si, laminated, integrated, on roof\n",
      "photovoltaic panel production, single-Si wafer\n",
      "electricity production, photovoltaic, 570kWp open ground installation, multi-Si\n",
      "electricity production, photovoltaic, 3kWp flat-roof installation, single-Si\n",
      "electricity production, photovoltaic, 3kWp slanted-roof installation, single-Si, panel, mounted\n",
      "photovoltaic flat-roof installation, 3kWp, multi-Si, on roof\n",
      "electricity production, photovoltaic, 3kWp slanted-roof installation, multi-Si, panel, mounted\n",
      "electricity production, photovoltaic, 570kWp open ground installation, multi-Si\n",
      "electricity production, photovoltaic, 3kWp slanted-roof installation, multi-Si, panel, mounted\n",
      "electricity production, photovoltaic, 3kWp slanted-roof installation, multi-Si, panel, mounted\n",
      "electricity production, photovoltaic, 3kWp slanted-roof installation, single-Si, panel, mounted\n",
      "electricity production, photovoltaic, 3kWp slanted-roof installation, multi-Si, panel, mounted\n",
      "electricity production, photovoltaic, 3kWp slanted-roof installation, multi-Si, panel, mounted\n",
      "electricity production, photovoltaic, 570kWp open ground installation, multi-Si\n",
      "electricity production, photovoltaic, 3kWp slanted-roof installation, multi-Si, panel, mounted\n",
      "electricity production, photovoltaic, 3kWp slanted-roof installation, multi-Si, panel, mounted\n",
      "electricity production, photovoltaic, 570kWp open ground installation, multi-Si\n",
      "electricity production, photovoltaic, 3kWp slanted-roof installation, multi-Si, panel, mounted\n",
      "electricity production, photovoltaic, 3kWp slanted-roof installation, multi-Si, panel, mounted\n",
      "electricity production, photovoltaic, 3kWp slanted-roof installation, single-Si, panel, mounted\n",
      "electricity production, photovoltaic, 570kWp open ground installation, multi-Si\n",
      "electricity production, photovoltaic, 3kWp slanted-roof installation, multi-Si, panel, mounted\n",
      "photovoltaic module production, building-integrated, for slanted-roof installation\n",
      "electricity production, photovoltaic, 570kWp open ground installation, multi-Si\n",
      "electricity production, photovoltaic, 570kWp open ground installation, multi-Si\n",
      "electricity production, photovoltaic, 3kWp slanted-roof installation, single-Si, panel, mounted\n",
      "photovoltaic panel factory construction\n",
      "electricity production, photovoltaic, 570kWp open ground installation, multi-Si\n",
      "electricity production, photovoltaic, 3kWp slanted-roof installation, single-Si, panel, mounted\n",
      "electricity production, photovoltaic, 570kWp open ground installation, multi-Si\n",
      "electricity production, photovoltaic, 570kWp open ground installation, multi-Si\n",
      "electricity production, photovoltaic, 570kWp open ground installation, multi-Si\n",
      "electricity production, photovoltaic, 3kWp slanted-roof installation, multi-Si, panel, mounted\n",
      "electricity production, photovoltaic, 3kWp slanted-roof installation, multi-Si, panel, mounted\n",
      "electricity production, photovoltaic, 3kWp slanted-roof installation, a-Si, laminated, integrated\n",
      "electricity production, photovoltaic, 3kWp slanted-roof installation, single-Si, panel, mounted\n",
      "electricity production, photovoltaic, 570kWp open ground installation, multi-Si\n",
      "electricity production, photovoltaic, 3kWp slanted-roof installation, multi-Si, panel, mounted\n",
      "electricity production, photovoltaic, 3kWp slanted-roof installation, multi-Si, panel, mounted\n",
      "electricity production, photovoltaic, 3kWp slanted-roof installation, multi-Si, panel, mounted\n",
      "electricity production, photovoltaic, 3kWp slanted-roof installation, multi-Si, panel, mounted\n",
      "silicon production, single crystal, Czochralski process, photovoltaics\n",
      "electricity production, photovoltaic, 3kWp slanted-roof installation, multi-Si, panel, mounted\n",
      "electricity production, photovoltaic, 570kWp open ground installation, multi-Si\n",
      "electricity production, photovoltaic, 3kWp slanted-roof installation, ribbon-Si, panel, mounted\n",
      "electricity production, photovoltaic, 3kWp slanted-roof installation, single-Si, panel, mounted\n",
      "electricity production, photovoltaic, 570kWp open ground installation, multi-Si\n",
      "electricity production, photovoltaic, 3kWp slanted-roof installation, a-Si, panel, mounted\n",
      "electricity production, photovoltaic, 3kWp slanted-roof installation, multi-Si, panel, mounted\n",
      "electricity production, photovoltaic, 3kWp slanted-roof installation, single-Si, panel, mounted\n",
      "electricity production, photovoltaic, 570kWp open ground installation, multi-Si\n",
      "electricity production, photovoltaic, 570kWp open ground installation, multi-Si\n",
      "electricity production, photovoltaic, 3kWp slanted-roof installation, multi-Si, panel, mounted\n",
      "electricity production, photovoltaic, 3kWp slanted-roof installation, single-Si, panel, mounted\n",
      "electricity production, photovoltaic, 3kWp slanted-roof installation, multi-Si, panel, mounted\n",
      "electricity production, photovoltaic, 3kWp slanted-roof installation, multi-Si, panel, mounted\n",
      "electricity production, photovoltaic, 3kWp slanted-roof installation, single-Si, panel, mounted\n",
      "electricity production, photovoltaic, 3kWp slanted-roof installation, multi-Si, panel, mounted\n",
      "electricity production, photovoltaic, 3kWp slanted-roof installation, single-Si, panel, mounted\n",
      "electricity production, photovoltaic, 3kWp slanted-roof installation, single-Si, panel, mounted\n",
      "electricity production, photovoltaic, 3kWp facade installation, multi-Si, laminated, integrated\n",
      "photovoltaic slanted-roof installation, 3kWp, single-Si, laminated, integrated, on roof\n",
      "electricity production, photovoltaic, 570kWp open ground installation, multi-Si\n",
      "electricity production, photovoltaic, 3kWp slanted-roof installation, multi-Si, panel, mounted\n",
      "electricity production, photovoltaic, 570kWp open ground installation, multi-Si\n",
      "electricity production, photovoltaic, 3kWp slanted-roof installation, single-Si, panel, mounted\n",
      "electricity production, photovoltaic, 3kWp slanted-roof installation, multi-Si, panel, mounted\n",
      "electricity production, photovoltaic, 570kWp open ground installation, multi-Si\n",
      "electricity production, photovoltaic, 3kWp slanted-roof installation, single-Si, panel, mounted\n",
      "electricity production, photovoltaic, 3kWp slanted-roof installation, single-Si, panel, mounted\n",
      "photovoltaic cell production, multi-Si wafer\n",
      "electricity production, photovoltaic, 3kWp slanted-roof installation, single-Si, panel, mounted\n",
      "electricity production, photovoltaic, 3kWp slanted-roof installation, multi-Si, panel, mounted\n",
      "electricity production, photovoltaic, 3kWp facade installation, single-Si, panel, mounted\n",
      "electricity production, photovoltaic, 3kWp slanted-roof installation, single-Si, panel, mounted, renewable energy produc\n",
      "electricity production, photovoltaic, 3kWp slanted-roof installation, multi-Si, panel, mounted\n",
      "electricity production, photovoltaic, 3kWp slanted-roof installation, single-Si, panel, mounted\n",
      "photovoltaic slanted-roof installation, 3kWp, CIS, panel, mounted, on roof\n",
      "electricity production, photovoltaic, 3kWp slanted-roof installation, CIS, panel, mounted\n",
      "electricity production, photovoltaic, 570kWp open ground installation, multi-Si\n",
      "electricity production, photovoltaic, 3kWp slanted-roof installation, multi-Si, panel, mounted\n",
      "electricity production, photovoltaic, 3kWp slanted-roof installation, multi-Si, panel, mounted\n",
      "electricity production, photovoltaic, 3kWp slanted-roof installation, multi-Si, panel, mounted\n",
      "photovoltaic laminate production, CdTe\n",
      "photovoltaic cell production, ribbon-Si\n",
      "electricity production, photovoltaic, 3kWp slanted-roof installation, single-Si, panel, mounted\n",
      "electricity production, photovoltaic, 3kWp slanted-roof installation, multi-Si, panel, mounted\n",
      "photovoltaic slanted-roof installation, 3kWp, a-Si, laminated, integrated, on roof\n",
      "electricity production, photovoltaic, 3kWp slanted-roof installation, multi-Si, panel, mounted\n",
      "photovoltaic slanted-roof installation, 3kWp, single-Si, panel, mounted, on roof\n",
      "electricity production, photovoltaic, 3kWp slanted-roof installation, multi-Si, panel, mounted\n",
      "photovoltaic laminate production, a-Si\n",
      "photovoltaic mounting system production, for flat-roof installation\n",
      "electricity production, photovoltaic, 3kWp slanted-roof installation, multi-Si, panel, mounted\n",
      "photovoltaic panel production, a-Si\n",
      "electricity production, photovoltaic, 3kWp slanted-roof installation, single-Si, panel, mounted\n",
      "electricity production, photovoltaic, 3kWp slanted-roof installation, multi-Si, panel, mounted\n",
      "electricity production, photovoltaic, 3kWp slanted-roof installation, a-Si, panel, mounted\n",
      "electricity production, photovoltaic, 570kWp open ground installation, multi-Si\n",
      "electricity production, photovoltaic, 570kWp open ground installation, multi-Si\n",
      "electricity production, photovoltaic, 3kWp slanted-roof installation, multi-Si, panel, mounted\n",
      "photovoltaic slanted-roof installation, 3kWp, multi-Si, laminated, integrated, on roof\n",
      "electricity production, photovoltaic, 570kWp open ground installation, multi-Si\n",
      "photovoltaic slanted-roof installation, 3kWp, ribbon-Si, panel, mounted, on roof\n",
      "electricity production, photovoltaic, 570kWp open ground installation, multi-Si\n",
      "photovoltaic plant construction, 570kWp, multi-Si, on open ground\n",
      "electricity production, photovoltaic, 570kWp open ground installation, multi-Si\n",
      "electricity production, photovoltaic, 3kWp facade installation, multi-Si, panel, mounted\n",
      "electricity production, photovoltaic, 3kWp slanted-roof installation, multi-Si, panel, mounted\n",
      "electricity production, photovoltaic, 3kWp slanted-roof installation, multi-Si, panel, mounted\n",
      "electricity production, photovoltaic, 3kWp slanted-roof installation, single-Si, panel, mounted\n",
      "electricity production, photovoltaic, 3kWp slanted-roof installation, multi-Si, panel, mounted\n",
      "electricity production, photovoltaic, 570kWp open ground installation, multi-Si\n",
      "electricity production, photovoltaic, 570kWp open ground installation, multi-Si\n",
      "electricity production, photovoltaic, 570kWp open ground installation, multi-Si\n",
      "electricity production, photovoltaic, 3kWp slanted-roof installation, multi-Si, panel, mounted\n",
      "electricity production, photovoltaic, 3kWp slanted-roof installation, single-Si, panel, mounted\n",
      "photovoltaic slanted-roof installation, 3kWp, CIS, panel, mounted, on roof\n",
      "electricity production, photovoltaic, 3kWp slanted-roof installation, multi-Si, panel, mounted\n",
      "electricity production, photovoltaic, 3kWp slanted-roof installation, single-Si, panel, mounted\n",
      "electricity production, photovoltaic, 3kWp slanted-roof installation, ribbon-Si, panel, mounted\n",
      "electricity production, photovoltaic, 3kWp slanted-roof installation, multi-Si, panel, mounted\n",
      "photovoltaic laminate production, ribbon-Si\n",
      "electricity production, photovoltaic, 3kWp slanted-roof installation, multi-Si, panel, mounted\n",
      "electricity production, photovoltaic, 3kWp slanted-roof installation, single-Si, panel, mounted\n",
      "electricity production, photovoltaic, 3kWp slanted-roof installation, multi-Si, panel, mounted\n",
      "electricity production, photovoltaic, 3kWp slanted-roof installation, single-Si, panel, mounted\n",
      "photovoltaic facade installation, 3kWp, multi-Si, panel, mounted, at building\n",
      "photovoltaic laminate production, multi-Si wafer\n",
      "electricity production, photovoltaic, 3kWp slanted-roof installation, single-Si, panel, mounted\n",
      "electricity production, photovoltaic, 3kWp slanted-roof installation, single-Si, panel, mounted\n",
      "electricity production, photovoltaic, 3kWp slanted-roof installation, single-Si, panel, mounted\n",
      "electricity production, photovoltaic, 3kWp slanted-roof installation, multi-Si, panel, mounted\n",
      "electricity production, photovoltaic, 570kWp open ground installation, multi-Si\n",
      "electricity production, photovoltaic, 570kWp open ground installation, multi-Si\n",
      "electricity production, photovoltaic, 3kWp slanted-roof installation, single-Si, panel, mounted\n",
      "electricity production, photovoltaic, 3kWp slanted-roof installation, single-Si, panel, mounted\n",
      "electricity production, photovoltaic, 3kWp slanted-roof installation, multi-Si, panel, mounted\n",
      "photovoltaic flat-roof installation, 3kWp, single-Si, on roof\n",
      "electricity production, photovoltaic, 3kWp slanted-roof installation, multi-Si, panel, mounted\n",
      "electricity production, photovoltaic, 3kWp slanted-roof installation, single-Si, panel, mounted\n",
      "electricity production, photovoltaic, 3kWp slanted-roof installation, single-Si, panel, mounted\n",
      "electricity production, photovoltaic, 3kWp slanted-roof installation, multi-Si, panel, mounted\n",
      "electricity production, photovoltaic, 3kWp slanted-roof installation, multi-Si, panel, mounted\n",
      "electricity production, photovoltaic, 3kWp slanted-roof installation, multi-Si, panel, mounted\n",
      "electricity production, photovoltaic, 3kWp slanted-roof installation, single-Si, panel, mounted\n",
      "electricity, low voltage, photovoltaic, import from Germany\n",
      "electricity production, photovoltaic, 570kWp open ground installation, multi-Si\n",
      "electricity production, photovoltaic, 3kWp slanted-roof installation, multi-Si, panel, mounted\n",
      "photovoltaic panel production, a-Si\n",
      "electricity production, photovoltaic, 570kWp open ground installation, multi-Si\n",
      "electricity production, photovoltaic, 3kWp slanted-roof installation, single-Si, panel, mounted\n",
      "electricity production, photovoltaic, 570kWp open ground installation, multi-Si\n",
      "photovoltaic laminate production, a-Si\n",
      "electricity production, photovoltaic, 3kWp slanted-roof installation, multi-Si, panel, mounted\n",
      "electricity production, photovoltaic, 570kWp open ground installation, multi-Si\n",
      "electricity production, photovoltaic, 3kWp slanted-roof installation, multi-Si, panel, mounted\n",
      "electricity production, photovoltaic, 570kWp open ground installation, multi-Si\n",
      "photovoltaic mounting system production, for slanted-roof installation\n",
      "photovoltaic slanted-roof installation, 3kWp, ribbon-Si, panel, mounted, on roof\n",
      "electricity production, photovoltaic, 3kWp slanted-roof installation, multi-Si, panel, mounted\n",
      "photovoltaic facade installation, 3kWp, single-Si, laminated, integrated, at building\n",
      "electricity production, photovoltaic, 3kWp slanted-roof installation, multi-Si, panel, mounted\n",
      "electricity production, photovoltaic, 3kWp slanted-roof installation, multi-Si, panel, mounted\n",
      "electricity production, photovoltaic, 3kWp slanted-roof installation, multi-Si, panel, mounted\n",
      "electricity production, photovoltaic, 3kWp slanted-roof installation, multi-Si, panel, mounted\n",
      "electricity production, photovoltaic, 3kWp slanted-roof installation, multi-Si, panel, mounted\n",
      "electricity production, photovoltaic, 570kWp open ground installation, multi-Si\n",
      "photovoltaics, electric installation for 3kWp module, at building\n",
      "photovoltaic cell factory construction\n",
      "photovoltaic laminate production, CdTe\n",
      "photovoltaic module production, building-integrated, for facade installation\n",
      "electricity production, photovoltaic, 3kWp slanted-roof installation, single-Si, panel, mounted\n",
      "electricity production, photovoltaic, 3kWp slanted-roof installation, single-Si, panel, mounted\n",
      "photovoltaic slanted-roof installation, 3kWp, single-Si, panel, mounted, on roof\n",
      "electricity production, photovoltaic, 570kWp open ground installation, multi-Si\n",
      "electricity production, photovoltaic, 3kWp slanted-roof installation, multi-Si, panel, mounted\n",
      "electricity production, photovoltaic, 570kWp open ground installation, multi-Si\n",
      "electricity production, photovoltaic, 3kWp slanted-roof installation, multi-Si, panel, mounted\n",
      "electricity production, photovoltaic, 3kWp slanted-roof installation, multi-Si, panel, mounted\n",
      "electricity production, photovoltaic, 3kWp slanted-roof installation, multi-Si, panel, mounted\n",
      "electricity production, photovoltaic, 3kWp slanted-roof installation, multi-Si, panel, mounted\n",
      "electricity production, photovoltaic, 3kWp slanted-roof installation, single-Si, panel, mounted\n",
      "electricity production, photovoltaic, 570kWp open ground installation, multi-Si\n",
      "electricity production, photovoltaic, 3kWp slanted-roof installation, multi-Si, panel, mounted\n",
      "electricity production, photovoltaic, 3kWp facade installation, single-Si, laminated, integrated\n",
      "electricity production, photovoltaic, 3kWp flat-roof installation, multi-Si\n",
      "electricity production, photovoltaic, 3kWp slanted-roof installation, multi-Si, panel, mounted\n",
      "electricity production, photovoltaic, 570kWp open ground installation, multi-Si\n",
      "electricity production, photovoltaic, 570kWp open ground installation, multi-Si\n",
      "electricity production, photovoltaic, 3kWp slanted-roof installation, single-Si, panel, mounted\n",
      "electricity production, photovoltaic, 3kWp slanted-roof installation, single-Si, panel, mounted\n",
      "photovoltaic slanted-roof installation, 3kWp, multi-Si, laminated, integrated, on roof\n",
      "electricity production, photovoltaic, 3kWp slanted-roof installation, multi-Si, panel, mounted\n",
      "photovoltaic facade installation, 3kWp, multi-Si, laminated, integrated, at building\n",
      "photovoltaic slanted-roof installation, 3kWp, a-Si, panel, mounted, on roof\n",
      "electricity production, photovoltaic, 3kWp slanted-roof installation, multi-Si, panel, mounted\n",
      "electricity production, photovoltaic, 3kWp slanted-roof installation, single-Si, panel, mounted\n",
      "electricity production, photovoltaic, 3kWp slanted-roof installation, single-Si, panel, mounted\n",
      "electricity production, photovoltaic, 3kWp slanted-roof installation, multi-Si, panel, mounted\n",
      "electricity production, photovoltaic, 3kWp slanted-roof installation, multi-Si, panel, mounted\n",
      "electricity production, photovoltaic, 3kWp slanted-roof installation, multi-Si, panel, mounted\n",
      "electricity production, photovoltaic, 3kWp slanted-roof installation, multi-Si, panel, mounted\n",
      "electricity production, photovoltaic, 3kWp slanted-roof installation, single-Si, panel, mounted\n",
      "photovoltaic mounting system production, for flat-roof installation\n",
      "electricity production, photovoltaic, 3kWp slanted-roof installation, multi-Si, panel, mounted\n",
      "electricity production, photovoltaic, 3kWp slanted-roof installation, multi-Si, panel, mounted\n",
      "electricity production, photovoltaic, 3kWp slanted-roof installation, single-Si, panel, mounted\n",
      "electricity production, photovoltaic, 3kWp slanted-roof installation, CdTe, laminated, integrated\n",
      "electricity production, photovoltaic, 570kWp open ground installation, multi-Si\n",
      "photovoltaic facade installation, 3kWp, single-Si, panel, mounted, at building\n",
      "photovoltaic laminate production, multi-Si wafer\n",
      "electricity production, photovoltaic, 3kWp slanted-roof installation, single-Si, panel, mounted\n",
      "electricity production, photovoltaic, 3kWp slanted-roof installation, single-Si, panel, mounted\n",
      "photovoltaic laminate production, CIS\n",
      "electricity production, photovoltaic, 570kWp open ground installation, multi-Si\n",
      "photovoltaics, electric installation for 570kWp module, open ground\n",
      "electricity production, photovoltaic, 3kWp slanted-roof installation, multi-Si, panel, mounted\n",
      "electricity production, photovoltaic, 3kWp slanted-roof installation, single-Si, panel, mounted\n",
      "electricity production, photovoltaic, 3kWp slanted-roof installation, multi-Si, panel, mounted\n",
      "electricity production, photovoltaic, 3kWp slanted-roof installation, multi-Si, panel, mounted\n",
      "photovoltaic mounting system production, for slanted-roof installation\n",
      "electricity production, photovoltaic, 3kWp facade installation, multi-Si, laminated, integrated\n",
      "electricity production, photovoltaic, 3kWp slanted-roof installation, single-Si, panel, mounted\n",
      "electricity production, photovoltaic, 570kWp open ground installation, multi-Si\n",
      "electricity production, photovoltaic, 3kWp slanted-roof installation, multi-Si, panel, mounted\n",
      "photovoltaic cell factory construction\n",
      "electricity production, photovoltaic, 3kWp slanted-roof installation, single-Si, panel, mounted\n",
      "electricity production, photovoltaic, 3kWp slanted-roof installation, multi-Si, panel, mounted\n",
      "photovoltaic mounting system production, for facade installation\n",
      "electricity production, photovoltaic, 3kWp slanted-roof installation, multi-Si, panel, mounted\n",
      "electricity production, photovoltaic, 3kWp slanted-roof installation, single-Si, panel, mounted\n",
      "electricity production, photovoltaic, 3kWp slanted-roof installation, multi-Si, panel, mounted\n",
      "electricity production, photovoltaic, 570kWp open ground installation, multi-Si\n",
      "electricity production, photovoltaic, 3kWp slanted-roof installation, single-Si, panel, mounted\n",
      "electricity production, photovoltaic, 570kWp open ground installation, multi-Si\n",
      "photovoltaic laminate production, ribbon-Si\n",
      "photovoltaic slanted-roof installation, 3kWp, CdTe, laminated, integrated, on roof\n",
      "electricity production, photovoltaic, 3kWp slanted-roof installation, multi-Si, panel, mounted\n",
      "electricity production, photovoltaic, 3kWp slanted-roof installation, multi-Si, panel, mounted\n",
      "electricity production, photovoltaic, 3kWp slanted-roof installation, single-Si, panel, mounted\n",
      "electricity production, photovoltaic, 3kWp slanted-roof installation, multi-Si, laminated, integrated\n",
      "electricity production, photovoltaic, 3kWp slanted-roof installation, multi-Si, panel, mounted\n",
      "electricity production, photovoltaic, 3kWp slanted-roof installation, single-Si, panel, mounted\n",
      "electricity production, photovoltaic, 3kWp slanted-roof installation, single-Si, panel, mounted\n",
      "electricity production, photovoltaic, 570kWp open ground installation, multi-Si\n",
      "electricity production, photovoltaic, 3kWp slanted-roof installation, multi-Si, panel, mounted\n",
      "photovoltaic flat-roof installation, 3kWp, multi-Si, on roof\n",
      "electricity production, photovoltaic, 3kWp slanted-roof installation, single-Si, panel, mounted\n",
      "electricity production, photovoltaic, 3kWp slanted-roof installation, CIS, panel, mounted\n",
      "electricity production, photovoltaic, 3kWp slanted-roof installation, multi-Si, panel, mounted\n",
      "photovoltaic module production, building-integrated, for slanted-roof installation\n",
      "electricity production, photovoltaic, 3kWp slanted-roof installation, single-Si, panel, mounted\n",
      "electricity production, photovoltaic, 3kWp slanted-roof installation, multi-Si, panel, mounted\n",
      "electricity production, photovoltaic, 570kWp open ground installation, multi-Si\n",
      "electricity production, photovoltaic, 570kWp open ground installation, multi-Si\n",
      "photovoltaic laminate production, CIS\n",
      "electricity production, photovoltaic, 3kWp slanted-roof installation, multi-Si, panel, mounted\n",
      "electricity production, photovoltaic, 3kWp slanted-roof installation, multi-Si, panel, mounted\n",
      "electricity production, photovoltaic, 3kWp slanted-roof installation, multi-Si, laminated, integrated\n",
      "electricity production, photovoltaic, 570kWp open ground installation, multi-Si\n",
      "electricity production, photovoltaic, 570kWp open ground installation, multi-Si\n",
      "electricity production, photovoltaic, 3kWp slanted-roof installation, single-Si, panel, mounted\n",
      "photovoltaic panel production, ribbon-Si\n",
      "electricity production, photovoltaic, 3kWp slanted-roof installation, multi-Si, panel, mounted\n",
      "electricity production, photovoltaic, 3kWp slanted-roof installation, single-Si, panel, mounted\n",
      "electricity production, photovoltaic, 3kWp slanted-roof installation, multi-Si, panel, mounted\n",
      "photovoltaic laminate production, CdTe\n",
      "electricity production, photovoltaic, 3kWp slanted-roof installation, multi-Si, panel, mounted\n",
      "electricity production, photovoltaic, 3kWp slanted-roof installation, multi-Si, panel, mounted\n",
      "electricity production, photovoltaic, 3kWp slanted-roof installation, single-Si, panel, mounted\n",
      "electricity production, photovoltaic, 3kWp slanted-roof installation, multi-Si, panel, mounted\n",
      "photovoltaic slanted-roof installation, 3kWp, CdTe, laminated, integrated, on roof\n",
      "photovoltaics, electric installation for 3kWp module, at building\n",
      "electricity production, photovoltaic, 3kWp slanted-roof installation, multi-Si, panel, mounted\n",
      "electricity production, photovoltaic, 3kWp slanted-roof installation, multi-Si, panel, mounted\n",
      "electricity production, photovoltaic, 570kWp open ground installation, multi-Si\n",
      "photovoltaic panel production, ribbon-Si\n",
      "electricity production, photovoltaic, 3kWp slanted-roof installation, multi-Si, panel, mounted\n",
      "electricity production, photovoltaic, 3kWp slanted-roof installation, multi-Si, panel, mounted\n",
      "photovoltaic panel production, multi-Si wafer\n",
      "electricity production, photovoltaic, 3kWp slanted-roof installation, multi-Si, panel, mounted\n",
      "electricity production, photovoltaic, 3kWp slanted-roof installation, multi-Si, panel, mounted\n"
     ]
    }
   ],
   "source": [
    "solar_pv = ws.get_many(db, \n",
    "    ws.contains(\"name\", \"photovoltaic\"),\n",
    "    ws.exclude(\n",
    "        ws.contains(\"name\", \"market for\"),\n",
    "    )\n",
    ")\n",
    "\n",
    "for ds in solar_pv:\n",
    "    print(ds[\"name\"])"
   ]
  },
  {
   "cell_type": "markdown",
   "id": "698cc4ad-481c-4c47-87de-c474b42984d7",
   "metadata": {},
   "source": [
    "Let's also remove electricity producing datasets"
   ]
  },
  {
   "cell_type": "code",
   "execution_count": 19,
   "id": "4efc94f9-e6ac-4f05-b0c3-6f6f3d2e82b0",
   "metadata": {
    "tags": []
   },
   "outputs": [
    {
     "name": "stdout",
     "output_type": "stream",
     "text": [
      "photovoltaic facade installation, 3kWp, single-Si, laminated, integrated, at building RoW\n",
      "photovoltaic slanted-roof installation, 3kWp, a-Si, panel, mounted, on roof RoW\n",
      "photovoltaic slanted-roof installation, 3kWp, multi-Si, panel, mounted, on roof CH\n",
      "photovoltaic flat-roof installation, 3kWp, single-Si, on roof CH\n",
      "photovoltaic facade installation, 3kWp, single-Si, panel, mounted, at building RoW\n",
      "photovoltaic slanted-roof installation, 3kWp, single-Si, laminated, integrated, on roof RoW\n",
      "photovoltaic slanted-roof installation, 3kWp, a-Si, laminated, integrated, on roof RoW\n",
      "photovoltaic slanted-roof installation, 3kWp, ribbon-Si, laminated, integrated, on roof CH\n",
      "photovoltaic facade installation, 3kWp, multi-Si, laminated, integrated, at building CH\n",
      "photovoltaic facade installation, 3kWp, multi-Si, panel, mounted, at building CH\n",
      "photovoltaic slanted-roof installation, 3kWp, multi-Si, panel, mounted, on roof RoW\n",
      "photovoltaic slanted-roof installation, 3kWp, ribbon-Si, laminated, integrated, on roof RoW\n",
      "photovoltaic flat-roof installation, 3kWp, multi-Si, on roof CH\n",
      "photovoltaic slanted-roof installation, 3kWp, single-Si, laminated, integrated, on roof CH\n",
      "photovoltaic slanted-roof installation, 3kWp, CIS, panel, mounted, on roof CH\n",
      "photovoltaic slanted-roof installation, 3kWp, a-Si, laminated, integrated, on roof CH\n",
      "photovoltaic slanted-roof installation, 3kWp, single-Si, panel, mounted, on roof CH\n",
      "photovoltaic slanted-roof installation, 3kWp, multi-Si, laminated, integrated, on roof RoW\n",
      "photovoltaic slanted-roof installation, 3kWp, ribbon-Si, panel, mounted, on roof CH\n",
      "photovoltaic plant construction, 570kWp, multi-Si, on open ground GLO\n",
      "photovoltaic slanted-roof installation, 3kWp, CIS, panel, mounted, on roof RoW\n",
      "photovoltaic facade installation, 3kWp, multi-Si, panel, mounted, at building RoW\n",
      "photovoltaic flat-roof installation, 3kWp, single-Si, on roof RoW\n",
      "photovoltaic slanted-roof installation, 3kWp, ribbon-Si, panel, mounted, on roof RoW\n",
      "photovoltaic facade installation, 3kWp, single-Si, laminated, integrated, at building CH\n",
      "photovoltaic slanted-roof installation, 3kWp, single-Si, panel, mounted, on roof RoW\n",
      "photovoltaic slanted-roof installation, 3kWp, multi-Si, laminated, integrated, on roof CH\n",
      "photovoltaic facade installation, 3kWp, multi-Si, laminated, integrated, at building RoW\n",
      "photovoltaic slanted-roof installation, 3kWp, a-Si, panel, mounted, on roof CH\n",
      "photovoltaic facade installation, 3kWp, single-Si, panel, mounted, at building CH\n",
      "photovoltaic slanted-roof installation, 3kWp, CdTe, laminated, integrated, on roof CH\n",
      "photovoltaic flat-roof installation, 3kWp, multi-Si, on roof RoW\n",
      "photovoltaic slanted-roof installation, 3kWp, CdTe, laminated, integrated, on roof RoW\n"
     ]
    }
   ],
   "source": [
    "pv_filter = [\n",
    "    ws.contains(\"name\", \"photovoltaic\"),\n",
    "    ws.either(\n",
    "        ws.contains(\"name\", \"installation\"),\n",
    "        ws.contains(\"name\", \"construction\"),\n",
    "    ),\n",
    "    ws.exclude(ws.contains(\"name\", \"market for\"),),\n",
    "    ws.exclude(ws.contains(\"name\", \"electricity\")),\n",
    "    ws.exclude(ws.contains(\"name\", \"factory\")),\n",
    "    ws.exclude(ws.contains(\"name\", \"module\")),\n",
    "    ws.equals(\"unit\", \"unit\"),\n",
    "    \n",
    "]\n",
    "solar_pv = ws.get_many(\n",
    "    db, \n",
    "    *pv_filter\n",
    ")\n",
    "\n",
    "for ds in solar_pv:\n",
    "    print(ds[\"name\"], ds[\"location\"])"
   ]
  },
  {
   "cell_type": "markdown",
   "id": "21ab8097",
   "metadata": {},
   "source": [
    "### 5. Filtering Data:\n",
    "List only European datasets.\n",
    "\n",
    "Here, we combine `wurst`'s search capabilities with other libraries, such as `constructive_geometries`."
   ]
  },
  {
   "cell_type": "code",
   "execution_count": 20,
   "id": "3bf2a361",
   "metadata": {
    "tags": []
   },
   "outputs": [],
   "source": [
    "from constructive_geometries import geomatcher"
   ]
  },
  {
   "cell_type": "code",
   "execution_count": 21,
   "id": "1433e05d-98cf-4e3b-93a7-ccd4643233c3",
   "metadata": {
    "tags": []
   },
   "outputs": [],
   "source": [
    "geo = geomatcher.Geomatcher()"
   ]
  },
  {
   "cell_type": "code",
   "execution_count": 22,
   "id": "cbbe3c53-455c-424c-bb1c-1e44fe4758af",
   "metadata": {
    "tags": []
   },
   "outputs": [],
   "source": [
    "european_countries = geo.contained(\"RER\")"
   ]
  },
  {
   "cell_type": "code",
   "execution_count": 23,
   "id": "a3d0803c-ec46-4683-9157-cf2745f70ba7",
   "metadata": {},
   "outputs": [
    {
     "data": {
      "text/plain": [
       "[('ecoinvent', 'RER'),\n",
       " ('ecoinvent', 'Europe without Austria'),\n",
       " ('ecoinvent', 'Europe without Switzerland'),\n",
       " ('ecoinvent', 'Europe without Switzerland and Austria'),\n",
       " ('ecoinvent', 'RER w/o CH+DE'),\n",
       " ('ecoinvent', 'Europe, without Russia and Türkiye'),\n",
       " ('ecoinvent', 'RER w/o RU'),\n",
       " ('ecoinvent', 'Europe without Switzerland and France'),\n",
       " ('ecoinvent', 'RER w/o DE+NL+RU'),\n",
       " ('ecoinvent', 'RER w/o DE+NL+NO'),\n",
       " ('ecoinvent', 'ENTSO-E'),\n",
       " ('ecoinvent', 'Europe without NORDEL (NCPA)'),\n",
       " ('ecoinvent', 'RER w/o DE+NL+NO+RU'),\n",
       " ('ecoinvent', 'RER w/o AT+BE+CH+DE+FR+IT'),\n",
       " ('ecoinvent', 'UCTE'),\n",
       " ('ecoinvent', 'IAI Area, EU27 & EFTA'),\n",
       " ('ecoinvent', 'UCTE without Germany'),\n",
       " ('ecoinvent', 'UCTE without France'),\n",
       " ('ecoinvent', 'UCTE without Germany and France'),\n",
       " ('ecoinvent', 'UN-SEUROPE'),\n",
       " ('ecoinvent', 'UN-NEUROPE'),\n",
       " 'GB',\n",
       " ('ecoinvent', 'WEU'),\n",
       " ('ecoinvent', 'NORDEL'),\n",
       " 'SI',\n",
       " ('ecoinvent', 'BALTSO'),\n",
       " 'IT',\n",
       " ('ecoinvent', 'Russia (Europe)'),\n",
       " 'LV',\n",
       " 'NO',\n",
       " 'FR',\n",
       " 'GR',\n",
       " 'MK',\n",
       " ('ecoinvent', 'CENTREL'),\n",
       " 'ES',\n",
       " 'MT',\n",
       " 'SE',\n",
       " 'FI',\n",
       " 'CS',\n",
       " 'HR',\n",
       " 'HU',\n",
       " 'MD',\n",
       " 'RO',\n",
       " 'IE',\n",
       " 'CH',\n",
       " 'DE',\n",
       " 'PT',\n",
       " 'UA',\n",
       " 'XK',\n",
       " 'BG',\n",
       " 'RS',\n",
       " 'ME',\n",
       " 'NL',\n",
       " 'SJ',\n",
       " 'BA',\n",
       " 'EE',\n",
       " 'DK',\n",
       " 'LI',\n",
       " 'AX',\n",
       " 'PL',\n",
       " 'CZ',\n",
       " 'BE',\n",
       " 'IS',\n",
       " 'AL',\n",
       " 'LT',\n",
       " 'AT',\n",
       " 'SM',\n",
       " ('ecoinvent', 'Canary Islands'),\n",
       " 'SK',\n",
       " 'AD',\n",
       " 'BY',\n",
       " 'GG',\n",
       " 'LU',\n",
       " 'IM',\n",
       " 'GI',\n",
       " 'JE',\n",
       " 'MC',\n",
       " 'VA']"
      ]
     },
     "execution_count": 23,
     "metadata": {},
     "output_type": "execute_result"
    }
   ],
   "source": [
    "european_countries"
   ]
  },
  {
   "cell_type": "code",
   "execution_count": 24,
   "id": "65dfdc7d-4a8b-4c11-b009-698cbb730e95",
   "metadata": {
    "tags": []
   },
   "outputs": [],
   "source": [
    "pv_filter.append(\n",
    "    ws.either(*[\n",
    "        ws.equals(\"location\", loc) for loc in european_countries\n",
    "    ])\n",
    ")"
   ]
  },
  {
   "cell_type": "code",
   "execution_count": 25,
   "id": "b8c0c2fd-5016-4ef5-8635-15adb449d335",
   "metadata": {},
   "outputs": [
    {
     "name": "stdout",
     "output_type": "stream",
     "text": [
      "photovoltaic slanted-roof installation, 3kWp, multi-Si, panel, mounted, on roof CH\n",
      "photovoltaic flat-roof installation, 3kWp, single-Si, on roof CH\n",
      "photovoltaic slanted-roof installation, 3kWp, ribbon-Si, laminated, integrated, on roof CH\n",
      "photovoltaic facade installation, 3kWp, multi-Si, laminated, integrated, at building CH\n",
      "photovoltaic facade installation, 3kWp, multi-Si, panel, mounted, at building CH\n",
      "photovoltaic flat-roof installation, 3kWp, multi-Si, on roof CH\n",
      "photovoltaic slanted-roof installation, 3kWp, single-Si, laminated, integrated, on roof CH\n",
      "photovoltaic slanted-roof installation, 3kWp, CIS, panel, mounted, on roof CH\n",
      "photovoltaic slanted-roof installation, 3kWp, a-Si, laminated, integrated, on roof CH\n",
      "photovoltaic slanted-roof installation, 3kWp, single-Si, panel, mounted, on roof CH\n",
      "photovoltaic slanted-roof installation, 3kWp, ribbon-Si, panel, mounted, on roof CH\n",
      "photovoltaic facade installation, 3kWp, single-Si, laminated, integrated, at building CH\n",
      "photovoltaic slanted-roof installation, 3kWp, multi-Si, laminated, integrated, on roof CH\n",
      "photovoltaic slanted-roof installation, 3kWp, a-Si, panel, mounted, on roof CH\n",
      "photovoltaic facade installation, 3kWp, single-Si, panel, mounted, at building CH\n",
      "photovoltaic slanted-roof installation, 3kWp, CdTe, laminated, integrated, on roof CH\n"
     ]
    }
   ],
   "source": [
    "for ds in ws.get_many(\n",
    "    db,\n",
    "    *pv_filter\n",
    "):\n",
    "    print(ds[\"name\"], ds[\"location\"])"
   ]
  },
  {
   "cell_type": "markdown",
   "id": "e12912c5-2e81-4b84-a492-0219563eab02",
   "metadata": {},
   "source": [
    "### Modify Module Efficiency:\n",
    "\n",
    "Increase the efficiency of solar PV modules by a certain amount based on future predictions.\n",
    "We can do so by reducing the area of panels needed per kilowatt-peak installation.\n",
    "\n",
    "Here are some efficiency projections we can use:\n",
    "\t\t\t\t\t\t\t\n",
    "| Synthesis           |           |      |          |           |          |      |      |      |\n",
    "|---------------------|-----------|------|----------|-----------|----------|------|------|------|\n",
    "| % module efficiency | ribbon-Si | a-Si | micro-Si | single-Si | multi-Si | CIGS | CIS  | CdTe |\n",
    "| 2005                |           |      |          |           |          |      |      |      |\n",
    "| 2010                | 9         | 9.5  | 10       | 15.1      | 14       | 11   | 11   | 10   |\n",
    "| 2020                | 12        | 12.5 | 11.9     | 17.9      | 16.8     | 14   | 14   | 16.8 |\n",
    "| 2050                | 13.5      | 14.2 | 12.5     | 26.7      | 24.4     | 23.4 | 23.4 | 21   |4\t21\n"
   ]
  },
  {
   "cell_type": "code",
   "execution_count": 26,
   "id": "6de794d6-f46c-4917-b83a-4ae6c071f1f7",
   "metadata": {
    "tags": []
   },
   "outputs": [],
   "source": [
    "import xarray as xr\n",
    "# let's store this as a dict\n",
    "# Creating the dictionary from the provided data\n",
    "\n",
    "efficiency_data = {\n",
    "    \"ribbon-Si\": {\n",
    "        2010: 9,\n",
    "        2020: 12,\n",
    "        2050: 13.5\n",
    "    },\n",
    "    \"a-Si\": {\n",
    "        2010: 9.5,\n",
    "        2020: 12.5,\n",
    "        2050: 14.2\n",
    "    },\n",
    "    \"micro-Si\": {\n",
    "        2010: 10,\n",
    "        2020: 11.9,\n",
    "        2050: 12.5\n",
    "    },\n",
    "    \"single-Si\": {\n",
    "        2010: 15.1,\n",
    "        2020: 17.9,\n",
    "        2050: 26.7\n",
    "    },\n",
    "    \"multi-Si\": {\n",
    "        2010: 14,\n",
    "        2020: 16.8,\n",
    "        2050: 24.4\n",
    "    },\n",
    "    \"CIGS\": {\n",
    "        2010: 11,\n",
    "        2020: 14,\n",
    "        2050: 23.4\n",
    "    },\n",
    "    \"CIS\": {\n",
    "        2010: 11,\n",
    "        2020: 14,\n",
    "        2050: 23.4\n",
    "    },\n",
    "    \"CdTe\": {\n",
    "        2010: 10,\n",
    "        2020: 16.8,\n",
    "        2050: 21\n",
    "    }\n",
    "}\n",
    "\n",
    "# Adjusting the structure of the dictionary to fit into a DataArray\n",
    "data_values = []\n",
    "technologies = list(efficiency_data.keys())\n",
    "years = sorted(list(efficiency_data[technologies[0]].keys()))\n",
    "\n",
    "for technology in technologies:\n",
    "    data_values.append([efficiency_data[technology][year] for year in years])\n",
    "\n",
    "# Creating the xarray DataArray\n",
    "efficiency_da = xr.DataArray(\n",
    "    data_values,\n",
    "    coords=[technologies, years],\n",
    "    dims=[\"technology\", \"year\"]\n",
    ")\n"
   ]
  },
  {
   "cell_type": "code",
   "execution_count": 29,
   "id": "21d62675-72a9-45e5-92e2-246d01b5079d",
   "metadata": {},
   "outputs": [
    {
     "data": {
      "text/html": [
       "<div><svg style=\"position: absolute; width: 0; height: 0; overflow: hidden\">\n",
       "<defs>\n",
       "<symbol id=\"icon-database\" viewBox=\"0 0 32 32\">\n",
       "<path d=\"M16 0c-8.837 0-16 2.239-16 5v4c0 2.761 7.163 5 16 5s16-2.239 16-5v-4c0-2.761-7.163-5-16-5z\"></path>\n",
       "<path d=\"M16 17c-8.837 0-16-2.239-16-5v6c0 2.761 7.163 5 16 5s16-2.239 16-5v-6c0 2.761-7.163 5-16 5z\"></path>\n",
       "<path d=\"M16 26c-8.837 0-16-2.239-16-5v6c0 2.761 7.163 5 16 5s16-2.239 16-5v-6c0 2.761-7.163 5-16 5z\"></path>\n",
       "</symbol>\n",
       "<symbol id=\"icon-file-text2\" viewBox=\"0 0 32 32\">\n",
       "<path d=\"M28.681 7.159c-0.694-0.947-1.662-2.053-2.724-3.116s-2.169-2.030-3.116-2.724c-1.612-1.182-2.393-1.319-2.841-1.319h-15.5c-1.378 0-2.5 1.121-2.5 2.5v27c0 1.378 1.122 2.5 2.5 2.5h23c1.378 0 2.5-1.122 2.5-2.5v-19.5c0-0.448-0.137-1.23-1.319-2.841zM24.543 5.457c0.959 0.959 1.712 1.825 2.268 2.543h-4.811v-4.811c0.718 0.556 1.584 1.309 2.543 2.268zM28 29.5c0 0.271-0.229 0.5-0.5 0.5h-23c-0.271 0-0.5-0.229-0.5-0.5v-27c0-0.271 0.229-0.5 0.5-0.5 0 0 15.499-0 15.5 0v7c0 0.552 0.448 1 1 1h7v19.5z\"></path>\n",
       "<path d=\"M23 26h-14c-0.552 0-1-0.448-1-1s0.448-1 1-1h14c0.552 0 1 0.448 1 1s-0.448 1-1 1z\"></path>\n",
       "<path d=\"M23 22h-14c-0.552 0-1-0.448-1-1s0.448-1 1-1h14c0.552 0 1 0.448 1 1s-0.448 1-1 1z\"></path>\n",
       "<path d=\"M23 18h-14c-0.552 0-1-0.448-1-1s0.448-1 1-1h14c0.552 0 1 0.448 1 1s-0.448 1-1 1z\"></path>\n",
       "</symbol>\n",
       "</defs>\n",
       "</svg>\n",
       "<style>/* CSS stylesheet for displaying xarray objects in jupyterlab.\n",
       " *\n",
       " */\n",
       "\n",
       ":root {\n",
       "  --xr-font-color0: var(--jp-content-font-color0, rgba(0, 0, 0, 1));\n",
       "  --xr-font-color2: var(--jp-content-font-color2, rgba(0, 0, 0, 0.54));\n",
       "  --xr-font-color3: var(--jp-content-font-color3, rgba(0, 0, 0, 0.38));\n",
       "  --xr-border-color: var(--jp-border-color2, #e0e0e0);\n",
       "  --xr-disabled-color: var(--jp-layout-color3, #bdbdbd);\n",
       "  --xr-background-color: var(--jp-layout-color0, white);\n",
       "  --xr-background-color-row-even: var(--jp-layout-color1, white);\n",
       "  --xr-background-color-row-odd: var(--jp-layout-color2, #eeeeee);\n",
       "}\n",
       "\n",
       "html[theme=\"dark\"],\n",
       "html[data-theme=\"dark\"],\n",
       "body[data-theme=\"dark\"],\n",
       "body.vscode-dark {\n",
       "  --xr-font-color0: rgba(255, 255, 255, 1);\n",
       "  --xr-font-color2: rgba(255, 255, 255, 0.54);\n",
       "  --xr-font-color3: rgba(255, 255, 255, 0.38);\n",
       "  --xr-border-color: #1f1f1f;\n",
       "  --xr-disabled-color: #515151;\n",
       "  --xr-background-color: #111111;\n",
       "  --xr-background-color-row-even: #111111;\n",
       "  --xr-background-color-row-odd: #313131;\n",
       "}\n",
       "\n",
       ".xr-wrap {\n",
       "  display: block !important;\n",
       "  min-width: 300px;\n",
       "  max-width: 700px;\n",
       "}\n",
       "\n",
       ".xr-text-repr-fallback {\n",
       "  /* fallback to plain text repr when CSS is not injected (untrusted notebook) */\n",
       "  display: none;\n",
       "}\n",
       "\n",
       ".xr-header {\n",
       "  padding-top: 6px;\n",
       "  padding-bottom: 6px;\n",
       "  margin-bottom: 4px;\n",
       "  border-bottom: solid 1px var(--xr-border-color);\n",
       "}\n",
       "\n",
       ".xr-header > div,\n",
       ".xr-header > ul {\n",
       "  display: inline;\n",
       "  margin-top: 0;\n",
       "  margin-bottom: 0;\n",
       "}\n",
       "\n",
       ".xr-obj-type,\n",
       ".xr-array-name {\n",
       "  margin-left: 2px;\n",
       "  margin-right: 10px;\n",
       "}\n",
       "\n",
       ".xr-obj-type {\n",
       "  color: var(--xr-font-color2);\n",
       "}\n",
       "\n",
       ".xr-sections {\n",
       "  padding-left: 0 !important;\n",
       "  display: grid;\n",
       "  grid-template-columns: 150px auto auto 1fr 0 20px 0 20px;\n",
       "}\n",
       "\n",
       ".xr-section-item {\n",
       "  display: contents;\n",
       "}\n",
       "\n",
       ".xr-section-item input {\n",
       "  display: inline-block;\n",
       "  opacity: 0;\n",
       "  height: 0;\n",
       "}\n",
       "\n",
       ".xr-section-item input + label {\n",
       "  color: var(--xr-disabled-color);\n",
       "}\n",
       "\n",
       ".xr-section-item input:enabled + label {\n",
       "  cursor: pointer;\n",
       "  color: var(--xr-font-color2);\n",
       "}\n",
       "\n",
       ".xr-section-item input:focus + label {\n",
       "  border: 2px solid var(--xr-font-color0);\n",
       "}\n",
       "\n",
       ".xr-section-item input:enabled + label:hover {\n",
       "  color: var(--xr-font-color0);\n",
       "}\n",
       "\n",
       ".xr-section-summary {\n",
       "  grid-column: 1;\n",
       "  color: var(--xr-font-color2);\n",
       "  font-weight: 500;\n",
       "}\n",
       "\n",
       ".xr-section-summary > span {\n",
       "  display: inline-block;\n",
       "  padding-left: 0.5em;\n",
       "}\n",
       "\n",
       ".xr-section-summary-in:disabled + label {\n",
       "  color: var(--xr-font-color2);\n",
       "}\n",
       "\n",
       ".xr-section-summary-in + label:before {\n",
       "  display: inline-block;\n",
       "  content: \"►\";\n",
       "  font-size: 11px;\n",
       "  width: 15px;\n",
       "  text-align: center;\n",
       "}\n",
       "\n",
       ".xr-section-summary-in:disabled + label:before {\n",
       "  color: var(--xr-disabled-color);\n",
       "}\n",
       "\n",
       ".xr-section-summary-in:checked + label:before {\n",
       "  content: \"▼\";\n",
       "}\n",
       "\n",
       ".xr-section-summary-in:checked + label > span {\n",
       "  display: none;\n",
       "}\n",
       "\n",
       ".xr-section-summary,\n",
       ".xr-section-inline-details {\n",
       "  padding-top: 4px;\n",
       "  padding-bottom: 4px;\n",
       "}\n",
       "\n",
       ".xr-section-inline-details {\n",
       "  grid-column: 2 / -1;\n",
       "}\n",
       "\n",
       ".xr-section-details {\n",
       "  display: none;\n",
       "  grid-column: 1 / -1;\n",
       "  margin-bottom: 5px;\n",
       "}\n",
       "\n",
       ".xr-section-summary-in:checked ~ .xr-section-details {\n",
       "  display: contents;\n",
       "}\n",
       "\n",
       ".xr-array-wrap {\n",
       "  grid-column: 1 / -1;\n",
       "  display: grid;\n",
       "  grid-template-columns: 20px auto;\n",
       "}\n",
       "\n",
       ".xr-array-wrap > label {\n",
       "  grid-column: 1;\n",
       "  vertical-align: top;\n",
       "}\n",
       "\n",
       ".xr-preview {\n",
       "  color: var(--xr-font-color3);\n",
       "}\n",
       "\n",
       ".xr-array-preview,\n",
       ".xr-array-data {\n",
       "  padding: 0 5px !important;\n",
       "  grid-column: 2;\n",
       "}\n",
       "\n",
       ".xr-array-data,\n",
       ".xr-array-in:checked ~ .xr-array-preview {\n",
       "  display: none;\n",
       "}\n",
       "\n",
       ".xr-array-in:checked ~ .xr-array-data,\n",
       ".xr-array-preview {\n",
       "  display: inline-block;\n",
       "}\n",
       "\n",
       ".xr-dim-list {\n",
       "  display: inline-block !important;\n",
       "  list-style: none;\n",
       "  padding: 0 !important;\n",
       "  margin: 0;\n",
       "}\n",
       "\n",
       ".xr-dim-list li {\n",
       "  display: inline-block;\n",
       "  padding: 0;\n",
       "  margin: 0;\n",
       "}\n",
       "\n",
       ".xr-dim-list:before {\n",
       "  content: \"(\";\n",
       "}\n",
       "\n",
       ".xr-dim-list:after {\n",
       "  content: \")\";\n",
       "}\n",
       "\n",
       ".xr-dim-list li:not(:last-child):after {\n",
       "  content: \",\";\n",
       "  padding-right: 5px;\n",
       "}\n",
       "\n",
       ".xr-has-index {\n",
       "  font-weight: bold;\n",
       "}\n",
       "\n",
       ".xr-var-list,\n",
       ".xr-var-item {\n",
       "  display: contents;\n",
       "}\n",
       "\n",
       ".xr-var-item > div,\n",
       ".xr-var-item label,\n",
       ".xr-var-item > .xr-var-name span {\n",
       "  background-color: var(--xr-background-color-row-even);\n",
       "  margin-bottom: 0;\n",
       "}\n",
       "\n",
       ".xr-var-item > .xr-var-name:hover span {\n",
       "  padding-right: 5px;\n",
       "}\n",
       "\n",
       ".xr-var-list > li:nth-child(odd) > div,\n",
       ".xr-var-list > li:nth-child(odd) > label,\n",
       ".xr-var-list > li:nth-child(odd) > .xr-var-name span {\n",
       "  background-color: var(--xr-background-color-row-odd);\n",
       "}\n",
       "\n",
       ".xr-var-name {\n",
       "  grid-column: 1;\n",
       "}\n",
       "\n",
       ".xr-var-dims {\n",
       "  grid-column: 2;\n",
       "}\n",
       "\n",
       ".xr-var-dtype {\n",
       "  grid-column: 3;\n",
       "  text-align: right;\n",
       "  color: var(--xr-font-color2);\n",
       "}\n",
       "\n",
       ".xr-var-preview {\n",
       "  grid-column: 4;\n",
       "}\n",
       "\n",
       ".xr-index-preview {\n",
       "  grid-column: 2 / 5;\n",
       "  color: var(--xr-font-color2);\n",
       "}\n",
       "\n",
       ".xr-var-name,\n",
       ".xr-var-dims,\n",
       ".xr-var-dtype,\n",
       ".xr-preview,\n",
       ".xr-attrs dt {\n",
       "  white-space: nowrap;\n",
       "  overflow: hidden;\n",
       "  text-overflow: ellipsis;\n",
       "  padding-right: 10px;\n",
       "}\n",
       "\n",
       ".xr-var-name:hover,\n",
       ".xr-var-dims:hover,\n",
       ".xr-var-dtype:hover,\n",
       ".xr-attrs dt:hover {\n",
       "  overflow: visible;\n",
       "  width: auto;\n",
       "  z-index: 1;\n",
       "}\n",
       "\n",
       ".xr-var-attrs,\n",
       ".xr-var-data,\n",
       ".xr-index-data {\n",
       "  display: none;\n",
       "  background-color: var(--xr-background-color) !important;\n",
       "  padding-bottom: 5px !important;\n",
       "}\n",
       "\n",
       ".xr-var-attrs-in:checked ~ .xr-var-attrs,\n",
       ".xr-var-data-in:checked ~ .xr-var-data,\n",
       ".xr-index-data-in:checked ~ .xr-index-data {\n",
       "  display: block;\n",
       "}\n",
       "\n",
       ".xr-var-data > table {\n",
       "  float: right;\n",
       "}\n",
       "\n",
       ".xr-var-name span,\n",
       ".xr-var-data,\n",
       ".xr-index-name div,\n",
       ".xr-index-data,\n",
       ".xr-attrs {\n",
       "  padding-left: 25px !important;\n",
       "}\n",
       "\n",
       ".xr-attrs,\n",
       ".xr-var-attrs,\n",
       ".xr-var-data,\n",
       ".xr-index-data {\n",
       "  grid-column: 1 / -1;\n",
       "}\n",
       "\n",
       "dl.xr-attrs {\n",
       "  padding: 0;\n",
       "  margin: 0;\n",
       "  display: grid;\n",
       "  grid-template-columns: 125px auto;\n",
       "}\n",
       "\n",
       ".xr-attrs dt,\n",
       ".xr-attrs dd {\n",
       "  padding: 0;\n",
       "  margin: 0;\n",
       "  float: left;\n",
       "  padding-right: 10px;\n",
       "  width: auto;\n",
       "}\n",
       "\n",
       ".xr-attrs dt {\n",
       "  font-weight: normal;\n",
       "  grid-column: 1;\n",
       "}\n",
       "\n",
       ".xr-attrs dt:hover span {\n",
       "  display: inline-block;\n",
       "  background: var(--xr-background-color);\n",
       "  padding-right: 10px;\n",
       "}\n",
       "\n",
       ".xr-attrs dd {\n",
       "  grid-column: 2;\n",
       "  white-space: pre-wrap;\n",
       "  word-break: break-all;\n",
       "}\n",
       "\n",
       ".xr-icon-database,\n",
       ".xr-icon-file-text2,\n",
       ".xr-no-icon {\n",
       "  display: inline-block;\n",
       "  vertical-align: middle;\n",
       "  width: 1em;\n",
       "  height: 1.5em !important;\n",
       "  stroke-width: 0;\n",
       "  stroke: currentColor;\n",
       "  fill: currentColor;\n",
       "}\n",
       "</style><pre class='xr-text-repr-fallback'>&lt;xarray.DataArray ()&gt; Size: 8B\n",
       "array(12.5)\n",
       "Coordinates:\n",
       "    technology  &lt;U9 36B &#x27;ribbon-Si&#x27;\n",
       "    year        int64 8B 2030</pre><div class='xr-wrap' style='display:none'><div class='xr-header'><div class='xr-obj-type'>xarray.DataArray</div><div class='xr-array-name'></div></div><ul class='xr-sections'><li class='xr-section-item'><div class='xr-array-wrap'><input id='section-48fb3218-07b1-4675-b2fd-1bc3cac4d3eb' class='xr-array-in' type='checkbox' checked><label for='section-48fb3218-07b1-4675-b2fd-1bc3cac4d3eb' title='Show/hide data repr'><svg class='icon xr-icon-database'><use xlink:href='#icon-database'></use></svg></label><div class='xr-array-preview xr-preview'><span>12.5</span></div><div class='xr-array-data'><pre>array(12.5)</pre></div></div></li><li class='xr-section-item'><input id='section-41031aad-d6aa-4dc1-afdb-3b1c09fb0ac4' class='xr-section-summary-in' type='checkbox'  checked><label for='section-41031aad-d6aa-4dc1-afdb-3b1c09fb0ac4' class='xr-section-summary' >Coordinates: <span>(2)</span></label><div class='xr-section-inline-details'></div><div class='xr-section-details'><ul class='xr-var-list'><li class='xr-var-item'><div class='xr-var-name'><span>technology</span></div><div class='xr-var-dims'>()</div><div class='xr-var-dtype'>&lt;U9</div><div class='xr-var-preview xr-preview'>&#x27;ribbon-Si&#x27;</div><input id='attrs-76785b83-9d72-4ceb-98d9-53c869a85aeb' class='xr-var-attrs-in' type='checkbox' disabled><label for='attrs-76785b83-9d72-4ceb-98d9-53c869a85aeb' title='Show/Hide attributes'><svg class='icon xr-icon-file-text2'><use xlink:href='#icon-file-text2'></use></svg></label><input id='data-6a7c8679-785a-4609-8df8-b64c34fabae4' class='xr-var-data-in' type='checkbox'><label for='data-6a7c8679-785a-4609-8df8-b64c34fabae4' title='Show/Hide data repr'><svg class='icon xr-icon-database'><use xlink:href='#icon-database'></use></svg></label><div class='xr-var-attrs'><dl class='xr-attrs'></dl></div><div class='xr-var-data'><pre>array(&#x27;ribbon-Si&#x27;, dtype=&#x27;&lt;U9&#x27;)</pre></div></li><li class='xr-var-item'><div class='xr-var-name'><span>year</span></div><div class='xr-var-dims'>()</div><div class='xr-var-dtype'>int64</div><div class='xr-var-preview xr-preview'>2030</div><input id='attrs-258b22ce-0086-4500-b243-d5a71f5ecc01' class='xr-var-attrs-in' type='checkbox' disabled><label for='attrs-258b22ce-0086-4500-b243-d5a71f5ecc01' title='Show/Hide attributes'><svg class='icon xr-icon-file-text2'><use xlink:href='#icon-file-text2'></use></svg></label><input id='data-c09dbaa9-c143-4e15-9290-8d44a3aa3df3' class='xr-var-data-in' type='checkbox'><label for='data-c09dbaa9-c143-4e15-9290-8d44a3aa3df3' title='Show/Hide data repr'><svg class='icon xr-icon-database'><use xlink:href='#icon-database'></use></svg></label><div class='xr-var-attrs'><dl class='xr-attrs'></dl></div><div class='xr-var-data'><pre>array(2030)</pre></div></li></ul></div></li><li class='xr-section-item'><input id='section-a9d63a58-207a-416d-ba44-de0b87d0cd42' class='xr-section-summary-in' type='checkbox' disabled ><label for='section-a9d63a58-207a-416d-ba44-de0b87d0cd42' class='xr-section-summary'  title='Expand/collapse section'>Indexes: <span>(0)</span></label><div class='xr-section-inline-details'></div><div class='xr-section-details'><ul class='xr-var-list'></ul></div></li><li class='xr-section-item'><input id='section-f368cd2e-17c3-4d8c-a85c-880e0c3cf62c' class='xr-section-summary-in' type='checkbox' disabled ><label for='section-f368cd2e-17c3-4d8c-a85c-880e0c3cf62c' class='xr-section-summary'  title='Expand/collapse section'>Attributes: <span>(0)</span></label><div class='xr-section-inline-details'></div><div class='xr-section-details'><dl class='xr-attrs'></dl></div></li></ul></div></div>"
      ],
      "text/plain": [
       "<xarray.DataArray ()> Size: 8B\n",
       "array(12.5)\n",
       "Coordinates:\n",
       "    technology  <U9 36B 'ribbon-Si'\n",
       "    year        int64 8B 2030"
      ]
     },
     "execution_count": 29,
     "metadata": {},
     "output_type": "execute_result"
    }
   ],
   "source": [
    "efficiency_da.sel(technology=\"ribbon-Si\").interp(year=2030)"
   ]
  },
  {
   "cell_type": "markdown",
   "id": "72a1c547",
   "metadata": {},
   "source": [
    "### 6. Transforming Datasets:\n",
    "\n",
    "#### Module efficiency\n",
    "We want to look into the solar PV installation datasets and:\n",
    "1. Identify the installed power\n",
    "2. Identify the current efficiency\n",
    "3. Identifiy the technology\n",
    "4. Fetch the new efficiency\n",
    "5. Modify the inputs accodingly"
   ]
  },
  {
   "cell_type": "code",
   "execution_count": 32,
   "id": "2b3b2616",
   "metadata": {
    "tags": []
   },
   "outputs": [],
   "source": [
    "import re\n",
    "import numpy as np\n",
    "from prettytable import PrettyTable\n",
    "\n",
    "def fetch_pv_power(name):\n",
    "    # we use regular expression to extract the power from the dataset name (in kW)\n",
    "    power = float(re.findall(r\"[-+]?\\d*\\.\\d+|\\d+\", name)[0])\n",
    "    \n",
    "    # if in MW, convert to kW\n",
    "    if \"mwp\" in name.lower():\n",
    "        power *= 1000\n",
    "\n",
    "    return power\n",
    "\n",
    "def modify_module_efficiency(db, year):\n",
    "\n",
    "    modifications = []\n",
    "    \n",
    "    for dataset in ws.get_many(\n",
    "        db,\n",
    "        *pv_filter\n",
    "    ):\n",
    "    \n",
    "        power = fetch_pv_power(dataset[\"name\"])\n",
    "    \n",
    "        # we look for an input of PV panel, in square meters\n",
    "        for exc in ws.technosphere(\n",
    "            dataset,\n",
    "            *[\n",
    "                ws.either(\n",
    "                    ws.contains(\"name\", \"photovoltaic panel\"),\n",
    "                    ws.contains(\"name\", \"photovoltaic laminate\"),\n",
    "                ),\n",
    "                ws.equals(\"unit\", \"square meter\"),\n",
    "            ],\n",
    "        ):\n",
    "            surface = float(exc[\"amount\"])\n",
    "            max_power = surface  # in kW, since we assume a constant 1,000W/m^2\n",
    "            current_eff = power / max_power\n",
    "    \n",
    "            possible_techs = [\n",
    "                \"ribbon-Si\",\n",
    "                \"a-Si\",\n",
    "                \"micro-Si\",\n",
    "                \"single-Si\",\n",
    "                \"multi-Si\",\n",
    "                \"CIGS\",\n",
    "                \"CIS\",\n",
    "                \"CdTe\",\n",
    "            ]\n",
    "            \n",
    "            pv_tech = [\n",
    "                i for i in possible_techs if i.lower() in exc[\"name\"].lower()\n",
    "            ]\n",
    "    \n",
    "            if len(pv_tech) > 0:\n",
    "                pv_tech = pv_tech[0]\n",
    "    \n",
    "                new_eff = efficiency_da.sel(technology=pv_tech).interp(year=year).values/100\n",
    "    \n",
    "                # in case self.year <2010 or >2050\n",
    "                #new_eff = np.clip(new_eff, 0.1, 0.27)\n",
    "                \n",
    "                modifications.append(\n",
    "                    [dataset[\"name\"][-50:], power, pv_tech, round(current_eff, 2), round(new_eff, 2), round(float(current_eff / new_eff), 2)]\n",
    "                )\n",
    "                exc[\"amount\"] *= float(current_eff / new_eff)\n",
    "    \n",
    "    table = PrettyTable([\"Name\", \"Power\", \"Tech\", \"Current eff\", \"New eff\", \"Scaling factor\"])\n",
    "    table.add_rows(modifications)\n",
    "    print(table)\n",
    "\n",
    "    return db"
   ]
  },
  {
   "cell_type": "code",
   "execution_count": 34,
   "id": "7f9b788b-9376-49bc-82b8-29650c29ab69",
   "metadata": {},
   "outputs": [],
   "source": [
    "db = load_db()"
   ]
  },
  {
   "cell_type": "code",
   "execution_count": 35,
   "id": "84c300ac-757a-4810-a90f-faf91a47560d",
   "metadata": {},
   "outputs": [
    {
     "name": "stdout",
     "output_type": "stream",
     "text": [
      "+----------------------------------------------------+-------+-----------+-------------+---------+----------------+\n",
      "|                        Name                        | Power |    Tech   | Current eff | New eff | Scaling factor |\n",
      "+----------------------------------------------------+-------+-----------+-------------+---------+----------------+\n",
      "| tallation, 3kWp, multi-Si, panel, mounted, on roof |  3.0  |  multi-Si |     0.13    |   0.24  |      0.52      |\n",
      "| c flat-roof installation, 3kWp, single-Si, on roof |  3.0  | single-Si |     0.14    |   0.27  |      0.51      |\n",
      "| n, 3kWp, ribbon-Si, laminated, integrated, on roof |  3.0  | ribbon-Si |     0.12    |   0.14  |      0.86      |\n",
      "| 3kWp, multi-Si, laminated, integrated, at building |  3.0  |  multi-Si |     0.13    |   0.24  |      0.52      |\n",
      "| ation, 3kWp, multi-Si, panel, mounted, at building |  3.0  |  multi-Si |     0.13    |   0.24  |      0.52      |\n",
      "| ic flat-roof installation, 3kWp, multi-Si, on roof |  3.0  |  multi-Si |     0.13    |   0.24  |      0.52      |\n",
      "| n, 3kWp, single-Si, laminated, integrated, on roof |  3.0  | single-Si |     0.14    |   0.27  |      0.51      |\n",
      "| f installation, 3kWp, CIS, panel, mounted, on roof |  3.0  |    CIS    |     0.1     |   0.23  |      0.44      |\n",
      "| lation, 3kWp, a-Si, laminated, integrated, on roof |  3.0  |    a-Si   |     0.06    |   0.14  |      0.44      |\n",
      "| allation, 3kWp, single-Si, panel, mounted, on roof |  3.0  | single-Si |     0.14    |   0.27  |      0.51      |\n",
      "| allation, 3kWp, ribbon-Si, panel, mounted, on roof |  3.0  | ribbon-Si |     0.12    |   0.14  |      0.86      |\n",
      "| kWp, single-Si, laminated, integrated, at building |  3.0  | single-Si |     0.14    |   0.27  |      0.51      |\n",
      "| on, 3kWp, multi-Si, laminated, integrated, on roof |  3.0  |  multi-Si |     0.13    |   0.24  |      0.52      |\n",
      "|  installation, 3kWp, a-Si, panel, mounted, on roof |  3.0  |    a-Si   |     0.06    |   0.14  |      0.44      |\n",
      "| tion, 3kWp, single-Si, panel, mounted, at building |  3.0  | single-Si |     0.14    |   0.27  |      0.51      |\n",
      "| lation, 3kWp, CdTe, laminated, integrated, on roof |  3.0  |    CdTe   |     0.09    |   0.21  |      0.42      |\n",
      "+----------------------------------------------------+-------+-----------+-------------+---------+----------------+\n"
     ]
    }
   ],
   "source": [
    "db = modify_module_efficiency(db, 2050)"
   ]
  },
  {
   "cell_type": "markdown",
   "id": "ff69df80-f1ef-443c-a53e-ebc0475a3960",
   "metadata": {},
   "source": [
    "### Extend Module Lifetime:\n",
    "\n",
    "Increase the operational lifetime of the solar PV modules from the typical 25 years to, say, 30 years in 2035 and 40 years in 2050.\n",
    "This modification will affect the input requirements per kilowatt hour produced."
   ]
  },
  {
   "cell_type": "code",
   "execution_count": 38,
   "id": "b53bb001-8ae9-4b2d-8b1c-084fc326edd0",
   "metadata": {
    "tags": []
   },
   "outputs": [],
   "source": [
    "def modify_pv_lifetime(db, current_lifetime, new_lifetime):\n",
    "\n",
    "    modifications = []\n",
    "    \n",
    "    # search where our PV panels are used:\n",
    "    for ds in ws.get_many(\n",
    "        db,\n",
    "        ws.contains(\"name\", \"electricity\"),\n",
    "        ws.equals(\"unit\", \"kilowatt hour\"),\n",
    "        ws.exclude(ws.contains(\"name\", \"renewable\")),\n",
    "        ws.contains(\"location\", \"CH\")\n",
    "    ):\n",
    "        for exc in ws.technosphere(\n",
    "            ds,\n",
    "            *pv_filter\n",
    "        ):\n",
    "            power = fetch_pv_power(exc[\"name\"])\n",
    "    \n",
    "            panel_fraction = exc[\"amount\"]\n",
    "            lifetime_production = 1/exc[\"amount\"]\n",
    "            annual_production = 1/exc[\"amount\"]/current_lifetime\n",
    "            annual_prod_per_kW = annual_production / power\n",
    "\n",
    "            exc[\"amount\"] *= current_lifetime/new_lifetime\n",
    "    \n",
    "            modifications.append(\n",
    "                [\n",
    "                    ds[\"name\"][-50:],\n",
    "                    ds[\"location\"],\n",
    "                    int(lifetime_production),\n",
    "                    int(annual_production),\n",
    "                    int(annual_prod_per_kW),\n",
    "                    '{:.2E}'.format(exc[\"amount\"]),\n",
    "                    '{:.2E}'.format(exc[\"amount\"] * current_lifetime/new_lifetime)\n",
    "                ]\n",
    "            )\n",
    "    \n",
    "    table = PrettyTable([\"Name\", \"Loc\", \"kWh/lifetime\", \"kWh/year\", \"kWh/year/kW\", \"Old input\", \"New input\"])\n",
    "    table.add_rows(modifications)\n",
    "    print(table)\n",
    "\n",
    "    return db"
   ]
  },
  {
   "cell_type": "code",
   "execution_count": 39,
   "id": "07a4630c-0102-4e94-905b-e9f945a3db6d",
   "metadata": {},
   "outputs": [
    {
     "name": "stdout",
     "output_type": "stream",
     "text": [
      "+----------------------------------------------------+-----+--------------+----------+-------------+-----------+-----------+\n",
      "|                        Name                        | Loc | kWh/lifetime | kWh/year | kWh/year/kW | Old input | New input |\n",
      "+----------------------------------------------------+-----+--------------+----------+-------------+-----------+-----------+\n",
      "| ade installation, single-Si, laminated, integrated |  CH |    55800     |   2232   |     744     |  1.49E-05 |  1.24E-05 |\n",
      "| oof installation, single-Si, laminated, integrated |  CH |    82980     |   3319   |     1106    |  1.00E-05 |  8.37E-06 |\n",
      "| otovoltaic, 3kWp flat-roof installation, single-Si |  CH |    82980     |   3319   |     1106    |  1.00E-05 |  8.37E-06 |\n",
      "| ted-roof installation, CdTe, laminated, integrated |  CH |    82980     |   3319   |     1106    |  1.00E-05 |  8.37E-06 |\n",
      "| oof installation, ribbon-Si, laminated, integrated |  CH |    82980     |   3319   |     1106    |  1.00E-05 |  8.37E-06 |\n",
      "| kWp facade installation, single-Si, panel, mounted |  CH |    55800     |   2232   |     744     |  1.49E-05 |  1.24E-05 |\n",
      "| ted-roof installation, a-Si, laminated, integrated |  CH |    82980     |   3319   |     1106    |  1.00E-05 |  8.37E-06 |\n",
      "| anted-roof installation, ribbon-Si, panel, mounted |  CH |    82980     |   3319   |     1106    |  1.00E-05 |  8.37E-06 |\n",
      "| Wp slanted-roof installation, a-Si, panel, mounted |  CH |    82980     |   3319   |     1106    |  1.00E-05 |  8.37E-06 |\n",
      "| cade installation, multi-Si, laminated, integrated |  CH |    55800     |   2232   |     744     |  1.49E-05 |  1.24E-05 |\n",
      "| 3kWp facade installation, multi-Si, panel, mounted |  CH |    55800     |   2232   |     744     |  1.49E-05 |  1.24E-05 |\n",
      "| hotovoltaic, 3kWp flat-roof installation, multi-Si |  CH |    82980     |   3319   |     1106    |  1.00E-05 |  8.37E-06 |\n",
      "| anted-roof installation, single-Si, panel, mounted |  CH |    73857     |   2954   |     984     |  1.13E-05 |  9.40E-06 |\n",
      "| roof installation, multi-Si, laminated, integrated |  CH |    82980     |   3319   |     1106    |  1.00E-05 |  8.37E-06 |\n",
      "| kWp slanted-roof installation, CIS, panel, mounted |  CH |    82980     |   3319   |     1106    |  1.00E-05 |  8.37E-06 |\n",
      "| lanted-roof installation, multi-Si, panel, mounted |  CH |    86360     |   3454   |     1151    |  9.65E-06 |  8.04E-06 |\n",
      "+----------------------------------------------------+-----+--------------+----------+-------------+-----------+-----------+\n"
     ]
    }
   ],
   "source": [
    "db = load_db()\n",
    "db = modify_pv_lifetime(db, 25, 30)"
   ]
  },
  {
   "cell_type": "markdown",
   "id": "c531e9cd-de3e-4e44-b17f-9d26599c8fc4",
   "metadata": {},
   "source": [
    "### Decarbonize the production of aluminium\n",
    "\n",
    "PV panel installations require substantial amounts of aliminium for the panel frame itself, but also, and mostly, for the mounting system.\n",
    "\n",
    "The production of alumiminium in certain regions still relies to a significant extent on fossil-based electricity (see *market for electricity, high voltage, aluminium industry*). The Swiss Environmental Agency foresees that, while natural gas-based electricity will still be used by aluminum smelters, coal will slowly be phased out: by half by 2035, and completely by 2050.\n",
    "\n",
    "The Swiss Environmental Agency also thinks that natural gas-fired power plants will be 5% and 10% more efficient by 2035 and 2050, relative to today. "
   ]
  },
  {
   "cell_type": "code",
   "execution_count": 40,
   "id": "c379e3a2-477f-464a-a48f-d6802876b14d",
   "metadata": {
    "tags": []
   },
   "outputs": [],
   "source": [
    "def modify_al_electricity_mix(db, scaling_factor_coal, scaling_factor_coal_ng):\n",
    "\n",
    "    ############### Aluminium electricity mix #################\n",
    "    modifications = []\n",
    "\n",
    "    for ds in ws.get_many(\n",
    "            db,\n",
    "            ws.contains(\"name\", \"market for electricity, high voltage, aluminium industry\"),\n",
    "            ws.equals(\"unit\", \"kilowatt hour\"),\n",
    "        ):\n",
    "\n",
    "        shares, surplus = {}, 0\n",
    "\n",
    "        for exc in ws.technosphere(\n",
    "            ds,\n",
    "            ws.contains(\"name\", \"electricity production\"),\n",
    "            ws.contains(\"unit\", \"kilowatt hour\")\n",
    "        ):\n",
    "            shares[exc[\"name\"]] = {\"old\": exc[\"amount\"]}\n",
    "\n",
    "        \n",
    "        for tech, share in shares.items():\n",
    "            if \"coal\" in tech:\n",
    "                shares[tech][\"new\"] = share[\"old\"] * scaling_factor_coal\n",
    "                surplus = share[\"old\"] - share[\"new\"]\n",
    "\n",
    "        \n",
    "        for tech, share in shares.items():\n",
    "            if \"coal\" not in tech:\n",
    "                shares[tech][\"new\"] = share[\"old\"] + (surplus / (len(shares) - 1))\n",
    "                \n",
    "        for exc in ws.technosphere(\n",
    "            ds,\n",
    "            ws.contains(\"name\", \"electricity production\")             \n",
    "        ):\n",
    "            if exc[\"name\"] in shares:\n",
    "                exc[\"amount\"] = shares[exc[\"name\"]][\"new\"]\n",
    "\n",
    "        modifications.extend(\n",
    "            [\n",
    "                ds[\"name\"][-30:], ds[\"location\"], tech[-30:], round(v[\"old\"], 3), round(v[\"new\"], 3), round(sum(x[\"new\"] for x in shares.values()), 2)\n",
    "            ] for tech, v in shares.items()\n",
    "        )\n",
    "\n",
    "    table = PrettyTable([\"Name\", \"Loc\", \"Tech\", \"Old share\", \"New share\", \"Sum shares\"])\n",
    "    table.add_rows(modifications)\n",
    "    print(table)\n",
    "\n",
    "    ################ NG POWER PLANTS #####################\n",
    "\n",
    "    generation_filters = [\n",
    "        ws.contains('name', 'electricity production'),\n",
    "        ws.contains(\"name\", \"natural gas\"),\n",
    "        ws.equals('unit', 'kilowatt hour'),\n",
    "    ]\n",
    "\n",
    "    fuel_independent_cooling = ws.doesnt_contain_any(\n",
    "        'name', (\n",
    "        'water, decarbonised', )\n",
    "    )\n",
    "\n",
    "    fuel_independent = ws.doesnt_contain_any('name', (\n",
    "        'Methane, fossil', 'Sulfur dioxide', 'Carbon monoxide, fossil',\n",
    "        'Nitrogen oxides', 'Dinitrogen monoxide', 'Particulates'\n",
    "    ))\n",
    "\n",
    "    for ds in ws.get_many(db, *generation_filters):\n",
    "\n",
    "        wurst.transformations.change_exchanges_by_constant_factor(\n",
    "            ds,\n",
    "            scaling_factor_coal_ng,  # Or whatever from input data\n",
    "            [fuel_independent_cooling],\n",
    "            [fuel_independent]\n",
    "        )\n",
    "    \n",
    "    return db"
   ]
  },
  {
   "cell_type": "code",
   "execution_count": 41,
   "id": "2b7382f7-f24d-4118-b93e-db43adfc6ba5",
   "metadata": {},
   "outputs": [
    {
     "name": "stdout",
     "output_type": "stream",
     "text": [
      "+--------------------------------+----------------------------------------+--------------------------------+-----------+-----------+------------+\n",
      "|              Name              |                  Loc                   |              Tech              | Old share | New share | Sum shares |\n",
      "+--------------------------------+----------------------------------------+--------------------------------+-----------+-----------+------------+\n",
      "| gh voltage, aluminium industry |               UN-OCEANIA               | ion, hydro, aluminium industry |    0.27   |   0.635   |    1.0     |\n",
      "| gh voltage, aluminium industry |               UN-OCEANIA               | tion, coal, aluminium industry |    0.73   |   0.365   |    1.0     |\n",
      "| gh voltage, aluminium industry |                  RoW                   | n, nuclear, aluminium industry |    0.09   |   0.545   |    1.0     |\n",
      "| gh voltage, aluminium industry |                  RoW                   | tion, coal, aluminium industry |    0.91   |   0.455   |    1.0     |\n",
      "| gh voltage, aluminium industry | IAI Area, Asia, without China and GCC  | ion, hydro, aluminium industry |    0.14   |    0.57   |    1.0     |\n",
      "| gh voltage, aluminium industry | IAI Area, Asia, without China and GCC  | tion, coal, aluminium industry |    0.86   |    0.43   |    1.0     |\n",
      "| gh voltage, aluminium industry |                   CN                   | ion, hydro, aluminium industry |    0.1    |    0.55   |    1.0     |\n",
      "| gh voltage, aluminium industry |                   CN                   | tion, coal, aluminium industry |    0.9    |    0.45   |    1.0     |\n",
      "| gh voltage, aluminium industry |        IAI Area, South America         | ion, hydro, aluminium industry |   0.727   |   0.727   |    1.0     |\n",
      "| gh voltage, aluminium industry |        IAI Area, South America         | atural gas, aluminium industry |   0.273   |   0.273   |    1.0     |\n",
      "| gh voltage, aluminium industry |   IAI Area, Gulf Cooperation Council   | atural gas, aluminium industry |    1.0    |    1.0    |    1.0     |\n",
      "| gh voltage, aluminium industry |   IAI Area, Gulf Cooperation Council   | ction, oil, aluminium industry |    0.0    |    0.0    |    1.0     |\n",
      "| gh voltage, aluminium industry |         IAI Area, EU27 & EFTA          | n, nuclear, aluminium industry |   0.143   |   0.155   |    1.0     |\n",
      "| gh voltage, aluminium industry |         IAI Area, EU27 & EFTA          | ction, oil, aluminium industry |   0.004   |   0.015   |    1.0     |\n",
      "| gh voltage, aluminium industry |         IAI Area, EU27 & EFTA          | tion, coal, aluminium industry |   0.092   |   0.046   |    1.0     |\n",
      "| gh voltage, aluminium industry |         IAI Area, EU27 & EFTA          | ion, hydro, aluminium industry |   0.711   |   0.723   |    1.0     |\n",
      "| gh voltage, aluminium industry |         IAI Area, EU27 & EFTA          | atural gas, aluminium industry |    0.05   |   0.061   |    1.0     |\n",
      "| gh voltage, aluminium industry |            IAI Area, Africa            | ion, hydro, aluminium industry |    0.57   |   0.785   |    1.0     |\n",
      "| gh voltage, aluminium industry |            IAI Area, Africa            | tion, coal, aluminium industry |    0.43   |   0.215   |    1.0     |\n",
      "| gh voltage, aluminium industry | IAI Area, Russia & RER w/o EU27 & EFTA | tion, coal, aluminium industry |   0.025   |   0.013   |    1.0     |\n",
      "| gh voltage, aluminium industry | IAI Area, Russia & RER w/o EU27 & EFTA | n, nuclear, aluminium industry |   0.042   |   0.048   |    1.0     |\n",
      "| gh voltage, aluminium industry | IAI Area, Russia & RER w/o EU27 & EFTA | ion, hydro, aluminium industry |   0.933   |   0.939   |    1.0     |\n",
      "| gh voltage, aluminium industry |                   CA                   | atural gas, aluminium industry |   0.035   |   0.035   |    1.0     |\n",
      "| gh voltage, aluminium industry |                   CA                   | ion, hydro, aluminium industry |   0.965   |   0.965   |    1.0     |\n",
      "+--------------------------------+----------------------------------------+--------------------------------+-----------+-----------+------------+\n"
     ]
    }
   ],
   "source": [
    "db = modify_al_electricity_mix(db, 0.5, 0.9)"
   ]
  },
  {
   "cell_type": "markdown",
   "id": "29fba6e3-9331-404d-94f5-ec1048707c5e",
   "metadata": {},
   "source": [
    "### 7. Running the script:\n",
    "\n",
    "Run the three transformation functions for 2035 and 2050"
   ]
  },
  {
   "cell_type": "code",
   "execution_count": 42,
   "id": "801fcff4-cd5c-49d1-bc41-cdc8493ec028",
   "metadata": {},
   "outputs": [],
   "source": [
    "db_2035, db_2050 = load_db(), load_db()"
   ]
  },
  {
   "cell_type": "code",
   "execution_count": 43,
   "id": "81a5cd5f-76bb-43ee-a63d-c6490db758f9",
   "metadata": {
    "tags": []
   },
   "outputs": [
    {
     "name": "stdout",
     "output_type": "stream",
     "text": [
      "+----------------------------------------------------+-------+-----------+-------------+---------+----------------+\n",
      "|                        Name                        | Power |    Tech   | Current eff | New eff | Scaling factor |\n",
      "+----------------------------------------------------+-------+-----------+-------------+---------+----------------+\n",
      "| tallation, 3kWp, multi-Si, panel, mounted, on roof |  3.0  |  multi-Si |     0.13    |   0.21  |      0.62      |\n",
      "| c flat-roof installation, 3kWp, single-Si, on roof |  3.0  | single-Si |     0.14    |   0.22  |      0.61      |\n",
      "| n, 3kWp, ribbon-Si, laminated, integrated, on roof |  3.0  | ribbon-Si |     0.12    |   0.13  |      0.91      |\n",
      "| 3kWp, multi-Si, laminated, integrated, at building |  3.0  |  multi-Si |     0.13    |   0.21  |      0.62      |\n",
      "| ation, 3kWp, multi-Si, panel, mounted, at building |  3.0  |  multi-Si |     0.13    |   0.21  |      0.62      |\n",
      "| ic flat-roof installation, 3kWp, multi-Si, on roof |  3.0  |  multi-Si |     0.13    |   0.21  |      0.62      |\n",
      "| n, 3kWp, single-Si, laminated, integrated, on roof |  3.0  | single-Si |     0.14    |   0.22  |      0.61      |\n",
      "| f installation, 3kWp, CIS, panel, mounted, on roof |  3.0  |    CIS    |     0.1     |   0.19  |      0.55      |\n",
      "| lation, 3kWp, a-Si, laminated, integrated, on roof |  3.0  |    a-Si   |     0.06    |   0.13  |      0.47      |\n",
      "| allation, 3kWp, single-Si, panel, mounted, on roof |  3.0  | single-Si |     0.14    |   0.22  |      0.61      |\n",
      "| allation, 3kWp, ribbon-Si, panel, mounted, on roof |  3.0  | ribbon-Si |     0.12    |   0.13  |      0.91      |\n",
      "| kWp, single-Si, laminated, integrated, at building |  3.0  | single-Si |     0.14    |   0.22  |      0.61      |\n",
      "| on, 3kWp, multi-Si, laminated, integrated, on roof |  3.0  |  multi-Si |     0.13    |   0.21  |      0.62      |\n",
      "|  installation, 3kWp, a-Si, panel, mounted, on roof |  3.0  |    a-Si   |     0.06    |   0.13  |      0.47      |\n",
      "| tion, 3kWp, single-Si, panel, mounted, at building |  3.0  | single-Si |     0.14    |   0.22  |      0.61      |\n",
      "| lation, 3kWp, CdTe, laminated, integrated, on roof |  3.0  |    CdTe   |     0.09    |   0.19  |      0.46      |\n",
      "+----------------------------------------------------+-------+-----------+-------------+---------+----------------+\n",
      "+----------------------------------------------------+-------+-----------+-------------+---------+----------------+\n",
      "|                        Name                        | Power |    Tech   | Current eff | New eff | Scaling factor |\n",
      "+----------------------------------------------------+-------+-----------+-------------+---------+----------------+\n",
      "| tallation, 3kWp, multi-Si, panel, mounted, on roof |  3.0  |  multi-Si |     0.13    |   0.24  |      0.52      |\n",
      "| c flat-roof installation, 3kWp, single-Si, on roof |  3.0  | single-Si |     0.14    |   0.27  |      0.51      |\n",
      "| n, 3kWp, ribbon-Si, laminated, integrated, on roof |  3.0  | ribbon-Si |     0.12    |   0.14  |      0.86      |\n",
      "| 3kWp, multi-Si, laminated, integrated, at building |  3.0  |  multi-Si |     0.13    |   0.24  |      0.52      |\n",
      "| ation, 3kWp, multi-Si, panel, mounted, at building |  3.0  |  multi-Si |     0.13    |   0.24  |      0.52      |\n",
      "| ic flat-roof installation, 3kWp, multi-Si, on roof |  3.0  |  multi-Si |     0.13    |   0.24  |      0.52      |\n",
      "| n, 3kWp, single-Si, laminated, integrated, on roof |  3.0  | single-Si |     0.14    |   0.27  |      0.51      |\n",
      "| f installation, 3kWp, CIS, panel, mounted, on roof |  3.0  |    CIS    |     0.1     |   0.23  |      0.44      |\n",
      "| lation, 3kWp, a-Si, laminated, integrated, on roof |  3.0  |    a-Si   |     0.06    |   0.14  |      0.44      |\n",
      "| allation, 3kWp, single-Si, panel, mounted, on roof |  3.0  | single-Si |     0.14    |   0.27  |      0.51      |\n",
      "| allation, 3kWp, ribbon-Si, panel, mounted, on roof |  3.0  | ribbon-Si |     0.12    |   0.14  |      0.86      |\n",
      "| kWp, single-Si, laminated, integrated, at building |  3.0  | single-Si |     0.14    |   0.27  |      0.51      |\n",
      "| on, 3kWp, multi-Si, laminated, integrated, on roof |  3.0  |  multi-Si |     0.13    |   0.24  |      0.52      |\n",
      "|  installation, 3kWp, a-Si, panel, mounted, on roof |  3.0  |    a-Si   |     0.06    |   0.14  |      0.44      |\n",
      "| tion, 3kWp, single-Si, panel, mounted, at building |  3.0  | single-Si |     0.14    |   0.27  |      0.51      |\n",
      "| lation, 3kWp, CdTe, laminated, integrated, on roof |  3.0  |    CdTe   |     0.09    |   0.21  |      0.42      |\n",
      "+----------------------------------------------------+-------+-----------+-------------+---------+----------------+\n",
      "+----------------------------------------------------+-----+--------------+----------+-------------+-----------+-----------+\n",
      "|                        Name                        | Loc | kWh/lifetime | kWh/year | kWh/year/kW | Old input | New input |\n",
      "+----------------------------------------------------+-----+--------------+----------+-------------+-----------+-----------+\n",
      "| ade installation, single-Si, laminated, integrated |  CH |    55800     |   2232   |     744     |  1.49E-05 |  1.24E-05 |\n",
      "| oof installation, single-Si, laminated, integrated |  CH |    82980     |   3319   |     1106    |  1.00E-05 |  8.37E-06 |\n",
      "| otovoltaic, 3kWp flat-roof installation, single-Si |  CH |    82980     |   3319   |     1106    |  1.00E-05 |  8.37E-06 |\n",
      "| ted-roof installation, CdTe, laminated, integrated |  CH |    82980     |   3319   |     1106    |  1.00E-05 |  8.37E-06 |\n",
      "| oof installation, ribbon-Si, laminated, integrated |  CH |    82980     |   3319   |     1106    |  1.00E-05 |  8.37E-06 |\n",
      "| kWp facade installation, single-Si, panel, mounted |  CH |    55800     |   2232   |     744     |  1.49E-05 |  1.24E-05 |\n",
      "| ted-roof installation, a-Si, laminated, integrated |  CH |    82980     |   3319   |     1106    |  1.00E-05 |  8.37E-06 |\n",
      "| anted-roof installation, ribbon-Si, panel, mounted |  CH |    82980     |   3319   |     1106    |  1.00E-05 |  8.37E-06 |\n",
      "| Wp slanted-roof installation, a-Si, panel, mounted |  CH |    82980     |   3319   |     1106    |  1.00E-05 |  8.37E-06 |\n",
      "| cade installation, multi-Si, laminated, integrated |  CH |    55800     |   2232   |     744     |  1.49E-05 |  1.24E-05 |\n",
      "| 3kWp facade installation, multi-Si, panel, mounted |  CH |    55800     |   2232   |     744     |  1.49E-05 |  1.24E-05 |\n",
      "| hotovoltaic, 3kWp flat-roof installation, multi-Si |  CH |    82980     |   3319   |     1106    |  1.00E-05 |  8.37E-06 |\n",
      "| anted-roof installation, single-Si, panel, mounted |  CH |    73857     |   2954   |     984     |  1.13E-05 |  9.40E-06 |\n",
      "| roof installation, multi-Si, laminated, integrated |  CH |    82980     |   3319   |     1106    |  1.00E-05 |  8.37E-06 |\n",
      "| kWp slanted-roof installation, CIS, panel, mounted |  CH |    82980     |   3319   |     1106    |  1.00E-05 |  8.37E-06 |\n",
      "| lanted-roof installation, multi-Si, panel, mounted |  CH |    86360     |   3454   |     1151    |  9.65E-06 |  8.04E-06 |\n",
      "+----------------------------------------------------+-----+--------------+----------+-------------+-----------+-----------+\n",
      "+----------------------------------------------------+-----+--------------+----------+-------------+-----------+-----------+\n",
      "|                        Name                        | Loc | kWh/lifetime | kWh/year | kWh/year/kW | Old input | New input |\n",
      "+----------------------------------------------------+-----+--------------+----------+-------------+-----------+-----------+\n",
      "| ade installation, single-Si, laminated, integrated |  CH |    55800     |   2232   |     744     |  1.12E-05 |  7.00E-06 |\n",
      "| oof installation, single-Si, laminated, integrated |  CH |    82980     |   3319   |     1106    |  7.53E-06 |  4.71E-06 |\n",
      "| otovoltaic, 3kWp flat-roof installation, single-Si |  CH |    82980     |   3319   |     1106    |  7.53E-06 |  4.71E-06 |\n",
      "| ted-roof installation, CdTe, laminated, integrated |  CH |    82980     |   3319   |     1106    |  7.53E-06 |  4.71E-06 |\n",
      "| oof installation, ribbon-Si, laminated, integrated |  CH |    82980     |   3319   |     1106    |  7.53E-06 |  4.71E-06 |\n",
      "| kWp facade installation, single-Si, panel, mounted |  CH |    55800     |   2232   |     744     |  1.12E-05 |  7.00E-06 |\n",
      "| ted-roof installation, a-Si, laminated, integrated |  CH |    82980     |   3319   |     1106    |  7.53E-06 |  4.71E-06 |\n",
      "| anted-roof installation, ribbon-Si, panel, mounted |  CH |    82980     |   3319   |     1106    |  7.53E-06 |  4.71E-06 |\n",
      "| Wp slanted-roof installation, a-Si, panel, mounted |  CH |    82980     |   3319   |     1106    |  7.53E-06 |  4.71E-06 |\n",
      "| cade installation, multi-Si, laminated, integrated |  CH |    55800     |   2232   |     744     |  1.12E-05 |  7.00E-06 |\n",
      "| 3kWp facade installation, multi-Si, panel, mounted |  CH |    55800     |   2232   |     744     |  1.12E-05 |  7.00E-06 |\n",
      "| hotovoltaic, 3kWp flat-roof installation, multi-Si |  CH |    82980     |   3319   |     1106    |  7.53E-06 |  4.71E-06 |\n",
      "| anted-roof installation, single-Si, panel, mounted |  CH |    73857     |   2954   |     984     |  8.46E-06 |  5.29E-06 |\n",
      "| roof installation, multi-Si, laminated, integrated |  CH |    82980     |   3319   |     1106    |  7.53E-06 |  4.71E-06 |\n",
      "| kWp slanted-roof installation, CIS, panel, mounted |  CH |    82980     |   3319   |     1106    |  7.53E-06 |  4.71E-06 |\n",
      "| lanted-roof installation, multi-Si, panel, mounted |  CH |    86360     |   3454   |     1151    |  7.24E-06 |  4.52E-06 |\n",
      "+----------------------------------------------------+-----+--------------+----------+-------------+-----------+-----------+\n",
      "+--------------------------------+----------------------------------------+--------------------------------+-----------+-----------+------------+\n",
      "|              Name              |                  Loc                   |              Tech              | Old share | New share | Sum shares |\n",
      "+--------------------------------+----------------------------------------+--------------------------------+-----------+-----------+------------+\n",
      "| gh voltage, aluminium industry |               UN-OCEANIA               | ion, hydro, aluminium industry |    0.27   |   0.635   |    1.0     |\n",
      "| gh voltage, aluminium industry |               UN-OCEANIA               | tion, coal, aluminium industry |    0.73   |   0.365   |    1.0     |\n",
      "| gh voltage, aluminium industry |                  RoW                   | n, nuclear, aluminium industry |    0.09   |   0.545   |    1.0     |\n",
      "| gh voltage, aluminium industry |                  RoW                   | tion, coal, aluminium industry |    0.91   |   0.455   |    1.0     |\n",
      "| gh voltage, aluminium industry | IAI Area, Asia, without China and GCC  | ion, hydro, aluminium industry |    0.14   |    0.57   |    1.0     |\n",
      "| gh voltage, aluminium industry | IAI Area, Asia, without China and GCC  | tion, coal, aluminium industry |    0.86   |    0.43   |    1.0     |\n",
      "| gh voltage, aluminium industry |                   CN                   | ion, hydro, aluminium industry |    0.1    |    0.55   |    1.0     |\n",
      "| gh voltage, aluminium industry |                   CN                   | tion, coal, aluminium industry |    0.9    |    0.45   |    1.0     |\n",
      "| gh voltage, aluminium industry |        IAI Area, South America         | ion, hydro, aluminium industry |   0.727   |   0.727   |    1.0     |\n",
      "| gh voltage, aluminium industry |        IAI Area, South America         | atural gas, aluminium industry |   0.273   |   0.273   |    1.0     |\n",
      "| gh voltage, aluminium industry |   IAI Area, Gulf Cooperation Council   | atural gas, aluminium industry |    1.0    |    1.0    |    1.0     |\n",
      "| gh voltage, aluminium industry |   IAI Area, Gulf Cooperation Council   | ction, oil, aluminium industry |    0.0    |    0.0    |    1.0     |\n",
      "| gh voltage, aluminium industry |         IAI Area, EU27 & EFTA          | n, nuclear, aluminium industry |   0.143   |   0.155   |    1.0     |\n",
      "| gh voltage, aluminium industry |         IAI Area, EU27 & EFTA          | ction, oil, aluminium industry |   0.004   |   0.015   |    1.0     |\n",
      "| gh voltage, aluminium industry |         IAI Area, EU27 & EFTA          | tion, coal, aluminium industry |   0.092   |   0.046   |    1.0     |\n",
      "| gh voltage, aluminium industry |         IAI Area, EU27 & EFTA          | ion, hydro, aluminium industry |   0.711   |   0.723   |    1.0     |\n",
      "| gh voltage, aluminium industry |         IAI Area, EU27 & EFTA          | atural gas, aluminium industry |    0.05   |   0.061   |    1.0     |\n",
      "| gh voltage, aluminium industry |            IAI Area, Africa            | ion, hydro, aluminium industry |    0.57   |   0.785   |    1.0     |\n",
      "| gh voltage, aluminium industry |            IAI Area, Africa            | tion, coal, aluminium industry |    0.43   |   0.215   |    1.0     |\n",
      "| gh voltage, aluminium industry | IAI Area, Russia & RER w/o EU27 & EFTA | tion, coal, aluminium industry |   0.025   |   0.013   |    1.0     |\n",
      "| gh voltage, aluminium industry | IAI Area, Russia & RER w/o EU27 & EFTA | n, nuclear, aluminium industry |   0.042   |   0.048   |    1.0     |\n",
      "| gh voltage, aluminium industry | IAI Area, Russia & RER w/o EU27 & EFTA | ion, hydro, aluminium industry |   0.933   |   0.939   |    1.0     |\n",
      "| gh voltage, aluminium industry |                   CA                   | atural gas, aluminium industry |   0.035   |   0.035   |    1.0     |\n",
      "| gh voltage, aluminium industry |                   CA                   | ion, hydro, aluminium industry |   0.965   |   0.965   |    1.0     |\n",
      "+--------------------------------+----------------------------------------+--------------------------------+-----------+-----------+------------+\n",
      "+--------------------------------+----------------------------------------+--------------------------------+-----------+-----------+------------+\n",
      "|              Name              |                  Loc                   |              Tech              | Old share | New share | Sum shares |\n",
      "+--------------------------------+----------------------------------------+--------------------------------+-----------+-----------+------------+\n",
      "| gh voltage, aluminium industry |               UN-OCEANIA               | ion, hydro, aluminium industry |    0.27   |    1.0    |    1.0     |\n",
      "| gh voltage, aluminium industry |               UN-OCEANIA               | tion, coal, aluminium industry |    0.73   |    0.0    |    1.0     |\n",
      "| gh voltage, aluminium industry |                  RoW                   | n, nuclear, aluminium industry |    0.09   |    1.0    |    1.0     |\n",
      "| gh voltage, aluminium industry |                  RoW                   | tion, coal, aluminium industry |    0.91   |    0.0    |    1.0     |\n",
      "| gh voltage, aluminium industry | IAI Area, Asia, without China and GCC  | ion, hydro, aluminium industry |    0.14   |    1.0    |    1.0     |\n",
      "| gh voltage, aluminium industry | IAI Area, Asia, without China and GCC  | tion, coal, aluminium industry |    0.86   |    0.0    |    1.0     |\n",
      "| gh voltage, aluminium industry |                   CN                   | ion, hydro, aluminium industry |    0.1    |    1.0    |    1.0     |\n",
      "| gh voltage, aluminium industry |                   CN                   | tion, coal, aluminium industry |    0.9    |    0.0    |    1.0     |\n",
      "| gh voltage, aluminium industry |        IAI Area, South America         | ion, hydro, aluminium industry |   0.727   |   0.727   |    1.0     |\n",
      "| gh voltage, aluminium industry |        IAI Area, South America         | atural gas, aluminium industry |   0.273   |   0.273   |    1.0     |\n",
      "| gh voltage, aluminium industry |   IAI Area, Gulf Cooperation Council   | atural gas, aluminium industry |    1.0    |    1.0    |    1.0     |\n",
      "| gh voltage, aluminium industry |   IAI Area, Gulf Cooperation Council   | ction, oil, aluminium industry |    0.0    |    0.0    |    1.0     |\n",
      "| gh voltage, aluminium industry |         IAI Area, EU27 & EFTA          | n, nuclear, aluminium industry |   0.143   |   0.166   |    1.0     |\n",
      "| gh voltage, aluminium industry |         IAI Area, EU27 & EFTA          | ction, oil, aluminium industry |   0.004   |   0.027   |    1.0     |\n",
      "| gh voltage, aluminium industry |         IAI Area, EU27 & EFTA          | tion, coal, aluminium industry |   0.092   |    0.0    |    1.0     |\n",
      "| gh voltage, aluminium industry |         IAI Area, EU27 & EFTA          | ion, hydro, aluminium industry |   0.711   |   0.734   |    1.0     |\n",
      "| gh voltage, aluminium industry |         IAI Area, EU27 & EFTA          | atural gas, aluminium industry |    0.05   |   0.073   |    1.0     |\n",
      "| gh voltage, aluminium industry |            IAI Area, Africa            | ion, hydro, aluminium industry |    0.57   |    1.0    |    1.0     |\n",
      "| gh voltage, aluminium industry |            IAI Area, Africa            | tion, coal, aluminium industry |    0.43   |    0.0    |    1.0     |\n",
      "| gh voltage, aluminium industry | IAI Area, Russia & RER w/o EU27 & EFTA | tion, coal, aluminium industry |   0.025   |    0.0    |    1.0     |\n",
      "| gh voltage, aluminium industry | IAI Area, Russia & RER w/o EU27 & EFTA | n, nuclear, aluminium industry |   0.042   |   0.055   |    1.0     |\n",
      "| gh voltage, aluminium industry | IAI Area, Russia & RER w/o EU27 & EFTA | ion, hydro, aluminium industry |   0.933   |   0.945   |    1.0     |\n",
      "| gh voltage, aluminium industry |                   CA                   | atural gas, aluminium industry |   0.035   |   0.035   |    1.0     |\n",
      "| gh voltage, aluminium industry |                   CA                   | ion, hydro, aluminium industry |   0.965   |   0.965   |    1.0     |\n",
      "+--------------------------------+----------------------------------------+--------------------------------+-----------+-----------+------------+\n"
     ]
    }
   ],
   "source": [
    "db_2035 = modify_module_efficiency(db_2035, 2035)\n",
    "db_2050 = modify_module_efficiency(db_2050, 2050)\n",
    "\n",
    "db_2035 = modify_pv_lifetime(db_2035, 25, 30)\n",
    "db_2050 = modify_pv_lifetime(db_2050, 25, 40)\n",
    "\n",
    "db_2035 = modify_al_electricity_mix(db_2035, .5, .95)\n",
    "db_2050 = modify_al_electricity_mix(db_2050, 0, .9)"
   ]
  },
  {
   "cell_type": "markdown",
   "id": "d4183539",
   "metadata": {},
   "source": [
    "### 8. Exporting Databases:"
   ]
  },
  {
   "cell_type": "markdown",
   "id": "059ea95e-ff16-43cb-af3f-a4eb8e198ffb",
   "metadata": {},
   "source": [
    "Here, we use `wurst`'s export capability. \n",
    "In this case, we export the modified databases back to the `brightway` project."
   ]
  },
  {
   "cell_type": "code",
   "execution_count": 44,
   "id": "4e3fe55a-a68c-4a70-8d03-7a4fbab83274",
   "metadata": {
    "tags": []
   },
   "outputs": [],
   "source": [
    "# let's delete these databases if they already exist in our project.\n",
    "\n",
    "if \"PV 2035\" in bw2data.databases:\n",
    "    del bw2data.databases[\"PV 2035\"]\n",
    "\n",
    "if \"PV 2050\" in bw2data.databases:\n",
    "    del bw2data.databases[\"PV 2050\"]"
   ]
  },
  {
   "cell_type": "code",
   "execution_count": 45,
   "id": "69b6f900-b405-4708-aa5e-4fb2b3b4b63b",
   "metadata": {
    "tags": []
   },
   "outputs": [
    {
     "name": "stdout",
     "output_type": "stream",
     "text": [
      "23523 datasets\n",
      "743409 exchanges\n",
      "0 unlinked exchanges\n",
      "  \n"
     ]
    },
    {
     "name": "stderr",
     "output_type": "stream",
     "text": [
      "Writing activities to SQLite3 database:\n",
      "0% [##############################] 100% | ETA: 00:00:00\n",
      "Total time elapsed: 00:00:16\n"
     ]
    },
    {
     "name": "stdout",
     "output_type": "stream",
     "text": [
      "Title: Writing activities to SQLite3 database:\n",
      "  Started: 02/06/2025 14:48:39\n",
      "  Finished: 02/06/2025 14:48:56\n",
      "  Total time elapsed: 00:00:16\n",
      "  CPU %: 93.10\n",
      "  Memory %: 19.57\n",
      "Created database: PV 2035\n",
      "23523 datasets\n",
      "743409 exchanges\n",
      "0 unlinked exchanges\n",
      "  \n"
     ]
    },
    {
     "name": "stderr",
     "output_type": "stream",
     "text": [
      "Writing activities to SQLite3 database:\n",
      "0% [##############################] 100% | ETA: 00:00:00\n",
      "Total time elapsed: 00:00:16\n"
     ]
    },
    {
     "name": "stdout",
     "output_type": "stream",
     "text": [
      "Title: Writing activities to SQLite3 database:\n",
      "  Started: 02/06/2025 14:50:41\n",
      "  Finished: 02/06/2025 14:50:58\n",
      "  Total time elapsed: 00:00:16\n",
      "  CPU %: 91.80\n",
      "  Memory %: 19.20\n",
      "Created database: PV 2050\n"
     ]
    }
   ],
   "source": [
    "wurst.write_brightway2_database(db_2035, \"PV 2035\")\n",
    "wurst.write_brightway2_database(db_2050, \"PV 2050\")"
   ]
  },
  {
   "cell_type": "markdown",
   "id": "7a5784ac-3084-4cdb-a1c8-081bf08abfb2",
   "metadata": {},
   "source": [
    "### 9. Comparing results:"
   ]
  },
  {
   "cell_type": "code",
   "execution_count": 46,
   "id": "4cef9ec0-9a38-483b-a4de-2a6b6e078c03",
   "metadata": {},
   "outputs": [],
   "source": [
    "FU = [\n",
    "    act for db in [\n",
    "        \"ecoinvent-3.10-cutoff\", \"PV 2035\", \"PV 2050\"\n",
    "    ] for act in bw2data.Database(db) if \"electricity production\" in act[\"name\"]\n",
    "    and \"photovoltaic\" in act[\"name\"] and act[\"unit\"] == \"kilowatt hour\" \n",
    "    and act[\"location\"] == \"CH\"\n",
    "]"
   ]
  },
  {
   "cell_type": "code",
   "execution_count": 47,
   "id": "3d49c59a-4195-4c26-b7fa-4ad02e51110f",
   "metadata": {},
   "outputs": [
    {
     "data": {
      "text/plain": [
       "54"
      ]
     },
     "execution_count": 47,
     "metadata": {},
     "output_type": "execute_result"
    }
   ],
   "source": [
    "len(FU)"
   ]
  },
  {
   "cell_type": "code",
   "execution_count": 48,
   "id": "47a56177-91fa-4d50-8d30-2c9bd8ce8c4c",
   "metadata": {},
   "outputs": [],
   "source": [
    "method = ('IPCC 2021', 'climate change: fossil', 'global warming potential (GWP100)')"
   ]
  },
  {
   "cell_type": "markdown",
   "id": "c35ceca0-8487-4fc9-967b-62cc9444fe3e",
   "metadata": {},
   "source": [
    "Let's calculate this."
   ]
  },
  {
   "cell_type": "code",
   "execution_count": 51,
   "id": "865f1854-c431-45dc-8308-8e7753d9fb22",
   "metadata": {},
   "outputs": [],
   "source": [
    "import bw2calc\n",
    "import numpy as np\n",
    "from bw2calc.errors import OutsideTechnosphere\n",
    "\n",
    "# we create an array to store our results\n",
    "results = []\n",
    "\n",
    "# we initialize the LCA matrices\n",
    "lca = bw2calc.LCA({FU[0]: 1}, method)\n",
    "lca.lci()\n",
    "lca.lcia()\n",
    "\n",
    "for i, fu in enumerate(FU):\n",
    "    try:\n",
    "        lca.redo_lci({fu: 1})\n",
    "        lca.lcia()\n",
    "    except OutsideTechnosphere:\n",
    "        lca = bw2calc.LCA({fu: 1}, method)\n",
    "        lca.lci()\n",
    "        lca.lcia()\n",
    "        \n",
    "    results.append(lca.score)"
   ]
  },
  {
   "cell_type": "code",
   "execution_count": 52,
   "id": "06e6ed7d-7cc5-4f67-847c-7c915eb629cd",
   "metadata": {},
   "outputs": [],
   "source": [
    "import pandas as pd\n",
    "df = pd.DataFrame(\n",
    "    zip(\n",
    "        [a[\"name\"] for a in FU],\n",
    "        [a[\"database\"] for a in FU],\n",
    "        results\n",
    "    ),\n",
    "    columns=[\"name\", \"year\", \"GWP\"]\n",
    ")"
   ]
  },
  {
   "cell_type": "code",
   "execution_count": 53,
   "id": "00025806-6278-43c3-8820-0eb955b1cf20",
   "metadata": {
    "tags": []
   },
   "outputs": [
    {
     "data": {
      "text/html": [
       "<div>\n",
       "<style scoped>\n",
       "    .dataframe tbody tr th:only-of-type {\n",
       "        vertical-align: middle;\n",
       "    }\n",
       "\n",
       "    .dataframe tbody tr th {\n",
       "        vertical-align: top;\n",
       "    }\n",
       "\n",
       "    .dataframe thead th {\n",
       "        text-align: right;\n",
       "    }\n",
       "</style>\n",
       "<table border=\"1\" class=\"dataframe\">\n",
       "  <thead>\n",
       "    <tr style=\"text-align: right;\">\n",
       "      <th></th>\n",
       "      <th>name</th>\n",
       "      <th>year</th>\n",
       "      <th>GWP</th>\n",
       "    </tr>\n",
       "  </thead>\n",
       "  <tbody>\n",
       "    <tr>\n",
       "      <th>0</th>\n",
       "      <td>electricity production, photovoltaic, 3kWp sla...</td>\n",
       "      <td>ecoinvent-3.10-cutoff</td>\n",
       "      <td>0.067716</td>\n",
       "    </tr>\n",
       "    <tr>\n",
       "      <th>1</th>\n",
       "      <td>electricity production, photovoltaic, 3kWp fac...</td>\n",
       "      <td>ecoinvent-3.10-cutoff</td>\n",
       "      <td>0.117389</td>\n",
       "    </tr>\n",
       "    <tr>\n",
       "      <th>2</th>\n",
       "      <td>electricity production, photovoltaic, 3kWp sla...</td>\n",
       "      <td>ecoinvent-3.10-cutoff</td>\n",
       "      <td>0.076454</td>\n",
       "    </tr>\n",
       "    <tr>\n",
       "      <th>3</th>\n",
       "      <td>electricity production, photovoltaic, 3kWp sla...</td>\n",
       "      <td>ecoinvent-3.10-cutoff</td>\n",
       "      <td>0.080722</td>\n",
       "    </tr>\n",
       "    <tr>\n",
       "      <th>4</th>\n",
       "      <td>electricity production, photovoltaic, 3kWp sla...</td>\n",
       "      <td>ecoinvent-3.10-cutoff</td>\n",
       "      <td>0.084010</td>\n",
       "    </tr>\n",
       "  </tbody>\n",
       "</table>\n",
       "</div>"
      ],
      "text/plain": [
       "                                                name                   year  \\\n",
       "0  electricity production, photovoltaic, 3kWp sla...  ecoinvent-3.10-cutoff   \n",
       "1  electricity production, photovoltaic, 3kWp fac...  ecoinvent-3.10-cutoff   \n",
       "2  electricity production, photovoltaic, 3kWp sla...  ecoinvent-3.10-cutoff   \n",
       "3  electricity production, photovoltaic, 3kWp sla...  ecoinvent-3.10-cutoff   \n",
       "4  electricity production, photovoltaic, 3kWp sla...  ecoinvent-3.10-cutoff   \n",
       "\n",
       "        GWP  \n",
       "0  0.067716  \n",
       "1  0.117389  \n",
       "2  0.076454  \n",
       "3  0.080722  \n",
       "4  0.084010  "
      ]
     },
     "execution_count": 53,
     "metadata": {},
     "output_type": "execute_result"
    }
   ],
   "source": [
    "df.head()"
   ]
  },
  {
   "cell_type": "code",
   "execution_count": 54,
   "id": "c38eba03-d026-4e49-a25f-7e9e4583722e",
   "metadata": {},
   "outputs": [
    {
     "name": "stderr",
     "output_type": "stream",
     "text": [
      "/var/folders/cn/pys1j9rn0y7djkhv3hfdtrs00000gn/T/ipykernel_64653/4150662962.py:3: FutureWarning: Downcasting behavior in `replace` is deprecated and will be removed in a future version. To retain the old behavior, explicitly call `result.infer_objects(copy=False)`. To opt-in to the future behavior, set `pd.set_option('future.no_silent_downcasting', True)`\n",
      "  df = df.replace(\"PV 2050\", 2050)\n"
     ]
    }
   ],
   "source": [
    "df = df.replace(\"ecoinvent-3.10-cutoff\", 2020)\n",
    "df = df.replace(\"PV 2035\", 2035)\n",
    "df = df.replace(\"PV 2050\", 2050)\n",
    "df[\"year\"] = df[\"year\"].astype(\"str\")"
   ]
  },
  {
   "cell_type": "code",
   "execution_count": 55,
   "id": "9eb7fe3e-bcaf-4dad-9f26-ff206540ab30",
   "metadata": {},
   "outputs": [
    {
     "data": {
      "text/plain": [
       "Text(0, 0.5, 'kg CO$_2$-eq./kWh')"
      ]
     },
     "execution_count": 55,
     "metadata": {},
     "output_type": "execute_result"
    },
    {
     "data": {
      "image/png": "[encoded data removed]",
      "text/plain": [
       "<Figure size 640x480 with 1 Axes>"
      ]
     },
     "metadata": {},
     "output_type": "display_data"
    }
   ],
   "source": [
    "\n",
    "\n",
    "# plot with seaborn barplot\n",
    "sns.barplot(data=df, x='name', y='GWP', hue='year')\n",
    "\n",
    "plt.xticks([])\n",
    "plt.ylabel(\"kg CO$_2$-eq./kWh\")"
   ]
  },
  {
   "cell_type": "markdown",
   "id": "503ee7f2-ee6d-490d-b136-288d72319b14",
   "metadata": {},
   "source": [
    "### 10. Bonus: can you show the respective tranformation contributions?"
   ]
  },
  {
   "cell_type": "code",
   "execution_count": 56,
   "id": "4d5bcac7-d85e-4d71-bf4f-37dba4b721cd",
   "metadata": {},
   "outputs": [
    {
     "name": "stdout",
     "output_type": "stream",
     "text": [
      "+----------------------------------------------------+-------+-----------+-------------+---------+----------------+\n",
      "|                        Name                        | Power |    Tech   | Current eff | New eff | Scaling factor |\n",
      "+----------------------------------------------------+-------+-----------+-------------+---------+----------------+\n",
      "| tallation, 3kWp, multi-Si, panel, mounted, on roof |  3.0  |  multi-Si |     0.13    |   0.24  |      0.52      |\n",
      "| c flat-roof installation, 3kWp, single-Si, on roof |  3.0  | single-Si |     0.14    |   0.27  |      0.51      |\n",
      "| n, 3kWp, ribbon-Si, laminated, integrated, on roof |  3.0  | ribbon-Si |     0.12    |   0.14  |      0.86      |\n",
      "| 3kWp, multi-Si, laminated, integrated, at building |  3.0  |  multi-Si |     0.13    |   0.24  |      0.52      |\n",
      "| ation, 3kWp, multi-Si, panel, mounted, at building |  3.0  |  multi-Si |     0.13    |   0.24  |      0.52      |\n",
      "| ic flat-roof installation, 3kWp, multi-Si, on roof |  3.0  |  multi-Si |     0.13    |   0.24  |      0.52      |\n",
      "| n, 3kWp, single-Si, laminated, integrated, on roof |  3.0  | single-Si |     0.14    |   0.27  |      0.51      |\n",
      "| f installation, 3kWp, CIS, panel, mounted, on roof |  3.0  |    CIS    |     0.1     |   0.23  |      0.44      |\n",
      "| lation, 3kWp, a-Si, laminated, integrated, on roof |  3.0  |    a-Si   |     0.06    |   0.14  |      0.44      |\n",
      "| allation, 3kWp, single-Si, panel, mounted, on roof |  3.0  | single-Si |     0.14    |   0.27  |      0.51      |\n",
      "| allation, 3kWp, ribbon-Si, panel, mounted, on roof |  3.0  | ribbon-Si |     0.12    |   0.14  |      0.86      |\n",
      "| kWp, single-Si, laminated, integrated, at building |  3.0  | single-Si |     0.14    |   0.27  |      0.51      |\n",
      "| on, 3kWp, multi-Si, laminated, integrated, on roof |  3.0  |  multi-Si |     0.13    |   0.24  |      0.52      |\n",
      "|  installation, 3kWp, a-Si, panel, mounted, on roof |  3.0  |    a-Si   |     0.06    |   0.14  |      0.44      |\n",
      "| tion, 3kWp, single-Si, panel, mounted, at building |  3.0  | single-Si |     0.14    |   0.27  |      0.51      |\n",
      "| lation, 3kWp, CdTe, laminated, integrated, on roof |  3.0  |    CdTe   |     0.09    |   0.21  |      0.42      |\n",
      "+----------------------------------------------------+-------+-----------+-------------+---------+----------------+\n",
      "23523 datasets\n",
      "743409 exchanges\n",
      "0 unlinked exchanges\n",
      "  \n"
     ]
    },
    {
     "name": "stderr",
     "output_type": "stream",
     "text": [
      "Writing activities to SQLite3 database:\n",
      "0% [##############################] 100% | ETA: 00:00:00\n",
      "Total time elapsed: 00:00:14\n"
     ]
    },
    {
     "name": "stdout",
     "output_type": "stream",
     "text": [
      "Title: Writing activities to SQLite3 database:\n",
      "  Started: 02/06/2025 14:59:19\n",
      "  Finished: 02/06/2025 14:59:34\n",
      "  Total time elapsed: 00:00:14\n",
      "  CPU %: 92.10\n",
      "  Memory %: 7.18\n",
      "Created database: PV 2050 - eff\n",
      "+----------------------------------------------------+-------+-----------+-------------+---------+----------------+\n",
      "|                        Name                        | Power |    Tech   | Current eff | New eff | Scaling factor |\n",
      "+----------------------------------------------------+-------+-----------+-------------+---------+----------------+\n",
      "| tallation, 3kWp, multi-Si, panel, mounted, on roof |  3.0  |  multi-Si |     0.13    |   0.24  |      0.52      |\n",
      "| c flat-roof installation, 3kWp, single-Si, on roof |  3.0  | single-Si |     0.14    |   0.27  |      0.51      |\n",
      "| n, 3kWp, ribbon-Si, laminated, integrated, on roof |  3.0  | ribbon-Si |     0.12    |   0.14  |      0.86      |\n",
      "| 3kWp, multi-Si, laminated, integrated, at building |  3.0  |  multi-Si |     0.13    |   0.24  |      0.52      |\n",
      "| ation, 3kWp, multi-Si, panel, mounted, at building |  3.0  |  multi-Si |     0.13    |   0.24  |      0.52      |\n",
      "| ic flat-roof installation, 3kWp, multi-Si, on roof |  3.0  |  multi-Si |     0.13    |   0.24  |      0.52      |\n",
      "| n, 3kWp, single-Si, laminated, integrated, on roof |  3.0  | single-Si |     0.14    |   0.27  |      0.51      |\n",
      "| f installation, 3kWp, CIS, panel, mounted, on roof |  3.0  |    CIS    |     0.1     |   0.23  |      0.44      |\n",
      "| lation, 3kWp, a-Si, laminated, integrated, on roof |  3.0  |    a-Si   |     0.06    |   0.14  |      0.44      |\n",
      "| allation, 3kWp, single-Si, panel, mounted, on roof |  3.0  | single-Si |     0.14    |   0.27  |      0.51      |\n",
      "| allation, 3kWp, ribbon-Si, panel, mounted, on roof |  3.0  | ribbon-Si |     0.12    |   0.14  |      0.86      |\n",
      "| kWp, single-Si, laminated, integrated, at building |  3.0  | single-Si |     0.14    |   0.27  |      0.51      |\n",
      "| on, 3kWp, multi-Si, laminated, integrated, on roof |  3.0  |  multi-Si |     0.13    |   0.24  |      0.52      |\n",
      "|  installation, 3kWp, a-Si, panel, mounted, on roof |  3.0  |    a-Si   |     0.06    |   0.14  |      0.44      |\n",
      "| tion, 3kWp, single-Si, panel, mounted, at building |  3.0  | single-Si |     0.14    |   0.27  |      0.51      |\n",
      "| lation, 3kWp, CdTe, laminated, integrated, on roof |  3.0  |    CdTe   |     0.09    |   0.21  |      0.42      |\n",
      "+----------------------------------------------------+-------+-----------+-------------+---------+----------------+\n",
      "+----------------------------------------------------+-----+--------------+----------+-------------+-----------+-----------+\n",
      "|                        Name                        | Loc | kWh/lifetime | kWh/year | kWh/year/kW | Old input | New input |\n",
      "+----------------------------------------------------+-----+--------------+----------+-------------+-----------+-----------+\n",
      "| ade installation, single-Si, laminated, integrated |  CH |    55800     |   2232   |     744     |  1.12E-05 |  7.00E-06 |\n",
      "| oof installation, single-Si, laminated, integrated |  CH |    82980     |   3319   |     1106    |  7.53E-06 |  4.71E-06 |\n",
      "| otovoltaic, 3kWp flat-roof installation, single-Si |  CH |    82980     |   3319   |     1106    |  7.53E-06 |  4.71E-06 |\n",
      "| ted-roof installation, CdTe, laminated, integrated |  CH |    82980     |   3319   |     1106    |  7.53E-06 |  4.71E-06 |\n",
      "| oof installation, ribbon-Si, laminated, integrated |  CH |    82980     |   3319   |     1106    |  7.53E-06 |  4.71E-06 |\n",
      "| kWp facade installation, single-Si, panel, mounted |  CH |    55800     |   2232   |     744     |  1.12E-05 |  7.00E-06 |\n",
      "| ted-roof installation, a-Si, laminated, integrated |  CH |    82980     |   3319   |     1106    |  7.53E-06 |  4.71E-06 |\n",
      "| anted-roof installation, ribbon-Si, panel, mounted |  CH |    82980     |   3319   |     1106    |  7.53E-06 |  4.71E-06 |\n",
      "| Wp slanted-roof installation, a-Si, panel, mounted |  CH |    82980     |   3319   |     1106    |  7.53E-06 |  4.71E-06 |\n",
      "| cade installation, multi-Si, laminated, integrated |  CH |    55800     |   2232   |     744     |  1.12E-05 |  7.00E-06 |\n",
      "| 3kWp facade installation, multi-Si, panel, mounted |  CH |    55800     |   2232   |     744     |  1.12E-05 |  7.00E-06 |\n",
      "| hotovoltaic, 3kWp flat-roof installation, multi-Si |  CH |    82980     |   3319   |     1106    |  7.53E-06 |  4.71E-06 |\n",
      "| anted-roof installation, single-Si, panel, mounted |  CH |    73857     |   2954   |     984     |  8.46E-06 |  5.29E-06 |\n",
      "| roof installation, multi-Si, laminated, integrated |  CH |    82980     |   3319   |     1106    |  7.53E-06 |  4.71E-06 |\n",
      "| kWp slanted-roof installation, CIS, panel, mounted |  CH |    82980     |   3319   |     1106    |  7.53E-06 |  4.71E-06 |\n",
      "| lanted-roof installation, multi-Si, panel, mounted |  CH |    86360     |   3454   |     1151    |  7.24E-06 |  4.52E-06 |\n",
      "+----------------------------------------------------+-----+--------------+----------+-------------+-----------+-----------+\n",
      "23523 datasets\n",
      "743409 exchanges\n",
      "0 unlinked exchanges\n",
      "  \n"
     ]
    },
    {
     "name": "stderr",
     "output_type": "stream",
     "text": [
      "Writing activities to SQLite3 database:\n",
      "0% [##############################] 100% | ETA: 00:00:00\n",
      "Total time elapsed: 00:00:15\n"
     ]
    },
    {
     "name": "stdout",
     "output_type": "stream",
     "text": [
      "Title: Writing activities to SQLite3 database:\n",
      "  Started: 02/06/2025 15:01:39\n",
      "  Finished: 02/06/2025 15:01:55\n",
      "  Total time elapsed: 00:00:15\n",
      "  CPU %: 89.40\n",
      "  Memory %: 7.30\n",
      "Created database: PV 2050 - eff - lifetime\n"
     ]
    }
   ],
   "source": [
    "db_2050_1 = load_db()\n",
    "db_2050_1 = modify_module_efficiency(db_2050_1, 2050)\n",
    "\n",
    "if \"PV 2050 - eff\" in bw2data.databases:\n",
    "    del bw2data.databases[\"PV 2050 - eff\"]\n",
    "    \n",
    "wurst.write_brightway2_database(db_2050_1, \"PV 2050 - eff\")\n",
    "\n",
    "db_2050_2 = load_db()\n",
    "db_2050_2 = modify_module_efficiency(db_2050_2, 2050)\n",
    "db_2050_2 = modify_pv_lifetime(db_2050_2, 25, 40)\n",
    "\n",
    "if \"PV 2050 - eff - lifetime\" in bw2data.databases:\n",
    "    del bw2data.databases[\"PV 2050 - eff - lifetime\"]\n",
    "    \n",
    "wurst.write_brightway2_database(db_2050_2, \"PV 2050 - eff - lifetime\")"
   ]
  },
  {
   "cell_type": "code",
   "execution_count": 57,
   "id": "263b2194-b266-4150-92ae-486c7affdf0d",
   "metadata": {},
   "outputs": [],
   "source": [
    "FU_contributions = [\n",
    "    act for db in [\n",
    "        \"ecoinvent-3.10-cutoff\", \"PV 2050 - eff\", \"PV 2050 - eff - lifetime\", \"PV 2050\"\n",
    "    ] for act in bw2data.Database(db) if \"electricity production\" in act[\"name\"]\n",
    "    and \"photovoltaic\" in act[\"name\"] and act[\"unit\"] == \"kilowatt hour\" \n",
    "    and act[\"location\"] == \"CH\"\n",
    "]"
   ]
  },
  {
   "cell_type": "code",
   "execution_count": 58,
   "id": "8e3367d4-c31e-4f39-9f5c-b103a9fde31b",
   "metadata": {},
   "outputs": [
    {
     "name": "stderr",
     "output_type": "stream",
     "text": [
      "/opt/homebrew/Caskroom/miniforge/base/envs/wurst/lib/python3.11/site-packages/scikits/umfpack/umfpack.py:736: UmfpackWarning: (almost) singular matrix! (estimated cond. number: 5.51e+12)\n",
      "  warnings.warn(msg, UmfpackWarning)\n",
      "/opt/homebrew/Caskroom/miniforge/base/envs/wurst/lib/python3.11/site-packages/scikits/umfpack/umfpack.py:736: UmfpackWarning: (almost) singular matrix! (estimated cond. number: 2.24e+12)\n",
      "  warnings.warn(msg, UmfpackWarning)\n"
     ]
    }
   ],
   "source": [
    "import bw2calc\n",
    "import numpy as np\n",
    "from bw2calc.errors import OutsideTechnosphere\n",
    "\n",
    "# we create an array to store our results\n",
    "results = []\n",
    "\n",
    "# we initialize the LCA matrices\n",
    "lca = bw2calc.LCA({FU_contributions[0]: 1}, method)\n",
    "lca.lci(factorize=True)\n",
    "lca.lcia()\n",
    "\n",
    "for i, fu in enumerate(FU_contributions):\n",
    "    try:\n",
    "        lca.redo_lci({fu: 1})\n",
    "        lca.lcia()\n",
    "    except OutsideTechnosphere:\n",
    "        lca = bw2calc.LCA({fu: 1}, method)\n",
    "        lca.lci(factorize=True)\n",
    "        lca.lcia()\n",
    "        \n",
    "    results.append(lca.score)"
   ]
  },
  {
   "cell_type": "code",
   "execution_count": 60,
   "id": "f7edd26a-b8f6-4f12-9d1f-88f17858b70c",
   "metadata": {},
   "outputs": [],
   "source": [
    "import pandas as pd\n",
    "df = pd.DataFrame(\n",
    "    zip(\n",
    "        [a[\"name\"] for a in FU_contributions],\n",
    "        [a[\"database\"] for a in FU_contributions],\n",
    "        results\n",
    "    ),\n",
    "    columns=[\"name\", \"year\", \"GWP\"]\n",
    ")"
   ]
  },
  {
   "cell_type": "code",
   "execution_count": 61,
   "id": "49b0c26e-739c-4df5-9ff8-9e0499d8302d",
   "metadata": {},
   "outputs": [],
   "source": [
    "df = df.replace(\"ecoinvent-3.10-cutoff\", 2020)\n",
    "df = df.replace(\"PV 2050 - eff\", \"2050 -- 1 eff only\")\n",
    "df = df.replace(\"PV 2050 - eff - lifetime\", \"2050 -- 2 eff + lifetime ext.\")\n",
    "df = df.replace(\"PV 2050\", \"2050 -- 3 eff + lifetime ext. + coal phase out\")\n",
    "df[\"year\"] = df[\"year\"].astype(\"str\")"
   ]
  },
  {
   "cell_type": "code",
   "execution_count": 62,
   "id": "485d0694-7407-4986-942e-1650dd76b511",
   "metadata": {},
   "outputs": [
    {
     "data": {
      "text/plain": [
       "Text(0, 0.5, 'kg CO$_2$-eq./kWh')"
      ]
     },
     "execution_count": 62,
     "metadata": {},
     "output_type": "execute_result"
    },
    {
     "data": {
      "image/png": "[encoded data removed]",
      "text/plain": [
       "<Figure size 640x480 with 1 Axes>"
      ]
     },
     "metadata": {},
     "output_type": "display_data"
    }
   ],
   "source": [
    "# plot with seaborn barplot\n",
    "sns.barplot(data=df, x='name', y='GWP', hue='year')\n",
    "plt.xticks([])\n",
    "plt.ylabel(\"kg CO$_2$-eq./kWh\")"
   ]
  },
  {
   "cell_type": "markdown",
   "id": "6d629aea-6716-4671-ab15-2a783185468a",
   "metadata": {},
   "source": [
    "### 11. Bonus 2: Home storage systems\n",
    "\n",
    "#### Exercise: Estimating Home Energy Storage Capacity\n",
    "\n",
    "#### Background:\n",
    "You want to purchase a solar photovoltaic system for the roof of your residence. \n",
    "This system converts sunlight into electricity that powers your home. \n",
    "On days when the system produces more electricity than your home consumes, \n",
    "the excess energy can be stored in batteries for use during nighttime or on days when the sun isn't shining.\n",
    "\n",
    "#### Objective:\n",
    "\n",
    "1. Estimate the solar PV installation and storage capacities required for your home energy storage system, considering only \n",
    "the excess solar production that isn't consumed directly by the household during daylight time.\n",
    "2. Add the storage capacity in photovoltaic electricity production datasets\n",
    "3. Estimate the increase in carbon footprint resulting from home energy storage.\n",
    "\n",
    "Given:\n",
    "\n",
    "1. On average, your location in Switzerland receives 5 hours of effective sunlight per day (i.e., full load).\n",
    "2. Your household's electricity consumption is 10 kWh during daylight and 5 kWh during nighttime.\n",
    "3. You want the storage system to provide enough for the nighttime.\n",
    "4. Batteries typically have a recommended Depth of Discharge (DoD) of 90%, meaning only 90% of their total capacity should be used to ensure a longer lifespan.\n",
    "Energy storage systems have a round-trip efficiency of 80%. This accounts for energy losses during the charging and discharging processes. Also,\n",
    "we assume a 3,000 cycles lifetime for the battery cells (where 1 day = 1 cycle), while the Balance of Plant can outlast the PV installation.\n",
    "Finally, 30% of the battery system mass is the Balance of Plant."
   ]
  },
  {
   "cell_type": "code",
   "execution_count": 63,
   "id": "a7094b3d-50c1-4d4d-a9f6-edc23c0b21ec",
   "metadata": {},
   "outputs": [
    {
     "data": {
      "text/plain": [
       "3.0"
      ]
     },
     "execution_count": 63,
     "metadata": {},
     "output_type": "execute_result"
    }
   ],
   "source": [
    "# Given values for total daily consumption\n",
    "total_daily_consumption = 15  # kWh (10 kWh daytime + 5 kWh evening)\n",
    "average_sunlight_hours = 5 # hours\n",
    "\n",
    "# Calculate the required solar installation capacity for total daily consumption\n",
    "required_total_solar_capacity = total_daily_consumption / average_sunlight_hours\n",
    "required_total_solar_capacity # kWp"
   ]
  },
  {
   "cell_type": "code",
   "execution_count": 64,
   "id": "f9b25ee9-08c0-4f70-9b56-e1e789646ec6",
   "metadata": {},
   "outputs": [
    {
     "data": {
      "text/plain": [
       "7"
      ]
     },
     "execution_count": 64,
     "metadata": {},
     "output_type": "execute_result"
    }
   ],
   "source": [
    "# storage capacity\n",
    "net_storage_capacity = 5 # kWh\n",
    "net_storage_capacity /= .9 # Depth of Discharge\n",
    "net_storage_capacity /= .8 # 80% round-trip efficiency\n",
    "\n",
    "round(net_storage_capacity)"
   ]
  },
  {
   "cell_type": "code",
   "execution_count": 65,
   "id": "f94c0410-f9e9-4d12-97b8-6e07eb33ea23",
   "metadata": {},
   "outputs": [],
   "source": [
    "db = load_db()"
   ]
  },
  {
   "cell_type": "code",
   "execution_count": 66,
   "id": "feff6ed1-0184-4e4f-b772-1188c30e8a8f",
   "metadata": {},
   "outputs": [
    {
     "name": "stdout",
     "output_type": "stream",
     "text": [
      "market for battery cell, Li-ion, LiMn2O4\n",
      "market for battery cell, Li-ion, NMC811\n",
      "market for battery cell, Li-ion, NCA\n",
      "market for battery cell, Li-ion, NMC111\n",
      "market for battery cell, Li-ion, LFP\n"
     ]
    }
   ],
   "source": [
    "import wurst.searching as ws\n",
    "# let's find battery cell LCIs\n",
    "for ds in ws.get_many(\n",
    "    db,\n",
    "    ws.contains(\"name\", \"battery cell, Li-ion\")\n",
    "):\n",
    "    print(ds[\"name\"])"
   ]
  },
  {
   "cell_type": "code",
   "execution_count": 67,
   "id": "7547f4a7-2203-4bcb-89fd-4bbb6a8924a9",
   "metadata": {},
   "outputs": [],
   "source": [
    "cells = ws.get_one(db, ws.contains(\"name\", \"market for battery cell, Li-ion, NMC811\"))\n",
    "BoP = ws.get_one(db, ws.contains(\"name\", \"battery management system production\"))"
   ]
  },
  {
   "cell_type": "code",
   "execution_count": 68,
   "id": "fc8d0b13-031a-4970-a706-a1ab11b61add",
   "metadata": {},
   "outputs": [],
   "source": [
    "# battery sizing\n",
    "# we assume 1 kg NMC cell = 0.2 kWh storage\n",
    "# and 30% of the system mass is the Balance of Plant\n",
    "cell_mass = round(net_storage_capacity) / 0.2\n",
    "BoP_mass = .3 * cell_mass / .7"
   ]
  },
  {
   "cell_type": "code",
   "execution_count": 69,
   "id": "986373fd-7611-4382-b85d-4c8b30dd7684",
   "metadata": {},
   "outputs": [
    {
     "data": {
      "text/plain": [
       "35.0"
      ]
     },
     "execution_count": 69,
     "metadata": {},
     "output_type": "execute_result"
    }
   ],
   "source": [
    "cell_mass"
   ]
  },
  {
   "cell_type": "code",
   "execution_count": 70,
   "id": "212edaf5-21ca-427c-9f5f-8910abfac791",
   "metadata": {},
   "outputs": [
    {
     "data": {
      "text/plain": [
       "15.000000000000002"
      ]
     },
     "execution_count": 70,
     "metadata": {},
     "output_type": "execute_result"
    }
   ],
   "source": [
    "BoP_mass"
   ]
  },
  {
   "cell_type": "code",
   "execution_count": 71,
   "id": "b60117fe-43bb-49d6-917e-b85235ddcbf8",
   "metadata": {},
   "outputs": [
    {
     "data": {
      "text/plain": [
       "3.0416666666666665"
      ]
     },
     "execution_count": 71,
     "metadata": {},
     "output_type": "execute_result"
    }
   ],
   "source": [
    "lifetime_replacements = (25 * 365) / 3000 # 25 years lifetime for the PV, 3000 cycles for the battery\n",
    "lifetime_replacements"
   ]
  },
  {
   "cell_type": "code",
   "execution_count": 72,
   "id": "1eccc150-fe33-4ca7-9b1d-43c833a8e54a",
   "metadata": {},
   "outputs": [],
   "source": [
    "for ds in ws.get_many(\n",
    "    db,\n",
    "    ws.contains(\"name\", \"electricity production, photovoltaic\"),\n",
    "    ws.contains(\"name\", \"3kWp\"),\n",
    "    ws.equals(\"location\", \"CH\"),\n",
    "    ws.equals(\"unit\", \"kilowatt hour\")\n",
    "):\n",
    "    for exc in ws.technosphere(ds, ws.equals(\"unit\", \"unit\"), ws.contains(\"name\", \"photovoltaic\")):\n",
    "        production = 1 / exc[\"amount\"] #kWh/lifetime\n",
    "    ds[\"exchanges\"].extend(\n",
    "        [\n",
    "            {\n",
    "                \"name\": cells[\"name\"],\n",
    "                \"product\": cells[\"reference product\"],\n",
    "                \"location\": cells[\"location\"],\n",
    "                \"unit\": cells[\"unit\"],\n",
    "                \"amount\": cell_mass * lifetime_replacements / production,\n",
    "                \"type\": \"technosphere\"\n",
    "            },\n",
    "            {\n",
    "                \"name\": BoP[\"name\"],\n",
    "                \"product\": BoP[\"reference product\"],\n",
    "                \"location\": BoP[\"location\"],\n",
    "                \"unit\": BoP[\"unit\"],\n",
    "                \"amount\": BoP_mass / production,\n",
    "                \"type\": \"technosphere\"\n",
    "            },\n",
    "        ]\n",
    "        \n",
    "    )"
   ]
  },
  {
   "cell_type": "code",
   "execution_count": 73,
   "id": "50b975b5-dcdd-42fe-8b2f-e68942f94db5",
   "metadata": {},
   "outputs": [
    {
     "name": "stdout",
     "output_type": "stream",
     "text": [
      "23523 datasets\n",
      "743445 exchanges\n",
      "0 unlinked exchanges\n",
      "  \n"
     ]
    },
    {
     "name": "stderr",
     "output_type": "stream",
     "text": [
      "Writing activities to SQLite3 database:\n",
      "0% [##############################] 100% | ETA: 00:00:00\n",
      "Total time elapsed: 00:00:14\n"
     ]
    },
    {
     "name": "stdout",
     "output_type": "stream",
     "text": [
      "Title: Writing activities to SQLite3 database:\n",
      "  Started: 02/06/2025 15:48:57\n",
      "  Finished: 02/06/2025 15:49:12\n",
      "  Total time elapsed: 00:00:14\n",
      "  CPU %: 92.30\n",
      "  Memory %: 7.45\n",
      "Created database: PV + storage\n"
     ]
    }
   ],
   "source": [
    "if \"PV + storage\" in bw2data.databases:\n",
    "    del bw2data.databases[\"PV + storage\"]\n",
    "wurst.write_brightway2_database(db, \"PV + storage\")"
   ]
  },
  {
   "cell_type": "code",
   "execution_count": 74,
   "id": "68cf1993-577a-4d16-8321-4d0a12a6a874",
   "metadata": {},
   "outputs": [],
   "source": [
    "FU_storage = [\n",
    "    act for db in [\n",
    "        \"ecoinvent-3.10-cutoff\", \"PV + storage\", \n",
    "    ] for act in bw2data.Database(db) if \"electricity production\" in act[\"name\"]\n",
    "    and \"photovoltaic\" in act[\"name\"] and act[\"unit\"] == \"kilowatt hour\" \n",
    "    and act[\"location\"] == \"CH\" and \"3kWp\" in act[\"name\"]\n",
    "]"
   ]
  },
  {
   "cell_type": "code",
   "execution_count": 75,
   "id": "adb12853-ab44-44d0-b662-db73aacbc7c1",
   "metadata": {},
   "outputs": [
    {
     "data": {
      "text/plain": [
       "36"
      ]
     },
     "execution_count": 75,
     "metadata": {},
     "output_type": "execute_result"
    }
   ],
   "source": [
    "len(FU_storage)"
   ]
  },
  {
   "cell_type": "code",
   "execution_count": 76,
   "id": "435e1b89-688d-4739-8ca6-dd1195327ada",
   "metadata": {},
   "outputs": [
    {
     "name": "stderr",
     "output_type": "stream",
     "text": [
      "/opt/homebrew/Caskroom/miniforge/base/envs/wurst/lib/python3.11/site-packages/scikits/umfpack/umfpack.py:736: UmfpackWarning: (almost) singular matrix! (estimated cond. number: 1.21e+13)\n",
      "  warnings.warn(msg, UmfpackWarning)\n",
      "/opt/homebrew/Caskroom/miniforge/base/envs/wurst/lib/python3.11/site-packages/scikits/umfpack/umfpack.py:736: UmfpackWarning: (almost) singular matrix! (estimated cond. number: 1.57e+13)\n",
      "  warnings.warn(msg, UmfpackWarning)\n"
     ]
    }
   ],
   "source": [
    "import bw2calc\n",
    "import numpy as np\n",
    "from bw2calc.errors import OutsideTechnosphere\n",
    "\n",
    "# we create an array to store our results\n",
    "results = []\n",
    "\n",
    "# we initialize the LCA matrices\n",
    "lca = bw2calc.LCA({FU_storage[0]: 1}, method)\n",
    "lca.lci(factorize=True)\n",
    "lca.lcia()\n",
    "\n",
    "for i, fu in enumerate(FU_storage):\n",
    "    try:\n",
    "        lca.redo_lci({fu: 1})\n",
    "        lca.lcia()\n",
    "    except OutsideTechnosphere:\n",
    "        lca = bw2calc.LCA({fu: 1}, method)\n",
    "        lca.lci()\n",
    "        lca.lcia()\n",
    "        \n",
    "    results.append(lca.score)"
   ]
  },
  {
   "cell_type": "code",
   "execution_count": 77,
   "id": "9071896c-7b66-418f-9e82-b54a03f0872b",
   "metadata": {},
   "outputs": [],
   "source": [
    "import pandas as pd\n",
    "df = pd.DataFrame(\n",
    "    zip(\n",
    "        [a[\"name\"] for a in FU_storage],\n",
    "        [a[\"database\"] for a in FU_storage],\n",
    "        results\n",
    "    ),\n",
    "    columns=[\"name\", \"storage\", \"GWP\"]\n",
    ")"
   ]
  },
  {
   "cell_type": "code",
   "execution_count": 78,
   "id": "06f55e3d-514d-4603-b895-ff46c97187a0",
   "metadata": {},
   "outputs": [],
   "source": [
    "df = df.replace(\"ecoinvent-3.10-cutoff\", \"No storage\")"
   ]
  },
  {
   "cell_type": "code",
   "execution_count": 79,
   "id": "51904ede-8a7b-4eca-b614-20218d4b8dc7",
   "metadata": {},
   "outputs": [
    {
     "data": {
      "text/plain": [
       "Text(0, 0.5, 'kg CO$_2$-eq./kWh')"
      ]
     },
     "execution_count": 79,
     "metadata": {},
     "output_type": "execute_result"
    },
    {
     "data": {
      "image/png": "[encoded data removed]",
      "text/plain": [
       "<Figure size 640x480 with 1 Axes>"
      ]
     },
     "metadata": {},
     "output_type": "display_data"
    }
   ],
   "source": [
    "# plot with seaborn barplot\n",
    "sns.barplot(data=df, x='name', y='GWP', hue='storage')\n",
    "plt.xticks([])\n",
    "plt.ylabel(\"kg CO$_2$-eq./kWh\")"
   ]
  },
  {
   "cell_type": "markdown",
   "id": "3f1e4eec-4de2-4b78-9291-5903d77cc488",
   "metadata": {},
   "source": [
    "### 12. New silicon wafer market"
   ]
  },
  {
   "cell_type": "markdown",
   "id": "728471be-707e-4719-b7e9-a2afb3141a18",
   "metadata": {},
   "source": [
    "Finally, the Swiss Energy Agency wants us to consider the current landscape of silicon wafer suppliers and project an increase in supply from Germany (up to half of the supply globally).\n",
    "\n",
    "The market for silicon wafers in ecoinvent is indeed not up-to-date.\n",
    "We want to use current statistics to update it."
   ]
  },
  {
   "cell_type": "markdown",
   "id": "26aa9e3b-932b-4ee3-80c0-b12a2eed696b",
   "metadata": {},
   "source": [
    "![title](wafer_shares.png)"
   ]
  },
  {
   "cell_type": "markdown",
   "id": "fa95bcf8-992e-4761-b0b5-18e063f99541",
   "metadata": {},
   "source": [
    "From the statistics above, we derive the following shares by geography:"
   ]
  },
  {
   "cell_type": "code",
   "execution_count": 81,
   "id": "9e6ee3cb-f323-40e9-9092-34b72970a4ad",
   "metadata": {},
   "outputs": [],
   "source": [
    "# Silicon wafer market shares:\n",
    "shares_current = {\n",
    "    \"CN\": 0.32,\n",
    "    \"JP\": 0.25,\n",
    "    \"TW\": 0.17,\n",
    "    \"KR\": 0.13,\n",
    "    \"DE\": 0.13,\n",
    "}"
   ]
  },
  {
   "cell_type": "code",
   "execution_count": 82,
   "id": "b3906d8c-1bfa-4713-92c8-e0ca084796b7",
   "metadata": {},
   "outputs": [],
   "source": [
    "import wurst.transformations as wt"
   ]
  },
  {
   "cell_type": "code",
   "execution_count": 83,
   "id": "8c8d548d-e316-48e8-8616-0536c6e1a429",
   "metadata": {},
   "outputs": [],
   "source": [
    "db = load_db()"
   ]
  },
  {
   "cell_type": "markdown",
   "id": "fe696765-995a-4cb2-bb85-e87a95d69fec",
   "metadata": {},
   "source": [
    "Let's search for the silicon wafer production processes and related datasets"
   ]
  },
  {
   "cell_type": "code",
   "execution_count": 84,
   "id": "280e78b7-f231-4517-bf3e-97a1edbd19c1",
   "metadata": {},
   "outputs": [
    {
     "name": "stdout",
     "output_type": "stream",
     "text": [
      "single-Si wafer production, photovoltaic RoW\n",
      "single-Si wafer production, photovoltaic RER\n"
     ]
    }
   ],
   "source": [
    "for ds in ws.get_many(\n",
    "    db,\n",
    "    ws.equals(\"name\", \"single-Si wafer production, photovoltaic\")\n",
    "):\n",
    "    print(ds[\"name\"], ds[\"location\"])"
   ]
  },
  {
   "cell_type": "markdown",
   "id": "fef71b76-a50d-4ac3-987f-91225b2fc9d4",
   "metadata": {},
   "source": [
    "Let's use the European dataset (`RER`) as a proxy to build the activities for the other countries."
   ]
  },
  {
   "cell_type": "markdown",
   "id": "b8846421-b1a1-4d2e-bb6d-2d2ea83c7cab",
   "metadata": {},
   "source": [
    "Here, we use two `wurst` functions:\n",
    "* `copy_to_new_location()`: copy an existing dataset and change its location,\n",
    "* `relink_technosphere_exchanges`: update the technosphere exchanges to geographically more appropriate suppliers."
   ]
  },
  {
   "cell_type": "code",
   "execution_count": 86,
   "id": "bb602225-b39e-4c98-9e95-6376bbf9f204",
   "metadata": {},
   "outputs": [
    {
     "name": "stdout",
     "output_type": "stream",
     "text": [
      "silicon production, single crystal, Czochralski process, photovoltaics CN\n",
      "silicon production, single crystal, Czochralski process, photovoltaics JP\n",
      "silicon production, single crystal, Czochralski process, photovoltaics TW\n",
      "silicon production, single crystal, Czochralski process, photovoltaics KR\n",
      "silicon production, single crystal, Czochralski process, photovoltaics DE\n",
      "market for silicon, single crystal, Czochralski process, photovoltaics CN\n",
      "market for silicon, single crystal, Czochralski process, photovoltaics JP\n",
      "market for silicon, single crystal, Czochralski process, photovoltaics TW\n",
      "market for silicon, single crystal, Czochralski process, photovoltaics KR\n",
      "market for silicon, single crystal, Czochralski process, photovoltaics DE\n",
      "single-Si wafer production, photovoltaic CN\n",
      "single-Si wafer production, photovoltaic JP\n",
      "single-Si wafer production, photovoltaic TW\n",
      "single-Si wafer production, photovoltaic KR\n",
      "single-Si wafer production, photovoltaic DE\n"
     ]
    }
   ],
   "source": [
    "# meaning activities in the silicon wafer supply chain\n",
    "proxy_datasets = [\n",
    "    \"silicon production, single crystal, Czochralski process, photovoltaics\",\n",
    "    \"market for silicon, single crystal, Czochralski process, photovoltaics\",\n",
    "    \"single-Si wafer production, photovoltaic\",\n",
    "]\n",
    "\n",
    "for proxy_dataset in proxy_datasets:\n",
    "    proxy_ds = ws.get_one(\n",
    "        db,\n",
    "        ws.equals(\"name\", proxy_dataset),\n",
    "        ws.equals(\"location\", \"RER\")\n",
    "    )\n",
    "\n",
    "    for country in shares_current:\n",
    "        new_ds = wt.copy_to_new_location(\n",
    "            proxy_ds, country\n",
    "        )\n",
    "    \n",
    "        for exc in ws.technosphere(\n",
    "            new_ds,\n",
    "            ws.contains(\"name\", \"market group for\")\n",
    "        ):\n",
    "            exc[\"name\"] = exc[\"name\"].replace(\"market group for\", \"market for\")\n",
    "            \n",
    "        try:\n",
    "            wt.relink_technosphere_exchanges(\n",
    "                new_ds,\n",
    "                db\n",
    "            )\n",
    "        except:\n",
    "            pass\n",
    "        print(new_ds[\"name\"], new_ds[\"location\"])\n",
    "        db.append(new_ds)"
   ]
  },
  {
   "cell_type": "markdown",
   "id": "510f4609-c86b-4121-a514-067deb2531a7",
   "metadata": {},
   "source": [
    "And we also need to modify `market for single-Si wafer, photovoltaic` to include these new shares."
   ]
  },
  {
   "cell_type": "code",
   "execution_count": 87,
   "id": "3ccc3862-2c0c-4a9b-9e78-7e883c0e1b92",
   "metadata": {},
   "outputs": [],
   "source": [
    "wafer_market = ws.get_one(\n",
    "    db,\n",
    "    ws.equals(\"name\", \"market for single-Si wafer, photovoltaic\"),\n",
    "    ws.equals(\"location\", \"GLO\")\n",
    ")"
   ]
  },
  {
   "cell_type": "code",
   "execution_count": 88,
   "id": "c1787c59-5db8-4d42-a032-a8ba11738218",
   "metadata": {},
   "outputs": [],
   "source": [
    "import copy\n",
    "for exc in ws.technosphere(\n",
    "    wafer_market,\n",
    "    ws.equals(\"name\", \"single-Si wafer production, photovoltaic\")\n",
    "):\n",
    "    exc[\"amount\"] = 0\n",
    "    proxy_exc=copy.deepcopy(exc)"
   ]
  },
  {
   "cell_type": "code",
   "execution_count": 89,
   "id": "37eeab79-4a9f-4ad9-b623-bb227fafcf1b",
   "metadata": {},
   "outputs": [],
   "source": [
    "for country, share in shares_current.items():\n",
    "    new_exc = copy.deepcopy(proxy_exc)\n",
    "    new_exc[\"location\"] = country\n",
    "    new_exc[\"amount\"] = share\n",
    "    \n",
    "    wafer_market[\"exchanges\"].append(\n",
    "       new_exc \n",
    "    )"
   ]
  },
  {
   "cell_type": "code",
   "execution_count": 90,
   "id": "54384820-7a37-4191-8b17-f0a1191a34fa",
   "metadata": {},
   "outputs": [
    {
     "name": "stdout",
     "output_type": "stream",
     "text": [
      "single-Si wafer production, photovoltaic RoW 0\n",
      "single-Si wafer production, photovoltaic RER 0\n",
      "single-Si wafer production, photovoltaic CN 0.32\n",
      "single-Si wafer production, photovoltaic JP 0.25\n",
      "single-Si wafer production, photovoltaic TW 0.17\n",
      "single-Si wafer production, photovoltaic KR 0.13\n",
      "single-Si wafer production, photovoltaic DE 0.13\n"
     ]
    }
   ],
   "source": [
    "for exc in ws.technosphere(\n",
    "    wafer_market,\n",
    "    ws.equals(\"name\", \"single-Si wafer production, photovoltaic\")\n",
    "):\n",
    "    print(exc[\"name\"], exc[\"location\"], exc[\"amount\"])"
   ]
  },
  {
   "cell_type": "code",
   "execution_count": 91,
   "id": "fa790f76-86f7-4b96-82a5-c88b32f6845a",
   "metadata": {},
   "outputs": [
    {
     "name": "stdout",
     "output_type": "stream",
     "text": [
      "single-Si wafer production, photovoltaic 1.0 CN\n",
      "Water 0.0097509 None\n",
      "AOX, Adsorbable Organic Halides 0.00050129 None\n",
      "BOD5, Biological Oxygen Demand 0.029555 None\n",
      "COD, Chemical Oxygen Demand 0.029555 None\n",
      "Cadmium II 6.0508e-06 None\n",
      "Chromium III 3.0254e-05 None\n",
      "Copper ion 6.0508e-05 None\n",
      "DOC, Dissolved Organic Carbon 0.011083 None\n",
      "Lead II 3.0254e-05 None\n",
      "Mercury II 6.0508e-06 None\n",
      "Nickel II 6.0508e-05 None\n",
      "Nitrogen 0.0099449 None\n",
      "Phosphate 0.00050129 None\n",
      "TOC, Total Organic Carbon 0.011083 None\n",
      "Water 0.0552551 None\n",
      "market for acetic acid, without water, in 98% solution state 0.039 GLO\n",
      "market for acrylic binder, with water, in 54% solution state 0.002 RoW\n",
      "market for alkylbenzene sulfonate, linear, petrochemical 0.24 GLO\n",
      "market for brass 0.00745 RoW\n",
      "market for dipropylene glycol monomethyl ether 0.3 RoW\n",
      "market for electricity, medium voltage 0.4306449161154133 CN-SWG\n",
      "market for electricity, medium voltage 0.9084220933159923 CN-CCG\n",
      "market for electricity, medium voltage 1.0132638421216362 CN-NWG\n",
      "market for electricity, medium voltage 0.9451329451898576 CN-NECG\n",
      "market for electricity, medium voltage 1.4633755517037264 CN-NCGC\n",
      "market for electricity, medium voltage 1.394895424153579 CN-CSG\n",
      "market for electricity, medium voltage 1.8442652273997955 CN-ECGC\n",
      "market for glass wool mat 0.01 GLO\n",
      "market for heat, district or industrial, natural gas 3.6 RoW\n",
      "market for hydrochloric acid, without water, in 30% solution state 0.0027 RoW\n",
      "market for packaging film, low density polyethylene 0.1 GLO\n",
      "market for paper, woodfree, coated 0.19 RoW\n",
      "market for polystyrene, high impact 0.2 GLO\n",
      "market for silicon carbide 2.63 GLO\n",
      "market for silicon, single crystal, Czochralski process, photovoltaics 1.0748 CN\n",
      "market for sodium hydroxide, without water, in 50% solution state 0.015 RoW\n",
      "market for steel, low-alloyed, hot rolled 1.4826 GLO\n",
      "market for tap water 0.006 RoW\n",
      "market for triethylene glycol 2.71 RoW\n",
      "market for wafer factory 4e-06 GLO\n",
      "market for waste, from silicon wafer production -0.11 GLO\n",
      "market for water, completely softened 65.0 RoW\n",
      "wire drawing, steel 1.49 RoW\n",
      "\n"
     ]
    }
   ],
   "source": [
    "for ds in ws.get_many(\n",
    "    db,\n",
    "    ws.equals(\"name\", \"single-Si wafer production, photovoltaic\"),\n",
    "    ws.equals(\"location\", \"CN\")\n",
    "):\n",
    "    for exc in ds[\"exchanges\"]:\n",
    "        print(exc[\"name\"], exc[\"amount\"], exc.get(\"location\"))\n",
    "    print()"
   ]
  },
  {
   "cell_type": "code",
   "execution_count": 92,
   "id": "0ed2b366-4b60-4512-a942-74c23aa12345",
   "metadata": {},
   "outputs": [
    {
     "name": "stdout",
     "output_type": "stream",
     "text": [
      "market for silicon, single crystal, Czochralski process, photovoltaics 1.0 CN\n",
      "silicon production, single crystal, Czochralski process, photovoltaics 1.0 CN\n",
      "\n"
     ]
    }
   ],
   "source": [
    "for ds in ws.get_many(\n",
    "    db,\n",
    "    ws.equals(\"name\", \"market for silicon, single crystal, Czochralski process, photovoltaics\"),\n",
    "    ws.equals(\"location\", \"CN\")\n",
    "):\n",
    "    for exc in ds[\"exchanges\"]:\n",
    "        print(exc[\"name\"], exc[\"amount\"], exc.get(\"location\"))\n",
    "    print()"
   ]
  },
  {
   "cell_type": "code",
   "execution_count": 93,
   "id": "733693f1-6fc7-4939-8e8b-e38478121a28",
   "metadata": {},
   "outputs": [
    {
     "name": "stdout",
     "output_type": "stream",
     "text": [
      "silicon production, single crystal, Czochralski process, photovoltaics 1.0 CN\n",
      "Water 1.22576845 None\n",
      "Acetic acid 0.053987 None\n",
      "BOD5, Biological Oxygen Demand 0.13690685752697 None\n",
      "COD, Chemical Oxygen Demand 0.13690685752697 None\n",
      "DOC, Dissolved Organic Carbon 0.0398063804888533 None\n",
      "Fluoride 0.0023713 None\n",
      "Hydrocarbons, unspecified 0.022841 None\n",
      "Hydroxide 0.0074169 None\n",
      "Nitrogen 0.0091039 None\n",
      "TOC, Total Organic Carbon 0.0398063804888533 None\n",
      "Water 3.25210455 None\n",
      "Water, cooling, unspecified natural origin 2.333 None\n",
      "Water, river 2.0508 None\n",
      "market for acetic acid, without water, in 98% solution state 0.10797 GLO\n",
      "market for acetone, liquid 0.049003 RoW\n",
      "market for argon, liquid 5.7944 RoW\n",
      "market for ceramic tile 0.33645 GLO\n",
      "market for electricity, medium voltage 4.607900602434921 CN-SWG\n",
      "market for electricity, medium voltage 9.720116398481117 CN-CCG\n",
      "market for electricity, medium voltage 10.841923110701506 CN-NWG\n",
      "market for electricity, medium voltage 10.112922513531476 CN-NECG\n",
      "market for electricity, medium voltage 15.65811840322987 CN-NCGC\n",
      "market for electricity, medium voltage 14.925381038443293 CN-CSG\n",
      "market for electricity, medium voltage 19.73363793317781 CN-ECGC\n",
      "market for heat, district or industrial, natural gas 61.4016 RoW\n",
      "market for hydrogen fluoride 0.050664 RoW\n",
      "market for lime, hydrated, packed 0.19103 RoW\n",
      "market for nitric acid, without water, in 50% solution state 0.094684 CN\n",
      "market for silicon, electronics grade 0.1557278 GLO\n",
      "market for silicon, solar grade 0.91427434 GLO\n",
      "silicone factory construction 1e-11 RoW\n",
      "market for sodium hydroxide, without water, in 50% solution state 0.041528 RoW\n",
      "market for tap water 94.073 RoW\n",
      "market for waste, from silicon wafer production, inorganic -3.076749987586594 RoW\n",
      "market for waste, from silicon wafer production, inorganic -0.5596500124134065 RoW\n",
      "\n"
     ]
    }
   ],
   "source": [
    "for ds in ws.get_many(\n",
    "    db,\n",
    "    ws.equals(\"name\", \"silicon production, single crystal, Czochralski process, photovoltaics\"),\n",
    "    ws.equals(\"location\", \"CN\")\n",
    "):\n",
    "    for exc in ds[\"exchanges\"]:\n",
    "        print(exc[\"name\"], exc[\"amount\"], exc.get(\"location\"))\n",
    "    print()"
   ]
  },
  {
   "cell_type": "code",
   "execution_count": 94,
   "id": "6a73fc64-8cf5-4db1-9f46-cb0b3fe20aa2",
   "metadata": {},
   "outputs": [
    {
     "name": "stdout",
     "output_type": "stream",
     "text": [
      "23538 datasets\n",
      "743776 exchanges\n",
      "0 unlinked exchanges\n",
      "  \n"
     ]
    },
    {
     "name": "stderr",
     "output_type": "stream",
     "text": [
      "Writing activities to SQLite3 database:\n",
      "0% [##############################] 100% | ETA: 00:00:00\n",
      "Total time elapsed: 00:00:15\n"
     ]
    },
    {
     "name": "stdout",
     "output_type": "stream",
     "text": [
      "Title: Writing activities to SQLite3 database:\n",
      "  Started: 02/06/2025 16:11:29\n",
      "  Finished: 02/06/2025 16:11:44\n",
      "  Total time elapsed: 00:00:15\n",
      "  CPU %: 91.80\n",
      "  Memory %: 8.22\n",
      "Created database: wafer\n"
     ]
    }
   ],
   "source": [
    "if \"wafer\" in bw2data.databases:\n",
    "    del bw2data.databases[\"wafer\"]\n",
    "wurst.write_brightway2_database(db, \"wafer\")"
   ]
  },
  {
   "cell_type": "code",
   "execution_count": 95,
   "id": "f7cf92a6-f967-4071-8542-f6ee780c2a37",
   "metadata": {},
   "outputs": [],
   "source": [
    "FU_wafer = [\n",
    "    act for db in [\n",
    "        \"ecoinvent-3.10-cutoff\", \"wafer\", \n",
    "    ] for act in bw2data.Database(db) if \"electricity production\" in act[\"name\"]\n",
    "    and \"photovoltaic\" in act[\"name\"] and act[\"unit\"] == \"kilowatt hour\" \n",
    "    and act[\"location\"] == \"CH\" and \"3kWp\" in act[\"name\"]\n",
    "    and \"single-Si\" in act[\"name\"]\n",
    "]"
   ]
  },
  {
   "cell_type": "code",
   "execution_count": 96,
   "id": "ed48b9cd-85c3-4eeb-891a-13c23259b56b",
   "metadata": {},
   "outputs": [
    {
     "data": {
      "text/plain": [
       "12"
      ]
     },
     "execution_count": 96,
     "metadata": {},
     "output_type": "execute_result"
    }
   ],
   "source": [
    "len(FU_wafer)"
   ]
  },
  {
   "cell_type": "code",
   "execution_count": 97,
   "id": "bcf1cbd2-2549-4e94-a0db-b492f0280964",
   "metadata": {},
   "outputs": [
    {
     "name": "stdout",
     "output_type": "stream",
     "text": [
      "electricity production, photovoltaic, 3kWp facade installation, single-Si, panel, mounted\n",
      "electricity production, photovoltaic, 3kWp flat-roof installation, single-Si\n",
      "electricity production, photovoltaic, 3kWp facade installation, single-Si, laminated, integrated\n",
      "electricity production, photovoltaic, 3kWp slanted-roof installation, single-Si, laminated, integrated\n",
      "electricity production, photovoltaic, 3kWp slanted-roof installation, single-Si, panel, mounted\n",
      "electricity production, photovoltaic, 3kWp slanted-roof installation, single-Si, panel, mounted, renewable energy produc\n",
      "electricity production, photovoltaic, 3kWp facade installation, single-Si, panel, mounted\n",
      "electricity production, photovoltaic, 3kWp flat-roof installation, single-Si\n",
      "electricity production, photovoltaic, 3kWp slanted-roof installation, single-Si, panel, mounted\n",
      "electricity production, photovoltaic, 3kWp slanted-roof installation, single-Si, laminated, integrated\n",
      "electricity production, photovoltaic, 3kWp slanted-roof installation, single-Si, panel, mounted, renewable energy produc\n",
      "electricity production, photovoltaic, 3kWp facade installation, single-Si, laminated, integrated\n"
     ]
    }
   ],
   "source": [
    "for fu in FU_wafer:\n",
    "    print(fu[\"name\"])"
   ]
  },
  {
   "cell_type": "code",
   "execution_count": 98,
   "id": "985d5def-3807-4c10-a7ab-d46cc180cec1",
   "metadata": {},
   "outputs": [
    {
     "name": "stderr",
     "output_type": "stream",
     "text": [
      "/opt/homebrew/Caskroom/miniforge/base/envs/wurst/lib/python3.11/site-packages/scikits/umfpack/umfpack.py:736: UmfpackWarning: (almost) singular matrix! (estimated cond. number: 1.21e+13)\n",
      "  warnings.warn(msg, UmfpackWarning)\n"
     ]
    }
   ],
   "source": [
    "import bw2calc\n",
    "import numpy as np\n",
    "from bw2calc.errors import OutsideTechnosphere\n",
    "\n",
    "# we create an array to store our results\n",
    "results = []\n",
    "\n",
    "# we initialize the LCA matrices\n",
    "lca = bw2calc.LCA({FU_wafer[0]: 1}, method)\n",
    "lca.lci()\n",
    "lca.lcia()\n",
    "\n",
    "for i, fu in enumerate(FU_wafer):\n",
    "    try:\n",
    "        lca.redo_lci({fu: 1})\n",
    "        lca.lcia()\n",
    "    except OutsideTechnosphere:\n",
    "        lca = bw2calc.LCA({fu: 1}, method)\n",
    "        lca.lci()\n",
    "        lca.lcia()\n",
    "        \n",
    "    results.append(lca.score)"
   ]
  },
  {
   "cell_type": "code",
   "execution_count": 99,
   "id": "147d5cd8-f188-4f16-b858-ff824e876ad0",
   "metadata": {},
   "outputs": [],
   "source": [
    "import pandas as pd\n",
    "df = pd.DataFrame(\n",
    "    zip(\n",
    "        [a[\"name\"] for a in FU_wafer],\n",
    "        [a[\"database\"] for a in FU_wafer],\n",
    "        results\n",
    "    ),\n",
    "    columns=[\"name\", \"storage\", \"GWP\"]\n",
    ")"
   ]
  },
  {
   "cell_type": "code",
   "execution_count": 100,
   "id": "0a7979ff-8833-4c08-9797-99f476c43f3f",
   "metadata": {},
   "outputs": [],
   "source": [
    "df = df.replace(\"ecoinvent-3.10-cutoff\", \"Old wafer market\")\n",
    "df = df.replace(\"wafer\", \"New wafer market\")"
   ]
  },
  {
   "cell_type": "code",
   "execution_count": 101,
   "id": "2443d3a2-d87a-4e27-a6fe-09feaae1d9bb",
   "metadata": {},
   "outputs": [
    {
     "data": {
      "text/plain": [
       "Text(0, 0.5, 'kg CO$_2$-eq./kWh')"
      ]
     },
     "execution_count": 101,
     "metadata": {},
     "output_type": "execute_result"
    },
    {
     "data": {
      "image/png": "[encoded data removed]",
      "text/plain": [
       "<Figure size 640x480 with 1 Axes>"
      ]
     },
     "metadata": {},
     "output_type": "display_data"
    }
   ],
   "source": [
    "# plot with seaborn barplot\n",
    "sns.barplot(data=df, x='name', y='GWP', hue='storage')\n",
    "plt.xticks([])\n",
    "plt.ylabel(\"kg CO$_2$-eq./kWh\")"
   ]
  },
  {
   "cell_type": "code",
   "execution_count": null,
   "id": "19b23cda-1a09-4a43-91c2-3e65736fdd24",
   "metadata": {},
   "outputs": [],
   "source": [
    "bw2io.backup.restore_project_directory()"
   ]
  },
  {
   "cell_type": "code",
   "execution_count": 103,
   "id": "f1b75b23-2cdf-41db-9680-92c52ba5d52a",
   "metadata": {},
   "outputs": [
    {
     "data": {
      "text/plain": [
       "'/Users/romain/Library/Application Support/Brightway3/winter-school.eb0559214e59a3f1e9ea4ce7cd020b22'"
      ]
     },
     "execution_count": 103,
     "metadata": {},
     "output_type": "execute_result"
    }
   ],
   "source": [
    "bw2data.projects.dir"
   ]
  },
  {
   "cell_type": "code",
   "execution_count": 105,
   "id": "14622505-8bc2-479f-92dd-730cab8cff49",
   "metadata": {},
   "outputs": [
    {
     "data": {
      "text/plain": [
       "['PV 2035',\n",
       " 'PV 2050',\n",
       " 'PV 2050 - eff',\n",
       " 'PV 2050 - eff - lifetime',\n",
       " 'PV + storage']"
      ]
     },
     "execution_count": 105,
     "metadata": {},
     "output_type": "execute_result"
    }
   ],
   "source": [
    "dbs_to_delete = [db for db in bw2data.databases if db.startswith(\"PV\")]\n",
    "dbs_to_delete"
   ]
  },
  {
   "cell_type": "code",
   "execution_count": 106,
   "id": "b15cac7b-03ff-47de-a37e-4c54a68d20ad",
   "metadata": {},
   "outputs": [
    {
     "name": "stdout",
     "output_type": "stream",
     "text": [
      "Vacuuming database \n",
      "Vacuuming database \n",
      "Vacuuming database \n",
      "Vacuuming database \n",
      "Vacuuming database \n"
     ]
    }
   ],
   "source": [
    "for db in dbs_to_delete:\n",
    "    del bw2data.databases[db]"
   ]
  },
  {
   "cell_type": "code",
   "execution_count": null,
   "id": "82f7c5e6-b109-4c54-a66f-d67cec483ffa",
   "metadata": {},
   "outputs": [],
   "source": [
    "db_1 = []\n",
    "db_2 = []\n",
    "db_3 = db_1 + db_2"
   ]
  },
  {
   "cell_type": "code",
   "execution_count": 104,
   "id": "7330789c-8483-4453-a490-bdceac376e7d",
   "metadata": {},
   "outputs": [
    {
     "data": {
      "text/plain": [
       "Databases dictionary with 20 object(s):\n",
       "\tPV + storage\n",
       "\tPV 2035\n",
       "\tPV 2050\n",
       "\tPV 2050 - eff\n",
       "\tPV 2050 - eff - lifetime\n",
       "\tbiosphere\n",
       "\tcarbon fiber\n",
       "\tecoinvent-3.10-cutoff\n",
       "\tei_cutoff_3.10_remind_SSP2-Base_2020 2025-01-20\n",
       "\tei_cutoff_3.10_remind_SSP2-Base_2020 2025-01-21\n",
       "\tei_cutoff_3.10_remind_SSP2-Base_2035 2025-01-20\n",
       "\tei_cutoff_3.10_remind_SSP2-Base_2035 2025-01-21\n",
       "\tei_cutoff_3.10_remind_SSP2-Base_2050 2025-01-20\n",
       "\tei_cutoff_3.10_remind_SSP2-Base_2050 2025-01-21\n",
       "\tei_cutoff_3.10_remind_SSP2-PkBudg1150_2020 2025-01-20\n",
       "\tei_cutoff_3.10_remind_SSP2-PkBudg1150_2035 2025-01-20\n",
       "\tei_cutoff_3.10_remind_SSP2-PkBudg1150_2050 2025-01-20\n",
       "\tei_cutoff_3.10_remind_SSP2-PkBudg1150_2050 2025-01-21\n",
       "\tei_cutoff_3.10_remind_SSP2-PkBudg500_2050 2025-01-21\n",
       "\twafer"
      ]
     },
     "execution_count": 104,
     "metadata": {},
     "output_type": "execute_result"
    }
   ],
   "source": [
    "bw2data.databases"
   ]
  },
  {
   "cell_type": "code",
   "execution_count": 102,
   "id": "f8ab72f2-4a35-47e3-9f44-f386f23f9307",
   "metadata": {},
   "outputs": [
    {
     "data": {
      "text/plain": [
       "\u001b[0;31mSignature:\u001b[0m \u001b[0mbw2io\u001b[0m\u001b[0;34m.\u001b[0m\u001b[0mbackup_project_directory\u001b[0m\u001b[0;34m(\u001b[0m\u001b[0mproject\u001b[0m\u001b[0;34m:\u001b[0m \u001b[0mstr\u001b[0m\u001b[0;34m)\u001b[0m\u001b[0;34m\u001b[0m\u001b[0;34m\u001b[0m\u001b[0m\n",
       "\u001b[0;31mDocstring:\u001b[0m\n",
       "Backup project data directory to a ``.tar.gz`` (compressed tar archive) in the user's home directory.\n",
       "\n",
       "Parameters\n",
       "----------\n",
       "project : str\n",
       "    Name of the project to backup.\n",
       "\n",
       "Returns\n",
       "-------\n",
       "project_name : str\n",
       "    Name of the project that was backed up.\n",
       "\n",
       "Raises\n",
       "------\n",
       "ValueError\n",
       "   If the project does not exist.\n",
       "\n",
       "See Also\n",
       "--------\n",
       "bw2io.backup.restore_project_directory: To restore a project directory from a backup.\n",
       "\u001b[0;31mFile:\u001b[0m      /opt/homebrew/Caskroom/miniforge/base/envs/wurst/lib/python3.11/site-packages/bw2io/backup.py\n",
       "\u001b[0;31mType:\u001b[0m      function"
      ]
     },
     "metadata": {},
     "output_type": "display_data"
    }
   ],
   "source": [
    "bw2io.backup_project_directory(\"winter-school\")"
   ]
  },
  {
   "cell_type": "code",
   "execution_count": null,
   "id": "b371d9cc-839e-4cdc-aa82-682daf824982",
   "metadata": {},
   "outputs": [],
   "source": [
    "bw2io.export."
   ]
  },
  {
   "cell_type": "code",
   "execution_count": null,
   "id": "65e380b7-5604-4e82-9579-b8cebf89544f",
   "metadata": {},
   "outputs": [],
   "source": [
    "for ds in bw2data.Database(\"wafer\"):\n",
    "    if ds[\"name\"] == \"market for single-Si wafer, photovoltaic\":\n",
    "        for exc in ds.exchanges():\n",
    "            print(exc)"
   ]
  },
  {
   "cell_type": "code",
   "execution_count": null,
   "id": "e6c84a6d-f8f6-4a62-bf10-9a6868301e93",
   "metadata": {},
   "outputs": [],
   "source": [
    "for ds in bw2data.Database(\"ecoinvent-3.10-cutoff\"):\n",
    "    if ds[\"name\"] == \"market for single-Si wafer, photovoltaic\":\n",
    "        for exc in ds.exchanges():\n",
    "            print(exc)"
   ]
  },
  {
   "cell_type": "code",
   "execution_count": null,
   "id": "49f5a8e3-a3e0-47f5-9bb8-06ad5255131e",
   "metadata": {},
   "outputs": [],
   "source": []
  }
 ],
 "metadata": {
  "kernelspec": {
   "display_name": "Python 3 (ipykernel)",
   "language": "python",
   "name": "python3"
  },
  "language_info": {
   "codemirror_mode": {
    "name": "ipython",
    "version": 3
   },
   "file_extension": ".py",
   "mimetype": "text/x-python",
   "name": "python",
   "nbconvert_exporter": "python",
   "pygments_lexer": "ipython3",
   "version": "3.11.11"
  }
 },
 "nbformat": 4,
 "nbformat_minor": 5
}
