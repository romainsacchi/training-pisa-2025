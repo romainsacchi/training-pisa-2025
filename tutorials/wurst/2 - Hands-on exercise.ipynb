{
 "cells": [
  {
   "cell_type": "markdown",
   "id": "3451dd88",
   "metadata": {},
   "source": [
    "<div>\n",
    "    <table>\n",
    "        <tr>\n",
    "            <td>\n",
    "                <center>\n",
    "                    <h1>Wurst Introduction</h1>\n",
    "                     <a href=\"https://www.psi.ch/en/ta/people/romain-sacchi\">Karin Treyer</a> (PSI)\n",
    "                    <br><br>\n",
    "                    Duration: 1 hour 30 minutes.\n",
    "                </center>\n",
    "            </td>\n",
    "        </tr>\n",
    "    </div>\n",
    "\n",
    "Github repository: [https://github.com/polca/wurst](https://github.com/polca/wurst)\n",
    "\n",
    "Documentation: [https://wurst.readthedocs.io/](https://wurst.readthedocs.io/)\n",
    "\n",
    "Wurst authors: Chris Mutel, Brian Cox\n",
    "\n",
    "<div class=\"alert alert-info\">\n",
    "Note: we will be using <a href=\"https://docs.brightway.dev/en/latest/content/installation/index.html\">Brightway 2.5</a>, not <a href=\"https://docs.brightway.dev/en/legacy/\">Brightway 2</a>. From the user end side, very little differ between the two. The code executed throughout this notebook works with both versions... probably.\n",
    "</div>\n"
   ]
  },
  {
   "cell_type": "markdown",
   "id": "5e1b5708-7ae8-4959-bb8c-99e459934ee6",
   "metadata": {},
   "source": [
    "### Scenario: A world without fossil fuels\n",
    "\n",
    "#### Background:\n",
    "Fossil fuels in power generation will be phased out by 2050 due to stringent climate policies and technological advancements in renewables.\n",
    "\n",
    "\n",
    "#### Objective:\n",
    "\n",
    "1. Replace the contribution of fossil-based technologies in electricity markets with non-hydro renewables throughout the database.\n",
    "The former share of fossil-based electricity should be redistributed evenly across those already supplying renewables.\n",
    "\n",
    "2. Compare the electricity markets at the low-voltage level with respect to Climate Change, Fine Particle emissions, and Abiotic Resource Depletion. Can you identify some trade-offs?"
   ]
  },
  {
   "cell_type": "markdown",
   "id": "ca24f424",
   "metadata": {},
   "source": [
    "### 1. Import:"
   ]
  },
  {
   "cell_type": "markdown",
   "id": "435bc543-334e-4f23-82e1-d51eeb3a680b",
   "metadata": {},
   "source": [
    "Load the necessary libraries (`wurst`, `bw2data`, and maybe a plotting library like `matplotlib`)."
   ]
  },
  {
   "cell_type": "code",
   "execution_count": null,
   "id": "f28948db-e55c-4da3-b9b0-fa51add5403a",
   "metadata": {
    "tags": []
   },
   "outputs": [],
   "source": [
    "import wurst\n",
    "import wurst.searching as ws\n",
    "import bw2io, bw2data\n",
    "import matplotlib.pyplot as plt\n",
    "from prettytable import PrettyTable"
   ]
  },
  {
   "cell_type": "markdown",
   "id": "3ad74a17-e8ad-4a5e-bac6-0173fe6e0bdd",
   "metadata": {},
   "source": [
    "Select/activate a `bw2data` project where you have an ecoinvent database."
   ]
  },
  {
   "cell_type": "code",
   "execution_count": null,
   "id": "954f0595-3514-46c4-9342-fc0d991549f0",
   "metadata": {},
   "outputs": [],
   "source": []
  },
  {
   "cell_type": "code",
   "execution_count": null,
   "id": "51044d66-ce33-4d8b-bf55-f8bceb72a220",
   "metadata": {},
   "outputs": [],
   "source": []
  },
  {
   "cell_type": "code",
   "execution_count": null,
   "id": "8841623b-b6b0-4a82-b210-86ddf78b5fec",
   "metadata": {},
   "outputs": [],
   "source": []
  },
  {
   "cell_type": "markdown",
   "id": "067f11b7-8c03-4c17-ac2f-598eac7573be",
   "metadata": {},
   "source": [
    "Using `wurst`, extract the ecoinvent database to turn it into a list of dictionaries.\n",
    "Or use the `load_db()` function from the tutorial to unpickle the ecoinvent database instead, as it is faster."
   ]
  },
  {
   "cell_type": "code",
   "execution_count": null,
   "id": "b3906d8c-1bfa-4713-92c8-e0ca084796b7",
   "metadata": {},
   "outputs": [],
   "source": []
  },
  {
   "cell_type": "markdown",
   "id": "706d7c06-a254-4937-a5c2-5cf889785902",
   "metadata": {},
   "source": [
    "Build `wurst` filters to select only markets for electricity (high, medium, and low voltage). Filter out datasets specific to industries (coal, aluminium, railways, etc.) or for certified renewable electricity."
   ]
  },
  {
   "cell_type": "code",
   "execution_count": null,
   "id": "f264e8a3-aff0-40bf-8f1f-4d0be0fe9789",
   "metadata": {},
   "outputs": [],
   "source": [
    "market_filters = [\n",
    "    ws.contains(\"name\", \"market for electricity\"),\n",
    "    ws.equals(\"unit\", \"kilowatt hour\"),\n",
    "    ws.exclude(ws.either(\n",
    "        *[\n",
    "            ws.contains(\"name\", name) for name in [\n",
    "                \"product\",\n",
    "                \"generic\",\n",
    "                \"aluminium\",\n",
    "                \"reuse\",\n",
    "                \"industry\",\n",
    "                \"Railways\",\n",
    "                \"mining\"\n",
    "            ]\n",
    "        ]\n",
    "    )),\n",
    "]"
   ]
  },
  {
   "cell_type": "markdown",
   "id": "f1eef881-bc20-45ec-a4bd-51954cbd8897",
   "metadata": {},
   "source": [
    "Iterate through the database using the filters you built above. Inside each dataset, iterate over the technosphere exchanges. You may need to ignore exchanges that represent market losses, for example. Try to distinguish suppliers of fossil-based electricity from renewable ones."
   ]
  },
  {
   "cell_type": "code",
   "execution_count": null,
   "id": "8135e310-1c78-40f6-bea5-1113964d9219",
   "metadata": {},
   "outputs": [],
   "source": [
    "technosphere_filters = [\n",
    "    ws.equals(\"unit\", \"kilowatt hour\"),\n",
    "    ws.exclude(ws.contains(\"name\", \"market for\")),\n",
    "    ws.exclude(ws.contains(\"name\", \"voltage\")),\n",
    "]"
   ]
  },
  {
   "cell_type": "code",
   "execution_count": null,
   "id": "77436d07-82a5-478a-aa42-39c870ab76bd",
   "metadata": {},
   "outputs": [],
   "source": [
    "fossil_suppliers = [\n",
    "    \"coal\", \"gas\", \"lignite\", \"oil\", \"peat\"\n",
    "]\n",
    "renewable_suppliers = [\n",
    "    \"photovoltaic\", \"wind\"\n",
    "]"
   ]
  },
  {
   "cell_type": "code",
   "execution_count": null,
   "id": "194bb56a-ffa5-4b0b-847d-45e4c3036dcb",
   "metadata": {},
   "outputs": [],
   "source": [
    "modifications = []\n",
    "countries_wo_renew = []\n",
    "\n",
    "for ds in ws.get_many(\n",
    "    db,\n",
    "    *market_filters\n",
    "):\n",
    "    # first, we check if there are renewable electricity suppliers\n",
    "    number_renewables = len([x for x in ws.technosphere(ds, *technosphere_filters) if any(y in x[\"name\"] for y in renewable_suppliers)])\n",
    "    # we also need to check if there are fossil electricity suppliers\n",
    "    number_fossil = len([x for x in ws.technosphere(ds, *technosphere_filters) if any(y in x[\"name\"] for y in fossil_suppliers)])\n",
    "\n",
    "    \n",
    "    if number_fossil > 0 and number_renewables > 0:\n",
    "        shares = {}\n",
    "        # we iterate a first time to collect current shares\n",
    "        for techno in ws.technosphere(\n",
    "            ds,\n",
    "            *technosphere_filters\n",
    "            ):\n",
    "\n",
    "            # fill in here the code to collect shares\n",
    "            \n",
    "    \n",
    "        # we iterate a second time to zero-out fossil-based electricity\n",
    "        surplus = 0\n",
    "        for techno in ws.technosphere(\n",
    "            ds,\n",
    "            *technosphere_filters\n",
    "            ):\n",
    "            \n",
    "            if any(x in techno[\"name\"] for x in fossil_suppliers):\n",
    "                modifications.append(\n",
    "                    [ds[\"name\"].split(\", \")[-1], ds[\"location\"], techno[\"name\"][:30], \"{:.2f}\".format(techno[\"amount\"]), 0]\n",
    "                )\n",
    "\n",
    "        # fill in here the code to set fossil-based suppliers to zero\n",
    "                \n",
    "    \n",
    "        # we iterate a third time to distribute the surplus\n",
    "        \n",
    "        for techno in ws.technosphere(\n",
    "            ds,\n",
    "            *technosphere_filters\n",
    "            ):\n",
    "            if any(x in techno[\"name\"] for x in renewable_suppliers):\n",
    "                modifications.append(\n",
    "                    [ds[\"name\"].split(\", \")[-1], ds[\"location\"], techno[\"name\"][:30], \"{:.2f}\".format(techno[\"amount\"]), \"{:.2f}\".format(new_share)]\n",
    "                )\n",
    "\n",
    "                # fill in here the code to redistribute the fossil-based mix share to renewables-based suppliers\n",
    "                \n",
    "\n",
    "table = PrettyTable([\"Name\", \"Loc\", \"Tech\", \"Old share\", \"New share\",])\n",
    "table.add_rows(modifications)\n",
    "print(table)"
   ]
  },
  {
   "cell_type": "code",
   "execution_count": null,
   "id": "0a25ec22-2ee6-42e6-a76d-5dea5960e990",
   "metadata": {},
   "outputs": [],
   "source": [
    "unique_countries = list(set([m[1] for m in modifications]))"
   ]
  },
  {
   "cell_type": "markdown",
   "id": "6d694619-2cdc-4160-9adc-34f8d338cab6",
   "metadata": {},
   "source": [
    "Export the database back to the `brightway` project."
   ]
  },
  {
   "cell_type": "code",
   "execution_count": null,
   "id": "0510d684-b0f7-4f75-8dd2-1d1dd14cdb1c",
   "metadata": {},
   "outputs": [],
   "source": []
  },
  {
   "cell_type": "markdown",
   "id": "62e81ec7-33dd-4e0f-877d-35e1c2c7af24",
   "metadata": {},
   "source": [
    "Build a list of functional units to compare the new electricity markets with the original ones. Pick only those we have modified (use `unique_countries`)."
   ]
  },
  {
   "cell_type": "code",
   "execution_count": null,
   "id": "640facaf-6887-47bf-875d-9678d9b5c8aa",
   "metadata": {},
   "outputs": [],
   "source": []
  },
  {
   "cell_type": "code",
   "execution_count": null,
   "id": "dfc20cd5-e80a-4ce0-83aa-9aa4fb84a448",
   "metadata": {},
   "outputs": [],
   "source": []
  },
  {
   "cell_type": "code",
   "execution_count": null,
   "id": "ef2c298e-fbd5-44c6-8bf7-1d884a6c850e",
   "metadata": {},
   "outputs": [],
   "source": [
    "methods = [\n",
    "    ('IPCC 2021', 'climate change: fossil', 'global warming potential (GWP100)'),\n",
    "    ('Inventory results and indicators', 'emissions to air', 'particulate matter, < 2.5 um'),\n",
    "    ('EF v3.1', 'material resources: metals/minerals', 'abiotic depletion potential (ADP): elements (ultimate reserves)'),\n",
    "]"
   ]
  },
  {
   "cell_type": "code",
   "execution_count": null,
   "id": "36b0db9b-c729-4434-b5f7-45c407f8ea16",
   "metadata": {},
   "outputs": [],
   "source": [
    "methods_units = {\n",
    "    m: bw2data.Method(m).metadata[\"unit\"]\n",
    "    for m in methods\n",
    "}\n",
    "methods_units"
   ]
  },
  {
   "cell_type": "code",
   "execution_count": null,
   "id": "d89e8726-5b94-4294-ae35-f71f3247687d",
   "metadata": {},
   "outputs": [],
   "source": [
    "import bw2calc\n",
    "import numpy as np\n",
    "from bw2calc.errors import OutsideTechnosphere\n",
    "\n",
    "# we create an array to store our results\n",
    "results = []\n",
    "\n",
    "# we initialize the LCA matrices\n",
    "lca = bw2calc.LCA({FU[0]: 1}, method)\n",
    "lca.lci(factorize=True)\n",
    "\n",
    "for i, fu in enumerate(FU):\n",
    "    try:\n",
    "        lca.lci({fu.id: 1})\n",
    "    except OutsideTechnosphere:\n",
    "        lca = bw2calc.LCA({fu: 1}, method)\n",
    "        lca.lci(factorize=True)\n",
    "        \n",
    "    for method in methods:\n",
    "        lca.switch_method(method)\n",
    "        lca.lcia()\n",
    "        results.append([fu[\"location\"], fu[\"database\"], str(method), lca.score])"
   ]
  },
  {
   "cell_type": "markdown",
   "id": "71e384bd-2baa-4b33-a188-87a26bc1ac2e",
   "metadata": {},
   "source": [
    "Format the results into a pandas dataframe, with columns `name`, `database`, `method` and `score`."
   ]
  },
  {
   "cell_type": "code",
   "execution_count": null,
   "id": "9491970a-099b-4046-835b-f921e1431c42",
   "metadata": {},
   "outputs": [],
   "source": [
    "import pandas as pd\n",
    "\n"
   ]
  },
  {
   "cell_type": "code",
   "execution_count": null,
   "id": "490903d4-70d1-4f0b-b358-e7a7f1e95eb5",
   "metadata": {},
   "outputs": [],
   "source": [
    "df = df.sort_values(by=[\"name\", \"database\", \"method\"])"
   ]
  },
  {
   "cell_type": "code",
   "execution_count": null,
   "id": "a3f2ef8e-ad3a-45ae-813f-4fbe1d8faf17",
   "metadata": {},
   "outputs": [],
   "source": [
    "df"
   ]
  },
  {
   "cell_type": "code",
   "execution_count": null,
   "id": "54a9f355-cb69-49c1-a802-c851b81a33e5",
   "metadata": {},
   "outputs": [],
   "source": [
    "import seaborn as sns\n",
    "\n",
    "for method in methods:\n",
    "    plt.figure(figsize=(15,6))\n",
    "    # plot with seaborn barplot\n",
    "    sns.barplot(data=df.loc[df[\"method\"]==str(method)], x='name', y='score', hue='database')\n",
    "    \n",
    "    plt.xticks()\n",
    "    plt.ylabel(f\"{methods_units[method]}/kWh\")\n",
    "    plt.title(method)"
   ]
  },
  {
   "cell_type": "code",
   "execution_count": null,
   "id": "7fa3829a-150c-4f45-b6ed-a090983cd9da",
   "metadata": {},
   "outputs": [],
   "source": []
  }
 ],
 "metadata": {
  "kernelspec": {
   "display_name": "Python 3 (ipykernel)",
   "language": "python",
   "name": "python3"
  },
  "language_info": {
   "codemirror_mode": {
    "name": "ipython",
    "version": 3
   },
   "file_extension": ".py",
   "mimetype": "text/x-python",
   "name": "python",
   "nbconvert_exporter": "python",
   "pygments_lexer": "ipython3",
   "version": "3.11.11"
  }
 },
 "nbformat": 4,
 "nbformat_minor": 5
}
