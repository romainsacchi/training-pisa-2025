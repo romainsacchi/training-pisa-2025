{
 "cells": [
  {
   "cell_type": "markdown",
   "id": "3a087042-ab06-48a6-97d1-71a94c0cc55d",
   "metadata": {},
   "source": [
    "# Testing\n",
    "\n",
    "We will introduce testing in notebooks - you can also develop Python libraries and do more complete testing of those libraries, but this is just a simple introduction.\n",
    "\n",
    "We will use the library `ipytest` to run tests ([repo](https://github.com/chmp/ipytest/tree/main), [example](https://github.com/chmp/ipytest/blob/main/Example.ipynb)). It needs to be configured to run in notebooks:"
   ]
  },
  {
   "cell_type": "code",
   "execution_count": null,
   "id": "8aecf3a5-2cf7-4c8b-8139-a712914b10a8",
   "metadata": {},
   "outputs": [],
   "source": [
    "import ipytest\n",
    "ipytest.autoconfig()"
   ]
  },
  {
   "cell_type": "markdown",
   "id": "53ba0460-eabb-42f6-b1a6-434389be27d6",
   "metadata": {},
   "source": [
    "This is already enough to get started. Let's go back to our simple example:"
   ]
  },
  {
   "cell_type": "code",
   "execution_count": null,
   "id": "58fb15ee-c53d-4c8b-9b0f-11c8e40a8e2f",
   "metadata": {},
   "outputs": [],
   "source": [
    "from numbers import Number\n",
    "\n",
    "def add(a: Number, b: Number) -> Number:\n",
    "    \"\"\"Adds two numbers together, and returns the resulting sum. \n",
    "    \n",
    "    Does not check input types.\"\"\"\n",
    "    return a + b"
   ]
  },
  {
   "cell_type": "markdown",
   "id": "2435c8b2-64c0-424a-8ebe-339cb10d9459",
   "metadata": {},
   "source": [
    "We can now write a test:"
   ]
  },
  {
   "cell_type": "code",
   "execution_count": null,
   "id": "91ebc236-691d-4653-94c1-28786cd41d2b",
   "metadata": {},
   "outputs": [],
   "source": [
    "def test_addition():\n",
    "    assert add(1, 1) == 2"
   ]
  },
  {
   "cell_type": "markdown",
   "id": "6721cf15-71c5-4983-9e16-8a195c169def",
   "metadata": {},
   "source": [
    "And run the tests:"
   ]
  },
  {
   "cell_type": "code",
   "execution_count": null,
   "id": "7ab06811-172b-4b7e-8017-109d58be5be3",
   "metadata": {},
   "outputs": [],
   "source": [
    "ipytest.run('-vv')"
   ]
  },
  {
   "cell_type": "markdown",
   "id": "fed22079-5840-48ad-b8d6-51a2db7809b0",
   "metadata": {},
   "source": [
    "**Task**: Change the test function to get an invalid result and see what happens."
   ]
  },
  {
   "cell_type": "markdown",
   "id": "5af4a66e-7341-4ede-a988-f96d6c118b3c",
   "metadata": {},
   "source": [
    "This is the basic pattern - write test functions whose names start with `test_` and which use `assert`.\n",
    "\n",
    "You should normally write at least one test which succeeds and one test which fails. You can use `with pytest.raises(*error*):` to check for errors. For example, in Python we can't add a number and a string:"
   ]
  },
  {
   "cell_type": "code",
   "execution_count": null,
   "id": "edd722ae-4ad4-4736-9b21-93a8e9a7e81a",
   "metadata": {},
   "outputs": [],
   "source": [
    "1 + \"foo\""
   ]
  },
  {
   "cell_type": "code",
   "execution_count": null,
   "id": "ddad3976-2ec3-4613-b438-81dd234ec450",
   "metadata": {},
   "outputs": [],
   "source": [
    "import pytest\n",
    "\n",
    "def test_addition_types():\n",
    "    with pytest.raises(TypeError):\n",
    "        add(1, \"foo\")"
   ]
  },
  {
   "cell_type": "code",
   "execution_count": null,
   "id": "487b25f4-7748-449c-8738-c92f233367aa",
   "metadata": {},
   "outputs": [],
   "source": [
    "ipytest.run('-vv')"
   ]
  },
  {
   "cell_type": "markdown",
   "id": "6c9a0878-49ce-4350-8e2c-b1a2c17f1476",
   "metadata": {},
   "source": [
    "What if we wanted to test for a whole series of values? We don't want to copy-paste our function over and over again. Instead, we can [parameterize our tests](https://docs.pytest.org/en/stable/how-to/parametrize.html#pytest-mark-parametrize-parametrizing-test-functions):"
   ]
  },
  {
   "cell_type": "code",
   "execution_count": null,
   "id": "168e93ad-b939-4915-af56-0703aac78ef4",
   "metadata": {},
   "outputs": [],
   "source": [
    "@pytest.mark.parametrize(\"a,b,c\", [(1, 1, 2), (-1, 1, 0), (-10, -11, -21)])\n",
    "def test_many_additions(a, b, c):\n",
    "    assert add(a, b) == c"
   ]
  },
  {
   "cell_type": "code",
   "execution_count": null,
   "id": "ad0ee300-f2c7-4e84-9270-a93e1068396c",
   "metadata": {},
   "outputs": [],
   "source": [
    "ipytest.run('-vv')"
   ]
  },
  {
   "cell_type": "markdown",
   "id": "2ae1591c-0552-4686-bebf-3d9634441491",
   "metadata": {},
   "source": [
    "**Tasks**: \n",
    "\n",
    "* Parameterize another mathematical function\n",
    "* Write a function to generate many input arguments to define inputs for parameterization"
   ]
  },
  {
   "cell_type": "markdown",
   "id": "1ff933e5-93e3-454e-bfff-28c1bae7cf49",
   "metadata": {},
   "source": [
    "Sometimes tests cannot succeed. For example, the code is broken, or the test relies on an external service which is down. You can use `xfail` and `skip` to mark and handle these cases.\n",
    "\n",
    "**Task**: \n",
    "\n",
    "* Browse the [pytest docs on `xfail` and `skip](https://docs.pytest.org/en/stable/how-to/skipping.html)\n",
    "* Write and mark a test which is expected to fail\n",
    "* Write and mark a test which should be skipped"
   ]
  },
  {
   "cell_type": "markdown",
   "id": "cf16d341-8638-4f88-8b18-23ab52ac8a24",
   "metadata": {},
   "source": [
    "It is quite common to reuse setups or data across tests. We can create these inputs as test fixtures, and reuse them using `pytest.fixture`."
   ]
  },
  {
   "cell_type": "code",
   "execution_count": null,
   "id": "f9c62057-c5bb-459b-85da-89898d62c94f",
   "metadata": {},
   "outputs": [],
   "source": [
    "@pytest.fixture\n",
    "def some_numbers():\n",
    "    return (1, 2)\n",
    "\n",
    "def test_some_additions(some_numbers):\n",
    "    first, second = some_numbers\n",
    "    assert add(first, second) == 3"
   ]
  },
  {
   "cell_type": "code",
   "execution_count": null,
   "id": "f17a48fa-6b7c-401b-a430-92f6cbc4fe7b",
   "metadata": {},
   "outputs": [],
   "source": [
    "ipytest.run('-vv')"
   ]
  },
  {
   "cell_type": "markdown",
   "id": "419340f7-211a-4de7-a583-b58b7a563fb1",
   "metadata": {},
   "source": [
    "We also want to run tests which won't break our existing Brightway projects. To do this we will use the `bw2test` decorator. **Make sure** to include this in your tests, otherwise you will make changes to your real data!"
   ]
  },
  {
   "cell_type": "code",
   "execution_count": null,
   "id": "936bbef3-3356-4ab4-9154-df869447448b",
   "metadata": {},
   "outputs": [],
   "source": [
    "from bw2data.tests import bw2test\n",
    "import bw2data as bd\n",
    "import bw2calc as bc"
   ]
  },
  {
   "cell_type": "code",
   "execution_count": null,
   "id": "4222cab6-65da-4e7a-8641-3c84b1fd5778",
   "metadata": {},
   "outputs": [],
   "source": [
    "@pytest.fixture\n",
    "@bw2test\n",
    "def biosphere():\n",
    "    bd.Database(\"biosphere\").write({\n",
    "        (\"biosphere\", \"1\"): {\n",
    "            \"categories\": [\"things\"],\n",
    "            \"code\": 1,\n",
    "            \"exchanges\": [],\n",
    "            \"name\": \"an emission\",\n",
    "            \"type\": \"emission\",\n",
    "            \"unit\": \"kg\",\n",
    "        },\n",
    "        (\"biosphere\", \"2\"): {\n",
    "            \"categories\": [\"things\"],\n",
    "            \"code\": 2,\n",
    "            \"exchanges\": [],\n",
    "            \"type\": \"emission\",\n",
    "            \"name\": \"another emission\",\n",
    "            \"unit\": \"kg\",\n",
    "        },\n",
    "    })\n",
    "\n",
    "\n",
    "@pytest.fixture\n",
    "def technosphere(biosphere):\n",
    "    bd.Database(\"food\").write({\n",
    "        (\"food\", \"1\"): {\n",
    "            \"categories\": [\"stuff\", \"meals\"],\n",
    "            \"code\": 1,\n",
    "            \"exchanges\": [\n",
    "                {\n",
    "                    \"amount\": 0.5,\n",
    "                    \"input\": (\"food\", \"2\"),\n",
    "                    \"type\": \"technosphere\",\n",
    "                    \"uncertainty type\": 0,\n",
    "                },\n",
    "                {\n",
    "                    \"amount\": 0.05,\n",
    "                    \"input\": (\"biosphere\", \"1\"),\n",
    "                    \"type\": \"biosphere\",\n",
    "                    \"uncertainty type\": 0,\n",
    "                },\n",
    "            ],\n",
    "            \"location\": \"CA\",\n",
    "            \"name\": \"lunch\",\n",
    "            \"type\": \"process\",\n",
    "            \"unit\": \"kg\",\n",
    "        },\n",
    "        (\"food\", \"2\"): {\n",
    "            \"categories\": [\"stuff\", \"meals\"],\n",
    "            \"code\": 2,\n",
    "            \"exchanges\": [\n",
    "                {\n",
    "                    \"amount\": 0.25,\n",
    "                    \"input\": (\"food\", \"1\"),\n",
    "                    \"type\": \"technosphere\",\n",
    "                    \"uncertainty type\": 0,\n",
    "                },\n",
    "                {\n",
    "                    \"amount\": 0.15,\n",
    "                    \"input\": (\"biosphere\", \"2\"),\n",
    "                    \"type\": \"biosphere\",\n",
    "                    \"uncertainty type\": 0,\n",
    "                },\n",
    "            ],\n",
    "            \"location\": \"CH\",\n",
    "            \"name\": \"dinner\",\n",
    "            \"type\": \"process\",\n",
    "            \"unit\": \"kg\",\n",
    "        },\n",
    "    })\n",
    "\n",
    "\n",
    "@pytest.fixture\n",
    "def lcia(biosphere):\n",
    "    method = bd.Method((\"climate\",))\n",
    "    method.register()\n",
    "    method.write([((\"biosphere\", \"1\"), 10), ((\"biosphere\", \"2\"), 1000)])"
   ]
  },
  {
   "cell_type": "code",
   "execution_count": null,
   "id": "e59ada7a-257a-4d04-a7c8-98076138682f",
   "metadata": {},
   "outputs": [],
   "source": [
    "def test_lcia_score(technosphere, lcia):\n",
    "    lca = bc.LCA(\n",
    "        demand={(\"food\", \"1\"): 1}, \n",
    "        method=(\"climate\",)\n",
    "    )\n",
    "    lca.lci()\n",
    "    lca.lcia()\n",
    "    assert 85 < lca.score < 90"
   ]
  },
  {
   "cell_type": "code",
   "execution_count": null,
   "id": "37a99b9a-1413-4a72-8096-bfc091d9697d",
   "metadata": {},
   "outputs": [],
   "source": [
    "ipytest.run('-vv')"
   ]
  },
  {
   "cell_type": "code",
   "execution_count": null,
   "id": "fcfe9249-104b-47bd-b6e0-4ef47df180a8",
   "metadata": {},
   "outputs": [],
   "source": []
  }
 ],
 "metadata": {
  "kernelspec": {
   "display_name": "Python 3 (ipykernel)",
   "language": "python",
   "name": "python3"
  },
  "language_info": {
   "codemirror_mode": {
    "name": "ipython",
    "version": 3
   },
   "file_extension": ".py",
   "mimetype": "text/x-python",
   "name": "python",
   "nbconvert_exporter": "python",
   "pygments_lexer": "ipython3",
   "version": "3.11.9"
  }
 },
 "nbformat": 4,
 "nbformat_minor": 5
}
