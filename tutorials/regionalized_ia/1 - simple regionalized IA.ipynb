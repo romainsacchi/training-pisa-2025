{
 "cells": [
  {
   "cell_type": "markdown",
   "id": "1a68e9d7-ab81-4d93-9736-4c199bdfcfcc",
   "metadata": {},
   "source": [
    "<div>\n",
    "    <table>\n",
    "        <tr>\n",
    "            <td>\n",
    "                <center>\n",
    "                    <h1>Introduction to regionalized impact assessment</h1>\n",
    "                     <a href=\"https://www.psi.ch/en/ta/people/romain-sacchi\">Romain Sacchi</a> (PSI)\n",
    "                    <br><br>\n",
    "                    Duration: 1 hour 15 minutes.\n",
    "                </center>\n",
    "            </td>\n",
    "        </tr>\n",
    "    </div>\n",
    "\n",
    "<div class=\"alert alert-info\">\n",
    "Note: we will be using <a href=\"https://docs.brightway.dev/en/legacy/\">Brightway 2</a>, not <a href=\"https://docs.brightway.dev/en/latest/content/installation/index.html\">Brightway 2.5</a>. From the user end side, very little differs between the two. The code executed throughout this notebook works with both versions.\n",
    "</div>"
   ]
  },
  {
   "cell_type": "code",
   "execution_count": 1,
   "id": "73235f24-7124-4347-926d-54a9f2be127c",
   "metadata": {},
   "outputs": [],
   "source": [
    "import bw2io, bw2data, bw2calc\n",
    "import numpy as np"
   ]
  },
  {
   "cell_type": "code",
   "execution_count": 2,
   "id": "ef6442a5-b043-4fea-8356-440c91c80af9",
   "metadata": {},
   "outputs": [],
   "source": [
    "bw2data.projects.set_current(\"training-day-2\")"
   ]
  },
  {
   "cell_type": "markdown",
   "id": "237c5f95-41c0-4fba-8cb1-ed088ef4f170",
   "metadata": {},
   "source": [
    "## Exercise: Manual Calculation of LCA Impacts Using Brightway2 Matrices\n",
    "This exercise demonstrates how to manually compute LCA impacts using linear algebra, using global and regionalized AWARE characterization factors."
   ]
  },
  {
   "cell_type": "markdown",
   "id": "2dd56f57-0504-4d42-9170-4b7b8a672497",
   "metadata": {},
   "source": [
    "## Regular LCA with global AWARE method"
   ]
  },
  {
   "cell_type": "code",
   "execution_count": 3,
   "id": "b6ed913a-afcd-4018-a799-54a5d2095712",
   "metadata": {},
   "outputs": [
    {
     "data": {
      "text/plain": [
       "'heat and power co-generation, natural gas, conventional power plant, 100MW electrical' (megajoule, IR, None)"
      ]
     },
     "execution_count": 3,
     "metadata": {},
     "output_type": "execute_result"
    }
   ],
   "source": [
    "act = bw2data.Database(\"ecoinvent-3.10-cutoff\").random()\n",
    "act"
   ]
  },
  {
   "cell_type": "code",
   "execution_count": 4,
   "id": "ce63761b-3f9c-4995-b694-458f0e58f123",
   "metadata": {},
   "outputs": [],
   "source": [
    "global_AWARE = (\n",
    "    'EF v3.1',\n",
    "    'water use',\n",
    "    'user deprivation potential (deprivation-weighted water consumption)'\n",
    ")"
   ]
  },
  {
   "cell_type": "code",
   "execution_count": 5,
   "id": "eaa4c21a-bf79-48e4-a384-7a7ab265a03d",
   "metadata": {},
   "outputs": [
    {
     "name": "stdout",
     "output_type": "stream",
     "text": [
      "'Water' (cubic meter, None, ('air', 'low population density, long-term')) 42.95\n",
      "'Water' (cubic meter, None, ('air', 'lower stratosphere + upper troposphere')) 42.95\n",
      "'Water' (cubic meter, None, ('air', 'non-urban air or from high stacks')) 42.95\n",
      "'Water' (cubic meter, None, ('air',)) 42.95\n",
      "'Water' (cubic meter, None, ('air', 'urban air close to ground')) 42.95\n"
     ]
    }
   ],
   "source": [
    "for f, cf in bw2data.Method(global_AWARE).load():\n",
    "    print(bw2data.get_activity(f), cf)"
   ]
  },
  {
   "cell_type": "code",
   "execution_count": 6,
   "id": "c918d5eb-37b7-4cd1-86a7-34de0e12eddf",
   "metadata": {},
   "outputs": [
    {
     "name": "stderr",
     "output_type": "stream",
     "text": [
      "/opt/homebrew/Caskroom/miniforge/base/envs/bw2/lib/python3.11/site-packages/scikits/umfpack/umfpack.py:736: UmfpackWarning: (almost) singular matrix! (estimated cond. number: 1.21e+13)\n",
      "  warnings.warn(msg, UmfpackWarning)\n"
     ]
    },
    {
     "data": {
      "text/plain": [
       "0.0016882957000655878"
      ]
     },
     "execution_count": 6,
     "metadata": {},
     "output_type": "execute_result"
    }
   ],
   "source": [
    "lca = bw2calc.LCA({act: 1}, global_AWARE)\n",
    "lca.lci()\n",
    "lca.lcia()\n",
    "lca.score"
   ]
  },
  {
   "cell_type": "markdown",
   "id": "7895d05a-f56d-495e-84d8-6f33e1daf756",
   "metadata": {},
   "source": [
    "## Attempt at regionalizing impacts"
   ]
  },
  {
   "cell_type": "code",
   "execution_count": 7,
   "id": "f7542f19-da3f-482b-a4c1-c111127c55c0",
   "metadata": {},
   "outputs": [],
   "source": [
    "# taken from https://wulca-waterlca.org/aware/what-is-aware/\n",
    "regional_CFs = {\n",
    "    'AD':13.27223319,\n",
    "    'AE':47.27150875,\n",
    "    'AF':31.63591904,\n",
    "    'AG':4.883459209,\n",
    "    'AI':22.37208753,\n",
    "    'AL':9.070250718,\n",
    "    'AM':43.72445567,\n",
    "    'AO':9.912449816,\n",
    "    'AR':4.192924708,\n",
    "    'AS':4.417532544,\n",
    "    'AT':1.142827776,\n",
    "    'AU':25.40623246,\n",
    "    'AU-NSW':36.06513164,\n",
    "    'AU-QLD':25.77392759,\n",
    "    'AU-SA':40.03027279,\n",
    "    'AU-TAS':2.859057997,\n",
    "    'AU-VIC':18.19099635,\n",
    "    'AU-WA':10.37565369,\n",
    "    'AW':0,\n",
    "    'AZ':44.40994217,\n",
    "    'BA':1.015955881,\n",
    "    'BB':7.600422936,\n",
    "    'BD':2.343338219,\n",
    "    'BE':1.204317505,\n",
    "    'BF':19.56392958,\n",
    "    'BG':9.468704322,\n",
    "    'BH':9.039942666,\n",
    "    'BI':65.19322321,\n",
    "    'BJ':7.200227473,\n",
    "    'BN':0.179054933,\n",
    "    'BO':1.684770366,\n",
    "    'BR':1.898993283,\n",
    "    'BR-AC':0.59,\n",
    "    'BR-AL':2.45,\n",
    "    'BR-AM':0.15,\n",
    "    'BR-AP':0.21,\n",
    "    'BR-BA':3.15,\n",
    "    'BR-CE':9.62,\n",
    "    'BR-DF':0.74,\n",
    "    'BR-ES':1.63,\n",
    "    'BR-GO':0.83,\n",
    "    'BR-MA':2.23,\n",
    "    'BR-MG':2.31,\n",
    "    'BR-MS':1.15,\n",
    "    'BR-MT':1.19,\n",
    "    'BR-PA':0.66,\n",
    "    'BR-PB':7.59,\n",
    "    'BR-PE':2.99,\n",
    "    'BR-PI':7.59,\n",
    "    'BR-PR':0.63,\n",
    "    'BR-RJ':1.44,\n",
    "    'BR-RN':12.12,\n",
    "    'BR-RO':0.41,\n",
    "    'BR-RR':0.44,\n",
    "    'BR-RS':0.41,\n",
    "    'BR-SC':0.46,\n",
    "    'BR-SE':2.35,\n",
    "    'BR-SP':0.69,\n",
    "    'BR-TO':0.98,\n",
    "    'BS':27.35628596,\n",
    "    'BT':0.764600204,\n",
    "    'BW':33.04354038,\n",
    "    'BY':2.988721966,\n",
    "    'BZ':1.048442937,\n",
    "    'CA':2.685574253,\n",
    "    'CA-AB':7.15840209,\n",
    "    'CA-BC':0.948430054,\n",
    "    'CA-MB':3.386249073,\n",
    "    'CA-NB':0.778731468,\n",
    "    'CA-NF':1.382107402,\n",
    "    'CA-NS':2.203033097,\n",
    "    'CA-NT':1.313228612,\n",
    "    'CA-NU':17.7085804,\n",
    "    'CA-ON':0.811575857,\n",
    "    'CA-PE':1.276723249,\n",
    "    'CA-QC':0.868176001,\n",
    "    'CA-SK':15.7332426,\n",
    "    'CA-YK':1.802325639,\n",
    "    'CD':0.563185617,\n",
    "    'CF':9.697818614,\n",
    "    'CG':9.382071336,\n",
    "    'CH':0.737323233,\n",
    "    'CI':5.865906126,\n",
    "    'CL':35.14160396,\n",
    "    'CM':3.956415806,\n",
    "    'CN':27.08065257,\n",
    "    'CN-AH':1.297701196,\n",
    "    'CN-BJ':81.18499373,\n",
    "    'CN-CQ':1.124031758,\n",
    "    'CN-FJ':11.65657597,\n",
    "    'CN-GD':2.774092675,\n",
    "    'CN-GS':65.07178814,\n",
    "    'CN-GX':2.92659624,\n",
    "    'CN-GZ':0.994413713,\n",
    "    'CN-HA':31.73672309,\n",
    "    'CN-HB':0.356703646,\n",
    "    'CN-HE':74.93048254,\n",
    "    'CN-HL':74.93048254,\n",
    "    'CN-HN':6.545672679,\n",
    "    'CN-HU':0.479952865,\n",
    "    'CN-JL':12.35339004,\n",
    "    'CN-JS':16.5440605,\n",
    "    'CN-JX':0.245756567,\n",
    "    'CN-LN':28.21863381,\n",
    "    'CN-NM':64.67585564,\n",
    "    'CN-NX':71.79454334,\n",
    "    'CN-QH':58.48521621,\n",
    "    'CN-SA':67.36209321,\n",
    "    'CN-SC':1.274672382,\n",
    "    'CN-SD':61.02333993,\n",
    "    'CN-SH':31.85717608,\n",
    "    'CN-SX':67.36209321,\n",
    "    'CN-TJ':84.18762075,\n",
    "    'CN-XJ':69.68190261,\n",
    "    'CN-YN':1.204191344,\n",
    "    'CN-ZJ':6.281656291,\n",
    "    'CO':0.77998549,\n",
    "    'CR':0.651581794,\n",
    "    'CU':2.991052812,\n",
    "    'CV':8.333333333,\n",
    "    'CY':48.66421806,\n",
    "    'CZ':1.692548168,\n",
    "    'DE':1.116620648,\n",
    "    'DJ':34.40438326,\n",
    "    'DK':1.988550641,\n",
    "    'DM':5.818121269,\n",
    "    'DO':4.027195634,\n",
    "    'DZ':37.03002812,\n",
    "    'EC':2.161574499,\n",
    "    'EE':1.071266027,\n",
    "    'EG':98.40056828,\n",
    "    'EH':56.09518541,\n",
    "    'ER':36.04107426,\n",
    "    'ES':31.41073099,\n",
    "    'ET':28.53393388,\n",
    "    'FI':1.731756563,\n",
    "    'FJ':1.073007592,\n",
    "    'FK':5.388298237,\n",
    "    'FO':1.43926189,\n",
    "    'FR':3.051079148,\n",
    "    'FR-ARA':0.986424759,\n",
    "    'FR-NA':2.89435522,\n",
    "    'FR-OC':5.731007586,\n",
    "    'FR-PL':3.872191899,\n",
    "    'FR-PACA':2.579719079,\n",
    "    'FR-BFC':1.289096797,\n",
    "    'FR-BR':13.8874101,\n",
    "    'FR-CVL':2.42321416,\n",
    "    'FR-CO':10.01193132,\n",
    "    'FR-GE':0.988472615,\n",
    "    'FR-HF':1.303227526,\n",
    "    'FR-IL':1.89,\n",
    "    'FR-NO':1.63005246,\n",
    "    'GA':0.410774999,\n",
    "    'GB':1.248344352,\n",
    "    'GD':13.47446911,\n",
    "    'GE':24.50739578,\n",
    "    'GF':0.493618114,\n",
    "    'GH':16.07398611,\n",
    "    'GI':30.98467086,\n",
    "    'GL':0,\n",
    "    'GM':13.64247301,\n",
    "    'GN':20.96511075,\n",
    "    'GP':6.95052304,\n",
    "    'GQ':0.288651484,\n",
    "    'GR':28.34788368,\n",
    "    'GT':1.09924431,\n",
    "    'GW':2.647241475,\n",
    "    'GY':0.454884532,\n",
    "    'HN':1.080032291,\n",
    "    'HR':1.353792046,\n",
    "    'HT':4.467154392,\n",
    "    'HU':1.164123164,\n",
    "    'ID':8.925760609,\n",
    "    'IE':0.791911458,\n",
    "    'IL':54.97082753,\n",
    "    'IM':4.976552229,\n",
    "    'IN':21.30608524,\n",
    "    'IN-AP':17.508465,\n",
    "    'IN-AR':0.750088908,\n",
    "    'IN-AS':0.668501025,\n",
    "    'IN-BR':17.90797443,\n",
    "    'IN-CH':92.83,\n",
    "    'IN-CT':3.816037476,\n",
    "    'IN-DD':2.1,\n",
    "    'IN-DL':19.35359862,\n",
    "    'IN-DN':2.1,\n",
    "    'IN-GA':3.731461452,\n",
    "    'IN-GJ':41.93089476,\n",
    "    'IN-HP':39.88242212,\n",
    "    'IN-HR':53.99496133,\n",
    "    'IN-JH':6.399434114,\n",
    "    'IN-JK':37.40583516,\n",
    "    'IN-KA':36.86396941,\n",
    "    'IN-KL':12.82552355,\n",
    "    'IN-MH':3.150693205,\n",
    "    'IN-ML':0.471781784,\n",
    "    'IN-MN':0.662195389,\n",
    "    'IN-MP':20.55623889,\n",
    "    'IN-MZ':0.246265181,\n",
    "    'IN-NL':0.736958006,\n",
    "    'IN-OR':7.655352169,\n",
    "    'IN-PB':68.46993887,\n",
    "    'IN-PY':70.75497844,\n",
    "    'IN-RJ':51.45829685,\n",
    "    'IN-SK':0.831286537,\n",
    "    'IN-TN':66.52800298,\n",
    "    'IN-TR':0.191128313,\n",
    "    'IN-UP':17.92,\n",
    "    'IN-UT':18.02827757,\n",
    "    'IN-WB':3.494653596,\n",
    "    'IQ':36.66435872,\n",
    "    'IR':40.14382572,\n",
    "    'IS':1.082804368,\n",
    "    'IT':16.67833515,\n",
    "    'JE':13.54248473,\n",
    "    'JM':6.302038777,\n",
    "    'JO':49.90227979,\n",
    "    'JP':0.573191418,\n",
    "    'KE':28.98890657,\n",
    "    'KG':55.85859093,\n",
    "    'KH':3.346641001,\n",
    "    'KM':9.801121883,\n",
    "    'KN':4.319000506,\n",
    "    'KP':2.195273455,\n",
    "    'KR':1.066112034,\n",
    "    'KW':71.02419319,\n",
    "    'KZ':27.58019839,\n",
    "    'LA':3.79714499,\n",
    "    'LB':50.71153475,\n",
    "    'LC':14.14448058,\n",
    "    'LI':0.713791809,\n",
    "    'LK':5.036244421,\n",
    "    'LR':0.646303306,\n",
    "    'LS':25.31061773,\n",
    "    'LT':1.269201868,\n",
    "    'LU':0.722380839,\n",
    "    'LV':1.244560489,\n",
    "    'LY':27.97231866,\n",
    "    'MA':54.03104543,\n",
    "    'MC':1.726984902,\n",
    "    'MD':2.007300744,\n",
    "    'ME':0.847905034,\n",
    "    'MG':2.308126378,\n",
    "    'MK':18.20279156,\n",
    "    'ML':28.00241263,\n",
    "    'MM':1.777330389,\n",
    "    'MN':30.62360953,\n",
    "    'MQ':2.539660864,\n",
    "    'MR':52.61407734,\n",
    "    'MS':10.45098999,\n",
    "    'MT':46.19024386,\n",
    "    'MU':3.446001766,\n",
    "    'MW':6.617770251,\n",
    "    'MX':14.45045536,\n",
    "    'MY':0.516838183,\n",
    "    'MZ':5.470450579,\n",
    "    'NA':34.68848598,\n",
    "    'NC':3.459762382,\n",
    "    'NE':18.56602802,\n",
    "    'NG':9.818772478,\n",
    "    'NI':0.875306523,\n",
    "    'NL':0.957189826,\n",
    "    'NO':0.77994974,\n",
    "    'NP':17.88958645,\n",
    "    'NZ':1.688989222,\n",
    "    'OM':31.82483219,\n",
    "    'PA':0.633934528,\n",
    "    'PE':13.24247171,\n",
    "    'PG':0.453634799,\n",
    "    'PH':2.213227109,\n",
    "    'PK':40.81157453,\n",
    "    'PL':1.997953402,\n",
    "    'PM':16.06678053,\n",
    "    'PR':2.077562297,\n",
    "    'PT':17.08191469,\n",
    "    'PY':1.586587931,\n",
    "    'QA':60.07066741,\n",
    "    'RE':12.01384258,\n",
    "    'RO':1.736906805,\n",
    "    'RS':2.304273546,\n",
    "    'RU':3.662807863,\n",
    "    'RW':75.29387103,\n",
    "    'SA':28.36519514,\n",
    "    'SB':0.859988953,\n",
    "    'SD':49.4525921,\n",
    "    'SE':1.693511127,\n",
    "    'SG':0.926301255,\n",
    "    'SI':1.087200574,\n",
    "    'SJ':45.42733786,\n",
    "    'SK':1.19212355,\n",
    "    'SL':0.809387896,\n",
    "    'SM':6.090027278,\n",
    "    'SN':52.79134188,\n",
    "    'SO':47.00626909,\n",
    "    'SR':0.584345118,\n",
    "    'ST':25.57718316,\n",
    "    'SV':1.710094366,\n",
    "    'SY':48.47332484,\n",
    "    'SZ':2.81601621,\n",
    "    'TC':12.66219083,\n",
    "    'TD':35.81221696,\n",
    "    'TG':10.94380826,\n",
    "    'TH':3.945515776,\n",
    "    'TJ':49.12953703,\n",
    "    'TL':3.327651116,\n",
    "    'TM':44.23466923,\n",
    "    'TN':40.11433341,\n",
    "    'TO':12.67533691,\n",
    "    'TR':22.24087346,\n",
    "    'TT':22.71917593,\n",
    "    'TW':2.613745,\n",
    "    'TZ':29.05631486,\n",
    "    'UA':6.238188651,\n",
    "    'UG':87.90221767,\n",
    "    'US':9.087076287,\n",
    "    'US-CA':26.17700396,\n",
    "    'US-CO':51.38766872,\n",
    "    'US-FL':1.664767782,\n",
    "    'US-IA':2.495258525,\n",
    "    'US-ID':2.130424531,\n",
    "    'US-IL':1.018808533,\n",
    "    'US-IN':0.787399898,\n",
    "    'US-MN':1.598958914,\n",
    "    'US-ND':8.648868228,\n",
    "    'US-NE':33.43677087,\n",
    "    'US-OH':0.753566729,\n",
    "    'US-OR':2.851115576,\n",
    "    'US-SD':10.26709085,\n",
    "    'US-WA':0.970325628,\n",
    "    'US-WI':1.118488974,\n",
    "    'UY':0.469094578,\n",
    "    'UZ':50.21383154,\n",
    "    'VC':9.232881605,\n",
    "    'VE':4.584609545,\n",
    "    'VG':13.24066099,\n",
    "    'VG':13.24066099,\n",
    "    'VN':4.724603474,\n",
    "    'VU':2.05348425,\n",
    "    'WS':0.910033199,\n",
    "    'YE':48.63270304,\n",
    "    'YT':0,\n",
    "    'ZA':21.13434873,\n",
    "    'ZM':6.714269034,\n",
    "    'ZW':10.12250074,\n",
    "}"
   ]
  },
  {
   "cell_type": "code",
   "execution_count": 8,
   "id": "7cc7f82e-0990-4dc3-aef5-96c158b4a44b",
   "metadata": {},
   "outputs": [],
   "source": [
    "lca = bw2calc.LCA({act: 1}, global_AWARE)\n",
    "lca.lci()"
   ]
  },
  {
   "cell_type": "code",
   "execution_count": 9,
   "id": "96f1d742-ea42-4527-9ba3-0dc3f8ecd203",
   "metadata": {},
   "outputs": [
    {
     "data": {
      "text/plain": [
       "(2648, 23523)"
      ]
     },
     "execution_count": 9,
     "metadata": {},
     "output_type": "execute_result"
    }
   ],
   "source": [
    "lca.inventory.shape"
   ]
  },
  {
   "cell_type": "code",
   "execution_count": 10,
   "id": "0b4ec423-4312-4d74-a45c-d5e74f295b96",
   "metadata": {},
   "outputs": [],
   "source": [
    "characterization_matrix = np.zeros((2648, 2648))"
   ]
  },
  {
   "cell_type": "code",
   "execution_count": 11,
   "id": "307b7432-e58a-4eaf-9591-f0b8c130b4dd",
   "metadata": {},
   "outputs": [],
   "source": [
    "for f, cf in bw2data.Method(global_AWARE).load():\n",
    "    try:\n",
    "        characterization_matrix[lca.biosphere_dict[f], lca.biosphere_dict[f]] = cf\n",
    "    except:\n",
    "        pass"
   ]
  },
  {
   "cell_type": "code",
   "execution_count": 12,
   "id": "c50be821-a306-4afd-8478-e449c253ef4a",
   "metadata": {},
   "outputs": [
    {
     "data": {
      "text/plain": [
       "0.0016882956700756558"
      ]
     },
     "execution_count": 12,
     "metadata": {},
     "output_type": "execute_result"
    }
   ],
   "source": [
    "(characterization_matrix @ lca.inventory).sum()"
   ]
  },
  {
   "cell_type": "markdown",
   "id": "46e13df9-477f-441f-89f6-c1d297cf05dc",
   "metadata": {},
   "source": [
    "This checks out with the results above"
   ]
  },
  {
   "cell_type": "markdown",
   "id": "6df0662d-e01c-4e75-9eb0-eca2b989fd8b",
   "metadata": {},
   "source": [
    "Now, let's try to use the regionalized factors"
   ]
  },
  {
   "cell_type": "code",
   "execution_count": null,
   "id": "dfa2bbb5-7109-4c3d-a554-9e13e4f93562",
   "metadata": {},
   "outputs": [],
   "source": [
    "lca.inventory.shape"
   ]
  },
  {
   "cell_type": "code",
   "execution_count": null,
   "id": "7b173bdf-0634-4e48-9cc5-6ad15c849a3b",
   "metadata": {},
   "outputs": [],
   "source": [
    "lca.inventory"
   ]
  },
  {
   "cell_type": "code",
   "execution_count": 13,
   "id": "4be91c98-bd80-4daa-a408-6c7e8e9ffb55",
   "metadata": {},
   "outputs": [],
   "source": [
    "from scipy.sparse import lil_matrix\n",
    "characterization_matrix = lil_matrix(lca.inventory.shape)"
   ]
  },
  {
   "cell_type": "code",
   "execution_count": 14,
   "id": "959bce7e-76ed-472d-8203-7f02e9037e1b",
   "metadata": {},
   "outputs": [
    {
     "data": {
      "text/plain": [
       "(2648, 23523)"
      ]
     },
     "execution_count": 14,
     "metadata": {},
     "output_type": "execute_result"
    }
   ],
   "source": [
    "characterization_matrix.shape"
   ]
  },
  {
   "cell_type": "code",
   "execution_count": 15,
   "id": "e6b61c70-5d53-4fba-b9f9-370d2193ab8f",
   "metadata": {},
   "outputs": [],
   "source": [
    "activity_dict, _, biosphere_dict = lca.reverse_dict()"
   ]
  },
  {
   "cell_type": "code",
   "execution_count": 16,
   "id": "63c8717e-09f6-4f32-9962-82ce3c6eab2c",
   "metadata": {},
   "outputs": [],
   "source": [
    "flows = [f[0] for f in bw2data.Method(global_AWARE).load()]\n",
    "for i in range(0, lca.inventory.shape[1]):\n",
    "    for j in range(0, lca.inventory.shape[0]):\n",
    "        if biosphere_dict[j] in flows:\n",
    "            if lca.inventory[j, i] != 0:\n",
    "                a = bw2data.get_activity(activity_dict[i])\n",
    "                loc = a[\"location\"]\n",
    "                if loc in regional_CFs:\n",
    "                    characterization_matrix[j, i] = regional_CFs[loc]\n",
    "                    #characterization_matrix[j, i] = 42.95\n",
    "                else:\n",
    "                    characterization_matrix[j, i] = 42.95\n",
    "                "
   ]
  },
  {
   "cell_type": "code",
   "execution_count": 17,
   "id": "8bf87bf2-747a-4736-8aeb-b6d341da755a",
   "metadata": {},
   "outputs": [
    {
     "data": {
      "text/plain": [
       "0.0015681346618722245"
      ]
     },
     "execution_count": 17,
     "metadata": {},
     "output_type": "execute_result"
    }
   ],
   "source": [
    "characterization_matrix.multiply(lca.inventory).sum()"
   ]
  },
  {
   "cell_type": "markdown",
   "id": "e01fddcd-5eab-4911-a483-04e24ff1db6f",
   "metadata": {},
   "source": [
    "## Now let's do the same with `edges`\n",
    "https://github.com/Laboratory-for-Energy-Systems-Analysis/edges"
   ]
  },
  {
   "cell_type": "code",
   "execution_count": 20,
   "id": "3770e666-b449-4bad-818c-4497e3501141",
   "metadata": {
    "scrolled": true
   },
   "outputs": [],
   "source": [
    "import bw2data\n",
    "from edges import EdgeLCIA, get_available_methods\n",
    "\n",
    "bw2data.projects.set_current(\"training-day-2\")\n"
   ]
  },
  {
   "cell_type": "code",
   "execution_count": 22,
   "id": "89c0e8de-cf38-47b7-9192-f784493f00cd",
   "metadata": {},
   "outputs": [
    {
     "data": {
      "text/plain": [
       "[('AWARE 1.2c', 'Country', 'irri', 'apr'),\n",
       " ('AWARE 1.2c', 'Country', 'irri', 'aug'),\n",
       " ('AWARE 1.2c', 'Country', 'irri', 'dec'),\n",
       " ('AWARE 1.2c', 'Country', 'irri', 'feb'),\n",
       " ('AWARE 1.2c', 'Country', 'irri', 'jan'),\n",
       " ('AWARE 1.2c', 'Country', 'irri', 'jul'),\n",
       " ('AWARE 1.2c', 'Country', 'irri', 'jun'),\n",
       " ('AWARE 1.2c', 'Country', 'irri', 'mar'),\n",
       " ('AWARE 1.2c', 'Country', 'irri', 'may'),\n",
       " ('AWARE 1.2c', 'Country', 'irri', 'nov'),\n",
       " ('AWARE 1.2c', 'Country', 'irri', 'oct'),\n",
       " ('AWARE 1.2c', 'Country', 'irri', 'sep'),\n",
       " ('AWARE 1.2c', 'Country', 'irri', 'yearly'),\n",
       " ('AWARE 1.2c', 'Country', 'non', 'irri', 'apr'),\n",
       " ('AWARE 1.2c', 'Country', 'non', 'irri', 'aug'),\n",
       " ('AWARE 1.2c', 'Country', 'non', 'irri', 'dec'),\n",
       " ('AWARE 1.2c', 'Country', 'non', 'irri', 'feb'),\n",
       " ('AWARE 1.2c', 'Country', 'non', 'irri', 'jan'),\n",
       " ('AWARE 1.2c', 'Country', 'non', 'irri', 'jul'),\n",
       " ('AWARE 1.2c', 'Country', 'non', 'irri', 'jun'),\n",
       " ('AWARE 1.2c', 'Country', 'non', 'irri', 'mar'),\n",
       " ('AWARE 1.2c', 'Country', 'non', 'irri', 'may'),\n",
       " ('AWARE 1.2c', 'Country', 'non', 'irri', 'nov'),\n",
       " ('AWARE 1.2c', 'Country', 'non', 'irri', 'oct'),\n",
       " ('AWARE 1.2c', 'Country', 'non', 'irri', 'sep'),\n",
       " ('AWARE 1.2c', 'Country', 'non', 'irri', 'yearly'),\n",
       " ('AWARE 1.2c', 'Country', 'unspecified', 'apr'),\n",
       " ('AWARE 1.2c', 'Country', 'unspecified', 'aug'),\n",
       " ('AWARE 1.2c', 'Country', 'unspecified', 'dec'),\n",
       " ('AWARE 1.2c', 'Country', 'unspecified', 'feb'),\n",
       " ('AWARE 1.2c', 'Country', 'unspecified', 'jan'),\n",
       " ('AWARE 1.2c', 'Country', 'unspecified', 'jul'),\n",
       " ('AWARE 1.2c', 'Country', 'unspecified', 'jun'),\n",
       " ('AWARE 1.2c', 'Country', 'unspecified', 'mar'),\n",
       " ('AWARE 1.2c', 'Country', 'unspecified', 'may'),\n",
       " ('AWARE 1.2c', 'Country', 'unspecified', 'nov'),\n",
       " ('AWARE 1.2c', 'Country', 'unspecified', 'oct'),\n",
       " ('AWARE 1.2c', 'Country', 'unspecified', 'sep'),\n",
       " ('AWARE 1.2c', 'Country', 'unspecified', 'yearly'),\n",
       " ('GeoPolRisk', '2024'),\n",
       " ('GeoPolRisk', 'paired', '2024'),\n",
       " ('ImpactWorld+ 2.1', 'Freshwater acidification', 'damage'),\n",
       " ('ImpactWorld+ 2.1', 'Freshwater acidification', 'midpoint'),\n",
       " ('ImpactWorld+ 2.1', 'Freshwater eutrophication', 'damage'),\n",
       " ('ImpactWorld+ 2.1', 'Freshwater eutrophication', 'midpoint'),\n",
       " ('ImpactWorld+ 2.1', 'Land occupation, biodiversity', 'damage'),\n",
       " ('ImpactWorld+ 2.1', 'Land occupation, biodiversity', 'midpoint'),\n",
       " ('ImpactWorld+ 2.1', 'Land transformation, biodiversity', 'damage'),\n",
       " ('ImpactWorld+ 2.1', 'Land transformation, biodiversity', 'midpoint'),\n",
       " ('ImpactWorld+ 2.1', 'Marine eutrophication', 'damage'),\n",
       " ('ImpactWorld+ 2.1', 'Marine eutrophication', 'midpoint'),\n",
       " ('ImpactWorld+ 2.1', 'Terrestrial acidification', 'damage'),\n",
       " ('ImpactWorld+ 2.1', 'Terrestrial acidification', 'midpoint'),\n",
       " ('ImpactWorld+ 2.1', 'Thermally polluted water', 'damage'),\n",
       " ('ImpactWorld+ 2.1', 'Thermally polluted water', 'midpoint'),\n",
       " ('ImpactWorld+ 2.1', 'Water availability, freshwater ecosystem', 'damage'),\n",
       " ('ImpactWorld+ 2.1', 'Water availability, freshwater ecosystem', 'midpoint'),\n",
       " ('ImpactWorld+ 2.1', 'Water availability, human health', 'damage'),\n",
       " ('ImpactWorld+ 2.1', 'Water availability, human health', 'midpoint'),\n",
       " ('ImpactWorld+ 2.1', 'Water availability, terrestrial ecosystem', 'damage'),\n",
       " ('ImpactWorld+ 2.1', 'Water availability, terrestrial ecosystem', 'midpoint'),\n",
       " ('ImpactWorld+ 2.1', 'Water scarcity', 'damage'),\n",
       " ('ImpactWorld+ 2.1', 'Water scarcity', 'midpoint'),\n",
       " ('RELICS', 'copper')]"
      ]
     },
     "execution_count": 22,
     "metadata": {},
     "output_type": "execute_result"
    }
   ],
   "source": [
    "get_available_methods()"
   ]
  },
  {
   "cell_type": "code",
   "execution_count": 25,
   "id": "dbfbcf18-ae13-4644-943a-c63061903801",
   "metadata": {},
   "outputs": [
    {
     "name": "stdout",
     "output_type": "stream",
     "text": [
      "'heat and power co-generation, natural gas, conventional power plant, 100MW electrical' (megajoule, IR, None)\n",
      "Identifying eligible exchanges...\n"
     ]
    },
    {
     "name": "stderr",
     "output_type": "stream",
     "text": [
      "100%|███████████████████████████████████████████████████████| 3410/3410 [00:00<00:00, 140132.04it/s]"
     ]
    },
    {
     "name": "stdout",
     "output_type": "stream",
     "text": [
      "Handling contained locations...\n"
     ]
    },
    {
     "name": "stderr",
     "output_type": "stream",
     "text": [
      "\n",
      "Processing contained groups (pass 1): 100%|████████████████████| 155/155 [00:00<00:00, 27136.83it/s]\n"
     ]
    },
    {
     "name": "stdout",
     "output_type": "stream",
     "text": [
      "Handling dynamic regions...\n"
     ]
    },
    {
     "name": "stderr",
     "output_type": "stream",
     "text": [
      "Processing dynamic groups (pass 1): 100%|██████████████████████| 2267/2267 [00:03<00:00, 750.19it/s]\n"
     ]
    },
    {
     "data": {
      "text/plain": [
       "-0.0008102020068805893"
      ]
     },
     "execution_count": 25,
     "metadata": {},
     "output_type": "execute_result"
    }
   ],
   "source": [
    "\n",
    "#act = bw2data.Database(\"ecoinvent-3.10-cutoff\").random()\n",
    "print(act)\n",
    "\n",
    "# Define a method\n",
    "method = ('AWARE 1.2c', 'Country', 'unspecified', 'yearly')\n",
    "\n",
    "# Initialize the LCA object\n",
    "LCA = EdgeLCIA({act: 1}, method, weight=\"population\")\n",
    "LCA.lci()\n",
    "LCA.map_exchanges()\n",
    "#LCA.map_dynamic_locations()\n",
    "LCA.map_contained_locations()\n",
    "LCA.map_dynamic_locations()\n",
    "LCA.evaluate_cfs()\n",
    "# Perform the LCIA calculation\n",
    "LCA.lcia()\n",
    "LCA.score"
   ]
  },
  {
   "cell_type": "code",
   "execution_count": null,
   "id": "297137e5-ae5c-47b2-9648-c73bebca896e",
   "metadata": {},
   "outputs": [],
   "source": []
  },
  {
   "cell_type": "code",
   "execution_count": 26,
   "id": "c42940da-7d26-4be8-abf6-d4f77b110ed9",
   "metadata": {},
   "outputs": [
    {
     "data": {
      "text/html": [
       "<div>\n",
       "<style scoped>\n",
       "    .dataframe tbody tr th:only-of-type {\n",
       "        vertical-align: middle;\n",
       "    }\n",
       "\n",
       "    .dataframe tbody tr th {\n",
       "        vertical-align: top;\n",
       "    }\n",
       "\n",
       "    .dataframe thead th {\n",
       "        text-align: right;\n",
       "    }\n",
       "</style>\n",
       "<table border=\"1\" class=\"dataframe\">\n",
       "  <thead>\n",
       "    <tr style=\"text-align: right;\">\n",
       "      <th></th>\n",
       "      <th>supplier name</th>\n",
       "      <th>supplier categories</th>\n",
       "      <th>consumer name</th>\n",
       "      <th>consumer reference product</th>\n",
       "      <th>consumer location</th>\n",
       "      <th>amount</th>\n",
       "      <th>CF</th>\n",
       "      <th>impact</th>\n",
       "    </tr>\n",
       "  </thead>\n",
       "  <tbody>\n",
       "    <tr>\n",
       "      <th>0</th>\n",
       "      <td>Water</td>\n",
       "      <td>(water, surface water)</td>\n",
       "      <td>petroleum and gas production, onshore</td>\n",
       "      <td>natural gas, high pressure</td>\n",
       "      <td>AE</td>\n",
       "      <td>2.702422e-12</td>\n",
       "      <td>-15.200247</td>\n",
       "      <td>-4.107748e-11</td>\n",
       "    </tr>\n",
       "    <tr>\n",
       "      <th>1</th>\n",
       "      <td>Water</td>\n",
       "      <td>(water, surface water)</td>\n",
       "      <td>petroleum and gas production, onshore</td>\n",
       "      <td>petroleum</td>\n",
       "      <td>AE</td>\n",
       "      <td>3.038845e-11</td>\n",
       "      <td>-15.200247</td>\n",
       "      <td>-4.619119e-10</td>\n",
       "    </tr>\n",
       "    <tr>\n",
       "      <th>2</th>\n",
       "      <td>Water, unspecified natural origin</td>\n",
       "      <td>(natural resource, in water)</td>\n",
       "      <td>petroleum and gas production, onshore</td>\n",
       "      <td>natural gas, high pressure</td>\n",
       "      <td>AE</td>\n",
       "      <td>2.702422e-12</td>\n",
       "      <td>15.200247</td>\n",
       "      <td>4.107748e-11</td>\n",
       "    </tr>\n",
       "    <tr>\n",
       "      <th>3</th>\n",
       "      <td>Water, unspecified natural origin</td>\n",
       "      <td>(natural resource, in water)</td>\n",
       "      <td>petroleum and gas production, onshore</td>\n",
       "      <td>petroleum</td>\n",
       "      <td>AE</td>\n",
       "      <td>3.038845e-11</td>\n",
       "      <td>15.200247</td>\n",
       "      <td>4.619119e-10</td>\n",
       "    </tr>\n",
       "    <tr>\n",
       "      <th>4</th>\n",
       "      <td>Water</td>\n",
       "      <td>(water,)</td>\n",
       "      <td>electricity production, natural gas, combined ...</td>\n",
       "      <td>electricity, high voltage</td>\n",
       "      <td>AR</td>\n",
       "      <td>2.668322e-08</td>\n",
       "      <td>-30.141482</td>\n",
       "      <td>-8.042718e-07</td>\n",
       "    </tr>\n",
       "    <tr>\n",
       "      <th>...</th>\n",
       "      <td>...</td>\n",
       "      <td>...</td>\n",
       "      <td>...</td>\n",
       "      <td>...</td>\n",
       "      <td>...</td>\n",
       "      <td>...</td>\n",
       "      <td>...</td>\n",
       "      <td>...</td>\n",
       "    </tr>\n",
       "    <tr>\n",
       "      <th>6407</th>\n",
       "      <td>Water</td>\n",
       "      <td>(water, ground-)</td>\n",
       "      <td>treatment of sewage sludge, 97% water, WWT-SLF...</td>\n",
       "      <td>sewage sludge, 97% water, WWT-SLF, refinery sl...</td>\n",
       "      <td>RoW</td>\n",
       "      <td>5.808674e-14</td>\n",
       "      <td>-25.780975</td>\n",
       "      <td>-1.497533e-12</td>\n",
       "    </tr>\n",
       "    <tr>\n",
       "      <th>6408</th>\n",
       "      <td>Water</td>\n",
       "      <td>(water,)</td>\n",
       "      <td>benzaldehyde production</td>\n",
       "      <td>benzaldehyde</td>\n",
       "      <td>RoW</td>\n",
       "      <td>1.247181e-12</td>\n",
       "      <td>-25.750902</td>\n",
       "      <td>-3.211603e-11</td>\n",
       "    </tr>\n",
       "    <tr>\n",
       "      <th>6409</th>\n",
       "      <td>Water</td>\n",
       "      <td>(water,)</td>\n",
       "      <td>energy and auxilliary inputs, metal working fa...</td>\n",
       "      <td>energy and auxilliary inputs, metal working fa...</td>\n",
       "      <td>RoW</td>\n",
       "      <td>1.428857e-13</td>\n",
       "      <td>-25.750902</td>\n",
       "      <td>-3.679436e-12</td>\n",
       "    </tr>\n",
       "    <tr>\n",
       "      <th>6410</th>\n",
       "      <td>Water, cooling, unspecified natural origin</td>\n",
       "      <td>(natural resource, in water)</td>\n",
       "      <td>methylene diphenyl diisocyanate production</td>\n",
       "      <td>hydrochloric acid, without water, in 30% solut...</td>\n",
       "      <td>RoW</td>\n",
       "      <td>1.346589e-09</td>\n",
       "      <td>25.750902</td>\n",
       "      <td>3.467589e-08</td>\n",
       "    </tr>\n",
       "    <tr>\n",
       "      <th>6411</th>\n",
       "      <td>Water, cooling, unspecified natural origin</td>\n",
       "      <td>(natural resource, in water)</td>\n",
       "      <td>urea formaldehyde resin production</td>\n",
       "      <td>urea formaldehyde resin</td>\n",
       "      <td>RoW</td>\n",
       "      <td>1.728651e-11</td>\n",
       "      <td>25.750902</td>\n",
       "      <td>4.451433e-10</td>\n",
       "    </tr>\n",
       "  </tbody>\n",
       "</table>\n",
       "<p>6412 rows × 8 columns</p>\n",
       "</div>"
      ],
      "text/plain": [
       "                                   supplier name  \\\n",
       "0                                          Water   \n",
       "1                                          Water   \n",
       "2              Water, unspecified natural origin   \n",
       "3              Water, unspecified natural origin   \n",
       "4                                          Water   \n",
       "...                                          ...   \n",
       "6407                                       Water   \n",
       "6408                                       Water   \n",
       "6409                                       Water   \n",
       "6410  Water, cooling, unspecified natural origin   \n",
       "6411  Water, cooling, unspecified natural origin   \n",
       "\n",
       "               supplier categories  \\\n",
       "0           (water, surface water)   \n",
       "1           (water, surface water)   \n",
       "2     (natural resource, in water)   \n",
       "3     (natural resource, in water)   \n",
       "4                         (water,)   \n",
       "...                            ...   \n",
       "6407              (water, ground-)   \n",
       "6408                      (water,)   \n",
       "6409                      (water,)   \n",
       "6410  (natural resource, in water)   \n",
       "6411  (natural resource, in water)   \n",
       "\n",
       "                                          consumer name  \\\n",
       "0                 petroleum and gas production, onshore   \n",
       "1                 petroleum and gas production, onshore   \n",
       "2                 petroleum and gas production, onshore   \n",
       "3                 petroleum and gas production, onshore   \n",
       "4     electricity production, natural gas, combined ...   \n",
       "...                                                 ...   \n",
       "6407  treatment of sewage sludge, 97% water, WWT-SLF...   \n",
       "6408                            benzaldehyde production   \n",
       "6409  energy and auxilliary inputs, metal working fa...   \n",
       "6410         methylene diphenyl diisocyanate production   \n",
       "6411                 urea formaldehyde resin production   \n",
       "\n",
       "                             consumer reference product consumer location  \\\n",
       "0                            natural gas, high pressure                AE   \n",
       "1                                             petroleum                AE   \n",
       "2                            natural gas, high pressure                AE   \n",
       "3                                             petroleum                AE   \n",
       "4                             electricity, high voltage                AR   \n",
       "...                                                 ...               ...   \n",
       "6407  sewage sludge, 97% water, WWT-SLF, refinery sl...               RoW   \n",
       "6408                                       benzaldehyde               RoW   \n",
       "6409  energy and auxilliary inputs, metal working fa...               RoW   \n",
       "6410  hydrochloric acid, without water, in 30% solut...               RoW   \n",
       "6411                            urea formaldehyde resin               RoW   \n",
       "\n",
       "            amount         CF        impact  \n",
       "0     2.702422e-12 -15.200247 -4.107748e-11  \n",
       "1     3.038845e-11 -15.200247 -4.619119e-10  \n",
       "2     2.702422e-12  15.200247  4.107748e-11  \n",
       "3     3.038845e-11  15.200247  4.619119e-10  \n",
       "4     2.668322e-08 -30.141482 -8.042718e-07  \n",
       "...            ...        ...           ...  \n",
       "6407  5.808674e-14 -25.780975 -1.497533e-12  \n",
       "6408  1.247181e-12 -25.750902 -3.211603e-11  \n",
       "6409  1.428857e-13 -25.750902 -3.679436e-12  \n",
       "6410  1.346589e-09  25.750902  3.467589e-08  \n",
       "6411  1.728651e-11  25.750902  4.451433e-10  \n",
       "\n",
       "[6412 rows x 8 columns]"
      ]
     },
     "execution_count": 26,
     "metadata": {},
     "output_type": "execute_result"
    }
   ],
   "source": [
    "# Print a dataframe with the characterization factors used\n",
    "LCA.generate_cf_table()"
   ]
  },
  {
   "cell_type": "code",
   "execution_count": null,
   "id": "2b0dc991-2e47-485b-ada6-f6e8c461f2e2",
   "metadata": {},
   "outputs": [],
   "source": []
  }
 ],
 "metadata": {
  "kernelspec": {
   "display_name": "Python 3 (ipykernel)",
   "language": "python",
   "name": "python3"
  },
  "language_info": {
   "codemirror_mode": {
    "name": "ipython",
    "version": 3
   },
   "file_extension": ".py",
   "mimetype": "text/x-python",
   "name": "python",
   "nbconvert_exporter": "python",
   "pygments_lexer": "ipython3",
   "version": "3.11.11"
  }
 },
 "nbformat": 4,
 "nbformat_minor": 5
}
