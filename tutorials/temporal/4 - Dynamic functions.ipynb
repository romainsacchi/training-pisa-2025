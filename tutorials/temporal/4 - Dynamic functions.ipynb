{
 "cells": [
  {
   "cell_type": "markdown",
   "id": "39d0bffb-628a-4c8e-b74e-b99170142a9a",
   "metadata": {},
   "source": [
    "# Dynamic distributions\n",
    "\n",
    "A dynamic distribution changes the total amount of the edge depending on the time the edge is occurring.\n",
    "\n",
    "**Note**: This behaviour works, but could produce unexpected results, as our initial graph traversal results become unreliable. It is strongly recommended that the data only get smaller (i.e. sum to less than one) - otherwise, the graph traversal will have cutoff some graph paths which could have been significant in the future or past.\n",
    "\n",
    "The create a dynamic distribution, we need to do the following:\n",
    "\n",
    "* Create a new temporal distribution class which subclasses `bw_temporalis.TDAware`. The class should do the following:\n",
    "    * Define `__init__`\n",
    "    * Define `to_json` and `from_json`\n",
    "    * Define `__mul__`\n",
    "    * Define `__add__` if applicable, or prevent it\n",
    "    * Set `_mul_comes_first = True`\n",
    "* Register this class in `bw_temporalis.loader_registry`"
   ]
  },
  {
   "cell_type": "code",
   "execution_count": null,
   "id": "e539099e-32ce-43c5-9a16-4f3a54c09176",
   "metadata": {},
   "outputs": [],
   "source": [
    "import bw_temporalis as bwt\n",
    "import bw2data as bd\n",
    "import bw2calc as bc"
   ]
  },
  {
   "cell_type": "code",
   "execution_count": null,
   "id": "6d4e01bc-b50b-496f-98db-4f3584ed2e9a",
   "metadata": {},
   "outputs": [],
   "source": [
    "from collections.abc import Mapping\n",
    "from numbers import Number\n",
    "from typing import Any, Union\n",
    "import json\n",
    "import numpy as np\n",
    "\n",
    "\n",
    "class LinearDecreaseOverTime(bwt.TDAware):\n",
    "    # Make sure that we control multiplication\n",
    "    _mul_comes_first = True\n",
    "\n",
    "    def __init__(self, start_dt: str, start_value: Number, end_dt: str, end_value: Number, **kwargs: Any):\n",
    "        self._start_str = start_dt\n",
    "        self._end_str = end_dt\n",
    "        \n",
    "        self.start = np.array(start_dt, dtype=\"datetime64[s]\").astype(int)\n",
    "        self.end = np.array(end_dt, dtype=\"datetime64[s]\").astype(int)\n",
    "        if not self.end > self.start:\n",
    "            raise ValueError(\"`start` must come before `end`\")\n",
    "\n",
    "        self.a, self.b = float(start_value), float(end_value)\n",
    "\n",
    "    def __mul__(\n",
    "        self, other: Union[bwt.TemporalDistribution, Number]\n",
    "    ) -> Union[bwt.TemporalDistribution, \"LinearDecreaseOverTime\"]:\n",
    "        if isinstance(other, bwt.TDAware):\n",
    "            raise ValueError(\"Can't multiply two dynamic functions\")\n",
    "        elif isinstance(other, Number):\n",
    "            return LinearDecreaseOverTime(\n",
    "                start_dt=self._start_str,\n",
    "                start_value=self.a * other,\n",
    "                end_dt=self._end_str,\n",
    "                end_value=self.b * other\n",
    "            )\n",
    "        elif isinstance(other, bwt.TemporalDistribution):\n",
    "            if not other.base_time_type == bwt.temporal_distribution.datetime_type:\n",
    "                raise ValueError(\"Can't multiply by relative distribution\")\n",
    "            new_data = np.array([\n",
    "                self.value_at_time(value=what, dt=when) \n",
    "                for what, when in zip(other.amount, other.date.astype(int))\n",
    "            ])\n",
    "            return bwt.TemporalDistribution(\n",
    "                date=other.date,\n",
    "                amount=new_data\n",
    "            )\n",
    "        else:\n",
    "            raise ValueError(\n",
    "                \"Can't multiply `LinearDecreaseOverTime` and {}\".format(type(other))\n",
    "            )\n",
    "    \n",
    "    def value_at_time(self, value: Number, dt: np.timedelta64) -> float:\n",
    "        if dt <= self.start:\n",
    "            return self.a\n",
    "        elif dt >= self.end:\n",
    "            return self.b\n",
    "        else:\n",
    "            fraction = (self.end - dt) / (self.end - self.start)\n",
    "            return min(self.a, self.b) + abs(self.a - self.b) * fraction\n",
    "\n",
    "    def to_json(self) -> str:\n",
    "        return json.dumps(\n",
    "            {\n",
    "                \"__loader__\": \"LinearDecreaseOverTime\",\n",
    "                \"start_dt\": self._start_str,\n",
    "                \"end_dt\": self._end_str,\n",
    "                \"start_value\": self.a,\n",
    "                \"end_value\": self.b\n",
    "            }\n",
    "        )\n",
    "\n",
    "    @classmethod\n",
    "    def from_json(cls, json_obj):\n",
    "        if isinstance(json_obj, Mapping):\n",
    "            data = json_obj\n",
    "        elif isinstance(json_obj, str):\n",
    "            data = json.loads(json_obj)\n",
    "        else:\n",
    "            raise ValueError(f\"Can't understand `from_json` input object {json_obj}\")\n",
    "        return cls(**data)\n",
    "\n",
    "        \n",
    "bwt.loader_registry[\"LinearDecreaseOverTime\"] = LinearDecreaseOverTime.from_json"
   ]
  },
  {
   "cell_type": "markdown",
   "id": "0cdda5d1-6dfd-4621-b9bd-21b49c2649cc",
   "metadata": {},
   "source": [
    "## A basic database"
   ]
  },
  {
   "cell_type": "code",
   "execution_count": null,
   "id": "fc1ec0c6-1754-4a0a-a496-d2754bbf833a",
   "metadata": {},
   "outputs": [],
   "source": [
    "bd.projects.set_current(\"dynamic distribution example\")"
   ]
  },
  {
   "cell_type": "code",
   "execution_count": null,
   "id": "e047e15e-c000-4c2a-9102-4c061b85732b",
   "metadata": {},
   "outputs": [],
   "source": [
    "bd.Database('example').write({\n",
    "    ('example', \"CO2\"): {\n",
    "        \"type\": \"emission\",\n",
    "        \"name\": \"carbon dioxide\",\n",
    "        \"temporalis code\": \"co2\",\n",
    "    },\n",
    "    ('example', 'a'): {\n",
    "        'name': 'First one',\n",
    "        'exchanges': [\n",
    "            {\n",
    "                'amount': 50,\n",
    "                'input': ('example', 'b'),\n",
    "                'temporal_distribution': bwt.easy_timedelta_distribution(\n",
    "                    start=0,\n",
    "                    end=10,\n",
    "                    resolution=\"Y\",\n",
    "                    steps=11,\n",
    "                ),\n",
    "                'type': 'technosphere'\n",
    "            },\n",
    "        ],\n",
    "    },\n",
    "    ('example', 'b'): {\n",
    "        'name': 'Second one',\n",
    "        'exchanges': [\n",
    "            {\n",
    "                'amount': 1,\n",
    "                'input': ('example', 'CO2'),\n",
    "                'type': 'biosphere',\n",
    "                'temporal_distribution': LinearDecreaseOverTime(\n",
    "                    start_dt=\"2024\",\n",
    "                    end_dt=\"2028\",\n",
    "                    start_value=1, \n",
    "                    end_value=0.2\n",
    "                )   \n",
    "            },\n",
    "        ],\n",
    "        'type': 'process'\n",
    "    },\n",
    "})"
   ]
  },
  {
   "cell_type": "code",
   "execution_count": null,
   "id": "9be719f8-32f1-4ad9-89aa-42f060966bfe",
   "metadata": {},
   "outputs": [],
   "source": [
    "bd.Method((\"GWP\", \"example\")).write([\n",
    "    (('example', \"CO2\"), 1),\n",
    "])"
   ]
  },
  {
   "cell_type": "code",
   "execution_count": null,
   "id": "56948acc-58fb-4623-a062-8ea27e8177c6",
   "metadata": {},
   "outputs": [],
   "source": [
    "lca = bc.LCA({('example', 'a'): 1}, (\"GWP\", \"example\"))\n",
    "lca.lci()\n",
    "lca.lcia()\n",
    "lca.score"
   ]
  },
  {
   "cell_type": "code",
   "execution_count": null,
   "id": "b18b1026-383e-456f-884d-22e95dc9aa21",
   "metadata": {},
   "outputs": [],
   "source": [
    "tlca = bwt.TemporalisLCA(lca, cutoff=0.1)\n",
    "tl = tlca.build_timeline()\n",
    "tl.build_dataframe()"
   ]
  },
  {
   "cell_type": "code",
   "execution_count": null,
   "id": "dd92ebb4-5c6a-44b8-8cfa-666868b1b020",
   "metadata": {},
   "outputs": [],
   "source": [
    "tl.df.plot(x=\"date\", y=\"amount\", kind=\"scatter\")"
   ]
  }
 ],
 "metadata": {
  "kernelspec": {
   "display_name": "Python 3 (ipykernel)",
   "language": "python",
   "name": "python3"
  },
  "language_info": {
   "codemirror_mode": {
    "name": "ipython",
    "version": 3
   },
   "file_extension": ".py",
   "mimetype": "text/x-python",
   "name": "python",
   "nbconvert_exporter": "python",
   "pygments_lexer": "ipython3",
   "version": "3.10.13"
  }
 },
 "nbformat": 4,
 "nbformat_minor": 5
}
