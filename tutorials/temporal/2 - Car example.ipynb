{
 "cells": [
  {
   "cell_type": "markdown",
   "id": "89bd6a09-83e8-4ed7-89fc-406b6db4a694",
   "metadata": {},
   "source": [
    "# `bw_temporalis` Car Comparison Example\n",
    "\n",
    "Car inventory data was generated using the [carculator](https://carculator.psi.ch/), but these numbers can vary greatly depending on a large number of factors. This notebook is an example of the library's functionality, not a study of mobility.\n",
    "\n",
    "Import the needed libraries."
   ]
  },
  {
   "cell_type": "code",
   "execution_count": null,
   "id": "725f60f8-3ad6-4d90-890a-9872f5c4b71b",
   "metadata": {
    "tags": []
   },
   "outputs": [],
   "source": [
    "import bw2data as bd\n",
    "import bw2calc as bc\n",
    "import seaborn as sb\n",
    "from bw_temporalis import easy_timedelta_distribution, TemporalisLCA\n",
    "from bw_temporalis.lcia import characterize_co2"
   ]
  },
  {
   "cell_type": "markdown",
   "id": "7b555fdd-d12c-44e6-8d0c-69b917d201f2",
   "metadata": {},
   "source": [
    "We build on built-in Brightway functionality; in this case, we create a new project to have an isolated environment which won't affect anything else."
   ]
  },
  {
   "cell_type": "code",
   "execution_count": null,
   "id": "25afad74-5fb9-4cdc-af9b-49e544484ab4",
   "metadata": {
    "tags": []
   },
   "outputs": [],
   "source": [
    "bd.projects.set_current(\"bw_temporalis example\")"
   ]
  },
  {
   "cell_type": "markdown",
   "id": "69dfd191-a527-4ac2-86c0-3ffa1933bfc6",
   "metadata": {},
   "source": [
    "We create a simple inventory of driving three cars over an assumed number of kilometers and years. We use [the helper function `easy_timedelta_distribution`](https://github.com/brightway-lca/bw_temporalis/blob/6517a0677d0e854d41eed1155df388e56837207d/bw_temporalis/utils.py#L51) to spread out given exchanges over time, both forward and backwards."
   ]
  },
  {
   "cell_type": "code",
   "execution_count": null,
   "id": "41c5adcf-51bb-4da0-96f3-b4658afc74a1",
   "metadata": {
    "tags": []
   },
   "outputs": [],
   "source": [
    "MILAGE = 200_000  # Assume car is driven 200.000 km\n",
    "LIFETIME = 15     # 15 years\n",
    "\n",
    "bd.Database('example').write({\n",
    "    ('example', \"CO2\"): {\n",
    "        \"type\": \"emission\",\n",
    "        \"name\": \"carbon dioxide\",\n",
    "        \"unit\": \"kilogram\",\n",
    "    },\n",
    "    ('example', 'petrol-car'): {\n",
    "        'name': 'Drive a petrol car',\n",
    "        'exchanges': [\n",
    "            {\n",
    "                'amount': 1,\n",
    "                'type': 'technosphere',\n",
    "                'input': ('example', 'car-manufacture'),\n",
    "                # Not sure when car and its materials were manufactured, \n",
    "                # we therefore allocate burden over four years prior to purchase\n",
    "                'temporal_distribution': easy_timedelta_distribution(\n",
    "                    start=-36,\n",
    "                    end=-4,\n",
    "                    resolution=\"M\",  # M for months, Y for years, etc.\n",
    "                    steps=10,\n",
    "                    kind=\"triangular\",\n",
    "                    param=-24,\n",
    "                ),\n",
    "            },\n",
    "            {\n",
    "                'amount': MILAGE,\n",
    "                'type': 'technosphere',\n",
    "                'input': ('example', 'produce-petrol'),\n",
    "                'temporal_distribution': easy_timedelta_distribution(\n",
    "                    start=0,\n",
    "                    end=LIFETIME,\n",
    "                    resolution=\"Y\",\n",
    "                    steps=LIFETIME + 1,  # Includes both start and end\n",
    "                ),\n",
    "            },\n",
    "            {\n",
    "                'amount': MILAGE,\n",
    "                'type': 'technosphere',\n",
    "                'input': ('example', 'drive-petrol'),\n",
    "                'temporal_distribution': easy_timedelta_distribution(\n",
    "                    start=0,\n",
    "                    end=LIFETIME,\n",
    "                    resolution=\"Y\",\n",
    "                    steps=LIFETIME + 1,\n",
    "                ),\n",
    "            },\n",
    "        ],\n",
    "    },\n",
    "    ('example', 'car-manufacture'): {\n",
    "        'name': 'Manufacture a combustion car',\n",
    "        'exchanges': [\n",
    "            {\n",
    "                'amount': 11600,\n",
    "                'input': ('example', \"CO2\"),\n",
    "                'type': 'biosphere'\n",
    "            },\n",
    "        ]\n",
    "    },\n",
    "    ('example', 'drive-petrol'): {\n",
    "        'name': 'Drive a petrol car over one kilometer',\n",
    "        'exchanges': [\n",
    "            {\n",
    "                # Motive energy\n",
    "                'amount': 0.153,  # kg CO2 / km\n",
    "                'input': ('example', \"CO2\"),\n",
    "                'type': 'biosphere',\n",
    "                'temporal_distribution': easy_timedelta_distribution(\n",
    "                    start=0,\n",
    "                    end=11,\n",
    "                    resolution=\"M\",\n",
    "                    steps=4, \n",
    "                ),\n",
    "            },\n",
    "        ]\n",
    "    },\n",
    "    ('example', 'produce-petrol'): {\n",
    "        'name': 'Extract, refine, and transport petrol for one kilometer driving',\n",
    "        'exchanges': [\n",
    "            {\n",
    "                'amount': 0.028,  # kg CO2 / km\n",
    "                'input': ('example', \"CO2\"),\n",
    "                'type': 'biosphere',\n",
    "                'temporal_distribution': easy_timedelta_distribution(\n",
    "                    start=-2,\n",
    "                    end=9,\n",
    "                    resolution=\"M\",\n",
    "                    steps=4, \n",
    "                ),\n",
    "            },\n",
    "        ]\n",
    "    },\n",
    "    ('example', 'bioethanol-car'): {\n",
    "        'name': 'Drive a bioethanol car',\n",
    "        'exchanges': [\n",
    "            {\n",
    "                # Same as petrol car\n",
    "                'amount': 1,\n",
    "                'type': 'technosphere',\n",
    "                'input': ('example', 'car-manufacture'),\n",
    "                'temporal_distribution': easy_timedelta_distribution(\n",
    "                    start=-36,\n",
    "                    end=-4,\n",
    "                    resolution=\"M\",\n",
    "                    steps=10,\n",
    "                    kind=\"triangular\",\n",
    "                    param=-24,\n",
    "                ),\n",
    "            },\n",
    "            {\n",
    "                'amount': MILAGE,\n",
    "                'type': 'technosphere',\n",
    "                'input': ('example', 'produce-bioethanol'),\n",
    "                'temporal_distribution': easy_timedelta_distribution(\n",
    "                    start=0,\n",
    "                    end=LIFETIME,\n",
    "                    resolution=\"Y\",\n",
    "                    steps=LIFETIME + 1,  # Includes both start and end\n",
    "                ),\n",
    "            },\n",
    "            {\n",
    "                'amount': MILAGE,\n",
    "                'type': 'technosphere',\n",
    "                'input': ('example', 'drive-bioethanol'),\n",
    "                'temporal_distribution': easy_timedelta_distribution(\n",
    "                    start=0,\n",
    "                    end=LIFETIME,\n",
    "                    resolution=\"Y\",\n",
    "                    steps=LIFETIME + 1,\n",
    "                ),\n",
    "            },\n",
    "        ],\n",
    "    },\n",
    "    ('example', 'drive-bioethanol'): {\n",
    "        'name': 'Drive a bioethanol car over one kilometer',\n",
    "        'exchanges': [\n",
    "            {\n",
    "                'amount': 0.152,  # total fossil and biogenic kg CO2 / km \n",
    "                'input': ('example', \"CO2\"),\n",
    "                'type': 'biosphere',\n",
    "                'temporal_distribution': easy_timedelta_distribution(\n",
    "                    start=0,\n",
    "                    end=11,\n",
    "                    resolution=\"M\",\n",
    "                    steps=4, \n",
    "                ),\n",
    "            },\n",
    "        ]\n",
    "    },\n",
    "    ('example', 'produce-bioethanol'): {\n",
    "        'name': 'Grow, refine, and transport bioethanol for one kilometer driving',\n",
    "        'exchanges': [\n",
    "            {\n",
    "                # kg CO2 / km; 0.042 is refining of biomass, \n",
    "                # -0.15 is carbon capture by plants\n",
    "                'amount': 0.042 - 0.15,  \n",
    "                'input': ('example', \"CO2\"),\n",
    "                'type': 'biosphere',\n",
    "                'temporal_distribution': easy_timedelta_distribution(\n",
    "                    start=-12,\n",
    "                    end=-3,\n",
    "                    resolution=\"M\",\n",
    "                    steps=5, \n",
    "                ),\n",
    "            },\n",
    "        ]\n",
    "    },\n",
    "    ('example', 'electric-car'): {\n",
    "        'name': 'Drive an electric car',\n",
    "        'exchanges': [\n",
    "            {\n",
    "                'amount': 1,\n",
    "                'type': 'technosphere',\n",
    "                'input': ('example', 'electric-car-manufacture'),\n",
    "                'temporal_distribution': easy_timedelta_distribution(\n",
    "                    start=-24,\n",
    "                    end=-1,\n",
    "                    resolution=\"M\",\n",
    "                    steps=12,\n",
    "                    kind=\"triangular\",\n",
    "                    param=-12,\n",
    "                ),\n",
    "            },\n",
    "            {\n",
    "                'amount': MILAGE,\n",
    "                'type': 'technosphere',\n",
    "                'input': ('example', 'produce-electricity'),\n",
    "                'temporal_distribution': easy_timedelta_distribution(\n",
    "                    start=0,\n",
    "                    end=LIFETIME * 12,\n",
    "                    resolution=\"M\",\n",
    "                    steps=LIFETIME * 48 + 1,  # Includes both start and end\n",
    "                ),\n",
    "            },\n",
    "        ],\n",
    "    },\n",
    "    ('example', 'electric-car-manufacture'): {\n",
    "        'name': 'Manufacture an electric car',\n",
    "        'exchanges': [\n",
    "            {\n",
    "                'amount': 18000,  # CO2 to produce electric car including battery\n",
    "                'input': ('example', \"CO2\"),\n",
    "                'type': 'biosphere'\n",
    "            },\n",
    "        ]\n",
    "    },\n",
    "    ('example', 'produce-electricity'): {\n",
    "        'name': 'Generate electricity needed for one kilometer',\n",
    "        'exchanges': [\n",
    "            {\n",
    "                'amount': 0.08,\n",
    "                'input': ('example', \"CO2\"),\n",
    "                'type': 'biosphere',\n",
    "            },\n",
    "        ]\n",
    "    },\n",
    "})"
   ]
  },
  {
   "cell_type": "markdown",
   "id": "1a716b29-ce34-484e-a380-6707adbb5fa9",
   "metadata": {},
   "source": [
    "Create a very simple impact category"
   ]
  },
  {
   "cell_type": "code",
   "execution_count": null,
   "id": "bd88d88f-02c7-48ef-bde3-8972391bb73a",
   "metadata": {
    "tags": []
   },
   "outputs": [],
   "source": [
    "bd.Method((\"GWP\", \"example\")).write([\n",
    "    (('example', \"CO2\"), 1),\n",
    "])"
   ]
  },
  {
   "cell_type": "markdown",
   "id": "796f60b5-7832-4099-a3b4-066eba5b3c07",
   "metadata": {},
   "source": [
    "To do a temporal LCA we first need to build a time-generic `LCA` instance"
   ]
  },
  {
   "cell_type": "code",
   "execution_count": null,
   "id": "6689cdc8-4df2-4dc5-b1fe-44c464cccddc",
   "metadata": {
    "tags": []
   },
   "outputs": [],
   "source": [
    "lca = bc.LCA({('example', 'petrol-car'): 1}, (\"GWP\", \"example\"))\n",
    "lca.lci()\n",
    "lca.lcia()"
   ]
  },
  {
   "cell_type": "code",
   "execution_count": null,
   "id": "19c60450-13c8-4811-b308-84006f6d2a0a",
   "metadata": {
    "tags": []
   },
   "outputs": [],
   "source": [
    "lca.score"
   ]
  },
  {
   "cell_type": "markdown",
   "id": "dd51fbb0-5181-4bc1-81c5-656ef5889d63",
   "metadata": {},
   "source": [
    "This is the [temporal LCA class: `TemporalisLCA`](https://github.com/brightway-lca/bw_temporalis/blob/main/bw_temporalis/lca.py#L21). It does graph traversal, convolving temporal distributions as it encounters them. The real magic comes from [the `TemporalDistribution` class](https://github.com/brightway-lca/bw_temporalis/blob/6517a0677d0e854d41eed1155df388e56837207d/bw_temporalis/temporal_distribution.py#L17) which automatically does convolution when you multiple two `TemporalDistribution` instances."
   ]
  },
  {
   "cell_type": "code",
   "execution_count": null,
   "id": "43bb0074-b25b-4a47-84cc-825196685349",
   "metadata": {
    "tags": []
   },
   "outputs": [],
   "source": [
    "tlca = TemporalisLCA(lca)"
   ]
  },
  {
   "cell_type": "markdown",
   "id": "d2e09c9f-64f1-4043-b29b-ed895920eec7",
   "metadata": {},
   "source": [
    "After calculationg the graph traversal, we can aggregate all the various exchange-specific distributions into a [single Timeline](https://github.com/brightway-lca/bw_temporalis/blob/6517a0677d0e854d41eed1155df388e56837207d/bw_temporalis/timeline.py#L37), sorted by date of occurrence, which gives us a complete picture of all elementary flows over the complete life cycle of the supply chain."
   ]
  },
  {
   "cell_type": "code",
   "execution_count": null,
   "id": "71a4206c-130e-4e91-b189-6b3c9cd11eeb",
   "metadata": {
    "tags": []
   },
   "outputs": [],
   "source": [
    "tl = tlca.build_timeline()\n",
    "df = tl.build_dataframe()"
   ]
  },
  {
   "cell_type": "code",
   "execution_count": null,
   "id": "c5c5841c-6e6f-411b-96a7-f5376cb16355",
   "metadata": {
    "tags": []
   },
   "outputs": [],
   "source": [
    "axes = sb.scatterplot(\n",
    "    x=\"date\", \n",
    "    y=\"amount\",\n",
    "    hue=\"code\",\n",
    "    data=df.merge(\n",
    "        bd.Database('example').nodes_to_dataframe().rename(columns={'id': 'activity'}), \n",
    "        on='activity'\n",
    "    )\n",
    ")\n",
    "axes.set_ylabel(\"$CO_{2}$ emissions (kg)\")\n",
    "axes.set_xlabel(\"Time (years)\")"
   ]
  },
  {
   "cell_type": "markdown",
   "id": "eb23963a-ac05-41ec-9181-4becbc35793d",
   "metadata": {},
   "source": [
    "The number of points in the above graph are a function of how we chose to discretize our distribution. We could have chosen more or fewer points, though one soon reaches a point of diminishing returns when adding points, especially for flat or smooth distributions.\n",
    "\n",
    "We can also look at cumulative emissions:"
   ]
  },
  {
   "cell_type": "code",
   "execution_count": null,
   "id": "5b22c17f-59e3-41ef-aaa8-f878ec868b27",
   "metadata": {
    "tags": []
   },
   "outputs": [],
   "source": [
    "df[\"amount_sum\"] = df['amount'].cumsum()\n",
    "axes = df.plot(x=\"date\", y=\"amount_sum\")\n",
    "axes.set_ylabel(\"Cumulative $CO_{2}$ emissions (kg)\")\n",
    "axes.set_xlabel(\"Time (years)\")"
   ]
  },
  {
   "cell_type": "markdown",
   "id": "5d482f8d-ca9b-45e4-888a-3bbee277a449",
   "metadata": {},
   "source": [
    "We hvae so far only calcualted our *inventory* - we can also do temporally dependent impact assessment. For example, we can translate air emissions into radiative forcing. For the built-in impact assessment method, see:\n",
    "\n",
    "* The relevant scientific publication on CRF: https://doi.org/10.5194/acp-13-2793-2013\n",
    "* The relevant scientific publication on the numerical calculation of CRF: http://pubs.acs.org/doi/abs/10.1021/acs.est.5b01118"
   ]
  },
  {
   "cell_type": "code",
   "execution_count": null,
   "id": "873acd78-093c-472f-bf67-b085779243e0",
   "metadata": {
    "tags": []
   },
   "outputs": [],
   "source": [
    "characterized_df = tl.characterize_dataframe(\n",
    "    characterization_function=characterize_co2, \n",
    "    flow={bd.get_node(name=\"carbon dioxide\").id},\n",
    "    cumsum=True\n",
    ")\n",
    "characterized_df = characterized_df[characterized_df['amount'] > 0]"
   ]
  },
  {
   "cell_type": "markdown",
   "id": "325da3a9-bd55-4f7a-a3c1-78a8883b3ebc",
   "metadata": {},
   "source": [
    "We can see the forcing effect of each individual emission drops off with time:"
   ]
  },
  {
   "cell_type": "code",
   "execution_count": null,
   "id": "eb1a569a-5ab9-4653-b806-b626b0fd97d7",
   "metadata": {
    "tags": []
   },
   "outputs": [],
   "source": [
    "axes = sb.scatterplot(\n",
    "    x=\"date\", \n",
    "    y=\"amount\",\n",
    "    hue=\"code\",\n",
    "    data=characterized_df.merge(\n",
    "        bd.Database('example').nodes_to_dataframe().rename(columns={'id': 'activity'}), \n",
    "        on='activity'\n",
    "    )\n",
    ")\n",
    "axes.set_ylabel(\"Radiative forcing $\\\\frac{Watt}{m^{2}}$\")\n",
    "axes.set_xlabel(\"Time (years)\")"
   ]
  },
  {
   "cell_type": "markdown",
   "id": "aec7f7ee-9be5-4de8-9860-8b7740e4dade",
   "metadata": {},
   "source": [
    "Let's compare the three fuel options.\n",
    "\n",
    "First, we can calculate the inventories with some helper functions:"
   ]
  },
  {
   "cell_type": "code",
   "execution_count": null,
   "id": "89091129-4dd6-46e2-a942-99fc7cc44217",
   "metadata": {
    "tags": []
   },
   "outputs": [],
   "source": [
    "def df_for_func_unit(func_unit):\n",
    "    lca = bc.LCA(func_unit, (\"GWP\", \"example\"))\n",
    "    lca.lci()\n",
    "    lca.lcia()\n",
    "    tlca = TemporalisLCA(lca)\n",
    "    tl = tlca.build_timeline()\n",
    "    df = tl.build_dataframe()\n",
    "    df[\"amount_sum\"] = df['amount'].cumsum()\n",
    "    return df"
   ]
  },
  {
   "cell_type": "code",
   "execution_count": null,
   "id": "4f2a43aa-4853-448d-b5a7-c28f2a1af560",
   "metadata": {
    "tags": []
   },
   "outputs": [],
   "source": [
    "df['Petrol car'] = df['amount_sum']\n",
    "axes = df.plot(x=\"date\", y=\"Petrol car\")\n",
    "\n",
    "df2 = df_for_func_unit({('example', 'electric-car'): 1})\n",
    "df2['Electric car'] = df2['amount_sum']\n",
    "df2.plot(x=\"date\", y=\"Electric car\", ax=axes)\n",
    "\n",
    "df3 = df_for_func_unit({('example', 'bioethanol-car'): 1})\n",
    "df3['Biofuel car'] = df3['amount_sum']\n",
    "df3.plot(x=\"date\", y='Biofuel car', ax=axes)\n",
    "\n",
    "axes.set_ylabel(\"$CO_{2}$ emissions (kg)\")\n",
    "axes.set_xlabel(\"Time (years)\")\n",
    "axes.set_title(\"Example life-cycle $CO_{2}$ emissions for a 2023 car\")"
   ]
  },
  {
   "cell_type": "markdown",
   "id": "e966f9cf-c579-4159-9478-4681852d1278",
   "metadata": {},
   "source": [
    "Then we can calculate the cumulative radiative forcing for all three options:"
   ]
  },
  {
   "cell_type": "code",
   "execution_count": null,
   "id": "d19cc4cd-c638-4aa1-8b2d-08b9966c0a8f",
   "metadata": {
    "tags": []
   },
   "outputs": [],
   "source": [
    "def characterized_df_for_func_unit(func_unit):\n",
    "    lca = bc.LCA(func_unit, (\"GWP\", \"example\"))\n",
    "    lca.lci()\n",
    "    lca.lcia()\n",
    "    tlca = TemporalisLCA(lca)\n",
    "    tl = tlca.build_timeline()\n",
    "    df = tl.build_dataframe()\n",
    "    characterized_df = tl.characterize_dataframe(\n",
    "        characterization_function=characterize_co2, \n",
    "        flow={bd.get_node(name=\"carbon dioxide\").id},\n",
    "        cumsum=False\n",
    "    )\n",
    "    characterized_df = characterized_df[characterized_df['amount'] > 0]\n",
    "    characterized_df[\"amount_sum\"] = characterized_df[\"amount\"].cumsum()\n",
    "    return characterized_df"
   ]
  },
  {
   "cell_type": "code",
   "execution_count": null,
   "id": "dc6db7eb-6e36-44a5-94ab-15e98ef62934",
   "metadata": {
    "tags": []
   },
   "outputs": [],
   "source": [
    "axes = characterized_df.plot(x=\"date\", y=\"amount_sum\")\n",
    "characterized_df_for_func_unit({('example', 'electric-car'): 1}).plot(x=\"date\", y=\"amount_sum\", ax=axes)\n",
    "characterized_df_for_func_unit({('example', 'bioethanol-car'): 1}).plot(x=\"date\", y=\"amount_sum\", ax=axes)\n",
    "\n",
    "axes.set_ylabel(\"Radiative forcing $\\\\frac{Watt}{m^{2}}$\")\n",
    "axes.set_xlabel(\"Time (years)\")"
   ]
  }
 ],
 "metadata": {
  "kernelspec": {
   "display_name": "Python 3 (ipykernel)",
   "language": "python",
   "name": "python3"
  },
  "language_info": {
   "codemirror_mode": {
    "name": "ipython",
    "version": 3
   },
   "file_extension": ".py",
   "mimetype": "text/x-python",
   "name": "python",
   "nbconvert_exporter": "python",
   "pygments_lexer": "ipython3",
   "version": "3.10.13"
  }
 },
 "nbformat": 4,
 "nbformat_minor": 5
}
