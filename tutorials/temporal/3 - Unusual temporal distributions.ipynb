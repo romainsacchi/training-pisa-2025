{
 "cells": [
  {
   "cell_type": "markdown",
   "id": "19bffdcb-590e-47ab-a27d-8ffddbacbc10",
   "metadata": {},
   "source": [
    "# `bw_temporalis` unusual temporal distributions\n",
    "\n",
    "Sometimes we want to have more control on *when* things are occurring. Current `bw_temporalis` allows for the following:\n",
    "\n",
    "* `FixedTimeOfYearTD`\n",
    "* `FixedTD`\n",
    "\n",
    "## `FixedTimeOfYearTD`\n",
    "\n",
    "This allows you to say when in the year it happens, but not the year specifically. To use this you need to give a positive relative temporal distribution less than one year, e.g. month 3 day 1 to month 6 day 1. Then, when the graph traversal hits this node, it will figure out the correct year, and make sure that the complete period you have specified takes place *before* the dates in the incoming temporal distribution; otherwise, the year gets shifted backwards."
   ]
  },
  {
   "cell_type": "code",
   "execution_count": null,
   "id": "d8cd7a3f",
   "metadata": {
    "tags": []
   },
   "outputs": [],
   "source": [
    "from bw_temporalis import (\n",
    "    easy_timedelta_distribution, \n",
    "    easy_datetime_distribution, \n",
    "    FixedTD, \n",
    "    FixedTimeOfYearTD,\n",
    ")"
   ]
  },
  {
   "cell_type": "code",
   "execution_count": null,
   "id": "052f8044-3cd3-44dc-a189-b2c8e41f5a6e",
   "metadata": {},
   "outputs": [],
   "source": [
    "starting_td = easy_datetime_distribution(start=\"2020-06-01\", end=\"2022-06-01\", steps=4)\n",
    "starting_td.graph()"
   ]
  },
  {
   "cell_type": "code",
   "execution_count": null,
   "id": "313d7a35-ab2c-48bd-8c75-f63867774063",
   "metadata": {},
   "outputs": [],
   "source": [
    "input_td = easy_timedelta_distribution(start=2, end=8, resolution=\"M\", steps=4)"
   ]
  },
  {
   "cell_type": "code",
   "execution_count": null,
   "id": "a8bebfbc-f16c-4036-b18d-2c3f193f7ce7",
   "metadata": {},
   "outputs": [],
   "source": [
    "ftoy = FixedTimeOfYearTD(date=input_td.date, amount=input_td.amount)\n",
    "ftoy.graph(resolution=\"M\")"
   ]
  },
  {
   "cell_type": "code",
   "execution_count": null,
   "id": "f3c8b6c1-cd40-43f2-b2cd-e30af3f42785",
   "metadata": {},
   "outputs": [],
   "source": [
    "(starting_td * ftoy).graph()"
   ]
  },
  {
   "cell_type": "markdown",
   "id": "f5b57703-051a-415a-949d-729c3f7e02d6",
   "metadata": {},
   "source": [
    "The point here is that we don't *add* the ftoy time deltas, but use them replace the days and months in the input temporal distribution.\n",
    "\n",
    "The use case which drove the development of this class was agriculture, which has to occur at certain months of the year."
   ]
  },
  {
   "cell_type": "markdown",
   "id": "40b81dcb-e10b-4213-ad96-6397a5fda9cb",
   "metadata": {},
   "source": [
    "## `FixedTD`\n",
    "\n",
    "This is an absolute distribution which always takes place at the same time."
   ]
  },
  {
   "cell_type": "code",
   "execution_count": null,
   "id": "0b13e38f-e9f8-4852-9aef-15a08bc84ed1",
   "metadata": {},
   "outputs": [],
   "source": [
    "absolute_td = easy_datetime_distribution(start=\"1969-07-16\", end=\"1969-07-24\", steps=3)\n",
    "fixed = FixedTD(date=absolute_td.date, amount=absolute_td.amount)"
   ]
  },
  {
   "cell_type": "code",
   "execution_count": null,
   "id": "5c61d772-ead5-4d9d-919a-500d3f579e68",
   "metadata": {},
   "outputs": [],
   "source": [
    "(fixed * easy_datetime_distribution(start=\"2020-06-01\", end=\"2022-06-01\", steps=3)).graph()"
   ]
  },
  {
   "cell_type": "code",
   "execution_count": null,
   "id": "5ca18ea2-feca-4c9e-8e7e-9788f1c1a92e",
   "metadata": {},
   "outputs": [],
   "source": [
    "(fixed * easy_datetime_distribution(start=\"2120-06-01\", end=\"2122-06-01\", steps=3)).graph()"
   ]
  },
  {
   "cell_type": "code",
   "execution_count": null,
   "id": "363c4b3c-efba-4776-936b-c680dff56fde",
   "metadata": {},
   "outputs": [],
   "source": []
  }
 ],
 "metadata": {
  "kernelspec": {
   "display_name": "Python 3 (ipykernel)",
   "language": "python",
   "name": "python3"
  },
  "language_info": {
   "codemirror_mode": {
    "name": "ipython",
    "version": 3
   },
   "file_extension": ".py",
   "mimetype": "text/x-python",
   "name": "python",
   "nbconvert_exporter": "python",
   "pygments_lexer": "ipython3",
   "version": "3.10.13"
  }
 },
 "nbformat": 4,
 "nbformat_minor": 5
}
