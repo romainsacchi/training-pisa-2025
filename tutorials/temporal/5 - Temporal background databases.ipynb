{
 "cells": [
  {
   "cell_type": "markdown",
   "id": "9ca8cef0-e595-4671-8641-381584d5319d",
   "metadata": {},
   "source": [
    "# Temporal background databases\n",
    "\n",
    "Let's apply these concepts to a bigger database. We have ecoinvent available, we can use that:"
   ]
  },
  {
   "cell_type": "code",
   "execution_count": null,
   "id": "59cf6d4a-9974-44be-943a-4a09a7b4aade",
   "metadata": {},
   "outputs": [],
   "source": [
    "import bw2data as bd\n",
    "import bw2io as bi"
   ]
  },
  {
   "cell_type": "code",
   "execution_count": null,
   "id": "bd09773f-ebe6-4055-aa18-292a51142d00",
   "metadata": {},
   "outputs": [],
   "source": [
    "bi.restore_project_directory(\n",
    "    fp=\"/srv/data/ecoinvent-3.9-cutoff.tar.gz\", \n",
    "    project_name=\"ecoinvent=3.9-cutoff\",\n",
    "    overwrite_existing=True\n",
    ")"
   ]
  },
  {
   "cell_type": "code",
   "execution_count": null,
   "id": "517d9c9e-647f-4e25-b5e3-dc533bbfa4fb",
   "metadata": {},
   "outputs": [],
   "source": [
    "bd.projects.set_current('ecoinvent=3.9-cutoff')"
   ]
  },
  {
   "cell_type": "code",
   "execution_count": null,
   "id": "72219394-7539-4c7f-bb97-66f6ea2aebb6",
   "metadata": {},
   "outputs": [],
   "source": [
    "bd.databases"
   ]
  },
  {
   "cell_type": "code",
   "execution_count": null,
   "id": "5c9dfc2a-760e-40d3-a54c-d4c090fa8997",
   "metadata": {},
   "outputs": [],
   "source": [
    "ei = bd.Database(\"ecoinvent-3.9-cutoff\")\n",
    "len(ei)"
   ]
  },
  {
   "cell_type": "markdown",
   "id": "9b076345-8624-4a50-995f-338d11b30181",
   "metadata": {},
   "source": [
    "You can print all of them and pick the one you like the best."
   ]
  },
  {
   "cell_type": "code",
   "execution_count": null,
   "id": "56f89435-7edf-4722-b30a-6fc2f10b8d7c",
   "metadata": {},
   "outputs": [],
   "source": [
    "sorted(bd.methods)[:10]"
   ]
  },
  {
   "cell_type": "code",
   "execution_count": null,
   "id": "b73c34c6-c895-4547-a256-c90d969c83a9",
   "metadata": {},
   "outputs": [],
   "source": [
    "import bw_temporalis as bwt\n",
    "import bw2calc as bc"
   ]
  },
  {
   "cell_type": "markdown",
   "id": "5017a2f8-6d7e-48dd-9840-7e7045b639db",
   "metadata": {},
   "source": [
    "## The task\n",
    "\n",
    "- Pick a sector in ecoinvent\n",
    "- Pick an LCIA method\n",
    "- Find some datasets from that sector\n",
    "- Add some *relative* temporal distributions to some edges\n",
    "- If you are feeling ambitious, you can also add `FixedTD` and `FixedTimeOfYearTD`\n",
    "- Calculate a timeline and graph it\n",
    "\n",
    "### Some helpful methods\n",
    "\n",
    "* ei.search(\"something\")\n",
    "* bd.get_node(name=\"foo\", location=\"bar\")  # The attributes can be anything you want\n",
    "* my_node.production(), my_node.technosphere(), my_node.biosphere(), my_node.consumers()\n",
    "\n",
    "In the `TemporalisLCA` class initiator, you can change:\n",
    "\n",
    "* starting_datetime: datetime | str = \"now\",\n",
    "* cutoff: float | None = 5e-4,\n",
    "* biosphere_cutoff: float | None = 1e-6,\n",
    "* max_calc: int | None = 2e3,\n",
    "* static_activity_indices: set[int] | None = set(),\n",
    "\n",
    "See also notebook `4 - Interpretation.ipynb` in `from-the-ground-up` for more exploration functions.\n",
    "\n",
    "Here is a simple example:"
   ]
  },
  {
   "cell_type": "code",
   "execution_count": null,
   "id": "1510d42f-3734-41bf-99ab-1db85048cbbc",
   "metadata": {},
   "outputs": [],
   "source": [
    "my_activity = ei.random()"
   ]
  },
  {
   "cell_type": "code",
   "execution_count": null,
   "id": "5646e3d8-8805-4cef-ac2e-aefd0a29a3a2",
   "metadata": {},
   "outputs": [],
   "source": [
    "my_edge = next(iter(my_activity.technosphere()))\n",
    "my_edge"
   ]
  },
  {
   "cell_type": "code",
   "execution_count": null,
   "id": "c8febbe3-541c-46b1-b188-9d32b616d5d2",
   "metadata": {},
   "outputs": [],
   "source": [
    "my_edge['temporal distribution'] = bwt.easy_timedelta_distribution(\n",
    "    start=0,\n",
    "    end=10,\n",
    "    resolution=\"Y\",\n",
    "    steps=11,\n",
    ")"
   ]
  },
  {
   "cell_type": "markdown",
   "id": "5c46945f-60b9-44ab-9d87-ad817ebd0995",
   "metadata": {},
   "source": [
    "Be sure to save!"
   ]
  },
  {
   "cell_type": "code",
   "execution_count": null,
   "id": "3529cd0b-70d3-4ca1-bdb4-0bc7706a96ce",
   "metadata": {},
   "outputs": [],
   "source": [
    "my_edge.save()"
   ]
  },
  {
   "cell_type": "code",
   "execution_count": null,
   "id": "bda61611-bc97-4f6c-9be6-0f9568a88a65",
   "metadata": {},
   "outputs": [],
   "source": []
  }
 ],
 "metadata": {
  "kernelspec": {
   "display_name": "Python [conda env:autumn_school]",
   "language": "python",
   "name": "conda-env-autumn_school-py"
  },
  "language_info": {
   "codemirror_mode": {
    "name": "ipython",
    "version": 3
   },
   "file_extension": ".py",
   "mimetype": "text/x-python",
   "name": "python",
   "nbconvert_exporter": "python",
   "pygments_lexer": "ipython3",
   "version": "3.11.6"
  }
 },
 "nbformat": 4,
 "nbformat_minor": 5
}
