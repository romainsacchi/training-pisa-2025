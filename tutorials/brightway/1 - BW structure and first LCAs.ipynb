{
 "cells": [
  {
   "cell_type": "markdown",
   "metadata": {},
   "source": [
    "<div>\n",
    "    <table>\n",
    "        <tr>\n",
    "            <td>\n",
    "                <center>\n",
    "                    <h1>Brightway Introduction</h1>\n",
    "                     <a href=\"https://www.psi.ch/en/ta/people/romain-sacchi\">Romain Sacchi</a> (PSI)\n",
    "                    <br><br>\n",
    "                    Duration: 1 hour 15 minutes.\n",
    "                </center>\n",
    "            </td>\n",
    "        </tr>\n",
    "    </div>\n",
    "\n",
    "# Brightway modules: bw2io, bw2data, bw2calc\n",
    "\n",
    "*The following content is adapted from [the course materials dispensed at the 2022 Brightcon conference](https://github.com/Depart-de-Sentier/teaching-material/tree/main/beginners/Projects%2C%20databases%2C%20exchanges%2C%20activities). If you need additional notebooks, go to this repository*.\n",
    "\n",
    "\n",
    "<div class=\"alert alert-info\">\n",
    "Note: we will be using <a href=\"https://docs.brightway.dev/en/legacy/\">Brightway 2</a>, not <a href=\"https://docs.brightway.dev/en/latest/content/installation/index.html\">Brightway 2.5</a>. From the user end side, very little differs between the two. The code executed throughout this notebook works with both versions.\n",
    "</div>"
   ]
  },
  {
   "cell_type": "markdown",
   "metadata": {
    "deletable": true,
    "editable": true,
    "solution": "hidden"
   },
   "source": [
    "**Brightway2 documentation** 👉 [https://docs.brightway.dev/en/legacy/index.html](https://docs.brightway.dev/en/legacy/index.html)\n",
    "\n",
    "**Brightway25 documentation** 👉 [https://docs.brightway.dev/en/latest/index.html](https://docs.brightway.dev/en/latest/index.html)"
   ]
  },
  {
   "cell_type": "markdown",
   "metadata": {
    "deletable": true,
    "editable": true
   },
   "source": [
    "### Learning objectives  \n",
    "  - Learn about the general structure of Brightway and its most important abstractions: projects, databases, activities, and exchanges  \n",
    "  - Learn how to find objects (notably activities and exchanges), assign them to variables, and work with them using their associated methods  \n",
    "  - Learn about how simple LCA calculations are done (one product, one impact category), and specifically how the different matrices are built and used  \n",
    "  - Learn how to extract information from the matrices (inputs or results) and translate them into nice, human-readable objects  \n",
    "  - Learn different ways to carry out comparative LCAs  \n",
    "  - Learn different ways to carry out LCAs with multiple impact categories"
   ]
  },
  {
   "cell_type": "markdown",
   "metadata": {
    "deletable": true,
    "editable": true
   },
   "source": [
    "### Content  \n",
    "\n",
    "#### 1) Getting started  \n",
    "##### 1.1) Brightway\n",
    "  - Accessing Brightway libraries  \n",
    "  \n",
    "##### 1.2) Projects  \n",
    "  - Concept  \n",
    "  - Creating a new project or switching to an existing project  \n",
    "  - Contents of a project  \n",
    "  \n",
    "##### 1.3) bw2_setup(), biosphere3 database and LCIA methods  \n",
    "  - bw2_setup()  \n",
    "  - biosphere3 database and a first look at database objects  \n",
    "  - Getting activities from codes or keys  \n",
    "  - Methods  \n",
    "  - Looking up elementary flows (list comprehensions, search)  \n",
    "  - Searching for methods  \n",
    "  - Nice display of data in methods \n",
    "\n",
    "##### 1.4) LCI databases  \n",
    "  - Importing (succinct)  \n",
    "  - LCI activities  \n",
    "  - Looking up activities  \n",
    "  - LCI exchanges\n",
    "  - Loaded LCI databases\n",
    "  \n",
    "#### 2) My first LCA - simplest case:  \n",
    "##### 2.1) General syntax of LCA calculations  \n",
    "\n",
    "##### 2.2) The `demand` attribute  \n",
    "\n",
    "##### 2.3) Reminder of the system that needs to be solved in calculating an LCI  \n",
    "\n",
    "##### 2.4) Building the matrices  \n",
    "\n",
    "  - $A$ matrix  \n",
    "  - $B$ matrix  \n",
    "  - $f$ (demand array)  \n",
    "  \n",
    "##### 2.5) Solution to the inventory calculation  \n",
    "\n",
    "  - Supply array  \n",
    "  - Inventory matrix  \n",
    "  \n",
    "##### 2.6) Life Cycle Impact Assessment  \n",
    "\n",
    "  - `.lcia()` method  \n",
    "  - Simple contribution analysis  \n",
    "  \n",
    "#### 3) My second LCA - comparative LCA:\n",
    "    \n",
    "#### 4) My third LCA - Multiple impact categories\n",
    "  \n",
    "#### 5) My first and third LCAs revisited with MultiLCA"
   ]
  },
  {
   "cell_type": "markdown",
   "metadata": {
    "deletable": true,
    "editable": true
   },
   "source": [
    "### 1) Getting started"
   ]
  },
  {
   "cell_type": "markdown",
   "metadata": {
    "deletable": true,
    "editable": true
   },
   "source": [
    "#### 1.1) Jupyter lab / notebooks and accessing Brightway2"
   ]
  },
  {
   "cell_type": "markdown",
   "metadata": {
    "deletable": true,
    "editable": true
   },
   "source": [
    "This teaching material was produced with the intention to be used in Jupyter Notebooks."
   ]
  },
  {
   "cell_type": "markdown",
   "metadata": {},
   "source": [
    "<div class=\"alert alert-info\">\n",
    "This notebook is meant to run with a specific conda (and Python) environment.\n",
    "    Make sure you have started Jupyter Notebooks or Jupyter Lab from the conda\n",
    "    environment where the brightway modules are installed (the conda environment is called `bw2`).\n",
    "</div>"
   ]
  },
  {
   "cell_type": "markdown",
   "metadata": {
    "deletable": true,
    "editable": true
   },
   "source": [
    "##### Accessing Brightway libraries"
   ]
  },
  {
   "cell_type": "markdown",
   "metadata": {
    "deletable": true,
    "editable": true
   },
   "source": [
    "The different modules in Brightway are Python libraries. This means that to use them, you can use any environment from which you usually use Python (Idle, command prompt, Spyder, or, as is the case today, Jupyter Notebooks).  \n",
    "\n",
    "We will favor Jupyter Notebooks in this course because they allow us to integrate code and text and provide code snippets for you to complete.  "
   ]
  },
  {
   "cell_type": "markdown",
   "metadata": {
    "deletable": true,
    "editable": true
   },
   "source": [
    "Like all other Python packages, you need to `import` Brightway modules.\n",
    "\n",
    "Brightway (or ``brightway25``) is made up of *five* main modules:\n",
    "* ``bw2io``: to handle data input and output.\n",
    "* ``bw2data``: to handle databases and LCIA methods.\n",
    "* ``bw2calc``: to perform single-, multi- and Monte Carlo analyses.\n",
    "* ``bw2analyzer``: to analyze results produced by **bw2calc**.\n",
    "* ``bw2parameters``: to use parameters in inventories.\n",
    "\n",
    "And many other modules for more specific uses. For example:\n",
    "* ``bw_processing``: to provide matrices to ``bw2calc`` directly, instead of a database."
   ]
  },
  {
   "cell_type": "markdown",
   "metadata": {
    "collapsed": false,
    "deletable": true,
    "editable": true,
    "jupyter": {
     "outputs_hidden": false
    }
   },
   "source": [
    "We will for now import ``bw2io``, ``bw2data`` and ``bw2calc``."
   ]
  },
  {
   "cell_type": "code",
   "execution_count": 1,
   "metadata": {},
   "outputs": [],
   "source": [
    "import bw2io, bw2data, bw2calc"
   ]
  },
  {
   "cell_type": "markdown",
   "metadata": {},
   "source": [
    "We can check the versions of these libraries, and where their code is located on your computer/the server."
   ]
  },
  {
   "cell_type": "code",
   "execution_count": 2,
   "metadata": {},
   "outputs": [
    {
     "data": {
      "text/plain": [
       "(0, 8, 12)"
      ]
     },
     "execution_count": 2,
     "metadata": {},
     "output_type": "execute_result"
    }
   ],
   "source": [
    "bw2io.__version__"
   ]
  },
  {
   "cell_type": "code",
   "execution_count": 3,
   "metadata": {},
   "outputs": [
    {
     "data": {
      "text/plain": [
       "'/opt/homebrew/Caskroom/miniforge/base/envs/bw2/lib/python3.11/site-packages/bw2io/__init__.py'"
      ]
     },
     "execution_count": 3,
     "metadata": {},
     "output_type": "execute_result"
    }
   ],
   "source": [
    "bw2io.__file__"
   ]
  },
  {
   "cell_type": "markdown",
   "metadata": {
    "deletable": true,
    "editable": true
   },
   "source": [
    "We're also going to be using the following libraries:"
   ]
  },
  {
   "cell_type": "code",
   "execution_count": 2,
   "metadata": {
    "deletable": true,
    "editable": true,
    "tags": []
   },
   "outputs": [],
   "source": [
    "import os               # to use \"operating system dependent functionality\"\n",
    "import numpy as np      # \"the fundamental package for scientific computing with Python\"\n",
    "import pandas as pd     # \"high-performance, easy-to-use data structures and data analysis tools\" for Python"
   ]
  },
  {
   "cell_type": "markdown",
   "metadata": {
    "deletable": true,
    "editable": true
   },
   "source": [
    "#### 1.2) Projects"
   ]
  },
  {
   "cell_type": "markdown",
   "metadata": {
    "deletable": true,
    "editable": true
   },
   "source": [
    "##### Concept"
   ]
  },
  {
   "cell_type": "markdown",
   "metadata": {
    "deletable": true,
    "editable": true
   },
   "source": [
    "The top-level \"container\" in Brightway is the project (see [here](https://docs.brightway.dev/en/latest/content/theory/structure.html)). \n",
    "\n",
    "A project contains LCI databases, LCIA methods and other less often-used objects. Objects from one project do not interact with objects within other projects. By analogy, projects are like databases in other LCA software.  \n",
    "\n",
    "![title](bw_structure.png)\n",
    "\n",
    "\n",
    "When you first launch Brightway, you will be in the `default` project. You can check this using the `current` property of the `projects` object: "
   ]
  },
  {
   "cell_type": "code",
   "execution_count": 5,
   "metadata": {
    "collapsed": false,
    "deletable": true,
    "editable": true,
    "jupyter": {
     "outputs_hidden": false
    }
   },
   "outputs": [
    {
     "data": {
      "text/plain": [
       "'default'"
      ]
     },
     "execution_count": 5,
     "metadata": {},
     "output_type": "execute_result"
    }
   ],
   "source": [
    "bw2data.projects.current"
   ]
  },
  {
   "cell_type": "markdown",
   "metadata": {
    "deletable": true,
    "editable": true
   },
   "source": [
    "##### Creating a new project, or switching to an existing project"
   ]
  },
  {
   "cell_type": "markdown",
   "metadata": {
    "deletable": true,
    "editable": true
   },
   "source": [
    "Let's create a new project for this course. Let's call it ``bw2_intro``.\n",
    "\n",
    "There are two ways of doing this:  \n",
    "* `projects.create_project('bw2_intro')` will create the project, but you will remain in your current project.\n",
    "* `projects.set_current('bw2_intro')` will switch you to the project passed as an argument and create it first if it doesn't exist.  Let's do the latter:"
   ]
  },
  {
   "cell_type": "code",
   "execution_count": 3,
   "metadata": {
    "collapsed": false,
    "deletable": true,
    "editable": true,
    "jupyter": {
     "outputs_hidden": false
    },
    "solution": "hidden"
   },
   "outputs": [],
   "source": [
    "# The name of the project is entered as string; \n",
    "# it doesn't really have any restrictions, so can include spaces, \n",
    "# special characters, other languages, or even emoji.\n",
    "\n",
    "bw2data.projects.set_current(\"training-day-2\")"
   ]
  },
  {
   "cell_type": "code",
   "execution_count": 4,
   "metadata": {},
   "outputs": [
    {
     "data": {
      "text/plain": [
       "'training-day-2'"
      ]
     },
     "execution_count": 4,
     "metadata": {},
     "output_type": "execute_result"
    }
   ],
   "source": [
    "bw2data.projects.current"
   ]
  },
  {
   "cell_type": "markdown",
   "metadata": {
    "deletable": true,
    "editable": true
   },
   "source": [
    "You can always see what projects you have on your computer by running `list(bw.projects)`. Unless you have worked with Brightway2 before on your computer, your list should contain two projects: 'default' and 'bw2_seminar_2017'."
   ]
  },
  {
   "cell_type": "markdown",
   "metadata": {
    "deletable": true,
    "editable": true,
    "solution": "shown",
    "solution2": "shown",
    "solution2_first": true,
    "solution_first": true
   },
   "source": [
    "_**Exercise**_: list the projects on your computer."
   ]
  },
  {
   "cell_type": "code",
   "execution_count": 8,
   "metadata": {
    "collapsed": false,
    "deletable": true,
    "editable": true,
    "jupyter": {
     "outputs_hidden": false
    },
    "scrolled": true,
    "solution": "shown",
    "solution2": "shown"
   },
   "outputs": [
    {
     "data": {
      "text/plain": [
       "Brightway2 projects manager with 14 objects:\n",
       "\t\n",
       "\t66\n",
       "\t74\n",
       "\taligned_bw25\n",
       "\tbw25_ei310\n",
       "\tdefault\n",
       "\tdefult\n",
       "\tecoinvent-3.10-cutoff\n",
       "\tecoinvent-3.9.1-cutoff_bw25\n",
       "\tecoinvent-3.9.11-cutoff\n",
       "\tecoinvent-migration\n",
       "\ttest\n",
       "\ttraining-day\n",
       "\twinter-school\n",
       "Use `projects.report()` to get a report on all projects."
      ]
     },
     "execution_count": 8,
     "metadata": {},
     "output_type": "execute_result"
    }
   ],
   "source": [
    "bw2data.projects"
   ]
  },
  {
   "cell_type": "markdown",
   "metadata": {},
   "source": [
    "_**Exercise**_: check the currently activated project."
   ]
  },
  {
   "cell_type": "code",
   "execution_count": null,
   "metadata": {},
   "outputs": [],
   "source": [
    "bw2data.projects.current"
   ]
  },
  {
   "cell_type": "markdown",
   "metadata": {
    "deletable": true,
    "editable": true
   },
   "source": [
    "Like in all Python modules, you can get additional information on the `projects` object and associated properties and methods by typing `help(projects)`. The [docs](https://docs.brightway.dev/en/latest/content/gettingstarted/projects.html) give you additional examples of the methods available from the project object."
   ]
  },
  {
   "cell_type": "markdown",
   "metadata": {
    "deletable": true,
    "editable": true
   },
   "source": [
    "##### Contents of a project"
   ]
  },
  {
   "cell_type": "markdown",
   "metadata": {
    "deletable": true,
    "editable": true
   },
   "source": [
    "One property of `projects` is its location, given by `projects.dir`:"
   ]
  },
  {
   "cell_type": "code",
   "execution_count": 8,
   "metadata": {
    "collapsed": false,
    "deletable": true,
    "editable": true,
    "jupyter": {
     "outputs_hidden": false
    }
   },
   "outputs": [
    {
     "data": {
      "text/plain": [
       "'/Users/romain/Library/Application Support/Brightway3/training-day-2.cf3037efa523ef612ceb85312be46ddb'"
      ]
     },
     "execution_count": 8,
     "metadata": {},
     "output_type": "execute_result"
    }
   ],
   "source": [
    "bw2data.projects.dir"
   ]
  },
  {
   "cell_type": "markdown",
   "metadata": {
    "deletable": true,
    "editable": true
   },
   "source": [
    "<div class=\"alert alert-info\">\n",
    "    If working on your personal computer, try to locate your project directory on your computer.\n",
    "</div>"
   ]
  },
  {
   "cell_type": "markdown",
   "metadata": {
    "deletable": true,
    "editable": true
   },
   "source": [
    "First things first: **do not panic**! You can use ``brightway25`` for years without ever opening this directory, but we will discuss some of these files later.\n",
    "\n",
    "It is simply interesting to note that, for now, all the directories are empty except the `lci` directory, which contains an empty database."
   ]
  },
  {
   "cell_type": "markdown",
   "metadata": {
    "deletable": true,
    "editable": true
   },
   "source": [
    "All in all, our (empty) project takes less than 100KB.  \n",
    "It is now time to start populating the project."
   ]
  },
  {
   "cell_type": "markdown",
   "metadata": {
    "deletable": true,
    "editable": true
   },
   "source": [
    "#### 1.3) bw2setup(), biosphere3 database and LCIA methods"
   ]
  },
  {
   "cell_type": "markdown",
   "metadata": {},
   "source": [
    "Our project is empty, as it contains zero databases:"
   ]
  },
  {
   "cell_type": "code",
   "execution_count": 10,
   "metadata": {},
   "outputs": [
    {
     "data": {
      "text/plain": [
       "Databases dictionary with 2 object(s):\n",
       "\tbiosphere\n",
       "\tecoinvent-3.10-cutoff"
      ]
     },
     "execution_count": 10,
     "metadata": {},
     "output_type": "execute_result"
    }
   ],
   "source": [
    "bw2data.databases"
   ]
  },
  {
   "cell_type": "markdown",
   "metadata": {
    "deletable": true,
    "editable": true
   },
   "source": [
    "##### The use of `bw2io.import_ecoinvent_release()` **when working on your computer**"
   ]
  },
  {
   "cell_type": "markdown",
   "metadata": {
    "deletable": true,
    "editable": true
   },
   "source": [
    "`bw2io.import_ecoinvent_release()` is a convenient function to install three databases at once: 1) a **biosphere** database (elementary flows), 2) the **LCIA methods** database and 3) the **ecoinvent** database."
   ]
  },
  {
   "cell_type": "code",
   "execution_count": null,
   "metadata": {},
   "outputs": [],
   "source": [
    "# we already have ecoinvent imported.\n",
    "# hence, no need to run that on for now.\n",
    "\n",
    "# bw2io.import_ecoinvent_release(\n",
    "#     version=\"3.10\", \n",
    "#     system_model=\"cutoff\", # other options are \"consequential\", \"apos\" and \"EN15804\"\n",
    "#     username=\"xxxx\",\n",
    "#     password=\"xxxx\",\n",
    "#     biosphere_name=\"biosphere\" # optional, otherwise a name is chosen for you\n",
    "# )"
   ]
  },
  {
   "cell_type": "markdown",
   "metadata": {
    "deletable": true,
    "editable": true
   },
   "source": [
    "The output tells us that import_ecoinvent_release() created some very useful things:  \n",
    "  - Created a database called \"biosphere\": this database contains elementary flows (called biosphere exchanges in Brightway2)  \n",
    "  - **762** impact assessment methods\n",
    "  - the ecoinvent 3.10 cut-off database\n",
    "\n",
    "<div class=\"alert alert-info\">\n",
    "    Note: The biosphere database contains all \"natural\" flows human-made activities connect to. E.g., CO$_{2}$ emissions, ore in ground, etc.\n",
    "</div>\n",
    "  \n",
    "It also created some `mapping` between the imported exchanges and some integers: more on this later.  \n",
    "The whole directory now takes up 1'640MB."
   ]
  },
  {
   "cell_type": "markdown",
   "metadata": {},
   "source": [
    "<div class=\"alert alert-info\">\n",
    "    Note: We have just created the biosphere database from a local file. <a href=\"https://files.brightway.dev\">files.brightway.dev</a> also offers a few different online versions of the biosphere database. You can list them doing: bw2io.remote.PROJECTS_BW25\n",
    "</div>"
   ]
  },
  {
   "cell_type": "markdown",
   "metadata": {
    "deletable": true,
    "editable": true
   },
   "source": [
    "##### The *biosphere3* database and a first look at database objects"
   ]
  },
  {
   "cell_type": "markdown",
   "metadata": {
    "deletable": true,
    "editable": true
   },
   "source": [
    "<div class=\"alert alert-info\">\n",
    "    Note: You can always list the databases inside a project by simply typing 'bw2data.databases'. This accesses the 'database.json' file in your 'project.dir' (I learned the latter by typing `bw2data.databases?`, you should try it too.).\n",
    "</div>"
   ]
  },
  {
   "cell_type": "code",
   "execution_count": null,
   "metadata": {
    "collapsed": false,
    "deletable": true,
    "editable": true,
    "jupyter": {
     "outputs_hidden": false
    }
   },
   "outputs": [],
   "source": [
    "bw2data.databases"
   ]
  },
  {
   "cell_type": "markdown",
   "metadata": {
    "deletable": true,
    "editable": true
   },
   "source": [
    "While not impossible to interact with the data at this level, you probably never will unless you are developping some funky program. Instead, it is strongly recommended to learn to work with `abstractions`.  "
   ]
  },
  {
   "cell_type": "markdown",
   "metadata": {
    "deletable": true,
    "editable": true
   },
   "source": [
    "To access a database in Brightway, you use the `Database` initialization method (again, you can type `bw2data.Database?` for more information - this is the last time I'll mention this. The [docs](https://docs.brightway.dev/en/latest/content/gettingstarted/databases.html) also have an excellent page about the methods available from the Database object."
   ]
  },
  {
   "cell_type": "code",
   "execution_count": 11,
   "metadata": {
    "collapsed": false,
    "deletable": true,
    "editable": true,
    "jupyter": {
     "outputs_hidden": false
    }
   },
   "outputs": [
    {
     "data": {
      "text/plain": [
       "Brightway2 SQLiteBackend: biosphere"
      ]
     },
     "execution_count": 11,
     "metadata": {},
     "output_type": "execute_result"
    }
   ],
   "source": [
    "bw2data.Database('biosphere')"
   ]
  },
  {
   "cell_type": "markdown",
   "metadata": {
    "deletable": true,
    "editable": true
   },
   "source": [
    "It doesn't actually return anything other than information about the Backend.  \n",
    "However, there are many properties and functions associated with this database object.  These are found [here](https://2.docs.brightway.dev/technical/bw2data.html#databasechooser). We can also have a look through the autocomplete. Let's assign the database to a variable:"
   ]
  },
  {
   "cell_type": "code",
   "execution_count": 5,
   "metadata": {
    "deletable": true,
    "editable": true,
    "tags": []
   },
   "outputs": [],
   "source": [
    "my_bio = bw2data.Database('biosphere')"
   ]
  },
  {
   "cell_type": "code",
   "execution_count": 13,
   "metadata": {},
   "outputs": [
    {
     "data": {
      "text/plain": [
       "Brightway2 SQLiteBackend: biosphere"
      ]
     },
     "execution_count": 13,
     "metadata": {},
     "output_type": "execute_result"
    }
   ],
   "source": [
    "my_bio"
   ]
  },
  {
   "cell_type": "markdown",
   "metadata": {
    "deletable": true,
    "editable": true
   },
   "source": [
    "Let's check the my_bio `type`:"
   ]
  },
  {
   "cell_type": "code",
   "execution_count": 14,
   "metadata": {
    "collapsed": false,
    "deletable": true,
    "editable": true,
    "jupyter": {
     "outputs_hidden": false
    }
   },
   "outputs": [
    {
     "data": {
      "text/plain": [
       "bw2data.backends.peewee.database.SQLiteBackend"
      ]
     },
     "execution_count": 14,
     "metadata": {},
     "output_type": "execute_result"
    }
   ],
   "source": [
    "type(my_bio)"
   ]
  },
  {
   "cell_type": "markdown",
   "metadata": {
    "deletable": true,
    "editable": true
   },
   "source": [
    "Let's check its length:"
   ]
  },
  {
   "cell_type": "code",
   "execution_count": 15,
   "metadata": {
    "collapsed": false,
    "deletable": true,
    "editable": true,
    "jupyter": {
     "outputs_hidden": false
    }
   },
   "outputs": [
    {
     "data": {
      "text/plain": [
       "4362"
      ]
     },
     "execution_count": 15,
     "metadata": {},
     "output_type": "execute_result"
    }
   ],
   "source": [
    "len(my_bio)"
   ]
  },
  {
   "cell_type": "markdown",
   "metadata": {
    "deletable": true,
    "editable": true
   },
   "source": [
    "This is exactly the number of items we saw had been added to databases.db  \n",
    "Given this, what do you think is going on?"
   ]
  },
  {
   "cell_type": "markdown",
   "metadata": {
    "deletable": true,
    "editable": true
   },
   "source": [
    "If you type `my_bio.` and click on tab, you should get a list of properties and methods associated with database objects. Try this now:"
   ]
  },
  {
   "cell_type": "code",
   "execution_count": 16,
   "metadata": {
    "deletable": true,
    "editable": true,
    "tags": []
   },
   "outputs": [
    {
     "data": {
      "text/plain": [
       "'Monoethanolamine' (kilogram, None, ('air',))"
      ]
     },
     "execution_count": 16,
     "metadata": {},
     "output_type": "execute_result"
    }
   ],
   "source": [
    "my_bio.random()        # Type my_bio. and click tab. Have a look at the different properties and objects"
   ]
  },
  {
   "cell_type": "markdown",
   "metadata": {
    "deletable": true,
    "editable": true
   },
   "source": [
    "Some of the more basic ones we will be using now are :  \n",
    "  - `random()` - returns a random activity in the database\n",
    "  - `get(*valid_exchange_tuple*)` - returns an activity, but you must know the activity key\n",
    "  - `load()` - loads the whole database as a dictionary.\n",
    "  - `make_searchable` - allows searching of the database (by default, it is already searchable)\n",
    "  - `search` - search the database  \n",
    "  \n",
    "Lets start with `random`:"
   ]
  },
  {
   "cell_type": "markdown",
   "metadata": {
    "deletable": true,
    "editable": true
   },
   "source": [
    "This returns a biosphere activity, but without assigning it to a variable, there is not much we can do with it directly.  "
   ]
  },
  {
   "cell_type": "markdown",
   "metadata": {
    "deletable": true,
    "editable": true
   },
   "source": [
    "Note: It may seem counter-intuitive for elementary *flows* to be considered *activities* in Brightway, but it is no mistake. \n",
    "LCA models are made up of **nodes** (activities) that are linked by **edges** (exchanges). The biosphere activities are the nodes *outside* the technosphere. Emissions and resource extractions are modelled as exchanges between activities in the technosphere (part of the product system) and these biosphere activities.  \n",
    "\n",
    "More on this later. "
   ]
  },
  {
   "cell_type": "markdown",
   "metadata": {
    "deletable": true,
    "editable": true
   },
   "source": [
    "For now, let's assign another random activity to a variable:"
   ]
  },
  {
   "cell_type": "code",
   "execution_count": 6,
   "metadata": {
    "collapsed": false,
    "deletable": true,
    "editable": true,
    "jupyter": {
     "outputs_hidden": false
    }
   },
   "outputs": [
    {
     "data": {
      "text/plain": [
       "'Hydrogen sulfide' (kilogram, None, ('water',))"
      ]
     },
     "execution_count": 6,
     "metadata": {},
     "output_type": "execute_result"
    }
   ],
   "source": [
    "random_biosphere = my_bio.random()\n",
    "random_biosphere"
   ]
  },
  {
   "cell_type": "markdown",
   "metadata": {
    "deletable": true,
    "editable": true
   },
   "source": [
    "We can get the type of the object that was returned from the database:"
   ]
  },
  {
   "cell_type": "code",
   "execution_count": 19,
   "metadata": {
    "collapsed": false,
    "deletable": true,
    "editable": true,
    "jupyter": {
     "outputs_hidden": false
    }
   },
   "outputs": [
    {
     "data": {
      "text/plain": [
       "bw2data.backends.peewee.proxies.Activity"
      ]
     },
     "execution_count": 19,
     "metadata": {},
     "output_type": "execute_result"
    }
   ],
   "source": [
    "type(random_biosphere)"
   ]
  },
  {
   "cell_type": "markdown",
   "metadata": {
    "deletable": true,
    "editable": true
   },
   "source": [
    "The type is an **activity proxy**. Activity proxies allow us to interact with the content of the database."
   ]
  },
  {
   "cell_type": "markdown",
   "metadata": {
    "deletable": true,
    "editable": true
   },
   "source": [
    "In Brightway, we *almost* always work with `Activity` or `Exchange` objects. "
   ]
  },
  {
   "cell_type": "markdown",
   "metadata": {
    "deletable": true,
    "editable": true
   },
   "source": [
    "To see what the activity contains, we can convert it to a dictionary:"
   ]
  },
  {
   "cell_type": "code",
   "execution_count": 21,
   "metadata": {
    "collapsed": false,
    "deletable": true,
    "editable": true,
    "jupyter": {
     "outputs_hidden": false
    }
   },
   "outputs": [
    {
     "data": {
      "text/plain": [
       "dict"
      ]
     },
     "execution_count": 21,
     "metadata": {},
     "output_type": "execute_result"
    }
   ],
   "source": [
    "type(random_biosphere.as_dict())"
   ]
  },
  {
   "cell_type": "markdown",
   "metadata": {
    "deletable": true,
    "editable": true
   },
   "source": [
    "##### Getting activities from codes or keys"
   ]
  },
  {
   "cell_type": "markdown",
   "metadata": {
    "deletable": true,
    "editable": true
   },
   "source": [
    "We can see that the activities in the biosphere3 database have unique **codes**, which we can use with the `get` function:"
   ]
  },
  {
   "cell_type": "markdown",
   "metadata": {
    "deletable": true,
    "editable": true
   },
   "source": [
    "Activities can also be \"gotten\" via `get_activity`, but the argument is the activity **key**, consisting of a tuple with two elements: the database name, and the activity code."
   ]
  },
  {
   "cell_type": "markdown",
   "metadata": {
    "deletable": true,
    "editable": true,
    "solution2": "shown",
    "solution2_first": true
   },
   "source": [
    "**Exercise:** Use `bw.get_activity()` to retrieve the random biosphere activity. "
   ]
  },
  {
   "cell_type": "code",
   "execution_count": 22,
   "metadata": {
    "collapsed": false,
    "deletable": true,
    "editable": true,
    "jupyter": {
     "outputs_hidden": false
    },
    "solution2": "shown"
   },
   "outputs": [
    {
     "data": {
      "text/plain": [
       "('biosphere', '84e56689-d3d4-4f9b-831d-e4e83046ce2c')"
      ]
     },
     "execution_count": 22,
     "metadata": {},
     "output_type": "execute_result"
    }
   ],
   "source": [
    "database_name = random_biosphere['database']\n",
    "code = random_biosphere['code']\n",
    "random_biosphere_key = (database_name, code)\n",
    "random_biosphere_key"
   ]
  },
  {
   "cell_type": "code",
   "execution_count": 23,
   "metadata": {
    "collapsed": false,
    "deletable": true,
    "editable": true,
    "jupyter": {
     "outputs_hidden": false
    },
    "solution2": "shown"
   },
   "outputs": [
    {
     "data": {
      "text/plain": [
       "'Antimony-122' (kilo Becquerel, None, ('water',))"
      ]
     },
     "execution_count": 23,
     "metadata": {},
     "output_type": "execute_result"
    }
   ],
   "source": [
    "bw2data.get_activity(random_biosphere_key)"
   ]
  },
  {
   "cell_type": "markdown",
   "metadata": {
    "deletable": true,
    "editable": true
   },
   "source": [
    "You can always find (or return) the key to an activity using the `.key` property."
   ]
  },
  {
   "cell_type": "code",
   "execution_count": 24,
   "metadata": {
    "collapsed": false,
    "deletable": true,
    "editable": true,
    "jupyter": {
     "outputs_hidden": false
    }
   },
   "outputs": [
    {
     "data": {
      "text/plain": [
       "('biosphere', '84e56689-d3d4-4f9b-831d-e4e83046ce2c')"
      ]
     },
     "execution_count": 24,
     "metadata": {},
     "output_type": "execute_result"
    }
   ],
   "source": [
    "random_biosphere.key"
   ]
  },
  {
   "cell_type": "code",
   "execution_count": 25,
   "metadata": {},
   "outputs": [
    {
     "data": {
      "text/plain": [
       "'Antimony-122' (kilo Becquerel, None, ('water',))"
      ]
     },
     "execution_count": 25,
     "metadata": {},
     "output_type": "execute_result"
    }
   ],
   "source": [
    "bw2data.get_activity(random_biosphere.key)"
   ]
  },
  {
   "cell_type": "markdown",
   "metadata": {
    "deletable": true,
    "editable": true
   },
   "source": [
    "##### Searching for activities"
   ]
  },
  {
   "cell_type": "markdown",
   "metadata": {
    "deletable": true,
    "editable": true
   },
   "source": [
    "Let's say we are looking for a specific elementary flow, we can use the `search` method of the database (see [here](https://docs.brightwaylca.org/technical/bw2data.html#default-backend-databases-stored-in-a-sqlite-database) for more details on using search):"
   ]
  },
  {
   "cell_type": "code",
   "execution_count": 30,
   "metadata": {},
   "outputs": [
    {
     "data": {
      "text/plain": [
       "Brightway2 SQLiteBackend: biosphere"
      ]
     },
     "execution_count": 30,
     "metadata": {},
     "output_type": "execute_result"
    }
   ],
   "source": [
    "my_bio"
   ]
  },
  {
   "cell_type": "code",
   "execution_count": 7,
   "metadata": {
    "collapsed": false,
    "deletable": true,
    "editable": true,
    "jupyter": {
     "outputs_hidden": false
    }
   },
   "outputs": [
    {
     "data": {
      "text/plain": [
       "['Carbon' (kilogram, None, ('water', 'ground-')),\n",
       " 'Carbon' (kilogram, None, ('soil', 'agricultural')),\n",
       " 'Carbon' (kilogram, None, ('soil', 'forestry')),\n",
       " 'Carbon' (kilogram, None, ('soil', 'industrial')),\n",
       " 'Carbon' (kilogram, None, ('water',)),\n",
       " 'Carbon' (kilogram, None, ('soil',)),\n",
       " 'Carbon' (kilogram, None, ('air', 'urban air close to ground')),\n",
       " 'Carbon-14' (kilo Becquerel, None, ('water', 'surface water')),\n",
       " 'Organic carbon' (kilogram, None, ('air', 'urban air close to ground')),\n",
       " 'Carbon tetrachloride' (kilogram, None, ('air', 'urban air close to ground')),\n",
       " 'Carbon tetrachloride' (kilogram, None, ('water', 'surface water')),\n",
       " 'Carbon tetrachloride' (kilogram, None, ('air',)),\n",
       " 'Carbon-14' (kilo Becquerel, None, ('air', 'non-urban air or from high stacks')),\n",
       " 'Carbon tetrachloride' (kilogram, None, ('water',)),\n",
       " 'Carbon disulfide' (kilogram, None, ('air', 'urban air close to ground')),\n",
       " 'Carbon disulfide' (kilogram, None, ('water',)),\n",
       " 'Carbon-14' (kilo Becquerel, None, ('air',)),\n",
       " 'Carbon tetrachloride' (kilogram, None, ('water', 'ground-, long-term')),\n",
       " 'Carbon disulfide' (kilogram, None, ('water', 'ground-')),\n",
       " 'Carbon disulfide' (kilogram, None, ('water', 'ocean')),\n",
       " 'Carbon-14' (kilo Becquerel, None, ('water',)),\n",
       " 'Organic carbon' (kilogram, None, ('water', 'ground-')),\n",
       " 'Carbon tetrachloride' (kilogram, None, ('water', 'ocean')),\n",
       " 'Carbon disulfide' (kilogram, None, ('water', 'surface water')),\n",
       " 'Carbon-14' (kilo Becquerel, None, ('water', 'ground-'))]"
      ]
     },
     "execution_count": 7,
     "metadata": {},
     "output_type": "execute_result"
    }
   ],
   "source": [
    "my_bio.search('carbon')"
   ]
  },
  {
   "cell_type": "code",
   "execution_count": 36,
   "metadata": {},
   "outputs": [
    {
     "data": {
      "text/plain": [
       "4362"
      ]
     },
     "execution_count": 36,
     "metadata": {},
     "output_type": "execute_result"
    }
   ],
   "source": [
    "len(my_bio)"
   ]
  },
  {
   "cell_type": "code",
   "execution_count": 34,
   "metadata": {},
   "outputs": [
    {
     "data": {
      "text/plain": [
       "Databases dictionary with 2 object(s):\n",
       "\tbiosphere\n",
       "\tecoinvent-3.10-cutoff"
      ]
     },
     "execution_count": 34,
     "metadata": {},
     "output_type": "execute_result"
    }
   ],
   "source": [
    "bw2data.databases"
   ]
  },
  {
   "cell_type": "code",
   "execution_count": 9,
   "metadata": {},
   "outputs": [
    {
     "name": "stdout",
     "output_type": "stream",
     "text": [
      "'Carbon dioxide, non-fossil' (kilogram, None, ('air', 'urban air close to ground'))\n",
      "'Carbon dioxide, to soil or biomass stock' (kilogram, None, ('soil',))\n",
      "'Carbon dioxide, non-fossil, resource correction' (kilogram, None, ('natural resource', 'in air'))\n",
      "'Carbon dioxide, fossil' (kilogram, None, ('air', 'low population density, long-term'))\n",
      "'Carbon dioxide, from soil or biomass stock' (kilogram, None, ('air', 'non-urban air or from high stacks'))\n",
      "'Carbon dioxide, to soil or biomass stock' (kilogram, None, ('soil', 'agricultural'))\n",
      "'Carbon dioxide, fossil' (kilogram, None, ('air', 'urban air close to ground'))\n",
      "'Carbon dioxide, fossil' (kilogram, None, ('air', 'non-urban air or from high stacks'))\n",
      "'Carbon dioxide, fossil' (kilogram, None, ('air',))\n",
      "'Carbon dioxide, to soil or biomass stock' (kilogram, None, ('soil', 'industrial'))\n",
      "'Carbon dioxide, non-fossil' (kilogram, None, ('air',))\n",
      "'Carbon dioxide, to soil or biomass stock' (kilogram, None, ('soil', 'forestry'))\n",
      "'Carbon dioxide, from soil or biomass stock' (kilogram, None, ('air',))\n",
      "'Carbon dioxide, from soil or biomass stock' (kilogram, None, ('air', 'low population density, long-term'))\n",
      "'Carbon dioxide, non-fossil' (kilogram, None, ('air', 'low population density, long-term'))\n",
      "'Carbon dioxide, fossil' (kilogram, None, ('air', 'lower stratosphere + upper troposphere'))\n",
      "'Carbon dioxide, non-fossil' (kilogram, None, ('air', 'non-urban air or from high stacks'))\n",
      "'Carbon dioxide, from soil or biomass stock' (kilogram, None, ('air', 'urban air close to ground'))\n",
      "'Carbon dioxide, in air' (kilogram, None, ('natural resource', 'in air'))\n"
     ]
    }
   ],
   "source": [
    "for activity in my_bio:\n",
    "    if \"Carbon dioxide\" in activity[\"name\"]:\n",
    "        print(activity)"
   ]
  },
  {
   "cell_type": "code",
   "execution_count": 10,
   "metadata": {},
   "outputs": [
    {
     "data": {
      "text/plain": [
       "['Carbon dioxide, to soil or biomass stock' (kilogram, None, ('soil', 'industrial')),\n",
       " 'Carbon dioxide, fossil' (kilogram, None, ('air', 'low population density, long-term')),\n",
       " 'Carbon dioxide, non-fossil' (kilogram, None, ('air',)),\n",
       " 'Carbon dioxide, fossil' (kilogram, None, ('air', 'lower stratosphere + upper troposphere')),\n",
       " 'Carbon dioxide, non-fossil, resource correction' (kilogram, None, ('natural resource', 'in air')),\n",
       " 'Carbon dioxide, from soil or biomass stock' (kilogram, None, ('air', 'low population density, long-term')),\n",
       " 'Carbon dioxide, non-fossil' (kilogram, None, ('air', 'urban air close to ground')),\n",
       " 'Carbon dioxide, fossil' (kilogram, None, ('air', 'urban air close to ground')),\n",
       " 'Carbon dioxide, in air' (kilogram, None, ('natural resource', 'in air')),\n",
       " 'Carbon dioxide, non-fossil' (kilogram, None, ('air', 'non-urban air or from high stacks')),\n",
       " 'Carbon dioxide, from soil or biomass stock' (kilogram, None, ('air',)),\n",
       " 'Carbon dioxide, to soil or biomass stock' (kilogram, None, ('soil',)),\n",
       " 'Carbon dioxide, from soil or biomass stock' (kilogram, None, ('air', 'urban air close to ground')),\n",
       " 'Carbon dioxide, to soil or biomass stock' (kilogram, None, ('soil', 'agricultural')),\n",
       " 'Carbon dioxide, to soil or biomass stock' (kilogram, None, ('soil', 'forestry')),\n",
       " 'Carbon dioxide, fossil' (kilogram, None, ('air', 'non-urban air or from high stacks')),\n",
       " 'Carbon dioxide, fossil' (kilogram, None, ('air',)),\n",
       " 'Carbon dioxide, from soil or biomass stock' (kilogram, None, ('air', 'non-urban air or from high stacks')),\n",
       " 'Carbon dioxide, non-fossil' (kilogram, None, ('air', 'low population density, long-term'))]"
      ]
     },
     "execution_count": 10,
     "metadata": {},
     "output_type": "execute_result"
    }
   ],
   "source": [
    "[activity for activity in my_bio if \"Carbon dioxide\" in activity[\"name\"]]"
   ]
  },
  {
   "cell_type": "code",
   "execution_count": 12,
   "metadata": {},
   "outputs": [
    {
     "data": {
      "text/plain": [
       "1324"
      ]
     },
     "execution_count": 12,
     "metadata": {},
     "output_type": "execute_result"
    }
   ],
   "source": [
    "len(list(set([\n",
    "    act[\"name\"] for act in my_bio\n",
    "])))"
   ]
  },
  {
   "cell_type": "markdown",
   "metadata": {
    "deletable": true,
    "editable": true
   },
   "source": [
    "It is also possible to use \"filters\" to narrow searches, e.g."
   ]
  },
  {
   "cell_type": "code",
   "execution_count": 13,
   "metadata": {
    "collapsed": false,
    "deletable": true,
    "editable": true,
    "jupyter": {
     "outputs_hidden": false
    }
   },
   "outputs": [
    {
     "name": "stdout",
     "output_type": "stream",
     "text": [
      "Excluding 15 filtered results\n"
     ]
    },
    {
     "data": {
      "text/plain": [
       "['Carbon dioxide, fossil' (kilogram, None, ('air', 'non-urban air or from high stacks')),\n",
       " 'Carbon dioxide, fossil' (kilogram, None, ('air', 'urban air close to ground')),\n",
       " 'Carbon dioxide, non-fossil' (kilogram, None, ('air', 'urban air close to ground')),\n",
       " 'Carbon dioxide, non-fossil' (kilogram, None, ('air', 'non-urban air or from high stacks'))]"
      ]
     },
     "execution_count": 13,
     "metadata": {},
     "output_type": "execute_result"
    }
   ],
   "source": [
    "bw2data.Database('biosphere').search('carbon dioxide', filter={'categories':'urban', 'name':'fossil'})"
   ]
  },
  {
   "cell_type": "markdown",
   "metadata": {
    "deletable": true,
    "editable": true
   },
   "source": [
    "The database object is also iterable, allowing \"home-made\" searches through list comprehensions. This approach is better because one can add as many criteria as wanted:"
   ]
  },
  {
   "cell_type": "code",
   "execution_count": 15,
   "metadata": {
    "collapsed": false,
    "deletable": true,
    "editable": true,
    "jupyter": {
     "outputs_hidden": false
    }
   },
   "outputs": [
    {
     "data": {
      "text/plain": [
       "['Carbon dioxide, fossil' (kilogram, None, ('air', 'urban air close to ground'))]"
      ]
     },
     "execution_count": 15,
     "metadata": {},
     "output_type": "execute_result"
    }
   ],
   "source": [
    "l = [\n",
    "    act for act in my_bio if 'Carbon dioxide' in act['name'] \n",
    "                                            and 'fossil' in act['name']\n",
    "                                            and 'non' not in act['name']\n",
    "                                            and 'urban air close to ground' in str(act['categories'])\n",
    "]\n",
    "l"
   ]
  },
  {
   "cell_type": "code",
   "execution_count": 16,
   "metadata": {},
   "outputs": [
    {
     "data": {
      "text/plain": [
       "list"
      ]
     },
     "execution_count": 16,
     "metadata": {},
     "output_type": "execute_result"
    }
   ],
   "source": [
    "type(l)"
   ]
  },
  {
   "cell_type": "code",
   "execution_count": null,
   "metadata": {},
   "outputs": [],
   "source": [
    "len(l)"
   ]
  },
  {
   "cell_type": "markdown",
   "metadata": {},
   "source": [
    "Python using a 0-based indexing, to fetch the first item of a list:"
   ]
  },
  {
   "cell_type": "code",
   "execution_count": 17,
   "metadata": {},
   "outputs": [
    {
     "data": {
      "text/plain": [
       "'Carbon dioxide, fossil' (kilogram, None, ('air', 'urban air close to ground'))"
      ]
     },
     "execution_count": 17,
     "metadata": {},
     "output_type": "execute_result"
    }
   ],
   "source": [
    "l[0]"
   ]
  },
  {
   "cell_type": "markdown",
   "metadata": {
    "deletable": true,
    "editable": true
   },
   "source": [
    "Activities returned by searches or list comprehensions can be assigned to variables, but to do so, one needs to identify the activity by index. Based on the above, I can refine my filters to ensure the list comprehension only returns one activity, and then choose it without fear of choosing the wrong one.."
   ]
  },
  {
   "cell_type": "code",
   "execution_count": 18,
   "metadata": {
    "collapsed": false,
    "deletable": true,
    "editable": true,
    "jupyter": {
     "outputs_hidden": false
    }
   },
   "outputs": [
    {
     "data": {
      "text/plain": [
       "'Carbon dioxide, fossil' (kilogram, None, ('air', 'urban air close to ground'))"
      ]
     },
     "execution_count": 18,
     "metadata": {},
     "output_type": "execute_result"
    }
   ],
   "source": [
    "activity_I_want = [act for act in my_bio if 'Carbon dioxide' in act['name'] \n",
    "                                            and 'fossil' in act['name']\n",
    "                                            and 'non' not in act['name']\n",
    "                                            and 'urban air close to ground' in str(act['categories'])\n",
    "         ][0]\n",
    "activity_I_want"
   ]
  },
  {
   "cell_type": "code",
   "execution_count": 19,
   "metadata": {},
   "outputs": [
    {
     "data": {
      "text/plain": [
       "('biosphere', 'f9749677-9c9f-4678-ab55-c607dfdc2cb9')"
      ]
     },
     "execution_count": 19,
     "metadata": {},
     "output_type": "execute_result"
    }
   ],
   "source": [
    "activity_I_want.key"
   ]
  },
  {
   "cell_type": "code",
   "execution_count": 20,
   "metadata": {},
   "outputs": [
    {
     "data": {
      "text/plain": [
       "('biosphere', 'f9749677-9c9f-4678-ab55-c607dfdc2cb9')"
      ]
     },
     "execution_count": 20,
     "metadata": {},
     "output_type": "execute_result"
    }
   ],
   "source": [
    "(activity_I_want[\"database\"], activity_I_want[\"code\"])"
   ]
  },
  {
   "cell_type": "code",
   "execution_count": 21,
   "metadata": {},
   "outputs": [
    {
     "data": {
      "text/plain": [
       "'Carbon dioxide, fossil' (kilogram, None, ('air', 'urban air close to ground'))"
      ]
     },
     "execution_count": 21,
     "metadata": {},
     "output_type": "execute_result"
    }
   ],
   "source": [
    "bw2data.get_activity(('biosphere', 'f9749677-9c9f-4678-ab55-c607dfdc2cb9'))"
   ]
  },
  {
   "cell_type": "markdown",
   "metadata": {
    "deletable": true,
    "editable": true,
    "solution2": "hidden",
    "solution2_first": true
   },
   "source": [
    "**Exercise**: look for and assign to a variable an emission of nitrous oxide emitted to air in the \"urban air\" subcompartment."
   ]
  },
  {
   "cell_type": "code",
   "execution_count": 22,
   "metadata": {
    "collapsed": false,
    "jupyter": {
     "outputs_hidden": false
    },
    "solution2": "hidden"
   },
   "outputs": [
    {
     "data": {
      "text/plain": [
       "'Dinitrogen monoxide' (kilogram, None, ('air', 'urban air close to ground'))"
      ]
     },
     "execution_count": 22,
     "metadata": {},
     "output_type": "execute_result"
    }
   ],
   "source": [
    "# Found what I need:\n",
    "n20 = [act for act in my_bio if 'Dinitrogen monoxide' in act['name']\n",
    "                       and 'urban air close to ground' in str(act['categories'])\n",
    "         ][0]\n",
    "n20"
   ]
  },
  {
   "cell_type": "code",
   "execution_count": 23,
   "metadata": {},
   "outputs": [
    {
     "data": {
      "text/plain": [
       "{'categories': ('air', 'urban air close to ground'),\n",
       " 'code': '6dc1b46f-ee89-4495-95c4-b8a637bcd6cb',\n",
       " 'CAS number': '010024-97-2',\n",
       " 'synonyms': ['dinitrogen oxide', 'nitrous oxide'],\n",
       " 'name': 'Dinitrogen monoxide',\n",
       " 'database': 'biosphere',\n",
       " 'unit': 'kilogram',\n",
       " 'type': 'emission'}"
      ]
     },
     "execution_count": 23,
     "metadata": {},
     "output_type": "execute_result"
    }
   ],
   "source": [
    "n20.as_dict()"
   ]
  },
  {
   "cell_type": "markdown",
   "metadata": {
    "deletable": true,
    "editable": true
   },
   "source": [
    "Let's leave the biosphere database here for now."
   ]
  },
  {
   "cell_type": "markdown",
   "metadata": {
    "deletable": true,
    "editable": true
   },
   "source": [
    "##### Methods"
   ]
  },
  {
   "cell_type": "markdown",
   "metadata": {
    "deletable": true,
    "editable": true
   },
   "source": [
    "bw2io.import_ecoinvent_release() also installed LCIA methods."
   ]
  },
  {
   "cell_type": "code",
   "execution_count": 25,
   "metadata": {
    "collapsed": false,
    "deletable": true,
    "editable": true,
    "jupyter": {
     "outputs_hidden": false
    }
   },
   "outputs": [
    {
     "data": {
      "text/plain": [
       "668"
      ]
     },
     "execution_count": 25,
     "metadata": {},
     "output_type": "execute_result"
    }
   ],
   "source": [
    "len(list(bw2data.methods))"
   ]
  },
  {
   "cell_type": "markdown",
   "metadata": {
    "deletable": true,
    "editable": true
   },
   "source": [
    "One can load a random method:"
   ]
  },
  {
   "cell_type": "code",
   "execution_count": 26,
   "metadata": {
    "collapsed": false,
    "deletable": true,
    "editable": true,
    "jupyter": {
     "outputs_hidden": false
    }
   },
   "outputs": [
    {
     "data": {
      "text/plain": [
       "('Ecological Scarcity 2021', 'energy resources', 'energy resources')"
      ]
     },
     "execution_count": 26,
     "metadata": {},
     "output_type": "execute_result"
    }
   ],
   "source": [
    "bw2data.methods.random()"
   ]
  },
  {
   "cell_type": "code",
   "execution_count": 27,
   "metadata": {
    "collapsed": false,
    "deletable": true,
    "editable": true,
    "jupyter": {
     "outputs_hidden": false
    }
   },
   "outputs": [
    {
     "data": {
      "text/plain": [
       "tuple"
      ]
     },
     "execution_count": 27,
     "metadata": {},
     "output_type": "execute_result"
    }
   ],
   "source": [
    "type(bw2data.methods.random())"
   ]
  },
  {
   "cell_type": "markdown",
   "metadata": {
    "deletable": true,
    "editable": true
   },
   "source": [
    "Here, the random method returns the tuple by which the method is identified. To get to an actual method, the following syntax is used:"
   ]
  },
  {
   "cell_type": "code",
   "execution_count": 28,
   "metadata": {
    "collapsed": false,
    "deletable": true,
    "editable": true,
    "jupyter": {
     "outputs_hidden": false
    }
   },
   "outputs": [],
   "source": [
    "en15804 = bw2data.Method(('EN15804',\n",
    "  'inventory indicators ISO21930',\n",
    "  'use of renewable secondary fuels'),)"
   ]
  },
  {
   "cell_type": "code",
   "execution_count": 29,
   "metadata": {},
   "outputs": [
    {
     "data": {
      "text/plain": [
       "bw2data.method.Method"
      ]
     },
     "execution_count": 29,
     "metadata": {},
     "output_type": "execute_result"
    }
   ],
   "source": [
    "type(en15804)"
   ]
  },
  {
   "cell_type": "code",
   "execution_count": 30,
   "metadata": {},
   "outputs": [
    {
     "data": {
      "text/plain": [
       "{'unit': 'MJ',\n",
       " 'filepath': '/Users/romain/Library/Application Support/EcoinventInterface/cache/ecoinvent 3.10_LCIA_implementation/LCIA Implementation 3.10.xlsx',\n",
       " 'ecoinvent_version': '3.10',\n",
       " 'database': 'biosphere',\n",
       " 'abbreviation': 'en15804iu.82fc686c54d5ed64e287df03d0d3f2bb',\n",
       " 'num_cfs': 1}"
      ]
     },
     "execution_count": 30,
     "metadata": {},
     "output_type": "execute_result"
    }
   ],
   "source": [
    "en15804.metadata"
   ]
  },
  {
   "cell_type": "markdown",
   "metadata": {
    "deletable": true,
    "editable": true
   },
   "source": [
    "Of course, a random method is probably not useful except to play around. To find an actual method, one can again use list comprehensions. Let's say I am interested in using the IPCC 2021 100 years method:"
   ]
  },
  {
   "cell_type": "code",
   "execution_count": 31,
   "metadata": {
    "collapsed": false,
    "deletable": true,
    "editable": true,
    "jupyter": {
     "outputs_hidden": false
    }
   },
   "outputs": [
    {
     "data": {
      "text/plain": [
       "[('IPCC 2021',\n",
       "  'climate change',\n",
       "  'global temperature change potential (GTP100)'),\n",
       " ('IPCC 2021', 'climate change', 'global warming potential (GWP100)'),\n",
       " ('IPCC 2021',\n",
       "  'climate change: biogenic',\n",
       "  'global temperature change potential (GTP100)'),\n",
       " ('IPCC 2021',\n",
       "  'climate change: biogenic',\n",
       "  'global warming potential (GWP100)'),\n",
       " ('IPCC 2021',\n",
       "  'climate change: biogenic, including SLCFs',\n",
       "  'global temperature change potential (GTP100)'),\n",
       " ('IPCC 2021',\n",
       "  'climate change: biogenic, including SLCFs',\n",
       "  'global warming potential (GWP100)'),\n",
       " ('IPCC 2021',\n",
       "  'climate change: fossil',\n",
       "  'global temperature change potential (GTP100)'),\n",
       " ('IPCC 2021', 'climate change: fossil', 'global warming potential (GWP100)'),\n",
       " ('IPCC 2021',\n",
       "  'climate change: fossil, including SLCFs',\n",
       "  'global temperature change potential (GTP100)'),\n",
       " ('IPCC 2021',\n",
       "  'climate change: fossil, including SLCFs',\n",
       "  'global warming potential (GWP100)'),\n",
       " ('IPCC 2021',\n",
       "  'climate change: including SLCFs',\n",
       "  'global temperature change potential (GTP100)'),\n",
       " ('IPCC 2021',\n",
       "  'climate change: including SLCFs',\n",
       "  'global warming potential (GWP100)'),\n",
       " ('IPCC 2021',\n",
       "  'climate change: land use',\n",
       "  'global temperature change potential (GTP100)'),\n",
       " ('IPCC 2021',\n",
       "  'climate change: land use',\n",
       "  'global warming potential (GWP100)'),\n",
       " ('IPCC 2021',\n",
       "  'climate change: land use, including SLCFs',\n",
       "  'global temperature change potential (GTP100)'),\n",
       " ('IPCC 2021',\n",
       "  'climate change: land use, including SLCFs',\n",
       "  'global warming potential (GWP100)')]"
      ]
     },
     "execution_count": 31,
     "metadata": {},
     "output_type": "execute_result"
    }
   ],
   "source": [
    "[m for m in bw2data.methods if 'IPCC' in str(m) and ('2021') in str(m) and '100' in str(m) and \"LT\" not in str(m)]"
   ]
  },
  {
   "cell_type": "markdown",
   "metadata": {
    "deletable": true,
    "editable": true
   },
   "source": [
    "I am interested in the second of these, and will assign it to a variable. I can will refine my search until there is one element in my list and then choose it by subscripting."
   ]
  },
  {
   "cell_type": "code",
   "execution_count": 32,
   "metadata": {
    "collapsed": false,
    "jupyter": {
     "outputs_hidden": false
    }
   },
   "outputs": [
    {
     "data": {
      "text/plain": [
       "[('IPCC 2021', 'climate change', 'global warming potential (GWP100)'),\n",
       " ('IPCC 2021',\n",
       "  'climate change: biogenic',\n",
       "  'global warming potential (GWP100)'),\n",
       " ('IPCC 2021', 'climate change: fossil', 'global warming potential (GWP100)'),\n",
       " ('IPCC 2021',\n",
       "  'climate change: land use',\n",
       "  'global warming potential (GWP100)')]"
      ]
     },
     "execution_count": 32,
     "metadata": {},
     "output_type": "execute_result"
    }
   ],
   "source": [
    "[m for m in bw2data.methods if 'IPCC' in m[0]\n",
    "                        and ('2021') in str(m)\n",
    "                        and 'GWP100' in str(m)\n",
    "                        and 'no LT' not in str(m)\n",
    "                        and 'SLCF' not in str(m)\n",
    "]"
   ]
  },
  {
   "cell_type": "code",
   "execution_count": 33,
   "metadata": {
    "collapsed": false,
    "deletable": true,
    "editable": true,
    "jupyter": {
     "outputs_hidden": false
    }
   },
   "outputs": [],
   "source": [
    "# Good, now let's choose it:\n",
    "ipcc2021 = [m for m in bw2data.methods if 'IPCC' in m[0]\n",
    "                    and ('2021') in str(m)\n",
    "                    and 'GWP100' in str(m)\n",
    "                    and 'no LT' not in str(m)\n",
    "                    and 'SLCF' not in str(m)\n",
    "           ][0]"
   ]
  },
  {
   "cell_type": "markdown",
   "metadata": {
    "deletable": true,
    "editable": true
   },
   "source": [
    "Of course, if I know exactly the method I want, and I know the syntax, I can simply type it out: `('IPCC 2021', 'climate change', 'GWP 100a')`"
   ]
  },
  {
   "cell_type": "code",
   "execution_count": 34,
   "metadata": {
    "collapsed": false,
    "deletable": true,
    "editable": true,
    "jupyter": {
     "outputs_hidden": false
    }
   },
   "outputs": [
    {
     "data": {
      "text/plain": [
       "tuple"
      ]
     },
     "execution_count": 34,
     "metadata": {},
     "output_type": "execute_result"
    }
   ],
   "source": [
    "type(ipcc2021)"
   ]
  },
  {
   "cell_type": "code",
   "execution_count": 35,
   "metadata": {
    "deletable": true,
    "editable": true,
    "tags": []
   },
   "outputs": [],
   "source": [
    "ipcc_2021_method = bw2data.Method(ipcc2021)"
   ]
  },
  {
   "cell_type": "code",
   "execution_count": 36,
   "metadata": {
    "collapsed": false,
    "deletable": true,
    "editable": true,
    "jupyter": {
     "outputs_hidden": false
    }
   },
   "outputs": [
    {
     "data": {
      "text/plain": [
       "bw2data.method.Method"
      ]
     },
     "execution_count": 36,
     "metadata": {},
     "output_type": "execute_result"
    }
   ],
   "source": [
    "type(ipcc_2021_method)"
   ]
  },
  {
   "cell_type": "markdown",
   "metadata": {
    "deletable": true,
    "editable": true
   },
   "source": [
    "Again, there are a bunch of methods associated with a method object. You can access these by typing ipcc_2013_method. and clicking tab.  \n",
    "For example, metadata:"
   ]
  },
  {
   "cell_type": "code",
   "execution_count": 37,
   "metadata": {
    "collapsed": false,
    "deletable": true,
    "editable": true,
    "jupyter": {
     "outputs_hidden": false
    }
   },
   "outputs": [
    {
     "data": {
      "text/plain": [
       "('IPCC 2021', 'climate change', 'global warming potential (GWP100)')"
      ]
     },
     "execution_count": 37,
     "metadata": {},
     "output_type": "execute_result"
    }
   ],
   "source": [
    "ipcc_2021_method.name"
   ]
  },
  {
   "cell_type": "code",
   "execution_count": 38,
   "metadata": {
    "collapsed": false,
    "deletable": true,
    "editable": true,
    "jupyter": {
     "outputs_hidden": false
    }
   },
   "outputs": [
    {
     "data": {
      "text/plain": [
       "{'unit': 'kg CO2-Eq',\n",
       " 'filepath': '/Users/romain/Library/Application Support/EcoinventInterface/cache/ecoinvent 3.10_LCIA_implementation/LCIA Implementation 3.10.xlsx',\n",
       " 'ecoinvent_version': '3.10',\n",
       " 'database': 'biosphere',\n",
       " 'abbreviation': 'ipcc-2021cg.7f3bec1f3f63e5211c9815c52a5f928c',\n",
       " 'num_cfs': 184}"
      ]
     },
     "execution_count": 38,
     "metadata": {},
     "output_type": "execute_result"
    }
   ],
   "source": [
    "ipcc_2021_method.metadata"
   ]
  },
  {
   "cell_type": "code",
   "execution_count": null,
   "metadata": {
    "collapsed": false,
    "deletable": true,
    "editable": true,
    "jupyter": {
     "outputs_hidden": false
    }
   },
   "outputs": [],
   "source": [
    "ipcc_2021_method.metadata['unit']"
   ]
  },
  {
   "cell_type": "markdown",
   "metadata": {
    "deletable": true,
    "editable": true
   },
   "source": [
    "Question: where is this metadata?"
   ]
  },
  {
   "cell_type": "markdown",
   "metadata": {
    "deletable": true,
    "editable": true
   },
   "source": [
    "Let's use the `load` method to see what is in the object:"
   ]
  },
  {
   "cell_type": "code",
   "execution_count": 39,
   "metadata": {
    "collapsed": false,
    "deletable": true,
    "editable": true,
    "jupyter": {
     "outputs_hidden": false
    }
   },
   "outputs": [
    {
     "data": {
      "text/plain": [
       "[(('biosphere', '647ae26f-f2fe-44cb-ac81-39bb7736f28e'), 1530.0),\n",
       " (('biosphere', '16fcd4f9-0bb8-4b84-8334-3ffb1a17aa74'), 1530.0),\n",
       " (('biosphere', 'e87f039d-d9ce-4242-ac18-c9284cc80f3d'), 1530.0),\n",
       " (('biosphere', 'fa0c2bee-8dd9-4f8a-8489-b1f3b43de958'), 1530.0),\n",
       " (('biosphere', 'f8ee4881-a003-4e18-aa2a-d9daf97d76f7'), 161.0),\n",
       " (('biosphere', '99585564-bfce-4845-9aaa-2f24b8f26a41'), 161.0),\n",
       " (('biosphere', 'ce6294f5-2ed7-46ee-a967-33e265e34455'), 161.0),\n",
       " (('biosphere', '818cee9e-231c-4b53-8ed2-47a0001802d5'), 161.0),\n",
       " (('biosphere', 'bf580c6b-1b4d-429d-bed7-1e335920941f'), 5810.0),\n",
       " (('biosphere', '5253e322-7de5-42aa-9167-daf22ff44031'), 5810.0),\n",
       " (('biosphere', 'e86bfec2-1025-4fa2-90b1-81e35e621e91'), 5810.0),\n",
       " (('biosphere', 'f43b2b80-f5a6-4d31-9980-0754305a978d'), 5810.0),\n",
       " (('biosphere', 'd2025041-20ee-41bb-b2c8-47631e839ff0'), 6520.0),\n",
       " (('biosphere', '47c12d99-c2dc-41cf-bad1-cd31c2fe0421'), 6520.0),\n",
       " (('biosphere', 'cacfd448-6c2d-4061-9363-fd506b979f25'), 6520.0),\n",
       " (('biosphere', '9b132374-dce2-4ce0-86aa-53201b30f617'), 6520.0),\n",
       " (('biosphere', 'b018c97d-8fea-4258-b4d3-6a65669c77f4'), 860.0),\n",
       " (('biosphere', '416eedbd-a7b4-4693-8031-9bfaa2f20ebc'), 860.0),\n",
       " (('biosphere', '843fd145-61ac-4fa7-a608-ce4ac4d88d49'), 860.0),\n",
       " (('biosphere', '033d3a16-e1a2-4ce8-8769-f4ea867801ca'), 860.0),\n",
       " (('biosphere', '94ca9e00-5268-4663-a0cd-25026c7c6b53'), 164.0),\n",
       " (('biosphere', '1c4a106a-53bc-40f5-bcae-d30ab191dbfe'), 164.0),\n",
       " (('biosphere', '9cf9bf0e-86fe-42c0-90cc-bfed96fbdc8f'), 164.0),\n",
       " (('biosphere', '393d0862-04cc-45ae-8d08-9dc2a4461b35'), 164.0),\n",
       " (('biosphere', '1e060d5a-cd41-4f30-9c93-272403b7e004'), 9430.0),\n",
       " (('biosphere', '1584734d-c5c8-42a5-aa51-0f6a92a9cc0d'), 9430.0),\n",
       " (('biosphere', '8a3a44e4-e2f1-476d-9e9e-a90fda263fe3'), 9430.0),\n",
       " (('biosphere', '3b30d058-02ef-4ed2-b357-5fc1a45c63e7'), 9430.0),\n",
       " (('biosphere', '50432644-8568-444e-b7e7-8e37a7e1f3e3'), 2300.0),\n",
       " (('biosphere', '95b6f6da-49f9-413d-8ff5-5342d6cff588'), 2300.0),\n",
       " (('biosphere', 'ba781ac6-cdf1-4a09-86b5-76b19ed3438b'), 2300.0),\n",
       " (('biosphere', '400be66e-4383-482a-93e3-c005e96de261'), 2300.0),\n",
       " (('biosphere', 'f322122f-3059-4cfb-8754-efc82548e7f0'), 90.4),\n",
       " (('biosphere', '2cbc6042-2cee-4668-8017-d7f805d9029e'), 90.4),\n",
       " (('biosphere', '050da0cd-2957-45a9-ae7a-ace372083fe5'), 90.4),\n",
       " (('biosphere', 'db907ff7-6cf0-4f88-9376-116262dfad6d'), 90.4),\n",
       " (('biosphere', '0bf92802-8b5e-43f5-a261-95c06bd5c551'), 597.0),\n",
       " (('biosphere', '71a6ea76-6642-4573-bed2-c1884e6792fd'), 597.0),\n",
       " (('biosphere', '60268f3d-468b-487e-acb1-24d7250cb6b3'), 597.0),\n",
       " (('biosphere', '27f61651-96a5-45c7-9873-832626cf6905'), 597.0),\n",
       " (('biosphere', 'f2e4394f-61bb-5493-983d-d3d5b7b96a41'), 0.052),\n",
       " (('biosphere', 'f4a1e10b-ed51-433e-a2f5-2a99f231a5e5'), 0.006),\n",
       " (('biosphere', 'fa5512cf-04a2-4014-8e96-d3e2d137f0df'), 0.006),\n",
       " (('biosphere', '982b0510-96ac-4bcb-a758-e98006b95f4d'), 0.006),\n",
       " (('biosphere', '892f10da-7bf2-42b3-b171-221989661a05'), 0.006),\n",
       " (('biosphere', 'e259263c-d1f1-449f-bb9b-73c6d0a32a00'), 1.0),\n",
       " (('biosphere', '16eeda8a-1ea2-408e-ab37-2648495058dd'), 1.0),\n",
       " (('biosphere', 'aa7cac3a-3625-41d4-bc54-33e2cf11ec46'), 1.0),\n",
       " (('biosphere', '349b29d1-3e58-4c66-98b9-9d1a076efd2e'), 1.0),\n",
       " (('biosphere', 'f9749677-9c9f-4678-ab55-c607dfdc2cb9'), 1.0),\n",
       " (('biosphere', 'e1c597cc-14cb-4ebb-af07-7a93a5b77d34'), 1.0),\n",
       " (('biosphere', '78eb1859-abd9-44c6-9ce3-f3b5b33d619c'), 1.0),\n",
       " (('biosphere', 'e4e9febc-07c1-403d-8d3a-6707bb4d96e6'), 1.0),\n",
       " (('biosphere', 'e8787b5e-d927-446d-81a9-f56977bbfeb4'), 1.0),\n",
       " (('biosphere', '259cf8d6-6ea8-4ccf-84b7-23c930a5b2b3'), -1.0),\n",
       " (('biosphere', '8ae4d8bb-3e4b-4825-8325-94696d7a64fd'), -1.0),\n",
       " (('biosphere', '60d424f7-d5a9-4549-9540-da06684bc3bb'), -1.0),\n",
       " (('biosphere', '375bc95e-6596-4aa1-9716-80ff51b9da77'), -1.0),\n",
       " (('biosphere', 'ba5c9458-44df-4d93-a7c3-9389f65166d8'), 2200.0),\n",
       " (('biosphere', '0f9f3e17-eb81-4adb-8170-049bc6b66728'), 2200.0),\n",
       " (('biosphere', '86d12e70-0c64-4ecf-ba52-114fa0c5d402'), 2200.0),\n",
       " (('biosphere', '5c97dd6c-aaa5-4477-aaf8-dbd0674499c4'), 2200.0),\n",
       " (('biosphere', '8b1912e7-fa62-4fa7-9d33-46da503ad788'), 79.4),\n",
       " (('biosphere', '46ecffe9-d6c6-4763-b575-dd73d5bdd727'), 79.4),\n",
       " (('biosphere', '5eafb840-6f50-418d-98bd-27b86f75613c'), 79.4),\n",
       " (('biosphere', '5fa05c4f-8766-41ff-9dd1-fa47c0b7ea48'), 79.4),\n",
       " (('biosphere', '9b505d7c-4239-40e0-9dbe-55d38f3b85b3'), 1960.0),\n",
       " (('biosphere', '56b7d3b6-83d7-42b0-a65b-5ad23e29db47'), 1960.0),\n",
       " (('biosphere', '18c582fe-7336-4138-8797-2db8b7a754c7'), 1960.0),\n",
       " (('biosphere', '8ca6c84b-7f56-47e6-8d17-4f2dbc49a943'), 1960.0),\n",
       " (('biosphere', '78259cf2-1bb2-41ec-941c-9d70909df094'), 20.6),\n",
       " (('biosphere', 'fa9b9736-6de8-4bd6-ba22-1bd78c798373'), 20.6),\n",
       " (('biosphere', 'fbf6ab3a-74e3-4cbe-b61d-959728bdce46'), 20.6),\n",
       " (('biosphere', '4cadbc9f-0472-4bb9-a942-df5b90e37878'), 20.6),\n",
       " (('biosphere', '77baca1e-1fb6-49f0-8799-c37f3c31debb'), 5.54),\n",
       " (('biosphere', '5dfb74d2-fa15-4f2d-bf7c-5aa45a41ec7f'), 16200.0),\n",
       " (('biosphere', '23a9f33d-dbab-4fcc-8f49-1df731b0b827'), 16200.0),\n",
       " (('biosphere', 'e06e2e1e-ad87-49e2-a184-f2d1c48b7b46'), 16200.0),\n",
       " (('biosphere', '43bc4fc0-bfeb-46d6-b3de-f69c3ccd622a'), 16200.0),\n",
       " (('biosphere', '31f8976a-6f7d-487e-a850-eb495dbf0351'), 12500.0),\n",
       " (('biosphere', 'e93ba406-3df8-4e34-be54-0d556b2bb629'), 12500.0),\n",
       " (('biosphere', 'c0e8ec60-a5ae-432e-97a5-cf76b6247a00'), 12500.0),\n",
       " (('biosphere', '31a3e44c-4098-461e-aba2-f79540e05087'), 12500.0),\n",
       " (('biosphere', '34de4196-871a-4db8-a182-589ab780a935'), 160.0),\n",
       " (('biosphere', '727835b8-c650-4d46-882f-35b2a366b559'), 160.0),\n",
       " (('biosphere', '04a6edb8-624a-484e-8f85-d771657adae7'), 160.0),\n",
       " (('biosphere', '3c8af80d-7ff8-43f4-b1a7-cef73b1b4682'), 160.0),\n",
       " (('biosphere', 'f903c2fb-71bf-4568-99fc-6aa7ed7bc922'), 11.2),\n",
       " (('biosphere', 'd4b61c6c-a620-4a91-afc6-ca87ef97b55a'), 11.2),\n",
       " (('biosphere', '432a3326-73f8-4752-bc4d-06b7b4b1243c'), 11.2),\n",
       " (('biosphere', '2716807d-0266-48ff-bb7a-6e6c5fbfd5c5'), 11.2),\n",
       " (('biosphere', '33a791a2-a1e7-446b-b25a-b3be6159bae4'), 771.0),\n",
       " (('biosphere', '8fbe2c56-c213-4501-b95e-ff57a76fbd6f'), 771.0),\n",
       " (('biosphere', '151212b4-079b-43a2-96d5-a6eef59166ac'), 771.0),\n",
       " (('biosphere', 'c9028b09-c12d-421b-9944-7d145e196ebc'), 771.0),\n",
       " (('biosphere', '81305cda-63f1-4c1a-99c6-2c2568550ec4'), 273.0),\n",
       " (('biosphere', 'afd6d670-bbb0-4625-9730-04088a5b035e'), 273.0),\n",
       " (('biosphere', '20185046-64bb-4c09-a8e7-e8a9e144ca98'), 273.0),\n",
       " (('biosphere', '6dc1b46f-ee89-4495-95c4-b8a637bcd6cb'), 273.0),\n",
       " (('biosphere', '823106de-a29a-481f-8647-728a19b9294d'), 0.437),\n",
       " (('biosphere', 'e7e0031e-791d-42f4-b26c-ec322db637bc'), 0.437),\n",
       " (('biosphere', '8e30c990-5ed4-4f94-9d0e-2f5e4ff1a1f9'), 0.437),\n",
       " (('biosphere', '9ea11aea-7cb7-4b38-b936-a42c2a4bac97'), 0.437),\n",
       " (('biosphere', 'ba3120e9-7412-4517-812c-752edeac5472'), 1.3),\n",
       " (('biosphere', '89324b2f-1e73-4eb1-9716-96b9be0349ac'), 1.3),\n",
       " (('biosphere', '03758df7-503a-400e-bc7b-ec05825761a5'), 1.3),\n",
       " (('biosphere', '468bebea-17ee-49d3-b11d-c603d91c67c8'), 1.3),\n",
       " (('biosphere', 'b7e0bddf-7b8a-43f4-9319-6f4b3d9fa65a'), 12400.0),\n",
       " (('biosphere', '8f3e0579-d07d-48c9-b41a-fb559728f9c0'), 12400.0),\n",
       " (('biosphere', 'acc39720-dda7-4b3a-80c7-c6394cad4191'), 12400.0),\n",
       " (('biosphere', 'df5dd437-2e12-4af6-8f7a-9c8224857dc5'), 12400.0),\n",
       " (('biosphere', '09e231fa-b1c2-4d63-9c57-7ea0e2210858'), 2.43),\n",
       " (('biosphere', '701cda28-4722-431c-b52f-05a735ef5ed3'), 2.43),\n",
       " (('biosphere', '8c283de2-50d3-40c8-8bff-1e172c3398f8'), 2.43),\n",
       " (('biosphere', '4bf1c333-419b-4278-ac14-247c8bf563d6'), 2.43),\n",
       " (('biosphere', '06a4fedf-dab4-4ef1-90df-1d0ce8fe6477'), 1930.0),\n",
       " (('biosphere', '494eb62d-3e16-4a81-b344-6d6dfd9fd4e2'), 1930.0),\n",
       " (('biosphere', 'ee31ac2a-9336-4ed6-8077-9663003bc2f9'), 1930.0),\n",
       " (('biosphere', '816c43d1-bc30-4a72-81db-08cb6be4da4f'), 1930.0),\n",
       " (('biosphere', '96b52062-5e2f-40de-921a-f443c08862e4'), 7200.0),\n",
       " (('biosphere', '82957257-07f3-4536-ac8b-175cb2353c75'), 7200.0),\n",
       " (('biosphere', '4ac2ffc3-312e-4e2d-88c4-2630d4a73d8c'), 7200.0),\n",
       " (('biosphere', '18ddd879-5496-4419-8ab7-e0d3864d977d'), 7200.0),\n",
       " (('biosphere', 'f3bd723a-5276-4ae8-9860-b89537351a90'), 29.8),\n",
       " (('biosphere', '70ef743b-3ed5-4a6d-b192-fb6d62378555'), 29.8),\n",
       " (('biosphere', '0795345f-c7ae-410c-ad25-1845784c75f5'), 29.8),\n",
       " (('biosphere', '5f7aad3d-566c-4d0d-ad59-e765f971aa0f'), 29.8),\n",
       " (('biosphere', 'f757365c-c6fd-41fe-ad32-3594ccd97ef0'), 29.8),\n",
       " (('biosphere', '9541a975-800f-4fed-9edf-28f6e411a015'), 29.8),\n",
       " (('biosphere', '7f0ba7c9-341e-413d-80f6-8753727d65d1'), 29.8),\n",
       " (('biosphere', '299c6564-426e-48c3-b516-fdf301d12127'), 29.8),\n",
       " (('biosphere', '6c977009-5c4e-4901-a4c1-ab20389cb972'), 27.0),\n",
       " (('biosphere', '57bdb443-d4a6-423d-8024-959b8261d02e'), 27.0),\n",
       " (('biosphere', 'da1157e2-7593-4dfd-80dd-a3449b37a4d8'), 27.0),\n",
       " (('biosphere', 'baf58fc9-573c-419c-8c16-831ac03203b9'), 27.0),\n",
       " (('biosphere', '246c87af-4495-4977-8d39-eae397c1c8f1'), 5.54),\n",
       " (('biosphere', 'ed63abd0-7cc6-4825-8759-b367e560fe95'), 5.54),\n",
       " (('biosphere', '18ea247b-edc2-43fe-89bd-cedd04102bcc'), 5.54),\n",
       " (('biosphere', '370447a7-70d1-47bd-8577-0a32c4f53570'), 5.54),\n",
       " (('biosphere', '10e38581-58c8-4b27-85a4-6db6a83286ba'), 0.481),\n",
       " (('biosphere', '1dfddbaf-11aa-4001-89e7-1303b3a95e02'), 0.481),\n",
       " (('biosphere', 'bce77a75-c399-4fa6-94ab-90d0e704ebde'), 0.481),\n",
       " (('biosphere', 'f3f34697-7231-4575-aaf5-e35b972d329a'), 0.481),\n",
       " (('biosphere', '4925cde1-9f43-43d3-bcf1-4865b8de6634'), 9600.0),\n",
       " (('biosphere', '6f8ce7a4-d66a-4593-9314-51778aa09d4b'), 9600.0),\n",
       " (('biosphere', 'ec8789e5-d140-4ca8-b7ef-b3abfd044414'), 9600.0),\n",
       " (('biosphere', '15e54d5b-aba2-40a6-9aa8-aa2b8c432129'), 9600.0),\n",
       " (('biosphere', '4c097625-506e-4dfc-a170-75fda90cf7cb'), 17400.0),\n",
       " (('biosphere', 'f8cf5fd7-9f94-4870-9e6a-768deae9b766'), 17400.0),\n",
       " (('biosphere', 'e79e03c3-5b19-45f6-b3f3-bf710c6663d2'), 17400.0),\n",
       " (('biosphere', '1fdc280a-34d3-4513-b110-3f526b17c443'), 17400.0),\n",
       " (('biosphere', 'dc9520c7-6e4a-42fb-b1f6-9fa8f34667a4'), 3740.0),\n",
       " (('biosphere', '84386543-b148-465b-9265-ad638c12e263'), 3740.0),\n",
       " (('biosphere', '281e1011-f121-4d5b-ad4d-22d562b2c2cd'), 3740.0),\n",
       " (('biosphere', '5d1701c5-c4ef-49c7-8a68-ce7c255eee9f'), 3740.0),\n",
       " (('biosphere', 'e2ccc98a-6d4e-443b-b11f-d16f32782833'), 9220.0),\n",
       " (('biosphere', 'abb87cf5-9e30-4d02-987c-7643510b7013'), 0.02),\n",
       " (('biosphere', '9beb60a3-3a8c-4345-9a0e-107eec2f709f'), 0.02),\n",
       " (('biosphere', '3a6c936c-0276-4f11-9d98-1bd011387a6e'), 0.02),\n",
       " (('biosphere', '98c66fdb-091d-46e9-a533-686f821e8f6a'), 0.02),\n",
       " (('biosphere', 'acbae70a-5450-448f-9038-c403cb496e1a'), 25200.0),\n",
       " (('biosphere', 'c7c769bb-89b9-4459-afed-e3acecd39339'), 25200.0),\n",
       " (('biosphere', '35d1dff5-b535-4628-9826-4a8fce08a1f2'), 25200.0),\n",
       " (('biosphere', '856c9aa2-c20c-49a8-9417-c71bdb5f17b0'), 25200.0),\n",
       " (('biosphere', 'd88b5aeb-d589-4847-b2d4-80ba6a227ab7'), 6.34),\n",
       " (('biosphere', '754028fd-e650-4804-922e-694a764ba578'), 6.34),\n",
       " (('biosphere', '9bc66656-9f37-44bc-ae0b-5d5243b8137e'), 6.34),\n",
       " (('biosphere', 'd2d4b344-3c58-4b0c-868a-ac0bdb2027dc'), 6.34),\n",
       " (('biosphere', 'e59a199f-d4ed-4d43-82b1-71c4a8fae867'), 7380.0),\n",
       " (('biosphere', 'b353e7d2-5b94-4b6e-a3e5-de0a10bef851'), 7380.0),\n",
       " (('biosphere', '33681770-a0e1-4ce8-93c3-941fd607fa5f'), 7380.0),\n",
       " (('biosphere', 'dfe1da1e-7756-4f7e-a393-6d5e2342a962'), 7380.0),\n",
       " (('biosphere', 'd56ddb2e-5087-4118-8359-64fb6cb513f9'), 0.044),\n",
       " (('biosphere', '22698b26-ab11-43eb-a48f-3e46863555cc'), 0.044),\n",
       " (('biosphere', 'a0950325-06dc-5ca0-84b6-983c9e6ccf74'), 0.044),\n",
       " (('biosphere', '0e7c1a7b-cd98-4f8d-a619-a687d3e2cb48'), 0.044),\n",
       " (('biosphere', '3feb6415-ae50-4bb7-b9d1-c18d99f8a87f'), 6230.0),\n",
       " (('biosphere', 'a916ca1b-4ece-4630-a563-ae3253efc04f'), 6230.0),\n",
       " (('biosphere', '51e99a55-bcdb-4d18-9484-6de4b142e09d'), 6230.0),\n",
       " (('biosphere', '33a69662-583b-45b8-8cb9-94f59fca9133'), 6230.0),\n",
       " (('biosphere', 'dc78690a-2b0a-49fc-8272-b811fb25ff6c'), 14600.0),\n",
       " (('biosphere', '5e2e1740-1bb9-4157-b816-6cb5aa006437'), 14600.0),\n",
       " (('biosphere', 'e5ba3517-a93f-422e-9ce2-f1007fcf6c06'), 14600.0),\n",
       " (('biosphere', '8f87dcf1-0177-4d62-bea0-a5dd8647ef8c'), 14600.0)]"
      ]
     },
     "execution_count": 39,
     "metadata": {},
     "output_type": "execute_result"
    }
   ],
   "source": [
    "ipcc_2021_method.load()"
   ]
  },
  {
   "cell_type": "markdown",
   "metadata": {
    "deletable": true,
    "editable": true
   },
   "source": [
    "This contains tuples with (elementary flow keys, characterization factors)."
   ]
  },
  {
   "cell_type": "markdown",
   "metadata": {
    "deletable": true,
    "editable": true
   },
   "source": [
    "##### Nice display of data in methods "
   ]
  },
  {
   "cell_type": "markdown",
   "metadata": {
    "deletable": true,
    "editable": true,
    "solution2": "shown",
    "solution2_first": true
   },
   "source": [
    "**Exercise:** Create a dictionary with keys = elementary flow names and values = characterization factors for the `IPCC GWP100` method."
   ]
  },
  {
   "cell_type": "code",
   "execution_count": 40,
   "metadata": {
    "collapsed": false,
    "deletable": true,
    "editable": true,
    "jupyter": {
     "outputs_hidden": false
    },
    "solution2": "shown"
   },
   "outputs": [
    {
     "data": {
      "text/html": [
       "<div>\n",
       "<style scoped>\n",
       "    .dataframe tbody tr th:only-of-type {\n",
       "        vertical-align: middle;\n",
       "    }\n",
       "\n",
       "    .dataframe tbody tr th {\n",
       "        vertical-align: top;\n",
       "    }\n",
       "\n",
       "    .dataframe thead th {\n",
       "        text-align: right;\n",
       "    }\n",
       "</style>\n",
       "<table border=\"1\" class=\"dataframe\">\n",
       "  <thead>\n",
       "    <tr style=\"text-align: right;\">\n",
       "      <th></th>\n",
       "      <th>flow name</th>\n",
       "      <th>compartment</th>\n",
       "      <th>cf</th>\n",
       "    </tr>\n",
       "  </thead>\n",
       "  <tbody>\n",
       "    <tr>\n",
       "      <th>0</th>\n",
       "      <td>1,1,1,2-Tetrafluoroethane</td>\n",
       "      <td>(air, low population density, long-term)</td>\n",
       "      <td>1530.0</td>\n",
       "    </tr>\n",
       "    <tr>\n",
       "      <th>1</th>\n",
       "      <td>1,1,1,2-Tetrafluoroethane</td>\n",
       "      <td>(air, non-urban air or from high stacks)</td>\n",
       "      <td>1530.0</td>\n",
       "    </tr>\n",
       "    <tr>\n",
       "      <th>2</th>\n",
       "      <td>1,1,1,2-Tetrafluoroethane</td>\n",
       "      <td>(air,)</td>\n",
       "      <td>1530.0</td>\n",
       "    </tr>\n",
       "    <tr>\n",
       "      <th>3</th>\n",
       "      <td>1,1,1,2-Tetrafluoroethane</td>\n",
       "      <td>(air, urban air close to ground)</td>\n",
       "      <td>1530.0</td>\n",
       "    </tr>\n",
       "    <tr>\n",
       "      <th>4</th>\n",
       "      <td>1,1,1-Trichloroethane</td>\n",
       "      <td>(air, low population density, long-term)</td>\n",
       "      <td>161.0</td>\n",
       "    </tr>\n",
       "    <tr>\n",
       "      <th>...</th>\n",
       "      <td>...</td>\n",
       "      <td>...</td>\n",
       "      <td>...</td>\n",
       "    </tr>\n",
       "    <tr>\n",
       "      <th>179</th>\n",
       "      <td>Trichlorofluoromethane</td>\n",
       "      <td>(air, urban air close to ground)</td>\n",
       "      <td>6230.0</td>\n",
       "    </tr>\n",
       "    <tr>\n",
       "      <th>180</th>\n",
       "      <td>Trifluoromethane</td>\n",
       "      <td>(air, low population density, long-term)</td>\n",
       "      <td>14600.0</td>\n",
       "    </tr>\n",
       "    <tr>\n",
       "      <th>181</th>\n",
       "      <td>Trifluoromethane</td>\n",
       "      <td>(air, non-urban air or from high stacks)</td>\n",
       "      <td>14600.0</td>\n",
       "    </tr>\n",
       "    <tr>\n",
       "      <th>182</th>\n",
       "      <td>Trifluoromethane</td>\n",
       "      <td>(air,)</td>\n",
       "      <td>14600.0</td>\n",
       "    </tr>\n",
       "    <tr>\n",
       "      <th>183</th>\n",
       "      <td>Trifluoromethane</td>\n",
       "      <td>(air, urban air close to ground)</td>\n",
       "      <td>14600.0</td>\n",
       "    </tr>\n",
       "  </tbody>\n",
       "</table>\n",
       "<p>184 rows × 3 columns</p>\n",
       "</div>"
      ],
      "text/plain": [
       "                     flow name                               compartment  \\\n",
       "0    1,1,1,2-Tetrafluoroethane  (air, low population density, long-term)   \n",
       "1    1,1,1,2-Tetrafluoroethane  (air, non-urban air or from high stacks)   \n",
       "2    1,1,1,2-Tetrafluoroethane                                    (air,)   \n",
       "3    1,1,1,2-Tetrafluoroethane          (air, urban air close to ground)   \n",
       "4        1,1,1-Trichloroethane  (air, low population density, long-term)   \n",
       "..                         ...                                       ...   \n",
       "179     Trichlorofluoromethane          (air, urban air close to ground)   \n",
       "180           Trifluoromethane  (air, low population density, long-term)   \n",
       "181           Trifluoromethane  (air, non-urban air or from high stacks)   \n",
       "182           Trifluoromethane                                    (air,)   \n",
       "183           Trifluoromethane          (air, urban air close to ground)   \n",
       "\n",
       "          cf  \n",
       "0     1530.0  \n",
       "1     1530.0  \n",
       "2     1530.0  \n",
       "3     1530.0  \n",
       "4      161.0  \n",
       "..       ...  \n",
       "179   6230.0  \n",
       "180  14600.0  \n",
       "181  14600.0  \n",
       "182  14600.0  \n",
       "183  14600.0  \n",
       "\n",
       "[184 rows x 3 columns]"
      ]
     },
     "execution_count": 40,
     "metadata": {},
     "output_type": "execute_result"
    }
   ],
   "source": [
    "list_cf = []\n",
    "for item in ipcc_2021_method.load():\n",
    "    key = item[0]\n",
    "    cf = item[1]\n",
    "    act = bw2data.get_activity(key)\n",
    "    name = act[\"name\"]\n",
    "    category = act[\"categories\"]\n",
    "    list_cf.append([name, category, cf])\n",
    "\n",
    "pd.DataFrame(list_cf, columns=[\"flow name\", \"compartment\", \"cf\"])"
   ]
  },
  {
   "cell_type": "markdown",
   "metadata": {},
   "source": [
    "<div class=\"alert alert-info\">\n",
    "    Note: The <a href=\"https://docs.brightway.dev/en/latest/content/gettingstarted/methods.html\">docs</a> \n",
    "    give good examples on how to use `Method()`, including how to create your own LCIA method.\n",
    "</div>"
   ]
  },
  {
   "cell_type": "markdown",
   "metadata": {
    "deletable": true,
    "editable": true
   },
   "source": [
    "Enough said for now about methods."
   ]
  },
  {
   "cell_type": "markdown",
   "metadata": {
    "deletable": true,
    "editable": true
   },
   "source": [
    "#### 1.4) LCI databases"
   ]
  },
  {
   "cell_type": "markdown",
   "metadata": {
    "deletable": true,
    "editable": true
   },
   "source": [
    "Other code to import LCI databases in other formats are found [here](https://github.com/brightway-lca/brightway2-io/tree/master/bw2io/importers). We'll explore this later."
   ]
  },
  {
   "cell_type": "markdown",
   "metadata": {
    "deletable": true,
    "editable": true
   },
   "source": [
    "*We created* a new project, so let's make sure we set it as the \"current\" project."
   ]
  },
  {
   "cell_type": "code",
   "execution_count": 41,
   "metadata": {
    "collapsed": false,
    "deletable": true,
    "editable": true,
    "jupyter": {
     "outputs_hidden": false
    }
   },
   "outputs": [
    {
     "data": {
      "text/plain": [
       "Databases dictionary with 2 object(s):\n",
       "\tbiosphere\n",
       "\tecoinvent-3.10-cutoff"
      ]
     },
     "execution_count": 41,
     "metadata": {},
     "output_type": "execute_result"
    }
   ],
   "source": [
    "bw2data.databases"
   ]
  },
  {
   "cell_type": "markdown",
   "metadata": {
    "deletable": true,
    "editable": true
   },
   "source": [
    "To access the actual database, you need to use the Database method: "
   ]
  },
  {
   "cell_type": "markdown",
   "metadata": {
    "deletable": true,
    "editable": true
   },
   "source": [
    "Let's assign the database to a variable and see what we can do:"
   ]
  },
  {
   "cell_type": "code",
   "execution_count": 42,
   "metadata": {
    "collapsed": false,
    "deletable": true,
    "editable": true,
    "jupyter": {
     "outputs_hidden": false
    }
   },
   "outputs": [],
   "source": [
    "eidb = bw2data.Database('ecoinvent-3.10-cutoff')"
   ]
  },
  {
   "cell_type": "code",
   "execution_count": 43,
   "metadata": {
    "collapsed": false,
    "deletable": true,
    "editable": true,
    "jupyter": {
     "outputs_hidden": false
    }
   },
   "outputs": [
    {
     "data": {
      "text/plain": [
       "23523"
      ]
     },
     "execution_count": 43,
     "metadata": {},
     "output_type": "execute_result"
    }
   ],
   "source": [
    "# Check the length of the database:\n",
    "len(eidb)"
   ]
  },
  {
   "cell_type": "markdown",
   "metadata": {
    "deletable": true,
    "editable": true
   },
   "source": [
    "Again, we can get an idea of useful methods and attributes by typing eidb. and Tab. Do this now."
   ]
  },
  {
   "cell_type": "code",
   "execution_count": 46,
   "metadata": {
    "deletable": true,
    "editable": true
   },
   "outputs": [
    {
     "data": {
      "text/plain": [
       "'clear-cutting, secondary forest to arable land, perennial crop' (kilogram, GH, None)"
      ]
     },
     "execution_count": 46,
     "metadata": {},
     "output_type": "execute_result"
    }
   ],
   "source": [
    "eidb.random() #Press tab!"
   ]
  },
  {
   "cell_type": "markdown",
   "metadata": {
    "deletable": true,
    "editable": true
   },
   "source": [
    "##### LCI activities"
   ]
  },
  {
   "cell_type": "markdown",
   "metadata": {
    "deletable": true,
    "editable": true
   },
   "source": [
    "In the context of LCI databases, activities are the nodes \"within the technosphere\". They are therefore the columns in the technosphere matrix $A$.  \n",
    "There are different ways to get access to an activity. Let's use the `random()` method for now to explore a random activity in the ecoinvent database."
   ]
  },
  {
   "cell_type": "code",
   "execution_count": 53,
   "metadata": {
    "deletable": true,
    "editable": true,
    "tags": []
   },
   "outputs": [],
   "source": [
    "random_act = eidb.random()"
   ]
  },
  {
   "cell_type": "code",
   "execution_count": 54,
   "metadata": {
    "collapsed": false,
    "deletable": true,
    "editable": true,
    "jupyter": {
     "outputs_hidden": false
    }
   },
   "outputs": [
    {
     "data": {
      "text/plain": [
       "'hydrogen cyanide production' (kilogram, RoW, None)"
      ]
     },
     "execution_count": 54,
     "metadata": {},
     "output_type": "execute_result"
    }
   ],
   "source": [
    "random_act"
   ]
  },
  {
   "cell_type": "code",
   "execution_count": 55,
   "metadata": {
    "collapsed": false,
    "deletable": true,
    "editable": true,
    "jupyter": {
     "outputs_hidden": false
    }
   },
   "outputs": [
    {
     "data": {
      "text/plain": [
       "bw2data.backends.peewee.proxies.Activity"
      ]
     },
     "execution_count": 55,
     "metadata": {},
     "output_type": "execute_result"
    }
   ],
   "source": [
    "type(random_act)"
   ]
  },
  {
   "cell_type": "markdown",
   "metadata": {
    "deletable": true,
    "editable": true
   },
   "source": [
    "To see what is stored in an activity object, let's convert our random act in a dictionary: "
   ]
  },
  {
   "cell_type": "code",
   "execution_count": 56,
   "metadata": {
    "collapsed": false,
    "deletable": true,
    "editable": true,
    "jupyter": {
     "outputs_hidden": false
    }
   },
   "outputs": [
    {
     "name": "stdout",
     "output_type": "stream",
     "text": [
      "{'activity': '936311bc-7e76-5af9-a430-6b63b4e86dcc',\n",
      " 'activity type': 'ordinary transforming activity',\n",
      " 'authors': {'data entry': {'email': 'support@ecoinvent.org',\n",
      "                            'name': '[System]'},\n",
      "             'data generator': {'email': 'roland.hischier@empa.ch',\n",
      "                                'name': 'Roland Hischier'}},\n",
      " 'classifications': [('EcoSpold01Categories', 'chemicals/organics'),\n",
      "                     ('ISIC rev.4 ecoinvent',\n",
      "                      '2011:Manufacture of basic chemicals'),\n",
      "                     ('CPC',\n",
      "                      '34270: Cyanides, cyanide oxides and complex cyanides; '\n",
      "                      'fulminates, cyanates and thiocyanates; silicates; '\n",
      "                      'borates; perb[…]')],\n",
      " 'code': 'b021310973a616b11d1976cb21011ce2',\n",
      " 'comment': 'Data are derived from the Eco-profiles of the European plastics '\n",
      "            'industry (PlasticsEurope). Not included are the values reported '\n",
      "            'for: recyclable wastes, amount of air / N2 / O2 consumed, '\n",
      "            'unspecified metal emission to air and to water, mercaptan '\n",
      "            'emission to air, unspecified CFC/HCFC emission to air, dioxin to '\n",
      "            'water. The amount of \"sulphur (bonded)\" is assumed to be included '\n",
      "            'into the amount of raw oil.\\n'\n",
      "            '[This dataset was already contained in the ecoinvent database '\n",
      "            'version 2. It was not individually updated during the transfer to '\n",
      "            'ecoinvent version 3. Life Cycle Impact Assessment results may '\n",
      "            'still have changed, as they are affected by changes in the supply '\n",
      "            'chain, i.e. in other datasets. This dataset was generated '\n",
      "            'following the ecoinvent quality guidelines for version 2. It may '\n",
      "            'have been subject to central changes described in the ecoinvent '\n",
      "            'version 3 change report '\n",
      "            '(http://www.ecoinvent.org/database/ecoinvent-version-3/reports-of-changes/), '\n",
      "            'and the results of the central updates were reviewed extensively. '\n",
      "            'The changes added e.g. consistent water flows and other '\n",
      "            'information throughout the database. The documentation of this '\n",
      "            'dataset can be found in the ecoinvent reports of version 2, which '\n",
      "            'are still available via the ecoinvent website. The change report '\n",
      "            'linked above covers all central changes that were made during the '\n",
      "            'conversion process.]\\n'\n",
      "            'Geography:  3 European plants (GB, F, D)\\n'\n",
      "            'Technology:  production by reaction of methane with ammonia\\n'\n",
      "            'Time period:  time to which data refer',\n",
      " 'database': 'ecoinvent-3.10-cutoff',\n",
      " 'filename': '936311bc-7e76-5af9-a430-6b63b4e86dcc_090bf091-edba-4f7e-93dd-19eb43cb2123.spold',\n",
      " 'flow': '090bf091-edba-4f7e-93dd-19eb43cb2123',\n",
      " 'location': 'RoW',\n",
      " 'name': 'hydrogen cyanide production',\n",
      " 'parameters': [{'amount': 0.032,\n",
      "                 'comment': 'Calculated based on literature value (Scown, '\n",
      "                            'C.D., 2011, Water Footprint of U.S. '\n",
      "                            'Transportation Fuels and supplying information of '\n",
      "                            'the article) (Vionnet, S., Quantis Water Database '\n",
      "                            '- Technical Report, 2012). ',\n",
      "                 'description': 'fraction, cooling water, cooling pond system, '\n",
      "                                'to air',\n",
      "                 'id': '606c3625-2a78-4202-87a6-16f43eec86c3',\n",
      "                 'loc': -3.44,\n",
      "                 'name': 'fraction_CW_CP_to_air',\n",
      "                 'pedigree': {'completeness': 3,\n",
      "                              'further technological correlation': 1,\n",
      "                              'geographical correlation': 3,\n",
      "                              'reliability': 2,\n",
      "                              'temporal correlation': 1},\n",
      "                 'scale': 0.20322401432901577,\n",
      "                 'scale without pedigree': 0.2,\n",
      "                 'uncertainty type': 2,\n",
      "                 'unit': 'dimensionless'},\n",
      "                {'amount': 0.004,\n",
      "                 'comment': 'Calculated based on literature value (Scown, '\n",
      "                            'C.D., 2011, Water Footprint of U.S. '\n",
      "                            'Transportation Fuels and supplying information of '\n",
      "                            'the article) (Vionnet, S., Quantis Water Database '\n",
      "                            '- Technical Report, 2012). ',\n",
      "                 'description': 'fraction, cooling water, once-through system, '\n",
      "                                'to air',\n",
      "                 'id': '0b267c5e-0421-434c-8209-62d70a1f2f07',\n",
      "                 'loc': -5.52,\n",
      "                 'name': 'fraction_CW_OT_to_air',\n",
      "                 'pedigree': {'completeness': 3,\n",
      "                              'further technological correlation': 1,\n",
      "                              'geographical correlation': 3,\n",
      "                              'reliability': 2,\n",
      "                              'temporal correlation': 1},\n",
      "                 'scale': 0.20322401432901577,\n",
      "                 'scale without pedigree': 0.2,\n",
      "                 'uncertainty type': 2,\n",
      "                 'unit': 'dimensionless'},\n",
      "                {'amount': 0.771,\n",
      "                 'comment': 'Calculated based on literature value (Scown, '\n",
      "                            'C.D., 2011, Water Footprint of U.S. '\n",
      "                            'Transportation Fuels and supplying information of '\n",
      "                            'the article) (Vionnet, S., Quantis Water Database '\n",
      "                            '- Technical Report, 2012). ',\n",
      "                 'description': 'fraction, cooling water, recirculating '\n",
      "                                'system, to air',\n",
      "                 'id': 'e952df4c-1ca5-4710-9f53-be47be9191c1',\n",
      "                 'loc': -0.26,\n",
      "                 'name': 'fraction_CW_R_to_air',\n",
      "                 'pedigree': {'completeness': 3,\n",
      "                              'further technological correlation': 1,\n",
      "                              'geographical correlation': 3,\n",
      "                              'reliability': 2,\n",
      "                              'temporal correlation': 1},\n",
      "                 'scale': 0.20322401432901577,\n",
      "                 'scale without pedigree': 0.2,\n",
      "                 'uncertainty type': 2,\n",
      "                 'unit': 'dimensionless'},\n",
      "                {'amount': 0.3875,\n",
      "                 'comment': 'Calculated value based on literature value (see '\n",
      "                            'comments of the other parametres present in this '\n",
      "                            'dataset) and expert opinion. In the case when no '\n",
      "                            'industry/literature data are available about the '\n",
      "                            'type of cooling or directly fraction, cooling '\n",
      "                            'water, to air specific for the process a default '\n",
      "                            'assumption is applied. It is assumed that the '\n",
      "                            'once-through cooling system is used in 50% of all '\n",
      "                            'cases and recirculating system is used in another '\n",
      "                            '50% of all cases. ',\n",
      "                 'description': 'fraction, cooling water, to air',\n",
      "                 'id': 'd1efa4be-e613-43fd-9d73-e8b92b39b283',\n",
      "                 'loc': -0.95,\n",
      "                 'name': 'fraction_CW_to_air',\n",
      "                 'pedigree': {'completeness': 4,\n",
      "                              'further technological correlation': 4,\n",
      "                              'geographical correlation': 2,\n",
      "                              'reliability': 4,\n",
      "                              'temporal correlation': 3},\n",
      "                 'scale': 0.30335622624235026,\n",
      "                 'scale without pedigree': 0.2,\n",
      "                 'uncertainty type': 2,\n",
      "                 'unit': 'dimensionless'},\n",
      "                {'amount': 0.205,\n",
      "                 'description': 'fraction, process water, to air',\n",
      "                 'id': 'daadf2d4-7bbb-4f69-8ab5-58df4c1685eb',\n",
      "                 'loc': -1.58,\n",
      "                 'name': 'fraction_PW_to_air',\n",
      "                 'pedigree': {'completeness': 4,\n",
      "                              'further technological correlation': 4,\n",
      "                              'geographical correlation': 2,\n",
      "                              'reliability': 4,\n",
      "                              'temporal correlation': 3},\n",
      "                 'scale': 0.30335622624235026,\n",
      "                 'scale without pedigree': 0.2,\n",
      "                 'uncertainty type': 2,\n",
      "                 'unit': 'dimensionless'}],\n",
      " 'production amount': 1.0,\n",
      " 'reference product': 'hydrogen cyanide',\n",
      " 'synonyms': [],\n",
      " 'type': 'process',\n",
      " 'unit': 'kilogram'}\n"
     ]
    }
   ],
   "source": [
    "from pprint import pprint\n",
    "pprint(random_act.as_dict())"
   ]
  },
  {
   "cell_type": "code",
   "execution_count": null,
   "metadata": {},
   "outputs": [],
   "source": [
    "random_act = eidb.random()\n",
    "random_act"
   ]
  },
  {
   "cell_type": "code",
   "execution_count": 57,
   "metadata": {},
   "outputs": [
    {
     "data": {
      "text/plain": [
       "<bw2data.backends.peewee.proxies.Exchanges at 0x1415b65d0>"
      ]
     },
     "execution_count": 57,
     "metadata": {},
     "output_type": "execute_result"
    }
   ],
   "source": [
    "random_act.exchanges()"
   ]
  },
  {
   "cell_type": "code",
   "execution_count": 63,
   "metadata": {},
   "outputs": [
    {
     "name": "stdout",
     "output_type": "stream",
     "text": [
      "hydrogen cyanide  |  hydrogen cyanide production  |  hydrogen cyanide production\n",
      "average incineration residue  |  market for average incineration residue  |  hydrogen cyanide production\n",
      "coal slurry  |  market for coal slurry  |  hydrogen cyanide production\n",
      "decommissioned chemical production facilities  |  market for decommissioned chemical production facilities  |  hydrogen cyanide production\n",
      "hazardous waste, for incineration  |  market for hazardous waste, for incineration  |  hydrogen cyanide production\n",
      "municipal solid waste  |  market for municipal solid waste  |  hydrogen cyanide production\n",
      "municipal solid waste  |  market for municipal solid waste  |  hydrogen cyanide production\n",
      "municipal solid waste  |  market for municipal solid waste  |  hydrogen cyanide production\n",
      "municipal solid waste  |  market for municipal solid waste  |  hydrogen cyanide production\n",
      "municipal solid waste  |  market for municipal solid waste  |  hydrogen cyanide production\n",
      "municipal solid waste  |  market for municipal solid waste  |  hydrogen cyanide production\n",
      "municipal solid waste  |  market for municipal solid waste  |  hydrogen cyanide production\n",
      "municipal solid waste  |  market for municipal solid waste  |  hydrogen cyanide production\n",
      "spoil from hard coal mining  |  market for spoil from hard coal mining  |  hydrogen cyanide production\n",
      "waste plastic, mixture  |  market for waste plastic, mixture  |  hydrogen cyanide production\n",
      "waste plastic, mixture  |  market for waste plastic, mixture  |  hydrogen cyanide production\n",
      "waste plastic, mixture  |  market for waste plastic, mixture  |  hydrogen cyanide production\n",
      "waste plastic, mixture  |  market for waste plastic, mixture  |  hydrogen cyanide production\n",
      "waste plastic, mixture  |  market for waste plastic, mixture  |  hydrogen cyanide production\n",
      "waste plastic, mixture  |  market for waste plastic, mixture  |  hydrogen cyanide production\n",
      "waste plastic, mixture  |  market for waste plastic, mixture  |  hydrogen cyanide production\n",
      "waste wood, untreated  |  market for waste wood, untreated  |  hydrogen cyanide production\n",
      "waste wood, untreated  |  market for waste wood, untreated  |  hydrogen cyanide production\n",
      "waste wood, untreated  |  market for waste wood, untreated  |  hydrogen cyanide production\n",
      "waste wood, untreated  |  market for waste wood, untreated  |  hydrogen cyanide production\n",
      "waste wood, untreated  |  market for waste wood, untreated  |  hydrogen cyanide production\n",
      "waste wood, untreated  |  market for waste wood, untreated  |  hydrogen cyanide production\n",
      "waste wood, untreated  |  market for waste wood, untreated  |  hydrogen cyanide production\n",
      "Aldehydes, unspecified  |  Aldehydes, unspecified  |  hydrogen cyanide production\n",
      "Ammonia  |  Ammonia  |  hydrogen cyanide production\n",
      "Antimony ion  |  Antimony ion  |  hydrogen cyanide production\n",
      "Arsenic ion  |  Arsenic ion  |  hydrogen cyanide production\n",
      "Benzene  |  Benzene  |  hydrogen cyanide production\n",
      "Cadmium II  |  Cadmium II  |  hydrogen cyanide production\n",
      "Carbon dioxide, fossil  |  Carbon dioxide, fossil  |  hydrogen cyanide production\n",
      "Carbon dioxide, non-fossil  |  Carbon dioxide, non-fossil  |  hydrogen cyanide production\n",
      "Carbon disulfide  |  Carbon disulfide  |  hydrogen cyanide production\n",
      "Carbon monoxide, fossil  |  Carbon monoxide, fossil  |  hydrogen cyanide production\n",
      "Carbon monoxide, non-fossil  |  Carbon monoxide, non-fossil  |  hydrogen cyanide production\n",
      "Chlorine  |  Chlorine  |  hydrogen cyanide production\n",
      "Chromium III  |  Chromium III  |  hydrogen cyanide production\n",
      "Copper ion  |  Copper ion  |  hydrogen cyanide production\n",
      "Cyanide  |  Cyanide  |  hydrogen cyanide production\n",
      "Dichloromethane  |  Dichloromethane  |  hydrogen cyanide production\n",
      "Dinitrogen monoxide  |  Dinitrogen monoxide  |  hydrogen cyanide production\n",
      "Dioxins, measured as 2,3,7,8-tetrachlorodibenzo-p-dioxin  |  Dioxins, measured as 2,3,7,8-tetrachlorodibenzo-p-dioxin  |  hydrogen cyanide production\n",
      "Ethyl benzene  |  Ethyl benzene  |  hydrogen cyanide production\n",
      "Ethylene  |  Ethylene  |  hydrogen cyanide production\n",
      "Ethylene dichloride  |  Ethylene dichloride  |  hydrogen cyanide production\n",
      "Fluorine  |  Fluorine  |  hydrogen cyanide production\n",
      "Hydrocarbons, aliphatic, alkanes, cyclic  |  Hydrocarbons, aliphatic, alkanes, cyclic  |  hydrogen cyanide production\n",
      "Hydrocarbons, aromatic  |  Hydrocarbons, aromatic  |  hydrogen cyanide production\n",
      "Hydrocarbons, chlorinated  |  Hydrocarbons, chlorinated  |  hydrogen cyanide production\n",
      "Hydrochloric acid  |  Hydrochloric acid  |  hydrogen cyanide production\n",
      "Hydrogen  |  Hydrogen  |  hydrogen cyanide production\n",
      "Hydrogen fluoride  |  Hydrogen fluoride  |  hydrogen cyanide production\n",
      "Hydrogen sulfide  |  Hydrogen sulfide  |  hydrogen cyanide production\n",
      "Lead II  |  Lead II  |  hydrogen cyanide production\n",
      "Mercury II  |  Mercury II  |  hydrogen cyanide production\n",
      "Methane, fossil  |  Methane, fossil  |  hydrogen cyanide production\n",
      "Methane, non-fossil  |  Methane, non-fossil  |  hydrogen cyanide production\n",
      "NMVOC, non-methane volatile organic compounds  |  NMVOC, non-methane volatile organic compounds  |  hydrogen cyanide production\n",
      "Nickel II  |  Nickel II  |  hydrogen cyanide production\n",
      "Nitrogen oxides  |  Nitrogen oxides  |  hydrogen cyanide production\n",
      "Particulate Matter, < 2.5 um  |  Particulate Matter, < 2.5 um  |  hydrogen cyanide production\n",
      "Particulate Matter, > 10 um  |  Particulate Matter, > 10 um  |  hydrogen cyanide production\n",
      "Particulate Matter, > 2.5 um and < 10um  |  Particulate Matter, > 2.5 um and < 10um  |  hydrogen cyanide production\n",
      "Propylene  |  Propylene  |  hydrogen cyanide production\n",
      "Selenium IV  |  Selenium IV  |  hydrogen cyanide production\n",
      "Silver I  |  Silver I  |  hydrogen cyanide production\n",
      "Styrene  |  Styrene  |  hydrogen cyanide production\n",
      "Sulfate  |  Sulfate  |  hydrogen cyanide production\n",
      "Sulfur dioxide  |  Sulfur dioxide  |  hydrogen cyanide production\n",
      "Toluene  |  Toluene  |  hydrogen cyanide production\n",
      "Vinyl chloride  |  Vinyl chloride  |  hydrogen cyanide production\n",
      "Water  |  Water  |  hydrogen cyanide production\n",
      "Xylenes, unspecified  |  Xylenes, unspecified  |  hydrogen cyanide production\n",
      "Zinc II  |  Zinc II  |  hydrogen cyanide production\n",
      "AOX, Adsorbable Organic Halides  |  AOX, Adsorbable Organic Halides  |  hydrogen cyanide production\n",
      "Acidity, unspecified  |  Acidity, unspecified  |  hydrogen cyanide production\n",
      "Aluminium III  |  Aluminium III  |  hydrogen cyanide production\n",
      "Ammonium  |  Ammonium  |  hydrogen cyanide production\n",
      "Arsenic ion  |  Arsenic ion  |  hydrogen cyanide production\n",
      "BOD5, Biological Oxygen Demand  |  BOD5, Biological Oxygen Demand  |  hydrogen cyanide production\n",
      "Benzene  |  Benzene  |  hydrogen cyanide production\n",
      "Bromate  |  Bromate  |  hydrogen cyanide production\n",
      "COD, Chemical Oxygen Demand  |  COD, Chemical Oxygen Demand  |  hydrogen cyanide production\n",
      "Cadmium II  |  Cadmium II  |  hydrogen cyanide production\n",
      "Calcium II  |  Calcium II  |  hydrogen cyanide production\n",
      "Carbonate  |  Carbonate  |  hydrogen cyanide production\n",
      "Chlorate  |  Chlorate  |  hydrogen cyanide production\n",
      "Chloride  |  Chloride  |  hydrogen cyanide production\n",
      "Chlorinated solvents, unspecified  |  Chlorinated solvents, unspecified  |  hydrogen cyanide production\n",
      "Chlorine  |  Chlorine  |  hydrogen cyanide production\n",
      "Chromium III  |  Chromium III  |  hydrogen cyanide production\n",
      "Copper ion  |  Copper ion  |  hydrogen cyanide production\n",
      "Cyanide  |  Cyanide  |  hydrogen cyanide production\n",
      "DOC, Dissolved Organic Carbon  |  DOC, Dissolved Organic Carbon  |  hydrogen cyanide production\n",
      "Dissolved solids  |  Dissolved solids  |  hydrogen cyanide production\n",
      "Ethylene dichloride  |  Ethylene dichloride  |  hydrogen cyanide production\n",
      "Fluoride  |  Fluoride  |  hydrogen cyanide production\n",
      "Hydrocarbons, unspecified  |  Hydrocarbons, unspecified  |  hydrogen cyanide production\n",
      "Iron ion  |  Iron ion  |  hydrogen cyanide production\n",
      "Lead II  |  Lead II  |  hydrogen cyanide production\n",
      "Magnesium  |  Magnesium  |  hydrogen cyanide production\n",
      "Manganese II  |  Manganese II  |  hydrogen cyanide production\n",
      "Mercury II  |  Mercury II  |  hydrogen cyanide production\n",
      "Nickel II  |  Nickel II  |  hydrogen cyanide production\n",
      "Nitrate  |  Nitrate  |  hydrogen cyanide production\n",
      "Nitrogen  |  Nitrogen  |  hydrogen cyanide production\n",
      "Oils, unspecified  |  Oils, unspecified  |  hydrogen cyanide production\n",
      "Phenol  |  Phenol  |  hydrogen cyanide production\n",
      "Phosphorus  |  Phosphorus  |  hydrogen cyanide production\n",
      "Potassium I  |  Potassium I  |  hydrogen cyanide production\n",
      "Silicon  |  Silicon  |  hydrogen cyanide production\n",
      "Sodium I  |  Sodium I  |  hydrogen cyanide production\n",
      "Strontium II  |  Strontium II  |  hydrogen cyanide production\n",
      "Sulfate  |  Sulfate  |  hydrogen cyanide production\n",
      "Sulfide  |  Sulfide  |  hydrogen cyanide production\n",
      "Suspended solids, unspecified  |  Suspended solids, unspecified  |  hydrogen cyanide production\n",
      "TOC, Total Organic Carbon  |  TOC, Total Organic Carbon  |  hydrogen cyanide production\n",
      "Tin ion  |  Tin ion  |  hydrogen cyanide production\n",
      "Vinyl chloride  |  Vinyl chloride  |  hydrogen cyanide production\n",
      "Water  |  Water  |  hydrogen cyanide production\n",
      "Zinc II  |  Zinc II  |  hydrogen cyanide production\n",
      "Aluminium  |  Aluminium  |  hydrogen cyanide production\n",
      "Anhydrite  |  Anhydrite  |  hydrogen cyanide production\n",
      "Barium  |  Barium  |  hydrogen cyanide production\n",
      "Calcite  |  Calcite  |  hydrogen cyanide production\n",
      "Chromium  |  Chromium  |  hydrogen cyanide production\n",
      "Clay, bentonite  |  Clay, bentonite  |  hydrogen cyanide production\n",
      "Clay, unspecified  |  Clay, unspecified  |  hydrogen cyanide production\n",
      "Coal, brown  |  Coal, brown  |  hydrogen cyanide production\n",
      "Coal, hard  |  Coal, hard  |  hydrogen cyanide production\n",
      "Copper  |  Copper  |  hydrogen cyanide production\n",
      "Dolomite  |  Dolomite  |  hydrogen cyanide production\n",
      "Energy, gross calorific value, in biomass  |  Energy, gross calorific value, in biomass  |  hydrogen cyanide production\n",
      "Energy, potential (in hydropower reservoir), converted  |  Energy, potential (in hydropower reservoir), converted  |  hydrogen cyanide production\n",
      "Feldspar  |  Feldspar  |  hydrogen cyanide production\n",
      "Fluorspar  |  Fluorspar  |  hydrogen cyanide production\n",
      "Gas, natural  |  Gas, natural  |  hydrogen cyanide production\n",
      "Granite  |  Granite  |  hydrogen cyanide production\n",
      "Gravel  |  Gravel  |  hydrogen cyanide production\n",
      "Iron  |  Iron  |  hydrogen cyanide production\n",
      "Lead  |  Lead  |  hydrogen cyanide production\n",
      "Magnesite  |  Magnesite  |  hydrogen cyanide production\n",
      "Manganese  |  Manganese  |  hydrogen cyanide production\n",
      "Mercury  |  Mercury  |  hydrogen cyanide production\n",
      "Nickel  |  Nickel  |  hydrogen cyanide production\n",
      "Oil, crude  |  Oil, crude  |  hydrogen cyanide production\n",
      "Olivine  |  Olivine  |  hydrogen cyanide production\n",
      "Peat  |  Peat  |  hydrogen cyanide production\n",
      "Phosphorus  |  Phosphorus  |  hydrogen cyanide production\n",
      "Sand, unspecified  |  Sand, unspecified  |  hydrogen cyanide production\n",
      "Shale  |  Shale  |  hydrogen cyanide production\n",
      "Sodium chloride  |  Sodium chloride  |  hydrogen cyanide production\n",
      "Sodium nitrate  |  Sodium nitrate  |  hydrogen cyanide production\n",
      "Sulfur  |  Sulfur  |  hydrogen cyanide production\n",
      "Sylvite  |  Sylvite  |  hydrogen cyanide production\n",
      "Talc  |  Talc  |  hydrogen cyanide production\n",
      "Titanium  |  Titanium  |  hydrogen cyanide production\n",
      "Uranium  |  Uranium  |  hydrogen cyanide production\n",
      "Water, cooling, unspecified natural origin  |  Water, cooling, unspecified natural origin  |  hydrogen cyanide production\n",
      "Water, river  |  Water, river  |  hydrogen cyanide production\n",
      "Water, salt, ocean  |  Water, salt, ocean  |  hydrogen cyanide production\n",
      "Water, unspecified natural origin  |  Water, unspecified natural origin  |  hydrogen cyanide production\n",
      "Water, well, in ground  |  Water, well, in ground  |  hydrogen cyanide production\n",
      "Wood, unspecified, standing  |  Wood, unspecified, standing  |  hydrogen cyanide production\n",
      "Zinc  |  Zinc  |  hydrogen cyanide production\n"
     ]
    }
   ],
   "source": [
    "for exc in list(random_act.exchanges()):\n",
    "    print(exc[\"name\"], \" | \", exc.input[\"name\"], \" | \", exc.output[\"name\"])"
   ]
  },
  {
   "cell_type": "markdown",
   "metadata": {},
   "source": [
    "We can iterate through the exchanges and print them."
   ]
  },
  {
   "cell_type": "code",
   "execution_count": 58,
   "metadata": {},
   "outputs": [
    {
     "data": {
      "text/html": [
       "<div>\n",
       "<style scoped>\n",
       "    .dataframe tbody tr th:only-of-type {\n",
       "        vertical-align: middle;\n",
       "    }\n",
       "\n",
       "    .dataframe tbody tr th {\n",
       "        vertical-align: top;\n",
       "    }\n",
       "\n",
       "    .dataframe thead th {\n",
       "        text-align: right;\n",
       "    }\n",
       "</style>\n",
       "<table border=\"1\" class=\"dataframe\">\n",
       "  <thead>\n",
       "    <tr style=\"text-align: right;\">\n",
       "      <th></th>\n",
       "      <th>name</th>\n",
       "      <th>location</th>\n",
       "      <th>categories</th>\n",
       "      <th>unit</th>\n",
       "      <th>amount</th>\n",
       "      <th>type</th>\n",
       "      <th>consumer</th>\n",
       "    </tr>\n",
       "  </thead>\n",
       "  <tbody>\n",
       "    <tr>\n",
       "      <th>0</th>\n",
       "      <td>hydrogen cyanide production</td>\n",
       "      <td>RoW</td>\n",
       "      <td>None</td>\n",
       "      <td>kilogram</td>\n",
       "      <td>1.000000e+00</td>\n",
       "      <td>production</td>\n",
       "      <td>hydrogen cyanide production</td>\n",
       "    </tr>\n",
       "    <tr>\n",
       "      <th>1</th>\n",
       "      <td>market for average incineration residue</td>\n",
       "      <td>RoW</td>\n",
       "      <td>None</td>\n",
       "      <td>kilogram</td>\n",
       "      <td>-4.202100e-02</td>\n",
       "      <td>technosphere</td>\n",
       "      <td>hydrogen cyanide production</td>\n",
       "    </tr>\n",
       "    <tr>\n",
       "      <th>2</th>\n",
       "      <td>market for coal slurry</td>\n",
       "      <td>GLO</td>\n",
       "      <td>None</td>\n",
       "      <td>kilogram</td>\n",
       "      <td>-9.736800e-06</td>\n",
       "      <td>technosphere</td>\n",
       "      <td>hydrogen cyanide production</td>\n",
       "    </tr>\n",
       "    <tr>\n",
       "      <th>3</th>\n",
       "      <td>market for decommissioned chemical production ...</td>\n",
       "      <td>GLO</td>\n",
       "      <td>None</td>\n",
       "      <td>kilogram</td>\n",
       "      <td>-1.633200e-09</td>\n",
       "      <td>technosphere</td>\n",
       "      <td>hydrogen cyanide production</td>\n",
       "    </tr>\n",
       "    <tr>\n",
       "      <th>4</th>\n",
       "      <td>market for hazardous waste, for incineration</td>\n",
       "      <td>RoW</td>\n",
       "      <td>None</td>\n",
       "      <td>kilogram</td>\n",
       "      <td>-9.547200e-03</td>\n",
       "      <td>technosphere</td>\n",
       "      <td>hydrogen cyanide production</td>\n",
       "    </tr>\n",
       "    <tr>\n",
       "      <th>...</th>\n",
       "      <td>...</td>\n",
       "      <td>...</td>\n",
       "      <td>...</td>\n",
       "      <td>...</td>\n",
       "      <td>...</td>\n",
       "      <td>...</td>\n",
       "      <td>...</td>\n",
       "    </tr>\n",
       "    <tr>\n",
       "      <th>164</th>\n",
       "      <td>Water, salt, ocean</td>\n",
       "      <td>None</td>\n",
       "      <td>(natural resource, in water)</td>\n",
       "      <td>cubic meter</td>\n",
       "      <td>6.869900e-08</td>\n",
       "      <td>biosphere</td>\n",
       "      <td>hydrogen cyanide production</td>\n",
       "    </tr>\n",
       "    <tr>\n",
       "      <th>165</th>\n",
       "      <td>Water, unspecified natural origin</td>\n",
       "      <td>None</td>\n",
       "      <td>(natural resource, in water)</td>\n",
       "      <td>cubic meter</td>\n",
       "      <td>1.354800e-02</td>\n",
       "      <td>biosphere</td>\n",
       "      <td>hydrogen cyanide production</td>\n",
       "    </tr>\n",
       "    <tr>\n",
       "      <th>166</th>\n",
       "      <td>Water, well, in ground</td>\n",
       "      <td>None</td>\n",
       "      <td>(natural resource, in water)</td>\n",
       "      <td>cubic meter</td>\n",
       "      <td>3.854100e-04</td>\n",
       "      <td>biosphere</td>\n",
       "      <td>hydrogen cyanide production</td>\n",
       "    </tr>\n",
       "    <tr>\n",
       "      <th>167</th>\n",
       "      <td>Wood, unspecified, standing</td>\n",
       "      <td>None</td>\n",
       "      <td>(natural resource, biotic)</td>\n",
       "      <td>cubic meter</td>\n",
       "      <td>6.180900e-08</td>\n",
       "      <td>biosphere</td>\n",
       "      <td>hydrogen cyanide production</td>\n",
       "    </tr>\n",
       "    <tr>\n",
       "      <th>168</th>\n",
       "      <td>Zinc</td>\n",
       "      <td>None</td>\n",
       "      <td>(natural resource, in ground)</td>\n",
       "      <td>kilogram</td>\n",
       "      <td>3.262800e-08</td>\n",
       "      <td>biosphere</td>\n",
       "      <td>hydrogen cyanide production</td>\n",
       "    </tr>\n",
       "  </tbody>\n",
       "</table>\n",
       "<p>169 rows × 7 columns</p>\n",
       "</div>"
      ],
      "text/plain": [
       "                                                  name location  \\\n",
       "0                          hydrogen cyanide production      RoW   \n",
       "1              market for average incineration residue      RoW   \n",
       "2                               market for coal slurry      GLO   \n",
       "3    market for decommissioned chemical production ...      GLO   \n",
       "4         market for hazardous waste, for incineration      RoW   \n",
       "..                                                 ...      ...   \n",
       "164                                 Water, salt, ocean     None   \n",
       "165                  Water, unspecified natural origin     None   \n",
       "166                             Water, well, in ground     None   \n",
       "167                        Wood, unspecified, standing     None   \n",
       "168                                               Zinc     None   \n",
       "\n",
       "                        categories         unit        amount          type  \\\n",
       "0                             None     kilogram  1.000000e+00    production   \n",
       "1                             None     kilogram -4.202100e-02  technosphere   \n",
       "2                             None     kilogram -9.736800e-06  technosphere   \n",
       "3                             None     kilogram -1.633200e-09  technosphere   \n",
       "4                             None     kilogram -9.547200e-03  technosphere   \n",
       "..                             ...          ...           ...           ...   \n",
       "164   (natural resource, in water)  cubic meter  6.869900e-08     biosphere   \n",
       "165   (natural resource, in water)  cubic meter  1.354800e-02     biosphere   \n",
       "166   (natural resource, in water)  cubic meter  3.854100e-04     biosphere   \n",
       "167     (natural resource, biotic)  cubic meter  6.180900e-08     biosphere   \n",
       "168  (natural resource, in ground)     kilogram  3.262800e-08     biosphere   \n",
       "\n",
       "                        consumer  \n",
       "0    hydrogen cyanide production  \n",
       "1    hydrogen cyanide production  \n",
       "2    hydrogen cyanide production  \n",
       "3    hydrogen cyanide production  \n",
       "4    hydrogen cyanide production  \n",
       "..                           ...  \n",
       "164  hydrogen cyanide production  \n",
       "165  hydrogen cyanide production  \n",
       "166  hydrogen cyanide production  \n",
       "167  hydrogen cyanide production  \n",
       "168  hydrogen cyanide production  \n",
       "\n",
       "[169 rows x 7 columns]"
      ]
     },
     "execution_count": 58,
     "metadata": {},
     "output_type": "execute_result"
    }
   ],
   "source": [
    "list_exc = []\n",
    "for exc in list(random_act.exchanges()):\n",
    "    list_exc.append([\n",
    "        exc.input[\"name\"], exc.input.get(\"location\"), exc.input.get(\"categories\"), exc[\"unit\"] , exc[\"amount\"], exc[\"type\"], exc.output[\"name\"]\n",
    "    ])\n",
    "pd.DataFrame(list_exc, columns=[\"name\", \"location\", \"categories\", \"unit\", \"amount\", \"type\", \"consumer\"])"
   ]
  },
  {
   "cell_type": "code",
   "execution_count": null,
   "metadata": {},
   "outputs": [],
   "source": []
  },
  {
   "cell_type": "markdown",
   "metadata": {
    "deletable": true,
    "editable": true
   },
   "source": [
    "##### Searching and getting LCI activities"
   ]
  },
  {
   "cell_type": "markdown",
   "metadata": {
    "deletable": true,
    "editable": true
   },
   "source": [
    "Searching and getting LCI activities is done exactly the same way as for activities in the biosphere3 database:"
   ]
  },
  {
   "cell_type": "code",
   "execution_count": 64,
   "metadata": {
    "collapsed": false,
    "deletable": true,
    "editable": true,
    "jupyter": {
     "outputs_hidden": false
    }
   },
   "outputs": [
    {
     "name": "stdout",
     "output_type": "stream",
     "text": [
      "Excluding 1153 filtered results\n"
     ]
    },
    {
     "data": {
      "text/plain": [
       "['transport, freight, lorry, all sizes, EURO3 to generic market for transport, freight, lorry, unspecified' (ton kilometer, RoW, None),\n",
       " 'transport, freight, lorry, all sizes, EURO3 to generic market for transport, freight, lorry, unspecified' (ton kilometer, RER, None),\n",
       " 'transport, freight, lorry, all sizes, unregulated to generic market for transport, freight, lorry, unspecified' (ton kilometer, ZA, None),\n",
       " 'transport, freight, lorry, all sizes, EURO2 to generic market for transport, freight, lorry, unspecified' (ton kilometer, ZA, None),\n",
       " 'transport, freight, lorry, all sizes, EURO3 to generic market for transport, freight, lorry, unspecified' (ton kilometer, BR, None),\n",
       " 'transport, freight, lorry, all sizes, EURO2 to generic market for transport, freight, lorry, unspecified' (ton kilometer, BR, None),\n",
       " 'transport, freight, lorry, all sizes, unregulated to generic market for transport, freight, lorry, unspecified' (ton kilometer, BR, None),\n",
       " 'transport, freight, lorry, all sizes, EURO1 to generic market for transport, freight, lorry, unspecified' (ton kilometer, BR, None),\n",
       " 'transport, freight, lorry, all sizes, EURO5 to generic market for transport, freight, lorry, unspecified' (ton kilometer, BR, None),\n",
       " 'transport, freight, lorry, all sizes, EURO1 to generic market for transport, freight, lorry, unspecified' (ton kilometer, ZA, None),\n",
       " 'transport, freight, lorry, all sizes, EURO4 to generic market for transport, freight, lorry, unspecified' (ton kilometer, RER, None),\n",
       " 'transport, freight, lorry, all sizes, EURO5 to generic market for transport, freight, lorry, unspecified' (ton kilometer, RER, None),\n",
       " 'transport, freight, lorry, all sizes, EURO5 to generic market for transport, freight, lorry, unspecified' (ton kilometer, RoW, None),\n",
       " 'transport, freight, lorry, all sizes, EURO4 to generic market for transport, freight, lorry, unspecified' (ton kilometer, RoW, None),\n",
       " 'transport, freight, lorry, all sizes, EURO6 to generic market for transport, freight, lorry, unspecified' (ton kilometer, RoW, None),\n",
       " 'transport, freight, lorry, all sizes, EURO6 to generic market for transport, freight, lorry, unspecified' (ton kilometer, RER, None),\n",
       " 'market for transport, freight, lorry, unspecified' (ton kilometer, RoW, None),\n",
       " 'market for transport, freight, lorry, unspecified' (ton kilometer, ZA, None),\n",
       " 'market for transport, freight, lorry, unspecified' (ton kilometer, BR, None),\n",
       " 'market for transport, freight, lorry, unspecified' (ton kilometer, RER, None),\n",
       " 'transport, freight, lorry with reefer, cooling' (ton kilometer, GLO, None),\n",
       " 'transport, freight, lorry with reefer, freezing' (ton kilometer, GLO, None),\n",
       " 'market group for transport, freight, lorry, unspecified' (ton kilometer, GLO, None),\n",
       " 'market for transport, freight, lorry with reefer, freezing' (ton kilometer, GLO, None),\n",
       " 'market for transport, freight, lorry with reefer, cooling' (ton kilometer, GLO, None)]"
      ]
     },
     "execution_count": 64,
     "metadata": {},
     "output_type": "execute_result"
    }
   ],
   "source": [
    "# Using search\n",
    "eidb.search('transport', filter={'name':'lorry'})"
   ]
  },
  {
   "cell_type": "code",
   "execution_count": null,
   "metadata": {},
   "outputs": [],
   "source": [
    "random_act.as_dict().keys()"
   ]
  },
  {
   "cell_type": "code",
   "execution_count": null,
   "metadata": {},
   "outputs": [],
   "source": [
    "random_act."
   ]
  },
  {
   "cell_type": "code",
   "execution_count": 65,
   "metadata": {
    "collapsed": false,
    "deletable": true,
    "editable": true,
    "jupyter": {
     "outputs_hidden": false
    }
   },
   "outputs": [
    {
     "data": {
      "text/plain": [
       "['transport, freight, lorry >32 metric ton, EURO5' (ton kilometer, RER, None),\n",
       " 'transport, freight, lorry >32 metric ton, EURO4' (ton kilometer, RER, None),\n",
       " 'market for transport, freight, lorry >32 metric ton, EURO6' (ton kilometer, RER, None),\n",
       " 'market for transport, freight, lorry >32 metric ton, EURO5' (ton kilometer, RER, None),\n",
       " 'transport, freight, lorry 16-32 metric ton, EURO6' (ton kilometer, RER, None),\n",
       " 'market for transport, freight, lorry >32 metric ton, EURO3' (ton kilometer, RER, None),\n",
       " 'market for transport, freight, lorry 16-32 metric ton, EURO4' (ton kilometer, RER, None),\n",
       " 'market for transport, freight, lorry 16-32 metric ton, EURO3' (ton kilometer, RER, None),\n",
       " 'transport, freight, lorry 16-32 metric ton, EURO4' (ton kilometer, RER, None),\n",
       " 'transport, freight, lorry 16-32 metric ton, EURO5' (ton kilometer, RER, None),\n",
       " 'transport, freight, lorry >32 metric ton, EURO3' (ton kilometer, RER, None),\n",
       " 'market for transport, freight, lorry >32 metric ton, EURO4' (ton kilometer, RER, None),\n",
       " 'transport, freight, lorry >32 metric ton, EURO6' (ton kilometer, RER, None),\n",
       " 'transport, freight, lorry 16-32 metric ton, EURO3' (ton kilometer, RER, None),\n",
       " 'market for transport, freight, lorry 16-32 metric ton, EURO6' (ton kilometer, RER, None),\n",
       " 'market for transport, freight, lorry 16-32 metric ton, EURO5' (ton kilometer, RER, None)]"
      ]
     },
     "execution_count": 65,
     "metadata": {},
     "output_type": "execute_result"
    }
   ],
   "source": [
    "# Using list comprehensions:\n",
    "[\n",
    "    act for act in eidb if 'lorry' in act['reference product']\n",
    "    and 'RER' in act['location']\n",
    "    and '32' in act['name']\n",
    "]"
   ]
  },
  {
   "cell_type": "markdown",
   "metadata": {
    "deletable": true,
    "editable": true,
    "solution2": "shown",
    "solution2_first": true
   },
   "source": [
    "**Exercise:** Return an activity for electricity production, coal-fired power plants in Germany"
   ]
  },
  {
   "cell_type": "code",
   "execution_count": 66,
   "metadata": {
    "collapsed": false,
    "deletable": true,
    "editable": true,
    "jupyter": {
     "outputs_hidden": false
    },
    "solution2": "shown"
   },
   "outputs": [],
   "source": [
    "coal_DE = [\n",
    "    act for act in eidb if 'electricity' in act['name']\n",
    "    and 'coal' in act['name']\n",
    "    and act['location']=='DE'\n",
    "][0]"
   ]
  },
  {
   "cell_type": "code",
   "execution_count": 67,
   "metadata": {},
   "outputs": [
    {
     "data": {
      "text/plain": [
       "'electricity production, hard coal' (kilowatt hour, DE, None)"
      ]
     },
     "execution_count": 67,
     "metadata": {},
     "output_type": "execute_result"
    }
   ],
   "source": [
    "coal_DE"
   ]
  },
  {
   "cell_type": "markdown",
   "metadata": {},
   "source": [
    "Let's print its exchanges in a pandas' DataFrame."
   ]
  },
  {
   "cell_type": "code",
   "execution_count": 68,
   "metadata": {},
   "outputs": [
    {
     "data": {
      "text/html": [
       "<div>\n",
       "<style scoped>\n",
       "    .dataframe tbody tr th:only-of-type {\n",
       "        vertical-align: middle;\n",
       "    }\n",
       "\n",
       "    .dataframe tbody tr th {\n",
       "        vertical-align: top;\n",
       "    }\n",
       "\n",
       "    .dataframe thead th {\n",
       "        text-align: right;\n",
       "    }\n",
       "</style>\n",
       "<table border=\"1\" class=\"dataframe\">\n",
       "  <thead>\n",
       "    <tr style=\"text-align: right;\">\n",
       "      <th></th>\n",
       "      <th>Name</th>\n",
       "      <th>Product</th>\n",
       "      <th>Categories</th>\n",
       "      <th>Unit</th>\n",
       "      <th>Amount</th>\n",
       "      <th>Type</th>\n",
       "      <th>Provider's location</th>\n",
       "    </tr>\n",
       "  </thead>\n",
       "  <tbody>\n",
       "    <tr>\n",
       "      <th>0</th>\n",
       "      <td>electricity production, hard coal</td>\n",
       "      <td>electricity, high voltage</td>\n",
       "      <td>None</td>\n",
       "      <td>kilowatt hour</td>\n",
       "      <td>1.000000e+00</td>\n",
       "      <td>production</td>\n",
       "      <td>DE</td>\n",
       "    </tr>\n",
       "    <tr>\n",
       "      <th>1</th>\n",
       "      <td>market for NOx retained, by selective catalyti...</td>\n",
       "      <td>NOx retained, by selective catalytic reduction</td>\n",
       "      <td>None</td>\n",
       "      <td>kilogram</td>\n",
       "      <td>2.258445e-03</td>\n",
       "      <td>technosphere</td>\n",
       "      <td>GLO</td>\n",
       "    </tr>\n",
       "    <tr>\n",
       "      <th>2</th>\n",
       "      <td>market for SOx retained, in hard coal flue gas...</td>\n",
       "      <td>SOx retained, in hard coal flue gas desulfuris...</td>\n",
       "      <td>None</td>\n",
       "      <td>kilogram</td>\n",
       "      <td>5.945308e-03</td>\n",
       "      <td>technosphere</td>\n",
       "      <td>RER</td>\n",
       "    </tr>\n",
       "    <tr>\n",
       "      <th>3</th>\n",
       "      <td>market for chlorine, liquid</td>\n",
       "      <td>chlorine, liquid</td>\n",
       "      <td>None</td>\n",
       "      <td>kilogram</td>\n",
       "      <td>9.651475e-05</td>\n",
       "      <td>technosphere</td>\n",
       "      <td>RER</td>\n",
       "    </tr>\n",
       "    <tr>\n",
       "      <th>4</th>\n",
       "      <td>market for hard coal</td>\n",
       "      <td>hard coal</td>\n",
       "      <td>None</td>\n",
       "      <td>kilogram</td>\n",
       "      <td>4.024665e-01</td>\n",
       "      <td>technosphere</td>\n",
       "      <td>Europe, without Russia and Türkiye</td>\n",
       "    </tr>\n",
       "    <tr>\n",
       "      <th>...</th>\n",
       "      <td>...</td>\n",
       "      <td>...</td>\n",
       "      <td>...</td>\n",
       "      <td>...</td>\n",
       "      <td>...</td>\n",
       "      <td>...</td>\n",
       "      <td>...</td>\n",
       "    </tr>\n",
       "    <tr>\n",
       "      <th>64</th>\n",
       "      <td>Water</td>\n",
       "      <td>None</td>\n",
       "      <td>(air,)</td>\n",
       "      <td>cubic meter</td>\n",
       "      <td>1.331898e-03</td>\n",
       "      <td>biosphere</td>\n",
       "      <td>None</td>\n",
       "    </tr>\n",
       "    <tr>\n",
       "      <th>65</th>\n",
       "      <td>Xylenes, unspecified</td>\n",
       "      <td>None</td>\n",
       "      <td>(air, non-urban air or from high stacks)</td>\n",
       "      <td>kilogram</td>\n",
       "      <td>8.898660e-06</td>\n",
       "      <td>biosphere</td>\n",
       "      <td>None</td>\n",
       "    </tr>\n",
       "    <tr>\n",
       "      <th>66</th>\n",
       "      <td>Zinc II</td>\n",
       "      <td>None</td>\n",
       "      <td>(air, non-urban air or from high stacks)</td>\n",
       "      <td>kilogram</td>\n",
       "      <td>3.966756e-08</td>\n",
       "      <td>biosphere</td>\n",
       "      <td>None</td>\n",
       "    </tr>\n",
       "    <tr>\n",
       "      <th>67</th>\n",
       "      <td>Water</td>\n",
       "      <td>None</td>\n",
       "      <td>(water,)</td>\n",
       "      <td>cubic meter</td>\n",
       "      <td>5.142810e-02</td>\n",
       "      <td>biosphere</td>\n",
       "      <td>None</td>\n",
       "    </tr>\n",
       "    <tr>\n",
       "      <th>68</th>\n",
       "      <td>Water, cooling, unspecified natural origin</td>\n",
       "      <td>None</td>\n",
       "      <td>(natural resource, in water)</td>\n",
       "      <td>cubic meter</td>\n",
       "      <td>5.125436e-02</td>\n",
       "      <td>biosphere</td>\n",
       "      <td>None</td>\n",
       "    </tr>\n",
       "  </tbody>\n",
       "</table>\n",
       "<p>69 rows × 7 columns</p>\n",
       "</div>"
      ],
      "text/plain": [
       "                                                 Name  \\\n",
       "0                   electricity production, hard coal   \n",
       "1   market for NOx retained, by selective catalyti...   \n",
       "2   market for SOx retained, in hard coal flue gas...   \n",
       "3                         market for chlorine, liquid   \n",
       "4                                market for hard coal   \n",
       "..                                                ...   \n",
       "64                                              Water   \n",
       "65                               Xylenes, unspecified   \n",
       "66                                            Zinc II   \n",
       "67                                              Water   \n",
       "68         Water, cooling, unspecified natural origin   \n",
       "\n",
       "                                              Product  \\\n",
       "0                           electricity, high voltage   \n",
       "1      NOx retained, by selective catalytic reduction   \n",
       "2   SOx retained, in hard coal flue gas desulfuris...   \n",
       "3                                    chlorine, liquid   \n",
       "4                                           hard coal   \n",
       "..                                                ...   \n",
       "64                                               None   \n",
       "65                                               None   \n",
       "66                                               None   \n",
       "67                                               None   \n",
       "68                                               None   \n",
       "\n",
       "                                  Categories           Unit        Amount  \\\n",
       "0                                       None  kilowatt hour  1.000000e+00   \n",
       "1                                       None       kilogram  2.258445e-03   \n",
       "2                                       None       kilogram  5.945308e-03   \n",
       "3                                       None       kilogram  9.651475e-05   \n",
       "4                                       None       kilogram  4.024665e-01   \n",
       "..                                       ...            ...           ...   \n",
       "64                                    (air,)    cubic meter  1.331898e-03   \n",
       "65  (air, non-urban air or from high stacks)       kilogram  8.898660e-06   \n",
       "66  (air, non-urban air or from high stacks)       kilogram  3.966756e-08   \n",
       "67                                  (water,)    cubic meter  5.142810e-02   \n",
       "68              (natural resource, in water)    cubic meter  5.125436e-02   \n",
       "\n",
       "            Type                 Provider's location  \n",
       "0     production                                  DE  \n",
       "1   technosphere                                 GLO  \n",
       "2   technosphere                                 RER  \n",
       "3   technosphere                                 RER  \n",
       "4   technosphere  Europe, without Russia and Türkiye  \n",
       "..           ...                                 ...  \n",
       "64     biosphere                                None  \n",
       "65     biosphere                                None  \n",
       "66     biosphere                                None  \n",
       "67     biosphere                                None  \n",
       "68     biosphere                                None  \n",
       "\n",
       "[69 rows x 7 columns]"
      ]
     },
     "execution_count": 68,
     "metadata": {},
     "output_type": "execute_result"
    }
   ],
   "source": [
    "pd.DataFrame(\n",
    "    [\n",
    "        [\n",
    "            e.input[\"name\"],\n",
    "            e.input.get(\"reference product\"),\n",
    "            e.input.get(\"categories\"),\n",
    "            e[\"unit\"],\n",
    "            e[\"amount\"],\n",
    "            e[\"type\"],\n",
    "            e.input.get(\"location\")\n",
    "        ]\n",
    "        for e in coal_DE.exchanges()\n",
    "    ],\n",
    "    columns=[\"Name\", \"Product\", \"Categories\", \"Unit\", \"Amount\", \"Type\", \"Provider's location\"]\n",
    ")\n",
    "\n",
    "# note that we fetch \"location\" using .get(). Why?"
   ]
  },
  {
   "cell_type": "markdown",
   "metadata": {
    "deletable": true,
    "editable": true
   },
   "source": [
    "#### LCI exchanges"
   ]
  },
  {
   "cell_type": "markdown",
   "metadata": {
    "deletable": true,
    "editable": true
   },
   "source": [
    "**`Exchanges`** are the edges between nodes.\n",
    "\n",
    "These can be:  \n",
    "  - an edge between two activities within the technosphere (an element $a_{ij}$ of matrix $A$)  \n",
    "  - edges between an activity in the technosphere and an activity in the \"biosphere\" (an element $b_{kj}$ of the biosphere matrix $B$)."
   ]
  },
  {
   "cell_type": "markdown",
   "metadata": {
    "deletable": true,
    "editable": true
   },
   "source": [
    "One can iterate through **all** exchanges that have a given activity as `output`"
   ]
  },
  {
   "cell_type": "code",
   "execution_count": null,
   "metadata": {
    "collapsed": false,
    "deletable": true,
    "editable": true,
    "jupyter": {
     "outputs_hidden": false
    }
   },
   "outputs": [],
   "source": [
    "for exc in random_act.exchanges():\n",
    "    print(exc)"
   ]
  },
  {
   "cell_type": "markdown",
   "metadata": {
    "deletable": true,
    "editable": true
   },
   "source": [
    "One can also iterate through subsets of the exchanges:  \n",
    "  - Technosphere exchanges: exchanges linking to other activities in the technosphere, `activity.technosphere()`  \n",
    "  - Biosphere exchanges: AKA elementary flows, linking to activities in the biosphere database `activity.biosphere()`  \n",
    "  - Production exchange: the reference flow of the activity `activity.production`  "
   ]
  },
  {
   "cell_type": "markdown",
   "metadata": {
    "deletable": true,
    "editable": true
   },
   "source": [
    "Let's assign a **technosphere exchange** to a variable to learn more about it:"
   ]
  },
  {
   "cell_type": "code",
   "execution_count": 69,
   "metadata": {
    "collapsed": false,
    "deletable": true,
    "editable": true,
    "jupyter": {
     "outputs_hidden": false
    }
   },
   "outputs": [
    {
     "data": {
      "text/plain": [
       "Exchange: 0.00225844504021448 kilogram 'market for NOx retained, by selective catalytic reduction' (kilogram, GLO, None) to 'electricity production, hard coal' (kilowatt hour, DE, None)>"
      ]
     },
     "execution_count": 69,
     "metadata": {},
     "output_type": "execute_result"
    }
   ],
   "source": [
    "random_techno_exchange = [exc for exc in coal_DE.technosphere()][0]\n",
    "random_techno_exchange"
   ]
  },
  {
   "cell_type": "code",
   "execution_count": 70,
   "metadata": {
    "collapsed": false,
    "deletable": true,
    "editable": true,
    "jupyter": {
     "outputs_hidden": false
    }
   },
   "outputs": [
    {
     "data": {
      "text/plain": [
       "bw2data.backends.peewee.proxies.Exchange"
      ]
     },
     "execution_count": 70,
     "metadata": {},
     "output_type": "execute_result"
    }
   ],
   "source": [
    "type(random_techno_exchange)"
   ]
  },
  {
   "cell_type": "markdown",
   "metadata": {
    "deletable": true,
    "editable": true
   },
   "source": [
    "Again, the type is a proxy (refer to the diagram above about the different translation layers)."
   ]
  },
  {
   "cell_type": "code",
   "execution_count": 71,
   "metadata": {
    "collapsed": false,
    "deletable": true,
    "editable": true,
    "jupyter": {
     "outputs_hidden": false
    }
   },
   "outputs": [
    {
     "data": {
      "text/plain": [
       "0.00225844504021448"
      ]
     },
     "execution_count": 71,
     "metadata": {},
     "output_type": "execute_result"
    }
   ],
   "source": [
    "# Amount, or weight of the edge\n",
    "random_techno_exchange.amount"
   ]
  },
  {
   "cell_type": "code",
   "execution_count": 72,
   "metadata": {
    "collapsed": false,
    "deletable": true,
    "editable": true,
    "jupyter": {
     "outputs_hidden": false
    }
   },
   "outputs": [
    {
     "data": {
      "text/plain": [
       "'market for NOx retained, by selective catalytic reduction' (kilogram, GLO, None)"
      ]
     },
     "execution_count": 72,
     "metadata": {},
     "output_type": "execute_result"
    }
   ],
   "source": [
    "# Activity the exchange stems from\n",
    "random_techno_exchange.input"
   ]
  },
  {
   "cell_type": "code",
   "execution_count": 73,
   "metadata": {
    "collapsed": false,
    "deletable": true,
    "editable": true,
    "jupyter": {
     "outputs_hidden": false
    }
   },
   "outputs": [
    {
     "data": {
      "text/plain": [
       "'electricity production, hard coal' (kilowatt hour, DE, None)"
      ]
     },
     "execution_count": 73,
     "metadata": {},
     "output_type": "execute_result"
    }
   ],
   "source": [
    "# Activity the exchange terminates in\n",
    "random_techno_exchange.output"
   ]
  },
  {
   "cell_type": "code",
   "execution_count": 74,
   "metadata": {
    "collapsed": false,
    "deletable": true,
    "editable": true,
    "jupyter": {
     "outputs_hidden": false
    }
   },
   "outputs": [
    {
     "data": {
      "text/plain": [
       "{'flow': 'c9641dad-17a0-4d81-a9ee-85890945c39d',\n",
       " 'type': 'technosphere',\n",
       " 'name': 'NOx retained, by selective catalytic reduction',\n",
       " 'classifications': {'CPC': ['35499: Other chemical products n.e.c.']},\n",
       " 'production volume': 0.0,\n",
       " 'properties': {'carbon allocation': {'amount': 0.0, 'unit': 'kg'},\n",
       "  'carbon content': {'amount': 0.0, 'unit': 'dimensionless'},\n",
       "  'carbon content, fossil': {'amount': 0.0,\n",
       "   'unit': 'dimensionless',\n",
       "   'comment': 'NOx'},\n",
       "  'carbon content, non-fossil': {'amount': 0.0, 'unit': 'dimensionless'},\n",
       "  'dry mass': {'amount': 1.0, 'unit': 'kg'},\n",
       "  'water content': {'amount': 0.0,\n",
       "   'unit': 'dimensionless',\n",
       "   'comment': 'water mass/dry mass'},\n",
       "  'water in wet mass': {'amount': 0.0, 'unit': 'kg'},\n",
       "  'wet mass': {'amount': 1.0, 'unit': 'kg'}},\n",
       " 'activity': '60e3428e-eae2-5fb1-8485-2b291bd68902',\n",
       " 'unit': 'kilogram',\n",
       " 'comment': 'See power plant data base for details\\nAmount was scaled to the amount of reference product.',\n",
       " 'amount': 0.00225844504021448,\n",
       " 'pedigree': {'reliability': 3,\n",
       "  'completeness': 1,\n",
       "  'temporal correlation': 4,\n",
       "  'geographical correlation': 1,\n",
       "  'further technological correlation': 1},\n",
       " 'uncertainty type': 2,\n",
       " 'loc': -6.093078737806185,\n",
       " 'scale': 0.22360679774997896,\n",
       " 'scale without pedigree': 0.2,\n",
       " 'input': ('ecoinvent-3.10-cutoff', '54dcb6b1d31fa59aca7d5a989623f1eb'),\n",
       " 'output': ('ecoinvent-3.10-cutoff', '38300de0f8f94767a9a3458b48392fd7')}"
      ]
     },
     "execution_count": 74,
     "metadata": {},
     "output_type": "execute_result"
    }
   ],
   "source": [
    "# Exchange as a dictionary\n",
    "random_techno_exchange.as_dict()"
   ]
  },
  {
   "cell_type": "code",
   "execution_count": 75,
   "metadata": {},
   "outputs": [
    {
     "data": {
      "text/plain": [
       "'market for NOx retained, by selective catalytic reduction' (kilogram, GLO, None)"
      ]
     },
     "execution_count": 75,
     "metadata": {},
     "output_type": "execute_result"
    }
   ],
   "source": [
    "bw2data.get_activity(('ecoinvent-3.10-cutoff', '54dcb6b1d31fa59aca7d5a989623f1eb'))"
   ]
  },
  {
   "cell_type": "markdown",
   "metadata": {
    "deletable": true,
    "editable": true
   },
   "source": [
    "Let's now look at a production exchange"
   ]
  },
  {
   "cell_type": "code",
   "execution_count": null,
   "metadata": {},
   "outputs": [],
   "source": [
    "random_prod_exchange = [exc for exc in coal_DE.production()][0]\n",
    "random_prod_exchange"
   ]
  },
  {
   "cell_type": "markdown",
   "metadata": {},
   "source": [
    "We can also check **who consumes** output of this activity."
   ]
  },
  {
   "cell_type": "code",
   "execution_count": 76,
   "metadata": {},
   "outputs": [
    {
     "data": {
      "text/plain": [
       "['electricity, high voltage, residual mix' (kilowatt hour, DE, None),\n",
       " 'electricity, high voltage, European attribute mix' (kilowatt hour, RER, None),\n",
       " 'electricity production, coal, aluminium industry' (kilowatt hour, IAI Area, EU27 & EFTA, None),\n",
       " 'electricity, high voltage, production mix' (kilowatt hour, DE, None),\n",
       " 'market for electricity, high voltage' (kilowatt hour, DE, None)]"
      ]
     },
     "execution_count": 76,
     "metadata": {},
     "output_type": "execute_result"
    }
   ],
   "source": [
    "# with brightway 2.5: list(random_act.consumers())\n",
    "key = coal_DE.key\n",
    "[a for a in eidb if any(x.input.key==key for x in a.technosphere())]"
   ]
  },
  {
   "cell_type": "markdown",
   "metadata": {
    "deletable": true,
    "editable": true,
    "solution2": "shown",
    "solution2_first": true
   },
   "source": [
    "**Exercise:** Assign a biosphere flow to a variable, and check the following:  \n",
    "  - Is the output the same as for the technosphere exchange?  \n",
    "  - From what database does the biosphere exchange come from?  \n",
    "  - What is the amount of the exchange (i.e. the weight of the edge connecting the two activities)?\n",
    "  \n",
    "NOTE: If you get a ` list index out of range` error when trying to subscript your list comprehension, it means your list comprehension is empty, i.e. that there are no biosphere flows associated with the activity."
   ]
  },
  {
   "cell_type": "code",
   "execution_count": 77,
   "metadata": {
    "collapsed": false,
    "deletable": true,
    "editable": true,
    "jupyter": {
     "outputs_hidden": false
    },
    "solution2": "shown"
   },
   "outputs": [
    {
     "data": {
      "text/plain": [
       "Exchange: 0.0512543645685922 cubic meter 'Water, cooling, unspecified natural origin' (cubic meter, None, ('natural resource', 'in water')) to 'electricity production, hard coal' (kilowatt hour, DE, None)>"
      ]
     },
     "execution_count": 77,
     "metadata": {},
     "output_type": "execute_result"
    }
   ],
   "source": [
    "# Assign the exchange to a variable:\n",
    "random_bio_exchange = [exc for exc in coal_DE.biosphere()][-1]\n",
    "random_bio_exchange"
   ]
  },
  {
   "cell_type": "code",
   "execution_count": 78,
   "metadata": {
    "collapsed": false,
    "deletable": true,
    "editable": true,
    "jupyter": {
     "outputs_hidden": false
    },
    "solution2": "shown"
   },
   "outputs": [
    {
     "data": {
      "text/plain": [
       "'electricity production, hard coal' (kilowatt hour, DE, None)"
      ]
     },
     "execution_count": 78,
     "metadata": {},
     "output_type": "execute_result"
    }
   ],
   "source": [
    "# Output of biosphere exchange\n",
    "random_bio_exchange.output"
   ]
  },
  {
   "cell_type": "code",
   "execution_count": 79,
   "metadata": {
    "collapsed": false,
    "deletable": true,
    "editable": true,
    "jupyter": {
     "outputs_hidden": false
    },
    "solution2": "shown"
   },
   "outputs": [
    {
     "data": {
      "text/plain": [
       "True"
      ]
     },
     "execution_count": 79,
     "metadata": {},
     "output_type": "execute_result"
    }
   ],
   "source": [
    "# Is it the same as the output of the technosphere exchange? It should be!\n",
    "random_bio_exchange.output == random_techno_exchange.output"
   ]
  },
  {
   "cell_type": "code",
   "execution_count": 80,
   "metadata": {
    "collapsed": false,
    "deletable": true,
    "editable": true,
    "jupyter": {
     "outputs_hidden": false
    },
    "solution2": "shown"
   },
   "outputs": [
    {
     "data": {
      "text/plain": [
       "('biosphere', 'fc1c42ce-a759-49fa-b987-f1ec5e503db1')"
      ]
     },
     "execution_count": 80,
     "metadata": {},
     "output_type": "execute_result"
    }
   ],
   "source": [
    "# Database of the random biosphere exchange input - `.input`directly returns the activity proxy!\n",
    "random_bio_exchange.input.key"
   ]
  },
  {
   "cell_type": "code",
   "execution_count": 81,
   "metadata": {
    "collapsed": false,
    "deletable": true,
    "editable": true,
    "jupyter": {
     "outputs_hidden": false
    },
    "solution2": "shown"
   },
   "outputs": [
    {
     "data": {
      "text/plain": [
       "0.0512543645685922"
      ]
     },
     "execution_count": 81,
     "metadata": {},
     "output_type": "execute_result"
    }
   ],
   "source": [
    "# Amount of exchange\n",
    "random_bio_exchange['amount']"
   ]
  },
  {
   "cell_type": "markdown",
   "metadata": {
    "deletable": true,
    "editable": true
   },
   "source": [
    "#### Loaded LCI databases"
   ]
  },
  {
   "cell_type": "markdown",
   "metadata": {
    "deletable": true,
    "editable": true
   },
   "source": [
    "It is possible to load the entire database into a dictionary.  \n",
    "This greatly speeds up work if you need to iterate over all activities or exchanges. The resulting object is quite big, so you should do this only if the gain in efficiency is worth it."
   ]
  },
  {
   "cell_type": "code",
   "execution_count": null,
   "metadata": {
    "collapsed": false,
    "deletable": true,
    "editable": true,
    "jupyter": {
     "outputs_hidden": false
    }
   },
   "outputs": [],
   "source": [
    "# Let's not do this in the seminar, ok?\n",
    "eidb_loaded = eidb.load()"
   ]
  },
  {
   "cell_type": "markdown",
   "metadata": {
    "deletable": true,
    "editable": true
   },
   "source": [
    "## 2) My first LCA"
   ]
  },
  {
   "cell_type": "markdown",
   "metadata": {
    "deletable": true,
    "editable": true
   },
   "source": [
    "Brightway has a so-called LCA object.  \n",
    "It is instantiated using `LCA(args)`.  \n",
    "The only required argument is a functional unit, described by a dictionary with keys = activities and values = amounts (more [here](https://docs.brightwaylca.org/lca.html#specifying-a-functional-unit)).  \n",
    "A second argument that is often passed is an LCIA method, passed using the method tuple.  "
   ]
  },
  {
   "cell_type": "markdown",
   "metadata": {
    "deletable": true,
    "editable": true
   },
   "source": [
    "### 2.1) General syntax of LCA calculations"
   ]
  },
  {
   "cell_type": "markdown",
   "metadata": {
    "deletable": true,
    "editable": true
   },
   "source": [
    "Let's create our first LCA object using our random activity and our IPCC method.  "
   ]
  },
  {
   "cell_type": "code",
   "execution_count": 83,
   "metadata": {},
   "outputs": [
    {
     "data": {
      "text/plain": [
       "Brightway2 Method: IPCC 2021: climate change: global warming potential (GWP100)"
      ]
     },
     "execution_count": 83,
     "metadata": {},
     "output_type": "execute_result"
    }
   ],
   "source": [
    "ipcc_2021_method"
   ]
  },
  {
   "cell_type": "code",
   "execution_count": 84,
   "metadata": {},
   "outputs": [
    {
     "data": {
      "text/plain": [
       "'hydrogen cyanide production' (kilogram, RoW, None)"
      ]
     },
     "execution_count": 84,
     "metadata": {},
     "output_type": "execute_result"
    }
   ],
   "source": [
    "random_act"
   ]
  },
  {
   "cell_type": "code",
   "execution_count": null,
   "metadata": {},
   "outputs": [],
   "source": [
    "coal_DE"
   ]
  },
  {
   "cell_type": "code",
   "execution_count": 96,
   "metadata": {
    "deletable": true,
    "editable": true,
    "tags": []
   },
   "outputs": [],
   "source": [
    "myFirstLCA = bw2calc.LCA(\n",
    "    demand={coal_DE:1},\n",
    "    method=ipcc_2021_method.name\n",
    ")"
   ]
  },
  {
   "cell_type": "code",
   "execution_count": 87,
   "metadata": {},
   "outputs": [
    {
     "data": {
      "text/plain": [
       "bw2calc.lca.LCA"
      ]
     },
     "execution_count": 87,
     "metadata": {},
     "output_type": "execute_result"
    }
   ],
   "source": [
    "type(myFirstLCA)"
   ]
  },
  {
   "cell_type": "markdown",
   "metadata": {},
   "source": [
    "<div class=\"alert alert-info\">\n",
    "    Note: we are now using <b>bw2calc</b>.\n",
    "</div>"
   ]
  },
  {
   "cell_type": "code",
   "execution_count": 88,
   "metadata": {},
   "outputs": [
    {
     "data": {
      "text/plain": [
       "('ecoinvent-3.10-cutoff', 'b021310973a616b11d1976cb21011ce2')"
      ]
     },
     "execution_count": 88,
     "metadata": {},
     "output_type": "execute_result"
    }
   ],
   "source": [
    "random_act.key"
   ]
  },
  {
   "cell_type": "markdown",
   "metadata": {
    "deletable": true,
    "editable": true
   },
   "source": [
    "The steps to get to the impact score are as follows:"
   ]
  },
  {
   "cell_type": "code",
   "execution_count": 97,
   "metadata": {
    "collapsed": false,
    "deletable": true,
    "editable": true,
    "jupyter": {
     "outputs_hidden": false
    }
   },
   "outputs": [
    {
     "data": {
      "text/plain": [
       "1.0553874191072472"
      ]
     },
     "execution_count": 97,
     "metadata": {},
     "output_type": "execute_result"
    }
   ],
   "source": [
    "myFirstLCA.lci()    # Builds matrices, solves the system, generates an LCI matrix.\n",
    "myFirstLCA.lcia()   # Characterization, i.e. the multiplication of the elements \n",
    "                          # of the LCI matrix with characterization factors from the chosen method\n",
    "myFirstLCA.score    # Returns the score, i.e. the sum of the characterized inventory"
   ]
  },
  {
   "cell_type": "markdown",
   "metadata": {
    "deletable": true,
    "editable": true
   },
   "source": [
    "Let's take a closer look at the LCA object and its methods/attributes."
   ]
  },
  {
   "cell_type": "markdown",
   "metadata": {
    "deletable": true,
    "editable": true
   },
   "source": [
    "### 2.2) the `demand` attribute"
   ]
  },
  {
   "cell_type": "code",
   "execution_count": 98,
   "metadata": {
    "collapsed": false,
    "deletable": true,
    "editable": true,
    "jupyter": {
     "outputs_hidden": false
    }
   },
   "outputs": [
    {
     "data": {
      "text/plain": [
       "{'electricity production, hard coal' (kilowatt hour, DE, None): 1}"
      ]
     },
     "execution_count": 98,
     "metadata": {},
     "output_type": "execute_result"
    }
   ],
   "source": [
    "myFirstLCA.demand"
   ]
  },
  {
   "cell_type": "markdown",
   "metadata": {},
   "source": [
    "Who/what is that?"
   ]
  },
  {
   "cell_type": "markdown",
   "metadata": {
    "deletable": true,
    "editable": true
   },
   "source": [
    "To access the actual activity from the demand, you would do this:"
   ]
  },
  {
   "cell_type": "code",
   "execution_count": 99,
   "metadata": {
    "collapsed": false,
    "deletable": true,
    "editable": true,
    "jupyter": {
     "outputs_hidden": false
    }
   },
   "outputs": [
    {
     "data": {
      "text/plain": [
       "'electricity production, hard coal' (kilowatt hour, DE, None)"
      ]
     },
     "execution_count": 99,
     "metadata": {},
     "output_type": "execute_result"
    }
   ],
   "source": [
    "demanded_act = list(myFirstLCA.demand.keys())[0]\n",
    "demanded_act"
   ]
  },
  {
   "cell_type": "code",
   "execution_count": 101,
   "metadata": {
    "collapsed": false,
    "deletable": true,
    "editable": true,
    "jupyter": {
     "outputs_hidden": false
    }
   },
   "outputs": [
    {
     "data": {
      "text/plain": [
       "True"
      ]
     },
     "execution_count": 101,
     "metadata": {},
     "output_type": "execute_result"
    }
   ],
   "source": [
    "demanded_act == coal_DE"
   ]
  },
  {
   "cell_type": "markdown",
   "metadata": {},
   "source": [
    "But..."
   ]
  },
  {
   "cell_type": "code",
   "execution_count": 103,
   "metadata": {},
   "outputs": [
    {
     "data": {
      "text/plain": [
       "True"
      ]
     },
     "execution_count": 103,
     "metadata": {},
     "output_type": "execute_result"
    }
   ],
   "source": [
    "bw2data.get_activity(demanded_act) == coal_DE"
   ]
  },
  {
   "cell_type": "markdown",
   "metadata": {
    "deletable": true,
    "editable": true
   },
   "source": [
    "There are also other attributes that have simply not been built yet, such as the `demand_array` and the `score`. To generate them, we first need to actually build the matrices. This will be done when calling the `.lci()` method."
   ]
  },
  {
   "cell_type": "markdown",
   "metadata": {
    "deletable": true,
    "editable": true
   },
   "source": [
    "### 2.3) Reminder of the system that needs to be solved in calculating an LCI"
   ]
  },
  {
   "cell_type": "markdown",
   "metadata": {
    "deletable": true,
    "editable": true
   },
   "source": [
    "Before actually running the `.lci()` method, here's a quick refresher of the actual calculation that Brightway will need to do to calculate the inventory:  \n",
    "\n",
    "$g=BA^{-1}f$  \n",
    "\n",
    "where:  \n",
    "\n",
    "  - $A$ = the technosphere matrix  \n",
    "  - $B$ = the biosphere matrix (matrix with elementary flows)  \n",
    "  - $f$ = the final demand vector  \n",
    "  - $g$ = the inventory  "
   ]
  },
  {
   "cell_type": "markdown",
   "metadata": {
    "deletable": true,
    "editable": true,
    "solution": "hidden",
    "solution_first": true
   },
   "source": [
    "**Discussion:** Knowing what you do about the structure of Brightway (notably, activities and exchanges), what needs to happen to generate these matrices?"
   ]
  },
  {
   "cell_type": "markdown",
   "metadata": {
    "deletable": true,
    "editable": true,
    "solution": "hidden"
   },
   "source": [
    "To consider:  \n",
    "  - how should the order of the rows and columns be determined?  \n",
    "  - how should we keep track of what is in each row and column?  \n",
    "  - The parameters in the matrices are sometimes actually probability distribution functions - how should we consider this uncertainty information?  \n",
    "  - The matrices are *sparse*, i.e. they are mostly made up of zeros. Should we consider this? Why? How?"
   ]
  },
  {
   "cell_type": "markdown",
   "metadata": {
    "deletable": true,
    "editable": true
   },
   "source": [
    "### 2.4) Building the matrices"
   ]
  },
  {
   "cell_type": "markdown",
   "metadata": {
    "deletable": true,
    "editable": true
   },
   "source": [
    "#### Structured arrays"
   ]
  },
  {
   "cell_type": "markdown",
   "metadata": {
    "deletable": true,
    "editable": true
   },
   "source": [
    "LCI data imported in Brightway is stored in the `databases.db` database, discussed above.  \n",
    "It is also stored as a [data package](https://specs.frictionlessdata.io/data-package/). "
   ]
  },
  {
   "cell_type": "markdown",
   "metadata": {},
   "source": [
    "Let's first call `.lci()` to create all the matrices."
   ]
  },
  {
   "cell_type": "code",
   "execution_count": 104,
   "metadata": {
    "deletable": true,
    "editable": true,
    "tags": []
   },
   "outputs": [
    {
     "name": "stderr",
     "output_type": "stream",
     "text": [
      "/opt/homebrew/Caskroom/miniforge/base/envs/bw2/lib/python3.11/site-packages/scikits/umfpack/umfpack.py:736: UmfpackWarning: (almost) singular matrix! (estimated cond. number: 1.21e+13)\n",
      "  warnings.warn(msg, UmfpackWarning)\n"
     ]
    }
   ],
   "source": [
    "myFirstLCA.lci()"
   ]
  },
  {
   "cell_type": "markdown",
   "metadata": {},
   "source": [
    "#### The final demand vector (f):\n",
    "The demand array is the $f$ in $As=f$. \n",
    "It is an attribute of the LCA object:"
   ]
  },
  {
   "cell_type": "code",
   "execution_count": 105,
   "metadata": {},
   "outputs": [
    {
     "data": {
      "text/plain": [
       "array([0., 0., 0., ..., 0., 0., 0.])"
      ]
     },
     "execution_count": 105,
     "metadata": {},
     "output_type": "execute_result"
    }
   ],
   "source": [
    "myFirstLCA.demand_array"
   ]
  },
  {
   "cell_type": "code",
   "execution_count": 107,
   "metadata": {},
   "outputs": [
    {
     "data": {
      "text/plain": [
       "23523"
      ]
     },
     "execution_count": 107,
     "metadata": {},
     "output_type": "execute_result"
    }
   ],
   "source": [
    "len(myFirstLCA.demand_array)"
   ]
  },
  {
   "cell_type": "code",
   "execution_count": 106,
   "metadata": {},
   "outputs": [
    {
     "data": {
      "text/plain": [
       "1.0"
      ]
     },
     "execution_count": 106,
     "metadata": {},
     "output_type": "execute_result"
    }
   ],
   "source": [
    "myFirstLCA.demand_array.sum()"
   ]
  },
  {
   "cell_type": "code",
   "execution_count": 108,
   "metadata": {},
   "outputs": [
    {
     "data": {
      "text/plain": [
       "17580"
      ]
     },
     "execution_count": 108,
     "metadata": {},
     "output_type": "execute_result"
    }
   ],
   "source": [
    "col_index = np.argwhere(myFirstLCA.demand_array).squeeze().item(0)\n",
    "col_index"
   ]
  },
  {
   "cell_type": "markdown",
   "metadata": {},
   "source": [
    "Who is that?"
   ]
  },
  {
   "cell_type": "markdown",
   "metadata": {
    "deletable": true,
    "editable": true
   },
   "source": [
    "#### Dictionaries that map between incides and activities"
   ]
  },
  {
   "cell_type": "markdown",
   "metadata": {
    "deletable": true,
    "editable": true
   },
   "source": [
    "One of the useful things that the `MatrixBuilder` produces are `dictionaries` that map row and column numbers to the keys of activities.  There are three such dictionaries, all directly accessible as attributes of the LCA object:\n",
    " - `activity_dict`: Columns in the technosphere matrix $A$ or biosphere matrix $B$\n",
    " - `product_dict` : Rows in the technosphere matrix $A$  \n",
    " - `biosphere_dict`: Rows in the biosphere matrix $B$"
   ]
  },
  {
   "cell_type": "code",
   "execution_count": 109,
   "metadata": {},
   "outputs": [
    {
     "data": {
      "text/plain": [
       "[(('ecoinvent-3.10-cutoff', '227e656f165b27c63bc8f69557dda1db'), 0),\n",
       " (('ecoinvent-3.10-cutoff', '4093d53b473a031579f08d129f16e171'), 1),\n",
       " (('ecoinvent-3.10-cutoff', 'a24cb0bb6fa2f6f17b3dc3aca7a8f457'), 2),\n",
       " (('ecoinvent-3.10-cutoff', '74e12e1be0253698aa64dca0f36f289f'), 3)]"
      ]
     },
     "execution_count": 109,
     "metadata": {},
     "output_type": "execute_result"
    }
   ],
   "source": [
    "list(myFirstLCA.activity_dict.items())[:4]"
   ]
  },
  {
   "cell_type": "markdown",
   "metadata": {},
   "source": [
    "But we want to know the opposite: which row or column number for a given acivity/product?"
   ]
  },
  {
   "cell_type": "markdown",
   "metadata": {
    "deletable": true,
    "editable": true
   },
   "source": [
    "As a convenience, Brightway offers a method that will generate the three reverse dictionaries simultaneously.  \n",
    "`.reverse_dict()` returns three reverse dicts (reverse activity dict,  reverse product dict,  reverse biosphere dict) *in that order*. The syntax for creating and assigning these reverse dicts is therefore: "
   ]
  },
  {
   "cell_type": "code",
   "execution_count": 110,
   "metadata": {},
   "outputs": [],
   "source": [
    "rev_act_dict, rev_prod_dict, rev_bio_dict = myFirstLCA.reverse_dict()"
   ]
  },
  {
   "cell_type": "code",
   "execution_count": 111,
   "metadata": {},
   "outputs": [
    {
     "data": {
      "text/plain": [
       "{0: ('ecoinvent-3.10-cutoff', '227e656f165b27c63bc8f69557dda1db'),\n",
       " 1: ('ecoinvent-3.10-cutoff', '4093d53b473a031579f08d129f16e171'),\n",
       " 2: ('ecoinvent-3.10-cutoff', 'a24cb0bb6fa2f6f17b3dc3aca7a8f457'),\n",
       " 3: ('ecoinvent-3.10-cutoff', '74e12e1be0253698aa64dca0f36f289f'),\n",
       " 4: ('ecoinvent-3.10-cutoff', '311c9c666a957cd7fde288d0b94c2363'),\n",
       " 5: ('ecoinvent-3.10-cutoff', '21c026ce66931ac9efeeec3e25c96c39'),\n",
       " 6: ('ecoinvent-3.10-cutoff', 'd63e6ebffd34bae32c97f2153de76a13'),\n",
       " 7: ('ecoinvent-3.10-cutoff', 'c5f90a113d77ed4732e1f78e31aba033'),\n",
       " 8: ('ecoinvent-3.10-cutoff', 'c5881d931c32edc2d937628f0b13eaaa'),\n",
       " 9: ('ecoinvent-3.10-cutoff', '2ed62777a19655a5f85bf070ff3fdd60'),\n",
       " 10: ('ecoinvent-3.10-cutoff', '89692d7f3fae52f70fe21c9ee8333a61'),\n",
       " 11: ('ecoinvent-3.10-cutoff', '8c4f1953ac18cd94645ebf6bd4f0781c'),\n",
       " 12: ('ecoinvent-3.10-cutoff', '8f7db65e0f6b75181cb6ed335903b58a'),\n",
       " 13: ('ecoinvent-3.10-cutoff', '1204cd393a0571deb08e22b6c01361ea'),\n",
       " 14: ('ecoinvent-3.10-cutoff', 'd76ded80a2e6d490e2499f33928967f4'),\n",
       " 15: ('ecoinvent-3.10-cutoff', 'a8c43f3da88ee1dde0f198b3ff0b0064'),\n",
       " 16: ('ecoinvent-3.10-cutoff', 'f839534627502d421c696d8c5c7ae134'),\n",
       " 17: ('ecoinvent-3.10-cutoff', '57d51351502fddc5b6653c7a567d82da'),\n",
       " 18: ('ecoinvent-3.10-cutoff', 'e5e911ae69f239f73715b7b41521ad28'),\n",
       " 19: ('ecoinvent-3.10-cutoff', 'cf16eec3f96e802dc9dd9206b7833e8d'),\n",
       " 20: ('ecoinvent-3.10-cutoff', '21838955b1a96a8222dad0ef57772fec'),\n",
       " 21: ('ecoinvent-3.10-cutoff', '2f91d5d8369a9e2e4d33466f45de56cf'),\n",
       " 22: ('ecoinvent-3.10-cutoff', '5f91181aee84d9e8d62c5dd486496edc'),\n",
       " 23: ('ecoinvent-3.10-cutoff', 'd5c53826cf5710453037ecd444ac8e4e'),\n",
       " 24: ('ecoinvent-3.10-cutoff', '409df76e4d7de978800c6e47762ba7a6'),\n",
       " 25: ('ecoinvent-3.10-cutoff', 'da8e9a830ed4127e4149fa49699501e6'),\n",
       " 26: ('ecoinvent-3.10-cutoff', '9cb61ac8c6ecae8a8f46f1de124684fb'),\n",
       " 27: ('ecoinvent-3.10-cutoff', 'cfebef1957bccbc62e19438bb279cd99'),\n",
       " 28: ('ecoinvent-3.10-cutoff', '4293f16dab515d865fff9b3fe9b22fcb'),\n",
       " 29: ('ecoinvent-3.10-cutoff', '54d6acad5585de1a841621c8bc0ee62d'),\n",
       " 30: ('ecoinvent-3.10-cutoff', '491ed613960a7dd38780a88f87bdffba'),\n",
       " 31: ('ecoinvent-3.10-cutoff', '288c08cec3c477d0591d92cdd948aa23'),\n",
       " 32: ('ecoinvent-3.10-cutoff', '1d3e458621b4067aef42b08f8329393d'),\n",
       " 33: ('ecoinvent-3.10-cutoff', 'ccb44880c24c01761f6516dcf76d3895'),\n",
       " 34: ('ecoinvent-3.10-cutoff', '9c9c084b35a495c0a3488681497217af'),\n",
       " 35: ('ecoinvent-3.10-cutoff', '7b07f2b9d475b0cdf0f1904132315411'),\n",
       " 36: ('ecoinvent-3.10-cutoff', 'd43206bb21efed750675e21bca062211'),\n",
       " 37: ('ecoinvent-3.10-cutoff', '8bf285887097e87c20a0d5b894cb809e'),\n",
       " 38: ('ecoinvent-3.10-cutoff', '5d2e7e39c42542ca0b1f2304dd5c21ce'),\n",
       " 39: ('ecoinvent-3.10-cutoff', '9be622657540b89fde4a31ffdea73ccd'),\n",
       " 40: ('ecoinvent-3.10-cutoff', 'c133996fcee90565b104dbe8df429aa0'),\n",
       " 41: ('ecoinvent-3.10-cutoff', 'ce399f73e837472df049a16e2d3266ff'),\n",
       " 42: ('ecoinvent-3.10-cutoff', '769799606400c4e49a35eb2aaf9db1f7'),\n",
       " 43: ('ecoinvent-3.10-cutoff', '1bfa6de7e634cdd52c25d62219f51314'),\n",
       " 44: ('ecoinvent-3.10-cutoff', 'ee86c2d2e423c07ae463acdf691f796e'),\n",
       " 45: ('ecoinvent-3.10-cutoff', 'b42383aae466b870b28a8ba022873b9b'),\n",
       " 46: ('ecoinvent-3.10-cutoff', '320973a742fcd49423e6b6f1afc47da6'),\n",
       " 47: ('ecoinvent-3.10-cutoff', '4a7e87e2e98c4330fcfa2671a7fb11e2'),\n",
       " 48: ('ecoinvent-3.10-cutoff', 'cbca79428a86082436876d351df1874b'),\n",
       " 49: ('ecoinvent-3.10-cutoff', '300d8aa8f0a876334c26ddb4c8978c37'),\n",
       " 50: ('ecoinvent-3.10-cutoff', '6a8a13bb8deea906a68c841b9f9a3524'),\n",
       " 51: ('ecoinvent-3.10-cutoff', '0772a9ca3d0455ea38792cf8133a3517'),\n",
       " 52: ('ecoinvent-3.10-cutoff', '3a6c33b043e24ac707e53a4b0eb935a7'),\n",
       " 53: ('ecoinvent-3.10-cutoff', '1f953d1c895dc0e4803db559a9459a74'),\n",
       " 54: ('ecoinvent-3.10-cutoff', 'a9eb8daa04a126a1621660a22237bda8'),\n",
       " 55: ('ecoinvent-3.10-cutoff', '5c19672ac3f6bb2a4ea019acecb392db'),\n",
       " 56: ('ecoinvent-3.10-cutoff', '302637b9e57a1d1963f7a522b744004e'),\n",
       " 57: ('ecoinvent-3.10-cutoff', '2a8d2e8f8789704d825a101ec94169cd'),\n",
       " 58: ('ecoinvent-3.10-cutoff', '526b14f3f29fd0da6d236fbbe764dfea'),\n",
       " 59: ('ecoinvent-3.10-cutoff', '3d092a96caa433d19251c3ea1ccd3044'),\n",
       " 60: ('ecoinvent-3.10-cutoff', '2e96db9dc1bd16291e2108c93fe50bd3'),\n",
       " 61: ('ecoinvent-3.10-cutoff', '6aecd901cc05af2ceac245158dde8231'),\n",
       " 62: ('ecoinvent-3.10-cutoff', '302248fa5eb891557b5e99498c9a0856'),\n",
       " 63: ('ecoinvent-3.10-cutoff', '15ff6b2605f90826c0c776f2b91fae22'),\n",
       " 64: ('ecoinvent-3.10-cutoff', 'baf8f5296dd7287ef8040c408fc16e32'),\n",
       " 65: ('ecoinvent-3.10-cutoff', 'dbf672ec26bd97481996fc4f8f41a4cc'),\n",
       " 66: ('ecoinvent-3.10-cutoff', '16cceb644304d1e7ec8da1e805e5669b'),\n",
       " 67: ('ecoinvent-3.10-cutoff', 'c69a2fea09a9057bc77a4db40e9ad064'),\n",
       " 68: ('ecoinvent-3.10-cutoff', 'a7e7f105158097c74e9d8a77e87c7bc7'),\n",
       " 69: ('ecoinvent-3.10-cutoff', 'a4754f6917054781b44f59cb23e7329b'),\n",
       " 70: ('ecoinvent-3.10-cutoff', '6b943f4af9c0b57872ab551c6cc4ca96'),\n",
       " 71: ('ecoinvent-3.10-cutoff', 'd7635edc22085180519ad4f010c762c6'),\n",
       " 72: ('ecoinvent-3.10-cutoff', '7bd17524a837133b8f67f3fcf8657eef'),\n",
       " 73: ('ecoinvent-3.10-cutoff', 'a34f12493ba05875e8b9d68d3b0abf7f'),\n",
       " 74: ('ecoinvent-3.10-cutoff', 'd70fb18e87c6a476ee6995984c72fa1a'),\n",
       " 75: ('ecoinvent-3.10-cutoff', 'a23e5c7ad2dafc07f1a9ef554bb1ab2e'),\n",
       " 76: ('ecoinvent-3.10-cutoff', 'd9936b6497f26a0db8b2cecab3c8d5a4'),\n",
       " 77: ('ecoinvent-3.10-cutoff', '6a92e31500bd3316839160a5d15192ec'),\n",
       " 78: ('ecoinvent-3.10-cutoff', '5d83ae3a48c28c1d5a79f2b3d4ea148e'),\n",
       " 79: ('ecoinvent-3.10-cutoff', 'c841dfde3ce4a78dee42fac90073313f'),\n",
       " 80: ('ecoinvent-3.10-cutoff', '462fad58fb03294d28afe45e8597539f'),\n",
       " 81: ('ecoinvent-3.10-cutoff', '432f2433fbb2520e1cfd50e855a44951'),\n",
       " 82: ('ecoinvent-3.10-cutoff', 'ce446c6eb57308da50a241593397b2c2'),\n",
       " 83: ('ecoinvent-3.10-cutoff', 'eb21302ca40b08ec954f0845dcd06233'),\n",
       " 84: ('ecoinvent-3.10-cutoff', '0e72e7fc50edf18f7459ebf2fa128a09'),\n",
       " 85: ('ecoinvent-3.10-cutoff', '910100a47c9e2404bd6bfec155490d42'),\n",
       " 86: ('ecoinvent-3.10-cutoff', '2cb0f0cb49076cb5e0253aeb5c793b1d'),\n",
       " 87: ('ecoinvent-3.10-cutoff', 'dccc1366920aa01b525a9150cd42322d'),\n",
       " 88: ('ecoinvent-3.10-cutoff', '8c37e2d247398c49342ff7e4fb4c7714'),\n",
       " 89: ('ecoinvent-3.10-cutoff', 'c6573a2016771992a884c3d7a542391f'),\n",
       " 90: ('ecoinvent-3.10-cutoff', 'edd0a7e0320fd309632bc9e11349aa8a'),\n",
       " 91: ('ecoinvent-3.10-cutoff', 'f69070fcd915acc50eb4b097ad190d2d'),\n",
       " 92: ('ecoinvent-3.10-cutoff', '4255241ad76563aec1190f93b17f11d5'),\n",
       " 93: ('ecoinvent-3.10-cutoff', 'bba7da5d4b5c16446386e6e0f2748a22'),\n",
       " 94: ('ecoinvent-3.10-cutoff', '955572fc883a52dfa547ecb1d6cb8974'),\n",
       " 95: ('ecoinvent-3.10-cutoff', '45e927b2388a616d1f20baf8fdc5a2fe'),\n",
       " 96: ('ecoinvent-3.10-cutoff', '254cb4a108ab6c323948c104b25cbb42'),\n",
       " 97: ('ecoinvent-3.10-cutoff', '6497441f984cc2220b1f6d9acda7a8e2'),\n",
       " 98: ('ecoinvent-3.10-cutoff', '84e1e0d8dda2c88c6830172cf4321924'),\n",
       " 99: ('ecoinvent-3.10-cutoff', '06c0404d4c26e49dba789eb2dd75ca7e'),\n",
       " 100: ('ecoinvent-3.10-cutoff', 'de99812285ef94c3b5c9f2cda1378a3b'),\n",
       " 101: ('ecoinvent-3.10-cutoff', 'f04afa48b99c08e389e3ed5d29985455'),\n",
       " 102: ('ecoinvent-3.10-cutoff', 'dda2378ba5b506d291269d561ffb54d6'),\n",
       " 103: ('ecoinvent-3.10-cutoff', 'e2bd9944b78efb21bd5f1564f28ddf45'),\n",
       " 104: ('ecoinvent-3.10-cutoff', 'a16ec29b10557ded5508daf56e1aab89'),\n",
       " 105: ('ecoinvent-3.10-cutoff', '781ed67fa7b97d4e3ad97286587261ee'),\n",
       " 106: ('ecoinvent-3.10-cutoff', '44f36e232e1dd81f5a387b8773c74d23'),\n",
       " 107: ('ecoinvent-3.10-cutoff', '4747bbe87fa5a38498323be788911705'),\n",
       " 108: ('ecoinvent-3.10-cutoff', 'cb3687b181a9bb1f9c26322b6d2d2978'),\n",
       " 109: ('ecoinvent-3.10-cutoff', '265949377d3f5087aea4b30e68f36dc7'),\n",
       " 110: ('ecoinvent-3.10-cutoff', '80607b0f792686083411e802687f5312'),\n",
       " 111: ('ecoinvent-3.10-cutoff', 'fa848ef36ec1f919677d5ec9e82d829d'),\n",
       " 112: ('ecoinvent-3.10-cutoff', '28561b06086ea4f826e2a601652983f0'),\n",
       " 113: ('ecoinvent-3.10-cutoff', '1b92385a97713993ed979e1bc8cd18d4'),\n",
       " 114: ('ecoinvent-3.10-cutoff', 'daf3e89b34a157151ffb52e8fa72d826'),\n",
       " 115: ('ecoinvent-3.10-cutoff', 'd3f7c30b049e7b092c73473dc3580547'),\n",
       " 116: ('ecoinvent-3.10-cutoff', '1c6f9591874881c42c190541a9c6095b'),\n",
       " 117: ('ecoinvent-3.10-cutoff', 'e658d7dd9c4a67c2f1afb80d7580e2e4'),\n",
       " 118: ('ecoinvent-3.10-cutoff', 'c95efe36bf8a2129637a2707af4ded44'),\n",
       " 119: ('ecoinvent-3.10-cutoff', '77b927c8d753eb290dc138a54a5f7cbf'),\n",
       " 120: ('ecoinvent-3.10-cutoff', '402c0eee4fed7f61ed3cf34e2b0105e6'),\n",
       " 121: ('ecoinvent-3.10-cutoff', 'a5875be4dbf9f5b780a92dbad9fa18a4'),\n",
       " 122: ('ecoinvent-3.10-cutoff', 'dd2c4289f6d6e605654c69a1a5ba3407'),\n",
       " 123: ('ecoinvent-3.10-cutoff', '88eeffceb4e6ec017717e4989c64abd7'),\n",
       " 124: ('ecoinvent-3.10-cutoff', '6d4262e4585b077ecbfc55f119601014'),\n",
       " 125: ('ecoinvent-3.10-cutoff', 'c407573418cb0da20527de7a017b91c7'),\n",
       " 126: ('ecoinvent-3.10-cutoff', '15504c15a2d7149ef99ddd7e9fac44df'),\n",
       " 127: ('ecoinvent-3.10-cutoff', 'c520b7d15f327239e57e75507e153edc'),\n",
       " 128: ('ecoinvent-3.10-cutoff', '2cf3551302d77fb3bf71aaeadc61940c'),\n",
       " 129: ('ecoinvent-3.10-cutoff', '885830e22273abc505512502601cdc81'),\n",
       " 130: ('ecoinvent-3.10-cutoff', '6e43ac6876ab43a61b784f873cc7ac15'),\n",
       " 131: ('ecoinvent-3.10-cutoff', '3ef6f1e190b48a5e9479ea297709c01a'),\n",
       " 132: ('ecoinvent-3.10-cutoff', '1260836008d97d90665c327900a3b2dc'),\n",
       " 133: ('ecoinvent-3.10-cutoff', 'd20b40247e2e948dd2e58bfba454f070'),\n",
       " 134: ('ecoinvent-3.10-cutoff', 'dcc8ec0b7ae9f6c965aeebf006da3a03'),\n",
       " 135: ('ecoinvent-3.10-cutoff', '29825451c436454d85058016d70acd19'),\n",
       " 136: ('ecoinvent-3.10-cutoff', '4329b3640f64234c041e6a2637f6c26b'),\n",
       " 137: ('ecoinvent-3.10-cutoff', 'aab9911e5c0dddc7134374e89f5c3d1f'),\n",
       " 138: ('ecoinvent-3.10-cutoff', '32a309b30c623dc0ebb0fd5566f3f5f1'),\n",
       " 139: ('ecoinvent-3.10-cutoff', '4c9fb31c691c24405cdfd4683f660c26'),\n",
       " 140: ('ecoinvent-3.10-cutoff', '928f02ed6d46f4ef587b090cfcad7dc6'),\n",
       " 141: ('ecoinvent-3.10-cutoff', '8f8950956120b0a744a23e82042f8dc2'),\n",
       " 142: ('ecoinvent-3.10-cutoff', 'fe4549e69b5f310dbb744ad5ea8f2623'),\n",
       " 143: ('ecoinvent-3.10-cutoff', '15e205eae28175a84f670c21aa8a6f04'),\n",
       " 144: ('ecoinvent-3.10-cutoff', '439cf977135a71edd079c4cafba297d1'),\n",
       " 145: ('ecoinvent-3.10-cutoff', '2fe2c6d9029c5286e369bbe82ff9955f'),\n",
       " 146: ('ecoinvent-3.10-cutoff', '0a07f6df11311c00e0375bac2b20105a'),\n",
       " 147: ('ecoinvent-3.10-cutoff', 'a058d46e9a24ccd290d03eb4b954bed9'),\n",
       " 148: ('ecoinvent-3.10-cutoff', '9bb1069b0b22284a1ab7bfb8af963a20'),\n",
       " 149: ('ecoinvent-3.10-cutoff', 'd9827268e2a0cf258f47acf0a86589dd'),\n",
       " 150: ('ecoinvent-3.10-cutoff', '8348ff92696b0a29cb029db8b68da8db'),\n",
       " 151: ('ecoinvent-3.10-cutoff', '80da79fc1547955f0ef836c85175da13'),\n",
       " 152: ('ecoinvent-3.10-cutoff', '1e1e5cefe57685fbd57db47b4ecf1461'),\n",
       " 153: ('ecoinvent-3.10-cutoff', '54547692fb8357927b0542994e2e734e'),\n",
       " 154: ('ecoinvent-3.10-cutoff', '5d52d85bc746646ddc974dd55257343c'),\n",
       " 155: ('ecoinvent-3.10-cutoff', '004be465f56cadd99a1a87d5c56b7e87'),\n",
       " 156: ('ecoinvent-3.10-cutoff', '0146368b099ba575ad8d2cbd83d53206'),\n",
       " 157: ('ecoinvent-3.10-cutoff', 'c128c5ddf9405546da9ba078415eae5c'),\n",
       " 158: ('ecoinvent-3.10-cutoff', '3640d630ed4546eb434983f47247af29'),\n",
       " 159: ('ecoinvent-3.10-cutoff', '966be07d87d2722e1c5bdd083e1dfe65'),\n",
       " 160: ('ecoinvent-3.10-cutoff', 'f49444e8d5321fd553178468231f3255'),\n",
       " 161: ('ecoinvent-3.10-cutoff', 'e8d9a7ca8cb2cff8d9d916d622c95a8a'),\n",
       " 162: ('ecoinvent-3.10-cutoff', 'b58a631472bc21639a48db585f8709d9'),\n",
       " 163: ('ecoinvent-3.10-cutoff', '768943fa9bc2654cfc1db3fc7d3fe53a'),\n",
       " 164: ('ecoinvent-3.10-cutoff', '2035868692982dee87594aa7d4ac3d7f'),\n",
       " 165: ('ecoinvent-3.10-cutoff', 'da1dd1c7ecfa5a267505478e7a591ccd'),\n",
       " 166: ('ecoinvent-3.10-cutoff', '51e962b0c65e941842edfe1d5712ca10'),\n",
       " 167: ('ecoinvent-3.10-cutoff', '55a5d3b32b82a96aa8e39d27cdc3960a'),\n",
       " 168: ('ecoinvent-3.10-cutoff', '80a36f38e930c7a26a9be07b4c85e302'),\n",
       " 169: ('ecoinvent-3.10-cutoff', '60480d6ce971edc9a0ba6029e7249874'),\n",
       " 170: ('ecoinvent-3.10-cutoff', 'a3424aa364a7342dba18665ed667d481'),\n",
       " 171: ('ecoinvent-3.10-cutoff', '777ab3baa1367cab7bc209270331ba00'),\n",
       " 172: ('ecoinvent-3.10-cutoff', '3ea8d2dfe45ab591a4b5c002fdfc8b31'),\n",
       " 173: ('ecoinvent-3.10-cutoff', '543c3f558503bcd5d81404824cc31e9a'),\n",
       " 174: ('ecoinvent-3.10-cutoff', '97b7f629d5e1fda8cc41883f0287b91d'),\n",
       " 175: ('ecoinvent-3.10-cutoff', 'ef740c6da14516db3687f57d9e057a91'),\n",
       " 176: ('ecoinvent-3.10-cutoff', '60e2a8181ce1eedcfcf93abc5c46cadb'),\n",
       " 177: ('ecoinvent-3.10-cutoff', '22f8a4a6a62861f9c68f953d46c48341'),\n",
       " 178: ('ecoinvent-3.10-cutoff', '6c2d1c2a260f3e0f50575ada2027c296'),\n",
       " 179: ('ecoinvent-3.10-cutoff', 'b572a662c4e41a6b2975f3f6e71668b8'),\n",
       " 180: ('ecoinvent-3.10-cutoff', 'fb84a30f0cf1347dbcae942f92e3a4f2'),\n",
       " 181: ('ecoinvent-3.10-cutoff', '2b9718ef031ce6680b602a398ea4fdf6'),\n",
       " 182: ('ecoinvent-3.10-cutoff', '4cd1441aadfc48ef37d7c753933f8ec7'),\n",
       " 183: ('ecoinvent-3.10-cutoff', 'c6f0b48799f512186addf2e7542e51ad'),\n",
       " 184: ('ecoinvent-3.10-cutoff', 'c52ff101bc57a89053cee0eb86e419fe'),\n",
       " 185: ('ecoinvent-3.10-cutoff', 'ce6c49ed241b82a79c6bd9d46bfe16ae'),\n",
       " 186: ('ecoinvent-3.10-cutoff', '56c61b52f2c791c9ff543cf3646a11bd'),\n",
       " 187: ('ecoinvent-3.10-cutoff', 'f112564dee2cecaeb6636ddbcfbb772a'),\n",
       " 188: ('ecoinvent-3.10-cutoff', '9a4034b52db34ca800d5d9ca23976a55'),\n",
       " 189: ('ecoinvent-3.10-cutoff', 'fe62053086a587788524459982fbc5a0'),\n",
       " 190: ('ecoinvent-3.10-cutoff', 'e119d046c99691c1ef85ea20a16b9470'),\n",
       " 191: ('ecoinvent-3.10-cutoff', 'cd8e564a5d6d88fb1f1b22aef79f6698'),\n",
       " 192: ('ecoinvent-3.10-cutoff', 'c92ae9de5bb39929d0fb8949c17264f6'),\n",
       " 193: ('ecoinvent-3.10-cutoff', '6c9c177fae08ba704f4361a454826901'),\n",
       " 194: ('ecoinvent-3.10-cutoff', 'bbd7e6c0e215bf1224ce786ea729c4fc'),\n",
       " 195: ('ecoinvent-3.10-cutoff', 'a42edba44ac45a50eed4d9f81accae19'),\n",
       " 196: ('ecoinvent-3.10-cutoff', 'f83ff499306928941e662e9ad3b11564'),\n",
       " 197: ('ecoinvent-3.10-cutoff', '212610c4028f984192299909b747b7e4'),\n",
       " 198: ('ecoinvent-3.10-cutoff', '911817d9979d133ee5343e348e6108a0'),\n",
       " 199: ('ecoinvent-3.10-cutoff', 'a96e56d9b2b4af980c685d96d0ff4f09'),\n",
       " 200: ('ecoinvent-3.10-cutoff', '69180e26747a3713b89ccdeb54ff4d53'),\n",
       " 201: ('ecoinvent-3.10-cutoff', '911510d4ceb4c26a862a47ef7074a28e'),\n",
       " 202: ('ecoinvent-3.10-cutoff', '1a3a3bf8bbc44c99966e74af20a47df0'),\n",
       " 203: ('ecoinvent-3.10-cutoff', 'e72139673cdae639a4abff47a39a5725'),\n",
       " 204: ('ecoinvent-3.10-cutoff', '8dfb1db05ec7ef0d8ac73b44fbe727bc'),\n",
       " 205: ('ecoinvent-3.10-cutoff', '6c9b88c0fad35e3a31e54a04fd576f49'),\n",
       " 206: ('ecoinvent-3.10-cutoff', '4bddd292a9b1034fb29efdbee90d0617'),\n",
       " 207: ('ecoinvent-3.10-cutoff', '8951a9f4cc5fa072255c5b87fd18f48c'),\n",
       " 208: ('ecoinvent-3.10-cutoff', '8910b08cd77bee29ae6c284502cda86c'),\n",
       " 209: ('ecoinvent-3.10-cutoff', '5b8d4cd16b0de6ffd381eeb3a5e07ffb'),\n",
       " 210: ('ecoinvent-3.10-cutoff', '4aa0cc9d3aba3b18894d41b03e8ca9b5'),\n",
       " 211: ('ecoinvent-3.10-cutoff', '7c3704949df07b4221b430fdc9a63e52'),\n",
       " 212: ('ecoinvent-3.10-cutoff', 'a3748b42bc1d3f19b9f8be69ad352c90'),\n",
       " 213: ('ecoinvent-3.10-cutoff', '3f004511e2d60ed67b4659d74db47c54'),\n",
       " 214: ('ecoinvent-3.10-cutoff', 'cb30cbc1a4cfe544541e02b71c06b474'),\n",
       " 215: ('ecoinvent-3.10-cutoff', '783b44a85b5987b7782de01d672af90d'),\n",
       " 216: ('ecoinvent-3.10-cutoff', 'ca28fcff2c6cfa4b02fff77387512cc8'),\n",
       " 217: ('ecoinvent-3.10-cutoff', 'fb1cb834ef2d529be7ec13b0f68d7718'),\n",
       " 218: ('ecoinvent-3.10-cutoff', 'ea2b8d145ff41c0a32b83c25b021ff61'),\n",
       " 219: ('ecoinvent-3.10-cutoff', '209e35302494a607589034fb9978a4d5'),\n",
       " 220: ('ecoinvent-3.10-cutoff', 'edf19c92746eaed98404c890e25bd36c'),\n",
       " 221: ('ecoinvent-3.10-cutoff', '3481f1b94287e834c9ffdac2c204b31a'),\n",
       " 222: ('ecoinvent-3.10-cutoff', 'dd64a823b09ee12f1a140749dd0a9867'),\n",
       " 223: ('ecoinvent-3.10-cutoff', 'beea822a7adaa9d43141338cf4516cfb'),\n",
       " 224: ('ecoinvent-3.10-cutoff', '4551ba0dbd9b7930f6bd922e1d281052'),\n",
       " 225: ('ecoinvent-3.10-cutoff', '7df7ff9fe274b288ea834eafdb5aa789'),\n",
       " 226: ('ecoinvent-3.10-cutoff', 'aa45026bf6c9b6dae0488433eecf49e0'),\n",
       " 227: ('ecoinvent-3.10-cutoff', '5f3124a408fd0725db65ee1a06d3e0f6'),\n",
       " 228: ('ecoinvent-3.10-cutoff', 'ce28e4fee7fcf15917dac509554276f6'),\n",
       " 229: ('ecoinvent-3.10-cutoff', 'ae763bf058d26f1c0d2b31ed72ede650'),\n",
       " 230: ('ecoinvent-3.10-cutoff', '882091f01af0017d908959d23a050914'),\n",
       " 231: ('ecoinvent-3.10-cutoff', '37a2ec86cedc91ecb40a7bd73ba931e9'),\n",
       " 232: ('ecoinvent-3.10-cutoff', 'd3e727dee1d7a70d755803e936a9cc75'),\n",
       " 233: ('ecoinvent-3.10-cutoff', '0085316503b0f0818cbc7b93f3fd2d06'),\n",
       " 234: ('ecoinvent-3.10-cutoff', '4a32adc070b0ad3c8138949a70253589'),\n",
       " 235: ('ecoinvent-3.10-cutoff', 'e7970a7bfe745dd2bbd1abb1bc17e883'),\n",
       " 236: ('ecoinvent-3.10-cutoff', '9f6a1f669fc4358dde64079dc2cd24f1'),\n",
       " 237: ('ecoinvent-3.10-cutoff', 'c88c8417f9408757562f96ca3829ae3c'),\n",
       " 238: ('ecoinvent-3.10-cutoff', '8efab34b39c1379031d3ac17d1df6369'),\n",
       " 239: ('ecoinvent-3.10-cutoff', '92656eae8dbbe3d9adc6b12615c6fb90'),\n",
       " 240: ('ecoinvent-3.10-cutoff', 'c3a7bfe12cfcfeac15080beb2e723816'),\n",
       " 241: ('ecoinvent-3.10-cutoff', 'dd8e9e6f057ddb01d4f36d0d78831ebb'),\n",
       " 242: ('ecoinvent-3.10-cutoff', 'ab996ac9568763d33f9b27be1be6f522'),\n",
       " 243: ('ecoinvent-3.10-cutoff', '9646b33abf115a15b638dc2f98e493e0'),\n",
       " 244: ('ecoinvent-3.10-cutoff', 'c91642221106200f7c1dc72a0fb89327'),\n",
       " 245: ('ecoinvent-3.10-cutoff', 'eae3582d0cffb7292df90dc795bcab68'),\n",
       " 246: ('ecoinvent-3.10-cutoff', '88b8b8fcfff04dd5645a3388a29b151d'),\n",
       " 247: ('ecoinvent-3.10-cutoff', '99a9d692cf31daa02233d89ea1c18d70'),\n",
       " 248: ('ecoinvent-3.10-cutoff', '2de167402af05688571509b754d15ea9'),\n",
       " 249: ('ecoinvent-3.10-cutoff', 'cd52f76bf0122226f0559db21f4072f5'),\n",
       " 250: ('ecoinvent-3.10-cutoff', '9f98da9de7e1c760b40bc6cfa156a4b3'),\n",
       " 251: ('ecoinvent-3.10-cutoff', 'a242bcc2132089164c5daaf0cdd381c4'),\n",
       " 252: ('ecoinvent-3.10-cutoff', '960df276c2db2bf579f9b18863adf7aa'),\n",
       " 253: ('ecoinvent-3.10-cutoff', '60cee5002f8c11d82fd2cafa4734f1d0'),\n",
       " 254: ('ecoinvent-3.10-cutoff', '418c4140ea3206dad8c3eb149bd36167'),\n",
       " 255: ('ecoinvent-3.10-cutoff', 'd84d9fc69b840976740f553851ea2209'),\n",
       " 256: ('ecoinvent-3.10-cutoff', '73ef48c140c3dadea51dadbcc9b31622'),\n",
       " 257: ('ecoinvent-3.10-cutoff', 'eeb213b4cdd6119c3fe355bc6ede3bb2'),\n",
       " 258: ('ecoinvent-3.10-cutoff', '44b9142dba8e129fc4bc3f50bb1326ad'),\n",
       " 259: ('ecoinvent-3.10-cutoff', '7ab3ceb27dc0e9ab9ce88c47d089f729'),\n",
       " 260: ('ecoinvent-3.10-cutoff', '54163351d8e1a9d78bc33acae88c20c0'),\n",
       " 261: ('ecoinvent-3.10-cutoff', '8cf452815ccdc5888311093902278b8e'),\n",
       " 262: ('ecoinvent-3.10-cutoff', '65b40e2cca484c5d5c979f6b6f4e45ad'),\n",
       " 263: ('ecoinvent-3.10-cutoff', 'a3caa247723188a15e1bd566ba894595'),\n",
       " 264: ('ecoinvent-3.10-cutoff', '53d2c610f425a61be0adf8a879b02a96'),\n",
       " 265: ('ecoinvent-3.10-cutoff', '54377f7e72dc51446f6d50fdc2004696'),\n",
       " 266: ('ecoinvent-3.10-cutoff', '8afb9125c7f9943fdc8b13c01501f63f'),\n",
       " 267: ('ecoinvent-3.10-cutoff', '7f8fce36d344dc1a84ac728a1fd57782'),\n",
       " 268: ('ecoinvent-3.10-cutoff', '2256d07be9ed8e8cad96bff230b8d05a'),\n",
       " 269: ('ecoinvent-3.10-cutoff', '96ea0ea7c971497e21c4cb5b3e4b5a69'),\n",
       " 270: ('ecoinvent-3.10-cutoff', '79f468bfe3cff328af7cbcce66722c14'),\n",
       " 271: ('ecoinvent-3.10-cutoff', '64ce8c247913d5ae38d04ee6e3001c47'),\n",
       " 272: ('ecoinvent-3.10-cutoff', 'fc0728358f6dc636be5b1fa659400c07'),\n",
       " 273: ('ecoinvent-3.10-cutoff', 'bb4c895df536911a3f3972fa8b2bf42a'),\n",
       " 274: ('ecoinvent-3.10-cutoff', '8f5fb8a770788e30bb672f992842db39'),\n",
       " 275: ('ecoinvent-3.10-cutoff', '8e1d98054f8f6ab5f32630a723a1c45c'),\n",
       " 276: ('ecoinvent-3.10-cutoff', '00dc263a5c1013a56258f69846f863a9'),\n",
       " 277: ('ecoinvent-3.10-cutoff', '344e5d12bbe379ffbdfafca1ab5c591c'),\n",
       " 278: ('ecoinvent-3.10-cutoff', '4ea2b63fa9a322e554e9b8fbbbb22117'),\n",
       " 279: ('ecoinvent-3.10-cutoff', '1777baf0e0d3ed2285c8ac6a528e921c'),\n",
       " 280: ('ecoinvent-3.10-cutoff', '9b7813915a19a06d7b97ed7189353a7d'),\n",
       " 281: ('ecoinvent-3.10-cutoff', '9984e9d61efdb19ac021ec3505376863'),\n",
       " 282: ('ecoinvent-3.10-cutoff', 'a57036322f6980a9c5ff11c8228896c4'),\n",
       " 283: ('ecoinvent-3.10-cutoff', 'ef5772ef800372282615c6cb3ae3e4e6'),\n",
       " 284: ('ecoinvent-3.10-cutoff', '3e0ac7eb5889ecf8646e2725dd68a3c0'),\n",
       " 285: ('ecoinvent-3.10-cutoff', '896c9b52a32d126d492550f1d95f92a0'),\n",
       " 286: ('ecoinvent-3.10-cutoff', '84ad645c3f10bc64142990f057ea8f87'),\n",
       " 287: ('ecoinvent-3.10-cutoff', 'f26633a81823b1415a645d6984b4b51f'),\n",
       " 288: ('ecoinvent-3.10-cutoff', 'b1d796fd41f2691c5ea9ffc526207bbf'),\n",
       " 289: ('ecoinvent-3.10-cutoff', 'f37d80c0b0b80707b8448496bcff9f08'),\n",
       " 290: ('ecoinvent-3.10-cutoff', '0b9ada1c7e7df988f4bb4a4efb7cb536'),\n",
       " 291: ('ecoinvent-3.10-cutoff', 'bc900c74f83cb092d536dd0f1e5dcee5'),\n",
       " 292: ('ecoinvent-3.10-cutoff', 'c95f9eace19530e39912f6eac18ecd3b'),\n",
       " 293: ('ecoinvent-3.10-cutoff', '23611fd8de57ca8a83a3f01cb7271315'),\n",
       " 294: ('ecoinvent-3.10-cutoff', 'fd0ef8aeab47a9026afce5f112ce114e'),\n",
       " 295: ('ecoinvent-3.10-cutoff', '53caee3690c6e429fd41df9c89a54a4b'),\n",
       " 296: ('ecoinvent-3.10-cutoff', '989d5e96395acd67d0918cec77cd3037'),\n",
       " 297: ('ecoinvent-3.10-cutoff', 'f006bfe98d169f57bdc2355c7e66e891'),\n",
       " 298: ('ecoinvent-3.10-cutoff', '86fa6c4fc6d81b74919bcae70bf23e80'),\n",
       " 299: ('ecoinvent-3.10-cutoff', 'fdc332f7dba6159181f60d847fd08fac'),\n",
       " 300: ('ecoinvent-3.10-cutoff', 'd860ed8d767da93799f971a47e1880f2'),\n",
       " 301: ('ecoinvent-3.10-cutoff', 'fad77d3e7432554152666edeffe9f864'),\n",
       " 302: ('ecoinvent-3.10-cutoff', '7f283374554472b94fcbe17dea39cfbf'),\n",
       " 303: ('ecoinvent-3.10-cutoff', 'bcb83735843990ce5e6ae3ac11a78e1e'),\n",
       " 304: ('ecoinvent-3.10-cutoff', '38f583b7f2f5e92de29517b80a5c59dd'),\n",
       " 305: ('ecoinvent-3.10-cutoff', '31db6b7793ea2a8d6b2024279347288c'),\n",
       " 306: ('ecoinvent-3.10-cutoff', '405ee809d6fdd6cbfa70503ab47c4b45'),\n",
       " 307: ('ecoinvent-3.10-cutoff', 'fdbcae06f68bb8427ac7412319bded53'),\n",
       " 308: ('ecoinvent-3.10-cutoff', 'ba5ab6835e154900b288b912dcd3f171'),\n",
       " 309: ('ecoinvent-3.10-cutoff', '4bbe0c1bcfe2af17afe28a275edd07a0'),\n",
       " 310: ('ecoinvent-3.10-cutoff', 'a73ff53036ca8fbd763623512f467515'),\n",
       " 311: ('ecoinvent-3.10-cutoff', '47b401e0612e8ac043657e9923b5c2e3'),\n",
       " 312: ('ecoinvent-3.10-cutoff', '74a1fcde1768a5c4bffc60e4c95c3d44'),\n",
       " 313: ('ecoinvent-3.10-cutoff', '0f53d8e19f5fd4ef3e55a3322d5ddc19'),\n",
       " 314: ('ecoinvent-3.10-cutoff', 'b7d6316f914516875c17c5b57beebaf7'),\n",
       " 315: ('ecoinvent-3.10-cutoff', '811cb33d89c89a2f90626b09a4bb5d06'),\n",
       " 316: ('ecoinvent-3.10-cutoff', '68150b203a8f40e8a6340696ec1f94e0'),\n",
       " 317: ('ecoinvent-3.10-cutoff', '3e4346b4d05fa6f29316c824ca71ff81'),\n",
       " 318: ('ecoinvent-3.10-cutoff', '0a2095a3bd85711c650b5dd7b3ebca88'),\n",
       " 319: ('ecoinvent-3.10-cutoff', '5cdd1eb6ef38113a9db2b7c42a31fa70'),\n",
       " 320: ('ecoinvent-3.10-cutoff', '03ee113436e66de49533fbdc92a9e23b'),\n",
       " 321: ('ecoinvent-3.10-cutoff', 'b4b1688f34c9539769db41b15ad3767c'),\n",
       " 322: ('ecoinvent-3.10-cutoff', '8ff9184efc354bde84516312d8f97db3'),\n",
       " 323: ('ecoinvent-3.10-cutoff', 'debc8b60a4ea850cb8bc404de6f41a80'),\n",
       " 324: ('ecoinvent-3.10-cutoff', '80f5cf33f5d84deedb229cb74f13b3c4'),\n",
       " 325: ('ecoinvent-3.10-cutoff', 'e40e017c98801ab3800d0d5734fd4d1a'),\n",
       " 326: ('ecoinvent-3.10-cutoff', '7ba264c0262233e4289bcaf9bd0d2820'),\n",
       " 327: ('ecoinvent-3.10-cutoff', 'e5caeee9b3f5752d3a1333c73cf934a0'),\n",
       " 328: ('ecoinvent-3.10-cutoff', '4589db7d7bf2aff900d8e238d25e3aa8'),\n",
       " 329: ('ecoinvent-3.10-cutoff', 'a89a59d7695ae7d45be94c7be609813f'),\n",
       " 330: ('ecoinvent-3.10-cutoff', 'bb298b00643cd5b135ec79a009cf786f'),\n",
       " 331: ('ecoinvent-3.10-cutoff', 'a54b9d2e6af0d7364c84d80575819be4'),\n",
       " 332: ('ecoinvent-3.10-cutoff', '432fbf1e4b412193adcf7edfd9494e26'),\n",
       " 333: ('ecoinvent-3.10-cutoff', '0faa172febba3a04408b511277877e41'),\n",
       " 334: ('ecoinvent-3.10-cutoff', '9b9cfa814904e868b16d8fa321a049c0'),\n",
       " 335: ('ecoinvent-3.10-cutoff', 'e30715eda103792748123498d02d2949'),\n",
       " 336: ('ecoinvent-3.10-cutoff', '9cb79a38e80296cdc37363fe91df7c32'),\n",
       " 337: ('ecoinvent-3.10-cutoff', '8ef829439e78d13d9d209f8190dbb6c6'),\n",
       " 338: ('ecoinvent-3.10-cutoff', '23656dbf711a327d5306ed3777198890'),\n",
       " 339: ('ecoinvent-3.10-cutoff', 'c4119fc9e2cbb23df356f26b58844feb'),\n",
       " 340: ('ecoinvent-3.10-cutoff', '20d8770b73e64a0c78482e27d47f3305'),\n",
       " 341: ('ecoinvent-3.10-cutoff', '30821be7bdf38b856f12dcea4cd298f8'),\n",
       " 342: ('ecoinvent-3.10-cutoff', 'a71714a630b2a07664e1f211da9a7bbe'),\n",
       " 343: ('ecoinvent-3.10-cutoff', 'bdf77fbb6dcf4bb7c923111586efbfc2'),\n",
       " 344: ('ecoinvent-3.10-cutoff', '335ddeb6dd18577e110c20cbfc4de142'),\n",
       " 345: ('ecoinvent-3.10-cutoff', '5712e6231942e6f31d71975a35b69d87'),\n",
       " 346: ('ecoinvent-3.10-cutoff', '4f19fb9e63c01bcef778453a42770430'),\n",
       " 347: ('ecoinvent-3.10-cutoff', '50fce996b69c9db0249f1b96be92bd85'),\n",
       " 348: ('ecoinvent-3.10-cutoff', 'df2156ad4389b6dcf0849379f0500a05'),\n",
       " 349: ('ecoinvent-3.10-cutoff', '23e0d377da4959352be2104eaf8f2e24'),\n",
       " 350: ('ecoinvent-3.10-cutoff', '1aed48802fe6fa5b06fecc0fc901a97c'),\n",
       " 351: ('ecoinvent-3.10-cutoff', '73afbce22a2b1bd66e132ca464e28711'),\n",
       " 352: ('ecoinvent-3.10-cutoff', 'cdb64561c1da4c830812f9c36c227eee'),\n",
       " 353: ('ecoinvent-3.10-cutoff', '6874512fee11daf5af43f0069164a4dd'),\n",
       " 354: ('ecoinvent-3.10-cutoff', 'fabb19a77c0be132016209f387db6ace'),\n",
       " 355: ('ecoinvent-3.10-cutoff', '48fea649afaf774b2f9aff4c447ad5a6'),\n",
       " 356: ('ecoinvent-3.10-cutoff', '037979de7d094454f1ffee5bcee3135f'),\n",
       " 357: ('ecoinvent-3.10-cutoff', '638c40795f69eabccc890712c9c5c6f5'),\n",
       " 358: ('ecoinvent-3.10-cutoff', '3f83d55cb3cad2027ccfc433e56deb65'),\n",
       " 359: ('ecoinvent-3.10-cutoff', 'fe78032f24858e4010d22b8f7dab2e99'),\n",
       " 360: ('ecoinvent-3.10-cutoff', '7ab178ad7a45afc175d58dd2759d02ec'),\n",
       " 361: ('ecoinvent-3.10-cutoff', 'c08edadae22b69a76d149da9cde76ca4'),\n",
       " 362: ('ecoinvent-3.10-cutoff', 'ddebe508e722f76452a13fed828866d3'),\n",
       " 363: ('ecoinvent-3.10-cutoff', '9d6998a5f3b5db26f9df77577e9e4482'),\n",
       " 364: ('ecoinvent-3.10-cutoff', 'bfeb9708fd31ecf94bfde448a1f4f7f5'),\n",
       " 365: ('ecoinvent-3.10-cutoff', '02f2b460bf0c2743327878c0492a8e71'),\n",
       " 366: ('ecoinvent-3.10-cutoff', 'eaa545c62c59e81fba87aa2a14b221d7'),\n",
       " 367: ('ecoinvent-3.10-cutoff', '1ab5ab78b93a1d41ef77393c8553849f'),\n",
       " 368: ('ecoinvent-3.10-cutoff', '85e830bddea7856bcd54c15cf079b568'),\n",
       " 369: ('ecoinvent-3.10-cutoff', '6e52441db614b60f2823b40de4376c2d'),\n",
       " 370: ('ecoinvent-3.10-cutoff', 'a26ba0f6f0bce1e9e58939b505d238cc'),\n",
       " 371: ('ecoinvent-3.10-cutoff', '43e3e310cd8ad71b9e1b8d20a38bf005'),\n",
       " 372: ('ecoinvent-3.10-cutoff', '1a88096d4f6e6b956f403fecf3c7322c'),\n",
       " 373: ('ecoinvent-3.10-cutoff', 'd7cf11fc2199bdc86d937af0a7254100'),\n",
       " 374: ('ecoinvent-3.10-cutoff', 'ba8673aca0e9b5fdff5f5c6ad2f2798a'),\n",
       " 375: ('ecoinvent-3.10-cutoff', 'a0991a7e02932a7322995dd1e376ef26'),\n",
       " 376: ('ecoinvent-3.10-cutoff', 'a54fb72b087307e8efa09f05af0c886a'),\n",
       " 377: ('ecoinvent-3.10-cutoff', '6540ac2751db6144c752489cc36c2a24'),\n",
       " 378: ('ecoinvent-3.10-cutoff', '796f9e45ce1739780aa247b8c2b06041'),\n",
       " 379: ('ecoinvent-3.10-cutoff', '2f487e316300367145da875b1f8a5341'),\n",
       " 380: ('ecoinvent-3.10-cutoff', 'd6a28c46e187128dede73bef8d40646e'),\n",
       " 381: ('ecoinvent-3.10-cutoff', '8848b2a26dfa482da2d1a0b55fcd343c'),\n",
       " 382: ('ecoinvent-3.10-cutoff', 'cf4675142e927ba4e27116996a892e00'),\n",
       " 383: ('ecoinvent-3.10-cutoff', 'fe80ba633a3c0655f7770dc720e6106b'),\n",
       " 384: ('ecoinvent-3.10-cutoff', 'cf7e74adb3c2a6952092ea0e2236396a'),\n",
       " 385: ('ecoinvent-3.10-cutoff', 'bfd9213cd014a4e7882c1d19bfc031b0'),\n",
       " 386: ('ecoinvent-3.10-cutoff', '124e8379fdff26c62239af2f3da926b9'),\n",
       " 387: ('ecoinvent-3.10-cutoff', '63ba0895709a3a67031942afec966623'),\n",
       " 388: ('ecoinvent-3.10-cutoff', 'c2e8ccb67cdc55ece976e8eb87396f95'),\n",
       " 389: ('ecoinvent-3.10-cutoff', '26def786c6c593b69b5a4a04baf3307d'),\n",
       " 390: ('ecoinvent-3.10-cutoff', '1b95bb1496d5c036809efa0deb2703a0'),\n",
       " 391: ('ecoinvent-3.10-cutoff', 'f3ceda57260041823657bd037a968594'),\n",
       " 392: ('ecoinvent-3.10-cutoff', '2cb4431206c6622193320a16e515de5c'),\n",
       " 393: ('ecoinvent-3.10-cutoff', '0919222494776b6e2420563bf0edb7e0'),\n",
       " 394: ('ecoinvent-3.10-cutoff', '83e9f1e4a4ff667ab3ce6a3f690020dd'),\n",
       " 395: ('ecoinvent-3.10-cutoff', '822f53c0f38d8984fcbdfe536b01cf8d'),\n",
       " 396: ('ecoinvent-3.10-cutoff', '3b8a109aa5eadf78b478abf6e06d8e89'),\n",
       " 397: ('ecoinvent-3.10-cutoff', 'b24912af587dfd3d77e4426c1d5dfe7a'),\n",
       " 398: ('ecoinvent-3.10-cutoff', '20043613b40525e4be5dcd57922065e8'),\n",
       " 399: ('ecoinvent-3.10-cutoff', 'bfbb685778a10eedd8396911edd8bcf7'),\n",
       " 400: ('ecoinvent-3.10-cutoff', '2fd426d113b7a3d2976661cd743f0d26'),\n",
       " 401: ('ecoinvent-3.10-cutoff', '434b3203af3f599bfda58f17e3adc058'),\n",
       " 402: ('ecoinvent-3.10-cutoff', '9b224e21320696a48563e8b34265a7b7'),\n",
       " 403: ('ecoinvent-3.10-cutoff', '9ba821ec2ada931183b7dbba4ffdc5cf'),\n",
       " 404: ('ecoinvent-3.10-cutoff', 'ad2439d900f6bc06a653077838e46fde'),\n",
       " 405: ('ecoinvent-3.10-cutoff', '859e70c05dd7bb9eaa3f63d286dda089'),\n",
       " 406: ('ecoinvent-3.10-cutoff', '3380873069ebcfb394df603043592dc6'),\n",
       " 407: ('ecoinvent-3.10-cutoff', 'd6e07f766a7fc0d86e5d130b8be6fb18'),\n",
       " 408: ('ecoinvent-3.10-cutoff', '0b69359feab9d55532e277518cac2f69'),\n",
       " 409: ('ecoinvent-3.10-cutoff', 'c8bdcd858b5893b898f7a76f1ddc6e92'),\n",
       " 410: ('ecoinvent-3.10-cutoff', 'b313b39ecf2b5b9f8741a17b9816ef6f'),\n",
       " 411: ('ecoinvent-3.10-cutoff', '95f5209387e52512e2744f0f5473a6d0'),\n",
       " 412: ('ecoinvent-3.10-cutoff', '0ad8488b303f1191addf06b2c6925a35'),\n",
       " 413: ('ecoinvent-3.10-cutoff', '5651270cc756ad6697adb30f267dec06'),\n",
       " 414: ('ecoinvent-3.10-cutoff', '109359528641ff448e7d547099db5e3d'),\n",
       " 415: ('ecoinvent-3.10-cutoff', '3a4b726199954b39ba7021f200751c84'),\n",
       " 416: ('ecoinvent-3.10-cutoff', 'bd150e3bd6f2340259e191b70ac76603'),\n",
       " 417: ('ecoinvent-3.10-cutoff', 'ff7d8e7d56f76fdb0f111a5822c3eba1'),\n",
       " 418: ('ecoinvent-3.10-cutoff', '72238e928c93ffeaed56ea84fe2d1397'),\n",
       " 419: ('ecoinvent-3.10-cutoff', '726e4ee3c1567bee71e99c34d355a877'),\n",
       " 420: ('ecoinvent-3.10-cutoff', '778be7f18271f1ed862521225836e2fc'),\n",
       " 421: ('ecoinvent-3.10-cutoff', '46d133ca9a026fb7cb68f553dfcce3a9'),\n",
       " 422: ('ecoinvent-3.10-cutoff', 'c6ea108b1fa0a7d5797a3ce96d9d51f4'),\n",
       " 423: ('ecoinvent-3.10-cutoff', 'dfe0661acb8d0e5a67e8d763c28a9cbd'),\n",
       " 424: ('ecoinvent-3.10-cutoff', '5261e4e41d2c07d1f6a24dca4f87e995'),\n",
       " 425: ('ecoinvent-3.10-cutoff', '4420d0b606391a317d10a0208c8a4991'),\n",
       " 426: ('ecoinvent-3.10-cutoff', 'c5922b703bc39585c749c3571c371434'),\n",
       " 427: ('ecoinvent-3.10-cutoff', '95ae9c67dc2bfebb0d4117e71177fb4f'),\n",
       " 428: ('ecoinvent-3.10-cutoff', '74a53428e8cd64ebc63e34a91d76d359'),\n",
       " 429: ('ecoinvent-3.10-cutoff', '2aa1292c1383546a1ee6e7adb2ecdc08'),\n",
       " 430: ('ecoinvent-3.10-cutoff', 'c9dc690e84719cc642b2700e2cd39125'),\n",
       " 431: ('ecoinvent-3.10-cutoff', '287eef1daf8fe1fbecb5a35965a2082a'),\n",
       " 432: ('ecoinvent-3.10-cutoff', '99441a8fa58fc9cd8515c8c9662107cf'),\n",
       " 433: ('ecoinvent-3.10-cutoff', 'cf9b11fd15043e987f25c143da1f0958'),\n",
       " 434: ('ecoinvent-3.10-cutoff', '90d069932547eb6f8f4363c304a00466'),\n",
       " 435: ('ecoinvent-3.10-cutoff', 'ecbd26af9f3502de22416d85db7e0aab'),\n",
       " 436: ('ecoinvent-3.10-cutoff', 'a611db9a708a56714ce96590c9b1ccea'),\n",
       " 437: ('ecoinvent-3.10-cutoff', '8f4f70adad89820487a4f465513c1999'),\n",
       " 438: ('ecoinvent-3.10-cutoff', 'cb171c78b4b48dc587b4cb521f00069a'),\n",
       " 439: ('ecoinvent-3.10-cutoff', 'e7d4294ad5e6a5b4b7c33ae53af228dc'),\n",
       " 440: ('ecoinvent-3.10-cutoff', '655543812708f69913676da8ee547bf3'),\n",
       " 441: ('ecoinvent-3.10-cutoff', '4cb938b8a49683e82d621c4708810245'),\n",
       " 442: ('ecoinvent-3.10-cutoff', 'd3d8468aa81e8a218f7658c12a530091'),\n",
       " 443: ('ecoinvent-3.10-cutoff', '122f9d7dca9c4fbeb2d797854be5baf2'),\n",
       " 444: ('ecoinvent-3.10-cutoff', 'ce2458b43d40580adf4616af061a9477'),\n",
       " 445: ('ecoinvent-3.10-cutoff', 'b77d98f88ab0c56cd62287342c12ee78'),\n",
       " 446: ('ecoinvent-3.10-cutoff', '26b487fa6886f89493fa5b0e155d0e1f'),\n",
       " 447: ('ecoinvent-3.10-cutoff', '9dc20fa7b08193115b429142e24499e2'),\n",
       " 448: ('ecoinvent-3.10-cutoff', '9ec6fed799b8d7eedf544f3dfe8f6927'),\n",
       " 449: ('ecoinvent-3.10-cutoff', '8dccdc1f988d049fab7ccb3f25e3870c'),\n",
       " 450: ('ecoinvent-3.10-cutoff', '7cd6ad5f07282cb6c2c418cf72d8015b'),\n",
       " 451: ('ecoinvent-3.10-cutoff', '26aba32dadc7c7d8f84f72dfe5a7024b'),\n",
       " 452: ('ecoinvent-3.10-cutoff', 'f76c27829858c4d7ea8a100b2b587e6c'),\n",
       " 453: ('ecoinvent-3.10-cutoff', '54737d7d783e759db2fdc04cda122b2d'),\n",
       " 454: ('ecoinvent-3.10-cutoff', '9dd4d77a9308b8083ac090aac56a7c49'),\n",
       " 455: ('ecoinvent-3.10-cutoff', '155385407e10bbb2d1cf3cf171c6cd51'),\n",
       " 456: ('ecoinvent-3.10-cutoff', 'd2635fb04b08ded4aa98d067672a051b'),\n",
       " 457: ('ecoinvent-3.10-cutoff', '0c6e67f101910508bc2ee22830604627'),\n",
       " 458: ('ecoinvent-3.10-cutoff', 'ebdb7682baac374ce3c3bc85d5b5ae70'),\n",
       " 459: ('ecoinvent-3.10-cutoff', 'd8f3c7e97d5fd55007325a339355630e'),\n",
       " 460: ('ecoinvent-3.10-cutoff', '703201d11a92c0beef38c89c2aec05ee'),\n",
       " 461: ('ecoinvent-3.10-cutoff', 'b82bbd819dcda3d3a336a21fed2e88db'),\n",
       " 462: ('ecoinvent-3.10-cutoff', '1e77da0f9c1e2fcd66487e48dad24458'),\n",
       " 463: ('ecoinvent-3.10-cutoff', 'fc60a0c78fe3a0cc3fd25650c0a4edbe'),\n",
       " 464: ('ecoinvent-3.10-cutoff', '49300f231764df010c5863150b9b5c98'),\n",
       " 465: ('ecoinvent-3.10-cutoff', 'd596fd880dd6d13ce58fc1249f031761'),\n",
       " 466: ('ecoinvent-3.10-cutoff', 'c2ee07dd6291d09a096d7b0e84318e68'),\n",
       " 467: ('ecoinvent-3.10-cutoff', '90dea7e2c5767bc83d009c8adaf84db6'),\n",
       " 468: ('ecoinvent-3.10-cutoff', '26a124d729ba8afa51d5103b4c9c1260'),\n",
       " 469: ('ecoinvent-3.10-cutoff', '32dd6410d6d777521b0f6af2c0adfcad'),\n",
       " 470: ('ecoinvent-3.10-cutoff', '3a3e846c11d5f71e1919e7e2867c35da'),\n",
       " 471: ('ecoinvent-3.10-cutoff', 'd86e4a9d24eb6f2688f0495db51971bc'),\n",
       " 472: ('ecoinvent-3.10-cutoff', '5588ee78bd7182229c1f6a14f8bebd55'),\n",
       " 473: ('ecoinvent-3.10-cutoff', '8598995b87974b622ee1f18b10a3ab51'),\n",
       " 474: ('ecoinvent-3.10-cutoff', '3b2a9c359ee74d0fc2197c6fa79f9af5'),\n",
       " 475: ('ecoinvent-3.10-cutoff', '2f2d631e308cb93b437caa3203829bfb'),\n",
       " 476: ('ecoinvent-3.10-cutoff', '98a3c2a5aabc057a40fb6e7e6a07c758'),\n",
       " 477: ('ecoinvent-3.10-cutoff', '5b9c215315c68249cc6349ebfd425db9'),\n",
       " 478: ('ecoinvent-3.10-cutoff', '630584c0df94e52345b79a16a2559727'),\n",
       " 479: ('ecoinvent-3.10-cutoff', '1d19621f31321a9b1067b28b14df3261'),\n",
       " 480: ('ecoinvent-3.10-cutoff', 'ca06bfb0b441a94d2b7d52f0754a97cd'),\n",
       " 481: ('ecoinvent-3.10-cutoff', '0fc2c5e9c280bdc618bd2cd3c1d2e6d7'),\n",
       " 482: ('ecoinvent-3.10-cutoff', '9158d592fc7c2344c3a59900fffe1875'),\n",
       " 483: ('ecoinvent-3.10-cutoff', '2d3513cc4a373e30488202b016ec5c43'),\n",
       " 484: ('ecoinvent-3.10-cutoff', '60ebedb29aad16737d8cbdf798ce38a6'),\n",
       " 485: ('ecoinvent-3.10-cutoff', '7bac37dfae88f3c1f07e45252044ec17'),\n",
       " 486: ('ecoinvent-3.10-cutoff', '056e6d5839a504b850f12ec4b7e25284'),\n",
       " 487: ('ecoinvent-3.10-cutoff', '5305dcbd2038f15e643fed408ebb27cc'),\n",
       " 488: ('ecoinvent-3.10-cutoff', '828543a8dc0e5ecfbf78dbd53b1e5e32'),\n",
       " 489: ('ecoinvent-3.10-cutoff', '35f31be862c0a8b38770263e0ea1d349'),\n",
       " 490: ('ecoinvent-3.10-cutoff', '267ef8b91daaa3cc5e6ecd45e182d0d6'),\n",
       " 491: ('ecoinvent-3.10-cutoff', 'd27c7a0da7092865f4cfd4611a60bdb4'),\n",
       " 492: ('ecoinvent-3.10-cutoff', '1ac5c2d863a011271528323d4a686745'),\n",
       " 493: ('ecoinvent-3.10-cutoff', '03860d6d5f9af5cc0ee5018bd0591ceb'),\n",
       " 494: ('ecoinvent-3.10-cutoff', '6ddb258254a59b65cdffdc4d3d9a8173'),\n",
       " 495: ('ecoinvent-3.10-cutoff', '98abff8846a0e1ea80be8831c272f39e'),\n",
       " 496: ('ecoinvent-3.10-cutoff', '226eca871d6edfc3a18597502434df71'),\n",
       " 497: ('ecoinvent-3.10-cutoff', '54d06545919ddfb90ffacf7247318429'),\n",
       " 498: ('ecoinvent-3.10-cutoff', 'dacc6641cf364a48e59dc3bf0db7dcd5'),\n",
       " 499: ('ecoinvent-3.10-cutoff', '50a510ddcf22d8218828631dd1fcd7cc'),\n",
       " 500: ('ecoinvent-3.10-cutoff', '539241936b8820c78bcbef76200decc9'),\n",
       " 501: ('ecoinvent-3.10-cutoff', '4bb315b1a31b2eed6d64504f2b3115dd'),\n",
       " 502: ('ecoinvent-3.10-cutoff', '50cf07add69cf27cb8b280285261ed9e'),\n",
       " 503: ('ecoinvent-3.10-cutoff', 'd350bb2fc920ba0111e89f8bf61535e4'),\n",
       " 504: ('ecoinvent-3.10-cutoff', '71a8240306bfdc1ac7852ce45e3d2656'),\n",
       " 505: ('ecoinvent-3.10-cutoff', '58d7276f3debb7cd4ca4c5a24108c135'),\n",
       " 506: ('ecoinvent-3.10-cutoff', '81faf8051f58cdf9e290bfc54a0fb3d1'),\n",
       " 507: ('ecoinvent-3.10-cutoff', '3b3576ed296a533ca162b828010755cf'),\n",
       " 508: ('ecoinvent-3.10-cutoff', 'b2b11c6d3aff2ec543b7ea0ed0aae494'),\n",
       " 509: ('ecoinvent-3.10-cutoff', 'ad1436d328217e597688c0efdfb96804'),\n",
       " 510: ('ecoinvent-3.10-cutoff', '13ec6638a6ae88399505cd764f47b50f'),\n",
       " 511: ('ecoinvent-3.10-cutoff', 'a1d4676bbe897329684bec62e5d4d480'),\n",
       " 512: ('ecoinvent-3.10-cutoff', '89e2d20dded0906ce733a4c10d75f771'),\n",
       " 513: ('ecoinvent-3.10-cutoff', '7025a911e1f6a313eafc8e11b4b0e57a'),\n",
       " 514: ('ecoinvent-3.10-cutoff', '2afdab651e6f89a9d929080b0c800cec'),\n",
       " 515: ('ecoinvent-3.10-cutoff', 'cfbc578dd6ed1d7b255a56c632ebf875'),\n",
       " 516: ('ecoinvent-3.10-cutoff', 'c5566a99a7222bab8d47788e2fe65df7'),\n",
       " 517: ('ecoinvent-3.10-cutoff', '3d9dc4631b746d3b762bd4b703d2c98a'),\n",
       " 518: ('ecoinvent-3.10-cutoff', '00d32706ca167d3449e306279517432b'),\n",
       " 519: ('ecoinvent-3.10-cutoff', 'e50d0e38f23a25b3b96e9e96adac8b76'),\n",
       " 520: ('ecoinvent-3.10-cutoff', '136dabe30ee1c3218f44551e99826e6c'),\n",
       " 521: ('ecoinvent-3.10-cutoff', '6433a2a8043d8d6b0fcee2c753a6b3a2'),\n",
       " 522: ('ecoinvent-3.10-cutoff', '88a774b9875691f54aa70603062161aa'),\n",
       " 523: ('ecoinvent-3.10-cutoff', '89f1a4d89d0231b72247f98095bc1ea8'),\n",
       " 524: ('ecoinvent-3.10-cutoff', 'd784a5c524e53df1542ddd5897ad33f1'),\n",
       " 525: ('ecoinvent-3.10-cutoff', '36c100be60f1123a949cacd07b0feafc'),\n",
       " 526: ('ecoinvent-3.10-cutoff', '79f368cc91310a7fbcd8f250aab3f4a0'),\n",
       " 527: ('ecoinvent-3.10-cutoff', '57f1fc2e800aaf4396b9f6c1a48f18bb'),\n",
       " 528: ('ecoinvent-3.10-cutoff', '19394e15cf046e93a8996297fc8d71b9'),\n",
       " 529: ('ecoinvent-3.10-cutoff', '6422343ba70a3be745b6b389520a8130'),\n",
       " 530: ('ecoinvent-3.10-cutoff', '9db049854ed154d0fdced60a7b77cbb3'),\n",
       " 531: ('ecoinvent-3.10-cutoff', '545c83a28b0f2fbd67212a02092b016f'),\n",
       " 532: ('ecoinvent-3.10-cutoff', '4c9f2dd26827ccc11ebbfa3e0c7e3465'),\n",
       " 533: ('ecoinvent-3.10-cutoff', '61f66e1f05ec7d3e2aeb5fcfa7bf299e'),\n",
       " 534: ('ecoinvent-3.10-cutoff', '5ce3f3c757b9a8d7d7edabcb570ada8e'),\n",
       " 535: ('ecoinvent-3.10-cutoff', 'c6928c39ad035fb8935017692ecf0935'),\n",
       " 536: ('ecoinvent-3.10-cutoff', '05ca0001568557331e5c78b9f4f0fa5b'),\n",
       " 537: ('ecoinvent-3.10-cutoff', '26c73cc5d771c7d9cb407b2e0bfa3b3b'),\n",
       " 538: ('ecoinvent-3.10-cutoff', 'e20ceb955b022a8e721148111bb788ad'),\n",
       " 539: ('ecoinvent-3.10-cutoff', '6a75902c8ef13f7fb8aa9b07fc85a6ef'),\n",
       " 540: ('ecoinvent-3.10-cutoff', '1c5f0fd0b0669f89d3fb92d5bf8b30c8'),\n",
       " 541: ('ecoinvent-3.10-cutoff', '73cb6d8ab7311093d39f2f46ecd6d75c'),\n",
       " 542: ('ecoinvent-3.10-cutoff', 'a93dac637200995a7f2b72418b69b80e'),\n",
       " 543: ('ecoinvent-3.10-cutoff', '790e6561d2f3ed17671847d29cb7bbe8'),\n",
       " 544: ('ecoinvent-3.10-cutoff', '40093e9b1ecb191f4654a535b5ed83d3'),\n",
       " 545: ('ecoinvent-3.10-cutoff', 'aeb107e6bf6d84ec820fc415a5a614ff'),\n",
       " 546: ('ecoinvent-3.10-cutoff', 'd3056bcdf79f74489e1c8de202124398'),\n",
       " 547: ('ecoinvent-3.10-cutoff', 'b2a54786f84da201cbe8022508e25401'),\n",
       " 548: ('ecoinvent-3.10-cutoff', '5812d7452ba6f6e75011c669969489ba'),\n",
       " 549: ('ecoinvent-3.10-cutoff', 'e5f4583f0ff87cbb848cfdfaefde7a3d'),\n",
       " 550: ('ecoinvent-3.10-cutoff', 'd0a9f5e2e3fae7e6a79e05b103143736'),\n",
       " 551: ('ecoinvent-3.10-cutoff', 'e3196f97692680688cdea7dd014caa7f'),\n",
       " 552: ('ecoinvent-3.10-cutoff', 'fe2a22ac33ef91d4ac0760c0ec83b648'),\n",
       " 553: ('ecoinvent-3.10-cutoff', '06a2c62d1ad5ad00cde7c48b2e66169b'),\n",
       " 554: ('ecoinvent-3.10-cutoff', '360c522b1e8da5760846b1e9873cf77a'),\n",
       " 555: ('ecoinvent-3.10-cutoff', 'f3a7645ee070f00ec1860e541c0cd2cd'),\n",
       " 556: ('ecoinvent-3.10-cutoff', '55366f07ea29f2791a4999139b79464d'),\n",
       " 557: ('ecoinvent-3.10-cutoff', '811cfa6fc2df58cd76117833e7fe5b45'),\n",
       " 558: ('ecoinvent-3.10-cutoff', 'ab0c9d6c0eefaca89e0ecd5844458ef8'),\n",
       " 559: ('ecoinvent-3.10-cutoff', '6ab55c6e63cdb48a9c2ccdf6bdf24f74'),\n",
       " 560: ('ecoinvent-3.10-cutoff', 'c91bad7161287cfe2e3b1031a9c11e79'),\n",
       " 561: ('ecoinvent-3.10-cutoff', '50e6e326a5fb5807100aca7936fb3ded'),\n",
       " 562: ('ecoinvent-3.10-cutoff', '6f4fcc7bbe949041341e9a31ac794367'),\n",
       " 563: ('ecoinvent-3.10-cutoff', 'c5c04224007164c37a7d0921ee1a38ff'),\n",
       " 564: ('ecoinvent-3.10-cutoff', 'd79e0c77cba230389ea41ef64a48f458'),\n",
       " 565: ('ecoinvent-3.10-cutoff', 'd931293fe9e04ec21fbc7c519799caf2'),\n",
       " 566: ('ecoinvent-3.10-cutoff', 'f4ee20d7b28c02ec7c1a3ec31a25e636'),\n",
       " 567: ('ecoinvent-3.10-cutoff', 'c49f16e9b114ca1c3e50a9ff7310ac0b'),\n",
       " 568: ('ecoinvent-3.10-cutoff', 'fa7418b458719d003aaee90a03d89851'),\n",
       " 569: ('ecoinvent-3.10-cutoff', '3353baf850c94cfc2f6f796c76f815a7'),\n",
       " 570: ('ecoinvent-3.10-cutoff', 'c15df4491e2aca31eb1080bf76c86b3b'),\n",
       " 571: ('ecoinvent-3.10-cutoff', '0aa8a02fd3555b510409439f340d3f66'),\n",
       " 572: ('ecoinvent-3.10-cutoff', 'a191c3ce527edbffa28ab719abd2000b'),\n",
       " 573: ('ecoinvent-3.10-cutoff', 'b320dafb7d0786c8a9c83943c2888457'),\n",
       " 574: ('ecoinvent-3.10-cutoff', '1b0a65ebb95e813fe1df8804e023bcc3'),\n",
       " 575: ('ecoinvent-3.10-cutoff', '3a65dbb31ea36e94db75c8ae505cd4a3'),\n",
       " 576: ('ecoinvent-3.10-cutoff', '468e843581c3b791e76d09084383d7ef'),\n",
       " 577: ('ecoinvent-3.10-cutoff', 'c48a52a7d49bd004d69a741896040f50'),\n",
       " 578: ('ecoinvent-3.10-cutoff', 'ee7ec45473124ca27ff18e5492d24220'),\n",
       " 579: ('ecoinvent-3.10-cutoff', '526828b8aab32e08a8e282be5dfcd86a'),\n",
       " 580: ('ecoinvent-3.10-cutoff', 'bbfa0ed1c00a1e07c4d1a997958c2fee'),\n",
       " 581: ('ecoinvent-3.10-cutoff', '7dae3fb7fc718b9ff31c40602a352471'),\n",
       " 582: ('ecoinvent-3.10-cutoff', '92b5fc3de7ce3cdf52218f75dccfb3ad'),\n",
       " 583: ('ecoinvent-3.10-cutoff', '7138a931414b698a1e0684707de329fb'),\n",
       " 584: ('ecoinvent-3.10-cutoff', '465f5342976e4ccefd0cd90b3a8ebdc5'),\n",
       " 585: ('ecoinvent-3.10-cutoff', '95225b901915601e91fd193e59980298'),\n",
       " 586: ('ecoinvent-3.10-cutoff', 'b45b30ea8b329b9a53d04b95ad2538d5'),\n",
       " 587: ('ecoinvent-3.10-cutoff', 'de5d6b4ff3db67872c27e62ff346eadb'),\n",
       " 588: ('ecoinvent-3.10-cutoff', 'e7d4472ba90f5cc0186ee95c4a985d4c'),\n",
       " 589: ('ecoinvent-3.10-cutoff', '7ab70a4007b8a80ef4bd0cde458cf212'),\n",
       " 590: ('ecoinvent-3.10-cutoff', 'f97264d26d3b14ea2d5a3ba00f04ef6a'),\n",
       " 591: ('ecoinvent-3.10-cutoff', '04db3565e3d60a38257ce6d2e558c53c'),\n",
       " 592: ('ecoinvent-3.10-cutoff', '0c47f4f05e50fc84d80b8d0e63ef772f'),\n",
       " 593: ('ecoinvent-3.10-cutoff', '62467f7861cd75c02e6719b52d79e0c4'),\n",
       " 594: ('ecoinvent-3.10-cutoff', '9fac8ac5abb184ee6a0d57f5a7d886b2'),\n",
       " 595: ('ecoinvent-3.10-cutoff', '1dbf33cde943f38285ce6b0cea2a3319'),\n",
       " 596: ('ecoinvent-3.10-cutoff', 'ff9714cd799eaee97033e5971edc99cd'),\n",
       " 597: ('ecoinvent-3.10-cutoff', '651f719fb2051e38d3cea872408c468e'),\n",
       " 598: ('ecoinvent-3.10-cutoff', '8d9494a9862933092fb97624579efff9'),\n",
       " 599: ('ecoinvent-3.10-cutoff', '28017da4570cbc60b089f126e2706a9a'),\n",
       " 600: ('ecoinvent-3.10-cutoff', 'bc2ccae14781a3bbf56c1cd4e8b91fde'),\n",
       " 601: ('ecoinvent-3.10-cutoff', '288c93867d6fbfa8a683a618b2c3053a'),\n",
       " 602: ('ecoinvent-3.10-cutoff', '3404a5bf11dc36437e3263ab31b93433'),\n",
       " 603: ('ecoinvent-3.10-cutoff', 'cd7f909e46999ae84e376ad8cbba3f11'),\n",
       " 604: ('ecoinvent-3.10-cutoff', '7e8c6534f98b93977a3dba52a213bc3d'),\n",
       " 605: ('ecoinvent-3.10-cutoff', '9f4645a45ab53ad56d2066d0ee6dc6a9'),\n",
       " 606: ('ecoinvent-3.10-cutoff', 'd07d550fbbb266ced12c10c7102fbf7c'),\n",
       " 607: ('ecoinvent-3.10-cutoff', '60477d2d138711b51928cf621f6b5344'),\n",
       " 608: ('ecoinvent-3.10-cutoff', 'ff52e3e555ff7afdcffd986111677b56'),\n",
       " 609: ('ecoinvent-3.10-cutoff', 'b71c08c4c2de1c9e6a4e04597911d3cd'),\n",
       " 610: ('ecoinvent-3.10-cutoff', '732ac31f1e8e889bd7b0d995d3dc82c0'),\n",
       " 611: ('ecoinvent-3.10-cutoff', 'b518d56c948b13d2ed797cf654ca15f5'),\n",
       " 612: ('ecoinvent-3.10-cutoff', 'f5624792841628f6b66501a1bff74581'),\n",
       " 613: ('ecoinvent-3.10-cutoff', '0531982f7d8486b83892cadbf9e2c2c6'),\n",
       " 614: ('ecoinvent-3.10-cutoff', 'b47bb609be857e71b896a55864160736'),\n",
       " 615: ('ecoinvent-3.10-cutoff', '3d24b892cc4088f33539e261065ae8ad'),\n",
       " 616: ('ecoinvent-3.10-cutoff', '0aaaaba6c065a4d209a911d73172b0e2'),\n",
       " 617: ('ecoinvent-3.10-cutoff', '942652e069e1f0571b3e3ed82fb8c0a0'),\n",
       " 618: ('ecoinvent-3.10-cutoff', '0b2a2eb2c59f6ef3cb5ecf35c06e4bba'),\n",
       " 619: ('ecoinvent-3.10-cutoff', '170964cfc093d42fd3aa7c7140fb8b14'),\n",
       " 620: ('ecoinvent-3.10-cutoff', 'd8bfbf960b3c217ae454271cec3593d0'),\n",
       " 621: ('ecoinvent-3.10-cutoff', 'c13162a23ef57c404da282b98f63b09c'),\n",
       " 622: ('ecoinvent-3.10-cutoff', '0b88ae4bc0c5723f5cb34d3b1c438627'),\n",
       " 623: ('ecoinvent-3.10-cutoff', '1cdbc26d5b83d3895f46b4dd6b2b0751'),\n",
       " 624: ('ecoinvent-3.10-cutoff', 'cd2677ae60b1cf31b81ab4e99537ca25'),\n",
       " 625: ('ecoinvent-3.10-cutoff', '7be89164673e4399521e3f14c68f3510'),\n",
       " 626: ('ecoinvent-3.10-cutoff', 'c90c6c9ea17d4e51cf27566f58720a5b'),\n",
       " 627: ('ecoinvent-3.10-cutoff', 'c4072da0da6b5f74dec58b58bb640c41'),\n",
       " 628: ('ecoinvent-3.10-cutoff', 'f36125a9479049345e6b28eb659d2582'),\n",
       " 629: ('ecoinvent-3.10-cutoff', 'a061960e659560e48645c175ecdc590f'),\n",
       " 630: ('ecoinvent-3.10-cutoff', '2c204f3327b916fec04c916aaaa5a1c9'),\n",
       " 631: ('ecoinvent-3.10-cutoff', '9eb9894e8471ce9ef58dee29b6b73ab0'),\n",
       " 632: ('ecoinvent-3.10-cutoff', '086c598dc13fcd398e461f01c16763cd'),\n",
       " 633: ('ecoinvent-3.10-cutoff', 'f9fd5de779d90baf21bab4c6f25c1154'),\n",
       " 634: ('ecoinvent-3.10-cutoff', '90f28b0e194f11db6127e34263baac71'),\n",
       " 635: ('ecoinvent-3.10-cutoff', 'dabf4342b11f5354e6578e62adc5cb7b'),\n",
       " 636: ('ecoinvent-3.10-cutoff', 'd1c705beca7644c36bbd901f49870616'),\n",
       " 637: ('ecoinvent-3.10-cutoff', 'ffa3ec287fc0179560bc590f34eaf76a'),\n",
       " 638: ('ecoinvent-3.10-cutoff', 'fb15d7ac8b1bd6b17e12dfb5d4d4aaed'),\n",
       " 639: ('ecoinvent-3.10-cutoff', '0d21ca77d80798ed1d00428f7eece1aa'),\n",
       " 640: ('ecoinvent-3.10-cutoff', '617c814ed9ad3c01ae0b264df63ef42b'),\n",
       " 641: ('ecoinvent-3.10-cutoff', '27a3a9e8a0280469bdd0e5e21ecb407e'),\n",
       " 642: ('ecoinvent-3.10-cutoff', 'b21dee11149ee3da2a4d026015d86b10'),\n",
       " 643: ('ecoinvent-3.10-cutoff', 'bbdf7b696a41b7b884ecb1b1895925c0'),\n",
       " 644: ('ecoinvent-3.10-cutoff', '0e9430f99fd58c722710495369606259'),\n",
       " 645: ('ecoinvent-3.10-cutoff', 'd0b3bc3147c8e72e35ff3ffc559b8d16'),\n",
       " 646: ('ecoinvent-3.10-cutoff', '3686101b3992f25cc1ff0a14a11e6a0d'),\n",
       " 647: ('ecoinvent-3.10-cutoff', '7b8a0095b18d1875eb55ea2753a2b15d'),\n",
       " 648: ('ecoinvent-3.10-cutoff', 'ea54e28dc1c9f5d8dfa67be3e1db78be'),\n",
       " 649: ('ecoinvent-3.10-cutoff', '342aa75d010083ad411ee5b8c974facc'),\n",
       " 650: ('ecoinvent-3.10-cutoff', '302be1261d397de5684bcc80e6cb01a3'),\n",
       " 651: ('ecoinvent-3.10-cutoff', '45e2e24b4f0eab59806a671fcd05d667'),\n",
       " 652: ('ecoinvent-3.10-cutoff', '28e615dc850f272e6c167da7c1cc26b9'),\n",
       " 653: ('ecoinvent-3.10-cutoff', '908ff9d0f1c1d4e342a8a9954ac4de5b'),\n",
       " 654: ('ecoinvent-3.10-cutoff', 'a25bfd96294610f67a0be9eff097e3e1'),\n",
       " 655: ('ecoinvent-3.10-cutoff', '6b2ad410522511e012ed22c91a0e86d7'),\n",
       " 656: ('ecoinvent-3.10-cutoff', 'd038d3176ea769b07e4ca3674307dca6'),\n",
       " 657: ('ecoinvent-3.10-cutoff', '1b7e6f571a8b3a51e41cb242637fab97'),\n",
       " 658: ('ecoinvent-3.10-cutoff', 'fe32ea39e09c804d69ebb69d23809da9'),\n",
       " 659: ('ecoinvent-3.10-cutoff', '4c8f1c4e1162ce6d9b3a11c3c0d6e808'),\n",
       " 660: ('ecoinvent-3.10-cutoff', 'e7375f5ba6f45f38360bc3759ca70a5c'),\n",
       " 661: ('ecoinvent-3.10-cutoff', 'd6082fdffa0412c3c1bbe604d0a5f278'),\n",
       " 662: ('ecoinvent-3.10-cutoff', '5a6800974bba94fff199f5e46c0f308a'),\n",
       " 663: ('ecoinvent-3.10-cutoff', '7fc956b00bec6625237951f5362e954e'),\n",
       " 664: ('ecoinvent-3.10-cutoff', 'ef5133ab8bce0da91e96abaa1783b99d'),\n",
       " 665: ('ecoinvent-3.10-cutoff', 'e02f9076bf885c40432bc318039ee364'),\n",
       " 666: ('ecoinvent-3.10-cutoff', '9a4ffde2726d1162ec5cb09d226bd4bc'),\n",
       " 667: ('ecoinvent-3.10-cutoff', 'c94de013b5d1d1d2c3fa89a0634996c9'),\n",
       " 668: ('ecoinvent-3.10-cutoff', 'a8eb0164ffb132ef39fae2938db35d46'),\n",
       " 669: ('ecoinvent-3.10-cutoff', '57a5ffd45989ad0ec5510771a390e231'),\n",
       " 670: ('ecoinvent-3.10-cutoff', '99fc009bd5b70d07fcd4383852e9be4d'),\n",
       " 671: ('ecoinvent-3.10-cutoff', 'e771454845e0923980ef37201b2ea678'),\n",
       " 672: ('ecoinvent-3.10-cutoff', '6f13e519f1cdbb065a0eabd195bef0ab'),\n",
       " 673: ('ecoinvent-3.10-cutoff', '8ea9309796a1be4fb25d751e0486ddb2'),\n",
       " 674: ('ecoinvent-3.10-cutoff', 'fd324167159d9a02bf6a66ac66c80fbc'),\n",
       " 675: ('ecoinvent-3.10-cutoff', 'ec8eba1c25634c77158632736bc30dfe'),\n",
       " 676: ('ecoinvent-3.10-cutoff', '9e96aac9febfd3b4bb53458f3f959b0b'),\n",
       " 677: ('ecoinvent-3.10-cutoff', 'fba824cdfeb0418dc53cd4e23642e6ef'),\n",
       " 678: ('ecoinvent-3.10-cutoff', '1b8ea75fd53f89c6e24e3888e854e142'),\n",
       " 679: ('ecoinvent-3.10-cutoff', 'eadb50e00bfb139e11d21fcb496d7d21'),\n",
       " 680: ('ecoinvent-3.10-cutoff', '3b85b5407ba15679817099b22fdde1b2'),\n",
       " 681: ('ecoinvent-3.10-cutoff', 'bd44e022168b4ab8d561fc18cad5b25c'),\n",
       " 682: ('ecoinvent-3.10-cutoff', '2a5688d18a35a2ce82062dd9918c58f7'),\n",
       " 683: ('ecoinvent-3.10-cutoff', '588a83effa0d9387baa60b5d18782c9a'),\n",
       " 684: ('ecoinvent-3.10-cutoff', 'a456e9fb32484e7c228d6ad20b5b8aef'),\n",
       " 685: ('ecoinvent-3.10-cutoff', 'ff3a217751df512f4db6d5cc501dd61a'),\n",
       " 686: ('ecoinvent-3.10-cutoff', 'ba0b32c24ea234dba51ffa0692c043b0'),\n",
       " 687: ('ecoinvent-3.10-cutoff', '003960666f94a603472ccab913e63960'),\n",
       " 688: ('ecoinvent-3.10-cutoff', 'bded4aae3082f86b2aed993d88f9fc91'),\n",
       " 689: ('ecoinvent-3.10-cutoff', 'f31533f5251dd67670e4d8738b643e92'),\n",
       " 690: ('ecoinvent-3.10-cutoff', 'cc9ab3881b981cb98bd9a0e81a79200e'),\n",
       " 691: ('ecoinvent-3.10-cutoff', 'b69fdfd429723376fc12a95a53ab7cf9'),\n",
       " 692: ('ecoinvent-3.10-cutoff', '12490315acf251625cc4ee4e9a12e637'),\n",
       " 693: ('ecoinvent-3.10-cutoff', '7ae33f9421edd766c6944542c8aedbeb'),\n",
       " 694: ('ecoinvent-3.10-cutoff', '461bbef1f6d3c45e00d5d3036484c0fa'),\n",
       " 695: ('ecoinvent-3.10-cutoff', 'e8ce71b9113f498f7bf16454d3c508e6'),\n",
       " 696: ('ecoinvent-3.10-cutoff', 'd2af56369932a86791f1313374839706'),\n",
       " 697: ('ecoinvent-3.10-cutoff', 'e6ff1bfe07f2fc4a549158b35ae92021'),\n",
       " 698: ('ecoinvent-3.10-cutoff', '043ef08ad2af2c782065609c88e3a92c'),\n",
       " 699: ('ecoinvent-3.10-cutoff', 'ab266e69a6d0927d1c1f308612f87fec'),\n",
       " 700: ('ecoinvent-3.10-cutoff', '67374906039acecde8460b93090a97ad'),\n",
       " 701: ('ecoinvent-3.10-cutoff', 'e10a944c15d25303ce1a0a9fc8aad1ef'),\n",
       " 702: ('ecoinvent-3.10-cutoff', '906e357b08ba0a3c2d4e3428a894a128'),\n",
       " 703: ('ecoinvent-3.10-cutoff', 'fa9414e3ab067e5c93958365bae869f1'),\n",
       " 704: ('ecoinvent-3.10-cutoff', '01ac6ecc6030423e783e354c7f907ba2'),\n",
       " 705: ('ecoinvent-3.10-cutoff', 'e92980fba267951e633946b40bb3e45b'),\n",
       " 706: ('ecoinvent-3.10-cutoff', '2bf755bada896d15769c93025c9364a0'),\n",
       " 707: ('ecoinvent-3.10-cutoff', '374b48b62c989968b663ef675b2aaf8d'),\n",
       " 708: ('ecoinvent-3.10-cutoff', '59088f92b7e5bc23b692fcd040fac159'),\n",
       " 709: ('ecoinvent-3.10-cutoff', 'b2060153f9278714e8435cd6dd9c4b1b'),\n",
       " 710: ('ecoinvent-3.10-cutoff', '92a4aa9a1aa0effb331a234ec4554617'),\n",
       " 711: ('ecoinvent-3.10-cutoff', 'f494a641f5ed8a8fbe967bc9a8560102'),\n",
       " 712: ('ecoinvent-3.10-cutoff', '8f48db8b3cb0e96c4efd33d4c57b8d5b'),\n",
       " 713: ('ecoinvent-3.10-cutoff', '49d588955a6943576ca1f6435c661e80'),\n",
       " 714: ('ecoinvent-3.10-cutoff', 'c8415dd4058d80eb3a26db428ce1d00f'),\n",
       " 715: ('ecoinvent-3.10-cutoff', '9de04e8a2af4a04c0b7d0f40bb3a51bd'),\n",
       " 716: ('ecoinvent-3.10-cutoff', '692abfef947e58833df093c041ed5c57'),\n",
       " 717: ('ecoinvent-3.10-cutoff', '7b6aab049963188042ba5cc39794cc3e'),\n",
       " 718: ('ecoinvent-3.10-cutoff', '18174f6ae704649380a8f123db00ade5'),\n",
       " 719: ('ecoinvent-3.10-cutoff', '3bce7ff123e88d665632ca6e59f110f8'),\n",
       " 720: ('ecoinvent-3.10-cutoff', 'ccadd432d2d2114e9f1d03e2d1baac2d'),\n",
       " 721: ('ecoinvent-3.10-cutoff', '5811cf6cca708155001cc7e3da505d92'),\n",
       " 722: ('ecoinvent-3.10-cutoff', '87f69fedab3dedd02514fffd990f0705'),\n",
       " 723: ('ecoinvent-3.10-cutoff', '35d2add417300fa711c070eac7bcda09'),\n",
       " 724: ('ecoinvent-3.10-cutoff', '513a45d3844ced808d84b130c66cebc4'),\n",
       " 725: ('ecoinvent-3.10-cutoff', '274000719c1b7961bbec55aaa1f102bf'),\n",
       " 726: ('ecoinvent-3.10-cutoff', 'c954a6b3e5e4f7803d71a0bfb5bb41ca'),\n",
       " 727: ('ecoinvent-3.10-cutoff', 'f3aed1ccabfda095e61fe1c59374015f'),\n",
       " 728: ('ecoinvent-3.10-cutoff', 'd73b4a2a4b497f0c2619d824b676725c'),\n",
       " 729: ('ecoinvent-3.10-cutoff', 'b35c86e1af4fc6378c24fe60e781310a'),\n",
       " 730: ('ecoinvent-3.10-cutoff', 'b9dd8b60bb8ce06f4464490574c17b3b'),\n",
       " 731: ('ecoinvent-3.10-cutoff', '95123fb2ea46f6aa2ae3729f9a70e9f9'),\n",
       " 732: ('ecoinvent-3.10-cutoff', '030411f7b21e625945372cbca9977ac4'),\n",
       " 733: ('ecoinvent-3.10-cutoff', 'ef07f44fc569f9982f272582cbd080b6'),\n",
       " 734: ('ecoinvent-3.10-cutoff', '686a5fc321ffdd8a7f99a8e8e44728f9'),\n",
       " 735: ('ecoinvent-3.10-cutoff', '69cb933868b58376777ae62a26ea1b43'),\n",
       " 736: ('ecoinvent-3.10-cutoff', 'e57a73fc78fcae81623ec4fc2aab42b3'),\n",
       " 737: ('ecoinvent-3.10-cutoff', '47cd8614d3362384f1f2a4e350328300'),\n",
       " 738: ('ecoinvent-3.10-cutoff', '6161d475e88fe0cbd309a2a03d08b16f'),\n",
       " 739: ('ecoinvent-3.10-cutoff', 'da19e191924c2294995900f43442bc57'),\n",
       " 740: ('ecoinvent-3.10-cutoff', '69e577d22a9174ab58246c4f48be1957'),\n",
       " 741: ('ecoinvent-3.10-cutoff', '792d724a1cae8f1345fd1bd1d85c1934'),\n",
       " 742: ('ecoinvent-3.10-cutoff', '390492befe4668b63fe3e35625f28f87'),\n",
       " 743: ('ecoinvent-3.10-cutoff', '2ce20d12d9cbfbbe25557535d11f51e9'),\n",
       " 744: ('ecoinvent-3.10-cutoff', 'a95c2597560793071d8b4315cfc69507'),\n",
       " 745: ('ecoinvent-3.10-cutoff', '5cd01544a7544c4b2241cc1932ffd2ca'),\n",
       " 746: ('ecoinvent-3.10-cutoff', '62bb2243b51ace9b54b6d034864bcba0'),\n",
       " 747: ('ecoinvent-3.10-cutoff', 'b0709b922f7c0b2274c310048ea8fe29'),\n",
       " 748: ('ecoinvent-3.10-cutoff', 'cac8daada47dfe7593ed13022415a25b'),\n",
       " 749: ('ecoinvent-3.10-cutoff', '017ab91926c2339e0571fd78c0bddbf4'),\n",
       " 750: ('ecoinvent-3.10-cutoff', '98ca6f52a535a06e3855520b0cc250d0'),\n",
       " 751: ('ecoinvent-3.10-cutoff', 'b63425a95c81eb0232cb635f57fe7dd1'),\n",
       " 752: ('ecoinvent-3.10-cutoff', 'e71c5a5a86fd4a8a14ce0222e9461092'),\n",
       " 753: ('ecoinvent-3.10-cutoff', '4bd67174689b19d76cd3e48a7e14fdff'),\n",
       " 754: ('ecoinvent-3.10-cutoff', '2dfd7741eb87964417a486fa98217d2a'),\n",
       " 755: ('ecoinvent-3.10-cutoff', 'c67f5377bbe4c2123b103901ea46d953'),\n",
       " 756: ('ecoinvent-3.10-cutoff', '28fd3df76a5269330b7327bdabd9dbf8'),\n",
       " 757: ('ecoinvent-3.10-cutoff', '6c018104c5b72932d681915af06ad6c1'),\n",
       " 758: ('ecoinvent-3.10-cutoff', '67826939758990bcd9b8c73ebeaeb054'),\n",
       " 759: ('ecoinvent-3.10-cutoff', '5cff798b6083619f63e1c46cf4c1e6a8'),\n",
       " 760: ('ecoinvent-3.10-cutoff', '9b657b45b263d1afef2523f2d7a8a661'),\n",
       " 761: ('ecoinvent-3.10-cutoff', '447aa3803140ab2d381706f714af1417'),\n",
       " 762: ('ecoinvent-3.10-cutoff', '9b7b5ca9e9cc4fe165dd38181fd59435'),\n",
       " 763: ('ecoinvent-3.10-cutoff', 'aaf8495c2bfcaf4acc29d51f44a6ae6a'),\n",
       " 764: ('ecoinvent-3.10-cutoff', '8d2ee645508c8e84094ba9d0863dc050'),\n",
       " 765: ('ecoinvent-3.10-cutoff', 'a76ac24628bc1b0f36ef2e63c0eee222'),\n",
       " 766: ('ecoinvent-3.10-cutoff', '302d804f446e278057724481d12395ee'),\n",
       " 767: ('ecoinvent-3.10-cutoff', '11905f09e18e6a4b5072db80c013de6c'),\n",
       " 768: ('ecoinvent-3.10-cutoff', '3f315e350ffae4b463628ceea074cd3c'),\n",
       " 769: ('ecoinvent-3.10-cutoff', '22a250ff15c8e651e67899abfcda0652'),\n",
       " 770: ('ecoinvent-3.10-cutoff', 'e7d1722db3efec2ac2fd6904ccbc74ee'),\n",
       " 771: ('ecoinvent-3.10-cutoff', '7bede53a49e8b217d2ee6ec450d055a8'),\n",
       " 772: ('ecoinvent-3.10-cutoff', 'f901be8fc6a8d896f19e0d003006aacc'),\n",
       " 773: ('ecoinvent-3.10-cutoff', '60724722ef040cfc11af105d73a0b131'),\n",
       " 774: ('ecoinvent-3.10-cutoff', 'b856822abc3eb2a790357715e774b08a'),\n",
       " 775: ('ecoinvent-3.10-cutoff', '89411fda1aed995cdab317adc6be9be6'),\n",
       " 776: ('ecoinvent-3.10-cutoff', 'bae236909a9dc00702702f9ed1478299'),\n",
       " 777: ('ecoinvent-3.10-cutoff', '908651d63986db9ba446885f9d2a1845'),\n",
       " 778: ('ecoinvent-3.10-cutoff', 'a86544890231c668ca8b7231da3b4e53'),\n",
       " 779: ('ecoinvent-3.10-cutoff', 'f74d5cf739701744a1837ab2311b7f21'),\n",
       " 780: ('ecoinvent-3.10-cutoff', '53d8ba4121655d6bc0658ef4169d85a1'),\n",
       " 781: ('ecoinvent-3.10-cutoff', '1bf59b86e65d976d352270c3bd85ae83'),\n",
       " 782: ('ecoinvent-3.10-cutoff', 'e61fed23340d37013932c6e58bc6c63a'),\n",
       " 783: ('ecoinvent-3.10-cutoff', 'a0d8ca97b5f9e7ba9aa08f6a67e3d0d7'),\n",
       " 784: ('ecoinvent-3.10-cutoff', 'fd6aaed828042217172777204938ea15'),\n",
       " 785: ('ecoinvent-3.10-cutoff', 'e93d5e15fe46c589f383cb9326f8500c'),\n",
       " 786: ('ecoinvent-3.10-cutoff', '1ac8d3512e98053de15da44255720669'),\n",
       " 787: ('ecoinvent-3.10-cutoff', 'b8099b796a1ca264f89d9100ca7eb24e'),\n",
       " 788: ('ecoinvent-3.10-cutoff', 'd078892f9aef3d2a1860aac39c298964'),\n",
       " 789: ('ecoinvent-3.10-cutoff', 'dba26e86e01f1e6fb66c719e6e97817f'),\n",
       " 790: ('ecoinvent-3.10-cutoff', '4ecadda21e028e39de4ec9edbcbe4e46'),\n",
       " 791: ('ecoinvent-3.10-cutoff', '0a4289cc4b4145f465d3b415a304cafd'),\n",
       " 792: ('ecoinvent-3.10-cutoff', 'bfe6f1777f5df4dfde7c379d6213a932'),\n",
       " 793: ('ecoinvent-3.10-cutoff', '8cedb2a2daea3e31121bd34df723d8d4'),\n",
       " 794: ('ecoinvent-3.10-cutoff', '74f90ffee7c36941a107d08c946d6997'),\n",
       " 795: ('ecoinvent-3.10-cutoff', '4c96c627a5ac19ddb04f83a13bf4e5ab'),\n",
       " 796: ('ecoinvent-3.10-cutoff', '6dc206597e1b03ba013f56b73f0f7a7e'),\n",
       " 797: ('ecoinvent-3.10-cutoff', '933599aa7b52714e8cedb61306afd1ee'),\n",
       " 798: ('ecoinvent-3.10-cutoff', '00903869c05bd5a31226aaf93f22c7e9'),\n",
       " 799: ('ecoinvent-3.10-cutoff', '6fa32870cafc8a9c9d049ecf1b297505'),\n",
       " 800: ('ecoinvent-3.10-cutoff', '4161e27a73bc04dc1986ca4edf4d42e4'),\n",
       " 801: ('ecoinvent-3.10-cutoff', '0effd57f6ee80fe038b85d43f15ddaac'),\n",
       " 802: ('ecoinvent-3.10-cutoff', 'a1b2b73b6445970d398f60dc4c8c827b'),\n",
       " 803: ('ecoinvent-3.10-cutoff', '8271d55e2b7a678cb803772952e1ea05'),\n",
       " 804: ('ecoinvent-3.10-cutoff', '5d47eabe593d37bb7a474842fda51b38'),\n",
       " 805: ('ecoinvent-3.10-cutoff', '9ff6602a33288495d668bed80c990a38'),\n",
       " 806: ('ecoinvent-3.10-cutoff', 'ec30ec1f4010486db9e4e455e93986b2'),\n",
       " 807: ('ecoinvent-3.10-cutoff', '30e4cde25223095ad7030bd37e0ed656'),\n",
       " 808: ('ecoinvent-3.10-cutoff', '53a15ca11314f5045322a90198c41c8a'),\n",
       " 809: ('ecoinvent-3.10-cutoff', '65ca9eb6a53b69d5d7e4cdb0adaa42a2'),\n",
       " 810: ('ecoinvent-3.10-cutoff', '3468e2fd2d13e7b38eba431d280f2ea3'),\n",
       " 811: ('ecoinvent-3.10-cutoff', '40f3a5dfc1ec1feaaaa04614f684280c'),\n",
       " 812: ('ecoinvent-3.10-cutoff', 'f6c26b16c8d4c34b13bd9a8f9e24d434'),\n",
       " 813: ('ecoinvent-3.10-cutoff', 'ff209c9a81760c65bbf915adaf7939d5'),\n",
       " 814: ('ecoinvent-3.10-cutoff', '223ad9c756b5168b8cc851b6928b7382'),\n",
       " 815: ('ecoinvent-3.10-cutoff', 'e61e4a27fbb7adef499ae5cf23e3484f'),\n",
       " 816: ('ecoinvent-3.10-cutoff', '27ba325764228dcf9a533d8d67794f4b'),\n",
       " 817: ('ecoinvent-3.10-cutoff', 'd09a4f1c7510ed619f3e37b789a2596a'),\n",
       " 818: ('ecoinvent-3.10-cutoff', '3159bb28ac8507c6241583671487c5e0'),\n",
       " 819: ('ecoinvent-3.10-cutoff', '89655ac6b9130e0578343e4fd859ef39'),\n",
       " 820: ('ecoinvent-3.10-cutoff', 'a517e1f1f935dadda6efe7480a3296f4'),\n",
       " 821: ('ecoinvent-3.10-cutoff', '9d7b8de433afc6a653dfd333e4295fea'),\n",
       " 822: ('ecoinvent-3.10-cutoff', '4250b776a79d345d11219d0c8e4c5d70'),\n",
       " 823: ('ecoinvent-3.10-cutoff', 'e86ec32cce69d7653138229543f72f13'),\n",
       " 824: ('ecoinvent-3.10-cutoff', '44a97ed2e1baaa600e16cb84114cc579'),\n",
       " 825: ('ecoinvent-3.10-cutoff', 'bbeeb02426cb69b87ddea98e2b85361e'),\n",
       " 826: ('ecoinvent-3.10-cutoff', '19005c645e6593862705f71086beb66f'),\n",
       " 827: ('ecoinvent-3.10-cutoff', 'd03bc0eea96441f91c2617a69f061c03'),\n",
       " 828: ('ecoinvent-3.10-cutoff', 'f406a116371729b0d3a9457c52e93442'),\n",
       " 829: ('ecoinvent-3.10-cutoff', 'ad73174778c90c7b6841c10b093bc308'),\n",
       " 830: ('ecoinvent-3.10-cutoff', '12233c35cbc04f0ea5d264953a568d97'),\n",
       " 831: ('ecoinvent-3.10-cutoff', '14832a3ec3d99344b4dcae4e85f99ed0'),\n",
       " 832: ('ecoinvent-3.10-cutoff', '08ebb6806fb179863958c8cce1858b33'),\n",
       " 833: ('ecoinvent-3.10-cutoff', '6a24fa7f758249c765474cf793729389'),\n",
       " 834: ('ecoinvent-3.10-cutoff', '4076b66567c27693963b469979c615ea'),\n",
       " 835: ('ecoinvent-3.10-cutoff', '845bef3df25f8bfa3f10418407245387'),\n",
       " 836: ('ecoinvent-3.10-cutoff', '0891b9b967ca54417dae82986a58de41'),\n",
       " 837: ('ecoinvent-3.10-cutoff', 'e3d588815df95af956085ea2f586cf2d'),\n",
       " 838: ('ecoinvent-3.10-cutoff', 'e9312eb0498d5f7586f591e7b5b233ec'),\n",
       " 839: ('ecoinvent-3.10-cutoff', '1aecbdd1307905f651f20f3c98520566'),\n",
       " 840: ('ecoinvent-3.10-cutoff', '225a0e797d96c2f0985443c1863db49a'),\n",
       " 841: ('ecoinvent-3.10-cutoff', '11a030f09f20e6101b383c743c33cc4d'),\n",
       " 842: ('ecoinvent-3.10-cutoff', '35df9302f0332784142e0fe60464a164'),\n",
       " 843: ('ecoinvent-3.10-cutoff', 'd845adcbb0cb9af23e0bb2260bf3aed5'),\n",
       " 844: ('ecoinvent-3.10-cutoff', '6b2e0e987f80e44fb0c56935914e5390'),\n",
       " 845: ('ecoinvent-3.10-cutoff', '736564f448ed5c778de1c884a39c9bdc'),\n",
       " 846: ('ecoinvent-3.10-cutoff', 'c7ea7dbb47c6e739b3b4098ec74d8306'),\n",
       " 847: ('ecoinvent-3.10-cutoff', '8a78dcedbdbebea260080f197f4c6bbc'),\n",
       " 848: ('ecoinvent-3.10-cutoff', 'ffaa2027746dbdba64da012bf8339b51'),\n",
       " 849: ('ecoinvent-3.10-cutoff', '29a680e35f89ebfd151a280ca9f6afa6'),\n",
       " 850: ('ecoinvent-3.10-cutoff', 'b91b0d5c4f917273ff176858b00e8821'),\n",
       " 851: ('ecoinvent-3.10-cutoff', 'a08eed5ca5ecf6081916468c0343464d'),\n",
       " 852: ('ecoinvent-3.10-cutoff', 'a990fa17d0ed7391e4320aed9979f6b6'),\n",
       " 853: ('ecoinvent-3.10-cutoff', '3ee571ef285a3dc350e236abe35c56ae'),\n",
       " 854: ('ecoinvent-3.10-cutoff', '6476a4726e0cdc376cdb6eeb9d3862d2'),\n",
       " 855: ('ecoinvent-3.10-cutoff', '470dd499435b62c491555e99d22ce075'),\n",
       " 856: ('ecoinvent-3.10-cutoff', 'fbc7a6680e0865488717fb3779da215d'),\n",
       " 857: ('ecoinvent-3.10-cutoff', 'f9a5e8285cf25f801524791769a06085'),\n",
       " 858: ('ecoinvent-3.10-cutoff', '845b283e9449758972eeec91b9fcdb17'),\n",
       " 859: ('ecoinvent-3.10-cutoff', '31da5b8940abd7436ea2a0ca7f297d5c'),\n",
       " 860: ('ecoinvent-3.10-cutoff', '83149e531c26c0b6ff7e873614e7ab45'),\n",
       " 861: ('ecoinvent-3.10-cutoff', '2b26fb51e96f8c219967f798ea12fe39'),\n",
       " 862: ('ecoinvent-3.10-cutoff', 'de8270ed28b4f5e756f8deb66461fb36'),\n",
       " 863: ('ecoinvent-3.10-cutoff', '45a6823798af5f06cd99dbad3efacc9c'),\n",
       " 864: ('ecoinvent-3.10-cutoff', '89d6163b159023ee0c9807d629b649df'),\n",
       " 865: ('ecoinvent-3.10-cutoff', 'b2a87c006212a06fd7a132f16bb1bde5'),\n",
       " 866: ('ecoinvent-3.10-cutoff', '2eb34355959eab809b1219763fac740f'),\n",
       " 867: ('ecoinvent-3.10-cutoff', 'a0288969b8b39e9aa24bd5fdd9918a0a'),\n",
       " 868: ('ecoinvent-3.10-cutoff', '05429689aa3b213cb45231ef2271fd53'),\n",
       " 869: ('ecoinvent-3.10-cutoff', 'd4f96bd0c19d8d5103cc176fef49f800'),\n",
       " 870: ('ecoinvent-3.10-cutoff', '013508e453b24313598c2b6a80ff4206'),\n",
       " 871: ('ecoinvent-3.10-cutoff', 'e909d841d9022c0223ebbe1c7da400f9'),\n",
       " 872: ('ecoinvent-3.10-cutoff', 'cfebec939cb640dab72cb632e4ed3a77'),\n",
       " 873: ('ecoinvent-3.10-cutoff', '2cf23ddba67fa586093012d1bbda92db'),\n",
       " 874: ('ecoinvent-3.10-cutoff', 'd12f51329204c004814b2dde0c903075'),\n",
       " 875: ('ecoinvent-3.10-cutoff', '434ea3def15ebca6a8441bea4b415656'),\n",
       " 876: ('ecoinvent-3.10-cutoff', 'ce9f5c081aa75585b52c040116d9fbc5'),\n",
       " 877: ('ecoinvent-3.10-cutoff', '388377619a461596403e148c4f900f61'),\n",
       " 878: ('ecoinvent-3.10-cutoff', '4e838e0cb58ff9a2ac3b75682595fd20'),\n",
       " 879: ('ecoinvent-3.10-cutoff', '0557392dfc1135202ffa6bb8c1d10c83'),\n",
       " 880: ('ecoinvent-3.10-cutoff', '568876346be194c3ab753be6a15e8565'),\n",
       " 881: ('ecoinvent-3.10-cutoff', 'db1899a3012522ffc2cf2ed966fe5ed4'),\n",
       " 882: ('ecoinvent-3.10-cutoff', '2319ce42736792d76674e6a312b2f099'),\n",
       " 883: ('ecoinvent-3.10-cutoff', '550673a68111b414a638c44eca80f0e0'),\n",
       " 884: ('ecoinvent-3.10-cutoff', '84b5d4198d9c7a8f00992dedc46a387b'),\n",
       " 885: ('ecoinvent-3.10-cutoff', '89a6e1cb059e9cff56bdf2e7164b7801'),\n",
       " 886: ('ecoinvent-3.10-cutoff', '6b14783531f016efba24260d53503a17'),\n",
       " 887: ('ecoinvent-3.10-cutoff', '053e24421bcfc53eb9639db33ca84951'),\n",
       " 888: ('ecoinvent-3.10-cutoff', '4808a72dd6229ef8b1a7d46b8e4406d0'),\n",
       " 889: ('ecoinvent-3.10-cutoff', '04630dc6330c321be065a84d5f50d24b'),\n",
       " 890: ('ecoinvent-3.10-cutoff', '63fafe7b014b28bea02d9e2e1b42a7b4'),\n",
       " 891: ('ecoinvent-3.10-cutoff', '7e4c02aaeb184843eb5fefc30834d19e'),\n",
       " 892: ('ecoinvent-3.10-cutoff', '8cfa65c5d1cd5a738e1ad7646a6b93e0'),\n",
       " 893: ('ecoinvent-3.10-cutoff', 'cc2ef84d44728966cddba58ccf2168df'),\n",
       " 894: ('ecoinvent-3.10-cutoff', 'b8765c637e77e72394fe3bf3d2c03cd0'),\n",
       " 895: ('ecoinvent-3.10-cutoff', '86b7199869ce965854f73cbbb0f4232a'),\n",
       " 896: ('ecoinvent-3.10-cutoff', 'ccec35afd96cce4847ca3271e4496443'),\n",
       " 897: ('ecoinvent-3.10-cutoff', '197a67f621f8a6a9634f92485b3a5d04'),\n",
       " 898: ('ecoinvent-3.10-cutoff', '943f45c2e244b1eeb81a107242c2f464'),\n",
       " 899: ('ecoinvent-3.10-cutoff', '7b503114dd17d341a5d418812fc977be'),\n",
       " 900: ('ecoinvent-3.10-cutoff', '87d17c94fc7d83bb2647178720941caa'),\n",
       " 901: ('ecoinvent-3.10-cutoff', 'db912ce9d3d31f924614250c3ae70262'),\n",
       " 902: ('ecoinvent-3.10-cutoff', '3a2824f720713fd34cb8b6ac77fb75eb'),\n",
       " 903: ('ecoinvent-3.10-cutoff', '3f0941bc410c85e92cfd2e4812038c1f'),\n",
       " 904: ('ecoinvent-3.10-cutoff', '21962f36100a522b1104260721896d1d'),\n",
       " 905: ('ecoinvent-3.10-cutoff', '5f8ee3a6cdfbdb7668ab408cb23180c0'),\n",
       " 906: ('ecoinvent-3.10-cutoff', '6224a151fe8237d1cbf003f4770ee2b3'),\n",
       " 907: ('ecoinvent-3.10-cutoff', '542984543fbe4d75fa3063d5b31bdcb8'),\n",
       " 908: ('ecoinvent-3.10-cutoff', '04f3bb6965276ae12d82625aec1d0f7d'),\n",
       " 909: ('ecoinvent-3.10-cutoff', 'e34c9edd6ec701816c2f6b0435dd1c91'),\n",
       " 910: ('ecoinvent-3.10-cutoff', '3a9acd65c382d797ccd8ba5a93be14b2'),\n",
       " 911: ('ecoinvent-3.10-cutoff', '4e961f6d5e3cfaea425820ba115c6fa9'),\n",
       " 912: ('ecoinvent-3.10-cutoff', '5c7686280dccee1f33ffeb98fd658277'),\n",
       " 913: ('ecoinvent-3.10-cutoff', '23968c4fcea37f1414905174421e7234'),\n",
       " 914: ('ecoinvent-3.10-cutoff', '9a2226e7c13f4c612365d5710326eea2'),\n",
       " 915: ('ecoinvent-3.10-cutoff', '68902fb5ebeb1b230332fd388b48258c'),\n",
       " 916: ('ecoinvent-3.10-cutoff', '641ea5cdb62fb3e53f01fee7e48a0790'),\n",
       " 917: ('ecoinvent-3.10-cutoff', '23afe010ae38ae5f0513a01307bf568a'),\n",
       " 918: ('ecoinvent-3.10-cutoff', '6204c26f702b7762995fba7923149572'),\n",
       " 919: ('ecoinvent-3.10-cutoff', '608e1f652c7ee30ba50bc62ce1a0c7da'),\n",
       " 920: ('ecoinvent-3.10-cutoff', '794dbdf79932b19ed3bf93eb28f02550'),\n",
       " 921: ('ecoinvent-3.10-cutoff', 'b57a8ebaf2a41b3e9eb14f6ecd88827e'),\n",
       " 922: ('ecoinvent-3.10-cutoff', 'a3feb01c68bfcbc8c9a042836ba3c6e9'),\n",
       " 923: ('ecoinvent-3.10-cutoff', '4d356c9498264e7a309681820491f521'),\n",
       " 924: ('ecoinvent-3.10-cutoff', '46fae41124217b0bf399e48a3224610b'),\n",
       " 925: ('ecoinvent-3.10-cutoff', '2b8a023824cf3a6608f0d2e40c412340'),\n",
       " 926: ('ecoinvent-3.10-cutoff', 'c2caca018be58129cb5b33269fa848aa'),\n",
       " 927: ('ecoinvent-3.10-cutoff', '6d6a6390b7cdb9253cddb4917ff756a9'),\n",
       " 928: ('ecoinvent-3.10-cutoff', '45783d557858c707115b7367219a6d7f'),\n",
       " 929: ('ecoinvent-3.10-cutoff', '8c1f3284c3ee028899c1a68ee710ad3c'),\n",
       " 930: ('ecoinvent-3.10-cutoff', 'd77d75b3e75e099a03a3ec47a30f56c5'),\n",
       " 931: ('ecoinvent-3.10-cutoff', 'fb75f3c290986686b3a74885c8c04858'),\n",
       " 932: ('ecoinvent-3.10-cutoff', '4cc17ad39946cb95b0363dca106effac'),\n",
       " 933: ('ecoinvent-3.10-cutoff', '5cf7167074250b3c9f799867b863dfc7'),\n",
       " 934: ('ecoinvent-3.10-cutoff', '079420155160e5f66b59314ab3ba9624'),\n",
       " 935: ('ecoinvent-3.10-cutoff', '2d8684052ab0a7a468ad490a97cae054'),\n",
       " 936: ('ecoinvent-3.10-cutoff', 'aa08ded43f13c0b51232ed83421dc612'),\n",
       " 937: ('ecoinvent-3.10-cutoff', 'e7af792af77a3158e3f5a1adf7d68013'),\n",
       " 938: ('ecoinvent-3.10-cutoff', '05ef9328a1fd9418b9835538d11144a1'),\n",
       " 939: ('ecoinvent-3.10-cutoff', 'e8d5d691c1430d4de7363833225d28bd'),\n",
       " 940: ('ecoinvent-3.10-cutoff', 'f2442dbdb0964ea73feb2e684a7c7652'),\n",
       " 941: ('ecoinvent-3.10-cutoff', '3908bc4b07c2cbc7eb1d3c8bee88f314'),\n",
       " 942: ('ecoinvent-3.10-cutoff', 'cdf072b2e2c0445f5f7ce6d0cffdb448'),\n",
       " 943: ('ecoinvent-3.10-cutoff', '6e7200223b3a0db32da7939c5b1a7972'),\n",
       " 944: ('ecoinvent-3.10-cutoff', '67d79314499b3399dc69b23db614cb7a'),\n",
       " 945: ('ecoinvent-3.10-cutoff', 'a93562fde1194f64a3c8a71f7015075c'),\n",
       " 946: ('ecoinvent-3.10-cutoff', '21e2553d401ff35a6f346bd9187ad1dd'),\n",
       " 947: ('ecoinvent-3.10-cutoff', '005867aee9051fdbdaafbd419b324ea5'),\n",
       " 948: ('ecoinvent-3.10-cutoff', '4ed2370d2da1ba1802404a398113a8c1'),\n",
       " 949: ('ecoinvent-3.10-cutoff', 'fa8612c341a8b25e1ba906d1d3399f8a'),\n",
       " 950: ('ecoinvent-3.10-cutoff', 'b9a98fe401e4cdd2823cace74452aa30'),\n",
       " 951: ('ecoinvent-3.10-cutoff', '91efeb3ef8deaf6cdb31e1fd3927cbaa'),\n",
       " 952: ('ecoinvent-3.10-cutoff', '47211b2f088e41544f2f7c06e8a825f7'),\n",
       " 953: ('ecoinvent-3.10-cutoff', '16ab66f9156930a84e45f95f00eb2417'),\n",
       " 954: ('ecoinvent-3.10-cutoff', 'f7ac08fd39622fe16026c37e194c57a2'),\n",
       " 955: ('ecoinvent-3.10-cutoff', 'f3949078fdc87463d24ddfca4ca9d5d8'),\n",
       " 956: ('ecoinvent-3.10-cutoff', '6dfcd61e722b49cc298b500ec9dedadc'),\n",
       " 957: ('ecoinvent-3.10-cutoff', 'af5cfdbbe2572c9f36628fd49a1bf2d9'),\n",
       " 958: ('ecoinvent-3.10-cutoff', 'f2c5515cc1ff00388b572a78fb4fcd07'),\n",
       " 959: ('ecoinvent-3.10-cutoff', '7c4eaf6207539e37ec0708241805d38f'),\n",
       " 960: ('ecoinvent-3.10-cutoff', '604ee70cbb9637bd5677720cd95a2c73'),\n",
       " 961: ('ecoinvent-3.10-cutoff', '6ca9171d9c66f11caa11893a2e8814f6'),\n",
       " 962: ('ecoinvent-3.10-cutoff', '55fe1983818ac10372199317dc79dd9e'),\n",
       " 963: ('ecoinvent-3.10-cutoff', '0c4c196bdbab0ff4f82ccc31b9fe66ee'),\n",
       " 964: ('ecoinvent-3.10-cutoff', 'becceab03a3d71e5989683d3b4e029d8'),\n",
       " 965: ('ecoinvent-3.10-cutoff', 'b1d6c28853d0220fd375d2e07e935f8d'),\n",
       " 966: ('ecoinvent-3.10-cutoff', '0bed82df38e56ade8afd26dea2cc0ab4'),\n",
       " 967: ('ecoinvent-3.10-cutoff', 'ce4b34ed8538d3eb191d4d010c27148d'),\n",
       " 968: ('ecoinvent-3.10-cutoff', '76c675b2ba635e6816d9831de731d2db'),\n",
       " 969: ('ecoinvent-3.10-cutoff', '786f6ac335bbe8e373e017c01d3450fe'),\n",
       " 970: ('ecoinvent-3.10-cutoff', '13eb5194f2ad1e47f5ea36f25b4a926f'),\n",
       " 971: ('ecoinvent-3.10-cutoff', '5bdee34e74f9a1ca46a2939d81bb3d59'),\n",
       " 972: ('ecoinvent-3.10-cutoff', 'cbd8a35086bcf560917a7f30368258e7'),\n",
       " 973: ('ecoinvent-3.10-cutoff', '7d40fe8b4937e8fa14e8f3e4cefae9b1'),\n",
       " 974: ('ecoinvent-3.10-cutoff', 'c2e587c4c9e0da454e2199a2fcd6d9fa'),\n",
       " 975: ('ecoinvent-3.10-cutoff', '7a84ce0c251615a94f12c4a4f2b337e6'),\n",
       " 976: ('ecoinvent-3.10-cutoff', '9baa15cf2593032f80d767792690b43e'),\n",
       " 977: ('ecoinvent-3.10-cutoff', 'd2ab20c47e2fba1e4e3fc00ee847f2cd'),\n",
       " 978: ('ecoinvent-3.10-cutoff', '1a9733c80e483a310bcfc5212751c36c'),\n",
       " 979: ('ecoinvent-3.10-cutoff', '16f2f7fc3f727c4fcf12f81bb4dbbed5'),\n",
       " 980: ('ecoinvent-3.10-cutoff', '3b399ffa0117f5dc86fdce8adaa6cfc9'),\n",
       " 981: ('ecoinvent-3.10-cutoff', '69a4cc6517183e80a109cfc4490c5695'),\n",
       " 982: ('ecoinvent-3.10-cutoff', 'c2eff3853ad22116d00b13e267a40ad1'),\n",
       " 983: ('ecoinvent-3.10-cutoff', '54d611400b6043d8bb8229a1e59f7dd1'),\n",
       " 984: ('ecoinvent-3.10-cutoff', 'c082b4e547f5fb01b34707b6c87f6e8c'),\n",
       " 985: ('ecoinvent-3.10-cutoff', 'c8783958faef3f422e54f4bf45ee21f1'),\n",
       " 986: ('ecoinvent-3.10-cutoff', '601b8099829ff6320cea1c4859b85fd1'),\n",
       " 987: ('ecoinvent-3.10-cutoff', '93980bd7307b957af32283324b268b1c'),\n",
       " 988: ('ecoinvent-3.10-cutoff', '9205ed9a1bf0fca31e4b02088a40ce16'),\n",
       " 989: ('ecoinvent-3.10-cutoff', 'cc9c6c37da1befa146e381df21b27a09'),\n",
       " 990: ('ecoinvent-3.10-cutoff', 'aa83eb5caebaa828b15c652daf9dadd1'),\n",
       " 991: ('ecoinvent-3.10-cutoff', '3c20753ebc8ad12444052b91e30ac822'),\n",
       " 992: ('ecoinvent-3.10-cutoff', 'a23d71eaf14b3ceb6ac02ecc417a5aa7'),\n",
       " 993: ('ecoinvent-3.10-cutoff', '0e2c6c082cfdcc746405de094c4b5d55'),\n",
       " 994: ('ecoinvent-3.10-cutoff', '2e6e334592d8701b3b77fb490d56db50'),\n",
       " 995: ('ecoinvent-3.10-cutoff', '4ae5660faa50460f65d3052c74aefb8d'),\n",
       " 996: ('ecoinvent-3.10-cutoff', 'ee4d778ad0630c5339ce26a175d8d640'),\n",
       " 997: ('ecoinvent-3.10-cutoff', '5c7583dc7cc8865f21baba18f9dd7a15'),\n",
       " 998: ('ecoinvent-3.10-cutoff', '32b76da69b2ee45a3be785ffaf51f4d8'),\n",
       " 999: ('ecoinvent-3.10-cutoff', 'c946245a370683783adcd9d396eab6d8'),\n",
       " ...}"
      ]
     },
     "execution_count": 111,
     "metadata": {},
     "output_type": "execute_result"
    }
   ],
   "source": [
    "rev_prod_dict"
   ]
  },
  {
   "cell_type": "code",
   "execution_count": 112,
   "metadata": {},
   "outputs": [
    {
     "data": {
      "text/plain": [
       "True"
      ]
     },
     "execution_count": 112,
     "metadata": {},
     "output_type": "execute_result"
    }
   ],
   "source": [
    "rev_prod_dict[col_index] == coal_DE.key"
   ]
  },
  {
   "cell_type": "markdown",
   "metadata": {
    "deletable": true,
    "editable": true
   },
   "source": [
    "#### $A$ and $B$ Matrices"
   ]
  },
  {
   "cell_type": "markdown",
   "metadata": {
    "deletable": true,
    "editable": true
   },
   "source": [
    "We can also access the matrices that were constructed. Let's look at the technosphere matrix ($A$).  \n",
    "The ** $A$ matrix**, with each element $a_{ij}$ provides information on the amount of input or output of product $i$ from activity $j$. When $i=j$, the element $a_{ij}$ is the *reference flow* for the activity described in the column."
   ]
  },
  {
   "cell_type": "code",
   "execution_count": 113,
   "metadata": {
    "collapsed": false,
    "deletable": true,
    "editable": true,
    "jupyter": {
     "outputs_hidden": false
    }
   },
   "outputs": [
    {
     "data": {
      "text/plain": [
       "<23523x23523 sparse matrix of type '<class 'numpy.float64'>'\n",
       "\twith 292959 stored elements in Compressed Sparse Row format>"
      ]
     },
     "execution_count": 113,
     "metadata": {},
     "output_type": "execute_result"
    }
   ],
   "source": [
    "myFirstLCA.technosphere_matrix"
   ]
  },
  {
   "cell_type": "markdown",
   "metadata": {},
   "source": [
    "How dense is this matrix?"
   ]
  },
  {
   "cell_type": "code",
   "execution_count": 114,
   "metadata": {},
   "outputs": [
    {
     "data": {
      "text/plain": [
       "0.0005294457023431245"
      ]
     },
     "execution_count": 114,
     "metadata": {},
     "output_type": "execute_result"
    }
   ],
   "source": [
    "292959/(23523*23523)"
   ]
  },
  {
   "cell_type": "markdown",
   "metadata": {
    "deletable": true,
    "editable": true
   },
   "source": [
    "I am told that the dimensions of the matrix is $n*n$ where $n$ is the number of activities in my product system, and that the amount of actually stored elements is much less than $n^2$ (because the matrix is *sparse* and zero values are not stored).  "
   ]
  },
  {
   "cell_type": "markdown",
   "metadata": {
    "deletable": true,
    "editable": true
   },
   "source": [
    "We can have an idea of what it stores by printing it out:"
   ]
  },
  {
   "cell_type": "code",
   "execution_count": 115,
   "metadata": {
    "collapsed": false,
    "deletable": true,
    "editable": true,
    "jupyter": {
     "outputs_hidden": false
    }
   },
   "outputs": [
    {
     "name": "stdout",
     "output_type": "stream",
     "text": [
      "  (0, 0)\t1.0\n",
      "  (0, 18)\t-0.0029278004076331854\n",
      "  (0, 239)\t-0.024430351331830025\n",
      "  (0, 355)\t-2.134008718712721e-05\n",
      "  (0, 488)\t-0.040642958134412766\n",
      "  (0, 596)\t-0.34153738617897034\n",
      "  (0, 917)\t-0.002248533768579364\n",
      "  (0, 951)\t-0.0005290379049256444\n",
      "  (0, 959)\t-0.0405045785009861\n",
      "  (0, 987)\t-7.235247267090017e-06\n",
      "  (0, 1023)\t-0.0026376910973340273\n",
      "  (0, 1085)\t-0.0037495160941034555\n",
      "  (0, 1093)\t-0.07312113791704178\n",
      "  (0, 1128)\t-1.5830200084110402e-07\n",
      "  (0, 1156)\t-0.02159402333199978\n",
      "  (0, 1197)\t-0.012939786538481712\n",
      "  (0, 1263)\t-0.025014182552695274\n",
      "  (0, 1270)\t-9.073486580746248e-06\n",
      "  (0, 1348)\t-0.0014603075105696917\n",
      "  (0, 1496)\t-0.0166965089738369\n",
      "  (0, 1530)\t-1.3395078823918993e-08\n",
      "  (0, 1548)\t-6.335265061352402e-05\n",
      "  (0, 1608)\t-0.0013276716927066445\n",
      "  (0, 1620)\t-4.495495886658318e-06\n",
      "  (0, 2025)\t-3.41090235451702e-05\n",
      "  :\t:\n",
      "  (23519, 17202)\t-4.565222843666561e-05\n",
      "  (23519, 19697)\t-0.017086690291762352\n",
      "  (23519, 19966)\t-0.005230413284152746\n",
      "  (23519, 20080)\t-1.0\n",
      "  (23519, 20399)\t-1.0064780712127686\n",
      "  (23519, 20473)\t-4.335396079113707e-05\n",
      "  (23519, 20723)\t-0.0004643122083507478\n",
      "  (23519, 20927)\t-0.04272745922207832\n",
      "  (23519, 21187)\t-1.4299999475479126\n",
      "  (23519, 22032)\t-0.04272745922207832\n",
      "  (23519, 23184)\t-0.06398222595453262\n",
      "  (23519, 23519)\t0.9698516633361578\n",
      "  (23520, 5016)\t-0.05150356888771057\n",
      "  (23520, 23520)\t1.0\n",
      "  (23521, 20058)\t1.0\n",
      "  (23521, 23521)\t-1.0\n",
      "  (23522, 22)\t-1.011694073677063\n",
      "  (23522, 5311)\t-0.0068196882493793964\n",
      "  (23522, 5451)\t-6.2465360315400176e-06\n",
      "  (23522, 7999)\t-0.00199527689255774\n",
      "  (23522, 12529)\t-480.6122131347656\n",
      "  (23522, 15176)\t-0.0002869836171157658\n",
      "  (23522, 15958)\t-0.0011878086952492595\n",
      "  (23522, 20162)\t-32.0811653137207\n",
      "  (23522, 23522)\t0.9458952397108078\n"
     ]
    }
   ],
   "source": [
    "print(myFirstLCA.technosphere_matrix)"
   ]
  },
  {
   "cell_type": "markdown",
   "metadata": {
    "deletable": true,
    "editable": true
   },
   "source": [
    "It therefore stores both the coordinates and the values (as expected).\n",
    "We can slice this matrix using coordinates. For example, let's say we wanted a view of the exchanges associated with the unit process providing our functional unit.  \n",
    "We already know found the column number for that activity: "
   ]
  },
  {
   "cell_type": "markdown",
   "metadata": {
    "deletable": true,
    "editable": true
   },
   "source": [
    "To return the whole column from the $A$ matrix, we therefore slice the $A$ matrix.  \n",
    "Python notes:  \n",
    "  - In Python, slicing is done using []\n",
    "  - We specify rows first, then columns  \n",
    "  - `:` refers to \"the whole row\" or \"the whole column\" (depending if it is passed first or second in the []) "
   ]
  },
  {
   "cell_type": "code",
   "execution_count": 116,
   "metadata": {
    "collapsed": false,
    "deletable": true,
    "editable": true,
    "jupyter": {
     "outputs_hidden": false
    }
   },
   "outputs": [
    {
     "data": {
      "text/plain": [
       "<23523x1 sparse matrix of type '<class 'numpy.float64'>'\n",
       "\twith 11 stored elements in Compressed Sparse Row format>"
      ]
     },
     "execution_count": 116,
     "metadata": {},
     "output_type": "execute_result"
    }
   ],
   "source": [
    "myColumn = myFirstLCA.technosphere_matrix[:, col_index]\n",
    "myColumn"
   ]
  },
  {
   "cell_type": "markdown",
   "metadata": {
    "deletable": true,
    "editable": true
   },
   "source": [
    "Printing this out gives:"
   ]
  },
  {
   "cell_type": "code",
   "execution_count": 117,
   "metadata": {
    "collapsed": false,
    "deletable": true,
    "editable": true,
    "jupyter": {
     "outputs_hidden": false
    }
   },
   "outputs": [
    {
     "name": "stdout",
     "output_type": "stream",
     "text": [
      "  (2434, 0)\t4.8257374146487564e-05\n",
      "  (6137, 0)\t-1.254691663066243e-11\n",
      "  (9511, 0)\t-0.0001640750706428662\n",
      "  (15695, 0)\t-0.05790884792804718\n",
      "  (17412, 0)\t-9.651474829297513e-05\n",
      "  (17580, 0)\t1.0\n",
      "  (17892, 0)\t-0.0022584451362490654\n",
      "  (19548, 0)\t-1.4477211236953735\n",
      "  (20743, 0)\t-0.00594530813395977\n",
      "  (22509, 0)\t-0.40246647596359253\n",
      "  (22870, 0)\t0.0025383378379046917\n"
     ]
    }
   ],
   "source": [
    "print(myColumn)"
   ]
  },
  {
   "cell_type": "markdown",
   "metadata": {
    "deletable": true,
    "editable": true
   },
   "source": [
    "Not too useful: it would be better to get the *names* to these exchanges.  \n",
    "We need to do two things:  \n",
    "  - Get the indices from the CSR matrix (we can do this by converting it to a sparse matrix in `COOrdinate` format first)  \n",
    "  - Get the activity code for the each index (we can do this using the reverse of the `activity_dict`)  \n",
    "  - Use `get_activity` to access the actual names of the activities.  "
   ]
  },
  {
   "cell_type": "markdown",
   "metadata": {
    "deletable": true,
    "editable": true
   },
   "source": [
    "1) Converting the CSR matrix to a COO matrix:  "
   ]
  },
  {
   "cell_type": "code",
   "execution_count": 118,
   "metadata": {
    "collapsed": false,
    "deletable": true,
    "editable": true,
    "jupyter": {
     "outputs_hidden": false
    }
   },
   "outputs": [
    {
     "data": {
      "text/plain": [
       "<23523x1 sparse matrix of type '<class 'numpy.float64'>'\n",
       "\twith 11 stored elements in COOrdinate format>"
      ]
     },
     "execution_count": 118,
     "metadata": {},
     "output_type": "execute_result"
    }
   ],
   "source": [
    "myColumnCOO = myColumn.tocoo()\n",
    "myColumnCOO"
   ]
  },
  {
   "cell_type": "markdown",
   "metadata": {
    "deletable": true,
    "editable": true
   },
   "source": [
    "It is still a sparse matrix with the same number of elements, and it looks quite like the CSR version when we print it out:"
   ]
  },
  {
   "cell_type": "code",
   "execution_count": 119,
   "metadata": {
    "collapsed": false,
    "deletable": true,
    "editable": true,
    "jupyter": {
     "outputs_hidden": false
    }
   },
   "outputs": [
    {
     "name": "stdout",
     "output_type": "stream",
     "text": [
      "  (2434, 0)\t4.8257374146487564e-05\n",
      "  (6137, 0)\t-1.254691663066243e-11\n",
      "  (9511, 0)\t-0.0001640750706428662\n",
      "  (15695, 0)\t-0.05790884792804718\n",
      "  (17412, 0)\t-9.651474829297513e-05\n",
      "  (17580, 0)\t1.0\n",
      "  (17892, 0)\t-0.0022584451362490654\n",
      "  (19548, 0)\t-1.4477211236953735\n",
      "  (20743, 0)\t-0.00594530813395977\n",
      "  (22509, 0)\t-0.40246647596359253\n",
      "  (22870, 0)\t0.0025383378379046917\n"
     ]
    }
   ],
   "source": [
    "print(myColumnCOO)"
   ]
  },
  {
   "cell_type": "markdown",
   "metadata": {
    "deletable": true,
    "editable": true
   },
   "source": [
    "However, we can directly access the rows and column indices using `row` and `col`:  "
   ]
  },
  {
   "cell_type": "code",
   "execution_count": null,
   "metadata": {
    "collapsed": false,
    "deletable": true,
    "editable": true,
    "jupyter": {
     "outputs_hidden": false
    }
   },
   "outputs": [],
   "source": [
    "myColumnCOO.row"
   ]
  },
  {
   "cell_type": "markdown",
   "metadata": {
    "deletable": true,
    "editable": true
   },
   "source": [
    "2) Get the activity code for each element using the **reverse** product dictionary we produced above:"
   ]
  },
  {
   "cell_type": "code",
   "execution_count": 120,
   "metadata": {
    "collapsed": false,
    "deletable": true,
    "editable": true,
    "jupyter": {
     "outputs_hidden": false
    }
   },
   "outputs": [
    {
     "data": {
      "text/plain": [
       "[('ecoinvent-3.10-cutoff', '4f6fd65e91fc97a49cc2f0dde26d65d7'),\n",
       " ('ecoinvent-3.10-cutoff', 'ef3c5a0d734f6a316df06817751c72b3'),\n",
       " ('ecoinvent-3.10-cutoff', 'f3e9de70f1b2e3c1c499a7a654bbadeb'),\n",
       " ('ecoinvent-3.10-cutoff', 'ee59e8ad361624b5ba96416511380c7f'),\n",
       " ('ecoinvent-3.10-cutoff', '4482bc52cfb36b6ee680a11c74082a37'),\n",
       " ('ecoinvent-3.10-cutoff', '38300de0f8f94767a9a3458b48392fd7'),\n",
       " ('ecoinvent-3.10-cutoff', '54dcb6b1d31fa59aca7d5a989623f1eb'),\n",
       " ('ecoinvent-3.10-cutoff', 'e2020082961d0fc9a750518d1c25982d'),\n",
       " ('ecoinvent-3.10-cutoff', 'c7521bf806a8e0a4769975797684dde5'),\n",
       " ('ecoinvent-3.10-cutoff', '3903e325cab19a08e78f191f581c5d72'),\n",
       " ('ecoinvent-3.10-cutoff', '748bead2334abea3b1cd1741f74df465')]"
      ]
     },
     "execution_count": 120,
     "metadata": {},
     "output_type": "execute_result"
    }
   ],
   "source": [
    "# Using a list comprehension:\n",
    "[rev_prod_dict[i] for i in myColumnCOO.row]"
   ]
  },
  {
   "cell_type": "markdown",
   "metadata": {
    "deletable": true,
    "editable": true
   },
   "source": [
    "It would be even nicer to get the names for these:"
   ]
  },
  {
   "cell_type": "code",
   "execution_count": 121,
   "metadata": {
    "collapsed": false,
    "deletable": true,
    "editable": true,
    "jupyter": {
     "outputs_hidden": false
    }
   },
   "outputs": [
    {
     "data": {
      "text/plain": [
       "['market for residue from cooling tower',\n",
       " 'market for hard coal power plant',\n",
       " 'market for light fuel oil',\n",
       " 'market for water, completely softened',\n",
       " 'market for chlorine, liquid',\n",
       " 'electricity production, hard coal',\n",
       " 'market for NOx retained, by selective catalytic reduction',\n",
       " 'market for water, decarbonised',\n",
       " 'market for SOx retained, in hard coal flue gas desulfurisation',\n",
       " 'market for hard coal',\n",
       " 'market for hard coal ash']"
      ]
     },
     "execution_count": 121,
     "metadata": {},
     "output_type": "execute_result"
    }
   ],
   "source": [
    "names_of_my_inputs = [bw2data.get_activity(rev_prod_dict[i])['name'] for i in myColumnCOO.row]\n",
    "names_of_my_inputs"
   ]
  },
  {
   "cell_type": "markdown",
   "metadata": {
    "deletable": true,
    "editable": true
   },
   "source": [
    "We can put these in a neat Pandas Series, with actual names and amounts:"
   ]
  },
  {
   "cell_type": "code",
   "execution_count": 123,
   "metadata": {
    "collapsed": false,
    "deletable": true,
    "editable": true,
    "jupyter": {
     "outputs_hidden": false
    }
   },
   "outputs": [
    {
     "data": {
      "text/plain": [
       "market for residue from cooling tower                            -4.825737e-05\n",
       "market for hard coal power plant                                  1.254692e-11\n",
       "market for light fuel oil                                         1.640751e-04\n",
       "market for water, completely softened                             5.790885e-02\n",
       "market for chlorine, liquid                                       9.651475e-05\n",
       "electricity production, hard coal                                -1.000000e+00\n",
       "market for NOx retained, by selective catalytic reduction         2.258445e-03\n",
       "market for water, decarbonised                                    1.447721e+00\n",
       "market for SOx retained, in hard coal flue gas desulfurisation    5.945308e-03\n",
       "market for hard coal                                              4.024665e-01\n",
       "market for hard coal ash                                         -2.538338e-03\n",
       "Name: Nice series with information on exchanges in my foreground process, dtype: float64"
      ]
     },
     "execution_count": 123,
     "metadata": {},
     "output_type": "execute_result"
    }
   ],
   "source": [
    "# First create a dict with the information I want:\n",
    "myColumnAsDict = dict(zip(names_of_my_inputs, myColumnCOO.data * -1))\n",
    "# Create Pandas Series from dict\n",
    "pd.Series(myColumnAsDict, name=\"Nice series with information on exchanges in my foreground process\")"
   ]
  },
  {
   "cell_type": "markdown",
   "metadata": {
    "deletable": true,
    "editable": true,
    "solution": "shown",
    "solution_first": true
   },
   "source": [
    "Alternative way to generate similar information without even looking at the matrices:"
   ]
  },
  {
   "cell_type": "code",
   "execution_count": 124,
   "metadata": {
    "collapsed": false,
    "deletable": true,
    "editable": true,
    "jupyter": {
     "outputs_hidden": false
    },
    "solution": "shown"
   },
   "outputs": [
    {
     "data": {
      "text/plain": [
       "market for average incineration residue                    -4.202100e-02\n",
       "market for coal slurry                                     -9.736800e-06\n",
       "market for decommissioned chemical production facilities   -1.633200e-09\n",
       "market for hazardous waste, for incineration               -9.547200e-03\n",
       "market for municipal solid waste                           -1.024873e-05\n",
       "market for spoil from hard coal mining                     -3.540000e-02\n",
       "market for waste plastic, mixture                          -7.700431e-10\n",
       "market for waste wood, untreated                           -9.697899e-08\n",
       "Name: alternative way to generate exchanges, dtype: float64"
      ]
     },
     "execution_count": 124,
     "metadata": {},
     "output_type": "execute_result"
    }
   ],
   "source": [
    "pd.Series({bw2data.get_activity(exc.input)['name']:exc.amount for exc in random_act.technosphere()}, \n",
    "          name=\"alternative way to generate exchanges\")"
   ]
  },
  {
   "cell_type": "markdown",
   "metadata": {
    "deletable": true,
    "editable": true,
    "solution": "shown"
   },
   "source": [
    "Note the differences:  \n",
    "  - The reference flow is not there (activity.technosphere() only returns technoshere exchanges where the input is not equal to the output)  \n",
    "  - The values are positive, not negative (because the $A$ matrix is $I-Z$ where $Z$ contains the information on these inputs."
   ]
  },
  {
   "cell_type": "markdown",
   "metadata": {
    "deletable": true,
    "editable": true,
    "solution": "shown",
    "solution2": "shown",
    "solution2_first": true
   },
   "source": [
    "**Exercise**: Create a Pandas Series with the elementary flows of the activity supplying the reference flow for myFirstLCA."
   ]
  },
  {
   "cell_type": "code",
   "execution_count": null,
   "metadata": {
    "collapsed": false,
    "deletable": true,
    "editable": true,
    "jupyter": {
     "outputs_hidden": false
    },
    "solution2": "shown"
   },
   "outputs": [],
   "source": [
    "# Solution\n",
    "myBioColumn = myFirstLCA.biosphere_matrix[:, col_index]\n",
    "myBioValues = myBioColumn.tocoo().data\n",
    "myBioNames = [bw2data.get_activity(rev_bio_dict[row])['name'] for row in myBioColumn.tocoo().row]\n",
    "pd.Series(dict(zip(myBioNames, myBioValues)))"
   ]
  },
  {
   "cell_type": "markdown",
   "metadata": {
    "deletable": true,
    "editable": true
   },
   "source": [
    "### 2.5) Solution to the inventory calculation"
   ]
  },
  {
   "cell_type": "markdown",
   "metadata": {
    "deletable": true,
    "editable": true
   },
   "source": [
    "We saw above how `.lci()` produced the $A$ and $B$ matrices.  \n",
    "`.lci()` also *solves* the equation $As=f$ and calculated the inventory by multiplying the solution to this equation by the biosphere matrix.  "
   ]
  },
  {
   "cell_type": "markdown",
   "metadata": {
    "deletable": true,
    "editable": true
   },
   "source": [
    "#### Supply array"
   ]
  },
  {
   "cell_type": "markdown",
   "metadata": {
    "deletable": true,
    "editable": true
   },
   "source": [
    "Vector containing the amount each activity will need to provide to meet the functional demand, i.e. $s=A^{-1}f$."
   ]
  },
  {
   "cell_type": "code",
   "execution_count": 125,
   "metadata": {
    "collapsed": false,
    "deletable": true,
    "editable": true,
    "jupyter": {
     "outputs_hidden": false
    }
   },
   "outputs": [
    {
     "data": {
      "text/plain": [
       "array([2.56730229e-05, 1.40597911e-08, 0.00000000e+00, ...,\n",
       "       4.51596352e-11, 1.08031993e-11, 3.06336810e-06])"
      ]
     },
     "execution_count": 125,
     "metadata": {},
     "output_type": "execute_result"
    }
   ],
   "source": [
    "myFirstLCA.supply_array"
   ]
  },
  {
   "cell_type": "code",
   "execution_count": 126,
   "metadata": {
    "collapsed": false,
    "deletable": true,
    "editable": true,
    "jupyter": {
     "outputs_hidden": false
    }
   },
   "outputs": [
    {
     "data": {
      "text/plain": [
       "(23523,)"
      ]
     },
     "execution_count": 126,
     "metadata": {},
     "output_type": "execute_result"
    }
   ],
   "source": [
    "myFirstLCA.supply_array.shape"
   ]
  },
  {
   "cell_type": "code",
   "execution_count": 127,
   "metadata": {},
   "outputs": [
    {
     "data": {
      "text/plain": [
       "(2648, 23523)"
      ]
     },
     "execution_count": 127,
     "metadata": {},
     "output_type": "execute_result"
    }
   ],
   "source": [
    "myFirstLCA.biosphere_matrix.shape"
   ]
  },
  {
   "cell_type": "markdown",
   "metadata": {
    "deletable": true,
    "editable": true
   },
   "source": [
    "**Inventory matrix**  \n",
    "Contains the inventory *by activity* (i.e. not summed). In other words, we do not have $g=BA^{-1}f$, but rather $G=B \\cdot diag(A^{-1}f)$"
   ]
  },
  {
   "cell_type": "code",
   "execution_count": 128,
   "metadata": {
    "collapsed": false,
    "deletable": true,
    "editable": true,
    "jupyter": {
     "outputs_hidden": false
    }
   },
   "outputs": [
    {
     "data": {
      "text/plain": [
       "(2648, 23523)"
      ]
     },
     "execution_count": 128,
     "metadata": {},
     "output_type": "execute_result"
    }
   ],
   "source": [
    "myFirstLCA.inventory.shape"
   ]
  },
  {
   "cell_type": "markdown",
   "metadata": {
    "deletable": true,
    "editable": true
   },
   "source": [
    "We can aggregate the LCI results along the columns (i.e. calculate the cradle-to-gate inventory):"
   ]
  },
  {
   "cell_type": "code",
   "execution_count": 129,
   "metadata": {
    "collapsed": false,
    "deletable": true,
    "editable": true,
    "jupyter": {
     "outputs_hidden": false
    }
   },
   "outputs": [
    {
     "data": {
      "text/plain": [
       "(2648, 1)"
      ]
     },
     "execution_count": 129,
     "metadata": {},
     "output_type": "execute_result"
    }
   ],
   "source": [
    "LCI_cradle_to_gate = myFirstLCA.inventory.sum(axis=1)\n",
    "LCI_cradle_to_gate.shape"
   ]
  },
  {
   "cell_type": "markdown",
   "metadata": {
    "deletable": true,
    "editable": true,
    "solution2": "shown",
    "solution2_first": true
   },
   "source": [
    "**Exercise:** Get the total (cradle-to-gate) emissions of nitrous oxide emitted to air in the \"urban air\" subcompartment."
   ]
  },
  {
   "cell_type": "code",
   "execution_count": 130,
   "metadata": {
    "collapsed": false,
    "deletable": true,
    "editable": true,
    "jupyter": {
     "outputs_hidden": false
    },
    "solution2": "shown"
   },
   "outputs": [
    {
     "name": "stdout",
     "output_type": "stream",
     "text": [
      "('biosphere', '6dc1b46f-ee89-4495-95c4-b8a637bcd6cb')\n"
     ]
    }
   ],
   "source": [
    "N2O_act = [act for act in my_bio if 'Dinitrogen monoxide' in act['name']\n",
    "                       and 'urban air close to ground' in str(act['categories'])\n",
    "         ][0]\n",
    "print(N2O_act.key)\n",
    "key=N2O_act.key"
   ]
  },
  {
   "cell_type": "code",
   "execution_count": 131,
   "metadata": {
    "collapsed": false,
    "deletable": true,
    "editable": true,
    "jupyter": {
     "outputs_hidden": false
    },
    "solution2": "shown"
   },
   "outputs": [
    {
     "data": {
      "text/plain": [
       "2514"
      ]
     },
     "execution_count": 131,
     "metadata": {},
     "output_type": "execute_result"
    }
   ],
   "source": [
    "N2O_act = myFirstLCA.biosphere_dict[key]\n",
    "N2O_act"
   ]
  },
  {
   "cell_type": "code",
   "execution_count": 132,
   "metadata": {
    "collapsed": false,
    "deletable": true,
    "editable": true,
    "jupyter": {
     "outputs_hidden": false
    },
    "solution2": "shown"
   },
   "outputs": [
    {
     "data": {
      "text/plain": [
       "2.4124149948419558e-06"
      ]
     },
     "execution_count": 132,
     "metadata": {},
     "output_type": "execute_result"
    }
   ],
   "source": [
    "myFirstLCA.inventory[N2O_act, :].sum()"
   ]
  },
  {
   "cell_type": "markdown",
   "metadata": {
    "deletable": true,
    "editable": true
   },
   "source": [
    "### 2.7) LCIA"
   ]
  },
  {
   "cell_type": "markdown",
   "metadata": {
    "deletable": true,
    "editable": true
   },
   "source": [
    "The LCIA calculation is done via the `.lcia()` method."
   ]
  },
  {
   "cell_type": "code",
   "execution_count": null,
   "metadata": {
    "deletable": true,
    "editable": true,
    "tags": []
   },
   "outputs": [],
   "source": [
    "myFirstLCA.lcia()"
   ]
  },
  {
   "cell_type": "markdown",
   "metadata": {
    "deletable": true,
    "editable": true
   },
   "source": [
    "A number of other matrices are now available:"
   ]
  },
  {
   "cell_type": "code",
   "execution_count": 133,
   "metadata": {
    "collapsed": false,
    "deletable": true,
    "editable": true,
    "jupyter": {
     "outputs_hidden": false
    }
   },
   "outputs": [
    {
     "data": {
      "text/plain": [
       "<2648x2648 sparse matrix of type '<class 'numpy.float64'>'\n",
       "\twith 93 stored elements in Compressed Sparse Row format>"
      ]
     },
     "execution_count": 133,
     "metadata": {},
     "output_type": "execute_result"
    }
   ],
   "source": [
    "# Matrix of characterization factors:\n",
    "myFirstLCA.characterization_matrix"
   ]
  },
  {
   "cell_type": "code",
   "execution_count": 134,
   "metadata": {
    "collapsed": false,
    "deletable": true,
    "editable": true,
    "jupyter": {
     "outputs_hidden": false
    }
   },
   "outputs": [
    {
     "data": {
      "text/plain": [
       "(2648, 2648)"
      ]
     },
     "execution_count": 134,
     "metadata": {},
     "output_type": "execute_result"
    }
   ],
   "source": [
    "myFirstLCA.characterization_matrix.shape"
   ]
  },
  {
   "cell_type": "code",
   "execution_count": 135,
   "metadata": {
    "collapsed": false,
    "deletable": true,
    "editable": true,
    "jupyter": {
     "outputs_hidden": false
    }
   },
   "outputs": [
    {
     "data": {
      "text/plain": [
       "<2648x23523 sparse matrix of type '<class 'numpy.float64'>'\n",
       "\twith 19959 stored elements in Compressed Sparse Row format>"
      ]
     },
     "execution_count": 135,
     "metadata": {},
     "output_type": "execute_result"
    }
   ],
   "source": [
    "# Matrix of characterized inventory flows\n",
    "myFirstLCA.characterized_inventory"
   ]
  },
  {
   "cell_type": "markdown",
   "metadata": {
    "deletable": true,
    "editable": true
   },
   "source": [
    "The overall score is now an attribute of the LCA object: "
   ]
  },
  {
   "cell_type": "code",
   "execution_count": 136,
   "metadata": {
    "collapsed": false,
    "deletable": true,
    "editable": true,
    "jupyter": {
     "outputs_hidden": false
    }
   },
   "outputs": [
    {
     "data": {
      "text/plain": [
       "1.0553874191072472"
      ]
     },
     "execution_count": 136,
     "metadata": {},
     "output_type": "execute_result"
    }
   ],
   "source": [
    "myFirstLCA.score"
   ]
  },
  {
   "cell_type": "markdown",
   "metadata": {
    "deletable": true,
    "editable": true
   },
   "source": [
    "We also could have determined what this score was by summing the elements of our `characterized_inventory` matrix:"
   ]
  },
  {
   "cell_type": "code",
   "execution_count": 137,
   "metadata": {
    "collapsed": false,
    "deletable": true,
    "editable": true,
    "jupyter": {
     "outputs_hidden": false
    }
   },
   "outputs": [
    {
     "data": {
      "text/plain": [
       "1.0553874191072472"
      ]
     },
     "execution_count": 137,
     "metadata": {},
     "output_type": "execute_result"
    }
   ],
   "source": [
    "myFirstLCA.characterized_inventory.sum()"
   ]
  },
  {
   "cell_type": "markdown",
   "metadata": {
    "deletable": true,
    "editable": true
   },
   "source": [
    "We could also have calculated it by multiplying the inventory and characterization factors ourselves:"
   ]
  },
  {
   "cell_type": "code",
   "execution_count": 138,
   "metadata": {
    "collapsed": false,
    "deletable": true,
    "editable": true,
    "jupyter": {
     "outputs_hidden": false
    }
   },
   "outputs": [
    {
     "data": {
      "text/plain": [
       "1.0553874191072472"
      ]
     },
     "execution_count": 138,
     "metadata": {},
     "output_type": "execute_result"
    }
   ],
   "source": [
    "(myFirstLCA.characterization_matrix * myFirstLCA.inventory).sum()"
   ]
  },
  {
   "cell_type": "markdown",
   "metadata": {
    "deletable": true,
    "editable": true
   },
   "source": [
    "We could also calculate the score by elementary flow (summing columns for each rows), irrespective of the unit process that produced it:"
   ]
  },
  {
   "cell_type": "code",
   "execution_count": 139,
   "metadata": {
    "deletable": true,
    "editable": true,
    "tags": []
   },
   "outputs": [],
   "source": [
    "#Axis is the dimension I want to sum over\n",
    "elementary_flow_contribution = myFirstLCA.characterized_inventory.sum(axis=1) "
   ]
  },
  {
   "cell_type": "code",
   "execution_count": 140,
   "metadata": {
    "collapsed": false,
    "deletable": true,
    "editable": true,
    "jupyter": {
     "outputs_hidden": false
    }
   },
   "outputs": [
    {
     "data": {
      "text/plain": [
       "(2648, 1)"
      ]
     },
     "execution_count": 140,
     "metadata": {},
     "output_type": "execute_result"
    }
   ],
   "source": [
    "elementary_flow_contribution.shape"
   ]
  },
  {
   "cell_type": "markdown",
   "metadata": {
    "deletable": true,
    "editable": true
   },
   "source": [
    "Notice that is has **two** dimensions. The result is in fact a one-dimensional matrix:"
   ]
  },
  {
   "cell_type": "code",
   "execution_count": null,
   "metadata": {
    "collapsed": false,
    "deletable": true,
    "editable": true,
    "jupyter": {
     "outputs_hidden": false
    }
   },
   "outputs": [],
   "source": [
    "type(elementary_flow_contribution)"
   ]
  },
  {
   "cell_type": "markdown",
   "metadata": {
    "deletable": true,
    "editable": true
   },
   "source": [
    "To convert it to an array (probably more useful for many purposes), you can use any of the following approaches:"
   ]
  },
  {
   "cell_type": "code",
   "execution_count": null,
   "metadata": {
    "collapsed": false,
    "deletable": true,
    "editable": true,
    "jupyter": {
     "outputs_hidden": false
    }
   },
   "outputs": [],
   "source": [
    "elementary_flow_contribution.A1 \n",
    "#np.squeeze(np.asarray(elementary_flow_contribution))\n",
    "#np.asarray(elementary_flow_contribution).reshape(-1)\n",
    "#np.array(elementary_flow_contribution).flatten()\n",
    "#np.array(elementary_flow_contribution).ravel()"
   ]
  },
  {
   "cell_type": "markdown",
   "metadata": {
    "deletable": true,
    "editable": true,
    "solution2": "shown",
    "solution2_first": true
   },
   "source": [
    "**Exercise:** Create a Pandas series that has the scores per unit process, sorted by value (contribution analysis)"
   ]
  },
  {
   "cell_type": "code",
   "execution_count": 141,
   "metadata": {
    "tags": []
   },
   "outputs": [],
   "source": [
    "# Create array with the results per column (i.e. per activity)\n",
    "results_by_activity = (myFirstLCA.characterized_inventory.sum(axis=0)).A1"
   ]
  },
  {
   "cell_type": "code",
   "execution_count": 153,
   "metadata": {
    "collapsed": false,
    "jupyter": {
     "outputs_hidden": false
    }
   },
   "outputs": [],
   "source": [
    "# Create a list of names in columns\n",
    "list_of_names_in_columns = [\n",
    "    (bw2data.get_activity(rev_act_dict[col])['reference product'], )\n",
    "    for col in range(myFirstLCA.characterized_inventory.shape[1])\n",
    "]"
   ]
  },
  {
   "cell_type": "code",
   "execution_count": 154,
   "metadata": {},
   "outputs": [
    {
     "data": {
      "text/plain": [
       "('ecoinvent-3.10-cutoff', '38300de0f8f94767a9a3458b48392fd7')"
      ]
     },
     "execution_count": 154,
     "metadata": {},
     "output_type": "execute_result"
    }
   ],
   "source": [
    "coal_DE.key"
   ]
  },
  {
   "cell_type": "code",
   "execution_count": 155,
   "metadata": {
    "collapsed": false,
    "jupyter": {
     "outputs_hidden": false
    }
   },
   "outputs": [
    {
     "data": {
      "text/plain": [
       "(electricity, high voltage,)                               0.900780\n",
       "(hard coal,)                                               0.041572\n",
       "(hard coal,)                                               0.019224\n",
       "(transport, freight, sea, bulk carrier for dry goods,)     0.015408\n",
       "(transport, freight train,)                                0.005803\n",
       "(hard coal,)                                               0.005670\n",
       "(natural gas, vented,)                                     0.004734\n",
       "(transport, freight, inland waterways, barge,)             0.003694\n",
       "(SOx retained, in hard coal flue gas desulfurisation,)     0.003272\n",
       "(electricity, high voltage,)                               0.002796\n",
       "(transport, freight train,)                                0.002627\n",
       "(diesel, burned in building machine,)                      0.002387\n",
       "(hard coal,)                                               0.002339\n",
       "(heat, district or industrial, other than natural gas,)    0.002177\n",
       "(transport, freight train,)                                0.001960\n",
       "(pig iron,)                                                0.001619\n",
       "(electricity, high voltage,)                               0.001586\n",
       "(hard coal,)                                               0.001561\n",
       "(sweet gas, burned in gas turbine,)                        0.001386\n",
       "(quicklime, in pieces, loose,)                             0.001319\n",
       "dtype: float64"
      ]
     },
     "execution_count": 155,
     "metadata": {},
     "output_type": "execute_result"
    }
   ],
   "source": [
    "pd.Series(index=list_of_names_in_columns, data=results_by_activity).sort_values(ascending=False).head(20)"
   ]
  },
  {
   "cell_type": "code",
   "execution_count": 144,
   "metadata": {},
   "outputs": [],
   "source": [
    "results_by_flows = (myFirstLCA.characterized_inventory.sum(axis=1)).A1"
   ]
  },
  {
   "cell_type": "code",
   "execution_count": 147,
   "metadata": {},
   "outputs": [],
   "source": [
    "# Create a list of names in columns\n",
    "list_of_names_in_columns = [\n",
    "    (bw2data.get_activity(rev_bio_dict[col])['name'], bw2data.get_activity(rev_bio_dict[col])['unit'])\n",
    "    for col in range(myFirstLCA.characterized_inventory.shape[0])\n",
    "]"
   ]
  },
  {
   "cell_type": "code",
   "execution_count": 148,
   "metadata": {},
   "outputs": [
    {
     "data": {
      "text/plain": [
       "(Carbon dioxide, fossil, kilogram)                        9.366862e-01\n",
       "(Methane, fossil, kilogram)                               7.747109e-02\n",
       "(Carbon dioxide, fossil, kilogram)                        2.168271e-02\n",
       "(Dinitrogen monoxide, kilogram)                           1.089718e-02\n",
       "(Carbon dioxide, fossil, kilogram)                        7.176938e-03\n",
       "(Dinitrogen monoxide, kilogram)                           6.585893e-04\n",
       "(Dinitrogen monoxide, kilogram)                           3.874371e-04\n",
       "(Methane, non-fossil, kilogram)                           1.529508e-04\n",
       "(Carbon dioxide, from soil or biomass stock, kilogram)    9.369988e-05\n",
       "(Sulfur hexafluoride, kilogram)                           7.539789e-05\n",
       "(Tetrafluoromethane, kilogram)                            3.502652e-05\n",
       "(Methane, fossil, kilogram)                               3.181986e-05\n",
       "(Methane, fossil, kilogram)                               2.365398e-05\n",
       "(Trifluoromethane, kilogram)                              5.539874e-06\n",
       "(Hexafluoroethane, kilogram)                              3.363516e-06\n",
       "(Methane, non-fossil, kilogram)                           1.805165e-06\n",
       "(Carbon dioxide, from soil or biomass stock, kilogram)    1.116429e-06\n",
       "(Hexafluoroethane, kilogram)                              6.704652e-07\n",
       "(Methane, from soil or biomass stock, kilogram)           5.584227e-07\n",
       "(Ethane, kilogram)                                        4.724992e-07\n",
       "dtype: float64"
      ]
     },
     "execution_count": 148,
     "metadata": {},
     "output_type": "execute_result"
    }
   ],
   "source": [
    "pd.Series(index=list_of_names_in_columns, data=results_by_flows).sort_values(ascending=False).head(20)"
   ]
  },
  {
   "cell_type": "markdown",
   "metadata": {
    "deletable": true,
    "editable": true
   },
   "source": [
    "## 3) My second LCA: Comparative LCA"
   ]
  },
  {
   "cell_type": "markdown",
   "metadata": {
    "deletable": true,
    "editable": true
   },
   "source": [
    "Let's choose two activities to compare, say Swiss electricity produced from respectively a run-of-river hydropower plant and a wind turbine."
   ]
  },
  {
   "cell_type": "markdown",
   "metadata": {
    "deletable": true,
    "editable": true,
    "solution2": "shown",
    "solution2_first": true
   },
   "source": [
    "**Exercise**: assign the two activities to variables `hydro` and `wind` respectively."
   ]
  },
  {
   "cell_type": "code",
   "execution_count": 156,
   "metadata": {
    "collapsed": false,
    "deletable": true,
    "editable": true,
    "jupyter": {
     "outputs_hidden": false
    },
    "solution2": "shown"
   },
   "outputs": [
    {
     "data": {
      "text/plain": [
       "'electricity production, wind, <1MW turbine, onshore' (kilowatt hour, DK, None)"
      ]
     },
     "execution_count": 156,
     "metadata": {},
     "output_type": "execute_result"
    }
   ],
   "source": [
    "wind = [act for act in eidb if \"wind\" in act['name']\n",
    "        and \"<1MW\" in act['name'] \n",
    "        and act['unit'] == \"kilowatt hour\"\n",
    "        and act[\"location\"] == \"DK\"\n",
    "       ][0]\n",
    "wind"
   ]
  },
  {
   "cell_type": "code",
   "execution_count": 164,
   "metadata": {
    "collapsed": false,
    "deletable": true,
    "editable": true,
    "jupyter": {
     "outputs_hidden": false
    },
    "solution2": "shown"
   },
   "outputs": [
    {
     "data": {
      "text/plain": [
       "['electricity production, hydro, run-of-river' (kilowatt hour, CH, None),\n",
       " 'electricity, high voltage, hydro, run-of-river, import from France, renewable energy products' (kilowatt hour, CH, None),\n",
       " 'electricity, high voltage, hydro, run-of-river, import from France' (kilowatt hour, CH, None),\n",
       " 'electricity production, hydro, run-of-river, renewable energy products' (kilowatt hour, CH, None)]"
      ]
     },
     "execution_count": 164,
     "metadata": {},
     "output_type": "execute_result"
    }
   ],
   "source": [
    "hydro = [act for act in eidb if \"hydro\" in act['name'] \n",
    "                     and \"river\" in act['name'] \n",
    "                     and act['location'] == \"CH\"\n",
    "                     and act['unit'] == \"kilowatt hour\"\n",
    "                     ]\n",
    "hydro"
   ]
  },
  {
   "cell_type": "code",
   "execution_count": 165,
   "metadata": {},
   "outputs": [
    {
     "data": {
      "text/plain": [
       "'electricity production, hydro, run-of-river' (kilowatt hour, CH, None)"
      ]
     },
     "execution_count": 165,
     "metadata": {},
     "output_type": "execute_result"
    }
   ],
   "source": [
    "hydro = hydro[0]\n",
    "hydro"
   ]
  },
  {
   "cell_type": "markdown",
   "metadata": {
    "deletable": true,
    "editable": true
   },
   "source": [
    "Let's also compare these according to their carbon footprint as measured with the IPCC method we already selected above:"
   ]
  },
  {
   "cell_type": "code",
   "execution_count": null,
   "metadata": {
    "collapsed": false,
    "deletable": true,
    "editable": true,
    "jupyter": {
     "outputs_hidden": false
    }
   },
   "outputs": [],
   "source": [
    "ipcc_2021_method"
   ]
  },
  {
   "cell_type": "markdown",
   "metadata": {
    "deletable": true,
    "editable": true
   },
   "source": [
    "#### One-at-a-time approach:"
   ]
  },
  {
   "cell_type": "code",
   "execution_count": 166,
   "metadata": {
    "collapsed": false,
    "deletable": true,
    "editable": true,
    "jupyter": {
     "outputs_hidden": false
    }
   },
   "outputs": [
    {
     "name": "stderr",
     "output_type": "stream",
     "text": [
      "/opt/homebrew/Caskroom/miniforge/base/envs/bw2/lib/python3.11/site-packages/scikits/umfpack/umfpack.py:736: UmfpackWarning: (almost) singular matrix! (estimated cond. number: 1.21e+13)\n",
      "  warnings.warn(msg, UmfpackWarning)\n"
     ]
    },
    {
     "data": {
      "text/plain": [
       "0.0037453943378596166"
      ]
     },
     "execution_count": 166,
     "metadata": {},
     "output_type": "execute_result"
    }
   ],
   "source": [
    "hydroLCA = bw2calc.LCA({hydro:1}, ipcc_2021_method.name)\n",
    "hydroLCA.lci()\n",
    "hydroLCA.lcia()\n",
    "hydroLCA.score"
   ]
  },
  {
   "cell_type": "markdown",
   "metadata": {
    "deletable": true,
    "editable": true,
    "solution2": "shown",
    "solution2_first": true
   },
   "source": [
    "**Exercise:** Do the LCA for `wind`:"
   ]
  },
  {
   "cell_type": "code",
   "execution_count": 167,
   "metadata": {
    "collapsed": false,
    "deletable": true,
    "editable": true,
    "jupyter": {
     "outputs_hidden": false
    },
    "solution2": "shown"
   },
   "outputs": [
    {
     "data": {
      "text/plain": [
       "0.0128246001843446"
      ]
     },
     "execution_count": 167,
     "metadata": {},
     "output_type": "execute_result"
    }
   ],
   "source": [
    "windLCA = bw2calc.LCA({wind:1}, ipcc_2021_method.name)\n",
    "windLCA.lci()\n",
    "windLCA.lcia()\n",
    "windLCA.score"
   ]
  },
  {
   "cell_type": "code",
   "execution_count": 168,
   "metadata": {
    "collapsed": false,
    "deletable": true,
    "editable": true,
    "jupyter": {
     "outputs_hidden": false
    }
   },
   "outputs": [
    {
     "name": "stdout",
     "output_type": "stream",
     "text": [
      "Hydro is preferable\n"
     ]
    }
   ],
   "source": [
    "#Compare results:\n",
    "if windLCA.score > hydroLCA.score:\n",
    "    print(\"Hydro is preferable\")\n",
    "elif windLCA.score < hydroLCA.score:\n",
    "    print(\"Wind is preferable\")\n",
    "else:\n",
    "    print(\"Both options have the same climate change indicator result\")"
   ]
  },
  {
   "cell_type": "markdown",
   "metadata": {
    "deletable": true,
    "editable": true
   },
   "source": [
    "Do one \"delta\" LCA:"
   ]
  },
  {
   "cell_type": "code",
   "execution_count": 169,
   "metadata": {
    "collapsed": false,
    "deletable": true,
    "editable": true,
    "jupyter": {
     "outputs_hidden": false
    }
   },
   "outputs": [
    {
     "data": {
      "text/plain": [
       "0.009079205846484983"
      ]
     },
     "execution_count": 169,
     "metadata": {},
     "output_type": "execute_result"
    }
   ],
   "source": [
    "deltaLCA = bw2calc.LCA({wind:1, hydro:-1}, ipcc_2021_method.name)\n",
    "deltaLCA.lci()\n",
    "deltaLCA.lcia()\n",
    "deltaLCA.score"
   ]
  },
  {
   "cell_type": "code",
   "execution_count": 170,
   "metadata": {
    "collapsed": false,
    "deletable": true,
    "editable": true,
    "jupyter": {
     "outputs_hidden": false
    }
   },
   "outputs": [
    {
     "name": "stdout",
     "output_type": "stream",
     "text": [
      "Hydro is preferable\n"
     ]
    }
   ],
   "source": [
    "if deltaLCA.score>0:\n",
    "    print(\"Hydro is preferable\")\n",
    "elif deltaLCA.score<0:\n",
    "    print(\"Wind is preferable\")\n",
    "else:\n",
    "    print(\"Both options have the same climate change indicator result\")"
   ]
  },
  {
   "cell_type": "markdown",
   "metadata": {
    "deletable": true,
    "editable": true
   },
   "source": [
    "## 4) My third LCA - Multiple impact categories"
   ]
  },
  {
   "cell_type": "markdown",
   "metadata": {
    "deletable": true,
    "editable": true
   },
   "source": [
    "Say we want to evaluate the indicator results for our randomAct for all EF v3 categories (with long-term emissions)."
   ]
  },
  {
   "cell_type": "code",
   "execution_count": 171,
   "metadata": {
    "collapsed": false,
    "deletable": true,
    "editable": true,
    "jupyter": {
     "outputs_hidden": false
    }
   },
   "outputs": [
    {
     "data": {
      "text/plain": [
       "[('EF v3.1', 'acidification', 'accumulated exceedance (AE)'),\n",
       " ('EF v3.1', 'climate change', 'global warming potential (GWP100)'),\n",
       " ('EF v3.1', 'climate change: biogenic', 'global warming potential (GWP100)'),\n",
       " ('EF v3.1', 'climate change: fossil', 'global warming potential (GWP100)'),\n",
       " ('EF v3.1',\n",
       "  'climate change: land use and land use change',\n",
       "  'global warming potential (GWP100)'),\n",
       " ('EF v3.1',\n",
       "  'ecotoxicity: freshwater',\n",
       "  'comparative toxic unit for ecosystems (CTUe)'),\n",
       " ('EF v3.1',\n",
       "  'ecotoxicity: freshwater, inorganics',\n",
       "  'comparative toxic unit for ecosystems (CTUe)'),\n",
       " ('EF v3.1',\n",
       "  'ecotoxicity: freshwater, organics',\n",
       "  'comparative toxic unit for ecosystems (CTUe)')]"
      ]
     },
     "execution_count": 171,
     "metadata": {},
     "output_type": "execute_result"
    }
   ],
   "source": [
    "# Make a list of all impact method names (tuples):\n",
    "EFV3 = [\n",
    "    method for method in bw2data.methods if \"EF v3.1\" in str(method) \n",
    "        and \"no LT\" not in str(method)\n",
    "        and \"EN15804\" not in str(method)\n",
    "][:8]\n",
    "EFV3"
   ]
  },
  {
   "cell_type": "markdown",
   "metadata": {
    "deletable": true,
    "editable": true
   },
   "source": [
    "Simplest way: for loop, using `switch method`"
   ]
  },
  {
   "cell_type": "code",
   "execution_count": 173,
   "metadata": {
    "collapsed": false,
    "deletable": true,
    "editable": true,
    "jupyter": {
     "outputs_hidden": false
    }
   },
   "outputs": [
    {
     "name": "stdout",
     "output_type": "stream",
     "text": [
      "'electricity production, hydro, run-of-river' (kilowatt hour, CH, None)\n",
      "'electricity production, wind, <1MW turbine, onshore' (kilowatt hour, DK, None)\n",
      "CPU times: user 1.6 s, sys: 143 ms, total: 1.75 s\n",
      "Wall time: 1.21 s\n"
     ]
    },
    {
     "data": {
      "text/plain": [
       "array([[1.51567846e-05, 3.74539434e-03, 1.61258596e-06, 3.74279441e-03,\n",
       "        9.87339189e-07, 4.68692964e-02, 1.56277151e-02, 3.12415813e-02],\n",
       "       [7.64831698e-05, 1.28246002e-02, 1.13258161e-05, 1.28047605e-02,\n",
       "        8.51388676e-06, 2.49219327e-01, 1.03643731e-01, 1.45575596e-01]])"
      ]
     },
     "execution_count": 173,
     "metadata": {},
     "output_type": "execute_result"
    }
   ],
   "source": [
    "%%time\n",
    "def get_lcia_scores(products, categories, results):\n",
    "    lca = bw2calc.LCA({products[0]: 1}, categories[0])\n",
    "    lca.lci()\n",
    "    lca.lcia()\n",
    "    \n",
    "    method_matrices = [lca.characterization_matrix.copy()]\n",
    "    \n",
    "    for other_method in categories[1:]:\n",
    "        # Only build each characterization matrix once instead of once per product\n",
    "        lca.switch_method(other_method)\n",
    "        method_matrices.append(lca.characterization_matrix.copy())\n",
    "    \n",
    "    for i, product in enumerate(products):\n",
    "        print(product)\n",
    "        lca.redo_lci({product: 1})\n",
    "        for j, characterization_matrix in enumerate(method_matrices):\n",
    "            results[i, j] = (characterization_matrix * lca.inventory).sum()\n",
    "    \n",
    "    return results\n",
    "\n",
    "results = np.zeros((2, len(EFV3)))\n",
    "results = get_lcia_scores([hydro, wind], EFV3, results)\n",
    "results"
   ]
  },
  {
   "cell_type": "code",
   "execution_count": 174,
   "metadata": {},
   "outputs": [
    {
     "name": "stdout",
     "output_type": "stream",
     "text": [
      "'electricity production, hydro, run-of-river' (kilowatt hour, CH, None) ('EF v3.1', 'acidification', 'accumulated exceedance (AE)') 1.5156784591425031e-05\n",
      "'electricity production, hydro, run-of-river' (kilowatt hour, CH, None) ('EF v3.1', 'climate change', 'global warming potential (GWP100)') 0.0037453943378596166\n",
      "'electricity production, hydro, run-of-river' (kilowatt hour, CH, None) ('EF v3.1', 'climate change: biogenic', 'global warming potential (GWP100)') 1.6125859645388003e-06\n",
      "'electricity production, hydro, run-of-river' (kilowatt hour, CH, None) ('EF v3.1', 'climate change: fossil', 'global warming potential (GWP100)') 0.0037427944127057097\n",
      "'electricity production, hydro, run-of-river' (kilowatt hour, CH, None) ('EF v3.1', 'climate change: land use and land use change', 'global warming potential (GWP100)') 9.87339189367442e-07\n",
      "'electricity production, hydro, run-of-river' (kilowatt hour, CH, None) ('EF v3.1', 'ecotoxicity: freshwater', 'comparative toxic unit for ecosystems (CTUe)') 0.04686929639242229\n",
      "'electricity production, hydro, run-of-river' (kilowatt hour, CH, None) ('EF v3.1', 'ecotoxicity: freshwater, inorganics', 'comparative toxic unit for ecosystems (CTUe)') 0.015627715061951597\n",
      "'electricity production, hydro, run-of-river' (kilowatt hour, CH, None) ('EF v3.1', 'ecotoxicity: freshwater, organics', 'comparative toxic unit for ecosystems (CTUe)') 0.03124158133047069\n",
      "'electricity production, wind, <1MW turbine, onshore' (kilowatt hour, DK, None) ('EF v3.1', 'acidification', 'accumulated exceedance (AE)') 7.648316982139584e-05\n",
      "'electricity production, wind, <1MW turbine, onshore' (kilowatt hour, DK, None) ('EF v3.1', 'climate change', 'global warming potential (GWP100)') 0.0128246001843446\n",
      "'electricity production, wind, <1MW turbine, onshore' (kilowatt hour, DK, None) ('EF v3.1', 'climate change: biogenic', 'global warming potential (GWP100)') 1.1325816087258711e-05\n",
      "'electricity production, wind, <1MW turbine, onshore' (kilowatt hour, DK, None) ('EF v3.1', 'climate change: fossil', 'global warming potential (GWP100)') 0.012804760481500846\n",
      "'electricity production, wind, <1MW turbine, onshore' (kilowatt hour, DK, None) ('EF v3.1', 'climate change: land use and land use change', 'global warming potential (GWP100)') 8.513886756496074e-06\n",
      "'electricity production, wind, <1MW turbine, onshore' (kilowatt hour, DK, None) ('EF v3.1', 'ecotoxicity: freshwater', 'comparative toxic unit for ecosystems (CTUe)') 0.24921932679736508\n",
      "'electricity production, wind, <1MW turbine, onshore' (kilowatt hour, DK, None) ('EF v3.1', 'ecotoxicity: freshwater, inorganics', 'comparative toxic unit for ecosystems (CTUe)') 0.10364373113021647\n",
      "'electricity production, wind, <1MW turbine, onshore' (kilowatt hour, DK, None) ('EF v3.1', 'ecotoxicity: freshwater, organics', 'comparative toxic unit for ecosystems (CTUe)') 0.14557559566714862\n",
      "CPU times: user 9.84 s, sys: 858 ms, total: 10.7 s\n",
      "Wall time: 7.77 s\n"
     ]
    }
   ],
   "source": [
    "%%time\n",
    "for activity in [hydro, wind]:\n",
    "    for method in EFV3:\n",
    "        lca = bw2calc.LCA({activity:1}, method)\n",
    "        lca.lci()\n",
    "        lca.lcia()\n",
    "        print(activity, method, lca.score)"
   ]
  },
  {
   "cell_type": "code",
   "execution_count": 175,
   "metadata": {
    "collapsed": false,
    "deletable": true,
    "editable": true,
    "jupyter": {
     "outputs_hidden": false
    }
   },
   "outputs": [
    {
     "data": {
      "text/html": [
       "<div>\n",
       "<style scoped>\n",
       "    .dataframe tbody tr th:only-of-type {\n",
       "        vertical-align: middle;\n",
       "    }\n",
       "\n",
       "    .dataframe tbody tr th {\n",
       "        vertical-align: top;\n",
       "    }\n",
       "\n",
       "    .dataframe thead th {\n",
       "        text-align: right;\n",
       "    }\n",
       "</style>\n",
       "<table border=\"1\" class=\"dataframe\">\n",
       "  <thead>\n",
       "    <tr style=\"text-align: right;\">\n",
       "      <th></th>\n",
       "      <th>acidification</th>\n",
       "      <th>climate change</th>\n",
       "      <th>climate change: biogenic</th>\n",
       "      <th>climate change: fossil</th>\n",
       "      <th>climate change: land use and land use change</th>\n",
       "      <th>ecotoxicity: freshwater</th>\n",
       "      <th>ecotoxicity: freshwater, inorganics</th>\n",
       "      <th>ecotoxicity: freshwater, organics</th>\n",
       "    </tr>\n",
       "  </thead>\n",
       "  <tbody>\n",
       "    <tr>\n",
       "      <th>electricity production, hydro, r</th>\n",
       "      <td>0.000015</td>\n",
       "      <td>0.003745</td>\n",
       "      <td>0.000002</td>\n",
       "      <td>0.003743</td>\n",
       "      <td>9.873392e-07</td>\n",
       "      <td>0.046869</td>\n",
       "      <td>0.015628</td>\n",
       "      <td>0.031242</td>\n",
       "    </tr>\n",
       "    <tr>\n",
       "      <th>electricity production, wind,</th>\n",
       "      <td>0.000076</td>\n",
       "      <td>0.012825</td>\n",
       "      <td>0.000011</td>\n",
       "      <td>0.012805</td>\n",
       "      <td>8.513887e-06</td>\n",
       "      <td>0.249219</td>\n",
       "      <td>0.103644</td>\n",
       "      <td>0.145576</td>\n",
       "    </tr>\n",
       "  </tbody>\n",
       "</table>\n",
       "</div>"
      ],
      "text/plain": [
       "                                  acidification  climate change  \\\n",
       "electricity production, hydro, r       0.000015        0.003745   \n",
       "electricity production, wind,          0.000076        0.012825   \n",
       "\n",
       "                                  climate change: biogenic  \\\n",
       "electricity production, hydro, r                  0.000002   \n",
       "electricity production, wind,                     0.000011   \n",
       "\n",
       "                                  climate change: fossil  \\\n",
       "electricity production, hydro, r                0.003743   \n",
       "electricity production, wind,                   0.012805   \n",
       "\n",
       "                                  climate change: land use and land use change  \\\n",
       "electricity production, hydro, r                                  9.873392e-07   \n",
       "electricity production, wind,                                     8.513887e-06   \n",
       "\n",
       "                                  ecotoxicity: freshwater  \\\n",
       "electricity production, hydro, r                 0.046869   \n",
       "electricity production, wind,                    0.249219   \n",
       "\n",
       "                                  ecotoxicity: freshwater, inorganics  \\\n",
       "electricity production, hydro, r                             0.015628   \n",
       "electricity production, wind,                                0.103644   \n",
       "\n",
       "                                  ecotoxicity: freshwater, organics  \n",
       "electricity production, hydro, r                           0.031242  \n",
       "electricity production, wind,                              0.145576  "
      ]
     },
     "execution_count": 175,
     "metadata": {},
     "output_type": "execute_result"
    }
   ],
   "source": [
    "df = pd.DataFrame(columns=[e[1] for e in EFV3], index=[hydro['name'][:32], wind['name'][:30], ], data=results)\n",
    "df"
   ]
  },
  {
   "cell_type": "code",
   "execution_count": 176,
   "metadata": {},
   "outputs": [
    {
     "data": {
      "text/plain": [
       "<Axes: >"
      ]
     },
     "execution_count": 176,
     "metadata": {},
     "output_type": "execute_result"
    },
    {
     "data": {
      "image/png": "[encoded data removed]",
      "text/plain": [
       "<Figure size 640x480 with 1 Axes>"
      ]
     },
     "metadata": {},
     "output_type": "display_data"
    }
   ],
   "source": [
    "df.div(df.iloc[0], axis=1).plot(kind=\"bar\")"
   ]
  },
  {
   "cell_type": "markdown",
   "metadata": {},
   "source": [
    "## Uncertainty"
   ]
  },
  {
   "cell_type": "markdown",
   "metadata": {},
   "source": [
    "Values of exchanges in datasets may come with uncertainty.\n",
    "See [documentation](https://stats-arrays.readthedocs.io/en/latest/) of `stats_array`.\n",
    "\n",
    "Let's find out how uncertainty is defined in ecoinvent:"
   ]
  },
  {
   "cell_type": "code",
   "execution_count": 180,
   "metadata": {},
   "outputs": [
    {
     "name": "stdout",
     "output_type": "stream",
     "text": [
      "computer, laptop\n",
      "<class 'stats_arrays.distributions.lognormal.LognormalUncertainty'>\n",
      "{'uncertainty type': 2, 'loc': -8.909199279840246, 'scale': 0.20303940504246953}\n"
     ]
    }
   ],
   "source": [
    "act = eidb.random()\n",
    "for e in act.technosphere():\n",
    "    #pprint(e.as_dict())\n",
    "    print(e[\"name\"])\n",
    "    print(e.uncertainty_type)\n",
    "    print(e.uncertainty)\n",
    "    break\n",
    "    "
   ]
  },
  {
   "cell_type": "markdown",
   "metadata": {},
   "source": [
    "### Running a stochastic analysis (Monte Carlo)"
   ]
  },
  {
   "cell_type": "code",
   "execution_count": 181,
   "metadata": {},
   "outputs": [],
   "source": [
    "iterations = 10\n",
    "results = np.zeros((2, iterations))"
   ]
  },
  {
   "cell_type": "code",
   "execution_count": 182,
   "metadata": {},
   "outputs": [
    {
     "data": {
      "text/plain": [
       "array([[0., 0., 0., 0., 0., 0., 0., 0., 0., 0.],\n",
       "       [0., 0., 0., 0., 0., 0., 0., 0., 0., 0.]])"
      ]
     },
     "execution_count": 182,
     "metadata": {},
     "output_type": "execute_result"
    }
   ],
   "source": [
    "results"
   ]
  },
  {
   "cell_type": "code",
   "execution_count": 183,
   "metadata": {},
   "outputs": [
    {
     "data": {
      "text/plain": [
       "('EF v3.1', 'climate change', 'global warming potential (GWP100)')"
      ]
     },
     "execution_count": 183,
     "metadata": {},
     "output_type": "execute_result"
    }
   ],
   "source": [
    "EFV3[1]"
   ]
  },
  {
   "cell_type": "code",
   "execution_count": 186,
   "metadata": {},
   "outputs": [
    {
     "name": "stderr",
     "output_type": "stream",
     "text": [
      "/opt/homebrew/Caskroom/miniforge/base/envs/bw2/lib/python3.11/site-packages/scikits/umfpack/umfpack.py:736: UmfpackWarning: (almost) singular matrix! (estimated cond. number: 1.11e+15)\n",
      "  warnings.warn(msg, UmfpackWarning)\n"
     ]
    },
    {
     "name": "stdout",
     "output_type": "stream",
     "text": [
      "CPU times: user 3.2 s, sys: 359 ms, total: 3.56 s\n",
      "Wall time: 3.12 s\n"
     ]
    }
   ],
   "source": [
    "%%time\n",
    "\n",
    "for a, activity in enumerate([hydro, wind]):\n",
    "    lca = bw2calc.MonteCarloLCA(\n",
    "        demand={activity: 1},\n",
    "        method=EFV3[1],\n",
    "        seed=42\n",
    "    )\n",
    "    #lca.lci()\n",
    "    #lca.lcia()\n",
    "    \n",
    "    results[a] = [lca.score for _ in zip(range(iterations), lca)]\n"
   ]
  },
  {
   "cell_type": "code",
   "execution_count": 187,
   "metadata": {},
   "outputs": [
    {
     "data": {
      "text/plain": [
       "array([[0.00767504, 0.00479403, 0.00520508, 0.00466754, 0.00447076,\n",
       "        0.00316092, 0.00411702, 0.00698947, 0.00484242, 0.00466148],\n",
       "       [0.01682629, 0.01242168, 0.01428306, 0.01683632, 0.01495363,\n",
       "        0.01327942, 0.01491476, 0.01432409, 0.01436309, 0.01639968]])"
      ]
     },
     "execution_count": 187,
     "metadata": {},
     "output_type": "execute_result"
    }
   ],
   "source": [
    "results"
   ]
  },
  {
   "cell_type": "code",
   "execution_count": 188,
   "metadata": {},
   "outputs": [
    {
     "name": "stderr",
     "output_type": "stream",
     "text": [
      "/opt/homebrew/Caskroom/miniforge/base/envs/bw2/lib/python3.11/site-packages/scikits/umfpack/umfpack.py:736: UmfpackWarning: (almost) singular matrix! (estimated cond. number: 5.15e+13)\n",
      "  warnings.warn(msg, UmfpackWarning)\n"
     ]
    },
    {
     "name": "stdout",
     "output_type": "stream",
     "text": [
      "CPU times: user 1.61 s, sys: 185 ms, total: 1.79 s\n",
      "Wall time: 1.57 s\n"
     ]
    },
    {
     "data": {
      "text/plain": [
       "[-0.007552831276232029,\n",
       " -0.014536932208282064,\n",
       " -0.008515980106114514,\n",
       " -0.008599794199958852,\n",
       " -0.0104928206370137,\n",
       " -0.011555129406347148,\n",
       " -0.015589165229208739,\n",
       " -0.008742790605669244,\n",
       " -0.011994247607660317,\n",
       " -0.009152831242938635]"
      ]
     },
     "execution_count": 188,
     "metadata": {},
     "output_type": "execute_result"
    }
   ],
   "source": [
    "%%time\n",
    "\n",
    "\n",
    "lca = bw2calc.MonteCarloLCA(\n",
    "    demand={hydro: 1, wind: -1},\n",
    "    method=EFV3[1],\n",
    "    #seed=42\n",
    ")\n",
    "#lca.lci()\n",
    "#lca.lcia()\n",
    "\n",
    "[lca.score for _ in zip(range(iterations), lca)]\n"
   ]
  },
  {
   "cell_type": "markdown",
   "metadata": {},
   "source": [
    "Let's visualize the results:"
   ]
  },
  {
   "cell_type": "code",
   "execution_count": 189,
   "metadata": {},
   "outputs": [
    {
     "data": {
      "text/html": [
       "<div>\n",
       "<style scoped>\n",
       "    .dataframe tbody tr th:only-of-type {\n",
       "        vertical-align: middle;\n",
       "    }\n",
       "\n",
       "    .dataframe tbody tr th {\n",
       "        vertical-align: top;\n",
       "    }\n",
       "\n",
       "    .dataframe thead th {\n",
       "        text-align: right;\n",
       "    }\n",
       "</style>\n",
       "<table border=\"1\" class=\"dataframe\">\n",
       "  <thead>\n",
       "    <tr style=\"text-align: right;\">\n",
       "      <th></th>\n",
       "      <th>Hydro</th>\n",
       "      <th>Wind</th>\n",
       "    </tr>\n",
       "  </thead>\n",
       "  <tbody>\n",
       "    <tr>\n",
       "      <th>0</th>\n",
       "      <td>0.007675</td>\n",
       "      <td>0.016826</td>\n",
       "    </tr>\n",
       "    <tr>\n",
       "      <th>1</th>\n",
       "      <td>0.004794</td>\n",
       "      <td>0.012422</td>\n",
       "    </tr>\n",
       "    <tr>\n",
       "      <th>2</th>\n",
       "      <td>0.005205</td>\n",
       "      <td>0.014283</td>\n",
       "    </tr>\n",
       "    <tr>\n",
       "      <th>3</th>\n",
       "      <td>0.004668</td>\n",
       "      <td>0.016836</td>\n",
       "    </tr>\n",
       "    <tr>\n",
       "      <th>4</th>\n",
       "      <td>0.004471</td>\n",
       "      <td>0.014954</td>\n",
       "    </tr>\n",
       "    <tr>\n",
       "      <th>5</th>\n",
       "      <td>0.003161</td>\n",
       "      <td>0.013279</td>\n",
       "    </tr>\n",
       "    <tr>\n",
       "      <th>6</th>\n",
       "      <td>0.004117</td>\n",
       "      <td>0.014915</td>\n",
       "    </tr>\n",
       "    <tr>\n",
       "      <th>7</th>\n",
       "      <td>0.006989</td>\n",
       "      <td>0.014324</td>\n",
       "    </tr>\n",
       "    <tr>\n",
       "      <th>8</th>\n",
       "      <td>0.004842</td>\n",
       "      <td>0.014363</td>\n",
       "    </tr>\n",
       "    <tr>\n",
       "      <th>9</th>\n",
       "      <td>0.004661</td>\n",
       "      <td>0.016400</td>\n",
       "    </tr>\n",
       "  </tbody>\n",
       "</table>\n",
       "</div>"
      ],
      "text/plain": [
       "      Hydro      Wind\n",
       "0  0.007675  0.016826\n",
       "1  0.004794  0.012422\n",
       "2  0.005205  0.014283\n",
       "3  0.004668  0.016836\n",
       "4  0.004471  0.014954\n",
       "5  0.003161  0.013279\n",
       "6  0.004117  0.014915\n",
       "7  0.006989  0.014324\n",
       "8  0.004842  0.014363\n",
       "9  0.004661  0.016400"
      ]
     },
     "execution_count": 189,
     "metadata": {},
     "output_type": "execute_result"
    }
   ],
   "source": [
    "df = pd.DataFrame(results.T, columns=[\"Hydro\", \"Wind\"])\n",
    "df"
   ]
  },
  {
   "cell_type": "code",
   "execution_count": 190,
   "metadata": {},
   "outputs": [
    {
     "data": {
      "text/plain": [
       "<Axes: >"
      ]
     },
     "execution_count": 190,
     "metadata": {},
     "output_type": "execute_result"
    },
    {
     "data": {
      "image/png": "[encoded data removed]",
      "text/plain": [
       "<Figure size 640x480 with 1 Axes>"
      ]
     },
     "metadata": {},
     "output_type": "display_data"
    }
   ],
   "source": [
    "df.boxplot()"
   ]
  },
  {
   "cell_type": "markdown",
   "metadata": {},
   "source": [
    "That's it for the time being.\n",
    "\n",
    "Additional resources to dig the topic deeper:\n",
    "* Exercises on [bw2calc and bw_processing](https://github.com/Depart-de-Sentier/Spring-School-2024/blob/main/class-materials/brightway-basics/2%20-%20Building%20and%20using%20matrices%20in%20bw2calc.ipynb)"
   ]
  },
  {
   "cell_type": "code",
   "execution_count": null,
   "metadata": {},
   "outputs": [],
   "source": []
  }
 ],
 "metadata": {
  "kernelspec": {
   "display_name": "Python 3 (ipykernel)",
   "language": "python",
   "name": "python3"
  },
  "language_info": {
   "codemirror_mode": {
    "name": "ipython",
    "version": 3
   },
   "file_extension": ".py",
   "mimetype": "text/x-python",
   "name": "python",
   "nbconvert_exporter": "python",
   "pygments_lexer": "ipython3",
   "version": "3.11.11"
  },
  "widgets": {
   "state": {},
   "version": "1.1.2"
  }
 },
 "nbformat": 4,
 "nbformat_minor": 4
}
