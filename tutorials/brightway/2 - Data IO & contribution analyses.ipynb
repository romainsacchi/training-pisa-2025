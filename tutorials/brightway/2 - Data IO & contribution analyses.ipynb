{
 "cells": [
  {
   "cell_type": "markdown",
   "metadata": {},
   "source": [
    "<div>\n",
    "    <table>\n",
    "        <tr>\n",
    "            <td>\n",
    "                <center>\n",
    "                    <h1>Brightway Introduction</h1>\n",
    "                     <a href=\"https://www.psi.ch/en/ta/people/romain-sacchi\">Romain Sacchi</a> (PSI)\n",
    "                    <br><br>\n",
    "                    Duration: 1 hour 30 minutes.\n",
    "                </center>\n",
    "            </td>\n",
    "        </tr>\n",
    "    </div>\n",
    "\n",
    "# Brightway I/O: bw2io\n",
    "\n",
    "<div class=\"alert alert-info\">\n",
    "Note: we will be using <a href=\"https://docs.brightway.dev/en/legacy/\">Brightway 2</a>, not <a href=\"https://docs.brightway.dev/en/latest/content/installation/index.html\">Brightway 2.5</a>. From the user end side, very little differs between the two. The code executed throughout this notebook works with both versions.\n",
    "</div>\n"
   ]
  },
  {
   "cell_type": "markdown",
   "metadata": {},
   "source": [
    "## Learning objectives  \n",
    "\n",
    "Learn how to:\n",
    "\n",
    "    - input LCI data to Brightway using Excel/CVS importers\n",
    "    - fix linking issue using migration files\n",
    "    - do a contribution analysis\n",
    "    - export your foreground inventories"
   ]
  },
  {
   "cell_type": "markdown",
   "metadata": {},
   "source": [
    "## Standard inputs and setup"
   ]
  },
  {
   "cell_type": "code",
   "execution_count": 1,
   "metadata": {},
   "outputs": [],
   "source": [
    "import os\n",
    "from pathlib import Path\n",
    "import pandas as pd\n",
    "import bw2io, bw2data, bw2calc"
   ]
  },
  {
   "cell_type": "markdown",
   "metadata": {},
   "source": [
    "Let's list our projects:"
   ]
  },
  {
   "cell_type": "code",
   "execution_count": 2,
   "metadata": {},
   "outputs": [
    {
     "data": {
      "text/plain": [
       "[Project: ,\n",
       " Project: bw25_ei310,\n",
       " Project: default,\n",
       " Project: ecoinvent-migration,\n",
       " Project: ecoinvent-3.9.1-cutoff_bw25,\n",
       " Project: ecoinvent-3.9.11-cutoff,\n",
       " Project: aligned_bw25,\n",
       " Project: ecoinvent-3.10-cutoff,\n",
       " Project: defult,\n",
       " Project: winter-school,\n",
       " Project: test,\n",
       " Project: training-day,\n",
       " Project: 66,\n",
       " Project: 74,\n",
       " Project: training-day-2]"
      ]
     },
     "execution_count": 2,
     "metadata": {},
     "output_type": "execute_result"
    }
   ],
   "source": [
    "list(bw2data.projects)"
   ]
  },
  {
   "cell_type": "markdown",
   "metadata": {},
   "source": [
    "Setting the project"
   ]
  },
  {
   "cell_type": "code",
   "execution_count": 3,
   "metadata": {},
   "outputs": [],
   "source": [
    "bw2data.projects.set_current(\"training-day-2\")"
   ]
  },
  {
   "cell_type": "markdown",
   "metadata": {},
   "source": [
    "## Context"
   ]
  },
  {
   "cell_type": "markdown",
   "metadata": {},
   "source": [
    "Performing an LCA generally requires:\n",
    "  - Background LCI data (e.g., an LCI database such as [ecoinvent](https://ecoinvent.org/))  \n",
    "  - Foreground LCI data (e.g., a bunch of datasets the LCA practitioner has spent time modeling)\n",
    "  - Sets of characterization factors.\n",
    " \n",
    "This section will deal with the way Foreground LCI data is input to Brightway."
   ]
  },
  {
   "cell_type": "markdown",
   "metadata": {},
   "source": [
    "Useful documentation about what a database in Brightway is can be found [here](https://github.com/brightway-lca/brightway2/blob/master/notebooks/Databases.ipynb)\n",
    " and [here](https://docs.brightway.dev/en/latest/content/gettingstarted/databases.html)."
   ]
  },
  {
   "cell_type": "markdown",
   "metadata": {},
   "source": [
    "# Importing from CSV or Excel"
   ]
  },
  {
   "cell_type": "markdown",
   "metadata": {},
   "source": [
    "Using `bw2io.ExcelImporter`, we import datasets from an Excel file."
   ]
  },
  {
   "cell_type": "code",
   "execution_count": 8,
   "metadata": {},
   "outputs": [
    {
     "name": "stdout",
     "output_type": "stream",
     "text": [
      "Extracted 1 worksheets in 0.05 seconds\n"
     ]
    }
   ],
   "source": [
    "imp = bw2io.ExcelImporter(\"files/lci-carbon-fiber.xlsx\")"
   ]
  },
  {
   "cell_type": "code",
   "execution_count": 5,
   "metadata": {},
   "outputs": [],
   "source": [
    "from constructive_geometries import geomatcher"
   ]
  },
  {
   "cell_type": "code",
   "execution_count": 6,
   "metadata": {},
   "outputs": [],
   "source": [
    "geo = geomatcher.Geomatcher()"
   ]
  },
  {
   "cell_type": "code",
   "execution_count": 7,
   "metadata": {},
   "outputs": [
    {
     "data": {
      "text/plain": [
       "[('ecoinvent', 'RER'),\n",
       " ('ecoinvent', 'Europe without Austria'),\n",
       " ('ecoinvent', 'Europe without Switzerland'),\n",
       " ('ecoinvent', 'Europe without Switzerland and Austria'),\n",
       " ('ecoinvent', 'RER w/o CH+DE'),\n",
       " ('ecoinvent', 'Europe, without Russia and Türkiye'),\n",
       " ('ecoinvent', 'RER w/o RU'),\n",
       " ('ecoinvent', 'Europe without Switzerland and France'),\n",
       " ('ecoinvent', 'RER w/o DE+NL+RU'),\n",
       " ('ecoinvent', 'RER w/o DE+NL+NO'),\n",
       " ('ecoinvent', 'ENTSO-E'),\n",
       " ('ecoinvent', 'Europe without NORDEL (NCPA)'),\n",
       " ('ecoinvent', 'RER w/o DE+NL+NO+RU'),\n",
       " ('ecoinvent', 'RER w/o AT+BE+CH+DE+FR+IT'),\n",
       " ('ecoinvent', 'UCTE'),\n",
       " ('ecoinvent', 'IAI Area, EU27 & EFTA'),\n",
       " ('ecoinvent', 'UCTE without Germany'),\n",
       " ('ecoinvent', 'UCTE without France'),\n",
       " ('ecoinvent', 'UCTE without Germany and France'),\n",
       " ('ecoinvent', 'UN-SEUROPE'),\n",
       " ('ecoinvent', 'UN-NEUROPE'),\n",
       " 'GB',\n",
       " ('ecoinvent', 'WEU'),\n",
       " ('ecoinvent', 'NORDEL'),\n",
       " 'SI',\n",
       " ('ecoinvent', 'BALTSO'),\n",
       " 'IT',\n",
       " ('ecoinvent', 'Russia (Europe)'),\n",
       " 'LV',\n",
       " 'NO',\n",
       " 'FR',\n",
       " 'GR',\n",
       " 'MK',\n",
       " ('ecoinvent', 'CENTREL'),\n",
       " 'ES',\n",
       " 'MT',\n",
       " 'SE',\n",
       " 'FI',\n",
       " 'CS',\n",
       " 'HR',\n",
       " 'HU',\n",
       " 'MD',\n",
       " 'RO',\n",
       " 'IE',\n",
       " 'CH',\n",
       " 'DE',\n",
       " 'PT',\n",
       " 'UA',\n",
       " 'XK',\n",
       " 'BG',\n",
       " 'RS',\n",
       " 'ME',\n",
       " 'NL',\n",
       " 'SJ',\n",
       " 'BA',\n",
       " 'EE',\n",
       " 'DK',\n",
       " 'LI',\n",
       " 'AX',\n",
       " 'PL',\n",
       " 'CZ',\n",
       " 'BE',\n",
       " 'IS',\n",
       " 'AL',\n",
       " 'LT',\n",
       " 'AT',\n",
       " 'SM',\n",
       " ('ecoinvent', 'Canary Islands'),\n",
       " 'SK',\n",
       " 'AD',\n",
       " 'BY',\n",
       " 'GG',\n",
       " 'LU',\n",
       " 'IM',\n",
       " 'GI',\n",
       " 'JE',\n",
       " 'MC',\n",
       " 'VA']"
      ]
     },
     "execution_count": 7,
     "metadata": {},
     "output_type": "execute_result"
    }
   ],
   "source": [
    "geo.contained(\"RER\")"
   ]
  },
  {
   "cell_type": "markdown",
   "metadata": {},
   "source": [
    "We want to apply a number of data cleaning functions (format numbers, set correct location, etc.),"
   ]
  },
  {
   "cell_type": "code",
   "execution_count": 9,
   "metadata": {},
   "outputs": [
    {
     "name": "stdout",
     "output_type": "stream",
     "text": [
      "Applying strategy: csv_restore_tuples\n",
      "Applying strategy: csv_restore_booleans\n",
      "Applying strategy: csv_numerize\n",
      "Applying strategy: csv_drop_unknown\n",
      "Applying strategy: csv_add_missing_exchanges_section\n",
      "Applying strategy: normalize_units\n",
      "Applying strategy: normalize_biosphere_categories\n",
      "Applying strategy: normalize_biosphere_names\n",
      "Applying strategy: strip_biosphere_exc_locations\n",
      "Applying strategy: set_code_by_activity_hash\n",
      "Applying strategy: link_iterable_by_fields\n",
      "Applying strategy: assign_only_product_as_production\n",
      "Applying strategy: link_technosphere_by_activity_hash\n",
      "Applying strategy: drop_falsey_uncertainty_fields_but_keep_zeros\n",
      "Applying strategy: convert_uncertainty_types_to_integers\n",
      "Applying strategy: convert_activity_parameters_to_list\n",
      "Applied 16 strategies in 2.48 seconds\n"
     ]
    }
   ],
   "source": [
    "imp.apply_strategies()"
   ]
  },
  {
   "cell_type": "markdown",
   "metadata": {},
   "source": [
    "Then, we want to use the `match_database()` method to link exchanges to suppliers."
   ]
  },
  {
   "cell_type": "markdown",
   "metadata": {},
   "source": [
    "First, we want to link exchange to suppliers that may also be contained in the data being imported."
   ]
  },
  {
   "cell_type": "code",
   "execution_count": 10,
   "metadata": {},
   "outputs": [
    {
     "name": "stdout",
     "output_type": "stream",
     "text": [
      "Applying strategy: link_iterable_by_fields\n"
     ]
    }
   ],
   "source": [
    "# we match based on the name, reference product and location\n",
    "imp.match_database(fields=('name', 'reference product', 'unit', 'location')) "
   ]
  },
  {
   "cell_type": "markdown",
   "metadata": {},
   "source": [
    "<div class=\"alert alert-info\">\n",
    "Note: Why is it important to link both based on <b>name</b> and <b>reference product</b>?\n",
    "</div>"
   ]
  },
  {
   "cell_type": "markdown",
   "metadata": {},
   "source": [
    "Is that enough? Do we still have unlinked exchanges? Let's check."
   ]
  },
  {
   "cell_type": "code",
   "execution_count": 11,
   "metadata": {},
   "outputs": [
    {
     "name": "stdout",
     "output_type": "stream",
     "text": [
      "10 datasets\n",
      "109 exchanges\n",
      "82 unlinked exchanges\n",
      "  Type biosphere: 1 unique unlinked exchanges\n",
      "  Type technosphere: 19 unique unlinked exchanges\n"
     ]
    },
    {
     "data": {
      "text/plain": [
       "(10, 109, 82)"
      ]
     },
     "execution_count": 11,
     "metadata": {},
     "output_type": "execute_result"
    }
   ],
   "source": [
    "imp.statistics()"
   ]
  },
  {
   "cell_type": "markdown",
   "metadata": {},
   "source": [
    "Let's check what those unlinked exchanges are:"
   ]
  },
  {
   "cell_type": "code",
   "execution_count": 12,
   "metadata": {},
   "outputs": [
    {
     "name": "stdout",
     "output_type": "stream",
     "text": [
      "market for heat, from steam, in chemical industry RER None\n",
      "market for acrylonitrile GLO None\n",
      "market group for electricity, low voltage RER None\n",
      "market for methyl acrylate GLO None\n",
      "market for acrylic acid RER None\n",
      "market for water, deionised Europe without Switzerland None\n",
      "market for compressed air, 1000 kPa gauge RER None\n",
      "market for dimethyl sulfoxide GLO None\n",
      "market for ethylene glycol GLO None\n",
      "air separation, cryogenic RER None\n",
      "market for steam, in chemical industry RER None\n",
      "treatment of wastewater, average, wastewater treatment CH None\n",
      "market for potassium permanganate GLO None\n",
      "market for silicone product RER None\n",
      "Argon-40 None ('air',)\n",
      "market for natural gas, medium pressure, vehicle grade GLO None\n",
      "market for NOx retained, by selective catalytic reduction GLO None\n",
      "market for tap water Europe without Switzerland None\n",
      "market for ammonium bicarbonate RER None\n",
      "market for epoxy resin, liquid RER None\n"
     ]
    }
   ],
   "source": [
    "for u in list(imp.unlinked):\n",
    "    print(u[\"name\"], u.get(\"location\"), u.get(\"categories\"))"
   ]
  },
  {
   "cell_type": "markdown",
   "metadata": {},
   "source": [
    "OK, some unlinked exchanges are clearly from ecoinvent. Let's try to link those."
   ]
  },
  {
   "cell_type": "code",
   "execution_count": 13,
   "metadata": {},
   "outputs": [
    {
     "name": "stdout",
     "output_type": "stream",
     "text": [
      "Applying strategy: link_iterable_by_fields\n",
      "10 datasets\n",
      "109 exchanges\n",
      "14 unlinked exchanges\n",
      "  Type biosphere: 1 unique unlinked exchanges\n",
      "  Type technosphere: 2 unique unlinked exchanges\n"
     ]
    },
    {
     "data": {
      "text/plain": [
       "(10, 109, 14)"
      ]
     },
     "execution_count": 13,
     "metadata": {},
     "output_type": "execute_result"
    }
   ],
   "source": [
    "imp.match_database(\"ecoinvent-3.10-cutoff\", fields=('name', 'reference product', 'unit', 'location'))\n",
    "imp.statistics()"
   ]
  },
  {
   "cell_type": "markdown",
   "metadata": {},
   "source": [
    "Depiste trying to link with ecoinvent, we still have two unmatched technosphere flows:"
   ]
  },
  {
   "cell_type": "code",
   "execution_count": 14,
   "metadata": {},
   "outputs": [
    {
     "data": {
      "text/plain": [
       "[{'name': 'market for ethylene glycol',\n",
       "  'amount': 2.4225526641883498e-06,\n",
       "  'database': 'ecoinvent',\n",
       "  'location': 'GLO',\n",
       "  'unit': 'kilogram',\n",
       "  'type': 'technosphere',\n",
       "  'reference product': 'ethylene glycol'},\n",
       " {'name': 'air separation, cryogenic',\n",
       "  'amount': 0.005396530359355638,\n",
       "  'database': 'ecoinvent',\n",
       "  'location': 'RER',\n",
       "  'unit': 'kilogram',\n",
       "  'type': 'technosphere',\n",
       "  'reference product': 'nitrogen, liquid'}]"
      ]
     },
     "execution_count": 14,
     "metadata": {},
     "output_type": "execute_result"
    }
   ],
   "source": [
    "[u for u in imp.unlinked if u[\"type\"] == \"technosphere\"]"
   ]
  },
  {
   "cell_type": "markdown",
   "metadata": {},
   "source": [
    "Also, we have an unlinked biosphere exchange left, let's try to match that one."
   ]
  },
  {
   "cell_type": "code",
   "execution_count": 15,
   "metadata": {},
   "outputs": [
    {
     "name": "stdout",
     "output_type": "stream",
     "text": [
      "Applying strategy: link_iterable_by_fields\n",
      "10 datasets\n",
      "109 exchanges\n",
      "14 unlinked exchanges\n",
      "  Type biosphere: 1 unique unlinked exchanges\n",
      "  Type technosphere: 2 unique unlinked exchanges\n"
     ]
    },
    {
     "data": {
      "text/plain": [
       "(10, 109, 14)"
      ]
     },
     "execution_count": 15,
     "metadata": {},
     "output_type": "execute_result"
    }
   ],
   "source": [
    "imp.match_database(\"biosphere\", fields=('name', 'unit', 'categories'))\n",
    "imp.statistics()"
   ]
  },
  {
   "cell_type": "code",
   "execution_count": 16,
   "metadata": {},
   "outputs": [
    {
     "data": {
      "text/plain": [
       "[{'name': 'market for ethylene glycol',\n",
       "  'amount': 2.4225526641883498e-06,\n",
       "  'database': 'ecoinvent',\n",
       "  'location': 'GLO',\n",
       "  'unit': 'kilogram',\n",
       "  'type': 'technosphere',\n",
       "  'reference product': 'ethylene glycol'},\n",
       " {'name': 'air separation, cryogenic',\n",
       "  'amount': 0.005396530359355638,\n",
       "  'database': 'ecoinvent',\n",
       "  'location': 'RER',\n",
       "  'unit': 'kilogram',\n",
       "  'type': 'technosphere',\n",
       "  'reference product': 'nitrogen, liquid'},\n",
       " {'name': 'Argon-40',\n",
       "  'amount': 0.012598425196850395,\n",
       "  'unit': 'kilogram',\n",
       "  'categories': ('air',),\n",
       "  'type': 'biosphere',\n",
       "  'uncertainty type': 2,\n",
       "  'loc': -4.3741834572128555,\n",
       "  'u1': 1.5,\n",
       "  'u2': 1.2,\n",
       "  'u3': 1.5,\n",
       "  'u4': 1.1,\n",
       "  'u5': 2,\n",
       "  'u6': 1.2,\n",
       "  'ub': 1.5,\n",
       "  'scale': 0.5121584730617011}]"
      ]
     },
     "execution_count": 16,
     "metadata": {},
     "output_type": "execute_result"
    }
   ],
   "source": [
    "list(imp.unlinked)"
   ]
  },
  {
   "cell_type": "code",
   "execution_count": 17,
   "metadata": {},
   "outputs": [
    {
     "data": {
      "text/plain": [
       "[{'name': 'Argon-40',\n",
       "  'amount': 0.012598425196850395,\n",
       "  'unit': 'kilogram',\n",
       "  'categories': ('air',),\n",
       "  'type': 'biosphere',\n",
       "  'uncertainty type': 2,\n",
       "  'loc': -4.3741834572128555,\n",
       "  'u1': 1.5,\n",
       "  'u2': 1.2,\n",
       "  'u3': 1.5,\n",
       "  'u4': 1.1,\n",
       "  'u5': 2,\n",
       "  'u6': 1.2,\n",
       "  'ub': 1.5,\n",
       "  'scale': 0.5121584730617011}]"
      ]
     },
     "execution_count": 17,
     "metadata": {},
     "output_type": "execute_result"
    }
   ],
   "source": [
    "[u for u in imp.unlinked if u[\"type\"] == \"biosphere\"]"
   ]
  },
  {
   "cell_type": "markdown",
   "metadata": {},
   "source": [
    "Nope. Why not? Maybe because `Argon-40` does not not exist as such in `biosphere?`"
   ]
  },
  {
   "cell_type": "code",
   "execution_count": 18,
   "metadata": {},
   "outputs": [
    {
     "data": {
      "text/plain": [
       "['Argon' (kilogram, None, ('natural resource', 'in air')),\n",
       " 'Argon-41' (kilo Becquerel, None, ('air', 'non-urban air or from high stacks')),\n",
       " 'Argon-41' (kilo Becquerel, None, ('air', 'urban air close to ground')),\n",
       " 'Argon' (kilogram, None, ('air',)),\n",
       " 'Argon-41' (kilo Becquerel, None, ('air',)),\n",
       " 'Argon-41' (kilo Becquerel, None, ('air', 'low population density, long-term'))]"
      ]
     },
     "execution_count": 18,
     "metadata": {},
     "output_type": "execute_result"
    }
   ],
   "source": [
    "[f for f in bw2data.Database(\"biosphere\") if \"argon\" in f[\"name\"].lower()]"
   ]
  },
  {
   "cell_type": "markdown",
   "metadata": {},
   "source": [
    "It is indeed now simply called `Argon` in ecoinvent 3.10.\n",
    "We can:\n",
    "1. manually fix this (i.e., modify the exchange name in the Excel file),\n",
    "2. go over `imp.data`(list), iterate through the exchanges and find `Argon-40` and replace it with `Argon`\n",
    "3. create a `migration` file for translating ecoinvent 3.9 flows to 3.10"
   ]
  },
  {
   "cell_type": "markdown",
   "metadata": {},
   "source": [
    "### Migration file"
   ]
  },
  {
   "cell_type": "markdown",
   "metadata": {},
   "source": [
    "We create a mapping dictionary, and use it to create a `Migration` object."
   ]
  },
  {
   "cell_type": "code",
   "execution_count": 19,
   "metadata": {},
   "outputs": [],
   "source": [
    "migration = {\n",
    "    \"fields\": [\"name\", \"reference product\", \"location\", \"categories\"],\n",
    "    \"data\": [\n",
    "        (\n",
    "            (\"market for ethylene glycol\", \"ethylene glycol\", \"GLO\", \"\"),\n",
    "            {\"location\": \"RER\",},\n",
    "        ),\n",
    "        (\n",
    "            (\"air separation, cryogenic\", \"nitrogen, liquid\", \"GLO\", \"\"),\n",
    "            {\n",
    "                \"name\": \"industrial gases production, cryogenic air separation\",\n",
    "                \"location\": \"RER\",\n",
    "            },\n",
    "        ),\n",
    "        (\n",
    "            (\"air separation, cryogenic\", \"nitrogen, liquid\", \"RER\", \"\"),\n",
    "            {\n",
    "                \"name\": \"industrial gases production, cryogenic air separation\",\n",
    "            },\n",
    "        ),\n",
    "        (\n",
    "            (\"Argon-40\", \"\", \"\", (\"air\",)),\n",
    "            {\n",
    "                \"name\": \"Argon\",\n",
    "            },\n",
    "        )\n",
    "    ],\n",
    "}"
   ]
  },
  {
   "cell_type": "code",
   "execution_count": 20,
   "metadata": {},
   "outputs": [],
   "source": [
    "bw2io.Migration(name=\"ei3.9-3.10\").write(data=migration, description=\"ei 3.9 to 3.10\")"
   ]
  },
  {
   "cell_type": "code",
   "execution_count": 21,
   "metadata": {},
   "outputs": [
    {
     "data": {
      "text/plain": [
       "True"
      ]
     },
     "execution_count": 21,
     "metadata": {},
     "output_type": "execute_result"
    }
   ],
   "source": [
    "\"ei3.9-3.10\" in bw2io.migrations"
   ]
  },
  {
   "cell_type": "code",
   "execution_count": 22,
   "metadata": {},
   "outputs": [
    {
     "data": {
      "text/plain": [
       "Brightway2 Migration: ei3.9-3.10"
      ]
     },
     "execution_count": 22,
     "metadata": {},
     "output_type": "execute_result"
    }
   ],
   "source": [
    "bw2io.Migration(\"ei3.9-3.10\")"
   ]
  },
  {
   "cell_type": "markdown",
   "metadata": {},
   "source": [
    "We apply the migration on our imported data."
   ]
  },
  {
   "cell_type": "code",
   "execution_count": 23,
   "metadata": {},
   "outputs": [],
   "source": [
    "imp.data = bw2io.strategies.migrate_exchanges(\n",
    "    db=imp.data,\n",
    "    migration=\"ei3.9-3.10\"\n",
    ")"
   ]
  },
  {
   "cell_type": "code",
   "execution_count": 24,
   "metadata": {},
   "outputs": [
    {
     "name": "stdout",
     "output_type": "stream",
     "text": [
      "Applying strategy: link_iterable_by_fields\n",
      "Applying strategy: link_iterable_by_fields\n",
      "10 datasets\n",
      "109 exchanges\n",
      "0 unlinked exchanges\n",
      "  \n"
     ]
    },
    {
     "data": {
      "text/plain": [
       "(10, 109, 0)"
      ]
     },
     "execution_count": 24,
     "metadata": {},
     "output_type": "execute_result"
    }
   ],
   "source": [
    "imp.match_database(\"ecoinvent-3.10-cutoff\", fields=('name', 'reference product', 'unit', 'location'))\n",
    "imp.match_database(\"biosphere\", fields=('name', 'unit', 'categories'))\n",
    "imp.statistics()"
   ]
  },
  {
   "cell_type": "markdown",
   "metadata": {},
   "source": [
    "We have zero unlinked exchanges, we're ready to write the database."
   ]
  },
  {
   "cell_type": "code",
   "execution_count": 25,
   "metadata": {},
   "outputs": [
    {
     "name": "stderr",
     "output_type": "stream",
     "text": [
      "Writing activities to SQLite3 database:\n",
      "0% [##########] 100% | ETA: 00:00:00\n",
      "Total time elapsed: 00:00:00\n"
     ]
    },
    {
     "name": "stdout",
     "output_type": "stream",
     "text": [
      "Title: Writing activities to SQLite3 database:\n",
      "  Started: 04/03/2025 13:54:12\n",
      "  Finished: 04/03/2025 13:54:12\n",
      "  Total time elapsed: 00:00:00\n",
      "  CPU %: 110.40\n",
      "  Memory %: 2.13\n",
      "Created database: carbon fiber\n"
     ]
    }
   ],
   "source": [
    "if len(list(imp.unlinked)) == 0:\n",
    "    imp.write_database()"
   ]
  },
  {
   "cell_type": "code",
   "execution_count": 26,
   "metadata": {},
   "outputs": [
    {
     "data": {
      "text/plain": [
       "Databases dictionary with 3 object(s):\n",
       "\tbiosphere\n",
       "\tcarbon fiber\n",
       "\tecoinvent-3.10-cutoff"
      ]
     },
     "execution_count": 26,
     "metadata": {},
     "output_type": "execute_result"
    }
   ],
   "source": [
    "bw2data.databases"
   ]
  },
  {
   "cell_type": "markdown",
   "metadata": {},
   "source": [
    "# Contribution analyses"
   ]
  },
  {
   "cell_type": "markdown",
   "metadata": {},
   "source": [
    "## Process contribution"
   ]
  },
  {
   "cell_type": "markdown",
   "metadata": {},
   "source": [
    "We have already seen how to obtain a contribution analysis in terms of contributing processes:"
   ]
  },
  {
   "cell_type": "code",
   "execution_count": 27,
   "metadata": {},
   "outputs": [],
   "source": [
    "db = bw2data.Database(\"carbon fiber\")"
   ]
  },
  {
   "cell_type": "code",
   "execution_count": 28,
   "metadata": {},
   "outputs": [
    {
     "data": {
      "text/plain": [
       "['carbon fiber production, fiber coagulation, stretching, washing, sizing and drying',\n",
       " 'carbon fiber production, exhaust gas treatment 2',\n",
       " 'carbon fiber production, fiber stabilization, carbonization, electrolysis and washing',\n",
       " 'carbon fiber production, fiber drying and sizing',\n",
       " 'carbon fiber production, exhaust gas treatment 1',\n",
       " 'carbon fiber production, fiber relaxation',\n",
       " 'polyacrylonitrile production (PAN) by polymerisation',\n",
       " 'carbon fiber production, weaved, at factory',\n",
       " 'carbon fiber production, fiber winding and unwinding',\n",
       " 'Dimethyl sulfoxide production (DMSO)']"
      ]
     },
     "execution_count": 28,
     "metadata": {},
     "output_type": "execute_result"
    }
   ],
   "source": [
    "# let's list the datasets in our new database \"carbon fiber\"\n",
    "[a[\"name\"] for a in db]"
   ]
  },
  {
   "cell_type": "code",
   "execution_count": 29,
   "metadata": {},
   "outputs": [
    {
     "data": {
      "text/plain": [
       "'carbon fiber production, weaved, at factory' (kilogram, RER, None)"
      ]
     },
     "execution_count": 29,
     "metadata": {},
     "output_type": "execute_result"
    }
   ],
   "source": [
    "activity = db.search('carbon fiber production, weaved, at factory')[0]\n",
    "activity"
   ]
  },
  {
   "cell_type": "code",
   "execution_count": 30,
   "metadata": {},
   "outputs": [],
   "source": [
    "method = ('IPCC 2021', 'climate change', 'global warming potential (GWP100)')"
   ]
  },
  {
   "cell_type": "code",
   "execution_count": 31,
   "metadata": {},
   "outputs": [
    {
     "name": "stderr",
     "output_type": "stream",
     "text": [
      "/opt/homebrew/Caskroom/miniforge/base/envs/bw2/lib/python3.11/site-packages/scikits/umfpack/umfpack.py:736: UmfpackWarning: (almost) singular matrix! (estimated cond. number: 1.21e+13)\n",
      "  warnings.warn(msg, UmfpackWarning)\n"
     ]
    },
    {
     "data": {
      "text/plain": [
       "75.11270153072913"
      ]
     },
     "execution_count": 31,
     "metadata": {},
     "output_type": "execute_result"
    }
   ],
   "source": [
    "lca = bw2calc.LCA({activity:1}, method)\n",
    "lca.lci()\n",
    "lca.lcia()\n",
    "lca.score"
   ]
  },
  {
   "cell_type": "code",
   "execution_count": 32,
   "metadata": {},
   "outputs": [],
   "source": [
    "rev_prod, rev_act, rev_bio = lca.reverse_dict()"
   ]
  },
  {
   "cell_type": "code",
   "execution_count": 33,
   "metadata": {},
   "outputs": [],
   "source": [
    "results_by_activity = (lca.characterized_inventory.sum(axis=0)).A1"
   ]
  },
  {
   "cell_type": "code",
   "execution_count": 34,
   "metadata": {},
   "outputs": [],
   "source": [
    "# Create a list of names in columns\n",
    "list_of_names_in_columns = [\n",
    "    bw2data.get_activity(rev_prod[col])['name'] \n",
    "    for col in range((lca.characterized_inventory.sum(axis=0)).shape[1])\n",
    "]"
   ]
  },
  {
   "cell_type": "code",
   "execution_count": 35,
   "metadata": {},
   "outputs": [
    {
     "data": {
      "text/plain": [
       "heat production, natural gas, at industrial furnace >100kW    8.068948\n",
       "carbon fiber production, exhaust gas treatment 2              7.448622\n",
       "natural gas venting from petroleum/natural gas production     4.314160\n",
       "heat production, at hard coal industrial furnace 1-10MW       2.413090\n",
       "ammonia production, partial oxidation, liquid                 2.203817\n",
       "ammonia production, steam reforming, liquid                   2.094031\n",
       "ammonia production, partial oxidation, liquid                 1.906205\n",
       "heat production, at hard coal industrial furnace 1-10MW       1.796146\n",
       "electricity production, lignite                               1.766702\n",
       "sweet gas, burned in gas turbine                              1.513273\n",
       "dtype: float64"
      ]
     },
     "execution_count": 35,
     "metadata": {},
     "output_type": "execute_result"
    }
   ],
   "source": [
    "pd.Series(index=list_of_names_in_columns, data=results_by_activity).sort_values(ascending=False).head(10)"
   ]
  },
  {
   "cell_type": "markdown",
   "metadata": {},
   "source": [
    "With BW2.5 But there is a simpler and more \"official\" way to obtain this."
   ]
  },
  {
   "cell_type": "code",
   "execution_count": 36,
   "metadata": {},
   "outputs": [],
   "source": [
    "import bw2analyzer as ba"
   ]
  },
  {
   "cell_type": "code",
   "execution_count": 37,
   "metadata": {},
   "outputs": [
    {
     "data": {
      "text/html": [
       "<div>\n",
       "<style scoped>\n",
       "    .dataframe tbody tr th:only-of-type {\n",
       "        vertical-align: middle;\n",
       "    }\n",
       "\n",
       "    .dataframe tbody tr th {\n",
       "        vertical-align: top;\n",
       "    }\n",
       "\n",
       "    .dataframe thead th {\n",
       "        text-align: right;\n",
       "    }\n",
       "</style>\n",
       "<table border=\"1\" class=\"dataframe\">\n",
       "  <thead>\n",
       "    <tr style=\"text-align: right;\">\n",
       "      <th></th>\n",
       "      <th>score</th>\n",
       "      <th>quantity</th>\n",
       "      <th>unit</th>\n",
       "      <th>name</th>\n",
       "    </tr>\n",
       "  </thead>\n",
       "  <tbody>\n",
       "    <tr>\n",
       "      <th>0</th>\n",
       "      <td>8.068948</td>\n",
       "      <td>136.671830</td>\n",
       "      <td>megajoule</td>\n",
       "      <td>heat production, natural gas, at industrial fu...</td>\n",
       "    </tr>\n",
       "    <tr>\n",
       "      <th>1</th>\n",
       "      <td>7.448622</td>\n",
       "      <td>10.609957</td>\n",
       "      <td>kilogram</td>\n",
       "      <td>carbon fiber production, exhaust gas treatment 2</td>\n",
       "    </tr>\n",
       "    <tr>\n",
       "      <th>2</th>\n",
       "      <td>4.314160</td>\n",
       "      <td>0.247272</td>\n",
       "      <td>cubic meter</td>\n",
       "      <td>natural gas venting from petroleum/natural gas...</td>\n",
       "    </tr>\n",
       "    <tr>\n",
       "      <th>3</th>\n",
       "      <td>2.413090</td>\n",
       "      <td>20.967055</td>\n",
       "      <td>megajoule</td>\n",
       "      <td>heat production, at hard coal industrial furna...</td>\n",
       "    </tr>\n",
       "    <tr>\n",
       "      <th>4</th>\n",
       "      <td>2.203817</td>\n",
       "      <td>0.787078</td>\n",
       "      <td>kilogram</td>\n",
       "      <td>ammonia production, partial oxidation, liquid</td>\n",
       "    </tr>\n",
       "    <tr>\n",
       "      <th>5</th>\n",
       "      <td>2.094031</td>\n",
       "      <td>1.461715</td>\n",
       "      <td>kilogram</td>\n",
       "      <td>ammonia production, steam reforming, liquid</td>\n",
       "    </tr>\n",
       "    <tr>\n",
       "      <th>6</th>\n",
       "      <td>1.906205</td>\n",
       "      <td>0.680788</td>\n",
       "      <td>kilogram</td>\n",
       "      <td>ammonia production, partial oxidation, liquid</td>\n",
       "    </tr>\n",
       "    <tr>\n",
       "      <th>7</th>\n",
       "      <td>1.796146</td>\n",
       "      <td>15.606498</td>\n",
       "      <td>megajoule</td>\n",
       "      <td>heat production, at hard coal industrial furna...</td>\n",
       "    </tr>\n",
       "    <tr>\n",
       "      <th>8</th>\n",
       "      <td>1.766702</td>\n",
       "      <td>1.490596</td>\n",
       "      <td>kilowatt hour</td>\n",
       "      <td>electricity production, lignite</td>\n",
       "    </tr>\n",
       "    <tr>\n",
       "      <th>9</th>\n",
       "      <td>1.513273</td>\n",
       "      <td>22.596866</td>\n",
       "      <td>megajoule</td>\n",
       "      <td>sweet gas, burned in gas turbine</td>\n",
       "    </tr>\n",
       "    <tr>\n",
       "      <th>10</th>\n",
       "      <td>1.366877</td>\n",
       "      <td>3.377400</td>\n",
       "      <td>kilogram</td>\n",
       "      <td>hard coal mine operation and hard coal prepara...</td>\n",
       "    </tr>\n",
       "    <tr>\n",
       "      <th>11</th>\n",
       "      <td>1.294191</td>\n",
       "      <td>23.008621</td>\n",
       "      <td>megajoule</td>\n",
       "      <td>refinery gas, burned in furnace</td>\n",
       "    </tr>\n",
       "    <tr>\n",
       "      <th>12</th>\n",
       "      <td>1.267310</td>\n",
       "      <td>15.180654</td>\n",
       "      <td>megajoule</td>\n",
       "      <td>heat production, heavy fuel oil, at industrial...</td>\n",
       "    </tr>\n",
       "    <tr>\n",
       "      <th>13</th>\n",
       "      <td>1.264186</td>\n",
       "      <td>1.742939</td>\n",
       "      <td>kilogram</td>\n",
       "      <td>unsaturated hydrocarbons production, steam cra...</td>\n",
       "    </tr>\n",
       "    <tr>\n",
       "      <th>14</th>\n",
       "      <td>1.203398</td>\n",
       "      <td>15.408709</td>\n",
       "      <td>megajoule</td>\n",
       "      <td>heat production, light fuel oil, at industrial...</td>\n",
       "    </tr>\n",
       "    <tr>\n",
       "      <th>15</th>\n",
       "      <td>1.186170</td>\n",
       "      <td>1.189407</td>\n",
       "      <td>kilowatt hour</td>\n",
       "      <td>heat and power co-generation, hard coal</td>\n",
       "    </tr>\n",
       "    <tr>\n",
       "      <th>16</th>\n",
       "      <td>1.139409</td>\n",
       "      <td>9.900189</td>\n",
       "      <td>megajoule</td>\n",
       "      <td>heat production, at coal coke industrial furna...</td>\n",
       "    </tr>\n",
       "    <tr>\n",
       "      <th>17</th>\n",
       "      <td>1.138209</td>\n",
       "      <td>2.416513</td>\n",
       "      <td>kilogram</td>\n",
       "      <td>acrylonitrile production, Sohio process</td>\n",
       "    </tr>\n",
       "    <tr>\n",
       "      <th>18</th>\n",
       "      <td>1.006158</td>\n",
       "      <td>0.467980</td>\n",
       "      <td>kilogram</td>\n",
       "      <td>methanol production, coal gasification</td>\n",
       "    </tr>\n",
       "    <tr>\n",
       "      <th>19</th>\n",
       "      <td>0.984554</td>\n",
       "      <td>16.819173</td>\n",
       "      <td>megajoule</td>\n",
       "      <td>heat production, natural gas, at boiler modula...</td>\n",
       "    </tr>\n",
       "    <tr>\n",
       "      <th>20</th>\n",
       "      <td>0.791112</td>\n",
       "      <td>11.616921</td>\n",
       "      <td>megajoule</td>\n",
       "      <td>treatment of waste natural gas, sweet, burned ...</td>\n",
       "    </tr>\n",
       "    <tr>\n",
       "      <th>21</th>\n",
       "      <td>0.785120</td>\n",
       "      <td>1.642346</td>\n",
       "      <td>kilowatt hour</td>\n",
       "      <td>electricity production, natural gas, conventio...</td>\n",
       "    </tr>\n",
       "    <tr>\n",
       "      <th>22</th>\n",
       "      <td>0.784172</td>\n",
       "      <td>0.654244</td>\n",
       "      <td>kilowatt hour</td>\n",
       "      <td>electricity production, hard coal</td>\n",
       "    </tr>\n",
       "    <tr>\n",
       "      <th>23</th>\n",
       "      <td>0.721789</td>\n",
       "      <td>0.644087</td>\n",
       "      <td>kilowatt hour</td>\n",
       "      <td>heat and power co-generation, lignite</td>\n",
       "    </tr>\n",
       "    <tr>\n",
       "      <th>24</th>\n",
       "      <td>0.561522</td>\n",
       "      <td>0.429032</td>\n",
       "      <td>kilowatt hour</td>\n",
       "      <td>electricity production, lignite</td>\n",
       "    </tr>\n",
       "  </tbody>\n",
       "</table>\n",
       "</div>"
      ],
      "text/plain": [
       "       score    quantity           unit  \\\n",
       "0   8.068948  136.671830      megajoule   \n",
       "1   7.448622   10.609957       kilogram   \n",
       "2   4.314160    0.247272    cubic meter   \n",
       "3   2.413090   20.967055      megajoule   \n",
       "4   2.203817    0.787078       kilogram   \n",
       "5   2.094031    1.461715       kilogram   \n",
       "6   1.906205    0.680788       kilogram   \n",
       "7   1.796146   15.606498      megajoule   \n",
       "8   1.766702    1.490596  kilowatt hour   \n",
       "9   1.513273   22.596866      megajoule   \n",
       "10  1.366877    3.377400       kilogram   \n",
       "11  1.294191   23.008621      megajoule   \n",
       "12  1.267310   15.180654      megajoule   \n",
       "13  1.264186    1.742939       kilogram   \n",
       "14  1.203398   15.408709      megajoule   \n",
       "15  1.186170    1.189407  kilowatt hour   \n",
       "16  1.139409    9.900189      megajoule   \n",
       "17  1.138209    2.416513       kilogram   \n",
       "18  1.006158    0.467980       kilogram   \n",
       "19  0.984554   16.819173      megajoule   \n",
       "20  0.791112   11.616921      megajoule   \n",
       "21  0.785120    1.642346  kilowatt hour   \n",
       "22  0.784172    0.654244  kilowatt hour   \n",
       "23  0.721789    0.644087  kilowatt hour   \n",
       "24  0.561522    0.429032  kilowatt hour   \n",
       "\n",
       "                                                 name  \n",
       "0   heat production, natural gas, at industrial fu...  \n",
       "1    carbon fiber production, exhaust gas treatment 2  \n",
       "2   natural gas venting from petroleum/natural gas...  \n",
       "3   heat production, at hard coal industrial furna...  \n",
       "4       ammonia production, partial oxidation, liquid  \n",
       "5         ammonia production, steam reforming, liquid  \n",
       "6       ammonia production, partial oxidation, liquid  \n",
       "7   heat production, at hard coal industrial furna...  \n",
       "8                     electricity production, lignite  \n",
       "9                    sweet gas, burned in gas turbine  \n",
       "10  hard coal mine operation and hard coal prepara...  \n",
       "11                    refinery gas, burned in furnace  \n",
       "12  heat production, heavy fuel oil, at industrial...  \n",
       "13  unsaturated hydrocarbons production, steam cra...  \n",
       "14  heat production, light fuel oil, at industrial...  \n",
       "15            heat and power co-generation, hard coal  \n",
       "16  heat production, at coal coke industrial furna...  \n",
       "17            acrylonitrile production, Sohio process  \n",
       "18             methanol production, coal gasification  \n",
       "19  heat production, natural gas, at boiler modula...  \n",
       "20  treatment of waste natural gas, sweet, burned ...  \n",
       "21  electricity production, natural gas, conventio...  \n",
       "22                  electricity production, hard coal  \n",
       "23              heat and power co-generation, lignite  \n",
       "24                    electricity production, lignite  "
      ]
     },
     "execution_count": 37,
     "metadata": {},
     "output_type": "execute_result"
    }
   ],
   "source": [
    "pd.DataFrame(\n",
    "    [(x, y, z[\"unit\"], z[\"name\"]) for x, y, z in ba.ContributionAnalysis().annotated_top_processes(lca=lca)],\n",
    "    columns=[\"score\", \"quantity\", \"unit\", \"name\"]\n",
    ")"
   ]
  },
  {
   "cell_type": "markdown",
   "metadata": {},
   "source": [
    "## Importing custom impact assessment methods"
   ]
  },
  {
   "cell_type": "markdown",
   "metadata": {},
   "source": [
    "Let's import an Excel file containing names of greenhouse gases and factors (according to the IPCC 2021 GWP method), and add a CF for Hydrogen (11 kg $CO_2$-eq./kg $H_2$)"
   ]
  },
  {
   "cell_type": "code",
   "execution_count": 38,
   "metadata": {},
   "outputs": [],
   "source": [
    "from bw2io import ExcelLCIAImporter\n",
    "new_method = ExcelLCIAImporter(\n",
    "    filepath=\"files/lcia_gwp2021_100a_w_bio.xlsx\",\n",
    "    name=(\"IPCC 2021\", \"GWP 100 with bio C and H2\"),\n",
    "    unit=\"kg CO2e\",\n",
    "    description=\"modified IPCC GWP100 method\"\n",
    ")"
   ]
  },
  {
   "cell_type": "code",
   "execution_count": 39,
   "metadata": {},
   "outputs": [
    {
     "name": "stdout",
     "output_type": "stream",
     "text": [
      "Applying strategy: csv_restore_tuples\n",
      "Applying strategy: csv_numerize\n",
      "Applying strategy: csv_drop_unknown\n",
      "Applying strategy: set_biosphere_type\n",
      "Applying strategy: drop_unspecified_subcategories\n",
      "Applying strategy: link_iterable_by_fields\n",
      "Applying strategy: drop_falsey_uncertainty_fields_but_keep_zeros\n",
      "Applying strategy: convert_uncertainty_types_to_integers\n",
      "Applied 8 strategies in 0.08 seconds\n"
     ]
    }
   ],
   "source": [
    "new_method.apply_strategies()"
   ]
  },
  {
   "cell_type": "code",
   "execution_count": 40,
   "metadata": {},
   "outputs": [],
   "source": [
    "new_method.name = (\"IPCC 2021\", \"GWP 100 with bio C and H2\")"
   ]
  },
  {
   "cell_type": "code",
   "execution_count": 41,
   "metadata": {},
   "outputs": [
    {
     "name": "stdout",
     "output_type": "stream",
     "text": [
      "Wrote 1 LCIA methods with 34 characterization factors\n"
     ]
    }
   ],
   "source": [
    "new_method.write_methods(\n",
    "    overwrite=True,\n",
    "    verbose=True,\n",
    ")"
   ]
  },
  {
   "cell_type": "code",
   "execution_count": 42,
   "metadata": {},
   "outputs": [
    {
     "data": {
      "text/plain": [
       "True"
      ]
     },
     "execution_count": 42,
     "metadata": {},
     "output_type": "execute_result"
    }
   ],
   "source": [
    "(\"IPCC 2021\", \"GWP 100 with bio C and H2\") in bw2data.methods"
   ]
  },
  {
   "cell_type": "code",
   "execution_count": 43,
   "metadata": {},
   "outputs": [
    {
     "name": "stderr",
     "output_type": "stream",
     "text": [
      "/opt/homebrew/Caskroom/miniforge/base/envs/bw2/lib/python3.11/site-packages/scikits/umfpack/umfpack.py:736: UmfpackWarning: (almost) singular matrix! (estimated cond. number: 1.21e+13)\n",
      "  warnings.warn(msg, UmfpackWarning)\n"
     ]
    },
    {
     "name": "stdout",
     "output_type": "stream",
     "text": [
      "138461785.0644299\n",
      "130294712.36247818\n"
     ]
    }
   ],
   "source": [
    "act=bw2data.Database(\"ecoinvent-3.10-cutoff\").random()\n",
    "for method in [\n",
    "    ('IPCC 2021', 'climate change', 'global warming potential (GWP100)'),\n",
    "    (\"IPCC 2021\", \"GWP 100 with bio C and H2\")\n",
    "]:\n",
    "    test = bw2calc.LCA({act: 1}, method)\n",
    "    test.lci()\n",
    "    test.lcia()\n",
    "    print(test.score)"
   ]
  },
  {
   "cell_type": "markdown",
   "metadata": {},
   "source": [
    "We can also build a method manually."
   ]
  },
  {
   "cell_type": "code",
   "execution_count": 45,
   "metadata": {},
   "outputs": [
    {
     "data": {
      "text/plain": [
       "[[('biosphere', 'eba59fd6-f37e-41dc-9ca3-c7ea22d602c7'), 1],\n",
       " [('biosphere', 'e259263c-d1f1-449f-bb9b-73c6d0a32a00'), 1],\n",
       " [('biosphere', 'e8787b5e-d927-446d-81a9-f56977bbfeb4'), 1],\n",
       " [('biosphere', '60d424f7-d5a9-4549-9540-da06684bc3bb'), 1],\n",
       " [('biosphere', '375bc95e-6596-4aa1-9716-80ff51b9da77'), 1],\n",
       " [('biosphere', 'd6235194-e4e6-4548-bfa3-ac095131aef4'), 1],\n",
       " [('biosphere', 'e1c597cc-14cb-4ebb-af07-7a93a5b77d34'), 1],\n",
       " [('biosphere', '259cf8d6-6ea8-4ccf-84b7-23c930a5b2b3'), 1],\n",
       " [('biosphere', '8ae4d8bb-3e4b-4825-8325-94696d7a64fd'), 1],\n",
       " [('biosphere', '28e1e2d6-97ad-4dfd-932a-9edad36dcab9'), 1],\n",
       " [('biosphere', '73ed05cc-9727-4abf-9516-4b5c0fe54a16'), 1],\n",
       " [('biosphere', 'cc6a1abb-b123-4ca6-8f16-38209df609be'), 1],\n",
       " [('biosphere', '78eb1859-abd9-44c6-9ce3-f3b5b33d619c'), 1],\n",
       " [('biosphere', '349b29d1-3e58-4c66-98b9-9d1a076efd2e'), 1],\n",
       " [('biosphere', 'f9749677-9c9f-4678-ab55-c607dfdc2cb9'), 1],\n",
       " [('biosphere', '419de9f0-ee00-4e95-9556-c8f06b17beec'), 1],\n",
       " [('biosphere', '16eeda8a-1ea2-408e-ab37-2648495058dd'), 1],\n",
       " [('biosphere', 'aa7cac3a-3625-41d4-bc54-33e2cf11ec46'), 1],\n",
       " [('biosphere', 'e4e9febc-07c1-403d-8d3a-6707bb4d96e6'), 1]]"
      ]
     },
     "execution_count": 45,
     "metadata": {},
     "output_type": "execute_result"
    }
   ],
   "source": [
    "data = [\n",
    "    [f.key, 1]\n",
    "    for f in bw2data.Database(\"biosphere\")\n",
    "    if \"carbon dioxide\" in f[\"name\"].lower()\n",
    "]\n",
    "data"
   ]
  },
  {
   "cell_type": "code",
   "execution_count": 46,
   "metadata": {},
   "outputs": [],
   "source": [
    "my_method = bw2data.Method((\"IPCC 2021\", \"Simple CO2 IA method\"))\n",
    "my_method.validate(data)\n",
    "my_method.register()\n",
    "my_method.metadata = {\"unit\": \"kg CO2eq.\", \"abbreviation\": \"GWP\"}\n",
    "my_method.write(data)"
   ]
  },
  {
   "cell_type": "code",
   "execution_count": 47,
   "metadata": {},
   "outputs": [
    {
     "data": {
      "text/plain": [
       "True"
      ]
     },
     "execution_count": 47,
     "metadata": {},
     "output_type": "execute_result"
    }
   ],
   "source": [
    "method = (\"IPCC 2021\", \"Simple CO2 IA method\")\n",
    "method in bw2data.methods"
   ]
  },
  {
   "cell_type": "code",
   "execution_count": 48,
   "metadata": {},
   "outputs": [
    {
     "name": "stdout",
     "output_type": "stream",
     "text": [
      "149510470.77643278\n"
     ]
    }
   ],
   "source": [
    "test = bw2calc.LCA({act: 1}, method)\n",
    "test.lci()\n",
    "test.lcia()\n",
    "print(test.score)"
   ]
  },
  {
   "cell_type": "markdown",
   "metadata": {},
   "source": [
    "## Tree map"
   ]
  },
  {
   "cell_type": "code",
   "execution_count": 49,
   "metadata": {},
   "outputs": [],
   "source": [
    "from polyviz import treemap"
   ]
  },
  {
   "cell_type": "code",
   "execution_count": 50,
   "metadata": {},
   "outputs": [
    {
     "name": "stdout",
     "output_type": "stream",
     "text": [
      "Calculating LCIA score...\n"
     ]
    },
    {
     "name": "stderr",
     "output_type": "stream",
     "text": [
      "/opt/homebrew/Caskroom/miniforge/base/envs/bw2/lib/python3.11/site-packages/scikits/umfpack/umfpack.py:736: UmfpackWarning: (almost) singular matrix! (estimated cond. number: 1.21e+13)\n",
      "  warnings.warn(msg, UmfpackWarning)\n"
     ]
    },
    {
     "data": {
      "text/plain": [
       "'/Users/romain/GitHub/training-day-dtu-2025/tutorials/brightway/carbon fiber production weaved at factory kilogram RER IPCC 2021climate changeglobal warming potential GWP100 treemap.html'"
      ]
     },
     "execution_count": 50,
     "metadata": {},
     "output_type": "execute_result"
    }
   ],
   "source": [
    "method = ('IPCC 2021', 'climate change', 'global warming potential (GWP100)')\n",
    "treemap(\n",
    "    activity=activity,\n",
    "    method=method\n",
    ")"
   ]
  },
  {
   "cell_type": "markdown",
   "metadata": {},
   "source": [
    "## Supply chain traversal"
   ]
  },
  {
   "cell_type": "code",
   "execution_count": 51,
   "metadata": {},
   "outputs": [],
   "source": [
    "from polyviz import sankey"
   ]
  },
  {
   "cell_type": "markdown",
   "metadata": {},
   "source": [
    "Github repo: [link](https://github.com/romainsacchi/polyviz). No proper documentation yet, but a notebook with [examples](https://github.com/romainsacchi/polyviz/blob/main/examples/examples.ipynb)."
   ]
  },
  {
   "cell_type": "code",
   "execution_count": 52,
   "metadata": {},
   "outputs": [
    {
     "name": "stdout",
     "output_type": "stream",
     "text": [
      "Calculating supply chain score...\n"
     ]
    },
    {
     "name": "stderr",
     "output_type": "stream",
     "text": [
      "/opt/homebrew/Caskroom/miniforge/base/envs/bw2/lib/python3.11/site-packages/scikits/umfpack/umfpack.py:736: UmfpackWarning: (almost) singular matrix! (estimated cond. number: 1.21e+13)\n",
      "  warnings.warn(msg, UmfpackWarning)\n"
     ]
    },
    {
     "name": "stdout",
     "output_type": "stream",
     "text": [
      "Sankey diagram generated.\n"
     ]
    }
   ],
   "source": [
    "_, df = sankey(\n",
    "    activity=activity,\n",
    "    level=4,\n",
    "    cutoff=0.01,\n",
    "    method=method,\n",
    "    labels_swap={\n",
    "        \"carbon fiber\": \"cf.\",\n",
    "        \"production\": \"prod.\"\n",
    "    }\n",
    ")"
   ]
  },
  {
   "cell_type": "markdown",
   "metadata": {},
   "source": [
    "## Violin plot"
   ]
  },
  {
   "cell_type": "code",
   "execution_count": 53,
   "metadata": {},
   "outputs": [],
   "source": [
    "from polyviz import violin\n",
    "import warnings\n",
    "warnings.filterwarnings(\"ignore\")"
   ]
  },
  {
   "cell_type": "code",
   "execution_count": 54,
   "metadata": {},
   "outputs": [
    {
     "name": "stderr",
     "output_type": "stream",
     "text": [
      "/opt/homebrew/Caskroom/miniforge/base/envs/bw2/lib/python3.11/site-packages/scikits/umfpack/umfpack.py:736: UmfpackWarning: (almost) singular matrix! (estimated cond. number: 1.27e+14)\n",
      "  warnings.warn(msg, UmfpackWarning)\n",
      "/opt/homebrew/Caskroom/miniforge/base/envs/bw2/lib/python3.11/site-packages/scikits/umfpack/umfpack.py:736: UmfpackWarning: (almost) singular matrix! (estimated cond. number: 6.39e+14)\n",
      "  warnings.warn(msg, UmfpackWarning)\n",
      "/opt/homebrew/Caskroom/miniforge/base/envs/bw2/lib/python3.11/site-packages/scikits/umfpack/umfpack.py:736: UmfpackWarning: (almost) singular matrix! (estimated cond. number: 1.12e+14)\n",
      "  warnings.warn(msg, UmfpackWarning)\n",
      "/opt/homebrew/Caskroom/miniforge/base/envs/bw2/lib/python3.11/site-packages/scikits/umfpack/umfpack.py:736: UmfpackWarning: (almost) singular matrix! (estimated cond. number: 1.11e+14)\n",
      "  warnings.warn(msg, UmfpackWarning)\n",
      "/opt/homebrew/Caskroom/miniforge/base/envs/bw2/lib/python3.11/site-packages/scikits/umfpack/umfpack.py:736: UmfpackWarning: (almost) singular matrix! (estimated cond. number: 1.58e+14)\n",
      "  warnings.warn(msg, UmfpackWarning)\n",
      "/opt/homebrew/Caskroom/miniforge/base/envs/bw2/lib/python3.11/site-packages/scikits/umfpack/umfpack.py:736: UmfpackWarning: (almost) singular matrix! (estimated cond. number: 1.21e+14)\n",
      "  warnings.warn(msg, UmfpackWarning)\n",
      "/opt/homebrew/Caskroom/miniforge/base/envs/bw2/lib/python3.11/site-packages/scikits/umfpack/umfpack.py:736: UmfpackWarning: (almost) singular matrix! (estimated cond. number: 1.49e+13)\n",
      "  warnings.warn(msg, UmfpackWarning)\n",
      "/opt/homebrew/Caskroom/miniforge/base/envs/bw2/lib/python3.11/site-packages/scikits/umfpack/umfpack.py:736: UmfpackWarning: (almost) singular matrix! (estimated cond. number: 5.52e+13)\n",
      "  warnings.warn(msg, UmfpackWarning)\n",
      "/opt/homebrew/Caskroom/miniforge/base/envs/bw2/lib/python3.11/site-packages/scikits/umfpack/umfpack.py:736: UmfpackWarning: (almost) singular matrix! (estimated cond. number: 1.84e+13)\n",
      "  warnings.warn(msg, UmfpackWarning)\n",
      "/opt/homebrew/Caskroom/miniforge/base/envs/bw2/lib/python3.11/site-packages/scikits/umfpack/umfpack.py:736: UmfpackWarning: (almost) singular matrix! (estimated cond. number: 2.52e+13)\n",
      "  warnings.warn(msg, UmfpackWarning)\n"
     ]
    },
    {
     "ename": "AttributeError",
     "evalue": "'list' object has no attribute 'shape'",
     "output_type": "error",
     "traceback": [
      "\u001b[31m---------------------------------------------------------------------------\u001b[39m",
      "\u001b[31mAttributeError\u001b[39m                            Traceback (most recent call last)",
      "\u001b[36mCell\u001b[39m\u001b[36m \u001b[39m\u001b[32mIn[54]\u001b[39m\u001b[32m, line 2\u001b[39m\n\u001b[32m      1\u001b[39m method = (\u001b[33m'\u001b[39m\u001b[33mIPCC 2021\u001b[39m\u001b[33m'\u001b[39m, \u001b[33m'\u001b[39m\u001b[33mclimate change\u001b[39m\u001b[33m'\u001b[39m, \u001b[33m'\u001b[39m\u001b[33mglobal warming potential (GWP100)\u001b[39m\u001b[33m'\u001b[39m)\n\u001b[32m----> \u001b[39m\u001b[32m2\u001b[39m \u001b[43mviolin\u001b[49m\u001b[43m(\u001b[49m\n\u001b[32m      3\u001b[39m \u001b[43m    \u001b[49m\u001b[43mactivities\u001b[49m\u001b[43m=\u001b[49m\u001b[43m[\u001b[49m\n\u001b[32m      4\u001b[39m \u001b[43m        \u001b[49m\u001b[43ma\u001b[49m\u001b[43m \u001b[49m\u001b[38;5;28;43;01mfor\u001b[39;49;00m\u001b[43m \u001b[49m\u001b[43ma\u001b[49m\u001b[43m \u001b[49m\u001b[38;5;129;43;01min\u001b[39;49;00m\u001b[43m \u001b[49m\u001b[43mbw2data\u001b[49m\u001b[43m.\u001b[49m\u001b[43mDatabase\u001b[49m\u001b[43m(\u001b[49m\u001b[33;43m\"\u001b[39;49m\u001b[33;43mecoinvent-3.10-cutoff\u001b[39;49m\u001b[33;43m\"\u001b[39;49m\u001b[43m)\u001b[49m\u001b[43m \u001b[49m\n\u001b[32m      5\u001b[39m \u001b[43m        \u001b[49m\u001b[38;5;28;43;01mif\u001b[39;49;00m\u001b[43m \u001b[49m\u001b[43ma\u001b[49m\u001b[43m[\u001b[49m\u001b[33;43m\"\u001b[39;49m\u001b[33;43munit\u001b[39;49m\u001b[33;43m\"\u001b[39;49m\u001b[43m]\u001b[49m\u001b[43m \u001b[49m\u001b[43m==\u001b[49m\u001b[43m \u001b[49m\u001b[33;43m\"\u001b[39;49m\u001b[33;43mton kilometer\u001b[39;49m\u001b[33;43m\"\u001b[39;49m\n\u001b[32m      6\u001b[39m \u001b[43m    \u001b[49m\u001b[43m]\u001b[49m\u001b[43m[\u001b[49m\u001b[43m:\u001b[49m\u001b[32;43m3\u001b[39;49m\u001b[43m]\u001b[49m\u001b[43m,\u001b[49m\n\u001b[32m      7\u001b[39m \u001b[43m    \u001b[49m\u001b[43mmethod\u001b[49m\u001b[43m=\u001b[49m\u001b[43mmethod\u001b[49m\u001b[43m,\u001b[49m\n\u001b[32m      8\u001b[39m \u001b[43m    \u001b[49m\u001b[43miterations\u001b[49m\u001b[43m=\u001b[49m\u001b[32;43m10\u001b[39;49m\n\u001b[32m      9\u001b[39m \u001b[43m)\u001b[49m\n",
      "\u001b[36mFile \u001b[39m\u001b[32m/opt/homebrew/Caskroom/miniforge/base/envs/bw2/lib/python3.11/site-packages/polyviz/violin.py:84\u001b[39m, in \u001b[36mviolin\u001b[39m\u001b[34m(activities, method, iterations, filepath, title, notebook)\u001b[39m\n\u001b[32m     81\u001b[39m         res[a, :] = [lca.score \u001b[38;5;28;01mfor\u001b[39;00m _ \u001b[38;5;129;01min\u001b[39;00m \u001b[38;5;28mzip\u001b[39m(\u001b[38;5;28mrange\u001b[39m(iterations), lca)]\n\u001b[32m     83\u001b[39m list_res = []\n\u001b[32m---> \u001b[39m\u001b[32m84\u001b[39m \u001b[38;5;28;01mfor\u001b[39;00m r \u001b[38;5;129;01min\u001b[39;00m \u001b[38;5;28mrange\u001b[39m(\u001b[32m0\u001b[39m, \u001b[43mres\u001b[49m\u001b[43m.\u001b[49m\u001b[43mshape\u001b[49m[\u001b[32m0\u001b[39m]):\n\u001b[32m     85\u001b[39m     vals = res[r, :]\n\u001b[32m     86\u001b[39m     list_res.extend(\n\u001b[32m     87\u001b[39m         [\n\u001b[32m     88\u001b[39m             [\n\u001b[32m   (...)\u001b[39m\u001b[32m     93\u001b[39m         ]\n\u001b[32m     94\u001b[39m     )\n",
      "\u001b[31mAttributeError\u001b[39m: 'list' object has no attribute 'shape'"
     ]
    }
   ],
   "source": [
    "method = ('IPCC 2021', 'climate change', 'global warming potential (GWP100)')\n",
    "violin(\n",
    "    activities=[\n",
    "        a for a in bw2data.Database(\"ecoinvent-3.10-cutoff\") \n",
    "        if a[\"unit\"] == \"ton kilometer\"\n",
    "    ][:3],\n",
    "    method=method,\n",
    "    iterations=10\n",
    ")"
   ]
  },
  {
   "cell_type": "code",
   "execution_count": null,
   "metadata": {},
   "outputs": [],
   "source": [
    "pivottablejs"
   ]
  },
  {
   "cell_type": "markdown",
   "metadata": {},
   "source": [
    "# Exporting databases"
   ]
  },
  {
   "cell_type": "markdown",
   "metadata": {},
   "source": [
    "## To Excel"
   ]
  },
  {
   "cell_type": "markdown",
   "metadata": {},
   "source": [
    "We can export the entire database inventory to an Excel file."
   ]
  },
  {
   "cell_type": "code",
   "execution_count": null,
   "metadata": {},
   "outputs": [],
   "source": [
    "bw2io.export.write_lci_excel?"
   ]
  },
  {
   "cell_type": "code",
   "execution_count": 55,
   "metadata": {},
   "outputs": [
    {
     "data": {
      "text/plain": [
       "'/Users/romain/Library/Application Support/Brightway3/training-day-2.cf3037efa523ef612ceb85312be46ddb/output/lci-carbon-fiber.xlsx'"
      ]
     },
     "execution_count": 55,
     "metadata": {},
     "output_type": "execute_result"
    }
   ],
   "source": [
    "bw2io.export.write_lci_excel(\n",
    "    database_name=\"carbon fiber\",\n",
    ")"
   ]
  },
  {
   "cell_type": "markdown",
   "metadata": {},
   "source": [
    "## As a bw2package file"
   ]
  },
  {
   "cell_type": "markdown",
   "metadata": {},
   "source": [
    "We can also export the database as a Brightway package file."
   ]
  },
  {
   "cell_type": "code",
   "execution_count": 56,
   "metadata": {},
   "outputs": [
    {
     "data": {
      "text/plain": [
       "'/Users/romain/Library/Application Support/Brightway3/training-day-2.cf3037efa523ef612ceb85312be46ddb/export/carbon-fiber54c4141962fcd79bed713eb04066d118.f3770bd032cc888161f5e9553d478654.bw2package'"
      ]
     },
     "execution_count": 56,
     "metadata": {},
     "output_type": "execute_result"
    }
   ],
   "source": [
    "bw2io.package.BW2Package().export_obj(\n",
    "    obj=db,\n",
    ")"
   ]
  },
  {
   "cell_type": "code",
   "execution_count": null,
   "metadata": {},
   "outputs": [],
   "source": [
    "bw2io.package.BW2Package().import_file(\"filepath to bw2package\")"
   ]
  },
  {
   "cell_type": "markdown",
   "metadata": {},
   "source": [
    "<div class=\"alert alert-info\">\n",
    "Note: It may not be ideal for sharing, because for the import to be successful, the other user will need the databases the exported database depends on (ecoinvent, biosphere) to be named exactly the same. It is still possible, though, but the user you share the package with, will have to correct this upon import.\n",
    "</div>"
   ]
  },
  {
   "cell_type": "markdown",
   "metadata": {},
   "source": [
    "## As a project"
   ]
  },
  {
   "cell_type": "markdown",
   "metadata": {},
   "source": [
    "We can export the entire project. This is the safest option, as all the database `carbon fiber` depends on are also exported. The drawback is that the file is bigger, and there may be licensing issues. But it is at least a good backup solution."
   ]
  },
  {
   "cell_type": "code",
   "execution_count": null,
   "metadata": {},
   "outputs": [],
   "source": [
    "bw2data.projects.current"
   ]
  },
  {
   "cell_type": "code",
   "execution_count": null,
   "metadata": {},
   "outputs": [],
   "source": [
    "bw2io.backup.backup_project_directory?"
   ]
  },
  {
   "cell_type": "code",
   "execution_count": null,
   "metadata": {},
   "outputs": [],
   "source": [
    "bw2data.projects.set_current(\"training-day\")\n",
    "bw2data.databases"
   ]
  },
  {
   "cell_type": "code",
   "execution_count": 57,
   "metadata": {},
   "outputs": [
    {
     "name": "stdout",
     "output_type": "stream",
     "text": [
      "Creating project backup archive - this could take a few minutes...\n"
     ]
    },
    {
     "data": {
      "text/plain": [
       "'training-day-2'"
      ]
     },
     "execution_count": 57,
     "metadata": {},
     "output_type": "execute_result"
    }
   ],
   "source": [
    "bw2io.backup.backup_project_directory(\n",
    "    project='training-day-2',\n",
    ")"
   ]
  },
  {
   "cell_type": "markdown",
   "metadata": {},
   "source": [
    "And we load it back up... Note that I give it another name to not overwrite it.\n",
    "Also, overwrite is `False` by default, so it would need ot be set to `True` first."
   ]
  },
  {
   "cell_type": "code",
   "execution_count": 58,
   "metadata": {},
   "outputs": [
    {
     "name": "stdout",
     "output_type": "stream",
     "text": [
      "Restoring project backup archive - this could take a few minutes...\n"
     ]
    },
    {
     "data": {
      "text/plain": [
       "'training-day-3'"
      ]
     },
     "execution_count": 58,
     "metadata": {},
     "output_type": "execute_result"
    }
   ],
   "source": [
    "bw2io.backup.restore_project_directory(\n",
    "    fp=\"/Users/romain/brightway2-project-training-day-2-backup.03-April-2025-02-09PM.tar.gz\",\n",
    "    project_name=\"training-day-3\",\n",
    "    overwrite_existing=False\n",
    ")"
   ]
  },
  {
   "cell_type": "markdown",
   "metadata": {},
   "source": [
    "Let's check"
   ]
  },
  {
   "cell_type": "code",
   "execution_count": 59,
   "metadata": {},
   "outputs": [
    {
     "data": {
      "text/plain": [
       "True"
      ]
     },
     "execution_count": 59,
     "metadata": {},
     "output_type": "execute_result"
    }
   ],
   "source": [
    "\"training-day-3\" in bw2data.projects"
   ]
  },
  {
   "cell_type": "code",
   "execution_count": 60,
   "metadata": {},
   "outputs": [
    {
     "data": {
      "text/plain": [
       "'training-day-2'"
      ]
     },
     "execution_count": 60,
     "metadata": {},
     "output_type": "execute_result"
    }
   ],
   "source": [
    "bw2data.projects.delete_project(\"training-day-3\", delete_dir=True)"
   ]
  },
  {
   "cell_type": "code",
   "execution_count": null,
   "metadata": {},
   "outputs": [],
   "source": []
  }
 ],
 "metadata": {
  "kernelspec": {
   "display_name": "Python 3 (ipykernel)",
   "language": "python",
   "name": "python3"
  },
  "language_info": {
   "codemirror_mode": {
    "name": "ipython",
    "version": 3
   },
   "file_extension": ".py",
   "mimetype": "text/x-python",
   "name": "python",
   "nbconvert_exporter": "python",
   "pygments_lexer": "ipython3",
   "version": "3.11.11"
  },
  "toc": {
   "colors": {
    "hover_highlight": "#DAA520",
    "running_highlight": "#FF0000",
    "selected_highlight": "#FFD700"
   },
   "moveMenuLeft": true,
   "nav_menu": {
    "height": "208px",
    "width": "252px"
   },
   "navigate_menu": true,
   "number_sections": true,
   "sideBar": true,
   "threshold": 4,
   "toc_cell": false,
   "toc_section_display": "block",
   "toc_window_display": false,
   "widenNotebook": false
  }
 },
 "nbformat": 4,
 "nbformat_minor": 4
}
