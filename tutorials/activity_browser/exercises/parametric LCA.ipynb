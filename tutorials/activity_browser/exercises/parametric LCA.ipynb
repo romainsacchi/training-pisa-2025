{
 "cells": [
  {
   "cell_type": "code",
   "execution_count": 8,
   "id": "ca0b4edb",
   "metadata": {},
   "outputs": [],
   "source": [
    "import bw2io as bi\n",
    "import bw2data as bd\n",
    "import bw2calc as bc"
   ]
  },
  {
   "cell_type": "markdown",
   "id": "d3f444eb-c0bc-4bf1-8dab-554ae59fca14",
   "metadata": {},
   "source": [
    "## This notebook"
   ]
  },
  {
   "cell_type": "markdown",
   "id": "2164ed63-2caf-41fe-afe9-b3894e2044c0",
   "metadata": {},
   "source": [
    "The objective of this notebook is to demonstrate how to work with parameters and Monte Carlo on Activity-Browser.\n",
    "\n",
    "- Author (and contact):\n",
    "    - Alvaro Hahn Menacho (alvaro.hahn-menacho@psi.ch)\n"
   ]
  },
  {
   "cell_type": "markdown",
   "id": "b0a2fe4e-49c6-4733-9c7d-247669ff75d4",
   "metadata": {},
   "source": [
    "## Assigment"
   ]
  },
  {
   "cell_type": "markdown",
   "id": "6dfdf3cb-2132-4861-b356-6cbf168c7d5b",
   "metadata": {},
   "source": [
    "Congrats! You’ve just been hired as a life cycle assessment (LCA) expert at an innovative company that values both data transparency and open-source software. Your team is revisiting an old life cycle inventory (LCI) comparing the impacts of driving an electric vehicle (EV) and a diesel vehicle, particularly in terms of **Global Warming Potential (GWP)** and **particulate matter formation impacts on human health**.\n",
    "\n",
    "However, this LCI has been considered unsuitable for decision-making due to its deterministic assumptions. Your role is to address these concerns by creating a more flexible, data-driven LCA model that allows for sensitivity analysis and deeper insight into key impact factors. During a team meeting, your colleagues raised the following points:"
   ]
  },
  {
   "cell_type": "markdown",
   "id": "64d5ae89-83d4-448f-b125-ee7d777d485f",
   "metadata": {},
   "source": [
    "1. **Energy Consumption of Electric Vehicles:** One colleague pointed out that the stated consumption of around 20 kWh per 100 km for the EV might not be accurate across all cases. They emphasized the importance of reflecting varying data and assumptions in your model.\n",
    "\n",
    "1. **Specific Diesel Vehicle Data:** Another colleague noted that diesel vehicles can vary significantly in fuel consumption, and the LCA should account for differences between high and low-consuming ICEVs.\n",
    "\n",
    "1. **Urban vs. Non-Urban Driving Conditions:** Team members highlighted that the human health impacts of diesel vehicle emissions vary significantly between urban and non-urban settings. They are interested in understanding how these different driving environments influence the assessment results.\n",
    "\n",
    "1. **Linking Emissions to Diesel Consumption:** There was a particular interest in tracking specific emissions linked to diesel consumption, especially $\\text{CO}_{2}$, $\\text{N}_{2}{O}$ and $\\text{PM}_{2.5}$. The team wants to understand how assumptions about these emissions influence the overall impact assessment."
   ]
  },
  {
   "cell_type": "markdown",
   "id": "850d8aa4-5572-4eb4-a2e7-442cbc19bdd9",
   "metadata": {},
   "source": [
    "Documentation for uncertain parameters and classes for Monte Carlo sampling in BW2: https://stats-arrays.readthedocs.io/en/latest/"
   ]
  },
  {
   "cell_type": "markdown",
   "id": "4904ab7d",
   "metadata": {},
   "source": [
    "## 1. Set project"
   ]
  },
  {
   "cell_type": "markdown",
   "id": "62285c39-8648-44a7-8d35-bcd507e986c6",
   "metadata": {},
   "source": [
    "- This assigment requires a project with an existing ecoinvent database and corresponding biosphere.\n",
    "- As we will be working with Activity-Browser, we need to use BW2 (no BW2.5)"
   ]
  },
  {
   "cell_type": "code",
   "execution_count": 7,
   "id": "7b44ae46",
   "metadata": {
    "scrolled": true
   },
   "outputs": [],
   "source": [
    "bd.projects.set_current(\"winter-school\") #Creating/accessing your project."
   ]
  },
  {
   "cell_type": "code",
   "execution_count": null,
   "id": "13697cb6",
   "metadata": {},
   "outputs": [],
   "source": []
  },
  {
   "cell_type": "code",
   "execution_count": null,
   "id": "4b3f67bd",
   "metadata": {
    "scrolled": true
   },
   "outputs": [],
   "source": [
    "bd.databases"
   ]
  },
  {
   "cell_type": "markdown",
   "id": "976f9959",
   "metadata": {},
   "source": [
    "## 2. Import Excel database"
   ]
  },
  {
   "cell_type": "code",
   "execution_count": null,
   "id": "b7c0f8b2",
   "metadata": {},
   "outputs": [],
   "source": [
    "imp = bi.ExcelImporter(\"parametric_lca_v0.xlsx\")\n",
    "imp.apply_strategies()\n",
    "imp.match_database('ecoinvent-3.10-cutoff', fields=('name', 'unit', 'reference product', 'location'))\n",
    "imp.statistics()"
   ]
  },
  {
   "cell_type": "code",
   "execution_count": null,
   "id": "987e9444",
   "metadata": {},
   "outputs": [],
   "source": [
    "imp.write_database()"
   ]
  },
  {
   "cell_type": "markdown",
   "id": "1c38e9df-2aec-42fe-8920-d15d31089cea",
   "metadata": {},
   "source": [
    "## 3. Importing parameterized database"
   ]
  },
  {
   "cell_type": "markdown",
   "id": "16c9a52e-afc5-43a2-9505-4995345594a7",
   "metadata": {},
   "source": [
    "After building your new inventory on top of 'parametric_lca_v0.xlsx'"
   ]
  },
  {
   "cell_type": "markdown",
   "id": "81ba0935-ac41-4b05-83b0-1eeaa8bbf980",
   "metadata": {},
   "source": [
    "👓 The activity \"driving the EV\" gives a hint on how to adding parameters and formulas "
   ]
  },
  {
   "cell_type": "code",
   "execution_count": null,
   "id": "fa90d7f8-b8cd-481b-92e8-c72b3cbe604b",
   "metadata": {},
   "outputs": [],
   "source": [
    "imp = bi.ExcelImporter(\"parametric_lca_v1.xlsx\")\n",
    "imp.apply_strategies()\n",
    "imp.match_database('ecoinvent-3.10-cutoff', fields=('name', 'unit', 'reference product', 'location'))\n",
    "imp.statistics()"
   ]
  },
  {
   "cell_type": "markdown",
   "id": "945818dc-58b7-4743-a802-d516f2e7c830",
   "metadata": {},
   "source": [
    "---"
   ]
  },
  {
   "cell_type": "markdown",
   "id": "445b432e-0cc2-4ec3-9f80-b21e294110c4",
   "metadata": {},
   "source": [
    "#### ⚠️ **Unlinked exchanges?**"
   ]
  },
  {
   "cell_type": "markdown",
   "id": "4d16c024-a417-413c-9922-893ae21f1a60",
   "metadata": {},
   "source": [
    "Let's run:"
   ]
  },
  {
   "cell_type": "code",
   "execution_count": null,
   "id": "2314345a-be3b-48fb-a5d2-2ae53cfb74d3",
   "metadata": {},
   "outputs": [],
   "source": [
    "imp.write_excel()\n",
    "#imp.write_excel(only_unlinked=True)"
   ]
  },
  {
   "cell_type": "markdown",
   "id": "6860dc8e-8fa8-4e09-bd0b-921ae116b563",
   "metadata": {},
   "source": [
    "This usually a great help to spot what went wrong."
   ]
  },
  {
   "cell_type": "markdown",
   "id": "5c133e33-43c8-4892-a49f-765e78cee063",
   "metadata": {},
   "source": [
    "---"
   ]
  },
  {
   "cell_type": "markdown",
   "id": "dbc25e44-ed37-4682-8778-aec96b1a0b62",
   "metadata": {},
   "source": [
    "#### 🚨 The syntax changes a bit when we want to work with parameters"
   ]
  },
  {
   "cell_type": "code",
   "execution_count": 15,
   "id": "9830095e-914f-44ec-bd3e-b50592b61eba",
   "metadata": {},
   "outputs": [],
   "source": [
    "imp.write_project_parameters()"
   ]
  },
  {
   "cell_type": "code",
   "execution_count": null,
   "id": "4db5f1a4-04f3-49fb-b5c1-39308e4d21b2",
   "metadata": {},
   "outputs": [],
   "source": [
    "imp.write_database(activate_parameters=True)"
   ]
  },
  {
   "cell_type": "code",
   "execution_count": null,
   "id": "15506abc",
   "metadata": {},
   "outputs": [],
   "source": [
    "bd.databases"
   ]
  },
  {
   "cell_type": "code",
   "execution_count": null,
   "id": "6784ba4a",
   "metadata": {},
   "outputs": [],
   "source": []
  },
  {
   "cell_type": "code",
   "execution_count": null,
   "id": "980e7d9a",
   "metadata": {},
   "outputs": [],
   "source": []
  },
  {
   "cell_type": "code",
   "execution_count": null,
   "id": "c340e905",
   "metadata": {},
   "outputs": [],
   "source": [
    "imp = bi.ExcelImporter(r\"C:\\Users\\treyer_k\\Documents\\GitHub\\winter-school-psi-2025\\tutorials\\activity_browser\\exercises\\parametric_lca_v2.xlsx\")\n",
    "imp.apply_strategies()\n",
    "imp.match_database('ecoinvent-3.10-cutoff', fields=('name', 'unit', 'reference product', 'location'))\n",
    "imp.statistics()\n",
    "imp.write_excel()\n",
    "#imp.write_excel(only_unlinked=True)\n",
    "imp.write_project_parameters()\n",
    "imp.write_database(activate_parameters=True)"
   ]
  },
  {
   "cell_type": "markdown",
   "id": "06f831d0-20f9-449b-a0bc-11666b6cec85",
   "metadata": {},
   "source": [
    "----"
   ]
  },
  {
   "cell_type": "markdown",
   "id": "e7e04774-8de9-4d7d-9a7b-ca84ca850a5b",
   "metadata": {},
   "source": [
    "### **Time to continue the analysis on AB!**"
   ]
  }
 ],
 "metadata": {
  "kernelspec": {
   "display_name": "bw2",
   "language": "python",
   "name": "python3"
  },
  "language_info": {
   "codemirror_mode": {
    "name": "ipython",
    "version": 3
   },
   "file_extension": ".py",
   "mimetype": "text/x-python",
   "name": "python",
   "nbconvert_exporter": "python",
   "pygments_lexer": "ipython3",
   "version": "3.11.11"
  }
 },
 "nbformat": 4,
 "nbformat_minor": 5
}
