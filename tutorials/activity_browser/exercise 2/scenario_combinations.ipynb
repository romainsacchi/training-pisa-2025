{
 "cells": [
  {
   "cell_type": "code",
   "id": "ca0b4edb",
   "metadata": {
    "ExecuteTime": {
     "end_time": "2025-04-21T15:06:03.497284Z",
     "start_time": "2025-04-21T15:06:01.263892Z"
    }
   },
   "source": [
    "import bw2io as bi\n",
    "import bw2data as bd\n",
    "import bw2calc as bc"
   ],
   "outputs": [],
   "execution_count": 1
  },
  {
   "cell_type": "markdown",
   "id": "d3f444eb-c0bc-4bf1-8dab-554ae59fca14",
   "metadata": {},
   "source": [
    "## This notebook"
   ]
  },
  {
   "cell_type": "markdown",
   "id": "2164ed63-2caf-41fe-afe9-b3894e2044c0",
   "metadata": {},
   "source": [
    "The objective of this notebook is to demonstrate how to work with scenario parameters in Activity-Browser.\n",
    "\n",
    "- Author (and contact):\n",
    "    - Romain Sacchi (romain.sacchi@psi.ch)\n"
   ]
  },
  {
   "cell_type": "markdown",
   "id": "b0a2fe4e-49c6-4733-9c7d-247669ff75d4",
   "metadata": {},
   "source": "## Assigment I"
  },
  {
   "cell_type": "markdown",
   "id": "6dfdf3cb-2132-4861-b356-6cbf168c7d5b",
   "metadata": {},
   "source": [
    "We would like to assess the ranking of the different vehicles when using specific parameters' values. Hence, create a `worst` and `best` scenario for the following parameters:\n",
    "\n",
    "1. **Electricity consumption of EV**: 13 kWh/km and 25 kWh/km\n",
    "2. **Battery size**: 40 kWh and 80 kWh\n",
    "3. **Energy cell density**: 0.2 kWh/kg and 0.3 kWh/kg\n",
    "4. **Share of balance of plant**: 0.1 and 0.4\n",
    "5. **Hydrogen tank gravimetric density**: 0.025 and 0.1\n",
    "6. **Hydrogen consumption**: 0.8 and 1.5 kg H2/100 km\n",
    "7. **Hydrogen electrolysis share**: 5 and 25%\n",
    "8. **Gasoline consumption**: 4 and 8 liters/100 km\n",
    "8. **Urban driving**: 0 and 1\n",
    "9. **Biofuel fraction**: 1 and 10% of the blend\n",
    "\n",
    "- Create an Excel scenario file with parameters along rows and scenario names along columns, and corresponding values in the cells. To create such table, go to `Parameters` --> `Scenarios` --> `Export parameter scenario`.\n",
    "- Load this Excel file under `LCA Setup` --> `Scenario LCA` --> `Add scenairos`.\n"
   ]
  },
  {
   "metadata": {},
   "cell_type": "markdown",
   "source": "## Assigment II\n",
   "id": "2132456056ceecd"
  },
  {
   "metadata": {},
   "cell_type": "markdown",
   "source": [
    "We would like to assess the sensitivity of the two electric vehicle options with respect to electricity mixes. Create another scenario table, where you try different sources of electricity (e.g., solar PV, onshore wind, offshore wind, nuclear, coal, gas).\n",
    "\n",
    "You can create the following project-level parameters:\n",
    "\n",
    "* switch_grid\n",
    "* switch_solar_pv\n",
    "* switch_solar_csp\n",
    "* switch_wind_onshore\n",
    "* switch_wind_offshore\n",
    "* switch_geothermal\n",
    "\n",
    "And use them in the battery electric and fuel cell electric vehicle datasets."
   ],
   "id": "868f35ee1591e173"
  },
  {
   "metadata": {},
   "cell_type": "markdown",
   "source": "## Assigment III",
   "id": "f082a6d1e086e568"
  },
  {
   "metadata": {},
   "cell_type": "markdown",
   "source": "Now, we would like to combine the `worst`and `best` scenarios with the electricity mix scenarios. To do so, you can use the `combine` function from `LCA Setup` --> `Scenario LCA`. It allows you to combine several different scenario tables.",
   "id": "e5a49bd5acc25264"
  },
  {
   "metadata": {},
   "cell_type": "code",
   "outputs": [],
   "execution_count": null,
   "source": "",
   "id": "c86a77b6f4887691"
  }
 ],
 "metadata": {
  "kernelspec": {
   "display_name": "Python 3 (ipykernel)",
   "language": "python",
   "name": "python3"
  },
  "language_info": {
   "codemirror_mode": {
    "name": "ipython",
    "version": 3
   },
   "file_extension": ".py",
   "mimetype": "text/x-python",
   "name": "python",
   "nbconvert_exporter": "python",
   "pygments_lexer": "ipython3",
   "version": "3.11.12"
  }
 },
 "nbformat": 4,
 "nbformat_minor": 5
}
