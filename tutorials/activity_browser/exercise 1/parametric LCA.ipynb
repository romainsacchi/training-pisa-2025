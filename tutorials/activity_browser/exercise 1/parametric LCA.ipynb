{
 "cells": [
  {
   "cell_type": "code",
   "id": "ca0b4edb",
   "metadata": {
    "ExecuteTime": {
     "end_time": "2025-04-21T15:06:03.497284Z",
     "start_time": "2025-04-21T15:06:01.263892Z"
    }
   },
   "source": [
    "import bw2io as bi\n",
    "import bw2data as bd\n",
    "import bw2calc as bc"
   ],
   "outputs": [],
   "execution_count": 1
  },
  {
   "cell_type": "markdown",
   "id": "d3f444eb-c0bc-4bf1-8dab-554ae59fca14",
   "metadata": {},
   "source": [
    "## This notebook"
   ]
  },
  {
   "cell_type": "markdown",
   "id": "2164ed63-2caf-41fe-afe9-b3894e2044c0",
   "metadata": {},
   "source": [
    "The objective of this notebook is to demonstrate how to work with parameters and Monte Carlo on Activity-Browser.\n",
    "\n",
    "- Author (and contact):\n",
    "    - Alvaro Hahn Menacho (alvaro.hahn-menacho@psi.ch)\n",
    "    - Romain Sacchi (romain.sacchi@psi.ch)\n"
   ]
  },
  {
   "cell_type": "markdown",
   "id": "b0a2fe4e-49c6-4733-9c7d-247669ff75d4",
   "metadata": {},
   "source": [
    "## Assigment"
   ]
  },
  {
   "cell_type": "markdown",
   "id": "6dfdf3cb-2132-4861-b356-6cbf168c7d5b",
   "metadata": {},
   "source": [
    "Congrats! You’ve just been hired as a life cycle assessment (LCA) expert at an innovative company that values both data transparency and open-source software. Your team is revisiting an old life cycle inventory (LCI) comparing the impacts of driving an electric vehicle (EV), a gasoline vehicle, and a hydrogen vehicle, particularly in terms of **Global Warming Potential (GWP)** and **particulate matter formation impacts on human health**.\n",
    "\n",
    "However, this LCI has been considered unsuitable for decision-making due to its deterministic assumptions. Your role is to address these concerns by creating a more flexible, data-driven LCA model that allows for sensitivity analysis and deeper insight into key impact factors. During a team meeting, your colleagues raised the following points:"
   ]
  },
  {
   "cell_type": "markdown",
   "id": "64d5ae89-83d4-448f-b125-ee7d777d485f",
   "metadata": {},
   "source": [
    "1. **Energy Consumption of Electric Vehicles:** One colleague pointed out that the stated consumption of around 20 kWh per 100 km for the EV might not be accurate across all cases. They emphasized the importance of reflecting varying data and assumptions in your model. Also, they stress the importance of test the sensitivity of results on different battery capacities and cell energy densities.\n",
    "\n",
    "2. **Hydrogen fuel tank gravimetric density**: Another team member mentioned that the gravimetric density of hydrogen fuel tanks improved rapidly these past few years. Currently, the model assumes a gravimetric density index of 0.05, but they suggested that this value should be updated to reflect the latest advancements in hydrogen storage technology.\n",
    "\n",
    "3. **Hydrogen blend**: You've seen some statistics recently showing that only 10% of the hydrogen consumed originate electrolysis. You need to create a corresponding parameter to represent this in the model.\n",
    "\n",
    "3. **Specific Diesel Vehicle Data:** Another colleague noted that diesel vehicles can vary significantly in fuel consumption, and the LCA should account for differences between high and low-consuming ICEVs. Also, a notable blend share of ethanol should be represented (approximately 5%), which is not the case currently.\n",
    "\n",
    "4. **Urban vs. Non-Urban Driving Conditions:** Team members highlighted that the human health impacts of gasoline vehicle emissions vary significantly between urban and non-urban settings. They are interested in understanding how these different driving environments influence the assessment results.\n",
    "\n",
    "5. **Linking Emissions to Gasoline Consumption:** There was a particular interest in tracking specific emissions linked to gasoline consumption, especially $\\text{CO}_{2}$, $\\text{N}_{2}{O}$ and $\\text{PM}_{2.5}$. The team wants to understand how assumptions about these emissions influence the overall impact assessment."
   ]
  },
  {
   "cell_type": "markdown",
   "id": "ba3aeaa3-90f7-4c66-95b2-3c6b29b81219",
   "metadata": {},
   "source": [
    "| Parameter                   | Unit                | Distribution | Loc    | Scale | Shape | Minimum | Maximum |\n",
    "|-----------------------------|---------------------|--------------|--------|-------|-------|---------|---------|\n",
    "| electricity_consumption     | kWh/km              | Normal       | 0.15   | 0.03  |       |         |         |\n",
    "| battery_size                | kWh                 | Triangular   | 48     |       |       | 40      | 80      |\n",
    "| energy_cell_density         | kWh/kg cell         | Triangular   | 0.25   |       |       | 0.2     | 0.3     |\n",
    "| share_BoP                   | fraction            | Uniform      | 0.3    |       |       | 0.1     | 0.4     |\n",
    "| share_BoP                   | fraction            | Uniform      | 0.3    |       |       | 0.1     | 0.4     |\n",
    "| h2_tank_gravimetric_density | fraction            | Triangular   | 0.05   |       || 0.025   | 0.1     |\n",
    "| h2_consumption              | kg H2/100 km        | Triangular   | 0.0115 |       || 0.008   | 0.015   |\n",
    "| h2_electrolysis_share       | kg H2/kg H2         | Uniform      | 0.1    |       || 0.05    | 0.25    |\n",
    "| gasoline_consumption        | L/100 km            | Normal       | 6.0    | 2.0   ||     |     |\n",
    "| urban_driving               | fraction            | Uniform      |        |       |       | 0       | 1       |\n",
    "| co2_gasoline                | kg_co2/kg_gasoline  | Weibull      | 3      | 3.16  | 2     |         |         |\n",
    "| n2o_gasoline                | kg_n2o/kg_gasoline  | Lognormal    | -7     | 0.05  |       |         |         |\n",
    "| pm25_gasoline               | kg_pm25/kg_gasoline | Triangular   | 0.0015 |       |       | 0.0005  | 0.003   |\n",
    "| biofuel_fraction            | fraction            | Uniform      | 0.05   |       |       | 0.01    | 0.1     |\n"
   ]
  },
  {
   "cell_type": "markdown",
   "id": "850d8aa4-5572-4eb4-a2e7-442cbc19bdd9",
   "metadata": {},
   "source": [
    "Documentation for uncertain parameters and classes for Monte Carlo sampling in BW2: https://stats-arrays.readthedocs.io/en/latest/"
   ]
  },
  {
   "cell_type": "markdown",
   "id": "4904ab7d",
   "metadata": {},
   "source": [
    "## 1. Set project"
   ]
  },
  {
   "cell_type": "markdown",
   "id": "62285c39-8648-44a7-8d35-bcd507e986c6",
   "metadata": {},
   "source": [
    "- This assigment requires a project with an existing ecoinvent database and corresponding biosphere. We can use ``training-day`` for this purpose.\n",
    "- We want to import in `activity-browser` the passenger cars database contained in `lci-passenger-cars.xlsx`."
   ]
  },
  {
   "cell_type": "markdown",
   "id": "976f9959",
   "metadata": {},
   "source": [
    "## 2. Import Excel database"
   ]
  },
  {
   "metadata": {},
   "cell_type": "markdown",
   "source": "We could also use direct the brightway module `bw2io` to import the database. It is sometimes easier to debug the import process using `bw2io` directly.",
   "id": "6e6a2233ef1d21e"
  },
  {
   "metadata": {},
   "cell_type": "code",
   "outputs": [],
   "execution_count": null,
   "source": [
    "imp = bi.ExcelImporter(\"lci-passenger-cars.xlsx\")\n",
    "imp.apply_strategies()\n",
    "imp.match_database('ecoinvent-3.10-cutoff', fields=('name', 'unit', 'reference product', 'location'))\n",
    "imp.statistics()"
   ],
   "id": "b7c0f8b2"
  },
  {
   "metadata": {},
   "cell_type": "code",
   "outputs": [],
   "execution_count": null,
   "source": "imp.write_database()",
   "id": "987e9444"
  },
  {
   "cell_type": "markdown",
   "id": "1c38e9df-2aec-42fe-8920-d15d31089cea",
   "metadata": {},
   "source": [
    "## 3. Importing parameterized database"
   ]
  },
  {
   "cell_type": "markdown",
   "id": "16c9a52e-afc5-43a2-9505-4995345594a7",
   "metadata": {},
   "source": "After building your new inventory on top of 'lci-passenger-cars.xlsx'"
  },
  {
   "cell_type": "markdown",
   "id": "81ba0935-ac41-4b05-83b0-1eeaa8bbf980",
   "metadata": {},
   "source": [
    "👓 The activity \"driving the EV\" gives a hint on how to add parameters and formulas"
   ]
  },
  {
   "metadata": {
    "ExecuteTime": {
     "end_time": "2025-04-21T19:28:56.176137Z",
     "start_time": "2025-04-21T19:28:56.147250Z"
    }
   },
   "cell_type": "code",
   "source": "bd.projects.set_current(\"pisa-day\")",
   "id": "c90254079c84d18d",
   "outputs": [],
   "execution_count": 73
  },
  {
   "metadata": {
    "ExecuteTime": {
     "end_time": "2025-04-21T19:27:14.074068Z",
     "start_time": "2025-04-21T19:27:09.288790Z"
    }
   },
   "cell_type": "code",
   "source": "bi.create_core_migrations()",
   "id": "c34a107c2ebcd1d0",
   "outputs": [],
   "execution_count": 68
  },
  {
   "cell_type": "code",
   "id": "fa90d7f8-b8cd-481b-92e8-c72b3cbe604b",
   "metadata": {
    "ExecuteTime": {
     "end_time": "2025-04-21T19:29:14.277917Z",
     "start_time": "2025-04-21T19:29:10.868624Z"
    }
   },
   "source": [
    "imp = bi.ExcelImporter(\"solution/lci-passenger-cars_v2.xlsx\")\n",
    "imp.apply_strategies()\n",
    "imp.match_database('ecoinvent-3.10.1-cutoff', fields=('name', 'unit', 'reference product', 'location'))\n",
    "imp.match_database('lci-fuel-cell', fields=('name', 'unit', 'reference product', 'location'))\n",
    "imp.match_database('lci-h2-tank', fields=('name', 'unit', 'reference product', 'location'))\n",
    "imp.match_database('lci-hydrogen-electrolysis', fields=('name', 'unit', 'reference product', 'location'))\n",
    "imp.statistics()"
   ],
   "outputs": [
    {
     "name": "stdout",
     "output_type": "stream",
     "text": [
      "Extracted 1 worksheets in 0.02 seconds\n",
      "Applying strategy: csv_restore_tuples\n",
      "Applying strategy: csv_restore_booleans\n",
      "Applying strategy: csv_numerize\n",
      "Applying strategy: csv_drop_unknown\n",
      "Applying strategy: csv_add_missing_exchanges_section\n",
      "Applying strategy: normalize_units\n",
      "Applying strategy: normalize_biosphere_categories\n",
      "Applying strategy: normalize_biosphere_names\n",
      "Applying strategy: strip_biosphere_exc_locations\n",
      "Applying strategy: set_code_by_activity_hash\n",
      "Applying strategy: link_iterable_by_fields\n",
      "Applying strategy: assign_only_product_as_production\n",
      "Applying strategy: link_technosphere_by_activity_hash\n",
      "Applying strategy: drop_falsey_uncertainty_fields_but_keep_zeros\n",
      "Applying strategy: convert_uncertainty_types_to_integers\n",
      "Applying strategy: convert_activity_parameters_to_list\n",
      "Applied 16 strategies in 2.50 seconds\n",
      "Applying strategy: link_iterable_by_fields\n",
      "Applying strategy: link_iterable_by_fields\n",
      "Applying strategy: link_iterable_by_fields\n",
      "Applying strategy: link_iterable_by_fields\n",
      "6 datasets\n",
      "110 exchanges\n",
      "0 unlinked exchanges\n",
      "  \n"
     ]
    },
    {
     "data": {
      "text/plain": [
       "(6, 110, 0)"
      ]
     },
     "execution_count": 75,
     "metadata": {},
     "output_type": "execute_result"
    }
   ],
   "execution_count": 75
  },
  {
   "cell_type": "markdown",
   "id": "945818dc-58b7-4743-a802-d516f2e7c830",
   "metadata": {},
   "source": [
    "---"
   ]
  },
  {
   "cell_type": "markdown",
   "id": "445b432e-0cc2-4ec3-9f80-b21e294110c4",
   "metadata": {},
   "source": [
    "#### ⚠️ **Unlinked exchanges?**"
   ]
  },
  {
   "cell_type": "markdown",
   "id": "4d16c024-a417-413c-9922-893ae21f1a60",
   "metadata": {},
   "source": "If so, let's run to get a list of unlinked exchanges in an Excel file:"
  },
  {
   "metadata": {
    "ExecuteTime": {
     "end_time": "2025-04-21T17:15:33.833739Z",
     "start_time": "2025-04-21T17:15:33.815245Z"
    }
   },
   "cell_type": "code",
   "source": [
    "#imp.write_excel()\n",
    "#imp.write_excel(only_unlinked=True)"
   ],
   "id": "ad3729dc305752ff",
   "outputs": [
    {
     "name": "stdout",
     "output_type": "stream",
     "text": [
      "Wrote matching file to:\n",
      "/Users/romain/Library/Application Support/Brightway3/pisa-day.38ea06373c2e801a3ec7d2103a700283/output/db-matching-lci-passenger-cars-v2.xlsx\n"
     ]
    }
   ],
   "execution_count": 49
  },
  {
   "cell_type": "markdown",
   "id": "6860dc8e-8fa8-4e09-bd0b-921ae116b563",
   "metadata": {},
   "source": [
    "This usually a great help to spot what went wrong."
   ]
  },
  {
   "cell_type": "markdown",
   "id": "5c133e33-43c8-4892-a49f-765e78cee063",
   "metadata": {},
   "source": [
    "---"
   ]
  },
  {
   "cell_type": "markdown",
   "id": "dbc25e44-ed37-4682-8778-aec96b1a0b62",
   "metadata": {},
   "source": [
    "#### 🚨 The syntax changes a bit when we want to work with parameters"
   ]
  },
  {
   "cell_type": "code",
   "id": "4db5f1a4-04f3-49fb-b5c1-39308e4d21b2",
   "metadata": {
    "ExecuteTime": {
     "end_time": "2025-04-21T19:29:24.283338Z",
     "start_time": "2025-04-21T19:29:24.155577Z"
    }
   },
   "source": [
    "if \"lci-passenger-cars-v2\" in bd.databases:\n",
    "    del bd.databases[\"lci-passenger-cars-v2\"]\n",
    "\n",
    "imp.write_project_parameters()\n",
    "imp.write_database(activate_parameters=True)"
   ],
   "outputs": [
    {
     "name": "stdout",
     "output_type": "stream",
     "text": [
      "Warning: No valid output stream.\n",
      "Title: Writing activities to SQLite3 database:\n",
      "  Started: 04/21/2025 21:29:24\n",
      "  Finished: 04/21/2025 21:29:24\n",
      "  Total time elapsed: 00:00:00\n",
      "  CPU %: 97.20\n",
      "  Memory %: 2.74\n",
      "Created database: lci-passenger-cars-v2\n"
     ]
    }
   ],
   "execution_count": 76
  },
  {
   "cell_type": "code",
   "execution_count": null,
   "id": "15506abc",
   "metadata": {},
   "outputs": [],
   "source": [
    "bd.databases"
   ]
  },
  {
   "cell_type": "markdown",
   "id": "e7e04774-8de9-4d7d-9a7b-ca84ca850a5b",
   "metadata": {},
   "source": [
    "### **Time to continue the analysis on AB!**"
   ]
  },
  {
   "cell_type": "markdown",
   "id": "208667f9-1eee-47f9-a7c0-1922e9189587",
   "metadata": {},
   "source": [
    "--------------------"
   ]
  },
  {
   "cell_type": "markdown",
   "id": "06f831d0-20f9-449b-a0bc-11666b6cec85",
   "metadata": {},
   "source": [
    "----"
   ]
  }
 ],
 "metadata": {
  "kernelspec": {
   "display_name": "Python 3 (ipykernel)",
   "language": "python",
   "name": "python3"
  },
  "language_info": {
   "codemirror_mode": {
    "name": "ipython",
    "version": 3
   },
   "file_extension": ".py",
   "mimetype": "text/x-python",
   "name": "python",
   "nbconvert_exporter": "python",
   "pygments_lexer": "ipython3",
   "version": "3.11.12"
  }
 },
 "nbformat": 4,
 "nbformat_minor": 5
}
